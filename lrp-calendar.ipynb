{
 "cells": [
  {
   "cell_type": "markdown",
   "id": "dc065ac2",
   "metadata": {
    "toc": true
   },
   "source": [
    "<h1>Table of Contents<span class=\"tocSkip\"></span></h1>\n",
    "<div class=\"toc\"><ul class=\"toc-item\"><li><span><a href=\"#Parse-program-info-and-visit-timeline-webpages\" data-toc-modified-id=\"Parse-program-info-and-visit-timeline-webpages-1\"><span class=\"toc-item-num\">1&nbsp;&nbsp;</span>Parse program info and visit timeline webpages</a></span></li></ul></div>"
   ]
  },
  {
   "cell_type": "markdown",
   "id": "f28e4b83",
   "metadata": {},
   "source": [
    "# Parse program info and visit timeline webpages\n",
    "\n"
   ]
  },
  {
   "cell_type": "code",
   "execution_count": 1,
   "id": "2d3a3f21",
   "metadata": {},
   "outputs": [],
   "source": [
    "import os\n",
    "import numpy as np\n",
    "import matplotlib.pyplot as plt\n",
    "import requests"
   ]
  },
  {
   "cell_type": "code",
   "execution_count": 2,
   "id": "8bc8b17d",
   "metadata": {},
   "outputs": [],
   "source": [
    "# https://stackoverflow.com/questions/24124643/parse-xml-from-url-into-python-object\n",
    "import traceback\n",
    "import urllib3\n",
    "import xmltodict\n",
    "\n",
    "def getxml(url=\"https://yoursite/your.xml\"):\n",
    "    http = urllib3.PoolManager()\n",
    "\n",
    "    response = http.request('GET', url)\n",
    "    try:\n",
    "        data = xmltodict.parse(response.data)\n",
    "    except:\n",
    "        print(\"Failed to parse xml from response (%s)\" % traceback.format_exc())\n",
    "        data = {}\n",
    "        \n",
    "    return data\n",
    "\n",
    "def visit_xml(proposal_id=1324):\n",
    "    url = f\"https://www.stsci.edu/cgi-bin/get-visit-status?id={proposal_id}&markupFormat=xml&observatory=JWST\"\n",
    "    data = getxml(url=url)\n",
    "    if 'visitStatusReport' in data:\n",
    "        data = data['visitStatusReport']\n",
    "        \n",
    "    return data\n",
    "\n",
    "def prop_html(proposal_id=1324):\n",
    "    from bs4 import BeautifulSoup\n",
    "    vgm_url = f\"https://www.stsci.edu/cgi-bin/get-proposal-info?id={proposal_id}&observatory=JWST\"\n",
    "    html_text = requests.get(vgm_url).text\n",
    "    soup = BeautifulSoup(html_text, 'html.parser')\n",
    "    return soup\n",
    "\n",
    "def program_info(proposal_id=1324):\n",
    "    \n",
    "    soup = prop_html(proposal_id=proposal_id)\n",
    "    meta = {'proposal_id':proposal_id}\n",
    "    meta['raw'] = soup\n",
    "    \n",
    "    if 1:\n",
    "        ps = soup.findAll('p')\n",
    "        meta['pi'] = ps[0].contents[1].strip()\n",
    "        meta['title'] = ps[1].contents[1].strip()\n",
    "        meta['cycle'] = int(ps[1].contents[5].strip())\n",
    "        meta['allocation'] = float(ps[1].contents[9].strip().split()[0])\n",
    "        meta['proptime'] = float(ps[1].contents[-1].strip().split()[0])\n",
    "        meta['type'] = soup.findAll('h1')[0].contents[1].contents[0]\n",
    "    else:\n",
    "        meta['pi'] = 'x'\n",
    "        meta['title'] = 'x'\n",
    "        meta['cycle'] = 0\n",
    "        meta['allocation'] = 0\n",
    "        meta['proptime'] = 0.\n",
    "        meta['type'] = 'x'\n",
    "        \n",
    "    visits = visit_xml(proposal_id)\n",
    "    #for k in ['visit']: #visits:\n",
    "    #    meta[k] = visits[k]\n",
    "    if isinstance(visits['visit'], list):\n",
    "        meta['visit'] = visits['visit']\n",
    "    else:\n",
    "        meta['visit'] = [visits['visit']]\n",
    "        \n",
    "    return meta\n",
    "\n",
    "    #return soup\n",
    "\n",
    "#visit = visit_xml(proposal_id=1324)\n",
    "meta = program_info(proposal_id=1567)"
   ]
  },
  {
   "cell_type": "code",
   "execution_count": 8,
   "id": "7b58888d",
   "metadata": {},
   "outputs": [],
   "source": [
    "from grizli import utils\n",
    "import astropy.units as u\n",
    "import astropy.time\n",
    "\n",
    "def show_window(v, meta):\n",
    "    \n",
    "    row = [meta[k] for k in ['type','proposal_id','title', 'pi', 'cycle', 'allocation', 'proptime']]\n",
    "    row += [v[k] for k in ['@observation', '@visit', 'target', 'configuration', 'hours']]\n",
    "\n",
    "    if 'planWindow' not in v:\n",
    "        row.extend(['2029-01-01','-','-'])\n",
    "        return row, None\n",
    "        \n",
    "    w = v['planWindow']\n",
    "\n",
    "    if '(2' in w:\n",
    "        dates = ('2'+w.split('(2')[1].strip()).strip(')').split(' - ')\n",
    "    else:\n",
    "        row.extend(['2029-01-01','-','-'])\n",
    "        return row, None\n",
    "    \n",
    "    inst = v['configuration'].strip().split()[0].lower()\n",
    "\n",
    "    colors = {'niriss':utils.MPL_COLORS['b'], \n",
    "              'nirspec':utils.MPL_COLORS['orange'], \n",
    "              'miri':utils.MPL_COLORS['r'],\n",
    "              'nircam':utils.MPL_COLORS['g']}\n",
    "    \n",
    "    if inst not in colors:\n",
    "        colors[inst] = '0.5'\n",
    "        \n",
    "    fig, ax = plt.subplots(1,1,figsize=(8,0.4))\n",
    "\n",
    "    wlim = astropy.time.Time(['2022:150','2024:300'], format='yday')\n",
    "    # ax.plot_date(wlim.plot_date, [0,0], color='w', lw=5, linestyle='-')\n",
    "\n",
    "    wdate = astropy.time.Time([d.replace('.',':') for d in dates], format='yday')\n",
    "    ax.plot_date(wdate.plot_date, [0,0], color=colors[inst], lw=2, fmt='s-')\n",
    "\n",
    "    prop = meta['proptime']\n",
    "    #prop = 6\n",
    "\n",
    "    if prop > 0:\n",
    "        pub = wdate + prop/12.*u.year\n",
    "        ax.plot_date(wdate.plot_date, [0,0], fmt='o', zorder=100, color='w', markersize=4)\n",
    "        ax.plot_date(pub.plot_date, [0,0], color=colors[inst], lw=2, linestyle=':', fmt='s-', \n",
    "                     alpha=0.5)\n",
    "\n",
    "    wgrid = astropy.time.Time(['2022-07-01', '2022-10-01', \n",
    "                               '2023-01-01', '2023-04-01', '2023-07-01', '2023-10-01', \n",
    "                               '2024-01-01', '2024-04-01', '2024-07-01', '2024-10-01'])\n",
    "\n",
    "    ax.vlines(wgrid.plot_date[[2,6]], -1, 1, color='k', alpha=0.2)\n",
    "    ax.set_ylim(-0.2, 0.2)\n",
    "    #ax.axis('off')\n",
    "\n",
    "    #ax.spines['right'].set_visible(False)\n",
    "    ax.spines['top'].set_visible(False)\n",
    "    ax.spines['bottom'].set_visible(False)\n",
    "    #ax.spines['left'].set_visible(False)\n",
    "\n",
    "    ax.set_xticks(wgrid.plot_date)\n",
    "    ax.set_xlim(*wlim.plot_date)\n",
    "\n",
    "    ax.tick_params(length=0, which='both')\n",
    "\n",
    "    ax.get_yaxis().set_visible(False)\n",
    "\n",
    "    ax.set_xticklabels([])\n",
    "    ax.set_yticklabels([])\n",
    "\n",
    "    ax.grid()\n",
    "    \n",
    "    iso = [w.iso.split()[0] for w in wdate]\n",
    "    # dates, meta['visit'][0], meta\n",
    "\n",
    "    row += iso\n",
    "\n",
    "    timeline = f\"jwst_{meta['proposal_id']}_{v['@observation']}_{v['@visit']}\"\n",
    "    \n",
    "    row.append(f'<img src=\"{timeline}.png\" />')\n",
    "    \n",
    "    fig.savefig(timeline+'.png')\n",
    "\n",
    "    return row, fig"
   ]
  },
  {
   "cell_type": "code",
   "execution_count": 9,
   "id": "75fd2c28",
   "metadata": {},
   "outputs": [],
   "source": [
    "progs = [1837, # primer\n",
    "         1345, # ceers\n",
    "         1433, # coe\n",
    "         1727, # cosmos\n",
    "         2079, # ngdeep\n",
    "         2426, # bagley\n",
    "         2659, # beasts bubbles\n",
    "         2561, # uncover\n",
    "         1914, # aurora\n",
    "         1895, # fresco\n",
    "         1567, # seiji\n",
    "         1324, # glass\n",
    "         1208, # canucs\n",
    "         1180, # eisenstein, gs1\n",
    "         1286, # gs2\n",
    "         1287, # gs3\n",
    "         1181, # gn1\n",
    "         1210, # ferruit\n",
    "         1211, # ferruit NRS GTO\n",
    "         1213, \n",
    "         1214, \n",
    "         1215, \n",
    "         1216,\n",
    "         1217, \n",
    "         1262, \n",
    "         1263, # colina\n",
    "         1284, # colina 2\n",
    "         1264, # colina 3\n",
    "         1283, # miri udf\n",
    "         1243, # lilly\n",
    "         1176, # windhorst\n",
    "         1207, # rieke\n",
    "         2282, # earendel\n",
    "         1869, # LyC22\n",
    "         1626, # stefanon\n",
    "         1657, # harikane\n",
    "         1671, # maseda\n",
    "         1740, # harikane 2\n",
    "         1747, # roberts-borsani\n",
    "         1758, # finkelstein\n",
    "         1791, # spilker\n",
    "         1810, # belli\n",
    "         1933, # mathee\n",
    "         1963, # williams udf\n",
    "         2110, # kriek\n",
    "         2136, # tucker\n",
    "         2279, # naidu\n",
    "         2285, # carnall\n",
    "         2345, # newman\n",
    "         2362, # marsan\n",
    "         2478, # stark\n",
    "         2484, # mirka\n",
    "         2516, # hodge\n",
    "         2555, # sunburst\n",
    "         2565, # glazebrook, \n",
    "         1908, # vanzella\n",
    "         1764, # fan agn\n",
    "         1964, # overzier\n",
    "         1328, # armus\n",
    "         1355, # rigby\n",
    "         1199, # stiavelli\n",
    "         2123, # kassin\n",
    "         2130, # lee\n",
    "         2198, # barrufet\n",
    "         2234, # banados\n",
    "         2321, # best\n",
    "         2566, \n",
    "         2674,\n",
    "         1871,\n",
    "         2078, \n",
    "         1678, # ashby\n",
    "         2107, \n",
    "         1717, \n",
    "         1554,\n",
    "         2593, # strom\n",
    "        ]"
   ]
  },
  {
   "cell_type": "code",
   "execution_count": 10,
   "id": "5ba8cc5f",
   "metadata": {},
   "outputs": [
    {
     "data": {
      "text/plain": [
       "419"
      ]
     },
     "execution_count": 10,
     "metadata": {},
     "output_type": "execute_result"
    }
   ],
   "source": [
    "from bs4 import BeautifulSoup\n",
    "import requests\n",
    "\n",
    "progs = []\n",
    "\n",
    "for url in [\"https://www.stsci.edu/jwst/science-execution/approved-ers-programs\", \n",
    "            \"https://www.stsci.edu/jwst/science-execution/approved-programs/cycle-1-gto\", \n",
    "            \"https://www.stsci.edu/jwst/science-execution/approved-programs/cycle-1-go\"]:\n",
    "    \n",
    "    html_text = requests.get(url).text\n",
    "    soup = BeautifulSoup(html_text, 'html.parser')\n",
    "    tabs = soup.findAll('tbody')\n",
    "    for tab in tabs:\n",
    "        for link in tab.findAll('a'):\n",
    "            try:\n",
    "                prop = int(link.getText())\n",
    "                progs.append(prop)\n",
    "            except:\n",
    "                continue\n",
    "\n",
    "len(progs)"
   ]
  },
  {
   "cell_type": "code",
   "execution_count": 11,
   "id": "0a915448",
   "metadata": {},
   "outputs": [],
   "source": [
    "rows = []\n",
    "done = []\n",
    "failed = []\n",
    "\n",
    "len(progs)\n",
    "res = {}"
   ]
  },
  {
   "cell_type": "code",
   "execution_count": 12,
   "id": "117a9031",
   "metadata": {},
   "outputs": [
    {
     "name": "stdout",
     "output_type": "stream",
     "text": [
      "0 1324\n",
      "1 1328\n",
      "2 1345\n",
      "3 1355\n",
      "4 1335\n",
      "5 1364\n",
      "6 1366\n",
      "7 1386\n",
      "8 1373\n",
      "9 1288\n",
      "10 1309\n",
      "11 1349\n",
      "12 1334\n",
      "13 1189\n"
     ]
    },
    {
     "name": "stderr",
     "output_type": "stream",
     "text": [
      "/Users/gbrammer/miniconda3/envs/grizli37/lib/python3.7/site-packages/ipykernel_launcher.py:47: UserWarning: linestyle is redundantly defined by the 'linestyle' keyword argument and the fmt string \"s-\" (-> linestyle='-'). The keyword argument will take precedence.\n",
      "/Users/gbrammer/miniconda3/envs/grizli37/lib/python3.7/site-packages/ipykernel_launcher.py:47: UserWarning: linestyle is redundantly defined by the 'linestyle' keyword argument and the fmt string \"s-\" (-> linestyle='-'). The keyword argument will take precedence.\n",
      "/Users/gbrammer/miniconda3/envs/grizli37/lib/python3.7/site-packages/ipykernel_launcher.py:47: UserWarning: linestyle is redundantly defined by the 'linestyle' keyword argument and the fmt string \"s-\" (-> linestyle='-'). The keyword argument will take precedence.\n",
      "/Users/gbrammer/miniconda3/envs/grizli37/lib/python3.7/site-packages/ipykernel_launcher.py:47: UserWarning: linestyle is redundantly defined by the 'linestyle' keyword argument and the fmt string \"s-\" (-> linestyle='-'). The keyword argument will take precedence.\n",
      "/Users/gbrammer/miniconda3/envs/grizli37/lib/python3.7/site-packages/ipykernel_launcher.py:47: UserWarning: linestyle is redundantly defined by the 'linestyle' keyword argument and the fmt string \"s-\" (-> linestyle='-'). The keyword argument will take precedence.\n",
      "/Users/gbrammer/miniconda3/envs/grizli37/lib/python3.7/site-packages/ipykernel_launcher.py:47: UserWarning: linestyle is redundantly defined by the 'linestyle' keyword argument and the fmt string \"s-\" (-> linestyle='-'). The keyword argument will take precedence.\n",
      "/Users/gbrammer/miniconda3/envs/grizli37/lib/python3.7/site-packages/ipykernel_launcher.py:47: UserWarning: linestyle is redundantly defined by the 'linestyle' keyword argument and the fmt string \"s-\" (-> linestyle='-'). The keyword argument will take precedence.\n",
      "/Users/gbrammer/miniconda3/envs/grizli37/lib/python3.7/site-packages/ipykernel_launcher.py:47: UserWarning: linestyle is redundantly defined by the 'linestyle' keyword argument and the fmt string \"s-\" (-> linestyle='-'). The keyword argument will take precedence.\n",
      "/Users/gbrammer/miniconda3/envs/grizli37/lib/python3.7/site-packages/ipykernel_launcher.py:47: UserWarning: linestyle is redundantly defined by the 'linestyle' keyword argument and the fmt string \"s-\" (-> linestyle='-'). The keyword argument will take precedence.\n",
      "/Users/gbrammer/miniconda3/envs/grizli37/lib/python3.7/site-packages/ipykernel_launcher.py:47: UserWarning: linestyle is redundantly defined by the 'linestyle' keyword argument and the fmt string \"s-\" (-> linestyle='-'). The keyword argument will take precedence.\n",
      "/Users/gbrammer/miniconda3/envs/grizli37/lib/python3.7/site-packages/ipykernel_launcher.py:47: UserWarning: linestyle is redundantly defined by the 'linestyle' keyword argument and the fmt string \"s-\" (-> linestyle='-'). The keyword argument will take precedence.\n",
      "/Users/gbrammer/miniconda3/envs/grizli37/lib/python3.7/site-packages/ipykernel_launcher.py:47: UserWarning: linestyle is redundantly defined by the 'linestyle' keyword argument and the fmt string \"s-\" (-> linestyle='-'). The keyword argument will take precedence.\n",
      "/Users/gbrammer/miniconda3/envs/grizli37/lib/python3.7/site-packages/ipykernel_launcher.py:47: UserWarning: linestyle is redundantly defined by the 'linestyle' keyword argument and the fmt string \"s-\" (-> linestyle='-'). The keyword argument will take precedence.\n",
      "/Users/gbrammer/miniconda3/envs/grizli37/lib/python3.7/site-packages/ipykernel_launcher.py:47: UserWarning: linestyle is redundantly defined by the 'linestyle' keyword argument and the fmt string \"s-\" (-> linestyle='-'). The keyword argument will take precedence.\n",
      "/Users/gbrammer/miniconda3/envs/grizli37/lib/python3.7/site-packages/ipykernel_launcher.py:47: UserWarning: linestyle is redundantly defined by the 'linestyle' keyword argument and the fmt string \"s-\" (-> linestyle='-'). The keyword argument will take precedence.\n"
     ]
    },
    {
     "name": "stdout",
     "output_type": "stream",
     "text": [
      "14 1202\n"
     ]
    },
    {
     "name": "stderr",
     "output_type": "stream",
     "text": [
      "/Users/gbrammer/miniconda3/envs/grizli37/lib/python3.7/site-packages/ipykernel_launcher.py:47: UserWarning: linestyle is redundantly defined by the 'linestyle' keyword argument and the fmt string \"s-\" (-> linestyle='-'). The keyword argument will take precedence.\n",
      "/Users/gbrammer/miniconda3/envs/grizli37/lib/python3.7/site-packages/ipykernel_launcher.py:47: UserWarning: linestyle is redundantly defined by the 'linestyle' keyword argument and the fmt string \"s-\" (-> linestyle='-'). The keyword argument will take precedence.\n",
      "/Users/gbrammer/miniconda3/envs/grizli37/lib/python3.7/site-packages/ipykernel_launcher.py:47: UserWarning: linestyle is redundantly defined by the 'linestyle' keyword argument and the fmt string \"s-\" (-> linestyle='-'). The keyword argument will take precedence.\n",
      "/Users/gbrammer/miniconda3/envs/grizli37/lib/python3.7/site-packages/ipykernel_launcher.py:47: UserWarning: linestyle is redundantly defined by the 'linestyle' keyword argument and the fmt string \"s-\" (-> linestyle='-'). The keyword argument will take precedence.\n",
      "/Users/gbrammer/miniconda3/envs/grizli37/lib/python3.7/site-packages/ipykernel_launcher.py:47: UserWarning: linestyle is redundantly defined by the 'linestyle' keyword argument and the fmt string \"s-\" (-> linestyle='-'). The keyword argument will take precedence.\n",
      "/Users/gbrammer/miniconda3/envs/grizli37/lib/python3.7/site-packages/ipykernel_launcher.py:47: UserWarning: linestyle is redundantly defined by the 'linestyle' keyword argument and the fmt string \"s-\" (-> linestyle='-'). The keyword argument will take precedence.\n",
      "/Users/gbrammer/miniconda3/envs/grizli37/lib/python3.7/site-packages/ipykernel_launcher.py:47: UserWarning: linestyle is redundantly defined by the 'linestyle' keyword argument and the fmt string \"s-\" (-> linestyle='-'). The keyword argument will take precedence.\n"
     ]
    },
    {
     "name": "stdout",
     "output_type": "stream",
     "text": [
      "15 1209\n"
     ]
    },
    {
     "name": "stderr",
     "output_type": "stream",
     "text": [
      "/Users/gbrammer/miniconda3/envs/grizli37/lib/python3.7/site-packages/ipykernel_launcher.py:47: UserWarning: linestyle is redundantly defined by the 'linestyle' keyword argument and the fmt string \"s-\" (-> linestyle='-'). The keyword argument will take precedence.\n"
     ]
    },
    {
     "name": "stdout",
     "output_type": "stream",
     "text": [
      "16 1228\n"
     ]
    },
    {
     "name": "stderr",
     "output_type": "stream",
     "text": [
      "/Users/gbrammer/miniconda3/envs/grizli37/lib/python3.7/site-packages/ipykernel_launcher.py:47: UserWarning: linestyle is redundantly defined by the 'linestyle' keyword argument and the fmt string \"s-\" (-> linestyle='-'). The keyword argument will take precedence.\n"
     ]
    },
    {
     "name": "stdout",
     "output_type": "stream",
     "text": [
      "17 1229\n"
     ]
    },
    {
     "name": "stderr",
     "output_type": "stream",
     "text": [
      "/Users/gbrammer/miniconda3/envs/grizli37/lib/python3.7/site-packages/ipykernel_launcher.py:47: UserWarning: linestyle is redundantly defined by the 'linestyle' keyword argument and the fmt string \"s-\" (-> linestyle='-'). The keyword argument will take precedence.\n",
      "/Users/gbrammer/miniconda3/envs/grizli37/lib/python3.7/site-packages/ipykernel_launcher.py:47: UserWarning: linestyle is redundantly defined by the 'linestyle' keyword argument and the fmt string \"s-\" (-> linestyle='-'). The keyword argument will take precedence.\n",
      "/Users/gbrammer/miniconda3/envs/grizli37/lib/python3.7/site-packages/ipykernel_launcher.py:47: UserWarning: linestyle is redundantly defined by the 'linestyle' keyword argument and the fmt string \"s-\" (-> linestyle='-'). The keyword argument will take precedence.\n"
     ]
    },
    {
     "name": "stdout",
     "output_type": "stream",
     "text": [
      "18 1230\n"
     ]
    },
    {
     "name": "stderr",
     "output_type": "stream",
     "text": [
      "/Users/gbrammer/miniconda3/envs/grizli37/lib/python3.7/site-packages/ipykernel_launcher.py:47: UserWarning: linestyle is redundantly defined by the 'linestyle' keyword argument and the fmt string \"s-\" (-> linestyle='-'). The keyword argument will take precedence.\n",
      "/Users/gbrammer/miniconda3/envs/grizli37/lib/python3.7/site-packages/ipykernel_launcher.py:47: UserWarning: linestyle is redundantly defined by the 'linestyle' keyword argument and the fmt string \"s-\" (-> linestyle='-'). The keyword argument will take precedence.\n",
      "/Users/gbrammer/miniconda3/envs/grizli37/lib/python3.7/site-packages/ipykernel_launcher.py:47: UserWarning: linestyle is redundantly defined by the 'linestyle' keyword argument and the fmt string \"s-\" (-> linestyle='-'). The keyword argument will take precedence.\n",
      "/Users/gbrammer/miniconda3/envs/grizli37/lib/python3.7/site-packages/ipykernel_launcher.py:47: UserWarning: linestyle is redundantly defined by the 'linestyle' keyword argument and the fmt string \"s-\" (-> linestyle='-'). The keyword argument will take precedence.\n",
      "/Users/gbrammer/miniconda3/envs/grizli37/lib/python3.7/site-packages/ipykernel_launcher.py:47: UserWarning: linestyle is redundantly defined by the 'linestyle' keyword argument and the fmt string \"s-\" (-> linestyle='-'). The keyword argument will take precedence.\n"
     ]
    },
    {
     "name": "stdout",
     "output_type": "stream",
     "text": [
      "19 1256\n"
     ]
    },
    {
     "name": "stderr",
     "output_type": "stream",
     "text": [
      "/Users/gbrammer/miniconda3/envs/grizli37/lib/python3.7/site-packages/ipykernel_launcher.py:47: UserWarning: linestyle is redundantly defined by the 'linestyle' keyword argument and the fmt string \"s-\" (-> linestyle='-'). The keyword argument will take precedence.\n",
      "/Users/gbrammer/miniconda3/envs/grizli37/lib/python3.7/site-packages/ipykernel_launcher.py:47: UserWarning: linestyle is redundantly defined by the 'linestyle' keyword argument and the fmt string \"s-\" (-> linestyle='-'). The keyword argument will take precedence.\n",
      "/Users/gbrammer/miniconda3/envs/grizli37/lib/python3.7/site-packages/ipykernel_launcher.py:47: UserWarning: linestyle is redundantly defined by the 'linestyle' keyword argument and the fmt string \"s-\" (-> linestyle='-'). The keyword argument will take precedence.\n",
      "/Users/gbrammer/miniconda3/envs/grizli37/lib/python3.7/site-packages/ipykernel_launcher.py:47: UserWarning: linestyle is redundantly defined by the 'linestyle' keyword argument and the fmt string \"s-\" (-> linestyle='-'). The keyword argument will take precedence.\n",
      "/Users/gbrammer/miniconda3/envs/grizli37/lib/python3.7/site-packages/ipykernel_launcher.py:47: UserWarning: linestyle is redundantly defined by the 'linestyle' keyword argument and the fmt string \"s-\" (-> linestyle='-'). The keyword argument will take precedence.\n",
      "/Users/gbrammer/miniconda3/envs/grizli37/lib/python3.7/site-packages/ipykernel_launcher.py:47: UserWarning: linestyle is redundantly defined by the 'linestyle' keyword argument and the fmt string \"s-\" (-> linestyle='-'). The keyword argument will take precedence.\n",
      "/Users/gbrammer/miniconda3/envs/grizli37/lib/python3.7/site-packages/ipykernel_launcher.py:47: UserWarning: linestyle is redundantly defined by the 'linestyle' keyword argument and the fmt string \"s-\" (-> linestyle='-'). The keyword argument will take precedence.\n",
      "/Users/gbrammer/miniconda3/envs/grizli37/lib/python3.7/site-packages/ipykernel_launcher.py:47: UserWarning: linestyle is redundantly defined by the 'linestyle' keyword argument and the fmt string \"s-\" (-> linestyle='-'). The keyword argument will take precedence.\n",
      "/Users/gbrammer/miniconda3/envs/grizli37/lib/python3.7/site-packages/ipykernel_launcher.py:47: UserWarning: linestyle is redundantly defined by the 'linestyle' keyword argument and the fmt string \"s-\" (-> linestyle='-'). The keyword argument will take precedence.\n",
      "/Users/gbrammer/miniconda3/envs/grizli37/lib/python3.7/site-packages/ipykernel_launcher.py:47: UserWarning: linestyle is redundantly defined by the 'linestyle' keyword argument and the fmt string \"s-\" (-> linestyle='-'). The keyword argument will take precedence.\n",
      "/Users/gbrammer/miniconda3/envs/grizli37/lib/python3.7/site-packages/ipykernel_launcher.py:47: UserWarning: linestyle is redundantly defined by the 'linestyle' keyword argument and the fmt string \"s-\" (-> linestyle='-'). The keyword argument will take precedence.\n",
      "/Users/gbrammer/miniconda3/envs/grizli37/lib/python3.7/site-packages/ipykernel_launcher.py:47: UserWarning: linestyle is redundantly defined by the 'linestyle' keyword argument and the fmt string \"s-\" (-> linestyle='-'). The keyword argument will take precedence.\n",
      "/Users/gbrammer/miniconda3/envs/grizli37/lib/python3.7/site-packages/ipykernel_launcher.py:47: UserWarning: linestyle is redundantly defined by the 'linestyle' keyword argument and the fmt string \"s-\" (-> linestyle='-'). The keyword argument will take precedence.\n",
      "/Users/gbrammer/miniconda3/envs/grizli37/lib/python3.7/site-packages/ipykernel_launcher.py:47: UserWarning: linestyle is redundantly defined by the 'linestyle' keyword argument and the fmt string \"s-\" (-> linestyle='-'). The keyword argument will take precedence.\n",
      "/Users/gbrammer/miniconda3/envs/grizli37/lib/python3.7/site-packages/ipykernel_launcher.py:47: UserWarning: linestyle is redundantly defined by the 'linestyle' keyword argument and the fmt string \"s-\" (-> linestyle='-'). The keyword argument will take precedence.\n",
      "/Users/gbrammer/miniconda3/envs/grizli37/lib/python3.7/site-packages/ipykernel_launcher.py:47: UserWarning: linestyle is redundantly defined by the 'linestyle' keyword argument and the fmt string \"s-\" (-> linestyle='-'). The keyword argument will take precedence.\n",
      "/Users/gbrammer/miniconda3/envs/grizli37/lib/python3.7/site-packages/ipykernel_launcher.py:47: UserWarning: linestyle is redundantly defined by the 'linestyle' keyword argument and the fmt string \"s-\" (-> linestyle='-'). The keyword argument will take precedence.\n",
      "/Users/gbrammer/miniconda3/envs/grizli37/lib/python3.7/site-packages/ipykernel_launcher.py:47: UserWarning: linestyle is redundantly defined by the 'linestyle' keyword argument and the fmt string \"s-\" (-> linestyle='-'). The keyword argument will take precedence.\n",
      "/Users/gbrammer/miniconda3/envs/grizli37/lib/python3.7/site-packages/ipykernel_launcher.py:47: UserWarning: linestyle is redundantly defined by the 'linestyle' keyword argument and the fmt string \"s-\" (-> linestyle='-'). The keyword argument will take precedence.\n",
      "/Users/gbrammer/miniconda3/envs/grizli37/lib/python3.7/site-packages/ipykernel_launcher.py:47: UserWarning: linestyle is redundantly defined by the 'linestyle' keyword argument and the fmt string \"s-\" (-> linestyle='-'). The keyword argument will take precedence.\n"
     ]
    },
    {
     "name": "stdout",
     "output_type": "stream",
     "text": [
      "20 1413\n"
     ]
    },
    {
     "name": "stderr",
     "output_type": "stream",
     "text": [
      "/Users/gbrammer/miniconda3/envs/grizli37/lib/python3.7/site-packages/ipykernel_launcher.py:47: UserWarning: linestyle is redundantly defined by the 'linestyle' keyword argument and the fmt string \"s-\" (-> linestyle='-'). The keyword argument will take precedence.\n",
      "/Users/gbrammer/miniconda3/envs/grizli37/lib/python3.7/site-packages/ipykernel_launcher.py:47: UserWarning: linestyle is redundantly defined by the 'linestyle' keyword argument and the fmt string \"s-\" (-> linestyle='-'). The keyword argument will take precedence.\n",
      "/Users/gbrammer/miniconda3/envs/grizli37/lib/python3.7/site-packages/ipykernel_launcher.py:47: UserWarning: linestyle is redundantly defined by the 'linestyle' keyword argument and the fmt string \"s-\" (-> linestyle='-'). The keyword argument will take precedence.\n",
      "/Users/gbrammer/miniconda3/envs/grizli37/lib/python3.7/site-packages/ipykernel_launcher.py:47: UserWarning: linestyle is redundantly defined by the 'linestyle' keyword argument and the fmt string \"s-\" (-> linestyle='-'). The keyword argument will take precedence.\n",
      "/Users/gbrammer/miniconda3/envs/grizli37/lib/python3.7/site-packages/ipykernel_launcher.py:47: UserWarning: linestyle is redundantly defined by the 'linestyle' keyword argument and the fmt string \"s-\" (-> linestyle='-'). The keyword argument will take precedence.\n",
      "/Users/gbrammer/miniconda3/envs/grizli37/lib/python3.7/site-packages/ipykernel_launcher.py:47: UserWarning: linestyle is redundantly defined by the 'linestyle' keyword argument and the fmt string \"s-\" (-> linestyle='-'). The keyword argument will take precedence.\n",
      "/Users/gbrammer/miniconda3/envs/grizli37/lib/python3.7/site-packages/ipykernel_launcher.py:47: UserWarning: linestyle is redundantly defined by the 'linestyle' keyword argument and the fmt string \"s-\" (-> linestyle='-'). The keyword argument will take precedence.\n",
      "/Users/gbrammer/miniconda3/envs/grizli37/lib/python3.7/site-packages/ipykernel_launcher.py:47: UserWarning: linestyle is redundantly defined by the 'linestyle' keyword argument and the fmt string \"s-\" (-> linestyle='-'). The keyword argument will take precedence.\n",
      "/Users/gbrammer/miniconda3/envs/grizli37/lib/python3.7/site-packages/ipykernel_launcher.py:47: UserWarning: linestyle is redundantly defined by the 'linestyle' keyword argument and the fmt string \"s-\" (-> linestyle='-'). The keyword argument will take precedence.\n"
     ]
    },
    {
     "name": "stdout",
     "output_type": "stream",
     "text": [
      "21 1414\n",
      "22 1199\n"
     ]
    },
    {
     "name": "stderr",
     "output_type": "stream",
     "text": [
      "/Users/gbrammer/miniconda3/envs/grizli37/lib/python3.7/site-packages/ipykernel_launcher.py:47: UserWarning: linestyle is redundantly defined by the 'linestyle' keyword argument and the fmt string \"s-\" (-> linestyle='-'). The keyword argument will take precedence.\n",
      "/Users/gbrammer/miniconda3/envs/grizli37/lib/python3.7/site-packages/ipykernel_launcher.py:47: UserWarning: linestyle is redundantly defined by the 'linestyle' keyword argument and the fmt string \"s-\" (-> linestyle='-'). The keyword argument will take precedence.\n",
      "/Users/gbrammer/miniconda3/envs/grizli37/lib/python3.7/site-packages/ipykernel_launcher.py:47: UserWarning: linestyle is redundantly defined by the 'linestyle' keyword argument and the fmt string \"s-\" (-> linestyle='-'). The keyword argument will take precedence.\n",
      "/Users/gbrammer/miniconda3/envs/grizli37/lib/python3.7/site-packages/ipykernel_launcher.py:47: UserWarning: linestyle is redundantly defined by the 'linestyle' keyword argument and the fmt string \"s-\" (-> linestyle='-'). The keyword argument will take precedence.\n",
      "/Users/gbrammer/miniconda3/envs/grizli37/lib/python3.7/site-packages/ipykernel_launcher.py:47: UserWarning: linestyle is redundantly defined by the 'linestyle' keyword argument and the fmt string \"s-\" (-> linestyle='-'). The keyword argument will take precedence.\n",
      "/Users/gbrammer/miniconda3/envs/grizli37/lib/python3.7/site-packages/ipykernel_launcher.py:47: UserWarning: linestyle is redundantly defined by the 'linestyle' keyword argument and the fmt string \"s-\" (-> linestyle='-'). The keyword argument will take precedence.\n",
      "/Users/gbrammer/miniconda3/envs/grizli37/lib/python3.7/site-packages/ipykernel_launcher.py:47: UserWarning: linestyle is redundantly defined by the 'linestyle' keyword argument and the fmt string \"s-\" (-> linestyle='-'). The keyword argument will take precedence.\n",
      "/Users/gbrammer/miniconda3/envs/grizli37/lib/python3.7/site-packages/ipykernel_launcher.py:47: UserWarning: linestyle is redundantly defined by the 'linestyle' keyword argument and the fmt string \"s-\" (-> linestyle='-'). The keyword argument will take precedence.\n",
      "/Users/gbrammer/miniconda3/envs/grizli37/lib/python3.7/site-packages/ipykernel_launcher.py:47: UserWarning: linestyle is redundantly defined by the 'linestyle' keyword argument and the fmt string \"s-\" (-> linestyle='-'). The keyword argument will take precedence.\n",
      "/Users/gbrammer/miniconda3/envs/grizli37/lib/python3.7/site-packages/ipykernel_launcher.py:47: UserWarning: linestyle is redundantly defined by the 'linestyle' keyword argument and the fmt string \"s-\" (-> linestyle='-'). The keyword argument will take precedence.\n"
     ]
    },
    {
     "name": "stdout",
     "output_type": "stream",
     "text": [
      "23 1208\n"
     ]
    },
    {
     "name": "stderr",
     "output_type": "stream",
     "text": [
      "/Users/gbrammer/miniconda3/envs/grizli37/lib/python3.7/site-packages/ipykernel_launcher.py:47: UserWarning: linestyle is redundantly defined by the 'linestyle' keyword argument and the fmt string \"s-\" (-> linestyle='-'). The keyword argument will take precedence.\n",
      "/Users/gbrammer/miniconda3/envs/grizli37/lib/python3.7/site-packages/ipykernel_launcher.py:47: UserWarning: linestyle is redundantly defined by the 'linestyle' keyword argument and the fmt string \"s-\" (-> linestyle='-'). The keyword argument will take precedence.\n",
      "/Users/gbrammer/miniconda3/envs/grizli37/lib/python3.7/site-packages/ipykernel_launcher.py:47: UserWarning: linestyle is redundantly defined by the 'linestyle' keyword argument and the fmt string \"s-\" (-> linestyle='-'). The keyword argument will take precedence.\n",
      "/Users/gbrammer/miniconda3/envs/grizli37/lib/python3.7/site-packages/ipykernel_launcher.py:47: UserWarning: linestyle is redundantly defined by the 'linestyle' keyword argument and the fmt string \"s-\" (-> linestyle='-'). The keyword argument will take precedence.\n",
      "/Users/gbrammer/miniconda3/envs/grizli37/lib/python3.7/site-packages/ipykernel_launcher.py:47: UserWarning: linestyle is redundantly defined by the 'linestyle' keyword argument and the fmt string \"s-\" (-> linestyle='-'). The keyword argument will take precedence.\n",
      "/Users/gbrammer/miniconda3/envs/grizli37/lib/python3.7/site-packages/ipykernel_launcher.py:47: UserWarning: linestyle is redundantly defined by the 'linestyle' keyword argument and the fmt string \"s-\" (-> linestyle='-'). The keyword argument will take precedence.\n",
      "/Users/gbrammer/miniconda3/envs/grizli37/lib/python3.7/site-packages/ipykernel_launcher.py:47: UserWarning: linestyle is redundantly defined by the 'linestyle' keyword argument and the fmt string \"s-\" (-> linestyle='-'). The keyword argument will take precedence.\n",
      "/Users/gbrammer/miniconda3/envs/grizli37/lib/python3.7/site-packages/ipykernel_launcher.py:47: UserWarning: linestyle is redundantly defined by the 'linestyle' keyword argument and the fmt string \"s-\" (-> linestyle='-'). The keyword argument will take precedence.\n",
      "/Users/gbrammer/miniconda3/envs/grizli37/lib/python3.7/site-packages/ipykernel_launcher.py:47: UserWarning: linestyle is redundantly defined by the 'linestyle' keyword argument and the fmt string \"s-\" (-> linestyle='-'). The keyword argument will take precedence.\n",
      "/Users/gbrammer/miniconda3/envs/grizli37/lib/python3.7/site-packages/ipykernel_launcher.py:47: UserWarning: linestyle is redundantly defined by the 'linestyle' keyword argument and the fmt string \"s-\" (-> linestyle='-'). The keyword argument will take precedence.\n",
      "/Users/gbrammer/miniconda3/envs/grizli37/lib/python3.7/site-packages/ipykernel_launcher.py:47: UserWarning: linestyle is redundantly defined by the 'linestyle' keyword argument and the fmt string \"s-\" (-> linestyle='-'). The keyword argument will take precedence.\n",
      "/Users/gbrammer/miniconda3/envs/grizli37/lib/python3.7/site-packages/ipykernel_launcher.py:47: UserWarning: linestyle is redundantly defined by the 'linestyle' keyword argument and the fmt string \"s-\" (-> linestyle='-'). The keyword argument will take precedence.\n",
      "/Users/gbrammer/miniconda3/envs/grizli37/lib/python3.7/site-packages/ipykernel_launcher.py:47: UserWarning: linestyle is redundantly defined by the 'linestyle' keyword argument and the fmt string \"s-\" (-> linestyle='-'). The keyword argument will take precedence.\n",
      "/Users/gbrammer/miniconda3/envs/grizli37/lib/python3.7/site-packages/ipykernel_launcher.py:47: UserWarning: linestyle is redundantly defined by the 'linestyle' keyword argument and the fmt string \"s-\" (-> linestyle='-'). The keyword argument will take precedence.\n",
      "/Users/gbrammer/miniconda3/envs/grizli37/lib/python3.7/site-packages/ipykernel_launcher.py:47: UserWarning: linestyle is redundantly defined by the 'linestyle' keyword argument and the fmt string \"s-\" (-> linestyle='-'). The keyword argument will take precedence.\n",
      "/Users/gbrammer/miniconda3/envs/grizli37/lib/python3.7/site-packages/ipykernel_launcher.py:47: UserWarning: linestyle is redundantly defined by the 'linestyle' keyword argument and the fmt string \"s-\" (-> linestyle='-'). The keyword argument will take precedence.\n",
      "/Users/gbrammer/miniconda3/envs/grizli37/lib/python3.7/site-packages/ipykernel_launcher.py:47: UserWarning: linestyle is redundantly defined by the 'linestyle' keyword argument and the fmt string \"s-\" (-> linestyle='-'). The keyword argument will take precedence.\n",
      "/Users/gbrammer/miniconda3/envs/grizli37/lib/python3.7/site-packages/ipykernel_launcher.py:47: UserWarning: linestyle is redundantly defined by the 'linestyle' keyword argument and the fmt string \"s-\" (-> linestyle='-'). The keyword argument will take precedence.\n",
      "/Users/gbrammer/miniconda3/envs/grizli37/lib/python3.7/site-packages/ipykernel_launcher.py:47: UserWarning: linestyle is redundantly defined by the 'linestyle' keyword argument and the fmt string \"s-\" (-> linestyle='-'). The keyword argument will take precedence.\n",
      "/Users/gbrammer/miniconda3/envs/grizli37/lib/python3.7/site-packages/ipykernel_launcher.py:47: UserWarning: linestyle is redundantly defined by the 'linestyle' keyword argument and the fmt string \"s-\" (-> linestyle='-'). The keyword argument will take precedence.\n"
     ]
    },
    {
     "name": "stdout",
     "output_type": "stream",
     "text": [
      "24 1183\n"
     ]
    },
    {
     "name": "stderr",
     "output_type": "stream",
     "text": [
      "/Users/gbrammer/miniconda3/envs/grizli37/lib/python3.7/site-packages/ipykernel_launcher.py:47: UserWarning: linestyle is redundantly defined by the 'linestyle' keyword argument and the fmt string \"s-\" (-> linestyle='-'). The keyword argument will take precedence.\n",
      "/Users/gbrammer/miniconda3/envs/grizli37/lib/python3.7/site-packages/ipykernel_launcher.py:47: UserWarning: linestyle is redundantly defined by the 'linestyle' keyword argument and the fmt string \"s-\" (-> linestyle='-'). The keyword argument will take precedence.\n",
      "/Users/gbrammer/miniconda3/envs/grizli37/lib/python3.7/site-packages/ipykernel_launcher.py:47: UserWarning: linestyle is redundantly defined by the 'linestyle' keyword argument and the fmt string \"s-\" (-> linestyle='-'). The keyword argument will take precedence.\n",
      "/Users/gbrammer/miniconda3/envs/grizli37/lib/python3.7/site-packages/ipykernel_launcher.py:47: UserWarning: linestyle is redundantly defined by the 'linestyle' keyword argument and the fmt string \"s-\" (-> linestyle='-'). The keyword argument will take precedence.\n",
      "/Users/gbrammer/miniconda3/envs/grizli37/lib/python3.7/site-packages/ipykernel_launcher.py:47: UserWarning: linestyle is redundantly defined by the 'linestyle' keyword argument and the fmt string \"s-\" (-> linestyle='-'). The keyword argument will take precedence.\n",
      "/Users/gbrammer/miniconda3/envs/grizli37/lib/python3.7/site-packages/ipykernel_launcher.py:47: UserWarning: linestyle is redundantly defined by the 'linestyle' keyword argument and the fmt string \"s-\" (-> linestyle='-'). The keyword argument will take precedence.\n",
      "/Users/gbrammer/miniconda3/envs/grizli37/lib/python3.7/site-packages/ipykernel_launcher.py:47: UserWarning: linestyle is redundantly defined by the 'linestyle' keyword argument and the fmt string \"s-\" (-> linestyle='-'). The keyword argument will take precedence.\n",
      "/Users/gbrammer/miniconda3/envs/grizli37/lib/python3.7/site-packages/ipykernel_launcher.py:47: UserWarning: linestyle is redundantly defined by the 'linestyle' keyword argument and the fmt string \"s-\" (-> linestyle='-'). The keyword argument will take precedence.\n",
      "/Users/gbrammer/miniconda3/envs/grizli37/lib/python3.7/site-packages/ipykernel_launcher.py:47: UserWarning: linestyle is redundantly defined by the 'linestyle' keyword argument and the fmt string \"s-\" (-> linestyle='-'). The keyword argument will take precedence.\n",
      "/Users/gbrammer/miniconda3/envs/grizli37/lib/python3.7/site-packages/ipykernel_launcher.py:47: UserWarning: linestyle is redundantly defined by the 'linestyle' keyword argument and the fmt string \"s-\" (-> linestyle='-'). The keyword argument will take precedence.\n",
      "/Users/gbrammer/miniconda3/envs/grizli37/lib/python3.7/site-packages/ipykernel_launcher.py:47: UserWarning: linestyle is redundantly defined by the 'linestyle' keyword argument and the fmt string \"s-\" (-> linestyle='-'). The keyword argument will take precedence.\n",
      "/Users/gbrammer/miniconda3/envs/grizli37/lib/python3.7/site-packages/ipykernel_launcher.py:47: UserWarning: linestyle is redundantly defined by the 'linestyle' keyword argument and the fmt string \"s-\" (-> linestyle='-'). The keyword argument will take precedence.\n",
      "/Users/gbrammer/miniconda3/envs/grizli37/lib/python3.7/site-packages/ipykernel_launcher.py:47: UserWarning: linestyle is redundantly defined by the 'linestyle' keyword argument and the fmt string \"s-\" (-> linestyle='-'). The keyword argument will take precedence.\n",
      "/Users/gbrammer/miniconda3/envs/grizli37/lib/python3.7/site-packages/ipykernel_launcher.py:47: UserWarning: linestyle is redundantly defined by the 'linestyle' keyword argument and the fmt string \"s-\" (-> linestyle='-'). The keyword argument will take precedence.\n",
      "/Users/gbrammer/miniconda3/envs/grizli37/lib/python3.7/site-packages/ipykernel_launcher.py:47: UserWarning: linestyle is redundantly defined by the 'linestyle' keyword argument and the fmt string \"s-\" (-> linestyle='-'). The keyword argument will take precedence.\n",
      "/Users/gbrammer/miniconda3/envs/grizli37/lib/python3.7/site-packages/ipykernel_launcher.py:47: UserWarning: linestyle is redundantly defined by the 'linestyle' keyword argument and the fmt string \"s-\" (-> linestyle='-'). The keyword argument will take precedence.\n"
     ]
    },
    {
     "name": "stdout",
     "output_type": "stream",
     "text": [
      "25 1192\n"
     ]
    },
    {
     "name": "stderr",
     "output_type": "stream",
     "text": [
      "/Users/gbrammer/miniconda3/envs/grizli37/lib/python3.7/site-packages/ipykernel_launcher.py:47: UserWarning: linestyle is redundantly defined by the 'linestyle' keyword argument and the fmt string \"s-\" (-> linestyle='-'). The keyword argument will take precedence.\n",
      "/Users/gbrammer/miniconda3/envs/grizli37/lib/python3.7/site-packages/ipykernel_launcher.py:47: UserWarning: linestyle is redundantly defined by the 'linestyle' keyword argument and the fmt string \"s-\" (-> linestyle='-'). The keyword argument will take precedence.\n",
      "/Users/gbrammer/miniconda3/envs/grizli37/lib/python3.7/site-packages/ipykernel_launcher.py:47: UserWarning: linestyle is redundantly defined by the 'linestyle' keyword argument and the fmt string \"s-\" (-> linestyle='-'). The keyword argument will take precedence.\n",
      "/Users/gbrammer/miniconda3/envs/grizli37/lib/python3.7/site-packages/ipykernel_launcher.py:47: UserWarning: linestyle is redundantly defined by the 'linestyle' keyword argument and the fmt string \"s-\" (-> linestyle='-'). The keyword argument will take precedence.\n",
      "/Users/gbrammer/miniconda3/envs/grizli37/lib/python3.7/site-packages/ipykernel_launcher.py:47: UserWarning: linestyle is redundantly defined by the 'linestyle' keyword argument and the fmt string \"s-\" (-> linestyle='-'). The keyword argument will take precedence.\n",
      "/Users/gbrammer/miniconda3/envs/grizli37/lib/python3.7/site-packages/ipykernel_launcher.py:47: UserWarning: linestyle is redundantly defined by the 'linestyle' keyword argument and the fmt string \"s-\" (-> linestyle='-'). The keyword argument will take precedence.\n",
      "/Users/gbrammer/miniconda3/envs/grizli37/lib/python3.7/site-packages/ipykernel_launcher.py:47: UserWarning: linestyle is redundantly defined by the 'linestyle' keyword argument and the fmt string \"s-\" (-> linestyle='-'). The keyword argument will take precedence.\n",
      "/Users/gbrammer/miniconda3/envs/grizli37/lib/python3.7/site-packages/ipykernel_launcher.py:47: UserWarning: linestyle is redundantly defined by the 'linestyle' keyword argument and the fmt string \"s-\" (-> linestyle='-'). The keyword argument will take precedence.\n",
      "/Users/gbrammer/miniconda3/envs/grizli37/lib/python3.7/site-packages/ipykernel_launcher.py:47: UserWarning: linestyle is redundantly defined by the 'linestyle' keyword argument and the fmt string \"s-\" (-> linestyle='-'). The keyword argument will take precedence.\n",
      "/Users/gbrammer/miniconda3/envs/grizli37/lib/python3.7/site-packages/ipykernel_launcher.py:47: UserWarning: linestyle is redundantly defined by the 'linestyle' keyword argument and the fmt string \"s-\" (-> linestyle='-'). The keyword argument will take precedence.\n",
      "/Users/gbrammer/miniconda3/envs/grizli37/lib/python3.7/site-packages/ipykernel_launcher.py:47: UserWarning: linestyle is redundantly defined by the 'linestyle' keyword argument and the fmt string \"s-\" (-> linestyle='-'). The keyword argument will take precedence.\n",
      "/Users/gbrammer/miniconda3/envs/grizli37/lib/python3.7/site-packages/ipykernel_launcher.py:47: UserWarning: linestyle is redundantly defined by the 'linestyle' keyword argument and the fmt string \"s-\" (-> linestyle='-'). The keyword argument will take precedence.\n"
     ]
    },
    {
     "name": "stdout",
     "output_type": "stream",
     "text": [
      "26 1206\n"
     ]
    },
    {
     "name": "stderr",
     "output_type": "stream",
     "text": [
      "/Users/gbrammer/miniconda3/envs/grizli37/lib/python3.7/site-packages/ipykernel_launcher.py:47: UserWarning: linestyle is redundantly defined by the 'linestyle' keyword argument and the fmt string \"s-\" (-> linestyle='-'). The keyword argument will take precedence.\n",
      "/Users/gbrammer/miniconda3/envs/grizli37/lib/python3.7/site-packages/ipykernel_launcher.py:47: UserWarning: linestyle is redundantly defined by the 'linestyle' keyword argument and the fmt string \"s-\" (-> linestyle='-'). The keyword argument will take precedence.\n",
      "/Users/gbrammer/miniconda3/envs/grizli37/lib/python3.7/site-packages/ipykernel_launcher.py:47: UserWarning: linestyle is redundantly defined by the 'linestyle' keyword argument and the fmt string \"s-\" (-> linestyle='-'). The keyword argument will take precedence.\n",
      "/Users/gbrammer/miniconda3/envs/grizli37/lib/python3.7/site-packages/ipykernel_launcher.py:47: UserWarning: linestyle is redundantly defined by the 'linestyle' keyword argument and the fmt string \"s-\" (-> linestyle='-'). The keyword argument will take precedence.\n",
      "/Users/gbrammer/miniconda3/envs/grizli37/lib/python3.7/site-packages/ipykernel_launcher.py:47: UserWarning: linestyle is redundantly defined by the 'linestyle' keyword argument and the fmt string \"s-\" (-> linestyle='-'). The keyword argument will take precedence.\n",
      "/Users/gbrammer/miniconda3/envs/grizli37/lib/python3.7/site-packages/ipykernel_launcher.py:47: UserWarning: linestyle is redundantly defined by the 'linestyle' keyword argument and the fmt string \"s-\" (-> linestyle='-'). The keyword argument will take precedence.\n",
      "/Users/gbrammer/miniconda3/envs/grizli37/lib/python3.7/site-packages/ipykernel_launcher.py:47: UserWarning: linestyle is redundantly defined by the 'linestyle' keyword argument and the fmt string \"s-\" (-> linestyle='-'). The keyword argument will take precedence.\n"
     ]
    },
    {
     "name": "stdout",
     "output_type": "stream",
     "text": [
      "27 1282\n"
     ]
    },
    {
     "name": "stderr",
     "output_type": "stream",
     "text": [
      "/Users/gbrammer/miniconda3/envs/grizli37/lib/python3.7/site-packages/ipykernel_launcher.py:47: UserWarning: linestyle is redundantly defined by the 'linestyle' keyword argument and the fmt string \"s-\" (-> linestyle='-'). The keyword argument will take precedence.\n",
      "/Users/gbrammer/miniconda3/envs/grizli37/lib/python3.7/site-packages/ipykernel_launcher.py:47: UserWarning: linestyle is redundantly defined by the 'linestyle' keyword argument and the fmt string \"s-\" (-> linestyle='-'). The keyword argument will take precedence.\n",
      "/Users/gbrammer/miniconda3/envs/grizli37/lib/python3.7/site-packages/ipykernel_launcher.py:47: UserWarning: linestyle is redundantly defined by the 'linestyle' keyword argument and the fmt string \"s-\" (-> linestyle='-'). The keyword argument will take precedence.\n",
      "/Users/gbrammer/miniconda3/envs/grizli37/lib/python3.7/site-packages/ipykernel_launcher.py:47: UserWarning: linestyle is redundantly defined by the 'linestyle' keyword argument and the fmt string \"s-\" (-> linestyle='-'). The keyword argument will take precedence.\n",
      "/Users/gbrammer/miniconda3/envs/grizli37/lib/python3.7/site-packages/ipykernel_launcher.py:47: UserWarning: linestyle is redundantly defined by the 'linestyle' keyword argument and the fmt string \"s-\" (-> linestyle='-'). The keyword argument will take precedence.\n",
      "/Users/gbrammer/miniconda3/envs/grizli37/lib/python3.7/site-packages/ipykernel_launcher.py:47: UserWarning: linestyle is redundantly defined by the 'linestyle' keyword argument and the fmt string \"s-\" (-> linestyle='-'). The keyword argument will take precedence.\n",
      "/Users/gbrammer/miniconda3/envs/grizli37/lib/python3.7/site-packages/ipykernel_launcher.py:47: UserWarning: linestyle is redundantly defined by the 'linestyle' keyword argument and the fmt string \"s-\" (-> linestyle='-'). The keyword argument will take precedence.\n",
      "/Users/gbrammer/miniconda3/envs/grizli37/lib/python3.7/site-packages/ipykernel_launcher.py:47: UserWarning: linestyle is redundantly defined by the 'linestyle' keyword argument and the fmt string \"s-\" (-> linestyle='-'). The keyword argument will take precedence.\n",
      "/Users/gbrammer/miniconda3/envs/grizli37/lib/python3.7/site-packages/ipykernel_launcher.py:47: UserWarning: linestyle is redundantly defined by the 'linestyle' keyword argument and the fmt string \"s-\" (-> linestyle='-'). The keyword argument will take precedence.\n",
      "/Users/gbrammer/miniconda3/envs/grizli37/lib/python3.7/site-packages/ipykernel_launcher.py:47: UserWarning: linestyle is redundantly defined by the 'linestyle' keyword argument and the fmt string \"s-\" (-> linestyle='-'). The keyword argument will take precedence.\n",
      "/Users/gbrammer/miniconda3/envs/grizli37/lib/python3.7/site-packages/ipykernel_launcher.py:47: UserWarning: linestyle is redundantly defined by the 'linestyle' keyword argument and the fmt string \"s-\" (-> linestyle='-'). The keyword argument will take precedence.\n",
      "/Users/gbrammer/miniconda3/envs/grizli37/lib/python3.7/site-packages/ipykernel_launcher.py:47: UserWarning: linestyle is redundantly defined by the 'linestyle' keyword argument and the fmt string \"s-\" (-> linestyle='-'). The keyword argument will take precedence.\n",
      "/Users/gbrammer/miniconda3/envs/grizli37/lib/python3.7/site-packages/ipykernel_launcher.py:47: UserWarning: linestyle is redundantly defined by the 'linestyle' keyword argument and the fmt string \"s-\" (-> linestyle='-'). The keyword argument will take precedence.\n",
      "/Users/gbrammer/miniconda3/envs/grizli37/lib/python3.7/site-packages/ipykernel_launcher.py:47: UserWarning: linestyle is redundantly defined by the 'linestyle' keyword argument and the fmt string \"s-\" (-> linestyle='-'). The keyword argument will take precedence.\n",
      "/Users/gbrammer/miniconda3/envs/grizli37/lib/python3.7/site-packages/ipykernel_launcher.py:47: UserWarning: linestyle is redundantly defined by the 'linestyle' keyword argument and the fmt string \"s-\" (-> linestyle='-'). The keyword argument will take precedence.\n",
      "/Users/gbrammer/miniconda3/envs/grizli37/lib/python3.7/site-packages/ipykernel_launcher.py:47: UserWarning: linestyle is redundantly defined by the 'linestyle' keyword argument and the fmt string \"s-\" (-> linestyle='-'). The keyword argument will take precedence.\n",
      "/Users/gbrammer/miniconda3/envs/grizli37/lib/python3.7/site-packages/ipykernel_launcher.py:47: UserWarning: linestyle is redundantly defined by the 'linestyle' keyword argument and the fmt string \"s-\" (-> linestyle='-'). The keyword argument will take precedence.\n",
      "/Users/gbrammer/miniconda3/envs/grizli37/lib/python3.7/site-packages/ipykernel_launcher.py:47: UserWarning: linestyle is redundantly defined by the 'linestyle' keyword argument and the fmt string \"s-\" (-> linestyle='-'). The keyword argument will take precedence.\n",
      "/Users/gbrammer/miniconda3/envs/grizli37/lib/python3.7/site-packages/ipykernel_launcher.py:47: UserWarning: linestyle is redundantly defined by the 'linestyle' keyword argument and the fmt string \"s-\" (-> linestyle='-'). The keyword argument will take precedence.\n",
      "/Users/gbrammer/miniconda3/envs/grizli37/lib/python3.7/site-packages/ipykernel_launcher.py:47: UserWarning: linestyle is redundantly defined by the 'linestyle' keyword argument and the fmt string \"s-\" (-> linestyle='-'). The keyword argument will take precedence.\n",
      "/Users/gbrammer/miniconda3/envs/grizli37/lib/python3.7/site-packages/ipykernel_launcher.py:47: UserWarning: linestyle is redundantly defined by the 'linestyle' keyword argument and the fmt string \"s-\" (-> linestyle='-'). The keyword argument will take precedence.\n",
      "/Users/gbrammer/miniconda3/envs/grizli37/lib/python3.7/site-packages/ipykernel_launcher.py:47: UserWarning: linestyle is redundantly defined by the 'linestyle' keyword argument and the fmt string \"s-\" (-> linestyle='-'). The keyword argument will take precedence.\n",
      "/Users/gbrammer/miniconda3/envs/grizli37/lib/python3.7/site-packages/ipykernel_launcher.py:47: UserWarning: linestyle is redundantly defined by the 'linestyle' keyword argument and the fmt string \"s-\" (-> linestyle='-'). The keyword argument will take precedence.\n",
      "/Users/gbrammer/miniconda3/envs/grizli37/lib/python3.7/site-packages/ipykernel_launcher.py:47: UserWarning: linestyle is redundantly defined by the 'linestyle' keyword argument and the fmt string \"s-\" (-> linestyle='-'). The keyword argument will take precedence.\n",
      "/Users/gbrammer/miniconda3/envs/grizli37/lib/python3.7/site-packages/ipykernel_launcher.py:47: UserWarning: linestyle is redundantly defined by the 'linestyle' keyword argument and the fmt string \"s-\" (-> linestyle='-'). The keyword argument will take precedence.\n",
      "/Users/gbrammer/miniconda3/envs/grizli37/lib/python3.7/site-packages/ipykernel_launcher.py:47: UserWarning: linestyle is redundantly defined by the 'linestyle' keyword argument and the fmt string \"s-\" (-> linestyle='-'). The keyword argument will take precedence.\n",
      "/Users/gbrammer/miniconda3/envs/grizli37/lib/python3.7/site-packages/ipykernel_launcher.py:47: UserWarning: linestyle is redundantly defined by the 'linestyle' keyword argument and the fmt string \"s-\" (-> linestyle='-'). The keyword argument will take precedence.\n",
      "/Users/gbrammer/miniconda3/envs/grizli37/lib/python3.7/site-packages/ipykernel_launcher.py:47: UserWarning: linestyle is redundantly defined by the 'linestyle' keyword argument and the fmt string \"s-\" (-> linestyle='-'). The keyword argument will take precedence.\n",
      "/Users/gbrammer/miniconda3/envs/grizli37/lib/python3.7/site-packages/ipykernel_launcher.py:47: UserWarning: linestyle is redundantly defined by the 'linestyle' keyword argument and the fmt string \"s-\" (-> linestyle='-'). The keyword argument will take precedence.\n",
      "/Users/gbrammer/miniconda3/envs/grizli37/lib/python3.7/site-packages/ipykernel_launcher.py:47: UserWarning: linestyle is redundantly defined by the 'linestyle' keyword argument and the fmt string \"s-\" (-> linestyle='-'). The keyword argument will take precedence.\n",
      "/Users/gbrammer/miniconda3/envs/grizli37/lib/python3.7/site-packages/ipykernel_launcher.py:47: UserWarning: linestyle is redundantly defined by the 'linestyle' keyword argument and the fmt string \"s-\" (-> linestyle='-'). The keyword argument will take precedence.\n",
      "/Users/gbrammer/miniconda3/envs/grizli37/lib/python3.7/site-packages/ipykernel_launcher.py:47: UserWarning: linestyle is redundantly defined by the 'linestyle' keyword argument and the fmt string \"s-\" (-> linestyle='-'). The keyword argument will take precedence.\n",
      "/Users/gbrammer/miniconda3/envs/grizli37/lib/python3.7/site-packages/ipykernel_launcher.py:47: UserWarning: linestyle is redundantly defined by the 'linestyle' keyword argument and the fmt string \"s-\" (-> linestyle='-'). The keyword argument will take precedence.\n"
     ]
    },
    {
     "name": "stderr",
     "output_type": "stream",
     "text": [
      "/Users/gbrammer/miniconda3/envs/grizli37/lib/python3.7/site-packages/ipykernel_launcher.py:47: UserWarning: linestyle is redundantly defined by the 'linestyle' keyword argument and the fmt string \"s-\" (-> linestyle='-'). The keyword argument will take precedence.\n",
      "/Users/gbrammer/miniconda3/envs/grizli37/lib/python3.7/site-packages/ipykernel_launcher.py:47: UserWarning: linestyle is redundantly defined by the 'linestyle' keyword argument and the fmt string \"s-\" (-> linestyle='-'). The keyword argument will take precedence.\n",
      "/Users/gbrammer/miniconda3/envs/grizli37/lib/python3.7/site-packages/ipykernel_launcher.py:47: UserWarning: linestyle is redundantly defined by the 'linestyle' keyword argument and the fmt string \"s-\" (-> linestyle='-'). The keyword argument will take precedence.\n",
      "/Users/gbrammer/miniconda3/envs/grizli37/lib/python3.7/site-packages/ipykernel_launcher.py:47: UserWarning: linestyle is redundantly defined by the 'linestyle' keyword argument and the fmt string \"s-\" (-> linestyle='-'). The keyword argument will take precedence.\n",
      "/Users/gbrammer/miniconda3/envs/grizli37/lib/python3.7/site-packages/ipykernel_launcher.py:47: UserWarning: linestyle is redundantly defined by the 'linestyle' keyword argument and the fmt string \"s-\" (-> linestyle='-'). The keyword argument will take precedence.\n",
      "/Users/gbrammer/miniconda3/envs/grizli37/lib/python3.7/site-packages/ipykernel_launcher.py:47: UserWarning: linestyle is redundantly defined by the 'linestyle' keyword argument and the fmt string \"s-\" (-> linestyle='-'). The keyword argument will take precedence.\n",
      "/Users/gbrammer/miniconda3/envs/grizli37/lib/python3.7/site-packages/ipykernel_launcher.py:47: UserWarning: linestyle is redundantly defined by the 'linestyle' keyword argument and the fmt string \"s-\" (-> linestyle='-'). The keyword argument will take precedence.\n",
      "/Users/gbrammer/miniconda3/envs/grizli37/lib/python3.7/site-packages/ipykernel_launcher.py:47: UserWarning: linestyle is redundantly defined by the 'linestyle' keyword argument and the fmt string \"s-\" (-> linestyle='-'). The keyword argument will take precedence.\n",
      "/Users/gbrammer/miniconda3/envs/grizli37/lib/python3.7/site-packages/ipykernel_launcher.py:47: UserWarning: linestyle is redundantly defined by the 'linestyle' keyword argument and the fmt string \"s-\" (-> linestyle='-'). The keyword argument will take precedence.\n",
      "/Users/gbrammer/miniconda3/envs/grizli37/lib/python3.7/site-packages/ipykernel_launcher.py:47: UserWarning: linestyle is redundantly defined by the 'linestyle' keyword argument and the fmt string \"s-\" (-> linestyle='-'). The keyword argument will take precedence.\n",
      "/Users/gbrammer/miniconda3/envs/grizli37/lib/python3.7/site-packages/ipykernel_launcher.py:47: UserWarning: linestyle is redundantly defined by the 'linestyle' keyword argument and the fmt string \"s-\" (-> linestyle='-'). The keyword argument will take precedence.\n",
      "/Users/gbrammer/miniconda3/envs/grizli37/lib/python3.7/site-packages/ipykernel_launcher.py:47: UserWarning: linestyle is redundantly defined by the 'linestyle' keyword argument and the fmt string \"s-\" (-> linestyle='-'). The keyword argument will take precedence.\n",
      "/Users/gbrammer/miniconda3/envs/grizli37/lib/python3.7/site-packages/ipykernel_launcher.py:47: UserWarning: linestyle is redundantly defined by the 'linestyle' keyword argument and the fmt string \"s-\" (-> linestyle='-'). The keyword argument will take precedence.\n",
      "/Users/gbrammer/miniconda3/envs/grizli37/lib/python3.7/site-packages/ipykernel_launcher.py:47: UserWarning: linestyle is redundantly defined by the 'linestyle' keyword argument and the fmt string \"s-\" (-> linestyle='-'). The keyword argument will take precedence.\n",
      "/Users/gbrammer/miniconda3/envs/grizli37/lib/python3.7/site-packages/ipykernel_launcher.py:47: UserWarning: linestyle is redundantly defined by the 'linestyle' keyword argument and the fmt string \"s-\" (-> linestyle='-'). The keyword argument will take precedence.\n",
      "/Users/gbrammer/miniconda3/envs/grizli37/lib/python3.7/site-packages/ipykernel_launcher.py:47: UserWarning: linestyle is redundantly defined by the 'linestyle' keyword argument and the fmt string \"s-\" (-> linestyle='-'). The keyword argument will take precedence.\n",
      "/Users/gbrammer/miniconda3/envs/grizli37/lib/python3.7/site-packages/ipykernel_launcher.py:47: UserWarning: linestyle is redundantly defined by the 'linestyle' keyword argument and the fmt string \"s-\" (-> linestyle='-'). The keyword argument will take precedence.\n",
      "/Users/gbrammer/miniconda3/envs/grizli37/lib/python3.7/site-packages/ipykernel_launcher.py:47: UserWarning: linestyle is redundantly defined by the 'linestyle' keyword argument and the fmt string \"s-\" (-> linestyle='-'). The keyword argument will take precedence.\n",
      "/Users/gbrammer/miniconda3/envs/grizli37/lib/python3.7/site-packages/ipykernel_launcher.py:47: UserWarning: linestyle is redundantly defined by the 'linestyle' keyword argument and the fmt string \"s-\" (-> linestyle='-'). The keyword argument will take precedence.\n",
      "/Users/gbrammer/miniconda3/envs/grizli37/lib/python3.7/site-packages/ipykernel_launcher.py:47: UserWarning: linestyle is redundantly defined by the 'linestyle' keyword argument and the fmt string \"s-\" (-> linestyle='-'). The keyword argument will take precedence.\n",
      "/Users/gbrammer/miniconda3/envs/grizli37/lib/python3.7/site-packages/ipykernel_launcher.py:47: UserWarning: linestyle is redundantly defined by the 'linestyle' keyword argument and the fmt string \"s-\" (-> linestyle='-'). The keyword argument will take precedence.\n",
      "/Users/gbrammer/miniconda3/envs/grizli37/lib/python3.7/site-packages/ipykernel_launcher.py:47: UserWarning: linestyle is redundantly defined by the 'linestyle' keyword argument and the fmt string \"s-\" (-> linestyle='-'). The keyword argument will take precedence.\n",
      "/Users/gbrammer/miniconda3/envs/grizli37/lib/python3.7/site-packages/ipykernel_launcher.py:47: UserWarning: linestyle is redundantly defined by the 'linestyle' keyword argument and the fmt string \"s-\" (-> linestyle='-'). The keyword argument will take precedence.\n",
      "/Users/gbrammer/miniconda3/envs/grizli37/lib/python3.7/site-packages/ipykernel_launcher.py:47: UserWarning: linestyle is redundantly defined by the 'linestyle' keyword argument and the fmt string \"s-\" (-> linestyle='-'). The keyword argument will take precedence.\n",
      "/Users/gbrammer/miniconda3/envs/grizli37/lib/python3.7/site-packages/ipykernel_launcher.py:47: UserWarning: linestyle is redundantly defined by the 'linestyle' keyword argument and the fmt string \"s-\" (-> linestyle='-'). The keyword argument will take precedence.\n",
      "/Users/gbrammer/miniconda3/envs/grizli37/lib/python3.7/site-packages/ipykernel_launcher.py:47: UserWarning: linestyle is redundantly defined by the 'linestyle' keyword argument and the fmt string \"s-\" (-> linestyle='-'). The keyword argument will take precedence.\n",
      "/Users/gbrammer/miniconda3/envs/grizli37/lib/python3.7/site-packages/ipykernel_launcher.py:47: UserWarning: linestyle is redundantly defined by the 'linestyle' keyword argument and the fmt string \"s-\" (-> linestyle='-'). The keyword argument will take precedence.\n"
     ]
    },
    {
     "name": "stdout",
     "output_type": "stream",
     "text": [
      "28 1294\n"
     ]
    },
    {
     "name": "stderr",
     "output_type": "stream",
     "text": [
      "/Users/gbrammer/miniconda3/envs/grizli37/lib/python3.7/site-packages/ipykernel_launcher.py:47: UserWarning: linestyle is redundantly defined by the 'linestyle' keyword argument and the fmt string \"s-\" (-> linestyle='-'). The keyword argument will take precedence.\n",
      "/Users/gbrammer/miniconda3/envs/grizli37/lib/python3.7/site-packages/ipykernel_launcher.py:47: UserWarning: linestyle is redundantly defined by the 'linestyle' keyword argument and the fmt string \"s-\" (-> linestyle='-'). The keyword argument will take precedence.\n"
     ]
    },
    {
     "name": "stdout",
     "output_type": "stream",
     "text": [
      "29 1411\n"
     ]
    },
    {
     "name": "stderr",
     "output_type": "stream",
     "text": [
      "/Users/gbrammer/miniconda3/envs/grizli37/lib/python3.7/site-packages/ipykernel_launcher.py:47: UserWarning: linestyle is redundantly defined by the 'linestyle' keyword argument and the fmt string \"s-\" (-> linestyle='-'). The keyword argument will take precedence.\n",
      "/Users/gbrammer/miniconda3/envs/grizli37/lib/python3.7/site-packages/ipykernel_launcher.py:47: UserWarning: linestyle is redundantly defined by the 'linestyle' keyword argument and the fmt string \"s-\" (-> linestyle='-'). The keyword argument will take precedence.\n",
      "/Users/gbrammer/miniconda3/envs/grizli37/lib/python3.7/site-packages/ipykernel_launcher.py:47: UserWarning: linestyle is redundantly defined by the 'linestyle' keyword argument and the fmt string \"s-\" (-> linestyle='-'). The keyword argument will take precedence.\n",
      "/Users/gbrammer/miniconda3/envs/grizli37/lib/python3.7/site-packages/ipykernel_launcher.py:47: UserWarning: linestyle is redundantly defined by the 'linestyle' keyword argument and the fmt string \"s-\" (-> linestyle='-'). The keyword argument will take precedence.\n"
     ]
    },
    {
     "name": "stdout",
     "output_type": "stream",
     "text": [
      "30 1180\n"
     ]
    },
    {
     "name": "stderr",
     "output_type": "stream",
     "text": [
      "/Users/gbrammer/miniconda3/envs/grizli37/lib/python3.7/site-packages/ipykernel_launcher.py:47: UserWarning: linestyle is redundantly defined by the 'linestyle' keyword argument and the fmt string \"s-\" (-> linestyle='-'). The keyword argument will take precedence.\n",
      "/Users/gbrammer/miniconda3/envs/grizli37/lib/python3.7/site-packages/ipykernel_launcher.py:47: UserWarning: linestyle is redundantly defined by the 'linestyle' keyword argument and the fmt string \"s-\" (-> linestyle='-'). The keyword argument will take precedence.\n",
      "/Users/gbrammer/miniconda3/envs/grizli37/lib/python3.7/site-packages/ipykernel_launcher.py:47: UserWarning: linestyle is redundantly defined by the 'linestyle' keyword argument and the fmt string \"s-\" (-> linestyle='-'). The keyword argument will take precedence.\n",
      "/Users/gbrammer/miniconda3/envs/grizli37/lib/python3.7/site-packages/ipykernel_launcher.py:47: UserWarning: linestyle is redundantly defined by the 'linestyle' keyword argument and the fmt string \"s-\" (-> linestyle='-'). The keyword argument will take precedence.\n",
      "/Users/gbrammer/miniconda3/envs/grizli37/lib/python3.7/site-packages/ipykernel_launcher.py:47: UserWarning: linestyle is redundantly defined by the 'linestyle' keyword argument and the fmt string \"s-\" (-> linestyle='-'). The keyword argument will take precedence.\n",
      "/Users/gbrammer/miniconda3/envs/grizli37/lib/python3.7/site-packages/ipykernel_launcher.py:47: UserWarning: linestyle is redundantly defined by the 'linestyle' keyword argument and the fmt string \"s-\" (-> linestyle='-'). The keyword argument will take precedence.\n",
      "/Users/gbrammer/miniconda3/envs/grizli37/lib/python3.7/site-packages/ipykernel_launcher.py:47: UserWarning: linestyle is redundantly defined by the 'linestyle' keyword argument and the fmt string \"s-\" (-> linestyle='-'). The keyword argument will take precedence.\n",
      "/Users/gbrammer/miniconda3/envs/grizli37/lib/python3.7/site-packages/ipykernel_launcher.py:47: UserWarning: linestyle is redundantly defined by the 'linestyle' keyword argument and the fmt string \"s-\" (-> linestyle='-'). The keyword argument will take precedence.\n",
      "/Users/gbrammer/miniconda3/envs/grizli37/lib/python3.7/site-packages/ipykernel_launcher.py:47: UserWarning: linestyle is redundantly defined by the 'linestyle' keyword argument and the fmt string \"s-\" (-> linestyle='-'). The keyword argument will take precedence.\n",
      "/Users/gbrammer/miniconda3/envs/grizli37/lib/python3.7/site-packages/ipykernel_launcher.py:47: UserWarning: linestyle is redundantly defined by the 'linestyle' keyword argument and the fmt string \"s-\" (-> linestyle='-'). The keyword argument will take precedence.\n",
      "/Users/gbrammer/miniconda3/envs/grizli37/lib/python3.7/site-packages/ipykernel_launcher.py:47: UserWarning: linestyle is redundantly defined by the 'linestyle' keyword argument and the fmt string \"s-\" (-> linestyle='-'). The keyword argument will take precedence.\n",
      "/Users/gbrammer/miniconda3/envs/grizli37/lib/python3.7/site-packages/ipykernel_launcher.py:47: UserWarning: linestyle is redundantly defined by the 'linestyle' keyword argument and the fmt string \"s-\" (-> linestyle='-'). The keyword argument will take precedence.\n",
      "/Users/gbrammer/miniconda3/envs/grizli37/lib/python3.7/site-packages/ipykernel_launcher.py:47: UserWarning: linestyle is redundantly defined by the 'linestyle' keyword argument and the fmt string \"s-\" (-> linestyle='-'). The keyword argument will take precedence.\n",
      "/Users/gbrammer/miniconda3/envs/grizli37/lib/python3.7/site-packages/ipykernel_launcher.py:47: UserWarning: linestyle is redundantly defined by the 'linestyle' keyword argument and the fmt string \"s-\" (-> linestyle='-'). The keyword argument will take precedence.\n",
      "/Users/gbrammer/miniconda3/envs/grizli37/lib/python3.7/site-packages/ipykernel_launcher.py:47: UserWarning: linestyle is redundantly defined by the 'linestyle' keyword argument and the fmt string \"s-\" (-> linestyle='-'). The keyword argument will take precedence.\n",
      "/Users/gbrammer/miniconda3/envs/grizli37/lib/python3.7/site-packages/ipykernel_launcher.py:47: UserWarning: linestyle is redundantly defined by the 'linestyle' keyword argument and the fmt string \"s-\" (-> linestyle='-'). The keyword argument will take precedence.\n",
      "/Users/gbrammer/miniconda3/envs/grizli37/lib/python3.7/site-packages/ipykernel_launcher.py:47: UserWarning: linestyle is redundantly defined by the 'linestyle' keyword argument and the fmt string \"s-\" (-> linestyle='-'). The keyword argument will take precedence.\n",
      "/Users/gbrammer/miniconda3/envs/grizli37/lib/python3.7/site-packages/ipykernel_launcher.py:47: UserWarning: linestyle is redundantly defined by the 'linestyle' keyword argument and the fmt string \"s-\" (-> linestyle='-'). The keyword argument will take precedence.\n",
      "/Users/gbrammer/miniconda3/envs/grizli37/lib/python3.7/site-packages/ipykernel_launcher.py:47: UserWarning: linestyle is redundantly defined by the 'linestyle' keyword argument and the fmt string \"s-\" (-> linestyle='-'). The keyword argument will take precedence.\n",
      "/Users/gbrammer/miniconda3/envs/grizli37/lib/python3.7/site-packages/ipykernel_launcher.py:47: UserWarning: linestyle is redundantly defined by the 'linestyle' keyword argument and the fmt string \"s-\" (-> linestyle='-'). The keyword argument will take precedence.\n",
      "/Users/gbrammer/miniconda3/envs/grizli37/lib/python3.7/site-packages/ipykernel_launcher.py:47: UserWarning: linestyle is redundantly defined by the 'linestyle' keyword argument and the fmt string \"s-\" (-> linestyle='-'). The keyword argument will take precedence.\n",
      "/Users/gbrammer/miniconda3/envs/grizli37/lib/python3.7/site-packages/ipykernel_launcher.py:47: UserWarning: linestyle is redundantly defined by the 'linestyle' keyword argument and the fmt string \"s-\" (-> linestyle='-'). The keyword argument will take precedence.\n",
      "/Users/gbrammer/miniconda3/envs/grizli37/lib/python3.7/site-packages/ipykernel_launcher.py:47: UserWarning: linestyle is redundantly defined by the 'linestyle' keyword argument and the fmt string \"s-\" (-> linestyle='-'). The keyword argument will take precedence.\n",
      "/Users/gbrammer/miniconda3/envs/grizli37/lib/python3.7/site-packages/ipykernel_launcher.py:47: UserWarning: linestyle is redundantly defined by the 'linestyle' keyword argument and the fmt string \"s-\" (-> linestyle='-'). The keyword argument will take precedence.\n"
     ]
    },
    {
     "name": "stdout",
     "output_type": "stream",
     "text": [
      "31 1181\n"
     ]
    },
    {
     "name": "stderr",
     "output_type": "stream",
     "text": [
      "/Users/gbrammer/miniconda3/envs/grizli37/lib/python3.7/site-packages/ipykernel_launcher.py:47: UserWarning: linestyle is redundantly defined by the 'linestyle' keyword argument and the fmt string \"s-\" (-> linestyle='-'). The keyword argument will take precedence.\n",
      "/Users/gbrammer/miniconda3/envs/grizli37/lib/python3.7/site-packages/ipykernel_launcher.py:47: UserWarning: linestyle is redundantly defined by the 'linestyle' keyword argument and the fmt string \"s-\" (-> linestyle='-'). The keyword argument will take precedence.\n",
      "/Users/gbrammer/miniconda3/envs/grizli37/lib/python3.7/site-packages/ipykernel_launcher.py:47: UserWarning: linestyle is redundantly defined by the 'linestyle' keyword argument and the fmt string \"s-\" (-> linestyle='-'). The keyword argument will take precedence.\n",
      "/Users/gbrammer/miniconda3/envs/grizli37/lib/python3.7/site-packages/ipykernel_launcher.py:47: UserWarning: linestyle is redundantly defined by the 'linestyle' keyword argument and the fmt string \"s-\" (-> linestyle='-'). The keyword argument will take precedence.\n",
      "/Users/gbrammer/miniconda3/envs/grizli37/lib/python3.7/site-packages/ipykernel_launcher.py:47: UserWarning: linestyle is redundantly defined by the 'linestyle' keyword argument and the fmt string \"s-\" (-> linestyle='-'). The keyword argument will take precedence.\n",
      "/Users/gbrammer/miniconda3/envs/grizli37/lib/python3.7/site-packages/ipykernel_launcher.py:47: UserWarning: linestyle is redundantly defined by the 'linestyle' keyword argument and the fmt string \"s-\" (-> linestyle='-'). The keyword argument will take precedence.\n",
      "/Users/gbrammer/miniconda3/envs/grizli37/lib/python3.7/site-packages/ipykernel_launcher.py:47: UserWarning: linestyle is redundantly defined by the 'linestyle' keyword argument and the fmt string \"s-\" (-> linestyle='-'). The keyword argument will take precedence.\n",
      "/Users/gbrammer/miniconda3/envs/grizli37/lib/python3.7/site-packages/ipykernel_launcher.py:47: UserWarning: linestyle is redundantly defined by the 'linestyle' keyword argument and the fmt string \"s-\" (-> linestyle='-'). The keyword argument will take precedence.\n",
      "/Users/gbrammer/miniconda3/envs/grizli37/lib/python3.7/site-packages/ipykernel_launcher.py:47: UserWarning: linestyle is redundantly defined by the 'linestyle' keyword argument and the fmt string \"s-\" (-> linestyle='-'). The keyword argument will take precedence.\n",
      "/Users/gbrammer/miniconda3/envs/grizli37/lib/python3.7/site-packages/ipykernel_launcher.py:47: UserWarning: linestyle is redundantly defined by the 'linestyle' keyword argument and the fmt string \"s-\" (-> linestyle='-'). The keyword argument will take precedence.\n",
      "/Users/gbrammer/miniconda3/envs/grizli37/lib/python3.7/site-packages/ipykernel_launcher.py:47: UserWarning: linestyle is redundantly defined by the 'linestyle' keyword argument and the fmt string \"s-\" (-> linestyle='-'). The keyword argument will take precedence.\n"
     ]
    },
    {
     "name": "stdout",
     "output_type": "stream",
     "text": [
      "32 1207\n"
     ]
    },
    {
     "name": "stderr",
     "output_type": "stream",
     "text": [
      "/Users/gbrammer/miniconda3/envs/grizli37/lib/python3.7/site-packages/ipykernel_launcher.py:47: UserWarning: linestyle is redundantly defined by the 'linestyle' keyword argument and the fmt string \"s-\" (-> linestyle='-'). The keyword argument will take precedence.\n",
      "/Users/gbrammer/miniconda3/envs/grizli37/lib/python3.7/site-packages/ipykernel_launcher.py:47: UserWarning: linestyle is redundantly defined by the 'linestyle' keyword argument and the fmt string \"s-\" (-> linestyle='-'). The keyword argument will take precedence.\n",
      "/Users/gbrammer/miniconda3/envs/grizli37/lib/python3.7/site-packages/ipykernel_launcher.py:47: UserWarning: linestyle is redundantly defined by the 'linestyle' keyword argument and the fmt string \"s-\" (-> linestyle='-'). The keyword argument will take precedence.\n",
      "/Users/gbrammer/miniconda3/envs/grizli37/lib/python3.7/site-packages/ipykernel_launcher.py:47: UserWarning: linestyle is redundantly defined by the 'linestyle' keyword argument and the fmt string \"s-\" (-> linestyle='-'). The keyword argument will take precedence.\n",
      "/Users/gbrammer/miniconda3/envs/grizli37/lib/python3.7/site-packages/ipykernel_launcher.py:47: UserWarning: linestyle is redundantly defined by the 'linestyle' keyword argument and the fmt string \"s-\" (-> linestyle='-'). The keyword argument will take precedence.\n",
      "/Users/gbrammer/miniconda3/envs/grizli37/lib/python3.7/site-packages/ipykernel_launcher.py:47: UserWarning: linestyle is redundantly defined by the 'linestyle' keyword argument and the fmt string \"s-\" (-> linestyle='-'). The keyword argument will take precedence.\n",
      "/Users/gbrammer/miniconda3/envs/grizli37/lib/python3.7/site-packages/ipykernel_launcher.py:47: UserWarning: linestyle is redundantly defined by the 'linestyle' keyword argument and the fmt string \"s-\" (-> linestyle='-'). The keyword argument will take precedence.\n",
      "/Users/gbrammer/miniconda3/envs/grizli37/lib/python3.7/site-packages/ipykernel_launcher.py:47: UserWarning: linestyle is redundantly defined by the 'linestyle' keyword argument and the fmt string \"s-\" (-> linestyle='-'). The keyword argument will take precedence.\n",
      "/Users/gbrammer/miniconda3/envs/grizli37/lib/python3.7/site-packages/ipykernel_launcher.py:47: UserWarning: linestyle is redundantly defined by the 'linestyle' keyword argument and the fmt string \"s-\" (-> linestyle='-'). The keyword argument will take precedence.\n",
      "/Users/gbrammer/miniconda3/envs/grizli37/lib/python3.7/site-packages/ipykernel_launcher.py:47: UserWarning: linestyle is redundantly defined by the 'linestyle' keyword argument and the fmt string \"s-\" (-> linestyle='-'). The keyword argument will take precedence.\n",
      "/Users/gbrammer/miniconda3/envs/grizli37/lib/python3.7/site-packages/ipykernel_launcher.py:47: UserWarning: linestyle is redundantly defined by the 'linestyle' keyword argument and the fmt string \"s-\" (-> linestyle='-'). The keyword argument will take precedence.\n",
      "/Users/gbrammer/miniconda3/envs/grizli37/lib/python3.7/site-packages/ipykernel_launcher.py:47: UserWarning: linestyle is redundantly defined by the 'linestyle' keyword argument and the fmt string \"s-\" (-> linestyle='-'). The keyword argument will take precedence.\n",
      "/Users/gbrammer/miniconda3/envs/grizli37/lib/python3.7/site-packages/ipykernel_launcher.py:47: UserWarning: linestyle is redundantly defined by the 'linestyle' keyword argument and the fmt string \"s-\" (-> linestyle='-'). The keyword argument will take precedence.\n",
      "/Users/gbrammer/miniconda3/envs/grizli37/lib/python3.7/site-packages/ipykernel_launcher.py:47: UserWarning: linestyle is redundantly defined by the 'linestyle' keyword argument and the fmt string \"s-\" (-> linestyle='-'). The keyword argument will take precedence.\n",
      "/Users/gbrammer/miniconda3/envs/grizli37/lib/python3.7/site-packages/ipykernel_launcher.py:47: UserWarning: linestyle is redundantly defined by the 'linestyle' keyword argument and the fmt string \"s-\" (-> linestyle='-'). The keyword argument will take precedence.\n",
      "/Users/gbrammer/miniconda3/envs/grizli37/lib/python3.7/site-packages/ipykernel_launcher.py:47: UserWarning: linestyle is redundantly defined by the 'linestyle' keyword argument and the fmt string \"s-\" (-> linestyle='-'). The keyword argument will take precedence.\n",
      "/Users/gbrammer/miniconda3/envs/grizli37/lib/python3.7/site-packages/ipykernel_launcher.py:47: UserWarning: linestyle is redundantly defined by the 'linestyle' keyword argument and the fmt string \"s-\" (-> linestyle='-'). The keyword argument will take precedence.\n"
     ]
    },
    {
     "name": "stdout",
     "output_type": "stream",
     "text": [
      "33 1210\n"
     ]
    },
    {
     "name": "stderr",
     "output_type": "stream",
     "text": [
      "/Users/gbrammer/miniconda3/envs/grizli37/lib/python3.7/site-packages/ipykernel_launcher.py:47: UserWarning: linestyle is redundantly defined by the 'linestyle' keyword argument and the fmt string \"s-\" (-> linestyle='-'). The keyword argument will take precedence.\n",
      "/Users/gbrammer/miniconda3/envs/grizli37/lib/python3.7/site-packages/ipykernel_launcher.py:47: UserWarning: linestyle is redundantly defined by the 'linestyle' keyword argument and the fmt string \"s-\" (-> linestyle='-'). The keyword argument will take precedence.\n",
      "/Users/gbrammer/miniconda3/envs/grizli37/lib/python3.7/site-packages/ipykernel_launcher.py:47: UserWarning: linestyle is redundantly defined by the 'linestyle' keyword argument and the fmt string \"s-\" (-> linestyle='-'). The keyword argument will take precedence.\n"
     ]
    },
    {
     "name": "stdout",
     "output_type": "stream",
     "text": [
      "34 1211\n"
     ]
    },
    {
     "name": "stderr",
     "output_type": "stream",
     "text": [
      "/Users/gbrammer/miniconda3/envs/grizli37/lib/python3.7/site-packages/ipykernel_launcher.py:47: UserWarning: linestyle is redundantly defined by the 'linestyle' keyword argument and the fmt string \"s-\" (-> linestyle='-'). The keyword argument will take precedence.\n",
      "/Users/gbrammer/miniconda3/envs/grizli37/lib/python3.7/site-packages/ipykernel_launcher.py:47: UserWarning: linestyle is redundantly defined by the 'linestyle' keyword argument and the fmt string \"s-\" (-> linestyle='-'). The keyword argument will take precedence.\n",
      "/Users/gbrammer/miniconda3/envs/grizli37/lib/python3.7/site-packages/ipykernel_launcher.py:47: UserWarning: linestyle is redundantly defined by the 'linestyle' keyword argument and the fmt string \"s-\" (-> linestyle='-'). The keyword argument will take precedence.\n",
      "/Users/gbrammer/miniconda3/envs/grizli37/lib/python3.7/site-packages/ipykernel_launcher.py:47: UserWarning: linestyle is redundantly defined by the 'linestyle' keyword argument and the fmt string \"s-\" (-> linestyle='-'). The keyword argument will take precedence.\n",
      "/Users/gbrammer/miniconda3/envs/grizli37/lib/python3.7/site-packages/ipykernel_launcher.py:47: UserWarning: linestyle is redundantly defined by the 'linestyle' keyword argument and the fmt string \"s-\" (-> linestyle='-'). The keyword argument will take precedence.\n",
      "/Users/gbrammer/miniconda3/envs/grizli37/lib/python3.7/site-packages/ipykernel_launcher.py:47: UserWarning: linestyle is redundantly defined by the 'linestyle' keyword argument and the fmt string \"s-\" (-> linestyle='-'). The keyword argument will take precedence.\n",
      "/Users/gbrammer/miniconda3/envs/grizli37/lib/python3.7/site-packages/ipykernel_launcher.py:47: UserWarning: linestyle is redundantly defined by the 'linestyle' keyword argument and the fmt string \"s-\" (-> linestyle='-'). The keyword argument will take precedence.\n",
      "/Users/gbrammer/miniconda3/envs/grizli37/lib/python3.7/site-packages/ipykernel_launcher.py:47: UserWarning: linestyle is redundantly defined by the 'linestyle' keyword argument and the fmt string \"s-\" (-> linestyle='-'). The keyword argument will take precedence.\n",
      "/Users/gbrammer/miniconda3/envs/grizli37/lib/python3.7/site-packages/ipykernel_launcher.py:47: UserWarning: linestyle is redundantly defined by the 'linestyle' keyword argument and the fmt string \"s-\" (-> linestyle='-'). The keyword argument will take precedence.\n"
     ]
    },
    {
     "name": "stdout",
     "output_type": "stream",
     "text": [
      "35 1213\n"
     ]
    },
    {
     "name": "stderr",
     "output_type": "stream",
     "text": [
      "/Users/gbrammer/miniconda3/envs/grizli37/lib/python3.7/site-packages/ipykernel_launcher.py:47: UserWarning: linestyle is redundantly defined by the 'linestyle' keyword argument and the fmt string \"s-\" (-> linestyle='-'). The keyword argument will take precedence.\n",
      "/Users/gbrammer/miniconda3/envs/grizli37/lib/python3.7/site-packages/ipykernel_launcher.py:47: UserWarning: linestyle is redundantly defined by the 'linestyle' keyword argument and the fmt string \"s-\" (-> linestyle='-'). The keyword argument will take precedence.\n",
      "/Users/gbrammer/miniconda3/envs/grizli37/lib/python3.7/site-packages/ipykernel_launcher.py:47: UserWarning: linestyle is redundantly defined by the 'linestyle' keyword argument and the fmt string \"s-\" (-> linestyle='-'). The keyword argument will take precedence.\n",
      "/Users/gbrammer/miniconda3/envs/grizli37/lib/python3.7/site-packages/ipykernel_launcher.py:47: UserWarning: linestyle is redundantly defined by the 'linestyle' keyword argument and the fmt string \"s-\" (-> linestyle='-'). The keyword argument will take precedence.\n",
      "/Users/gbrammer/miniconda3/envs/grizli37/lib/python3.7/site-packages/ipykernel_launcher.py:47: UserWarning: linestyle is redundantly defined by the 'linestyle' keyword argument and the fmt string \"s-\" (-> linestyle='-'). The keyword argument will take precedence.\n"
     ]
    },
    {
     "name": "stdout",
     "output_type": "stream",
     "text": [
      "36 1214\n"
     ]
    },
    {
     "name": "stderr",
     "output_type": "stream",
     "text": [
      "/Users/gbrammer/miniconda3/envs/grizli37/lib/python3.7/site-packages/ipykernel_launcher.py:47: UserWarning: linestyle is redundantly defined by the 'linestyle' keyword argument and the fmt string \"s-\" (-> linestyle='-'). The keyword argument will take precedence.\n",
      "/Users/gbrammer/miniconda3/envs/grizli37/lib/python3.7/site-packages/ipykernel_launcher.py:47: UserWarning: linestyle is redundantly defined by the 'linestyle' keyword argument and the fmt string \"s-\" (-> linestyle='-'). The keyword argument will take precedence.\n",
      "/Users/gbrammer/miniconda3/envs/grizli37/lib/python3.7/site-packages/ipykernel_launcher.py:47: UserWarning: linestyle is redundantly defined by the 'linestyle' keyword argument and the fmt string \"s-\" (-> linestyle='-'). The keyword argument will take precedence.\n",
      "/Users/gbrammer/miniconda3/envs/grizli37/lib/python3.7/site-packages/ipykernel_launcher.py:47: UserWarning: linestyle is redundantly defined by the 'linestyle' keyword argument and the fmt string \"s-\" (-> linestyle='-'). The keyword argument will take precedence.\n",
      "/Users/gbrammer/miniconda3/envs/grizli37/lib/python3.7/site-packages/ipykernel_launcher.py:47: UserWarning: linestyle is redundantly defined by the 'linestyle' keyword argument and the fmt string \"s-\" (-> linestyle='-'). The keyword argument will take precedence.\n"
     ]
    },
    {
     "name": "stdout",
     "output_type": "stream",
     "text": [
      "37 1215\n"
     ]
    },
    {
     "name": "stderr",
     "output_type": "stream",
     "text": [
      "/Users/gbrammer/miniconda3/envs/grizli37/lib/python3.7/site-packages/ipykernel_launcher.py:47: UserWarning: linestyle is redundantly defined by the 'linestyle' keyword argument and the fmt string \"s-\" (-> linestyle='-'). The keyword argument will take precedence.\n",
      "/Users/gbrammer/miniconda3/envs/grizli37/lib/python3.7/site-packages/ipykernel_launcher.py:47: UserWarning: linestyle is redundantly defined by the 'linestyle' keyword argument and the fmt string \"s-\" (-> linestyle='-'). The keyword argument will take precedence.\n",
      "/Users/gbrammer/miniconda3/envs/grizli37/lib/python3.7/site-packages/ipykernel_launcher.py:47: UserWarning: linestyle is redundantly defined by the 'linestyle' keyword argument and the fmt string \"s-\" (-> linestyle='-'). The keyword argument will take precedence.\n",
      "/Users/gbrammer/miniconda3/envs/grizli37/lib/python3.7/site-packages/ipykernel_launcher.py:47: UserWarning: linestyle is redundantly defined by the 'linestyle' keyword argument and the fmt string \"s-\" (-> linestyle='-'). The keyword argument will take precedence.\n",
      "/Users/gbrammer/miniconda3/envs/grizli37/lib/python3.7/site-packages/ipykernel_launcher.py:47: UserWarning: linestyle is redundantly defined by the 'linestyle' keyword argument and the fmt string \"s-\" (-> linestyle='-'). The keyword argument will take precedence.\n",
      "/Users/gbrammer/miniconda3/envs/grizli37/lib/python3.7/site-packages/ipykernel_launcher.py:47: UserWarning: linestyle is redundantly defined by the 'linestyle' keyword argument and the fmt string \"s-\" (-> linestyle='-'). The keyword argument will take precedence.\n"
     ]
    },
    {
     "name": "stdout",
     "output_type": "stream",
     "text": [
      "38 1216\n"
     ]
    },
    {
     "name": "stderr",
     "output_type": "stream",
     "text": [
      "/Users/gbrammer/miniconda3/envs/grizli37/lib/python3.7/site-packages/ipykernel_launcher.py:47: UserWarning: linestyle is redundantly defined by the 'linestyle' keyword argument and the fmt string \"s-\" (-> linestyle='-'). The keyword argument will take precedence.\n",
      "/Users/gbrammer/miniconda3/envs/grizli37/lib/python3.7/site-packages/ipykernel_launcher.py:47: UserWarning: linestyle is redundantly defined by the 'linestyle' keyword argument and the fmt string \"s-\" (-> linestyle='-'). The keyword argument will take precedence.\n",
      "/Users/gbrammer/miniconda3/envs/grizli37/lib/python3.7/site-packages/ipykernel_launcher.py:47: UserWarning: linestyle is redundantly defined by the 'linestyle' keyword argument and the fmt string \"s-\" (-> linestyle='-'). The keyword argument will take precedence.\n",
      "/Users/gbrammer/miniconda3/envs/grizli37/lib/python3.7/site-packages/ipykernel_launcher.py:47: UserWarning: linestyle is redundantly defined by the 'linestyle' keyword argument and the fmt string \"s-\" (-> linestyle='-'). The keyword argument will take precedence.\n",
      "/Users/gbrammer/miniconda3/envs/grizli37/lib/python3.7/site-packages/ipykernel_launcher.py:47: UserWarning: linestyle is redundantly defined by the 'linestyle' keyword argument and the fmt string \"s-\" (-> linestyle='-'). The keyword argument will take precedence.\n",
      "/Users/gbrammer/miniconda3/envs/grizli37/lib/python3.7/site-packages/ipykernel_launcher.py:47: UserWarning: linestyle is redundantly defined by the 'linestyle' keyword argument and the fmt string \"s-\" (-> linestyle='-'). The keyword argument will take precedence.\n",
      "/Users/gbrammer/miniconda3/envs/grizli37/lib/python3.7/site-packages/ipykernel_launcher.py:47: UserWarning: linestyle is redundantly defined by the 'linestyle' keyword argument and the fmt string \"s-\" (-> linestyle='-'). The keyword argument will take precedence.\n",
      "/Users/gbrammer/miniconda3/envs/grizli37/lib/python3.7/site-packages/ipykernel_launcher.py:47: UserWarning: linestyle is redundantly defined by the 'linestyle' keyword argument and the fmt string \"s-\" (-> linestyle='-'). The keyword argument will take precedence.\n",
      "/Users/gbrammer/miniconda3/envs/grizli37/lib/python3.7/site-packages/ipykernel_launcher.py:47: UserWarning: linestyle is redundantly defined by the 'linestyle' keyword argument and the fmt string \"s-\" (-> linestyle='-'). The keyword argument will take precedence.\n",
      "/Users/gbrammer/miniconda3/envs/grizli37/lib/python3.7/site-packages/ipykernel_launcher.py:47: UserWarning: linestyle is redundantly defined by the 'linestyle' keyword argument and the fmt string \"s-\" (-> linestyle='-'). The keyword argument will take precedence.\n",
      "/Users/gbrammer/miniconda3/envs/grizli37/lib/python3.7/site-packages/ipykernel_launcher.py:47: UserWarning: linestyle is redundantly defined by the 'linestyle' keyword argument and the fmt string \"s-\" (-> linestyle='-'). The keyword argument will take precedence.\n",
      "/Users/gbrammer/miniconda3/envs/grizli37/lib/python3.7/site-packages/ipykernel_launcher.py:47: UserWarning: linestyle is redundantly defined by the 'linestyle' keyword argument and the fmt string \"s-\" (-> linestyle='-'). The keyword argument will take precedence.\n",
      "/Users/gbrammer/miniconda3/envs/grizli37/lib/python3.7/site-packages/ipykernel_launcher.py:47: UserWarning: linestyle is redundantly defined by the 'linestyle' keyword argument and the fmt string \"s-\" (-> linestyle='-'). The keyword argument will take precedence.\n"
     ]
    },
    {
     "name": "stdout",
     "output_type": "stream",
     "text": [
      "39 1217\n"
     ]
    },
    {
     "name": "stderr",
     "output_type": "stream",
     "text": [
      "/Users/gbrammer/miniconda3/envs/grizli37/lib/python3.7/site-packages/ipykernel_launcher.py:47: UserWarning: linestyle is redundantly defined by the 'linestyle' keyword argument and the fmt string \"s-\" (-> linestyle='-'). The keyword argument will take precedence.\n",
      "/Users/gbrammer/miniconda3/envs/grizli37/lib/python3.7/site-packages/ipykernel_launcher.py:47: UserWarning: linestyle is redundantly defined by the 'linestyle' keyword argument and the fmt string \"s-\" (-> linestyle='-'). The keyword argument will take precedence.\n",
      "/Users/gbrammer/miniconda3/envs/grizli37/lib/python3.7/site-packages/ipykernel_launcher.py:47: UserWarning: linestyle is redundantly defined by the 'linestyle' keyword argument and the fmt string \"s-\" (-> linestyle='-'). The keyword argument will take precedence.\n",
      "/Users/gbrammer/miniconda3/envs/grizli37/lib/python3.7/site-packages/ipykernel_launcher.py:47: UserWarning: linestyle is redundantly defined by the 'linestyle' keyword argument and the fmt string \"s-\" (-> linestyle='-'). The keyword argument will take precedence.\n",
      "/Users/gbrammer/miniconda3/envs/grizli37/lib/python3.7/site-packages/ipykernel_launcher.py:47: UserWarning: linestyle is redundantly defined by the 'linestyle' keyword argument and the fmt string \"s-\" (-> linestyle='-'). The keyword argument will take precedence.\n",
      "/Users/gbrammer/miniconda3/envs/grizli37/lib/python3.7/site-packages/ipykernel_launcher.py:47: UserWarning: linestyle is redundantly defined by the 'linestyle' keyword argument and the fmt string \"s-\" (-> linestyle='-'). The keyword argument will take precedence.\n",
      "/Users/gbrammer/miniconda3/envs/grizli37/lib/python3.7/site-packages/ipykernel_launcher.py:47: UserWarning: linestyle is redundantly defined by the 'linestyle' keyword argument and the fmt string \"s-\" (-> linestyle='-'). The keyword argument will take precedence.\n",
      "/Users/gbrammer/miniconda3/envs/grizli37/lib/python3.7/site-packages/ipykernel_launcher.py:47: UserWarning: linestyle is redundantly defined by the 'linestyle' keyword argument and the fmt string \"s-\" (-> linestyle='-'). The keyword argument will take precedence.\n",
      "/Users/gbrammer/miniconda3/envs/grizli37/lib/python3.7/site-packages/ipykernel_launcher.py:47: UserWarning: linestyle is redundantly defined by the 'linestyle' keyword argument and the fmt string \"s-\" (-> linestyle='-'). The keyword argument will take precedence.\n",
      "/Users/gbrammer/miniconda3/envs/grizli37/lib/python3.7/site-packages/ipykernel_launcher.py:47: UserWarning: linestyle is redundantly defined by the 'linestyle' keyword argument and the fmt string \"s-\" (-> linestyle='-'). The keyword argument will take precedence.\n",
      "/Users/gbrammer/miniconda3/envs/grizli37/lib/python3.7/site-packages/ipykernel_launcher.py:47: UserWarning: linestyle is redundantly defined by the 'linestyle' keyword argument and the fmt string \"s-\" (-> linestyle='-'). The keyword argument will take precedence.\n",
      "/Users/gbrammer/miniconda3/envs/grizli37/lib/python3.7/site-packages/ipykernel_launcher.py:47: UserWarning: linestyle is redundantly defined by the 'linestyle' keyword argument and the fmt string \"s-\" (-> linestyle='-'). The keyword argument will take precedence.\n",
      "/Users/gbrammer/miniconda3/envs/grizli37/lib/python3.7/site-packages/ipykernel_launcher.py:47: UserWarning: linestyle is redundantly defined by the 'linestyle' keyword argument and the fmt string \"s-\" (-> linestyle='-'). The keyword argument will take precedence.\n",
      "/Users/gbrammer/miniconda3/envs/grizli37/lib/python3.7/site-packages/ipykernel_launcher.py:47: UserWarning: linestyle is redundantly defined by the 'linestyle' keyword argument and the fmt string \"s-\" (-> linestyle='-'). The keyword argument will take precedence.\n"
     ]
    },
    {
     "name": "stdout",
     "output_type": "stream",
     "text": [
      "40 1262\n"
     ]
    },
    {
     "name": "stderr",
     "output_type": "stream",
     "text": [
      "/Users/gbrammer/miniconda3/envs/grizli37/lib/python3.7/site-packages/ipykernel_launcher.py:47: UserWarning: linestyle is redundantly defined by the 'linestyle' keyword argument and the fmt string \"s-\" (-> linestyle='-'). The keyword argument will take precedence.\n",
      "/Users/gbrammer/miniconda3/envs/grizli37/lib/python3.7/site-packages/ipykernel_launcher.py:47: UserWarning: linestyle is redundantly defined by the 'linestyle' keyword argument and the fmt string \"s-\" (-> linestyle='-'). The keyword argument will take precedence.\n",
      "/Users/gbrammer/miniconda3/envs/grizli37/lib/python3.7/site-packages/ipykernel_launcher.py:47: UserWarning: linestyle is redundantly defined by the 'linestyle' keyword argument and the fmt string \"s-\" (-> linestyle='-'). The keyword argument will take precedence.\n",
      "/Users/gbrammer/miniconda3/envs/grizli37/lib/python3.7/site-packages/ipykernel_launcher.py:47: UserWarning: linestyle is redundantly defined by the 'linestyle' keyword argument and the fmt string \"s-\" (-> linestyle='-'). The keyword argument will take precedence.\n",
      "/Users/gbrammer/miniconda3/envs/grizli37/lib/python3.7/site-packages/ipykernel_launcher.py:47: UserWarning: linestyle is redundantly defined by the 'linestyle' keyword argument and the fmt string \"s-\" (-> linestyle='-'). The keyword argument will take precedence.\n",
      "/Users/gbrammer/miniconda3/envs/grizli37/lib/python3.7/site-packages/ipykernel_launcher.py:47: UserWarning: linestyle is redundantly defined by the 'linestyle' keyword argument and the fmt string \"s-\" (-> linestyle='-'). The keyword argument will take precedence.\n"
     ]
    },
    {
     "name": "stdout",
     "output_type": "stream",
     "text": [
      "41 1263\n"
     ]
    },
    {
     "name": "stderr",
     "output_type": "stream",
     "text": [
      "/Users/gbrammer/miniconda3/envs/grizli37/lib/python3.7/site-packages/ipykernel_launcher.py:47: UserWarning: linestyle is redundantly defined by the 'linestyle' keyword argument and the fmt string \"s-\" (-> linestyle='-'). The keyword argument will take precedence.\n",
      "/Users/gbrammer/miniconda3/envs/grizli37/lib/python3.7/site-packages/ipykernel_launcher.py:47: UserWarning: linestyle is redundantly defined by the 'linestyle' keyword argument and the fmt string \"s-\" (-> linestyle='-'). The keyword argument will take precedence.\n"
     ]
    },
    {
     "name": "stdout",
     "output_type": "stream",
     "text": [
      "42 1283\n"
     ]
    },
    {
     "name": "stderr",
     "output_type": "stream",
     "text": [
      "/Users/gbrammer/miniconda3/envs/grizli37/lib/python3.7/site-packages/ipykernel_launcher.py:47: UserWarning: linestyle is redundantly defined by the 'linestyle' keyword argument and the fmt string \"s-\" (-> linestyle='-'). The keyword argument will take precedence.\n",
      "/Users/gbrammer/miniconda3/envs/grizli37/lib/python3.7/site-packages/ipykernel_launcher.py:47: UserWarning: linestyle is redundantly defined by the 'linestyle' keyword argument and the fmt string \"s-\" (-> linestyle='-'). The keyword argument will take precedence.\n",
      "/Users/gbrammer/miniconda3/envs/grizli37/lib/python3.7/site-packages/ipykernel_launcher.py:47: UserWarning: linestyle is redundantly defined by the 'linestyle' keyword argument and the fmt string \"s-\" (-> linestyle='-'). The keyword argument will take precedence.\n",
      "/Users/gbrammer/miniconda3/envs/grizli37/lib/python3.7/site-packages/ipykernel_launcher.py:47: UserWarning: linestyle is redundantly defined by the 'linestyle' keyword argument and the fmt string \"s-\" (-> linestyle='-'). The keyword argument will take precedence.\n",
      "/Users/gbrammer/miniconda3/envs/grizli37/lib/python3.7/site-packages/ipykernel_launcher.py:47: UserWarning: linestyle is redundantly defined by the 'linestyle' keyword argument and the fmt string \"s-\" (-> linestyle='-'). The keyword argument will take precedence.\n",
      "/Users/gbrammer/miniconda3/envs/grizli37/lib/python3.7/site-packages/ipykernel_launcher.py:47: UserWarning: linestyle is redundantly defined by the 'linestyle' keyword argument and the fmt string \"s-\" (-> linestyle='-'). The keyword argument will take precedence.\n"
     ]
    },
    {
     "name": "stdout",
     "output_type": "stream",
     "text": [
      "43 1284\n"
     ]
    },
    {
     "name": "stderr",
     "output_type": "stream",
     "text": [
      "/Users/gbrammer/miniconda3/envs/grizli37/lib/python3.7/site-packages/ipykernel_launcher.py:47: UserWarning: linestyle is redundantly defined by the 'linestyle' keyword argument and the fmt string \"s-\" (-> linestyle='-'). The keyword argument will take precedence.\n",
      "/Users/gbrammer/miniconda3/envs/grizli37/lib/python3.7/site-packages/ipykernel_launcher.py:47: UserWarning: linestyle is redundantly defined by the 'linestyle' keyword argument and the fmt string \"s-\" (-> linestyle='-'). The keyword argument will take precedence.\n",
      "/Users/gbrammer/miniconda3/envs/grizli37/lib/python3.7/site-packages/ipykernel_launcher.py:47: UserWarning: linestyle is redundantly defined by the 'linestyle' keyword argument and the fmt string \"s-\" (-> linestyle='-'). The keyword argument will take precedence.\n",
      "/Users/gbrammer/miniconda3/envs/grizli37/lib/python3.7/site-packages/ipykernel_launcher.py:47: UserWarning: linestyle is redundantly defined by the 'linestyle' keyword argument and the fmt string \"s-\" (-> linestyle='-'). The keyword argument will take precedence.\n"
     ]
    },
    {
     "name": "stdout",
     "output_type": "stream",
     "text": [
      "44 1286\n"
     ]
    },
    {
     "name": "stderr",
     "output_type": "stream",
     "text": [
      "/Users/gbrammer/miniconda3/envs/grizli37/lib/python3.7/site-packages/ipykernel_launcher.py:47: UserWarning: linestyle is redundantly defined by the 'linestyle' keyword argument and the fmt string \"s-\" (-> linestyle='-'). The keyword argument will take precedence.\n",
      "/Users/gbrammer/miniconda3/envs/grizli37/lib/python3.7/site-packages/ipykernel_launcher.py:47: UserWarning: linestyle is redundantly defined by the 'linestyle' keyword argument and the fmt string \"s-\" (-> linestyle='-'). The keyword argument will take precedence.\n",
      "/Users/gbrammer/miniconda3/envs/grizli37/lib/python3.7/site-packages/ipykernel_launcher.py:47: UserWarning: linestyle is redundantly defined by the 'linestyle' keyword argument and the fmt string \"s-\" (-> linestyle='-'). The keyword argument will take precedence.\n",
      "/Users/gbrammer/miniconda3/envs/grizli37/lib/python3.7/site-packages/ipykernel_launcher.py:47: UserWarning: linestyle is redundantly defined by the 'linestyle' keyword argument and the fmt string \"s-\" (-> linestyle='-'). The keyword argument will take precedence.\n",
      "/Users/gbrammer/miniconda3/envs/grizli37/lib/python3.7/site-packages/ipykernel_launcher.py:47: UserWarning: linestyle is redundantly defined by the 'linestyle' keyword argument and the fmt string \"s-\" (-> linestyle='-'). The keyword argument will take precedence.\n",
      "/Users/gbrammer/miniconda3/envs/grizli37/lib/python3.7/site-packages/ipykernel_launcher.py:47: UserWarning: linestyle is redundantly defined by the 'linestyle' keyword argument and the fmt string \"s-\" (-> linestyle='-'). The keyword argument will take precedence.\n",
      "/Users/gbrammer/miniconda3/envs/grizli37/lib/python3.7/site-packages/ipykernel_launcher.py:47: UserWarning: linestyle is redundantly defined by the 'linestyle' keyword argument and the fmt string \"s-\" (-> linestyle='-'). The keyword argument will take precedence.\n",
      "/Users/gbrammer/miniconda3/envs/grizli37/lib/python3.7/site-packages/ipykernel_launcher.py:47: UserWarning: linestyle is redundantly defined by the 'linestyle' keyword argument and the fmt string \"s-\" (-> linestyle='-'). The keyword argument will take precedence.\n"
     ]
    },
    {
     "name": "stdout",
     "output_type": "stream",
     "text": [
      "45 1287\n"
     ]
    },
    {
     "name": "stderr",
     "output_type": "stream",
     "text": [
      "/Users/gbrammer/miniconda3/envs/grizli37/lib/python3.7/site-packages/ipykernel_launcher.py:47: UserWarning: linestyle is redundantly defined by the 'linestyle' keyword argument and the fmt string \"s-\" (-> linestyle='-'). The keyword argument will take precedence.\n",
      "/Users/gbrammer/miniconda3/envs/grizli37/lib/python3.7/site-packages/ipykernel_launcher.py:47: UserWarning: linestyle is redundantly defined by the 'linestyle' keyword argument and the fmt string \"s-\" (-> linestyle='-'). The keyword argument will take precedence.\n",
      "/Users/gbrammer/miniconda3/envs/grizli37/lib/python3.7/site-packages/ipykernel_launcher.py:47: UserWarning: linestyle is redundantly defined by the 'linestyle' keyword argument and the fmt string \"s-\" (-> linestyle='-'). The keyword argument will take precedence.\n"
     ]
    },
    {
     "name": "stdout",
     "output_type": "stream",
     "text": [
      "46 1177\n"
     ]
    },
    {
     "name": "stderr",
     "output_type": "stream",
     "text": [
      "/Users/gbrammer/miniconda3/envs/grizli37/lib/python3.7/site-packages/ipykernel_launcher.py:47: UserWarning: linestyle is redundantly defined by the 'linestyle' keyword argument and the fmt string \"s-\" (-> linestyle='-'). The keyword argument will take precedence.\n",
      "/Users/gbrammer/miniconda3/envs/grizli37/lib/python3.7/site-packages/ipykernel_launcher.py:47: UserWarning: linestyle is redundantly defined by the 'linestyle' keyword argument and the fmt string \"s-\" (-> linestyle='-'). The keyword argument will take precedence.\n",
      "/Users/gbrammer/miniconda3/envs/grizli37/lib/python3.7/site-packages/ipykernel_launcher.py:47: UserWarning: linestyle is redundantly defined by the 'linestyle' keyword argument and the fmt string \"s-\" (-> linestyle='-'). The keyword argument will take precedence.\n",
      "/Users/gbrammer/miniconda3/envs/grizli37/lib/python3.7/site-packages/ipykernel_launcher.py:47: UserWarning: linestyle is redundantly defined by the 'linestyle' keyword argument and the fmt string \"s-\" (-> linestyle='-'). The keyword argument will take precedence.\n",
      "/Users/gbrammer/miniconda3/envs/grizli37/lib/python3.7/site-packages/ipykernel_launcher.py:47: UserWarning: linestyle is redundantly defined by the 'linestyle' keyword argument and the fmt string \"s-\" (-> linestyle='-'). The keyword argument will take precedence.\n",
      "/Users/gbrammer/miniconda3/envs/grizli37/lib/python3.7/site-packages/ipykernel_launcher.py:47: UserWarning: linestyle is redundantly defined by the 'linestyle' keyword argument and the fmt string \"s-\" (-> linestyle='-'). The keyword argument will take precedence.\n",
      "/Users/gbrammer/miniconda3/envs/grizli37/lib/python3.7/site-packages/ipykernel_launcher.py:47: UserWarning: linestyle is redundantly defined by the 'linestyle' keyword argument and the fmt string \"s-\" (-> linestyle='-'). The keyword argument will take precedence.\n",
      "/Users/gbrammer/miniconda3/envs/grizli37/lib/python3.7/site-packages/ipykernel_launcher.py:47: UserWarning: linestyle is redundantly defined by the 'linestyle' keyword argument and the fmt string \"s-\" (-> linestyle='-'). The keyword argument will take precedence.\n",
      "/Users/gbrammer/miniconda3/envs/grizli37/lib/python3.7/site-packages/ipykernel_launcher.py:47: UserWarning: linestyle is redundantly defined by the 'linestyle' keyword argument and the fmt string \"s-\" (-> linestyle='-'). The keyword argument will take precedence.\n",
      "/Users/gbrammer/miniconda3/envs/grizli37/lib/python3.7/site-packages/ipykernel_launcher.py:47: UserWarning: linestyle is redundantly defined by the 'linestyle' keyword argument and the fmt string \"s-\" (-> linestyle='-'). The keyword argument will take precedence.\n"
     ]
    },
    {
     "name": "stdout",
     "output_type": "stream",
     "text": [
      "47 1184\n",
      "48 1185\n"
     ]
    },
    {
     "name": "stderr",
     "output_type": "stream",
     "text": [
      "/Users/gbrammer/miniconda3/envs/grizli37/lib/python3.7/site-packages/ipykernel_launcher.py:47: UserWarning: linestyle is redundantly defined by the 'linestyle' keyword argument and the fmt string \"s-\" (-> linestyle='-'). The keyword argument will take precedence.\n",
      "/Users/gbrammer/miniconda3/envs/grizli37/lib/python3.7/site-packages/ipykernel_launcher.py:47: UserWarning: linestyle is redundantly defined by the 'linestyle' keyword argument and the fmt string \"s-\" (-> linestyle='-'). The keyword argument will take precedence.\n",
      "/Users/gbrammer/miniconda3/envs/grizli37/lib/python3.7/site-packages/ipykernel_launcher.py:47: UserWarning: linestyle is redundantly defined by the 'linestyle' keyword argument and the fmt string \"s-\" (-> linestyle='-'). The keyword argument will take precedence.\n",
      "/Users/gbrammer/miniconda3/envs/grizli37/lib/python3.7/site-packages/ipykernel_launcher.py:47: UserWarning: linestyle is redundantly defined by the 'linestyle' keyword argument and the fmt string \"s-\" (-> linestyle='-'). The keyword argument will take precedence.\n",
      "/Users/gbrammer/miniconda3/envs/grizli37/lib/python3.7/site-packages/ipykernel_launcher.py:47: UserWarning: linestyle is redundantly defined by the 'linestyle' keyword argument and the fmt string \"s-\" (-> linestyle='-'). The keyword argument will take precedence.\n",
      "/Users/gbrammer/miniconda3/envs/grizli37/lib/python3.7/site-packages/ipykernel_launcher.py:47: UserWarning: linestyle is redundantly defined by the 'linestyle' keyword argument and the fmt string \"s-\" (-> linestyle='-'). The keyword argument will take precedence.\n",
      "/Users/gbrammer/miniconda3/envs/grizli37/lib/python3.7/site-packages/ipykernel_launcher.py:47: UserWarning: linestyle is redundantly defined by the 'linestyle' keyword argument and the fmt string \"s-\" (-> linestyle='-'). The keyword argument will take precedence.\n",
      "/Users/gbrammer/miniconda3/envs/grizli37/lib/python3.7/site-packages/ipykernel_launcher.py:47: UserWarning: linestyle is redundantly defined by the 'linestyle' keyword argument and the fmt string \"s-\" (-> linestyle='-'). The keyword argument will take precedence.\n",
      "/Users/gbrammer/miniconda3/envs/grizli37/lib/python3.7/site-packages/ipykernel_launcher.py:47: UserWarning: linestyle is redundantly defined by the 'linestyle' keyword argument and the fmt string \"s-\" (-> linestyle='-'). The keyword argument will take precedence.\n",
      "/Users/gbrammer/miniconda3/envs/grizli37/lib/python3.7/site-packages/ipykernel_launcher.py:47: UserWarning: linestyle is redundantly defined by the 'linestyle' keyword argument and the fmt string \"s-\" (-> linestyle='-'). The keyword argument will take precedence.\n",
      "/Users/gbrammer/miniconda3/envs/grizli37/lib/python3.7/site-packages/ipykernel_launcher.py:47: UserWarning: linestyle is redundantly defined by the 'linestyle' keyword argument and the fmt string \"s-\" (-> linestyle='-'). The keyword argument will take precedence.\n",
      "/Users/gbrammer/miniconda3/envs/grizli37/lib/python3.7/site-packages/ipykernel_launcher.py:47: UserWarning: linestyle is redundantly defined by the 'linestyle' keyword argument and the fmt string \"s-\" (-> linestyle='-'). The keyword argument will take precedence.\n",
      "/Users/gbrammer/miniconda3/envs/grizli37/lib/python3.7/site-packages/ipykernel_launcher.py:47: UserWarning: linestyle is redundantly defined by the 'linestyle' keyword argument and the fmt string \"s-\" (-> linestyle='-'). The keyword argument will take precedence.\n",
      "/Users/gbrammer/miniconda3/envs/grizli37/lib/python3.7/site-packages/ipykernel_launcher.py:47: UserWarning: linestyle is redundantly defined by the 'linestyle' keyword argument and the fmt string \"s-\" (-> linestyle='-'). The keyword argument will take precedence.\n",
      "/Users/gbrammer/miniconda3/envs/grizli37/lib/python3.7/site-packages/ipykernel_launcher.py:47: UserWarning: linestyle is redundantly defined by the 'linestyle' keyword argument and the fmt string \"s-\" (-> linestyle='-'). The keyword argument will take precedence.\n",
      "/Users/gbrammer/miniconda3/envs/grizli37/lib/python3.7/site-packages/ipykernel_launcher.py:47: UserWarning: linestyle is redundantly defined by the 'linestyle' keyword argument and the fmt string \"s-\" (-> linestyle='-'). The keyword argument will take precedence.\n",
      "/Users/gbrammer/miniconda3/envs/grizli37/lib/python3.7/site-packages/ipykernel_launcher.py:47: UserWarning: linestyle is redundantly defined by the 'linestyle' keyword argument and the fmt string \"s-\" (-> linestyle='-'). The keyword argument will take precedence.\n",
      "/Users/gbrammer/miniconda3/envs/grizli37/lib/python3.7/site-packages/ipykernel_launcher.py:47: UserWarning: linestyle is redundantly defined by the 'linestyle' keyword argument and the fmt string \"s-\" (-> linestyle='-'). The keyword argument will take precedence.\n",
      "/Users/gbrammer/miniconda3/envs/grizli37/lib/python3.7/site-packages/ipykernel_launcher.py:47: UserWarning: linestyle is redundantly defined by the 'linestyle' keyword argument and the fmt string \"s-\" (-> linestyle='-'). The keyword argument will take precedence.\n"
     ]
    },
    {
     "name": "stdout",
     "output_type": "stream",
     "text": [
      "49 1188\n"
     ]
    },
    {
     "name": "stderr",
     "output_type": "stream",
     "text": [
      "/Users/gbrammer/miniconda3/envs/grizli37/lib/python3.7/site-packages/ipykernel_launcher.py:47: UserWarning: linestyle is redundantly defined by the 'linestyle' keyword argument and the fmt string \"s-\" (-> linestyle='-'). The keyword argument will take precedence.\n",
      "/Users/gbrammer/miniconda3/envs/grizli37/lib/python3.7/site-packages/ipykernel_launcher.py:47: UserWarning: linestyle is redundantly defined by the 'linestyle' keyword argument and the fmt string \"s-\" (-> linestyle='-'). The keyword argument will take precedence.\n",
      "/Users/gbrammer/miniconda3/envs/grizli37/lib/python3.7/site-packages/ipykernel_launcher.py:47: UserWarning: linestyle is redundantly defined by the 'linestyle' keyword argument and the fmt string \"s-\" (-> linestyle='-'). The keyword argument will take precedence.\n",
      "/Users/gbrammer/miniconda3/envs/grizli37/lib/python3.7/site-packages/ipykernel_launcher.py:47: UserWarning: linestyle is redundantly defined by the 'linestyle' keyword argument and the fmt string \"s-\" (-> linestyle='-'). The keyword argument will take precedence.\n",
      "/Users/gbrammer/miniconda3/envs/grizli37/lib/python3.7/site-packages/ipykernel_launcher.py:47: UserWarning: linestyle is redundantly defined by the 'linestyle' keyword argument and the fmt string \"s-\" (-> linestyle='-'). The keyword argument will take precedence.\n",
      "/Users/gbrammer/miniconda3/envs/grizli37/lib/python3.7/site-packages/ipykernel_launcher.py:47: UserWarning: linestyle is redundantly defined by the 'linestyle' keyword argument and the fmt string \"s-\" (-> linestyle='-'). The keyword argument will take precedence.\n",
      "/Users/gbrammer/miniconda3/envs/grizli37/lib/python3.7/site-packages/ipykernel_launcher.py:47: UserWarning: linestyle is redundantly defined by the 'linestyle' keyword argument and the fmt string \"s-\" (-> linestyle='-'). The keyword argument will take precedence.\n",
      "/Users/gbrammer/miniconda3/envs/grizli37/lib/python3.7/site-packages/ipykernel_launcher.py:47: UserWarning: linestyle is redundantly defined by the 'linestyle' keyword argument and the fmt string \"s-\" (-> linestyle='-'). The keyword argument will take precedence.\n",
      "/Users/gbrammer/miniconda3/envs/grizli37/lib/python3.7/site-packages/ipykernel_launcher.py:47: UserWarning: linestyle is redundantly defined by the 'linestyle' keyword argument and the fmt string \"s-\" (-> linestyle='-'). The keyword argument will take precedence.\n",
      "/Users/gbrammer/miniconda3/envs/grizli37/lib/python3.7/site-packages/ipykernel_launcher.py:47: UserWarning: linestyle is redundantly defined by the 'linestyle' keyword argument and the fmt string \"s-\" (-> linestyle='-'). The keyword argument will take precedence.\n"
     ]
    },
    {
     "name": "stdout",
     "output_type": "stream",
     "text": [
      "50 1193\n"
     ]
    },
    {
     "name": "stderr",
     "output_type": "stream",
     "text": [
      "/Users/gbrammer/miniconda3/envs/grizli37/lib/python3.7/site-packages/ipykernel_launcher.py:47: UserWarning: linestyle is redundantly defined by the 'linestyle' keyword argument and the fmt string \"s-\" (-> linestyle='-'). The keyword argument will take precedence.\n",
      "/Users/gbrammer/miniconda3/envs/grizli37/lib/python3.7/site-packages/ipykernel_launcher.py:47: UserWarning: linestyle is redundantly defined by the 'linestyle' keyword argument and the fmt string \"s-\" (-> linestyle='-'). The keyword argument will take precedence.\n",
      "/Users/gbrammer/miniconda3/envs/grizli37/lib/python3.7/site-packages/ipykernel_launcher.py:47: UserWarning: linestyle is redundantly defined by the 'linestyle' keyword argument and the fmt string \"s-\" (-> linestyle='-'). The keyword argument will take precedence.\n",
      "/Users/gbrammer/miniconda3/envs/grizli37/lib/python3.7/site-packages/ipykernel_launcher.py:47: UserWarning: linestyle is redundantly defined by the 'linestyle' keyword argument and the fmt string \"s-\" (-> linestyle='-'). The keyword argument will take precedence.\n",
      "/Users/gbrammer/miniconda3/envs/grizli37/lib/python3.7/site-packages/ipykernel_launcher.py:47: UserWarning: linestyle is redundantly defined by the 'linestyle' keyword argument and the fmt string \"s-\" (-> linestyle='-'). The keyword argument will take precedence.\n",
      "/Users/gbrammer/miniconda3/envs/grizli37/lib/python3.7/site-packages/ipykernel_launcher.py:47: UserWarning: linestyle is redundantly defined by the 'linestyle' keyword argument and the fmt string \"s-\" (-> linestyle='-'). The keyword argument will take precedence.\n",
      "/Users/gbrammer/miniconda3/envs/grizli37/lib/python3.7/site-packages/ipykernel_launcher.py:47: UserWarning: linestyle is redundantly defined by the 'linestyle' keyword argument and the fmt string \"s-\" (-> linestyle='-'). The keyword argument will take precedence.\n",
      "/Users/gbrammer/miniconda3/envs/grizli37/lib/python3.7/site-packages/ipykernel_launcher.py:47: UserWarning: linestyle is redundantly defined by the 'linestyle' keyword argument and the fmt string \"s-\" (-> linestyle='-'). The keyword argument will take precedence.\n",
      "/Users/gbrammer/miniconda3/envs/grizli37/lib/python3.7/site-packages/ipykernel_launcher.py:47: UserWarning: linestyle is redundantly defined by the 'linestyle' keyword argument and the fmt string \"s-\" (-> linestyle='-'). The keyword argument will take precedence.\n",
      "/Users/gbrammer/miniconda3/envs/grizli37/lib/python3.7/site-packages/ipykernel_launcher.py:47: UserWarning: linestyle is redundantly defined by the 'linestyle' keyword argument and the fmt string \"s-\" (-> linestyle='-'). The keyword argument will take precedence.\n",
      "/Users/gbrammer/miniconda3/envs/grizli37/lib/python3.7/site-packages/ipykernel_launcher.py:47: UserWarning: linestyle is redundantly defined by the 'linestyle' keyword argument and the fmt string \"s-\" (-> linestyle='-'). The keyword argument will take precedence.\n",
      "/Users/gbrammer/miniconda3/envs/grizli37/lib/python3.7/site-packages/ipykernel_launcher.py:47: UserWarning: linestyle is redundantly defined by the 'linestyle' keyword argument and the fmt string \"s-\" (-> linestyle='-'). The keyword argument will take precedence.\n",
      "/Users/gbrammer/miniconda3/envs/grizli37/lib/python3.7/site-packages/ipykernel_launcher.py:47: UserWarning: linestyle is redundantly defined by the 'linestyle' keyword argument and the fmt string \"s-\" (-> linestyle='-'). The keyword argument will take precedence.\n",
      "/Users/gbrammer/miniconda3/envs/grizli37/lib/python3.7/site-packages/ipykernel_launcher.py:47: UserWarning: linestyle is redundantly defined by the 'linestyle' keyword argument and the fmt string \"s-\" (-> linestyle='-'). The keyword argument will take precedence.\n",
      "/Users/gbrammer/miniconda3/envs/grizli37/lib/python3.7/site-packages/ipykernel_launcher.py:47: UserWarning: linestyle is redundantly defined by the 'linestyle' keyword argument and the fmt string \"s-\" (-> linestyle='-'). The keyword argument will take precedence.\n",
      "/Users/gbrammer/miniconda3/envs/grizli37/lib/python3.7/site-packages/ipykernel_launcher.py:47: UserWarning: linestyle is redundantly defined by the 'linestyle' keyword argument and the fmt string \"s-\" (-> linestyle='-'). The keyword argument will take precedence.\n",
      "/Users/gbrammer/miniconda3/envs/grizli37/lib/python3.7/site-packages/ipykernel_launcher.py:47: UserWarning: linestyle is redundantly defined by the 'linestyle' keyword argument and the fmt string \"s-\" (-> linestyle='-'). The keyword argument will take precedence.\n",
      "/Users/gbrammer/miniconda3/envs/grizli37/lib/python3.7/site-packages/ipykernel_launcher.py:47: UserWarning: linestyle is redundantly defined by the 'linestyle' keyword argument and the fmt string \"s-\" (-> linestyle='-'). The keyword argument will take precedence.\n",
      "/Users/gbrammer/miniconda3/envs/grizli37/lib/python3.7/site-packages/ipykernel_launcher.py:47: UserWarning: linestyle is redundantly defined by the 'linestyle' keyword argument and the fmt string \"s-\" (-> linestyle='-'). The keyword argument will take precedence.\n",
      "/Users/gbrammer/miniconda3/envs/grizli37/lib/python3.7/site-packages/ipykernel_launcher.py:47: UserWarning: linestyle is redundantly defined by the 'linestyle' keyword argument and the fmt string \"s-\" (-> linestyle='-'). The keyword argument will take precedence.\n",
      "/Users/gbrammer/miniconda3/envs/grizli37/lib/python3.7/site-packages/ipykernel_launcher.py:47: UserWarning: linestyle is redundantly defined by the 'linestyle' keyword argument and the fmt string \"s-\" (-> linestyle='-'). The keyword argument will take precedence.\n",
      "/Users/gbrammer/miniconda3/envs/grizli37/lib/python3.7/site-packages/ipykernel_launcher.py:47: UserWarning: linestyle is redundantly defined by the 'linestyle' keyword argument and the fmt string \"s-\" (-> linestyle='-'). The keyword argument will take precedence.\n",
      "/Users/gbrammer/miniconda3/envs/grizli37/lib/python3.7/site-packages/ipykernel_launcher.py:47: UserWarning: linestyle is redundantly defined by the 'linestyle' keyword argument and the fmt string \"s-\" (-> linestyle='-'). The keyword argument will take precedence.\n",
      "/Users/gbrammer/miniconda3/envs/grizli37/lib/python3.7/site-packages/ipykernel_launcher.py:47: UserWarning: linestyle is redundantly defined by the 'linestyle' keyword argument and the fmt string \"s-\" (-> linestyle='-'). The keyword argument will take precedence.\n",
      "/Users/gbrammer/miniconda3/envs/grizli37/lib/python3.7/site-packages/ipykernel_launcher.py:47: UserWarning: linestyle is redundantly defined by the 'linestyle' keyword argument and the fmt string \"s-\" (-> linestyle='-'). The keyword argument will take precedence.\n",
      "/Users/gbrammer/miniconda3/envs/grizli37/lib/python3.7/site-packages/ipykernel_launcher.py:47: UserWarning: linestyle is redundantly defined by the 'linestyle' keyword argument and the fmt string \"s-\" (-> linestyle='-'). The keyword argument will take precedence.\n",
      "/Users/gbrammer/miniconda3/envs/grizli37/lib/python3.7/site-packages/ipykernel_launcher.py:47: UserWarning: linestyle is redundantly defined by the 'linestyle' keyword argument and the fmt string \"s-\" (-> linestyle='-'). The keyword argument will take precedence.\n",
      "/Users/gbrammer/miniconda3/envs/grizli37/lib/python3.7/site-packages/ipykernel_launcher.py:47: UserWarning: linestyle is redundantly defined by the 'linestyle' keyword argument and the fmt string \"s-\" (-> linestyle='-'). The keyword argument will take precedence.\n",
      "/Users/gbrammer/miniconda3/envs/grizli37/lib/python3.7/site-packages/ipykernel_launcher.py:47: UserWarning: linestyle is redundantly defined by the 'linestyle' keyword argument and the fmt string \"s-\" (-> linestyle='-'). The keyword argument will take precedence.\n",
      "/Users/gbrammer/miniconda3/envs/grizli37/lib/python3.7/site-packages/ipykernel_launcher.py:47: UserWarning: linestyle is redundantly defined by the 'linestyle' keyword argument and the fmt string \"s-\" (-> linestyle='-'). The keyword argument will take precedence.\n",
      "/Users/gbrammer/miniconda3/envs/grizli37/lib/python3.7/site-packages/ipykernel_launcher.py:47: UserWarning: linestyle is redundantly defined by the 'linestyle' keyword argument and the fmt string \"s-\" (-> linestyle='-'). The keyword argument will take precedence.\n",
      "/Users/gbrammer/miniconda3/envs/grizli37/lib/python3.7/site-packages/ipykernel_launcher.py:47: UserWarning: linestyle is redundantly defined by the 'linestyle' keyword argument and the fmt string \"s-\" (-> linestyle='-'). The keyword argument will take precedence.\n",
      "/Users/gbrammer/miniconda3/envs/grizli37/lib/python3.7/site-packages/ipykernel_launcher.py:47: UserWarning: linestyle is redundantly defined by the 'linestyle' keyword argument and the fmt string \"s-\" (-> linestyle='-'). The keyword argument will take precedence.\n",
      "/Users/gbrammer/miniconda3/envs/grizli37/lib/python3.7/site-packages/ipykernel_launcher.py:47: UserWarning: linestyle is redundantly defined by the 'linestyle' keyword argument and the fmt string \"s-\" (-> linestyle='-'). The keyword argument will take precedence.\n",
      "/Users/gbrammer/miniconda3/envs/grizli37/lib/python3.7/site-packages/ipykernel_launcher.py:47: UserWarning: linestyle is redundantly defined by the 'linestyle' keyword argument and the fmt string \"s-\" (-> linestyle='-'). The keyword argument will take precedence.\n"
     ]
    },
    {
     "name": "stderr",
     "output_type": "stream",
     "text": [
      "/Users/gbrammer/miniconda3/envs/grizli37/lib/python3.7/site-packages/ipykernel_launcher.py:47: UserWarning: linestyle is redundantly defined by the 'linestyle' keyword argument and the fmt string \"s-\" (-> linestyle='-'). The keyword argument will take precedence.\n",
      "/Users/gbrammer/miniconda3/envs/grizli37/lib/python3.7/site-packages/ipykernel_launcher.py:47: UserWarning: linestyle is redundantly defined by the 'linestyle' keyword argument and the fmt string \"s-\" (-> linestyle='-'). The keyword argument will take precedence.\n",
      "/Users/gbrammer/miniconda3/envs/grizli37/lib/python3.7/site-packages/ipykernel_launcher.py:47: UserWarning: linestyle is redundantly defined by the 'linestyle' keyword argument and the fmt string \"s-\" (-> linestyle='-'). The keyword argument will take precedence.\n",
      "/Users/gbrammer/miniconda3/envs/grizli37/lib/python3.7/site-packages/ipykernel_launcher.py:47: UserWarning: linestyle is redundantly defined by the 'linestyle' keyword argument and the fmt string \"s-\" (-> linestyle='-'). The keyword argument will take precedence.\n",
      "/Users/gbrammer/miniconda3/envs/grizli37/lib/python3.7/site-packages/ipykernel_launcher.py:47: UserWarning: linestyle is redundantly defined by the 'linestyle' keyword argument and the fmt string \"s-\" (-> linestyle='-'). The keyword argument will take precedence.\n",
      "/Users/gbrammer/miniconda3/envs/grizli37/lib/python3.7/site-packages/ipykernel_launcher.py:47: UserWarning: linestyle is redundantly defined by the 'linestyle' keyword argument and the fmt string \"s-\" (-> linestyle='-'). The keyword argument will take precedence.\n",
      "/Users/gbrammer/miniconda3/envs/grizli37/lib/python3.7/site-packages/ipykernel_launcher.py:47: UserWarning: linestyle is redundantly defined by the 'linestyle' keyword argument and the fmt string \"s-\" (-> linestyle='-'). The keyword argument will take precedence.\n",
      "/Users/gbrammer/miniconda3/envs/grizli37/lib/python3.7/site-packages/ipykernel_launcher.py:47: UserWarning: linestyle is redundantly defined by the 'linestyle' keyword argument and the fmt string \"s-\" (-> linestyle='-'). The keyword argument will take precedence.\n",
      "/Users/gbrammer/miniconda3/envs/grizli37/lib/python3.7/site-packages/ipykernel_launcher.py:47: UserWarning: linestyle is redundantly defined by the 'linestyle' keyword argument and the fmt string \"s-\" (-> linestyle='-'). The keyword argument will take precedence.\n",
      "/Users/gbrammer/miniconda3/envs/grizli37/lib/python3.7/site-packages/ipykernel_launcher.py:47: UserWarning: linestyle is redundantly defined by the 'linestyle' keyword argument and the fmt string \"s-\" (-> linestyle='-'). The keyword argument will take precedence.\n",
      "/Users/gbrammer/miniconda3/envs/grizli37/lib/python3.7/site-packages/ipykernel_launcher.py:47: UserWarning: linestyle is redundantly defined by the 'linestyle' keyword argument and the fmt string \"s-\" (-> linestyle='-'). The keyword argument will take precedence.\n",
      "/Users/gbrammer/miniconda3/envs/grizli37/lib/python3.7/site-packages/ipykernel_launcher.py:47: UserWarning: linestyle is redundantly defined by the 'linestyle' keyword argument and the fmt string \"s-\" (-> linestyle='-'). The keyword argument will take precedence.\n",
      "/Users/gbrammer/miniconda3/envs/grizli37/lib/python3.7/site-packages/ipykernel_launcher.py:47: UserWarning: linestyle is redundantly defined by the 'linestyle' keyword argument and the fmt string \"s-\" (-> linestyle='-'). The keyword argument will take precedence.\n",
      "/Users/gbrammer/miniconda3/envs/grizli37/lib/python3.7/site-packages/ipykernel_launcher.py:47: UserWarning: linestyle is redundantly defined by the 'linestyle' keyword argument and the fmt string \"s-\" (-> linestyle='-'). The keyword argument will take precedence.\n",
      "/Users/gbrammer/miniconda3/envs/grizli37/lib/python3.7/site-packages/ipykernel_launcher.py:47: UserWarning: linestyle is redundantly defined by the 'linestyle' keyword argument and the fmt string \"s-\" (-> linestyle='-'). The keyword argument will take precedence.\n",
      "/Users/gbrammer/miniconda3/envs/grizli37/lib/python3.7/site-packages/ipykernel_launcher.py:47: UserWarning: linestyle is redundantly defined by the 'linestyle' keyword argument and the fmt string \"s-\" (-> linestyle='-'). The keyword argument will take precedence.\n",
      "/Users/gbrammer/miniconda3/envs/grizli37/lib/python3.7/site-packages/ipykernel_launcher.py:47: UserWarning: linestyle is redundantly defined by the 'linestyle' keyword argument and the fmt string \"s-\" (-> linestyle='-'). The keyword argument will take precedence.\n",
      "/Users/gbrammer/miniconda3/envs/grizli37/lib/python3.7/site-packages/ipykernel_launcher.py:47: UserWarning: linestyle is redundantly defined by the 'linestyle' keyword argument and the fmt string \"s-\" (-> linestyle='-'). The keyword argument will take precedence.\n",
      "/Users/gbrammer/miniconda3/envs/grizli37/lib/python3.7/site-packages/ipykernel_launcher.py:47: UserWarning: linestyle is redundantly defined by the 'linestyle' keyword argument and the fmt string \"s-\" (-> linestyle='-'). The keyword argument will take precedence.\n",
      "/Users/gbrammer/miniconda3/envs/grizli37/lib/python3.7/site-packages/ipykernel_launcher.py:47: UserWarning: linestyle is redundantly defined by the 'linestyle' keyword argument and the fmt string \"s-\" (-> linestyle='-'). The keyword argument will take precedence.\n",
      "/Users/gbrammer/miniconda3/envs/grizli37/lib/python3.7/site-packages/ipykernel_launcher.py:47: UserWarning: linestyle is redundantly defined by the 'linestyle' keyword argument and the fmt string \"s-\" (-> linestyle='-'). The keyword argument will take precedence.\n",
      "/Users/gbrammer/miniconda3/envs/grizli37/lib/python3.7/site-packages/ipykernel_launcher.py:47: UserWarning: linestyle is redundantly defined by the 'linestyle' keyword argument and the fmt string \"s-\" (-> linestyle='-'). The keyword argument will take precedence.\n",
      "/Users/gbrammer/miniconda3/envs/grizli37/lib/python3.7/site-packages/ipykernel_launcher.py:47: UserWarning: linestyle is redundantly defined by the 'linestyle' keyword argument and the fmt string \"s-\" (-> linestyle='-'). The keyword argument will take precedence.\n",
      "/Users/gbrammer/miniconda3/envs/grizli37/lib/python3.7/site-packages/ipykernel_launcher.py:47: UserWarning: linestyle is redundantly defined by the 'linestyle' keyword argument and the fmt string \"s-\" (-> linestyle='-'). The keyword argument will take precedence.\n",
      "/Users/gbrammer/miniconda3/envs/grizli37/lib/python3.7/site-packages/ipykernel_launcher.py:47: UserWarning: linestyle is redundantly defined by the 'linestyle' keyword argument and the fmt string \"s-\" (-> linestyle='-'). The keyword argument will take precedence.\n",
      "/Users/gbrammer/miniconda3/envs/grizli37/lib/python3.7/site-packages/ipykernel_launcher.py:47: UserWarning: linestyle is redundantly defined by the 'linestyle' keyword argument and the fmt string \"s-\" (-> linestyle='-'). The keyword argument will take precedence.\n"
     ]
    },
    {
     "name": "stdout",
     "output_type": "stream",
     "text": [
      "51 1194\n"
     ]
    },
    {
     "name": "stderr",
     "output_type": "stream",
     "text": [
      "/Users/gbrammer/miniconda3/envs/grizli37/lib/python3.7/site-packages/ipykernel_launcher.py:47: UserWarning: linestyle is redundantly defined by the 'linestyle' keyword argument and the fmt string \"s-\" (-> linestyle='-'). The keyword argument will take precedence.\n",
      "/Users/gbrammer/miniconda3/envs/grizli37/lib/python3.7/site-packages/ipykernel_launcher.py:47: UserWarning: linestyle is redundantly defined by the 'linestyle' keyword argument and the fmt string \"s-\" (-> linestyle='-'). The keyword argument will take precedence.\n",
      "/Users/gbrammer/miniconda3/envs/grizli37/lib/python3.7/site-packages/ipykernel_launcher.py:47: UserWarning: linestyle is redundantly defined by the 'linestyle' keyword argument and the fmt string \"s-\" (-> linestyle='-'). The keyword argument will take precedence.\n",
      "/Users/gbrammer/miniconda3/envs/grizli37/lib/python3.7/site-packages/ipykernel_launcher.py:47: UserWarning: linestyle is redundantly defined by the 'linestyle' keyword argument and the fmt string \"s-\" (-> linestyle='-'). The keyword argument will take precedence.\n",
      "/Users/gbrammer/miniconda3/envs/grizli37/lib/python3.7/site-packages/ipykernel_launcher.py:47: UserWarning: linestyle is redundantly defined by the 'linestyle' keyword argument and the fmt string \"s-\" (-> linestyle='-'). The keyword argument will take precedence.\n",
      "/Users/gbrammer/miniconda3/envs/grizli37/lib/python3.7/site-packages/ipykernel_launcher.py:47: UserWarning: linestyle is redundantly defined by the 'linestyle' keyword argument and the fmt string \"s-\" (-> linestyle='-'). The keyword argument will take precedence.\n",
      "/Users/gbrammer/miniconda3/envs/grizli37/lib/python3.7/site-packages/ipykernel_launcher.py:47: UserWarning: linestyle is redundantly defined by the 'linestyle' keyword argument and the fmt string \"s-\" (-> linestyle='-'). The keyword argument will take precedence.\n",
      "/Users/gbrammer/miniconda3/envs/grizli37/lib/python3.7/site-packages/ipykernel_launcher.py:47: UserWarning: linestyle is redundantly defined by the 'linestyle' keyword argument and the fmt string \"s-\" (-> linestyle='-'). The keyword argument will take precedence.\n",
      "/Users/gbrammer/miniconda3/envs/grizli37/lib/python3.7/site-packages/ipykernel_launcher.py:47: UserWarning: linestyle is redundantly defined by the 'linestyle' keyword argument and the fmt string \"s-\" (-> linestyle='-'). The keyword argument will take precedence.\n",
      "/Users/gbrammer/miniconda3/envs/grizli37/lib/python3.7/site-packages/ipykernel_launcher.py:47: UserWarning: linestyle is redundantly defined by the 'linestyle' keyword argument and the fmt string \"s-\" (-> linestyle='-'). The keyword argument will take precedence.\n",
      "/Users/gbrammer/miniconda3/envs/grizli37/lib/python3.7/site-packages/ipykernel_launcher.py:47: UserWarning: linestyle is redundantly defined by the 'linestyle' keyword argument and the fmt string \"s-\" (-> linestyle='-'). The keyword argument will take precedence.\n",
      "/Users/gbrammer/miniconda3/envs/grizli37/lib/python3.7/site-packages/ipykernel_launcher.py:47: UserWarning: linestyle is redundantly defined by the 'linestyle' keyword argument and the fmt string \"s-\" (-> linestyle='-'). The keyword argument will take precedence.\n",
      "/Users/gbrammer/miniconda3/envs/grizli37/lib/python3.7/site-packages/ipykernel_launcher.py:47: UserWarning: linestyle is redundantly defined by the 'linestyle' keyword argument and the fmt string \"s-\" (-> linestyle='-'). The keyword argument will take precedence.\n",
      "/Users/gbrammer/miniconda3/envs/grizli37/lib/python3.7/site-packages/ipykernel_launcher.py:47: UserWarning: linestyle is redundantly defined by the 'linestyle' keyword argument and the fmt string \"s-\" (-> linestyle='-'). The keyword argument will take precedence.\n"
     ]
    },
    {
     "name": "stdout",
     "output_type": "stream",
     "text": [
      "52 1195\n",
      "Fail\n",
      "53 1200\n"
     ]
    },
    {
     "name": "stderr",
     "output_type": "stream",
     "text": [
      "/Users/gbrammer/miniconda3/envs/grizli37/lib/python3.7/site-packages/ipykernel_launcher.py:47: UserWarning: linestyle is redundantly defined by the 'linestyle' keyword argument and the fmt string \"s-\" (-> linestyle='-'). The keyword argument will take precedence.\n",
      "/Users/gbrammer/miniconda3/envs/grizli37/lib/python3.7/site-packages/ipykernel_launcher.py:47: UserWarning: linestyle is redundantly defined by the 'linestyle' keyword argument and the fmt string \"s-\" (-> linestyle='-'). The keyword argument will take precedence.\n",
      "/Users/gbrammer/miniconda3/envs/grizli37/lib/python3.7/site-packages/ipykernel_launcher.py:47: UserWarning: linestyle is redundantly defined by the 'linestyle' keyword argument and the fmt string \"s-\" (-> linestyle='-'). The keyword argument will take precedence.\n",
      "/Users/gbrammer/miniconda3/envs/grizli37/lib/python3.7/site-packages/ipykernel_launcher.py:47: UserWarning: linestyle is redundantly defined by the 'linestyle' keyword argument and the fmt string \"s-\" (-> linestyle='-'). The keyword argument will take precedence.\n"
     ]
    },
    {
     "name": "stdout",
     "output_type": "stream",
     "text": [
      "54 1201\n"
     ]
    },
    {
     "name": "stderr",
     "output_type": "stream",
     "text": [
      "/Users/gbrammer/miniconda3/envs/grizli37/lib/python3.7/site-packages/ipykernel_launcher.py:47: UserWarning: linestyle is redundantly defined by the 'linestyle' keyword argument and the fmt string \"s-\" (-> linestyle='-'). The keyword argument will take precedence.\n",
      "/Users/gbrammer/miniconda3/envs/grizli37/lib/python3.7/site-packages/ipykernel_launcher.py:47: UserWarning: linestyle is redundantly defined by the 'linestyle' keyword argument and the fmt string \"s-\" (-> linestyle='-'). The keyword argument will take precedence.\n",
      "/Users/gbrammer/miniconda3/envs/grizli37/lib/python3.7/site-packages/ipykernel_launcher.py:47: UserWarning: linestyle is redundantly defined by the 'linestyle' keyword argument and the fmt string \"s-\" (-> linestyle='-'). The keyword argument will take precedence.\n",
      "/Users/gbrammer/miniconda3/envs/grizli37/lib/python3.7/site-packages/ipykernel_launcher.py:47: UserWarning: linestyle is redundantly defined by the 'linestyle' keyword argument and the fmt string \"s-\" (-> linestyle='-'). The keyword argument will take precedence.\n",
      "/Users/gbrammer/miniconda3/envs/grizli37/lib/python3.7/site-packages/ipykernel_launcher.py:47: UserWarning: linestyle is redundantly defined by the 'linestyle' keyword argument and the fmt string \"s-\" (-> linestyle='-'). The keyword argument will take precedence.\n",
      "/Users/gbrammer/miniconda3/envs/grizli37/lib/python3.7/site-packages/ipykernel_launcher.py:47: UserWarning: linestyle is redundantly defined by the 'linestyle' keyword argument and the fmt string \"s-\" (-> linestyle='-'). The keyword argument will take precedence.\n",
      "/Users/gbrammer/miniconda3/envs/grizli37/lib/python3.7/site-packages/ipykernel_launcher.py:47: UserWarning: linestyle is redundantly defined by the 'linestyle' keyword argument and the fmt string \"s-\" (-> linestyle='-'). The keyword argument will take precedence.\n",
      "/Users/gbrammer/miniconda3/envs/grizli37/lib/python3.7/site-packages/ipykernel_launcher.py:47: UserWarning: linestyle is redundantly defined by the 'linestyle' keyword argument and the fmt string \"s-\" (-> linestyle='-'). The keyword argument will take precedence.\n",
      "/Users/gbrammer/miniconda3/envs/grizli37/lib/python3.7/site-packages/ipykernel_launcher.py:47: UserWarning: linestyle is redundantly defined by the 'linestyle' keyword argument and the fmt string \"s-\" (-> linestyle='-'). The keyword argument will take precedence.\n",
      "/Users/gbrammer/miniconda3/envs/grizli37/lib/python3.7/site-packages/ipykernel_launcher.py:47: UserWarning: linestyle is redundantly defined by the 'linestyle' keyword argument and the fmt string \"s-\" (-> linestyle='-'). The keyword argument will take precedence.\n",
      "/Users/gbrammer/miniconda3/envs/grizli37/lib/python3.7/site-packages/ipykernel_launcher.py:47: UserWarning: linestyle is redundantly defined by the 'linestyle' keyword argument and the fmt string \"s-\" (-> linestyle='-'). The keyword argument will take precedence.\n",
      "/Users/gbrammer/miniconda3/envs/grizli37/lib/python3.7/site-packages/ipykernel_launcher.py:47: UserWarning: linestyle is redundantly defined by the 'linestyle' keyword argument and the fmt string \"s-\" (-> linestyle='-'). The keyword argument will take precedence.\n",
      "/Users/gbrammer/miniconda3/envs/grizli37/lib/python3.7/site-packages/ipykernel_launcher.py:47: UserWarning: linestyle is redundantly defined by the 'linestyle' keyword argument and the fmt string \"s-\" (-> linestyle='-'). The keyword argument will take precedence.\n",
      "/Users/gbrammer/miniconda3/envs/grizli37/lib/python3.7/site-packages/ipykernel_launcher.py:47: UserWarning: linestyle is redundantly defined by the 'linestyle' keyword argument and the fmt string \"s-\" (-> linestyle='-'). The keyword argument will take precedence.\n",
      "/Users/gbrammer/miniconda3/envs/grizli37/lib/python3.7/site-packages/ipykernel_launcher.py:47: UserWarning: linestyle is redundantly defined by the 'linestyle' keyword argument and the fmt string \"s-\" (-> linestyle='-'). The keyword argument will take precedence.\n",
      "/Users/gbrammer/miniconda3/envs/grizli37/lib/python3.7/site-packages/ipykernel_launcher.py:47: UserWarning: linestyle is redundantly defined by the 'linestyle' keyword argument and the fmt string \"s-\" (-> linestyle='-'). The keyword argument will take precedence.\n",
      "/Users/gbrammer/miniconda3/envs/grizli37/lib/python3.7/site-packages/ipykernel_launcher.py:47: UserWarning: linestyle is redundantly defined by the 'linestyle' keyword argument and the fmt string \"s-\" (-> linestyle='-'). The keyword argument will take precedence.\n",
      "/Users/gbrammer/miniconda3/envs/grizli37/lib/python3.7/site-packages/ipykernel_launcher.py:47: UserWarning: linestyle is redundantly defined by the 'linestyle' keyword argument and the fmt string \"s-\" (-> linestyle='-'). The keyword argument will take precedence.\n",
      "/Users/gbrammer/miniconda3/envs/grizli37/lib/python3.7/site-packages/ipykernel_launcher.py:47: UserWarning: linestyle is redundantly defined by the 'linestyle' keyword argument and the fmt string \"s-\" (-> linestyle='-'). The keyword argument will take precedence.\n",
      "/Users/gbrammer/miniconda3/envs/grizli37/lib/python3.7/site-packages/ipykernel_launcher.py:47: UserWarning: linestyle is redundantly defined by the 'linestyle' keyword argument and the fmt string \"s-\" (-> linestyle='-'). The keyword argument will take precedence.\n",
      "/Users/gbrammer/miniconda3/envs/grizli37/lib/python3.7/site-packages/ipykernel_launcher.py:47: UserWarning: linestyle is redundantly defined by the 'linestyle' keyword argument and the fmt string \"s-\" (-> linestyle='-'). The keyword argument will take precedence.\n"
     ]
    },
    {
     "name": "stdout",
     "output_type": "stream",
     "text": [
      "55 1224\n"
     ]
    },
    {
     "name": "stderr",
     "output_type": "stream",
     "text": [
      "/Users/gbrammer/miniconda3/envs/grizli37/lib/python3.7/site-packages/ipykernel_launcher.py:47: UserWarning: linestyle is redundantly defined by the 'linestyle' keyword argument and the fmt string \"s-\" (-> linestyle='-'). The keyword argument will take precedence.\n",
      "/Users/gbrammer/miniconda3/envs/grizli37/lib/python3.7/site-packages/ipykernel_launcher.py:47: UserWarning: linestyle is redundantly defined by the 'linestyle' keyword argument and the fmt string \"s-\" (-> linestyle='-'). The keyword argument will take precedence.\n",
      "/Users/gbrammer/miniconda3/envs/grizli37/lib/python3.7/site-packages/ipykernel_launcher.py:47: UserWarning: linestyle is redundantly defined by the 'linestyle' keyword argument and the fmt string \"s-\" (-> linestyle='-'). The keyword argument will take precedence.\n",
      "/Users/gbrammer/miniconda3/envs/grizli37/lib/python3.7/site-packages/ipykernel_launcher.py:47: UserWarning: linestyle is redundantly defined by the 'linestyle' keyword argument and the fmt string \"s-\" (-> linestyle='-'). The keyword argument will take precedence.\n"
     ]
    },
    {
     "name": "stdout",
     "output_type": "stream",
     "text": [
      "56 1241\n"
     ]
    },
    {
     "name": "stderr",
     "output_type": "stream",
     "text": [
      "/Users/gbrammer/miniconda3/envs/grizli37/lib/python3.7/site-packages/ipykernel_launcher.py:47: UserWarning: linestyle is redundantly defined by the 'linestyle' keyword argument and the fmt string \"s-\" (-> linestyle='-'). The keyword argument will take precedence.\n",
      "/Users/gbrammer/miniconda3/envs/grizli37/lib/python3.7/site-packages/ipykernel_launcher.py:47: UserWarning: linestyle is redundantly defined by the 'linestyle' keyword argument and the fmt string \"s-\" (-> linestyle='-'). The keyword argument will take precedence.\n",
      "/Users/gbrammer/miniconda3/envs/grizli37/lib/python3.7/site-packages/ipykernel_launcher.py:47: UserWarning: linestyle is redundantly defined by the 'linestyle' keyword argument and the fmt string \"s-\" (-> linestyle='-'). The keyword argument will take precedence.\n",
      "/Users/gbrammer/miniconda3/envs/grizli37/lib/python3.7/site-packages/ipykernel_launcher.py:47: UserWarning: linestyle is redundantly defined by the 'linestyle' keyword argument and the fmt string \"s-\" (-> linestyle='-'). The keyword argument will take precedence.\n",
      "/Users/gbrammer/miniconda3/envs/grizli37/lib/python3.7/site-packages/ipykernel_launcher.py:47: UserWarning: linestyle is redundantly defined by the 'linestyle' keyword argument and the fmt string \"s-\" (-> linestyle='-'). The keyword argument will take precedence.\n",
      "/Users/gbrammer/miniconda3/envs/grizli37/lib/python3.7/site-packages/ipykernel_launcher.py:47: UserWarning: linestyle is redundantly defined by the 'linestyle' keyword argument and the fmt string \"s-\" (-> linestyle='-'). The keyword argument will take precedence.\n",
      "/Users/gbrammer/miniconda3/envs/grizli37/lib/python3.7/site-packages/ipykernel_launcher.py:47: UserWarning: linestyle is redundantly defined by the 'linestyle' keyword argument and the fmt string \"s-\" (-> linestyle='-'). The keyword argument will take precedence.\n",
      "/Users/gbrammer/miniconda3/envs/grizli37/lib/python3.7/site-packages/ipykernel_launcher.py:47: UserWarning: linestyle is redundantly defined by the 'linestyle' keyword argument and the fmt string \"s-\" (-> linestyle='-'). The keyword argument will take precedence.\n",
      "/Users/gbrammer/miniconda3/envs/grizli37/lib/python3.7/site-packages/ipykernel_launcher.py:47: UserWarning: linestyle is redundantly defined by the 'linestyle' keyword argument and the fmt string \"s-\" (-> linestyle='-'). The keyword argument will take precedence.\n",
      "/Users/gbrammer/miniconda3/envs/grizli37/lib/python3.7/site-packages/ipykernel_launcher.py:47: UserWarning: linestyle is redundantly defined by the 'linestyle' keyword argument and the fmt string \"s-\" (-> linestyle='-'). The keyword argument will take precedence.\n",
      "/Users/gbrammer/miniconda3/envs/grizli37/lib/python3.7/site-packages/ipykernel_launcher.py:47: UserWarning: linestyle is redundantly defined by the 'linestyle' keyword argument and the fmt string \"s-\" (-> linestyle='-'). The keyword argument will take precedence.\n",
      "/Users/gbrammer/miniconda3/envs/grizli37/lib/python3.7/site-packages/ipykernel_launcher.py:47: UserWarning: linestyle is redundantly defined by the 'linestyle' keyword argument and the fmt string \"s-\" (-> linestyle='-'). The keyword argument will take precedence.\n",
      "/Users/gbrammer/miniconda3/envs/grizli37/lib/python3.7/site-packages/ipykernel_launcher.py:47: UserWarning: linestyle is redundantly defined by the 'linestyle' keyword argument and the fmt string \"s-\" (-> linestyle='-'). The keyword argument will take precedence.\n",
      "/Users/gbrammer/miniconda3/envs/grizli37/lib/python3.7/site-packages/ipykernel_launcher.py:47: UserWarning: linestyle is redundantly defined by the 'linestyle' keyword argument and the fmt string \"s-\" (-> linestyle='-'). The keyword argument will take precedence.\n",
      "/Users/gbrammer/miniconda3/envs/grizli37/lib/python3.7/site-packages/ipykernel_launcher.py:47: UserWarning: linestyle is redundantly defined by the 'linestyle' keyword argument and the fmt string \"s-\" (-> linestyle='-'). The keyword argument will take precedence.\n",
      "/Users/gbrammer/miniconda3/envs/grizli37/lib/python3.7/site-packages/ipykernel_launcher.py:47: UserWarning: linestyle is redundantly defined by the 'linestyle' keyword argument and the fmt string \"s-\" (-> linestyle='-'). The keyword argument will take precedence.\n",
      "/Users/gbrammer/miniconda3/envs/grizli37/lib/python3.7/site-packages/ipykernel_launcher.py:47: UserWarning: linestyle is redundantly defined by the 'linestyle' keyword argument and the fmt string \"s-\" (-> linestyle='-'). The keyword argument will take precedence.\n",
      "/Users/gbrammer/miniconda3/envs/grizli37/lib/python3.7/site-packages/ipykernel_launcher.py:47: UserWarning: linestyle is redundantly defined by the 'linestyle' keyword argument and the fmt string \"s-\" (-> linestyle='-'). The keyword argument will take precedence.\n",
      "/Users/gbrammer/miniconda3/envs/grizli37/lib/python3.7/site-packages/ipykernel_launcher.py:47: UserWarning: linestyle is redundantly defined by the 'linestyle' keyword argument and the fmt string \"s-\" (-> linestyle='-'). The keyword argument will take precedence.\n",
      "/Users/gbrammer/miniconda3/envs/grizli37/lib/python3.7/site-packages/ipykernel_launcher.py:47: UserWarning: linestyle is redundantly defined by the 'linestyle' keyword argument and the fmt string \"s-\" (-> linestyle='-'). The keyword argument will take precedence.\n",
      "/Users/gbrammer/miniconda3/envs/grizli37/lib/python3.7/site-packages/ipykernel_launcher.py:47: UserWarning: linestyle is redundantly defined by the 'linestyle' keyword argument and the fmt string \"s-\" (-> linestyle='-'). The keyword argument will take precedence.\n",
      "/Users/gbrammer/miniconda3/envs/grizli37/lib/python3.7/site-packages/ipykernel_launcher.py:47: UserWarning: linestyle is redundantly defined by the 'linestyle' keyword argument and the fmt string \"s-\" (-> linestyle='-'). The keyword argument will take precedence.\n"
     ]
    },
    {
     "name": "stdout",
     "output_type": "stream",
     "text": [
      "57 1270\n"
     ]
    },
    {
     "name": "stderr",
     "output_type": "stream",
     "text": [
      "/Users/gbrammer/miniconda3/envs/grizli37/lib/python3.7/site-packages/ipykernel_launcher.py:47: UserWarning: linestyle is redundantly defined by the 'linestyle' keyword argument and the fmt string \"s-\" (-> linestyle='-'). The keyword argument will take precedence.\n",
      "/Users/gbrammer/miniconda3/envs/grizli37/lib/python3.7/site-packages/ipykernel_launcher.py:47: UserWarning: linestyle is redundantly defined by the 'linestyle' keyword argument and the fmt string \"s-\" (-> linestyle='-'). The keyword argument will take precedence.\n",
      "/Users/gbrammer/miniconda3/envs/grizli37/lib/python3.7/site-packages/ipykernel_launcher.py:47: UserWarning: linestyle is redundantly defined by the 'linestyle' keyword argument and the fmt string \"s-\" (-> linestyle='-'). The keyword argument will take precedence.\n",
      "/Users/gbrammer/miniconda3/envs/grizli37/lib/python3.7/site-packages/ipykernel_launcher.py:47: UserWarning: linestyle is redundantly defined by the 'linestyle' keyword argument and the fmt string \"s-\" (-> linestyle='-'). The keyword argument will take precedence.\n"
     ]
    },
    {
     "name": "stdout",
     "output_type": "stream",
     "text": [
      "58 1274\n"
     ]
    },
    {
     "name": "stderr",
     "output_type": "stream",
     "text": [
      "/Users/gbrammer/miniconda3/envs/grizli37/lib/python3.7/site-packages/ipykernel_launcher.py:47: UserWarning: linestyle is redundantly defined by the 'linestyle' keyword argument and the fmt string \"s-\" (-> linestyle='-'). The keyword argument will take precedence.\n",
      "/Users/gbrammer/miniconda3/envs/grizli37/lib/python3.7/site-packages/ipykernel_launcher.py:47: UserWarning: linestyle is redundantly defined by the 'linestyle' keyword argument and the fmt string \"s-\" (-> linestyle='-'). The keyword argument will take precedence.\n",
      "/Users/gbrammer/miniconda3/envs/grizli37/lib/python3.7/site-packages/ipykernel_launcher.py:47: UserWarning: linestyle is redundantly defined by the 'linestyle' keyword argument and the fmt string \"s-\" (-> linestyle='-'). The keyword argument will take precedence.\n",
      "/Users/gbrammer/miniconda3/envs/grizli37/lib/python3.7/site-packages/ipykernel_launcher.py:47: UserWarning: linestyle is redundantly defined by the 'linestyle' keyword argument and the fmt string \"s-\" (-> linestyle='-'). The keyword argument will take precedence.\n",
      "/Users/gbrammer/miniconda3/envs/grizli37/lib/python3.7/site-packages/ipykernel_launcher.py:47: UserWarning: linestyle is redundantly defined by the 'linestyle' keyword argument and the fmt string \"s-\" (-> linestyle='-'). The keyword argument will take precedence.\n",
      "/Users/gbrammer/miniconda3/envs/grizli37/lib/python3.7/site-packages/ipykernel_launcher.py:47: UserWarning: linestyle is redundantly defined by the 'linestyle' keyword argument and the fmt string \"s-\" (-> linestyle='-'). The keyword argument will take precedence.\n",
      "/Users/gbrammer/miniconda3/envs/grizli37/lib/python3.7/site-packages/ipykernel_launcher.py:47: UserWarning: linestyle is redundantly defined by the 'linestyle' keyword argument and the fmt string \"s-\" (-> linestyle='-'). The keyword argument will take precedence.\n"
     ]
    },
    {
     "name": "stdout",
     "output_type": "stream",
     "text": [
      "59 1275\n"
     ]
    },
    {
     "name": "stderr",
     "output_type": "stream",
     "text": [
      "/Users/gbrammer/miniconda3/envs/grizli37/lib/python3.7/site-packages/ipykernel_launcher.py:47: UserWarning: linestyle is redundantly defined by the 'linestyle' keyword argument and the fmt string \"s-\" (-> linestyle='-'). The keyword argument will take precedence.\n",
      "/Users/gbrammer/miniconda3/envs/grizli37/lib/python3.7/site-packages/ipykernel_launcher.py:47: UserWarning: linestyle is redundantly defined by the 'linestyle' keyword argument and the fmt string \"s-\" (-> linestyle='-'). The keyword argument will take precedence.\n",
      "/Users/gbrammer/miniconda3/envs/grizli37/lib/python3.7/site-packages/ipykernel_launcher.py:47: UserWarning: linestyle is redundantly defined by the 'linestyle' keyword argument and the fmt string \"s-\" (-> linestyle='-'). The keyword argument will take precedence.\n"
     ]
    },
    {
     "name": "stdout",
     "output_type": "stream",
     "text": [
      "60 1276\n"
     ]
    },
    {
     "name": "stderr",
     "output_type": "stream",
     "text": [
      "/Users/gbrammer/miniconda3/envs/grizli37/lib/python3.7/site-packages/ipykernel_launcher.py:47: UserWarning: linestyle is redundantly defined by the 'linestyle' keyword argument and the fmt string \"s-\" (-> linestyle='-'). The keyword argument will take precedence.\n",
      "/Users/gbrammer/miniconda3/envs/grizli37/lib/python3.7/site-packages/ipykernel_launcher.py:47: UserWarning: linestyle is redundantly defined by the 'linestyle' keyword argument and the fmt string \"s-\" (-> linestyle='-'). The keyword argument will take precedence.\n",
      "/Users/gbrammer/miniconda3/envs/grizli37/lib/python3.7/site-packages/ipykernel_launcher.py:47: UserWarning: linestyle is redundantly defined by the 'linestyle' keyword argument and the fmt string \"s-\" (-> linestyle='-'). The keyword argument will take precedence.\n",
      "/Users/gbrammer/miniconda3/envs/grizli37/lib/python3.7/site-packages/ipykernel_launcher.py:47: UserWarning: linestyle is redundantly defined by the 'linestyle' keyword argument and the fmt string \"s-\" (-> linestyle='-'). The keyword argument will take precedence.\n"
     ]
    },
    {
     "name": "stdout",
     "output_type": "stream",
     "text": [
      "61 1277\n"
     ]
    },
    {
     "name": "stderr",
     "output_type": "stream",
     "text": [
      "/Users/gbrammer/miniconda3/envs/grizli37/lib/python3.7/site-packages/ipykernel_launcher.py:47: UserWarning: linestyle is redundantly defined by the 'linestyle' keyword argument and the fmt string \"s-\" (-> linestyle='-'). The keyword argument will take precedence.\n",
      "/Users/gbrammer/miniconda3/envs/grizli37/lib/python3.7/site-packages/ipykernel_launcher.py:47: UserWarning: linestyle is redundantly defined by the 'linestyle' keyword argument and the fmt string \"s-\" (-> linestyle='-'). The keyword argument will take precedence.\n",
      "/Users/gbrammer/miniconda3/envs/grizli37/lib/python3.7/site-packages/ipykernel_launcher.py:47: UserWarning: linestyle is redundantly defined by the 'linestyle' keyword argument and the fmt string \"s-\" (-> linestyle='-'). The keyword argument will take precedence.\n",
      "/Users/gbrammer/miniconda3/envs/grizli37/lib/python3.7/site-packages/ipykernel_launcher.py:47: UserWarning: linestyle is redundantly defined by the 'linestyle' keyword argument and the fmt string \"s-\" (-> linestyle='-'). The keyword argument will take precedence.\n",
      "/Users/gbrammer/miniconda3/envs/grizli37/lib/python3.7/site-packages/ipykernel_launcher.py:47: UserWarning: linestyle is redundantly defined by the 'linestyle' keyword argument and the fmt string \"s-\" (-> linestyle='-'). The keyword argument will take precedence.\n",
      "/Users/gbrammer/miniconda3/envs/grizli37/lib/python3.7/site-packages/ipykernel_launcher.py:47: UserWarning: linestyle is redundantly defined by the 'linestyle' keyword argument and the fmt string \"s-\" (-> linestyle='-'). The keyword argument will take precedence.\n",
      "/Users/gbrammer/miniconda3/envs/grizli37/lib/python3.7/site-packages/ipykernel_launcher.py:47: UserWarning: linestyle is redundantly defined by the 'linestyle' keyword argument and the fmt string \"s-\" (-> linestyle='-'). The keyword argument will take precedence.\n",
      "/Users/gbrammer/miniconda3/envs/grizli37/lib/python3.7/site-packages/ipykernel_launcher.py:47: UserWarning: linestyle is redundantly defined by the 'linestyle' keyword argument and the fmt string \"s-\" (-> linestyle='-'). The keyword argument will take precedence.\n",
      "/Users/gbrammer/miniconda3/envs/grizli37/lib/python3.7/site-packages/ipykernel_launcher.py:47: UserWarning: linestyle is redundantly defined by the 'linestyle' keyword argument and the fmt string \"s-\" (-> linestyle='-'). The keyword argument will take precedence.\n",
      "/Users/gbrammer/miniconda3/envs/grizli37/lib/python3.7/site-packages/ipykernel_launcher.py:47: UserWarning: linestyle is redundantly defined by the 'linestyle' keyword argument and the fmt string \"s-\" (-> linestyle='-'). The keyword argument will take precedence.\n",
      "/Users/gbrammer/miniconda3/envs/grizli37/lib/python3.7/site-packages/ipykernel_launcher.py:47: UserWarning: linestyle is redundantly defined by the 'linestyle' keyword argument and the fmt string \"s-\" (-> linestyle='-'). The keyword argument will take precedence.\n",
      "/Users/gbrammer/miniconda3/envs/grizli37/lib/python3.7/site-packages/ipykernel_launcher.py:47: UserWarning: linestyle is redundantly defined by the 'linestyle' keyword argument and the fmt string \"s-\" (-> linestyle='-'). The keyword argument will take precedence.\n",
      "/Users/gbrammer/miniconda3/envs/grizli37/lib/python3.7/site-packages/ipykernel_launcher.py:47: UserWarning: linestyle is redundantly defined by the 'linestyle' keyword argument and the fmt string \"s-\" (-> linestyle='-'). The keyword argument will take precedence.\n",
      "/Users/gbrammer/miniconda3/envs/grizli37/lib/python3.7/site-packages/ipykernel_launcher.py:47: UserWarning: linestyle is redundantly defined by the 'linestyle' keyword argument and the fmt string \"s-\" (-> linestyle='-'). The keyword argument will take precedence.\n",
      "/Users/gbrammer/miniconda3/envs/grizli37/lib/python3.7/site-packages/ipykernel_launcher.py:47: UserWarning: linestyle is redundantly defined by the 'linestyle' keyword argument and the fmt string \"s-\" (-> linestyle='-'). The keyword argument will take precedence.\n"
     ]
    },
    {
     "name": "stdout",
     "output_type": "stream",
     "text": [
      "62 1278\n"
     ]
    },
    {
     "name": "stderr",
     "output_type": "stream",
     "text": [
      "/Users/gbrammer/miniconda3/envs/grizli37/lib/python3.7/site-packages/ipykernel_launcher.py:47: UserWarning: linestyle is redundantly defined by the 'linestyle' keyword argument and the fmt string \"s-\" (-> linestyle='-'). The keyword argument will take precedence.\n",
      "/Users/gbrammer/miniconda3/envs/grizli37/lib/python3.7/site-packages/ipykernel_launcher.py:47: UserWarning: linestyle is redundantly defined by the 'linestyle' keyword argument and the fmt string \"s-\" (-> linestyle='-'). The keyword argument will take precedence.\n",
      "/Users/gbrammer/miniconda3/envs/grizli37/lib/python3.7/site-packages/ipykernel_launcher.py:47: UserWarning: linestyle is redundantly defined by the 'linestyle' keyword argument and the fmt string \"s-\" (-> linestyle='-'). The keyword argument will take precedence.\n"
     ]
    },
    {
     "name": "stdout",
     "output_type": "stream",
     "text": [
      "63 1279\n"
     ]
    },
    {
     "name": "stderr",
     "output_type": "stream",
     "text": [
      "/Users/gbrammer/miniconda3/envs/grizli37/lib/python3.7/site-packages/ipykernel_launcher.py:47: UserWarning: linestyle is redundantly defined by the 'linestyle' keyword argument and the fmt string \"s-\" (-> linestyle='-'). The keyword argument will take precedence.\n",
      "/Users/gbrammer/miniconda3/envs/grizli37/lib/python3.7/site-packages/ipykernel_launcher.py:47: UserWarning: linestyle is redundantly defined by the 'linestyle' keyword argument and the fmt string \"s-\" (-> linestyle='-'). The keyword argument will take precedence.\n",
      "/Users/gbrammer/miniconda3/envs/grizli37/lib/python3.7/site-packages/ipykernel_launcher.py:47: UserWarning: linestyle is redundantly defined by the 'linestyle' keyword argument and the fmt string \"s-\" (-> linestyle='-'). The keyword argument will take precedence.\n",
      "/Users/gbrammer/miniconda3/envs/grizli37/lib/python3.7/site-packages/ipykernel_launcher.py:47: UserWarning: linestyle is redundantly defined by the 'linestyle' keyword argument and the fmt string \"s-\" (-> linestyle='-'). The keyword argument will take precedence.\n"
     ]
    },
    {
     "name": "stdout",
     "output_type": "stream",
     "text": [
      "64 1280\n"
     ]
    },
    {
     "name": "stderr",
     "output_type": "stream",
     "text": [
      "/Users/gbrammer/miniconda3/envs/grizli37/lib/python3.7/site-packages/ipykernel_launcher.py:47: UserWarning: linestyle is redundantly defined by the 'linestyle' keyword argument and the fmt string \"s-\" (-> linestyle='-'). The keyword argument will take precedence.\n"
     ]
    },
    {
     "name": "stdout",
     "output_type": "stream",
     "text": [
      "65 1281\n"
     ]
    },
    {
     "name": "stderr",
     "output_type": "stream",
     "text": [
      "/Users/gbrammer/miniconda3/envs/grizli37/lib/python3.7/site-packages/ipykernel_launcher.py:47: UserWarning: linestyle is redundantly defined by the 'linestyle' keyword argument and the fmt string \"s-\" (-> linestyle='-'). The keyword argument will take precedence.\n",
      "/Users/gbrammer/miniconda3/envs/grizli37/lib/python3.7/site-packages/ipykernel_launcher.py:47: UserWarning: linestyle is redundantly defined by the 'linestyle' keyword argument and the fmt string \"s-\" (-> linestyle='-'). The keyword argument will take precedence.\n",
      "/Users/gbrammer/miniconda3/envs/grizli37/lib/python3.7/site-packages/ipykernel_launcher.py:47: UserWarning: linestyle is redundantly defined by the 'linestyle' keyword argument and the fmt string \"s-\" (-> linestyle='-'). The keyword argument will take precedence.\n"
     ]
    },
    {
     "name": "stdout",
     "output_type": "stream",
     "text": [
      "66 1292\n"
     ]
    },
    {
     "name": "stderr",
     "output_type": "stream",
     "text": [
      "/Users/gbrammer/miniconda3/envs/grizli37/lib/python3.7/site-packages/ipykernel_launcher.py:47: UserWarning: linestyle is redundantly defined by the 'linestyle' keyword argument and the fmt string \"s-\" (-> linestyle='-'). The keyword argument will take precedence.\n"
     ]
    },
    {
     "name": "stdout",
     "output_type": "stream",
     "text": [
      "67 1312\n"
     ]
    },
    {
     "name": "stderr",
     "output_type": "stream",
     "text": [
      "/Users/gbrammer/miniconda3/envs/grizli37/lib/python3.7/site-packages/ipykernel_launcher.py:47: UserWarning: linestyle is redundantly defined by the 'linestyle' keyword argument and the fmt string \"s-\" (-> linestyle='-'). The keyword argument will take precedence.\n",
      "/Users/gbrammer/miniconda3/envs/grizli37/lib/python3.7/site-packages/ipykernel_launcher.py:47: UserWarning: linestyle is redundantly defined by the 'linestyle' keyword argument and the fmt string \"s-\" (-> linestyle='-'). The keyword argument will take precedence.\n",
      "/Users/gbrammer/miniconda3/envs/grizli37/lib/python3.7/site-packages/ipykernel_launcher.py:47: UserWarning: linestyle is redundantly defined by the 'linestyle' keyword argument and the fmt string \"s-\" (-> linestyle='-'). The keyword argument will take precedence.\n",
      "/Users/gbrammer/miniconda3/envs/grizli37/lib/python3.7/site-packages/ipykernel_launcher.py:47: UserWarning: linestyle is redundantly defined by the 'linestyle' keyword argument and the fmt string \"s-\" (-> linestyle='-'). The keyword argument will take precedence.\n"
     ]
    },
    {
     "name": "stdout",
     "output_type": "stream",
     "text": [
      "68 1331\n"
     ]
    },
    {
     "name": "stderr",
     "output_type": "stream",
     "text": [
      "/Users/gbrammer/miniconda3/envs/grizli37/lib/python3.7/site-packages/ipykernel_launcher.py:47: UserWarning: linestyle is redundantly defined by the 'linestyle' keyword argument and the fmt string \"s-\" (-> linestyle='-'). The keyword argument will take precedence.\n",
      "/Users/gbrammer/miniconda3/envs/grizli37/lib/python3.7/site-packages/ipykernel_launcher.py:47: UserWarning: linestyle is redundantly defined by the 'linestyle' keyword argument and the fmt string \"s-\" (-> linestyle='-'). The keyword argument will take precedence.\n",
      "/Users/gbrammer/miniconda3/envs/grizli37/lib/python3.7/site-packages/ipykernel_launcher.py:47: UserWarning: linestyle is redundantly defined by the 'linestyle' keyword argument and the fmt string \"s-\" (-> linestyle='-'). The keyword argument will take precedence.\n",
      "/Users/gbrammer/miniconda3/envs/grizli37/lib/python3.7/site-packages/ipykernel_launcher.py:47: UserWarning: linestyle is redundantly defined by the 'linestyle' keyword argument and the fmt string \"s-\" (-> linestyle='-'). The keyword argument will take precedence.\n"
     ]
    },
    {
     "name": "stdout",
     "output_type": "stream",
     "text": [
      "69 1353\n"
     ]
    },
    {
     "name": "stderr",
     "output_type": "stream",
     "text": [
      "/Users/gbrammer/miniconda3/envs/grizli37/lib/python3.7/site-packages/ipykernel_launcher.py:47: UserWarning: linestyle is redundantly defined by the 'linestyle' keyword argument and the fmt string \"s-\" (-> linestyle='-'). The keyword argument will take precedence.\n",
      "/Users/gbrammer/miniconda3/envs/grizli37/lib/python3.7/site-packages/ipykernel_launcher.py:47: UserWarning: linestyle is redundantly defined by the 'linestyle' keyword argument and the fmt string \"s-\" (-> linestyle='-'). The keyword argument will take precedence.\n",
      "/Users/gbrammer/miniconda3/envs/grizli37/lib/python3.7/site-packages/ipykernel_launcher.py:47: UserWarning: linestyle is redundantly defined by the 'linestyle' keyword argument and the fmt string \"s-\" (-> linestyle='-'). The keyword argument will take precedence.\n",
      "/Users/gbrammer/miniconda3/envs/grizli37/lib/python3.7/site-packages/ipykernel_launcher.py:47: UserWarning: linestyle is redundantly defined by the 'linestyle' keyword argument and the fmt string \"s-\" (-> linestyle='-'). The keyword argument will take precedence.\n",
      "/Users/gbrammer/miniconda3/envs/grizli37/lib/python3.7/site-packages/ipykernel_launcher.py:47: UserWarning: linestyle is redundantly defined by the 'linestyle' keyword argument and the fmt string \"s-\" (-> linestyle='-'). The keyword argument will take precedence.\n",
      "/Users/gbrammer/miniconda3/envs/grizli37/lib/python3.7/site-packages/ipykernel_launcher.py:47: UserWarning: linestyle is redundantly defined by the 'linestyle' keyword argument and the fmt string \"s-\" (-> linestyle='-'). The keyword argument will take precedence.\n"
     ]
    },
    {
     "name": "stdout",
     "output_type": "stream",
     "text": [
      "70 1412\n"
     ]
    },
    {
     "name": "stderr",
     "output_type": "stream",
     "text": [
      "/Users/gbrammer/miniconda3/envs/grizli37/lib/python3.7/site-packages/ipykernel_launcher.py:47: UserWarning: linestyle is redundantly defined by the 'linestyle' keyword argument and the fmt string \"s-\" (-> linestyle='-'). The keyword argument will take precedence.\n",
      "/Users/gbrammer/miniconda3/envs/grizli37/lib/python3.7/site-packages/ipykernel_launcher.py:47: UserWarning: linestyle is redundantly defined by the 'linestyle' keyword argument and the fmt string \"s-\" (-> linestyle='-'). The keyword argument will take precedence.\n",
      "/Users/gbrammer/miniconda3/envs/grizli37/lib/python3.7/site-packages/ipykernel_launcher.py:47: UserWarning: linestyle is redundantly defined by the 'linestyle' keyword argument and the fmt string \"s-\" (-> linestyle='-'). The keyword argument will take precedence.\n",
      "/Users/gbrammer/miniconda3/envs/grizli37/lib/python3.7/site-packages/ipykernel_launcher.py:47: UserWarning: linestyle is redundantly defined by the 'linestyle' keyword argument and the fmt string \"s-\" (-> linestyle='-'). The keyword argument will take precedence.\n",
      "/Users/gbrammer/miniconda3/envs/grizli37/lib/python3.7/site-packages/ipykernel_launcher.py:47: UserWarning: linestyle is redundantly defined by the 'linestyle' keyword argument and the fmt string \"s-\" (-> linestyle='-'). The keyword argument will take precedence.\n",
      "/Users/gbrammer/miniconda3/envs/grizli37/lib/python3.7/site-packages/ipykernel_launcher.py:47: UserWarning: linestyle is redundantly defined by the 'linestyle' keyword argument and the fmt string \"s-\" (-> linestyle='-'). The keyword argument will take precedence.\n"
     ]
    },
    {
     "name": "stdout",
     "output_type": "stream",
     "text": [
      "71 1198\n"
     ]
    },
    {
     "name": "stderr",
     "output_type": "stream",
     "text": [
      "/Users/gbrammer/miniconda3/envs/grizli37/lib/python3.7/site-packages/ipykernel_launcher.py:47: UserWarning: linestyle is redundantly defined by the 'linestyle' keyword argument and the fmt string \"s-\" (-> linestyle='-'). The keyword argument will take precedence.\n",
      "/Users/gbrammer/miniconda3/envs/grizli37/lib/python3.7/site-packages/ipykernel_launcher.py:47: UserWarning: linestyle is redundantly defined by the 'linestyle' keyword argument and the fmt string \"s-\" (-> linestyle='-'). The keyword argument will take precedence.\n",
      "/Users/gbrammer/miniconda3/envs/grizli37/lib/python3.7/site-packages/ipykernel_launcher.py:47: UserWarning: linestyle is redundantly defined by the 'linestyle' keyword argument and the fmt string \"s-\" (-> linestyle='-'). The keyword argument will take precedence.\n",
      "/Users/gbrammer/miniconda3/envs/grizli37/lib/python3.7/site-packages/ipykernel_launcher.py:47: UserWarning: linestyle is redundantly defined by the 'linestyle' keyword argument and the fmt string \"s-\" (-> linestyle='-'). The keyword argument will take precedence.\n",
      "/Users/gbrammer/miniconda3/envs/grizli37/lib/python3.7/site-packages/ipykernel_launcher.py:47: UserWarning: linestyle is redundantly defined by the 'linestyle' keyword argument and the fmt string \"s-\" (-> linestyle='-'). The keyword argument will take precedence.\n",
      "/Users/gbrammer/miniconda3/envs/grizli37/lib/python3.7/site-packages/ipykernel_launcher.py:47: UserWarning: linestyle is redundantly defined by the 'linestyle' keyword argument and the fmt string \"s-\" (-> linestyle='-'). The keyword argument will take precedence.\n"
     ]
    },
    {
     "name": "stdout",
     "output_type": "stream",
     "text": [
      "72 1205\n"
     ]
    },
    {
     "name": "stderr",
     "output_type": "stream",
     "text": [
      "/Users/gbrammer/miniconda3/envs/grizli37/lib/python3.7/site-packages/ipykernel_launcher.py:47: UserWarning: linestyle is redundantly defined by the 'linestyle' keyword argument and the fmt string \"s-\" (-> linestyle='-'). The keyword argument will take precedence.\n",
      "/Users/gbrammer/miniconda3/envs/grizli37/lib/python3.7/site-packages/ipykernel_launcher.py:47: UserWarning: linestyle is redundantly defined by the 'linestyle' keyword argument and the fmt string \"s-\" (-> linestyle='-'). The keyword argument will take precedence.\n",
      "/Users/gbrammer/miniconda3/envs/grizli37/lib/python3.7/site-packages/ipykernel_launcher.py:47: UserWarning: linestyle is redundantly defined by the 'linestyle' keyword argument and the fmt string \"s-\" (-> linestyle='-'). The keyword argument will take precedence.\n",
      "/Users/gbrammer/miniconda3/envs/grizli37/lib/python3.7/site-packages/ipykernel_launcher.py:47: UserWarning: linestyle is redundantly defined by the 'linestyle' keyword argument and the fmt string \"s-\" (-> linestyle='-'). The keyword argument will take precedence.\n",
      "/Users/gbrammer/miniconda3/envs/grizli37/lib/python3.7/site-packages/ipykernel_launcher.py:47: UserWarning: linestyle is redundantly defined by the 'linestyle' keyword argument and the fmt string \"s-\" (-> linestyle='-'). The keyword argument will take precedence.\n",
      "/Users/gbrammer/miniconda3/envs/grizli37/lib/python3.7/site-packages/ipykernel_launcher.py:47: UserWarning: linestyle is redundantly defined by the 'linestyle' keyword argument and the fmt string \"s-\" (-> linestyle='-'). The keyword argument will take precedence.\n",
      "/Users/gbrammer/miniconda3/envs/grizli37/lib/python3.7/site-packages/ipykernel_launcher.py:47: UserWarning: linestyle is redundantly defined by the 'linestyle' keyword argument and the fmt string \"s-\" (-> linestyle='-'). The keyword argument will take precedence.\n",
      "/Users/gbrammer/miniconda3/envs/grizli37/lib/python3.7/site-packages/ipykernel_launcher.py:47: UserWarning: linestyle is redundantly defined by the 'linestyle' keyword argument and the fmt string \"s-\" (-> linestyle='-'). The keyword argument will take precedence.\n",
      "/Users/gbrammer/miniconda3/envs/grizli37/lib/python3.7/site-packages/ipykernel_launcher.py:47: UserWarning: linestyle is redundantly defined by the 'linestyle' keyword argument and the fmt string \"s-\" (-> linestyle='-'). The keyword argument will take precedence.\n",
      "/Users/gbrammer/miniconda3/envs/grizli37/lib/python3.7/site-packages/ipykernel_launcher.py:47: UserWarning: linestyle is redundantly defined by the 'linestyle' keyword argument and the fmt string \"s-\" (-> linestyle='-'). The keyword argument will take precedence.\n",
      "/Users/gbrammer/miniconda3/envs/grizli37/lib/python3.7/site-packages/ipykernel_launcher.py:47: UserWarning: linestyle is redundantly defined by the 'linestyle' keyword argument and the fmt string \"s-\" (-> linestyle='-'). The keyword argument will take precedence.\n",
      "/Users/gbrammer/miniconda3/envs/grizli37/lib/python3.7/site-packages/ipykernel_launcher.py:47: UserWarning: linestyle is redundantly defined by the 'linestyle' keyword argument and the fmt string \"s-\" (-> linestyle='-'). The keyword argument will take precedence.\n",
      "/Users/gbrammer/miniconda3/envs/grizli37/lib/python3.7/site-packages/ipykernel_launcher.py:47: UserWarning: linestyle is redundantly defined by the 'linestyle' keyword argument and the fmt string \"s-\" (-> linestyle='-'). The keyword argument will take precedence.\n",
      "/Users/gbrammer/miniconda3/envs/grizli37/lib/python3.7/site-packages/ipykernel_launcher.py:47: UserWarning: linestyle is redundantly defined by the 'linestyle' keyword argument and the fmt string \"s-\" (-> linestyle='-'). The keyword argument will take precedence.\n",
      "/Users/gbrammer/miniconda3/envs/grizli37/lib/python3.7/site-packages/ipykernel_launcher.py:47: UserWarning: linestyle is redundantly defined by the 'linestyle' keyword argument and the fmt string \"s-\" (-> linestyle='-'). The keyword argument will take precedence.\n"
     ]
    },
    {
     "name": "stdout",
     "output_type": "stream",
     "text": [
      "73 1218\n"
     ]
    },
    {
     "name": "stderr",
     "output_type": "stream",
     "text": [
      "/Users/gbrammer/miniconda3/envs/grizli37/lib/python3.7/site-packages/ipykernel_launcher.py:47: UserWarning: linestyle is redundantly defined by the 'linestyle' keyword argument and the fmt string \"s-\" (-> linestyle='-'). The keyword argument will take precedence.\n"
     ]
    },
    {
     "name": "stdout",
     "output_type": "stream",
     "text": [
      "74 1219\n"
     ]
    },
    {
     "name": "stderr",
     "output_type": "stream",
     "text": [
      "/Users/gbrammer/miniconda3/envs/grizli37/lib/python3.7/site-packages/ipykernel_launcher.py:47: UserWarning: linestyle is redundantly defined by the 'linestyle' keyword argument and the fmt string \"s-\" (-> linestyle='-'). The keyword argument will take precedence.\n",
      "/Users/gbrammer/miniconda3/envs/grizli37/lib/python3.7/site-packages/ipykernel_launcher.py:47: UserWarning: linestyle is redundantly defined by the 'linestyle' keyword argument and the fmt string \"s-\" (-> linestyle='-'). The keyword argument will take precedence.\n",
      "/Users/gbrammer/miniconda3/envs/grizli37/lib/python3.7/site-packages/ipykernel_launcher.py:47: UserWarning: linestyle is redundantly defined by the 'linestyle' keyword argument and the fmt string \"s-\" (-> linestyle='-'). The keyword argument will take precedence.\n",
      "/Users/gbrammer/miniconda3/envs/grizli37/lib/python3.7/site-packages/ipykernel_launcher.py:47: UserWarning: linestyle is redundantly defined by the 'linestyle' keyword argument and the fmt string \"s-\" (-> linestyle='-'). The keyword argument will take precedence.\n"
     ]
    },
    {
     "name": "stdout",
     "output_type": "stream",
     "text": [
      "75 1220\n"
     ]
    },
    {
     "name": "stderr",
     "output_type": "stream",
     "text": [
      "/Users/gbrammer/miniconda3/envs/grizli37/lib/python3.7/site-packages/ipykernel_launcher.py:47: UserWarning: linestyle is redundantly defined by the 'linestyle' keyword argument and the fmt string \"s-\" (-> linestyle='-'). The keyword argument will take precedence.\n",
      "/Users/gbrammer/miniconda3/envs/grizli37/lib/python3.7/site-packages/ipykernel_launcher.py:47: UserWarning: linestyle is redundantly defined by the 'linestyle' keyword argument and the fmt string \"s-\" (-> linestyle='-'). The keyword argument will take precedence.\n"
     ]
    },
    {
     "name": "stdout",
     "output_type": "stream",
     "text": [
      "76 1222\n"
     ]
    },
    {
     "name": "stderr",
     "output_type": "stream",
     "text": [
      "/Users/gbrammer/miniconda3/envs/grizli37/lib/python3.7/site-packages/ipykernel_launcher.py:47: UserWarning: linestyle is redundantly defined by the 'linestyle' keyword argument and the fmt string \"s-\" (-> linestyle='-'). The keyword argument will take precedence.\n",
      "/Users/gbrammer/miniconda3/envs/grizli37/lib/python3.7/site-packages/ipykernel_launcher.py:47: UserWarning: linestyle is redundantly defined by the 'linestyle' keyword argument and the fmt string \"s-\" (-> linestyle='-'). The keyword argument will take precedence.\n",
      "/Users/gbrammer/miniconda3/envs/grizli37/lib/python3.7/site-packages/ipykernel_launcher.py:47: UserWarning: linestyle is redundantly defined by the 'linestyle' keyword argument and the fmt string \"s-\" (-> linestyle='-'). The keyword argument will take precedence.\n",
      "/Users/gbrammer/miniconda3/envs/grizli37/lib/python3.7/site-packages/ipykernel_launcher.py:47: UserWarning: linestyle is redundantly defined by the 'linestyle' keyword argument and the fmt string \"s-\" (-> linestyle='-'). The keyword argument will take precedence.\n",
      "/Users/gbrammer/miniconda3/envs/grizli37/lib/python3.7/site-packages/ipykernel_launcher.py:47: UserWarning: linestyle is redundantly defined by the 'linestyle' keyword argument and the fmt string \"s-\" (-> linestyle='-'). The keyword argument will take precedence.\n",
      "/Users/gbrammer/miniconda3/envs/grizli37/lib/python3.7/site-packages/ipykernel_launcher.py:47: UserWarning: linestyle is redundantly defined by the 'linestyle' keyword argument and the fmt string \"s-\" (-> linestyle='-'). The keyword argument will take precedence.\n",
      "/Users/gbrammer/miniconda3/envs/grizli37/lib/python3.7/site-packages/ipykernel_launcher.py:47: UserWarning: linestyle is redundantly defined by the 'linestyle' keyword argument and the fmt string \"s-\" (-> linestyle='-'). The keyword argument will take precedence.\n",
      "/Users/gbrammer/miniconda3/envs/grizli37/lib/python3.7/site-packages/ipykernel_launcher.py:47: UserWarning: linestyle is redundantly defined by the 'linestyle' keyword argument and the fmt string \"s-\" (-> linestyle='-'). The keyword argument will take precedence.\n"
     ]
    },
    {
     "name": "stdout",
     "output_type": "stream",
     "text": [
      "77 1243\n"
     ]
    },
    {
     "name": "stderr",
     "output_type": "stream",
     "text": [
      "/Users/gbrammer/miniconda3/envs/grizli37/lib/python3.7/site-packages/ipykernel_launcher.py:47: UserWarning: linestyle is redundantly defined by the 'linestyle' keyword argument and the fmt string \"s-\" (-> linestyle='-'). The keyword argument will take precedence.\n",
      "/Users/gbrammer/miniconda3/envs/grizli37/lib/python3.7/site-packages/ipykernel_launcher.py:47: UserWarning: linestyle is redundantly defined by the 'linestyle' keyword argument and the fmt string \"s-\" (-> linestyle='-'). The keyword argument will take precedence.\n",
      "/Users/gbrammer/miniconda3/envs/grizli37/lib/python3.7/site-packages/ipykernel_launcher.py:47: UserWarning: linestyle is redundantly defined by the 'linestyle' keyword argument and the fmt string \"s-\" (-> linestyle='-'). The keyword argument will take precedence.\n",
      "/Users/gbrammer/miniconda3/envs/grizli37/lib/python3.7/site-packages/ipykernel_launcher.py:47: UserWarning: linestyle is redundantly defined by the 'linestyle' keyword argument and the fmt string \"s-\" (-> linestyle='-'). The keyword argument will take precedence.\n",
      "/Users/gbrammer/miniconda3/envs/grizli37/lib/python3.7/site-packages/ipykernel_launcher.py:47: UserWarning: linestyle is redundantly defined by the 'linestyle' keyword argument and the fmt string \"s-\" (-> linestyle='-'). The keyword argument will take precedence.\n",
      "/Users/gbrammer/miniconda3/envs/grizli37/lib/python3.7/site-packages/ipykernel_launcher.py:47: UserWarning: linestyle is redundantly defined by the 'linestyle' keyword argument and the fmt string \"s-\" (-> linestyle='-'). The keyword argument will take precedence.\n",
      "/Users/gbrammer/miniconda3/envs/grizli37/lib/python3.7/site-packages/ipykernel_launcher.py:47: UserWarning: linestyle is redundantly defined by the 'linestyle' keyword argument and the fmt string \"s-\" (-> linestyle='-'). The keyword argument will take precedence.\n",
      "/Users/gbrammer/miniconda3/envs/grizli37/lib/python3.7/site-packages/ipykernel_launcher.py:47: UserWarning: linestyle is redundantly defined by the 'linestyle' keyword argument and the fmt string \"s-\" (-> linestyle='-'). The keyword argument will take precedence.\n",
      "/Users/gbrammer/miniconda3/envs/grizli37/lib/python3.7/site-packages/ipykernel_launcher.py:47: UserWarning: linestyle is redundantly defined by the 'linestyle' keyword argument and the fmt string \"s-\" (-> linestyle='-'). The keyword argument will take precedence.\n",
      "/Users/gbrammer/miniconda3/envs/grizli37/lib/python3.7/site-packages/ipykernel_launcher.py:47: UserWarning: linestyle is redundantly defined by the 'linestyle' keyword argument and the fmt string \"s-\" (-> linestyle='-'). The keyword argument will take precedence.\n",
      "/Users/gbrammer/miniconda3/envs/grizli37/lib/python3.7/site-packages/ipykernel_launcher.py:47: UserWarning: linestyle is redundantly defined by the 'linestyle' keyword argument and the fmt string \"s-\" (-> linestyle='-'). The keyword argument will take precedence.\n",
      "/Users/gbrammer/miniconda3/envs/grizli37/lib/python3.7/site-packages/ipykernel_launcher.py:47: UserWarning: linestyle is redundantly defined by the 'linestyle' keyword argument and the fmt string \"s-\" (-> linestyle='-'). The keyword argument will take precedence.\n",
      "/Users/gbrammer/miniconda3/envs/grizli37/lib/python3.7/site-packages/ipykernel_launcher.py:47: UserWarning: linestyle is redundantly defined by the 'linestyle' keyword argument and the fmt string \"s-\" (-> linestyle='-'). The keyword argument will take precedence.\n",
      "/Users/gbrammer/miniconda3/envs/grizli37/lib/python3.7/site-packages/ipykernel_launcher.py:47: UserWarning: linestyle is redundantly defined by the 'linestyle' keyword argument and the fmt string \"s-\" (-> linestyle='-'). The keyword argument will take precedence.\n",
      "/Users/gbrammer/miniconda3/envs/grizli37/lib/python3.7/site-packages/ipykernel_launcher.py:47: UserWarning: linestyle is redundantly defined by the 'linestyle' keyword argument and the fmt string \"s-\" (-> linestyle='-'). The keyword argument will take precedence.\n",
      "/Users/gbrammer/miniconda3/envs/grizli37/lib/python3.7/site-packages/ipykernel_launcher.py:47: UserWarning: linestyle is redundantly defined by the 'linestyle' keyword argument and the fmt string \"s-\" (-> linestyle='-'). The keyword argument will take precedence.\n",
      "/Users/gbrammer/miniconda3/envs/grizli37/lib/python3.7/site-packages/ipykernel_launcher.py:47: UserWarning: linestyle is redundantly defined by the 'linestyle' keyword argument and the fmt string \"s-\" (-> linestyle='-'). The keyword argument will take precedence.\n",
      "/Users/gbrammer/miniconda3/envs/grizli37/lib/python3.7/site-packages/ipykernel_launcher.py:47: UserWarning: linestyle is redundantly defined by the 'linestyle' keyword argument and the fmt string \"s-\" (-> linestyle='-'). The keyword argument will take precedence.\n",
      "/Users/gbrammer/miniconda3/envs/grizli37/lib/python3.7/site-packages/ipykernel_launcher.py:47: UserWarning: linestyle is redundantly defined by the 'linestyle' keyword argument and the fmt string \"s-\" (-> linestyle='-'). The keyword argument will take precedence.\n",
      "/Users/gbrammer/miniconda3/envs/grizli37/lib/python3.7/site-packages/ipykernel_launcher.py:47: UserWarning: linestyle is redundantly defined by the 'linestyle' keyword argument and the fmt string \"s-\" (-> linestyle='-'). The keyword argument will take precedence.\n",
      "/Users/gbrammer/miniconda3/envs/grizli37/lib/python3.7/site-packages/ipykernel_launcher.py:47: UserWarning: linestyle is redundantly defined by the 'linestyle' keyword argument and the fmt string \"s-\" (-> linestyle='-'). The keyword argument will take precedence.\n",
      "/Users/gbrammer/miniconda3/envs/grizli37/lib/python3.7/site-packages/ipykernel_launcher.py:47: UserWarning: linestyle is redundantly defined by the 'linestyle' keyword argument and the fmt string \"s-\" (-> linestyle='-'). The keyword argument will take precedence.\n",
      "/Users/gbrammer/miniconda3/envs/grizli37/lib/python3.7/site-packages/ipykernel_launcher.py:47: UserWarning: linestyle is redundantly defined by the 'linestyle' keyword argument and the fmt string \"s-\" (-> linestyle='-'). The keyword argument will take precedence.\n",
      "/Users/gbrammer/miniconda3/envs/grizli37/lib/python3.7/site-packages/ipykernel_launcher.py:47: UserWarning: linestyle is redundantly defined by the 'linestyle' keyword argument and the fmt string \"s-\" (-> linestyle='-'). The keyword argument will take precedence.\n"
     ]
    },
    {
     "name": "stdout",
     "output_type": "stream",
     "text": [
      "78 1264\n"
     ]
    },
    {
     "name": "stderr",
     "output_type": "stream",
     "text": [
      "/Users/gbrammer/miniconda3/envs/grizli37/lib/python3.7/site-packages/ipykernel_launcher.py:47: UserWarning: linestyle is redundantly defined by the 'linestyle' keyword argument and the fmt string \"s-\" (-> linestyle='-'). The keyword argument will take precedence.\n",
      "/Users/gbrammer/miniconda3/envs/grizli37/lib/python3.7/site-packages/ipykernel_launcher.py:47: UserWarning: linestyle is redundantly defined by the 'linestyle' keyword argument and the fmt string \"s-\" (-> linestyle='-'). The keyword argument will take precedence.\n",
      "/Users/gbrammer/miniconda3/envs/grizli37/lib/python3.7/site-packages/ipykernel_launcher.py:47: UserWarning: linestyle is redundantly defined by the 'linestyle' keyword argument and the fmt string \"s-\" (-> linestyle='-'). The keyword argument will take precedence.\n",
      "/Users/gbrammer/miniconda3/envs/grizli37/lib/python3.7/site-packages/ipykernel_launcher.py:47: UserWarning: linestyle is redundantly defined by the 'linestyle' keyword argument and the fmt string \"s-\" (-> linestyle='-'). The keyword argument will take precedence.\n",
      "/Users/gbrammer/miniconda3/envs/grizli37/lib/python3.7/site-packages/ipykernel_launcher.py:47: UserWarning: linestyle is redundantly defined by the 'linestyle' keyword argument and the fmt string \"s-\" (-> linestyle='-'). The keyword argument will take precedence.\n",
      "/Users/gbrammer/miniconda3/envs/grizli37/lib/python3.7/site-packages/ipykernel_launcher.py:47: UserWarning: linestyle is redundantly defined by the 'linestyle' keyword argument and the fmt string \"s-\" (-> linestyle='-'). The keyword argument will take precedence.\n",
      "/Users/gbrammer/miniconda3/envs/grizli37/lib/python3.7/site-packages/ipykernel_launcher.py:47: UserWarning: linestyle is redundantly defined by the 'linestyle' keyword argument and the fmt string \"s-\" (-> linestyle='-'). The keyword argument will take precedence.\n",
      "/Users/gbrammer/miniconda3/envs/grizli37/lib/python3.7/site-packages/ipykernel_launcher.py:47: UserWarning: linestyle is redundantly defined by the 'linestyle' keyword argument and the fmt string \"s-\" (-> linestyle='-'). The keyword argument will take precedence.\n",
      "/Users/gbrammer/miniconda3/envs/grizli37/lib/python3.7/site-packages/ipykernel_launcher.py:47: UserWarning: linestyle is redundantly defined by the 'linestyle' keyword argument and the fmt string \"s-\" (-> linestyle='-'). The keyword argument will take precedence.\n",
      "/Users/gbrammer/miniconda3/envs/grizli37/lib/python3.7/site-packages/ipykernel_launcher.py:47: UserWarning: linestyle is redundantly defined by the 'linestyle' keyword argument and the fmt string \"s-\" (-> linestyle='-'). The keyword argument will take precedence.\n",
      "/Users/gbrammer/miniconda3/envs/grizli37/lib/python3.7/site-packages/ipykernel_launcher.py:47: UserWarning: linestyle is redundantly defined by the 'linestyle' keyword argument and the fmt string \"s-\" (-> linestyle='-'). The keyword argument will take precedence.\n"
     ]
    },
    {
     "name": "stdout",
     "output_type": "stream",
     "text": [
      "79 1179\n"
     ]
    },
    {
     "name": "stderr",
     "output_type": "stream",
     "text": [
      "/Users/gbrammer/miniconda3/envs/grizli37/lib/python3.7/site-packages/ipykernel_launcher.py:47: UserWarning: linestyle is redundantly defined by the 'linestyle' keyword argument and the fmt string \"s-\" (-> linestyle='-'). The keyword argument will take precedence.\n",
      "/Users/gbrammer/miniconda3/envs/grizli37/lib/python3.7/site-packages/ipykernel_launcher.py:47: UserWarning: linestyle is redundantly defined by the 'linestyle' keyword argument and the fmt string \"s-\" (-> linestyle='-'). The keyword argument will take precedence.\n",
      "/Users/gbrammer/miniconda3/envs/grizli37/lib/python3.7/site-packages/ipykernel_launcher.py:47: UserWarning: linestyle is redundantly defined by the 'linestyle' keyword argument and the fmt string \"s-\" (-> linestyle='-'). The keyword argument will take precedence.\n",
      "/Users/gbrammer/miniconda3/envs/grizli37/lib/python3.7/site-packages/ipykernel_launcher.py:47: UserWarning: linestyle is redundantly defined by the 'linestyle' keyword argument and the fmt string \"s-\" (-> linestyle='-'). The keyword argument will take precedence.\n",
      "/Users/gbrammer/miniconda3/envs/grizli37/lib/python3.7/site-packages/ipykernel_launcher.py:47: UserWarning: linestyle is redundantly defined by the 'linestyle' keyword argument and the fmt string \"s-\" (-> linestyle='-'). The keyword argument will take precedence.\n",
      "/Users/gbrammer/miniconda3/envs/grizli37/lib/python3.7/site-packages/ipykernel_launcher.py:47: UserWarning: linestyle is redundantly defined by the 'linestyle' keyword argument and the fmt string \"s-\" (-> linestyle='-'). The keyword argument will take precedence.\n"
     ]
    },
    {
     "name": "stdout",
     "output_type": "stream",
     "text": [
      "80 1186\n"
     ]
    },
    {
     "name": "stderr",
     "output_type": "stream",
     "text": [
      "/Users/gbrammer/miniconda3/envs/grizli37/lib/python3.7/site-packages/ipykernel_launcher.py:47: UserWarning: linestyle is redundantly defined by the 'linestyle' keyword argument and the fmt string \"s-\" (-> linestyle='-'). The keyword argument will take precedence.\n",
      "/Users/gbrammer/miniconda3/envs/grizli37/lib/python3.7/site-packages/ipykernel_launcher.py:47: UserWarning: linestyle is redundantly defined by the 'linestyle' keyword argument and the fmt string \"s-\" (-> linestyle='-'). The keyword argument will take precedence.\n",
      "/Users/gbrammer/miniconda3/envs/grizli37/lib/python3.7/site-packages/ipykernel_launcher.py:47: UserWarning: linestyle is redundantly defined by the 'linestyle' keyword argument and the fmt string \"s-\" (-> linestyle='-'). The keyword argument will take precedence.\n",
      "/Users/gbrammer/miniconda3/envs/grizli37/lib/python3.7/site-packages/ipykernel_launcher.py:47: UserWarning: linestyle is redundantly defined by the 'linestyle' keyword argument and the fmt string \"s-\" (-> linestyle='-'). The keyword argument will take precedence.\n"
     ]
    },
    {
     "name": "stdout",
     "output_type": "stream",
     "text": [
      "81 1187\n"
     ]
    },
    {
     "name": "stderr",
     "output_type": "stream",
     "text": [
      "/Users/gbrammer/miniconda3/envs/grizli37/lib/python3.7/site-packages/ipykernel_launcher.py:47: UserWarning: linestyle is redundantly defined by the 'linestyle' keyword argument and the fmt string \"s-\" (-> linestyle='-'). The keyword argument will take precedence.\n",
      "/Users/gbrammer/miniconda3/envs/grizli37/lib/python3.7/site-packages/ipykernel_launcher.py:47: UserWarning: linestyle is redundantly defined by the 'linestyle' keyword argument and the fmt string \"s-\" (-> linestyle='-'). The keyword argument will take precedence.\n",
      "/Users/gbrammer/miniconda3/envs/grizli37/lib/python3.7/site-packages/ipykernel_launcher.py:47: UserWarning: linestyle is redundantly defined by the 'linestyle' keyword argument and the fmt string \"s-\" (-> linestyle='-'). The keyword argument will take precedence.\n",
      "/Users/gbrammer/miniconda3/envs/grizli37/lib/python3.7/site-packages/ipykernel_launcher.py:47: UserWarning: linestyle is redundantly defined by the 'linestyle' keyword argument and the fmt string \"s-\" (-> linestyle='-'). The keyword argument will take precedence.\n",
      "/Users/gbrammer/miniconda3/envs/grizli37/lib/python3.7/site-packages/ipykernel_launcher.py:47: UserWarning: linestyle is redundantly defined by the 'linestyle' keyword argument and the fmt string \"s-\" (-> linestyle='-'). The keyword argument will take precedence.\n",
      "/Users/gbrammer/miniconda3/envs/grizli37/lib/python3.7/site-packages/ipykernel_launcher.py:47: UserWarning: linestyle is redundantly defined by the 'linestyle' keyword argument and the fmt string \"s-\" (-> linestyle='-'). The keyword argument will take precedence.\n",
      "/Users/gbrammer/miniconda3/envs/grizli37/lib/python3.7/site-packages/ipykernel_launcher.py:47: UserWarning: linestyle is redundantly defined by the 'linestyle' keyword argument and the fmt string \"s-\" (-> linestyle='-'). The keyword argument will take precedence.\n",
      "/Users/gbrammer/miniconda3/envs/grizli37/lib/python3.7/site-packages/ipykernel_launcher.py:47: UserWarning: linestyle is redundantly defined by the 'linestyle' keyword argument and the fmt string \"s-\" (-> linestyle='-'). The keyword argument will take precedence.\n",
      "/Users/gbrammer/miniconda3/envs/grizli37/lib/python3.7/site-packages/ipykernel_launcher.py:47: UserWarning: linestyle is redundantly defined by the 'linestyle' keyword argument and the fmt string \"s-\" (-> linestyle='-'). The keyword argument will take precedence.\n",
      "/Users/gbrammer/miniconda3/envs/grizli37/lib/python3.7/site-packages/ipykernel_launcher.py:47: UserWarning: linestyle is redundantly defined by the 'linestyle' keyword argument and the fmt string \"s-\" (-> linestyle='-'). The keyword argument will take precedence.\n",
      "/Users/gbrammer/miniconda3/envs/grizli37/lib/python3.7/site-packages/ipykernel_launcher.py:47: UserWarning: linestyle is redundantly defined by the 'linestyle' keyword argument and the fmt string \"s-\" (-> linestyle='-'). The keyword argument will take precedence.\n",
      "/Users/gbrammer/miniconda3/envs/grizli37/lib/python3.7/site-packages/ipykernel_launcher.py:47: UserWarning: linestyle is redundantly defined by the 'linestyle' keyword argument and the fmt string \"s-\" (-> linestyle='-'). The keyword argument will take precedence.\n",
      "/Users/gbrammer/miniconda3/envs/grizli37/lib/python3.7/site-packages/ipykernel_launcher.py:47: UserWarning: linestyle is redundantly defined by the 'linestyle' keyword argument and the fmt string \"s-\" (-> linestyle='-'). The keyword argument will take precedence.\n",
      "/Users/gbrammer/miniconda3/envs/grizli37/lib/python3.7/site-packages/ipykernel_launcher.py:47: UserWarning: linestyle is redundantly defined by the 'linestyle' keyword argument and the fmt string \"s-\" (-> linestyle='-'). The keyword argument will take precedence.\n",
      "/Users/gbrammer/miniconda3/envs/grizli37/lib/python3.7/site-packages/ipykernel_launcher.py:47: UserWarning: linestyle is redundantly defined by the 'linestyle' keyword argument and the fmt string \"s-\" (-> linestyle='-'). The keyword argument will take precedence.\n",
      "/Users/gbrammer/miniconda3/envs/grizli37/lib/python3.7/site-packages/ipykernel_launcher.py:47: UserWarning: linestyle is redundantly defined by the 'linestyle' keyword argument and the fmt string \"s-\" (-> linestyle='-'). The keyword argument will take precedence.\n",
      "/Users/gbrammer/miniconda3/envs/grizli37/lib/python3.7/site-packages/ipykernel_launcher.py:47: UserWarning: linestyle is redundantly defined by the 'linestyle' keyword argument and the fmt string \"s-\" (-> linestyle='-'). The keyword argument will take precedence.\n",
      "/Users/gbrammer/miniconda3/envs/grizli37/lib/python3.7/site-packages/ipykernel_launcher.py:47: UserWarning: linestyle is redundantly defined by the 'linestyle' keyword argument and the fmt string \"s-\" (-> linestyle='-'). The keyword argument will take precedence.\n",
      "/Users/gbrammer/miniconda3/envs/grizli37/lib/python3.7/site-packages/ipykernel_launcher.py:47: UserWarning: linestyle is redundantly defined by the 'linestyle' keyword argument and the fmt string \"s-\" (-> linestyle='-'). The keyword argument will take precedence.\n",
      "/Users/gbrammer/miniconda3/envs/grizli37/lib/python3.7/site-packages/ipykernel_launcher.py:47: UserWarning: linestyle is redundantly defined by the 'linestyle' keyword argument and the fmt string \"s-\" (-> linestyle='-'). The keyword argument will take precedence.\n",
      "/Users/gbrammer/miniconda3/envs/grizli37/lib/python3.7/site-packages/ipykernel_launcher.py:47: UserWarning: linestyle is redundantly defined by the 'linestyle' keyword argument and the fmt string \"s-\" (-> linestyle='-'). The keyword argument will take precedence.\n",
      "/Users/gbrammer/miniconda3/envs/grizli37/lib/python3.7/site-packages/ipykernel_launcher.py:47: UserWarning: linestyle is redundantly defined by the 'linestyle' keyword argument and the fmt string \"s-\" (-> linestyle='-'). The keyword argument will take precedence.\n",
      "/Users/gbrammer/miniconda3/envs/grizli37/lib/python3.7/site-packages/ipykernel_launcher.py:47: UserWarning: linestyle is redundantly defined by the 'linestyle' keyword argument and the fmt string \"s-\" (-> linestyle='-'). The keyword argument will take precedence.\n",
      "/Users/gbrammer/miniconda3/envs/grizli37/lib/python3.7/site-packages/ipykernel_launcher.py:47: UserWarning: linestyle is redundantly defined by the 'linestyle' keyword argument and the fmt string \"s-\" (-> linestyle='-'). The keyword argument will take precedence.\n",
      "/Users/gbrammer/miniconda3/envs/grizli37/lib/python3.7/site-packages/ipykernel_launcher.py:47: UserWarning: linestyle is redundantly defined by the 'linestyle' keyword argument and the fmt string \"s-\" (-> linestyle='-'). The keyword argument will take precedence.\n",
      "/Users/gbrammer/miniconda3/envs/grizli37/lib/python3.7/site-packages/ipykernel_launcher.py:47: UserWarning: linestyle is redundantly defined by the 'linestyle' keyword argument and the fmt string \"s-\" (-> linestyle='-'). The keyword argument will take precedence.\n",
      "/Users/gbrammer/miniconda3/envs/grizli37/lib/python3.7/site-packages/ipykernel_launcher.py:47: UserWarning: linestyle is redundantly defined by the 'linestyle' keyword argument and the fmt string \"s-\" (-> linestyle='-'). The keyword argument will take precedence.\n",
      "/Users/gbrammer/miniconda3/envs/grizli37/lib/python3.7/site-packages/ipykernel_launcher.py:47: UserWarning: linestyle is redundantly defined by the 'linestyle' keyword argument and the fmt string \"s-\" (-> linestyle='-'). The keyword argument will take precedence.\n",
      "/Users/gbrammer/miniconda3/envs/grizli37/lib/python3.7/site-packages/ipykernel_launcher.py:47: UserWarning: linestyle is redundantly defined by the 'linestyle' keyword argument and the fmt string \"s-\" (-> linestyle='-'). The keyword argument will take precedence.\n",
      "/Users/gbrammer/miniconda3/envs/grizli37/lib/python3.7/site-packages/ipykernel_launcher.py:47: UserWarning: linestyle is redundantly defined by the 'linestyle' keyword argument and the fmt string \"s-\" (-> linestyle='-'). The keyword argument will take precedence.\n",
      "/Users/gbrammer/miniconda3/envs/grizli37/lib/python3.7/site-packages/ipykernel_launcher.py:47: UserWarning: linestyle is redundantly defined by the 'linestyle' keyword argument and the fmt string \"s-\" (-> linestyle='-'). The keyword argument will take precedence.\n",
      "/Users/gbrammer/miniconda3/envs/grizli37/lib/python3.7/site-packages/ipykernel_launcher.py:47: UserWarning: linestyle is redundantly defined by the 'linestyle' keyword argument and the fmt string \"s-\" (-> linestyle='-'). The keyword argument will take precedence.\n",
      "/Users/gbrammer/miniconda3/envs/grizli37/lib/python3.7/site-packages/ipykernel_launcher.py:47: UserWarning: linestyle is redundantly defined by the 'linestyle' keyword argument and the fmt string \"s-\" (-> linestyle='-'). The keyword argument will take precedence.\n",
      "/Users/gbrammer/miniconda3/envs/grizli37/lib/python3.7/site-packages/ipykernel_launcher.py:47: UserWarning: linestyle is redundantly defined by the 'linestyle' keyword argument and the fmt string \"s-\" (-> linestyle='-'). The keyword argument will take precedence.\n",
      "/Users/gbrammer/miniconda3/envs/grizli37/lib/python3.7/site-packages/ipykernel_launcher.py:47: UserWarning: linestyle is redundantly defined by the 'linestyle' keyword argument and the fmt string \"s-\" (-> linestyle='-'). The keyword argument will take precedence.\n"
     ]
    },
    {
     "name": "stderr",
     "output_type": "stream",
     "text": [
      "/Users/gbrammer/miniconda3/envs/grizli37/lib/python3.7/site-packages/ipykernel_launcher.py:47: UserWarning: linestyle is redundantly defined by the 'linestyle' keyword argument and the fmt string \"s-\" (-> linestyle='-'). The keyword argument will take precedence.\n",
      "/Users/gbrammer/miniconda3/envs/grizli37/lib/python3.7/site-packages/ipykernel_launcher.py:47: UserWarning: linestyle is redundantly defined by the 'linestyle' keyword argument and the fmt string \"s-\" (-> linestyle='-'). The keyword argument will take precedence.\n"
     ]
    },
    {
     "name": "stdout",
     "output_type": "stream",
     "text": [
      "82 1235\n"
     ]
    },
    {
     "name": "stderr",
     "output_type": "stream",
     "text": [
      "/Users/gbrammer/miniconda3/envs/grizli37/lib/python3.7/site-packages/ipykernel_launcher.py:47: UserWarning: linestyle is redundantly defined by the 'linestyle' keyword argument and the fmt string \"s-\" (-> linestyle='-'). The keyword argument will take precedence.\n",
      "/Users/gbrammer/miniconda3/envs/grizli37/lib/python3.7/site-packages/ipykernel_launcher.py:47: UserWarning: linestyle is redundantly defined by the 'linestyle' keyword argument and the fmt string \"s-\" (-> linestyle='-'). The keyword argument will take precedence.\n",
      "/Users/gbrammer/miniconda3/envs/grizli37/lib/python3.7/site-packages/ipykernel_launcher.py:47: UserWarning: linestyle is redundantly defined by the 'linestyle' keyword argument and the fmt string \"s-\" (-> linestyle='-'). The keyword argument will take precedence.\n",
      "/Users/gbrammer/miniconda3/envs/grizli37/lib/python3.7/site-packages/ipykernel_launcher.py:47: UserWarning: linestyle is redundantly defined by the 'linestyle' keyword argument and the fmt string \"s-\" (-> linestyle='-'). The keyword argument will take precedence.\n",
      "/Users/gbrammer/miniconda3/envs/grizli37/lib/python3.7/site-packages/ipykernel_launcher.py:47: UserWarning: linestyle is redundantly defined by the 'linestyle' keyword argument and the fmt string \"s-\" (-> linestyle='-'). The keyword argument will take precedence.\n",
      "/Users/gbrammer/miniconda3/envs/grizli37/lib/python3.7/site-packages/ipykernel_launcher.py:47: UserWarning: linestyle is redundantly defined by the 'linestyle' keyword argument and the fmt string \"s-\" (-> linestyle='-'). The keyword argument will take precedence.\n",
      "/Users/gbrammer/miniconda3/envs/grizli37/lib/python3.7/site-packages/ipykernel_launcher.py:47: UserWarning: linestyle is redundantly defined by the 'linestyle' keyword argument and the fmt string \"s-\" (-> linestyle='-'). The keyword argument will take precedence.\n",
      "/Users/gbrammer/miniconda3/envs/grizli37/lib/python3.7/site-packages/ipykernel_launcher.py:47: UserWarning: linestyle is redundantly defined by the 'linestyle' keyword argument and the fmt string \"s-\" (-> linestyle='-'). The keyword argument will take precedence.\n",
      "/Users/gbrammer/miniconda3/envs/grizli37/lib/python3.7/site-packages/ipykernel_launcher.py:47: UserWarning: linestyle is redundantly defined by the 'linestyle' keyword argument and the fmt string \"s-\" (-> linestyle='-'). The keyword argument will take precedence.\n",
      "/Users/gbrammer/miniconda3/envs/grizli37/lib/python3.7/site-packages/ipykernel_launcher.py:47: UserWarning: linestyle is redundantly defined by the 'linestyle' keyword argument and the fmt string \"s-\" (-> linestyle='-'). The keyword argument will take precedence.\n",
      "/Users/gbrammer/miniconda3/envs/grizli37/lib/python3.7/site-packages/ipykernel_launcher.py:47: UserWarning: linestyle is redundantly defined by the 'linestyle' keyword argument and the fmt string \"s-\" (-> linestyle='-'). The keyword argument will take precedence.\n",
      "/Users/gbrammer/miniconda3/envs/grizli37/lib/python3.7/site-packages/ipykernel_launcher.py:47: UserWarning: linestyle is redundantly defined by the 'linestyle' keyword argument and the fmt string \"s-\" (-> linestyle='-'). The keyword argument will take precedence.\n"
     ]
    },
    {
     "name": "stdout",
     "output_type": "stream",
     "text": [
      "83 1236\n"
     ]
    },
    {
     "name": "stderr",
     "output_type": "stream",
     "text": [
      "/Users/gbrammer/miniconda3/envs/grizli37/lib/python3.7/site-packages/ipykernel_launcher.py:47: UserWarning: linestyle is redundantly defined by the 'linestyle' keyword argument and the fmt string \"s-\" (-> linestyle='-'). The keyword argument will take precedence.\n",
      "/Users/gbrammer/miniconda3/envs/grizli37/lib/python3.7/site-packages/ipykernel_launcher.py:47: UserWarning: linestyle is redundantly defined by the 'linestyle' keyword argument and the fmt string \"s-\" (-> linestyle='-'). The keyword argument will take precedence.\n",
      "/Users/gbrammer/miniconda3/envs/grizli37/lib/python3.7/site-packages/ipykernel_launcher.py:47: UserWarning: linestyle is redundantly defined by the 'linestyle' keyword argument and the fmt string \"s-\" (-> linestyle='-'). The keyword argument will take precedence.\n",
      "/Users/gbrammer/miniconda3/envs/grizli37/lib/python3.7/site-packages/ipykernel_launcher.py:47: UserWarning: linestyle is redundantly defined by the 'linestyle' keyword argument and the fmt string \"s-\" (-> linestyle='-'). The keyword argument will take precedence.\n",
      "/Users/gbrammer/miniconda3/envs/grizli37/lib/python3.7/site-packages/ipykernel_launcher.py:47: UserWarning: linestyle is redundantly defined by the 'linestyle' keyword argument and the fmt string \"s-\" (-> linestyle='-'). The keyword argument will take precedence.\n",
      "/Users/gbrammer/miniconda3/envs/grizli37/lib/python3.7/site-packages/ipykernel_launcher.py:47: UserWarning: linestyle is redundantly defined by the 'linestyle' keyword argument and the fmt string \"s-\" (-> linestyle='-'). The keyword argument will take precedence.\n",
      "/Users/gbrammer/miniconda3/envs/grizli37/lib/python3.7/site-packages/ipykernel_launcher.py:47: UserWarning: linestyle is redundantly defined by the 'linestyle' keyword argument and the fmt string \"s-\" (-> linestyle='-'). The keyword argument will take precedence.\n",
      "/Users/gbrammer/miniconda3/envs/grizli37/lib/python3.7/site-packages/ipykernel_launcher.py:47: UserWarning: linestyle is redundantly defined by the 'linestyle' keyword argument and the fmt string \"s-\" (-> linestyle='-'). The keyword argument will take precedence.\n",
      "/Users/gbrammer/miniconda3/envs/grizli37/lib/python3.7/site-packages/ipykernel_launcher.py:47: UserWarning: linestyle is redundantly defined by the 'linestyle' keyword argument and the fmt string \"s-\" (-> linestyle='-'). The keyword argument will take precedence.\n",
      "/Users/gbrammer/miniconda3/envs/grizli37/lib/python3.7/site-packages/ipykernel_launcher.py:47: UserWarning: linestyle is redundantly defined by the 'linestyle' keyword argument and the fmt string \"s-\" (-> linestyle='-'). The keyword argument will take precedence.\n",
      "/Users/gbrammer/miniconda3/envs/grizli37/lib/python3.7/site-packages/ipykernel_launcher.py:47: UserWarning: linestyle is redundantly defined by the 'linestyle' keyword argument and the fmt string \"s-\" (-> linestyle='-'). The keyword argument will take precedence.\n"
     ]
    },
    {
     "name": "stdout",
     "output_type": "stream",
     "text": [
      "84 1257\n"
     ]
    },
    {
     "name": "stderr",
     "output_type": "stream",
     "text": [
      "/Users/gbrammer/miniconda3/envs/grizli37/lib/python3.7/site-packages/ipykernel_launcher.py:47: UserWarning: linestyle is redundantly defined by the 'linestyle' keyword argument and the fmt string \"s-\" (-> linestyle='-'). The keyword argument will take precedence.\n",
      "/Users/gbrammer/miniconda3/envs/grizli37/lib/python3.7/site-packages/ipykernel_launcher.py:47: UserWarning: linestyle is redundantly defined by the 'linestyle' keyword argument and the fmt string \"s-\" (-> linestyle='-'). The keyword argument will take precedence.\n",
      "/Users/gbrammer/miniconda3/envs/grizli37/lib/python3.7/site-packages/ipykernel_launcher.py:47: UserWarning: linestyle is redundantly defined by the 'linestyle' keyword argument and the fmt string \"s-\" (-> linestyle='-'). The keyword argument will take precedence.\n",
      "/Users/gbrammer/miniconda3/envs/grizli37/lib/python3.7/site-packages/ipykernel_launcher.py:47: UserWarning: linestyle is redundantly defined by the 'linestyle' keyword argument and the fmt string \"s-\" (-> linestyle='-'). The keyword argument will take precedence.\n"
     ]
    },
    {
     "name": "stdout",
     "output_type": "stream",
     "text": [
      "85 1258\n"
     ]
    },
    {
     "name": "stderr",
     "output_type": "stream",
     "text": [
      "/Users/gbrammer/miniconda3/envs/grizli37/lib/python3.7/site-packages/ipykernel_launcher.py:47: UserWarning: linestyle is redundantly defined by the 'linestyle' keyword argument and the fmt string \"s-\" (-> linestyle='-'). The keyword argument will take precedence.\n",
      "/Users/gbrammer/miniconda3/envs/grizli37/lib/python3.7/site-packages/ipykernel_launcher.py:47: UserWarning: linestyle is redundantly defined by the 'linestyle' keyword argument and the fmt string \"s-\" (-> linestyle='-'). The keyword argument will take precedence.\n"
     ]
    },
    {
     "name": "stdout",
     "output_type": "stream",
     "text": [
      "86 1282\n",
      "87 1290\n"
     ]
    },
    {
     "name": "stderr",
     "output_type": "stream",
     "text": [
      "/Users/gbrammer/miniconda3/envs/grizli37/lib/python3.7/site-packages/ipykernel_launcher.py:47: UserWarning: linestyle is redundantly defined by the 'linestyle' keyword argument and the fmt string \"s-\" (-> linestyle='-'). The keyword argument will take precedence.\n",
      "/Users/gbrammer/miniconda3/envs/grizli37/lib/python3.7/site-packages/ipykernel_launcher.py:47: UserWarning: linestyle is redundantly defined by the 'linestyle' keyword argument and the fmt string \"s-\" (-> linestyle='-'). The keyword argument will take precedence.\n",
      "/Users/gbrammer/miniconda3/envs/grizli37/lib/python3.7/site-packages/ipykernel_launcher.py:47: UserWarning: linestyle is redundantly defined by the 'linestyle' keyword argument and the fmt string \"s-\" (-> linestyle='-'). The keyword argument will take precedence.\n",
      "/Users/gbrammer/miniconda3/envs/grizli37/lib/python3.7/site-packages/ipykernel_launcher.py:47: UserWarning: linestyle is redundantly defined by the 'linestyle' keyword argument and the fmt string \"s-\" (-> linestyle='-'). The keyword argument will take precedence.\n",
      "/Users/gbrammer/miniconda3/envs/grizli37/lib/python3.7/site-packages/ipykernel_launcher.py:47: UserWarning: linestyle is redundantly defined by the 'linestyle' keyword argument and the fmt string \"s-\" (-> linestyle='-'). The keyword argument will take precedence.\n",
      "/Users/gbrammer/miniconda3/envs/grizli37/lib/python3.7/site-packages/ipykernel_launcher.py:47: UserWarning: linestyle is redundantly defined by the 'linestyle' keyword argument and the fmt string \"s-\" (-> linestyle='-'). The keyword argument will take precedence.\n",
      "/Users/gbrammer/miniconda3/envs/grizli37/lib/python3.7/site-packages/ipykernel_launcher.py:47: UserWarning: linestyle is redundantly defined by the 'linestyle' keyword argument and the fmt string \"s-\" (-> linestyle='-'). The keyword argument will take precedence.\n",
      "/Users/gbrammer/miniconda3/envs/grizli37/lib/python3.7/site-packages/ipykernel_launcher.py:47: UserWarning: linestyle is redundantly defined by the 'linestyle' keyword argument and the fmt string \"s-\" (-> linestyle='-'). The keyword argument will take precedence.\n",
      "/Users/gbrammer/miniconda3/envs/grizli37/lib/python3.7/site-packages/ipykernel_launcher.py:47: UserWarning: linestyle is redundantly defined by the 'linestyle' keyword argument and the fmt string \"s-\" (-> linestyle='-'). The keyword argument will take precedence.\n",
      "/Users/gbrammer/miniconda3/envs/grizli37/lib/python3.7/site-packages/ipykernel_launcher.py:47: UserWarning: linestyle is redundantly defined by the 'linestyle' keyword argument and the fmt string \"s-\" (-> linestyle='-'). The keyword argument will take precedence.\n",
      "/Users/gbrammer/miniconda3/envs/grizli37/lib/python3.7/site-packages/ipykernel_launcher.py:47: UserWarning: linestyle is redundantly defined by the 'linestyle' keyword argument and the fmt string \"s-\" (-> linestyle='-'). The keyword argument will take precedence.\n",
      "/Users/gbrammer/miniconda3/envs/grizli37/lib/python3.7/site-packages/ipykernel_launcher.py:47: UserWarning: linestyle is redundantly defined by the 'linestyle' keyword argument and the fmt string \"s-\" (-> linestyle='-'). The keyword argument will take precedence.\n",
      "/Users/gbrammer/miniconda3/envs/grizli37/lib/python3.7/site-packages/ipykernel_launcher.py:47: UserWarning: linestyle is redundantly defined by the 'linestyle' keyword argument and the fmt string \"s-\" (-> linestyle='-'). The keyword argument will take precedence.\n",
      "/Users/gbrammer/miniconda3/envs/grizli37/lib/python3.7/site-packages/ipykernel_launcher.py:47: UserWarning: linestyle is redundantly defined by the 'linestyle' keyword argument and the fmt string \"s-\" (-> linestyle='-'). The keyword argument will take precedence.\n",
      "/Users/gbrammer/miniconda3/envs/grizli37/lib/python3.7/site-packages/ipykernel_launcher.py:47: UserWarning: linestyle is redundantly defined by the 'linestyle' keyword argument and the fmt string \"s-\" (-> linestyle='-'). The keyword argument will take precedence.\n",
      "/Users/gbrammer/miniconda3/envs/grizli37/lib/python3.7/site-packages/ipykernel_launcher.py:47: UserWarning: linestyle is redundantly defined by the 'linestyle' keyword argument and the fmt string \"s-\" (-> linestyle='-'). The keyword argument will take precedence.\n",
      "/Users/gbrammer/miniconda3/envs/grizli37/lib/python3.7/site-packages/ipykernel_launcher.py:47: UserWarning: linestyle is redundantly defined by the 'linestyle' keyword argument and the fmt string \"s-\" (-> linestyle='-'). The keyword argument will take precedence.\n",
      "/Users/gbrammer/miniconda3/envs/grizli37/lib/python3.7/site-packages/ipykernel_launcher.py:47: UserWarning: linestyle is redundantly defined by the 'linestyle' keyword argument and the fmt string \"s-\" (-> linestyle='-'). The keyword argument will take precedence.\n",
      "/Users/gbrammer/miniconda3/envs/grizli37/lib/python3.7/site-packages/ipykernel_launcher.py:47: UserWarning: linestyle is redundantly defined by the 'linestyle' keyword argument and the fmt string \"s-\" (-> linestyle='-'). The keyword argument will take precedence.\n",
      "/Users/gbrammer/miniconda3/envs/grizli37/lib/python3.7/site-packages/ipykernel_launcher.py:47: UserWarning: linestyle is redundantly defined by the 'linestyle' keyword argument and the fmt string \"s-\" (-> linestyle='-'). The keyword argument will take precedence.\n",
      "/Users/gbrammer/miniconda3/envs/grizli37/lib/python3.7/site-packages/ipykernel_launcher.py:47: UserWarning: linestyle is redundantly defined by the 'linestyle' keyword argument and the fmt string \"s-\" (-> linestyle='-'). The keyword argument will take precedence.\n",
      "/Users/gbrammer/miniconda3/envs/grizli37/lib/python3.7/site-packages/ipykernel_launcher.py:47: UserWarning: linestyle is redundantly defined by the 'linestyle' keyword argument and the fmt string \"s-\" (-> linestyle='-'). The keyword argument will take precedence.\n",
      "/Users/gbrammer/miniconda3/envs/grizli37/lib/python3.7/site-packages/ipykernel_launcher.py:47: UserWarning: linestyle is redundantly defined by the 'linestyle' keyword argument and the fmt string \"s-\" (-> linestyle='-'). The keyword argument will take precedence.\n",
      "/Users/gbrammer/miniconda3/envs/grizli37/lib/python3.7/site-packages/ipykernel_launcher.py:47: UserWarning: linestyle is redundantly defined by the 'linestyle' keyword argument and the fmt string \"s-\" (-> linestyle='-'). The keyword argument will take precedence.\n",
      "/Users/gbrammer/miniconda3/envs/grizli37/lib/python3.7/site-packages/ipykernel_launcher.py:47: UserWarning: linestyle is redundantly defined by the 'linestyle' keyword argument and the fmt string \"s-\" (-> linestyle='-'). The keyword argument will take precedence.\n",
      "/Users/gbrammer/miniconda3/envs/grizli37/lib/python3.7/site-packages/ipykernel_launcher.py:47: UserWarning: linestyle is redundantly defined by the 'linestyle' keyword argument and the fmt string \"s-\" (-> linestyle='-'). The keyword argument will take precedence.\n",
      "/Users/gbrammer/miniconda3/envs/grizli37/lib/python3.7/site-packages/ipykernel_launcher.py:47: UserWarning: linestyle is redundantly defined by the 'linestyle' keyword argument and the fmt string \"s-\" (-> linestyle='-'). The keyword argument will take precedence.\n",
      "/Users/gbrammer/miniconda3/envs/grizli37/lib/python3.7/site-packages/ipykernel_launcher.py:47: UserWarning: linestyle is redundantly defined by the 'linestyle' keyword argument and the fmt string \"s-\" (-> linestyle='-'). The keyword argument will take precedence.\n",
      "/Users/gbrammer/miniconda3/envs/grizli37/lib/python3.7/site-packages/ipykernel_launcher.py:47: UserWarning: linestyle is redundantly defined by the 'linestyle' keyword argument and the fmt string \"s-\" (-> linestyle='-'). The keyword argument will take precedence.\n",
      "/Users/gbrammer/miniconda3/envs/grizli37/lib/python3.7/site-packages/ipykernel_launcher.py:47: UserWarning: linestyle is redundantly defined by the 'linestyle' keyword argument and the fmt string \"s-\" (-> linestyle='-'). The keyword argument will take precedence.\n",
      "/Users/gbrammer/miniconda3/envs/grizli37/lib/python3.7/site-packages/ipykernel_launcher.py:47: UserWarning: linestyle is redundantly defined by the 'linestyle' keyword argument and the fmt string \"s-\" (-> linestyle='-'). The keyword argument will take precedence.\n",
      "/Users/gbrammer/miniconda3/envs/grizli37/lib/python3.7/site-packages/ipykernel_launcher.py:47: UserWarning: linestyle is redundantly defined by the 'linestyle' keyword argument and the fmt string \"s-\" (-> linestyle='-'). The keyword argument will take precedence.\n",
      "/Users/gbrammer/miniconda3/envs/grizli37/lib/python3.7/site-packages/ipykernel_launcher.py:47: UserWarning: linestyle is redundantly defined by the 'linestyle' keyword argument and the fmt string \"s-\" (-> linestyle='-'). The keyword argument will take precedence.\n",
      "/Users/gbrammer/miniconda3/envs/grizli37/lib/python3.7/site-packages/ipykernel_launcher.py:47: UserWarning: linestyle is redundantly defined by the 'linestyle' keyword argument and the fmt string \"s-\" (-> linestyle='-'). The keyword argument will take precedence.\n",
      "/Users/gbrammer/miniconda3/envs/grizli37/lib/python3.7/site-packages/ipykernel_launcher.py:47: UserWarning: linestyle is redundantly defined by the 'linestyle' keyword argument and the fmt string \"s-\" (-> linestyle='-'). The keyword argument will take precedence.\n"
     ]
    },
    {
     "name": "stderr",
     "output_type": "stream",
     "text": [
      "/Users/gbrammer/miniconda3/envs/grizli37/lib/python3.7/site-packages/ipykernel_launcher.py:47: UserWarning: linestyle is redundantly defined by the 'linestyle' keyword argument and the fmt string \"s-\" (-> linestyle='-'). The keyword argument will take precedence.\n"
     ]
    },
    {
     "name": "stdout",
     "output_type": "stream",
     "text": [
      "88 1293\n"
     ]
    },
    {
     "name": "stderr",
     "output_type": "stream",
     "text": [
      "/Users/gbrammer/miniconda3/envs/grizli37/lib/python3.7/site-packages/ipykernel_launcher.py:47: UserWarning: linestyle is redundantly defined by the 'linestyle' keyword argument and the fmt string \"s-\" (-> linestyle='-'). The keyword argument will take precedence.\n",
      "/Users/gbrammer/miniconda3/envs/grizli37/lib/python3.7/site-packages/ipykernel_launcher.py:47: UserWarning: linestyle is redundantly defined by the 'linestyle' keyword argument and the fmt string \"s-\" (-> linestyle='-'). The keyword argument will take precedence.\n",
      "/Users/gbrammer/miniconda3/envs/grizli37/lib/python3.7/site-packages/ipykernel_launcher.py:47: UserWarning: linestyle is redundantly defined by the 'linestyle' keyword argument and the fmt string \"s-\" (-> linestyle='-'). The keyword argument will take precedence.\n",
      "/Users/gbrammer/miniconda3/envs/grizli37/lib/python3.7/site-packages/ipykernel_launcher.py:47: UserWarning: linestyle is redundantly defined by the 'linestyle' keyword argument and the fmt string \"s-\" (-> linestyle='-'). The keyword argument will take precedence.\n",
      "/Users/gbrammer/miniconda3/envs/grizli37/lib/python3.7/site-packages/ipykernel_launcher.py:47: UserWarning: linestyle is redundantly defined by the 'linestyle' keyword argument and the fmt string \"s-\" (-> linestyle='-'). The keyword argument will take precedence.\n"
     ]
    },
    {
     "name": "stdout",
     "output_type": "stream",
     "text": [
      "89 1191\n"
     ]
    },
    {
     "name": "stderr",
     "output_type": "stream",
     "text": [
      "/Users/gbrammer/miniconda3/envs/grizli37/lib/python3.7/site-packages/ipykernel_launcher.py:47: UserWarning: linestyle is redundantly defined by the 'linestyle' keyword argument and the fmt string \"s-\" (-> linestyle='-'). The keyword argument will take precedence.\n",
      "/Users/gbrammer/miniconda3/envs/grizli37/lib/python3.7/site-packages/ipykernel_launcher.py:47: UserWarning: linestyle is redundantly defined by the 'linestyle' keyword argument and the fmt string \"s-\" (-> linestyle='-'). The keyword argument will take precedence.\n",
      "/Users/gbrammer/miniconda3/envs/grizli37/lib/python3.7/site-packages/ipykernel_launcher.py:47: UserWarning: linestyle is redundantly defined by the 'linestyle' keyword argument and the fmt string \"s-\" (-> linestyle='-'). The keyword argument will take precedence.\n",
      "/Users/gbrammer/miniconda3/envs/grizli37/lib/python3.7/site-packages/ipykernel_launcher.py:47: UserWarning: linestyle is redundantly defined by the 'linestyle' keyword argument and the fmt string \"s-\" (-> linestyle='-'). The keyword argument will take precedence.\n",
      "/Users/gbrammer/miniconda3/envs/grizli37/lib/python3.7/site-packages/ipykernel_launcher.py:47: UserWarning: linestyle is redundantly defined by the 'linestyle' keyword argument and the fmt string \"s-\" (-> linestyle='-'). The keyword argument will take precedence.\n",
      "/Users/gbrammer/miniconda3/envs/grizli37/lib/python3.7/site-packages/ipykernel_launcher.py:47: UserWarning: linestyle is redundantly defined by the 'linestyle' keyword argument and the fmt string \"s-\" (-> linestyle='-'). The keyword argument will take precedence.\n",
      "/Users/gbrammer/miniconda3/envs/grizli37/lib/python3.7/site-packages/ipykernel_launcher.py:47: UserWarning: linestyle is redundantly defined by the 'linestyle' keyword argument and the fmt string \"s-\" (-> linestyle='-'). The keyword argument will take precedence.\n",
      "/Users/gbrammer/miniconda3/envs/grizli37/lib/python3.7/site-packages/ipykernel_launcher.py:47: UserWarning: linestyle is redundantly defined by the 'linestyle' keyword argument and the fmt string \"s-\" (-> linestyle='-'). The keyword argument will take precedence.\n",
      "/Users/gbrammer/miniconda3/envs/grizli37/lib/python3.7/site-packages/ipykernel_launcher.py:47: UserWarning: linestyle is redundantly defined by the 'linestyle' keyword argument and the fmt string \"s-\" (-> linestyle='-'). The keyword argument will take precedence.\n",
      "/Users/gbrammer/miniconda3/envs/grizli37/lib/python3.7/site-packages/ipykernel_launcher.py:47: UserWarning: linestyle is redundantly defined by the 'linestyle' keyword argument and the fmt string \"s-\" (-> linestyle='-'). The keyword argument will take precedence.\n",
      "/Users/gbrammer/miniconda3/envs/grizli37/lib/python3.7/site-packages/ipykernel_launcher.py:47: UserWarning: linestyle is redundantly defined by the 'linestyle' keyword argument and the fmt string \"s-\" (-> linestyle='-'). The keyword argument will take precedence.\n"
     ]
    },
    {
     "name": "stdout",
     "output_type": "stream",
     "text": [
      "90 1231\n"
     ]
    },
    {
     "name": "stderr",
     "output_type": "stream",
     "text": [
      "/Users/gbrammer/miniconda3/envs/grizli37/lib/python3.7/site-packages/ipykernel_launcher.py:47: UserWarning: linestyle is redundantly defined by the 'linestyle' keyword argument and the fmt string \"s-\" (-> linestyle='-'). The keyword argument will take precedence.\n",
      "/Users/gbrammer/miniconda3/envs/grizli37/lib/python3.7/site-packages/ipykernel_launcher.py:47: UserWarning: linestyle is redundantly defined by the 'linestyle' keyword argument and the fmt string \"s-\" (-> linestyle='-'). The keyword argument will take precedence.\n"
     ]
    },
    {
     "name": "stdout",
     "output_type": "stream",
     "text": [
      "91 1244\n",
      "92 1245\n",
      "93 1246\n",
      "94 1247\n",
      "95 1248\n",
      "96 1249\n",
      "97 1250\n",
      "98 1251\n",
      "99 1252\n",
      "100 1253\n",
      "101 1254\n"
     ]
    },
    {
     "name": "stderr",
     "output_type": "stream",
     "text": [
      "/Users/gbrammer/miniconda3/envs/grizli37/lib/python3.7/site-packages/ipykernel_launcher.py:47: UserWarning: linestyle is redundantly defined by the 'linestyle' keyword argument and the fmt string \"s-\" (-> linestyle='-'). The keyword argument will take precedence.\n",
      "/Users/gbrammer/miniconda3/envs/grizli37/lib/python3.7/site-packages/ipykernel_launcher.py:47: UserWarning: linestyle is redundantly defined by the 'linestyle' keyword argument and the fmt string \"s-\" (-> linestyle='-'). The keyword argument will take precedence.\n",
      "/Users/gbrammer/miniconda3/envs/grizli37/lib/python3.7/site-packages/ipykernel_launcher.py:47: UserWarning: linestyle is redundantly defined by the 'linestyle' keyword argument and the fmt string \"s-\" (-> linestyle='-'). The keyword argument will take precedence.\n",
      "/Users/gbrammer/miniconda3/envs/grizli37/lib/python3.7/site-packages/ipykernel_launcher.py:47: UserWarning: linestyle is redundantly defined by the 'linestyle' keyword argument and the fmt string \"s-\" (-> linestyle='-'). The keyword argument will take precedence.\n",
      "/Users/gbrammer/miniconda3/envs/grizli37/lib/python3.7/site-packages/ipykernel_launcher.py:47: UserWarning: linestyle is redundantly defined by the 'linestyle' keyword argument and the fmt string \"s-\" (-> linestyle='-'). The keyword argument will take precedence.\n"
     ]
    },
    {
     "name": "stdout",
     "output_type": "stream",
     "text": [
      "102 1255\n",
      "Fail\n",
      "103 1271\n",
      "104 1272\n"
     ]
    },
    {
     "name": "stderr",
     "output_type": "stream",
     "text": [
      "/Users/gbrammer/miniconda3/envs/grizli37/lib/python3.7/site-packages/ipykernel_launcher.py:47: UserWarning: linestyle is redundantly defined by the 'linestyle' keyword argument and the fmt string \"s-\" (-> linestyle='-'). The keyword argument will take precedence.\n",
      "/Users/gbrammer/miniconda3/envs/grizli37/lib/python3.7/site-packages/ipykernel_launcher.py:47: UserWarning: linestyle is redundantly defined by the 'linestyle' keyword argument and the fmt string \"s-\" (-> linestyle='-'). The keyword argument will take precedence.\n",
      "/Users/gbrammer/miniconda3/envs/grizli37/lib/python3.7/site-packages/ipykernel_launcher.py:47: UserWarning: linestyle is redundantly defined by the 'linestyle' keyword argument and the fmt string \"s-\" (-> linestyle='-'). The keyword argument will take precedence.\n"
     ]
    },
    {
     "name": "stdout",
     "output_type": "stream",
     "text": [
      "105 1273\n"
     ]
    },
    {
     "name": "stderr",
     "output_type": "stream",
     "text": [
      "/Users/gbrammer/miniconda3/envs/grizli37/lib/python3.7/site-packages/ipykernel_launcher.py:47: UserWarning: linestyle is redundantly defined by the 'linestyle' keyword argument and the fmt string \"s-\" (-> linestyle='-'). The keyword argument will take precedence.\n",
      "/Users/gbrammer/miniconda3/envs/grizli37/lib/python3.7/site-packages/ipykernel_launcher.py:47: UserWarning: linestyle is redundantly defined by the 'linestyle' keyword argument and the fmt string \"s-\" (-> linestyle='-'). The keyword argument will take precedence.\n",
      "/Users/gbrammer/miniconda3/envs/grizli37/lib/python3.7/site-packages/ipykernel_launcher.py:47: UserWarning: linestyle is redundantly defined by the 'linestyle' keyword argument and the fmt string \"s-\" (-> linestyle='-'). The keyword argument will take precedence.\n",
      "/Users/gbrammer/miniconda3/envs/grizli37/lib/python3.7/site-packages/ipykernel_launcher.py:47: UserWarning: linestyle is redundantly defined by the 'linestyle' keyword argument and the fmt string \"s-\" (-> linestyle='-'). The keyword argument will take precedence.\n",
      "/Users/gbrammer/miniconda3/envs/grizli37/lib/python3.7/site-packages/ipykernel_launcher.py:47: UserWarning: linestyle is redundantly defined by the 'linestyle' keyword argument and the fmt string \"s-\" (-> linestyle='-'). The keyword argument will take precedence.\n",
      "/Users/gbrammer/miniconda3/envs/grizli37/lib/python3.7/site-packages/ipykernel_launcher.py:47: UserWarning: linestyle is redundantly defined by the 'linestyle' keyword argument and the fmt string \"s-\" (-> linestyle='-'). The keyword argument will take precedence.\n"
     ]
    },
    {
     "name": "stdout",
     "output_type": "stream",
     "text": [
      "106 1415\n",
      "107 1182\n"
     ]
    },
    {
     "name": "stderr",
     "output_type": "stream",
     "text": [
      "/Users/gbrammer/miniconda3/envs/grizli37/lib/python3.7/site-packages/ipykernel_launcher.py:47: UserWarning: linestyle is redundantly defined by the 'linestyle' keyword argument and the fmt string \"s-\" (-> linestyle='-'). The keyword argument will take precedence.\n",
      "/Users/gbrammer/miniconda3/envs/grizli37/lib/python3.7/site-packages/ipykernel_launcher.py:47: UserWarning: linestyle is redundantly defined by the 'linestyle' keyword argument and the fmt string \"s-\" (-> linestyle='-'). The keyword argument will take precedence.\n",
      "/Users/gbrammer/miniconda3/envs/grizli37/lib/python3.7/site-packages/ipykernel_launcher.py:47: UserWarning: linestyle is redundantly defined by the 'linestyle' keyword argument and the fmt string \"s-\" (-> linestyle='-'). The keyword argument will take precedence.\n",
      "/Users/gbrammer/miniconda3/envs/grizli37/lib/python3.7/site-packages/ipykernel_launcher.py:47: UserWarning: linestyle is redundantly defined by the 'linestyle' keyword argument and the fmt string \"s-\" (-> linestyle='-'). The keyword argument will take precedence.\n",
      "/Users/gbrammer/miniconda3/envs/grizli37/lib/python3.7/site-packages/ipykernel_launcher.py:47: UserWarning: linestyle is redundantly defined by the 'linestyle' keyword argument and the fmt string \"s-\" (-> linestyle='-'). The keyword argument will take precedence.\n"
     ]
    },
    {
     "name": "stdout",
     "output_type": "stream",
     "text": [
      "108 1190\n"
     ]
    },
    {
     "name": "stderr",
     "output_type": "stream",
     "text": [
      "/Users/gbrammer/miniconda3/envs/grizli37/lib/python3.7/site-packages/ipykernel_launcher.py:47: UserWarning: linestyle is redundantly defined by the 'linestyle' keyword argument and the fmt string \"s-\" (-> linestyle='-'). The keyword argument will take precedence.\n",
      "/Users/gbrammer/miniconda3/envs/grizli37/lib/python3.7/site-packages/ipykernel_launcher.py:47: UserWarning: linestyle is redundantly defined by the 'linestyle' keyword argument and the fmt string \"s-\" (-> linestyle='-'). The keyword argument will take precedence.\n",
      "/Users/gbrammer/miniconda3/envs/grizli37/lib/python3.7/site-packages/ipykernel_launcher.py:47: UserWarning: linestyle is redundantly defined by the 'linestyle' keyword argument and the fmt string \"s-\" (-> linestyle='-'). The keyword argument will take precedence.\n"
     ]
    },
    {
     "name": "stdout",
     "output_type": "stream",
     "text": [
      "109 1232\n"
     ]
    },
    {
     "name": "stderr",
     "output_type": "stream",
     "text": [
      "/Users/gbrammer/miniconda3/envs/grizli37/lib/python3.7/site-packages/ipykernel_launcher.py:47: UserWarning: linestyle is redundantly defined by the 'linestyle' keyword argument and the fmt string \"s-\" (-> linestyle='-'). The keyword argument will take precedence.\n",
      "/Users/gbrammer/miniconda3/envs/grizli37/lib/python3.7/site-packages/ipykernel_launcher.py:47: UserWarning: linestyle is redundantly defined by the 'linestyle' keyword argument and the fmt string \"s-\" (-> linestyle='-'). The keyword argument will take precedence.\n",
      "/Users/gbrammer/miniconda3/envs/grizli37/lib/python3.7/site-packages/ipykernel_launcher.py:47: UserWarning: linestyle is redundantly defined by the 'linestyle' keyword argument and the fmt string \"s-\" (-> linestyle='-'). The keyword argument will take precedence.\n"
     ]
    },
    {
     "name": "stdout",
     "output_type": "stream",
     "text": [
      "110 1237\n"
     ]
    },
    {
     "name": "stderr",
     "output_type": "stream",
     "text": [
      "/Users/gbrammer/miniconda3/envs/grizli37/lib/python3.7/site-packages/ipykernel_launcher.py:47: UserWarning: linestyle is redundantly defined by the 'linestyle' keyword argument and the fmt string \"s-\" (-> linestyle='-'). The keyword argument will take precedence.\n",
      "/Users/gbrammer/miniconda3/envs/grizli37/lib/python3.7/site-packages/ipykernel_launcher.py:47: UserWarning: linestyle is redundantly defined by the 'linestyle' keyword argument and the fmt string \"s-\" (-> linestyle='-'). The keyword argument will take precedence.\n",
      "/Users/gbrammer/miniconda3/envs/grizli37/lib/python3.7/site-packages/ipykernel_launcher.py:47: UserWarning: linestyle is redundantly defined by the 'linestyle' keyword argument and the fmt string \"s-\" (-> linestyle='-'). The keyword argument will take precedence.\n",
      "/Users/gbrammer/miniconda3/envs/grizli37/lib/python3.7/site-packages/ipykernel_launcher.py:47: UserWarning: linestyle is redundantly defined by the 'linestyle' keyword argument and the fmt string \"s-\" (-> linestyle='-'). The keyword argument will take precedence.\n",
      "/Users/gbrammer/miniconda3/envs/grizli37/lib/python3.7/site-packages/ipykernel_launcher.py:47: UserWarning: linestyle is redundantly defined by the 'linestyle' keyword argument and the fmt string \"s-\" (-> linestyle='-'). The keyword argument will take precedence.\n",
      "/Users/gbrammer/miniconda3/envs/grizli37/lib/python3.7/site-packages/ipykernel_launcher.py:47: UserWarning: linestyle is redundantly defined by the 'linestyle' keyword argument and the fmt string \"s-\" (-> linestyle='-'). The keyword argument will take precedence.\n"
     ]
    },
    {
     "name": "stdout",
     "output_type": "stream",
     "text": [
      "111 1238\n"
     ]
    },
    {
     "name": "stderr",
     "output_type": "stream",
     "text": [
      "/Users/gbrammer/miniconda3/envs/grizli37/lib/python3.7/site-packages/ipykernel_launcher.py:47: UserWarning: linestyle is redundantly defined by the 'linestyle' keyword argument and the fmt string \"s-\" (-> linestyle='-'). The keyword argument will take precedence.\n",
      "/Users/gbrammer/miniconda3/envs/grizli37/lib/python3.7/site-packages/ipykernel_launcher.py:47: UserWarning: linestyle is redundantly defined by the 'linestyle' keyword argument and the fmt string \"s-\" (-> linestyle='-'). The keyword argument will take precedence.\n",
      "/Users/gbrammer/miniconda3/envs/grizli37/lib/python3.7/site-packages/ipykernel_launcher.py:47: UserWarning: linestyle is redundantly defined by the 'linestyle' keyword argument and the fmt string \"s-\" (-> linestyle='-'). The keyword argument will take precedence.\n",
      "/Users/gbrammer/miniconda3/envs/grizli37/lib/python3.7/site-packages/ipykernel_launcher.py:47: UserWarning: linestyle is redundantly defined by the 'linestyle' keyword argument and the fmt string \"s-\" (-> linestyle='-'). The keyword argument will take precedence.\n",
      "/Users/gbrammer/miniconda3/envs/grizli37/lib/python3.7/site-packages/ipykernel_launcher.py:47: UserWarning: linestyle is redundantly defined by the 'linestyle' keyword argument and the fmt string \"s-\" (-> linestyle='-'). The keyword argument will take precedence.\n",
      "/Users/gbrammer/miniconda3/envs/grizli37/lib/python3.7/site-packages/ipykernel_launcher.py:47: UserWarning: linestyle is redundantly defined by the 'linestyle' keyword argument and the fmt string \"s-\" (-> linestyle='-'). The keyword argument will take precedence.\n",
      "/Users/gbrammer/miniconda3/envs/grizli37/lib/python3.7/site-packages/ipykernel_launcher.py:47: UserWarning: linestyle is redundantly defined by the 'linestyle' keyword argument and the fmt string \"s-\" (-> linestyle='-'). The keyword argument will take precedence.\n",
      "/Users/gbrammer/miniconda3/envs/grizli37/lib/python3.7/site-packages/ipykernel_launcher.py:47: UserWarning: linestyle is redundantly defined by the 'linestyle' keyword argument and the fmt string \"s-\" (-> linestyle='-'). The keyword argument will take precedence.\n",
      "/Users/gbrammer/miniconda3/envs/grizli37/lib/python3.7/site-packages/ipykernel_launcher.py:47: UserWarning: linestyle is redundantly defined by the 'linestyle' keyword argument and the fmt string \"s-\" (-> linestyle='-'). The keyword argument will take precedence.\n",
      "/Users/gbrammer/miniconda3/envs/grizli37/lib/python3.7/site-packages/ipykernel_launcher.py:47: UserWarning: linestyle is redundantly defined by the 'linestyle' keyword argument and the fmt string \"s-\" (-> linestyle='-'). The keyword argument will take precedence.\n",
      "/Users/gbrammer/miniconda3/envs/grizli37/lib/python3.7/site-packages/ipykernel_launcher.py:47: UserWarning: linestyle is redundantly defined by the 'linestyle' keyword argument and the fmt string \"s-\" (-> linestyle='-'). The keyword argument will take precedence.\n"
     ]
    },
    {
     "name": "stdout",
     "output_type": "stream",
     "text": [
      "112 1239\n"
     ]
    },
    {
     "name": "stderr",
     "output_type": "stream",
     "text": [
      "/Users/gbrammer/miniconda3/envs/grizli37/lib/python3.7/site-packages/ipykernel_launcher.py:47: UserWarning: linestyle is redundantly defined by the 'linestyle' keyword argument and the fmt string \"s-\" (-> linestyle='-'). The keyword argument will take precedence.\n",
      "/Users/gbrammer/miniconda3/envs/grizli37/lib/python3.7/site-packages/ipykernel_launcher.py:47: UserWarning: linestyle is redundantly defined by the 'linestyle' keyword argument and the fmt string \"s-\" (-> linestyle='-'). The keyword argument will take precedence.\n",
      "/Users/gbrammer/miniconda3/envs/grizli37/lib/python3.7/site-packages/ipykernel_launcher.py:47: UserWarning: linestyle is redundantly defined by the 'linestyle' keyword argument and the fmt string \"s-\" (-> linestyle='-'). The keyword argument will take precedence.\n",
      "/Users/gbrammer/miniconda3/envs/grizli37/lib/python3.7/site-packages/ipykernel_launcher.py:47: UserWarning: linestyle is redundantly defined by the 'linestyle' keyword argument and the fmt string \"s-\" (-> linestyle='-'). The keyword argument will take precedence.\n",
      "/Users/gbrammer/miniconda3/envs/grizli37/lib/python3.7/site-packages/ipykernel_launcher.py:47: UserWarning: linestyle is redundantly defined by the 'linestyle' keyword argument and the fmt string \"s-\" (-> linestyle='-'). The keyword argument will take precedence.\n",
      "/Users/gbrammer/miniconda3/envs/grizli37/lib/python3.7/site-packages/ipykernel_launcher.py:47: UserWarning: linestyle is redundantly defined by the 'linestyle' keyword argument and the fmt string \"s-\" (-> linestyle='-'). The keyword argument will take precedence.\n"
     ]
    },
    {
     "name": "stdout",
     "output_type": "stream",
     "text": [
      "113 1240\n",
      "114 1242\n"
     ]
    },
    {
     "name": "stderr",
     "output_type": "stream",
     "text": [
      "/Users/gbrammer/miniconda3/envs/grizli37/lib/python3.7/site-packages/ipykernel_launcher.py:47: UserWarning: linestyle is redundantly defined by the 'linestyle' keyword argument and the fmt string \"s-\" (-> linestyle='-'). The keyword argument will take precedence.\n",
      "/Users/gbrammer/miniconda3/envs/grizli37/lib/python3.7/site-packages/ipykernel_launcher.py:47: UserWarning: linestyle is redundantly defined by the 'linestyle' keyword argument and the fmt string \"s-\" (-> linestyle='-'). The keyword argument will take precedence.\n",
      "/Users/gbrammer/miniconda3/envs/grizli37/lib/python3.7/site-packages/ipykernel_launcher.py:47: UserWarning: linestyle is redundantly defined by the 'linestyle' keyword argument and the fmt string \"s-\" (-> linestyle='-'). The keyword argument will take precedence.\n",
      "/Users/gbrammer/miniconda3/envs/grizli37/lib/python3.7/site-packages/ipykernel_launcher.py:47: UserWarning: linestyle is redundantly defined by the 'linestyle' keyword argument and the fmt string \"s-\" (-> linestyle='-'). The keyword argument will take precedence.\n",
      "/Users/gbrammer/miniconda3/envs/grizli37/lib/python3.7/site-packages/ipykernel_launcher.py:47: UserWarning: linestyle is redundantly defined by the 'linestyle' keyword argument and the fmt string \"s-\" (-> linestyle='-'). The keyword argument will take precedence.\n",
      "/Users/gbrammer/miniconda3/envs/grizli37/lib/python3.7/site-packages/ipykernel_launcher.py:47: UserWarning: linestyle is redundantly defined by the 'linestyle' keyword argument and the fmt string \"s-\" (-> linestyle='-'). The keyword argument will take precedence.\n",
      "/Users/gbrammer/miniconda3/envs/grizli37/lib/python3.7/site-packages/ipykernel_launcher.py:47: UserWarning: linestyle is redundantly defined by the 'linestyle' keyword argument and the fmt string \"s-\" (-> linestyle='-'). The keyword argument will take precedence.\n",
      "/Users/gbrammer/miniconda3/envs/grizli37/lib/python3.7/site-packages/ipykernel_launcher.py:47: UserWarning: linestyle is redundantly defined by the 'linestyle' keyword argument and the fmt string \"s-\" (-> linestyle='-'). The keyword argument will take precedence.\n"
     ]
    },
    {
     "name": "stdout",
     "output_type": "stream",
     "text": [
      "115 1306\n"
     ]
    },
    {
     "name": "stderr",
     "output_type": "stream",
     "text": [
      "/Users/gbrammer/miniconda3/envs/grizli37/lib/python3.7/site-packages/ipykernel_launcher.py:47: UserWarning: linestyle is redundantly defined by the 'linestyle' keyword argument and the fmt string \"s-\" (-> linestyle='-'). The keyword argument will take precedence.\n"
     ]
    },
    {
     "name": "stdout",
     "output_type": "stream",
     "text": [
      "116 1176\n"
     ]
    },
    {
     "name": "stderr",
     "output_type": "stream",
     "text": [
      "/Users/gbrammer/miniconda3/envs/grizli37/lib/python3.7/site-packages/ipykernel_launcher.py:47: UserWarning: linestyle is redundantly defined by the 'linestyle' keyword argument and the fmt string \"s-\" (-> linestyle='-'). The keyword argument will take precedence.\n",
      "/Users/gbrammer/miniconda3/envs/grizli37/lib/python3.7/site-packages/ipykernel_launcher.py:47: UserWarning: linestyle is redundantly defined by the 'linestyle' keyword argument and the fmt string \"s-\" (-> linestyle='-'). The keyword argument will take precedence.\n",
      "/Users/gbrammer/miniconda3/envs/grizli37/lib/python3.7/site-packages/ipykernel_launcher.py:47: UserWarning: linestyle is redundantly defined by the 'linestyle' keyword argument and the fmt string \"s-\" (-> linestyle='-'). The keyword argument will take precedence.\n",
      "/Users/gbrammer/miniconda3/envs/grizli37/lib/python3.7/site-packages/ipykernel_launcher.py:47: UserWarning: linestyle is redundantly defined by the 'linestyle' keyword argument and the fmt string \"s-\" (-> linestyle='-'). The keyword argument will take precedence.\n",
      "/Users/gbrammer/miniconda3/envs/grizli37/lib/python3.7/site-packages/ipykernel_launcher.py:47: UserWarning: linestyle is redundantly defined by the 'linestyle' keyword argument and the fmt string \"s-\" (-> linestyle='-'). The keyword argument will take precedence.\n",
      "/Users/gbrammer/miniconda3/envs/grizli37/lib/python3.7/site-packages/ipykernel_launcher.py:47: UserWarning: linestyle is redundantly defined by the 'linestyle' keyword argument and the fmt string \"s-\" (-> linestyle='-'). The keyword argument will take precedence.\n",
      "/Users/gbrammer/miniconda3/envs/grizli37/lib/python3.7/site-packages/ipykernel_launcher.py:47: UserWarning: linestyle is redundantly defined by the 'linestyle' keyword argument and the fmt string \"s-\" (-> linestyle='-'). The keyword argument will take precedence.\n",
      "/Users/gbrammer/miniconda3/envs/grizli37/lib/python3.7/site-packages/ipykernel_launcher.py:47: UserWarning: linestyle is redundantly defined by the 'linestyle' keyword argument and the fmt string \"s-\" (-> linestyle='-'). The keyword argument will take precedence.\n",
      "/Users/gbrammer/miniconda3/envs/grizli37/lib/python3.7/site-packages/ipykernel_launcher.py:47: UserWarning: linestyle is redundantly defined by the 'linestyle' keyword argument and the fmt string \"s-\" (-> linestyle='-'). The keyword argument will take precedence.\n",
      "/Users/gbrammer/miniconda3/envs/grizli37/lib/python3.7/site-packages/ipykernel_launcher.py:47: UserWarning: linestyle is redundantly defined by the 'linestyle' keyword argument and the fmt string \"s-\" (-> linestyle='-'). The keyword argument will take precedence.\n",
      "/Users/gbrammer/miniconda3/envs/grizli37/lib/python3.7/site-packages/ipykernel_launcher.py:47: UserWarning: linestyle is redundantly defined by the 'linestyle' keyword argument and the fmt string \"s-\" (-> linestyle='-'). The keyword argument will take precedence.\n",
      "/Users/gbrammer/miniconda3/envs/grizli37/lib/python3.7/site-packages/ipykernel_launcher.py:47: UserWarning: linestyle is redundantly defined by the 'linestyle' keyword argument and the fmt string \"s-\" (-> linestyle='-'). The keyword argument will take precedence.\n",
      "/Users/gbrammer/miniconda3/envs/grizli37/lib/python3.7/site-packages/ipykernel_launcher.py:47: UserWarning: linestyle is redundantly defined by the 'linestyle' keyword argument and the fmt string \"s-\" (-> linestyle='-'). The keyword argument will take precedence.\n",
      "/Users/gbrammer/miniconda3/envs/grizli37/lib/python3.7/site-packages/ipykernel_launcher.py:47: UserWarning: linestyle is redundantly defined by the 'linestyle' keyword argument and the fmt string \"s-\" (-> linestyle='-'). The keyword argument will take precedence.\n",
      "/Users/gbrammer/miniconda3/envs/grizli37/lib/python3.7/site-packages/ipykernel_launcher.py:47: UserWarning: linestyle is redundantly defined by the 'linestyle' keyword argument and the fmt string \"s-\" (-> linestyle='-'). The keyword argument will take precedence.\n"
     ]
    },
    {
     "name": "stdout",
     "output_type": "stream",
     "text": [
      "117 1178\n"
     ]
    },
    {
     "name": "stderr",
     "output_type": "stream",
     "text": [
      "/Users/gbrammer/miniconda3/envs/grizli37/lib/python3.7/site-packages/ipykernel_launcher.py:47: UserWarning: linestyle is redundantly defined by the 'linestyle' keyword argument and the fmt string \"s-\" (-> linestyle='-'). The keyword argument will take precedence.\n",
      "/Users/gbrammer/miniconda3/envs/grizli37/lib/python3.7/site-packages/ipykernel_launcher.py:47: UserWarning: linestyle is redundantly defined by the 'linestyle' keyword argument and the fmt string \"s-\" (-> linestyle='-'). The keyword argument will take precedence.\n",
      "/Users/gbrammer/miniconda3/envs/grizli37/lib/python3.7/site-packages/ipykernel_launcher.py:47: UserWarning: linestyle is redundantly defined by the 'linestyle' keyword argument and the fmt string \"s-\" (-> linestyle='-'). The keyword argument will take precedence.\n",
      "/Users/gbrammer/miniconda3/envs/grizli37/lib/python3.7/site-packages/ipykernel_launcher.py:47: UserWarning: linestyle is redundantly defined by the 'linestyle' keyword argument and the fmt string \"s-\" (-> linestyle='-'). The keyword argument will take precedence.\n"
     ]
    },
    {
     "name": "stdout",
     "output_type": "stream",
     "text": [
      "118 1204\n"
     ]
    },
    {
     "name": "stderr",
     "output_type": "stream",
     "text": [
      "/Users/gbrammer/miniconda3/envs/grizli37/lib/python3.7/site-packages/ipykernel_launcher.py:47: UserWarning: linestyle is redundantly defined by the 'linestyle' keyword argument and the fmt string \"s-\" (-> linestyle='-'). The keyword argument will take precedence.\n",
      "/Users/gbrammer/miniconda3/envs/grizli37/lib/python3.7/site-packages/ipykernel_launcher.py:47: UserWarning: linestyle is redundantly defined by the 'linestyle' keyword argument and the fmt string \"s-\" (-> linestyle='-'). The keyword argument will take precedence.\n",
      "/Users/gbrammer/miniconda3/envs/grizli37/lib/python3.7/site-packages/ipykernel_launcher.py:47: UserWarning: linestyle is redundantly defined by the 'linestyle' keyword argument and the fmt string \"s-\" (-> linestyle='-'). The keyword argument will take precedence.\n",
      "/Users/gbrammer/miniconda3/envs/grizli37/lib/python3.7/site-packages/ipykernel_launcher.py:47: UserWarning: linestyle is redundantly defined by the 'linestyle' keyword argument and the fmt string \"s-\" (-> linestyle='-'). The keyword argument will take precedence.\n",
      "/Users/gbrammer/miniconda3/envs/grizli37/lib/python3.7/site-packages/ipykernel_launcher.py:47: UserWarning: linestyle is redundantly defined by the 'linestyle' keyword argument and the fmt string \"s-\" (-> linestyle='-'). The keyword argument will take precedence.\n",
      "/Users/gbrammer/miniconda3/envs/grizli37/lib/python3.7/site-packages/ipykernel_launcher.py:47: UserWarning: linestyle is redundantly defined by the 'linestyle' keyword argument and the fmt string \"s-\" (-> linestyle='-'). The keyword argument will take precedence.\n"
     ]
    },
    {
     "name": "stdout",
     "output_type": "stream",
     "text": [
      "119 1223\n"
     ]
    },
    {
     "name": "stderr",
     "output_type": "stream",
     "text": [
      "/Users/gbrammer/miniconda3/envs/grizli37/lib/python3.7/site-packages/ipykernel_launcher.py:47: UserWarning: linestyle is redundantly defined by the 'linestyle' keyword argument and the fmt string \"s-\" (-> linestyle='-'). The keyword argument will take precedence.\n"
     ]
    },
    {
     "name": "stdout",
     "output_type": "stream",
     "text": [
      "120 1225\n"
     ]
    },
    {
     "name": "stderr",
     "output_type": "stream",
     "text": [
      "/Users/gbrammer/miniconda3/envs/grizli37/lib/python3.7/site-packages/ipykernel_launcher.py:47: UserWarning: linestyle is redundantly defined by the 'linestyle' keyword argument and the fmt string \"s-\" (-> linestyle='-'). The keyword argument will take precedence.\n"
     ]
    },
    {
     "name": "stdout",
     "output_type": "stream",
     "text": [
      "121 1226\n"
     ]
    },
    {
     "name": "stderr",
     "output_type": "stream",
     "text": [
      "/Users/gbrammer/miniconda3/envs/grizli37/lib/python3.7/site-packages/ipykernel_launcher.py:47: UserWarning: linestyle is redundantly defined by the 'linestyle' keyword argument and the fmt string \"s-\" (-> linestyle='-'). The keyword argument will take precedence.\n"
     ]
    },
    {
     "name": "stdout",
     "output_type": "stream",
     "text": [
      "122 1227\n"
     ]
    },
    {
     "name": "stderr",
     "output_type": "stream",
     "text": [
      "/Users/gbrammer/miniconda3/envs/grizli37/lib/python3.7/site-packages/ipykernel_launcher.py:47: UserWarning: linestyle is redundantly defined by the 'linestyle' keyword argument and the fmt string \"s-\" (-> linestyle='-'). The keyword argument will take precedence.\n",
      "/Users/gbrammer/miniconda3/envs/grizli37/lib/python3.7/site-packages/ipykernel_launcher.py:47: UserWarning: linestyle is redundantly defined by the 'linestyle' keyword argument and the fmt string \"s-\" (-> linestyle='-'). The keyword argument will take precedence.\n",
      "/Users/gbrammer/miniconda3/envs/grizli37/lib/python3.7/site-packages/ipykernel_launcher.py:47: UserWarning: linestyle is redundantly defined by the 'linestyle' keyword argument and the fmt string \"s-\" (-> linestyle='-'). The keyword argument will take precedence.\n",
      "/Users/gbrammer/miniconda3/envs/grizli37/lib/python3.7/site-packages/ipykernel_launcher.py:47: UserWarning: linestyle is redundantly defined by the 'linestyle' keyword argument and the fmt string \"s-\" (-> linestyle='-'). The keyword argument will take precedence.\n",
      "/Users/gbrammer/miniconda3/envs/grizli37/lib/python3.7/site-packages/ipykernel_launcher.py:47: UserWarning: linestyle is redundantly defined by the 'linestyle' keyword argument and the fmt string \"s-\" (-> linestyle='-'). The keyword argument will take precedence.\n",
      "/Users/gbrammer/miniconda3/envs/grizli37/lib/python3.7/site-packages/ipykernel_launcher.py:47: UserWarning: linestyle is redundantly defined by the 'linestyle' keyword argument and the fmt string \"s-\" (-> linestyle='-'). The keyword argument will take precedence.\n",
      "/Users/gbrammer/miniconda3/envs/grizli37/lib/python3.7/site-packages/ipykernel_launcher.py:47: UserWarning: linestyle is redundantly defined by the 'linestyle' keyword argument and the fmt string \"s-\" (-> linestyle='-'). The keyword argument will take precedence.\n",
      "/Users/gbrammer/miniconda3/envs/grizli37/lib/python3.7/site-packages/ipykernel_launcher.py:47: UserWarning: linestyle is redundantly defined by the 'linestyle' keyword argument and the fmt string \"s-\" (-> linestyle='-'). The keyword argument will take precedence.\n",
      "/Users/gbrammer/miniconda3/envs/grizli37/lib/python3.7/site-packages/ipykernel_launcher.py:47: UserWarning: linestyle is redundantly defined by the 'linestyle' keyword argument and the fmt string \"s-\" (-> linestyle='-'). The keyword argument will take precedence.\n",
      "/Users/gbrammer/miniconda3/envs/grizli37/lib/python3.7/site-packages/ipykernel_launcher.py:47: UserWarning: linestyle is redundantly defined by the 'linestyle' keyword argument and the fmt string \"s-\" (-> linestyle='-'). The keyword argument will take precedence.\n",
      "/Users/gbrammer/miniconda3/envs/grizli37/lib/python3.7/site-packages/ipykernel_launcher.py:47: UserWarning: linestyle is redundantly defined by the 'linestyle' keyword argument and the fmt string \"s-\" (-> linestyle='-'). The keyword argument will take precedence.\n",
      "/Users/gbrammer/miniconda3/envs/grizli37/lib/python3.7/site-packages/ipykernel_launcher.py:47: UserWarning: linestyle is redundantly defined by the 'linestyle' keyword argument and the fmt string \"s-\" (-> linestyle='-'). The keyword argument will take precedence.\n",
      "/Users/gbrammer/miniconda3/envs/grizli37/lib/python3.7/site-packages/ipykernel_launcher.py:47: UserWarning: linestyle is redundantly defined by the 'linestyle' keyword argument and the fmt string \"s-\" (-> linestyle='-'). The keyword argument will take precedence.\n",
      "/Users/gbrammer/miniconda3/envs/grizli37/lib/python3.7/site-packages/ipykernel_launcher.py:47: UserWarning: linestyle is redundantly defined by the 'linestyle' keyword argument and the fmt string \"s-\" (-> linestyle='-'). The keyword argument will take precedence.\n",
      "/Users/gbrammer/miniconda3/envs/grizli37/lib/python3.7/site-packages/ipykernel_launcher.py:47: UserWarning: linestyle is redundantly defined by the 'linestyle' keyword argument and the fmt string \"s-\" (-> linestyle='-'). The keyword argument will take precedence.\n"
     ]
    },
    {
     "name": "stdout",
     "output_type": "stream",
     "text": [
      "123 1233\n"
     ]
    },
    {
     "name": "stderr",
     "output_type": "stream",
     "text": [
      "/Users/gbrammer/miniconda3/envs/grizli37/lib/python3.7/site-packages/ipykernel_launcher.py:47: UserWarning: linestyle is redundantly defined by the 'linestyle' keyword argument and the fmt string \"s-\" (-> linestyle='-'). The keyword argument will take precedence.\n",
      "/Users/gbrammer/miniconda3/envs/grizli37/lib/python3.7/site-packages/ipykernel_launcher.py:47: UserWarning: linestyle is redundantly defined by the 'linestyle' keyword argument and the fmt string \"s-\" (-> linestyle='-'). The keyword argument will take precedence.\n"
     ]
    },
    {
     "name": "stdout",
     "output_type": "stream",
     "text": [
      "124 1234\n"
     ]
    },
    {
     "name": "stderr",
     "output_type": "stream",
     "text": [
      "/Users/gbrammer/miniconda3/envs/grizli37/lib/python3.7/site-packages/ipykernel_launcher.py:47: UserWarning: linestyle is redundantly defined by the 'linestyle' keyword argument and the fmt string \"s-\" (-> linestyle='-'). The keyword argument will take precedence.\n",
      "/Users/gbrammer/miniconda3/envs/grizli37/lib/python3.7/site-packages/ipykernel_launcher.py:47: UserWarning: linestyle is redundantly defined by the 'linestyle' keyword argument and the fmt string \"s-\" (-> linestyle='-'). The keyword argument will take precedence.\n",
      "/Users/gbrammer/miniconda3/envs/grizli37/lib/python3.7/site-packages/ipykernel_launcher.py:47: UserWarning: linestyle is redundantly defined by the 'linestyle' keyword argument and the fmt string \"s-\" (-> linestyle='-'). The keyword argument will take precedence.\n",
      "/Users/gbrammer/miniconda3/envs/grizli37/lib/python3.7/site-packages/ipykernel_launcher.py:47: UserWarning: linestyle is redundantly defined by the 'linestyle' keyword argument and the fmt string \"s-\" (-> linestyle='-'). The keyword argument will take precedence.\n",
      "/Users/gbrammer/miniconda3/envs/grizli37/lib/python3.7/site-packages/ipykernel_launcher.py:47: UserWarning: linestyle is redundantly defined by the 'linestyle' keyword argument and the fmt string \"s-\" (-> linestyle='-'). The keyword argument will take precedence.\n",
      "/Users/gbrammer/miniconda3/envs/grizli37/lib/python3.7/site-packages/ipykernel_launcher.py:47: UserWarning: linestyle is redundantly defined by the 'linestyle' keyword argument and the fmt string \"s-\" (-> linestyle='-'). The keyword argument will take precedence.\n",
      "/Users/gbrammer/miniconda3/envs/grizli37/lib/python3.7/site-packages/ipykernel_launcher.py:47: UserWarning: linestyle is redundantly defined by the 'linestyle' keyword argument and the fmt string \"s-\" (-> linestyle='-'). The keyword argument will take precedence.\n",
      "/Users/gbrammer/miniconda3/envs/grizli37/lib/python3.7/site-packages/ipykernel_launcher.py:47: UserWarning: linestyle is redundantly defined by the 'linestyle' keyword argument and the fmt string \"s-\" (-> linestyle='-'). The keyword argument will take precedence.\n"
     ]
    },
    {
     "name": "stdout",
     "output_type": "stream",
     "text": [
      "125 1260\n"
     ]
    },
    {
     "name": "stderr",
     "output_type": "stream",
     "text": [
      "/Users/gbrammer/miniconda3/envs/grizli37/lib/python3.7/site-packages/ipykernel_launcher.py:47: UserWarning: linestyle is redundantly defined by the 'linestyle' keyword argument and the fmt string \"s-\" (-> linestyle='-'). The keyword argument will take precedence.\n",
      "/Users/gbrammer/miniconda3/envs/grizli37/lib/python3.7/site-packages/ipykernel_launcher.py:47: UserWarning: linestyle is redundantly defined by the 'linestyle' keyword argument and the fmt string \"s-\" (-> linestyle='-'). The keyword argument will take precedence.\n",
      "/Users/gbrammer/miniconda3/envs/grizli37/lib/python3.7/site-packages/ipykernel_launcher.py:47: UserWarning: linestyle is redundantly defined by the 'linestyle' keyword argument and the fmt string \"s-\" (-> linestyle='-'). The keyword argument will take precedence.\n",
      "/Users/gbrammer/miniconda3/envs/grizli37/lib/python3.7/site-packages/ipykernel_launcher.py:47: UserWarning: linestyle is redundantly defined by the 'linestyle' keyword argument and the fmt string \"s-\" (-> linestyle='-'). The keyword argument will take precedence.\n"
     ]
    },
    {
     "name": "stdout",
     "output_type": "stream",
     "text": [
      "126 1265\n"
     ]
    },
    {
     "name": "stderr",
     "output_type": "stream",
     "text": [
      "/Users/gbrammer/miniconda3/envs/grizli37/lib/python3.7/site-packages/ipykernel_launcher.py:47: UserWarning: linestyle is redundantly defined by the 'linestyle' keyword argument and the fmt string \"s-\" (-> linestyle='-'). The keyword argument will take precedence.\n",
      "/Users/gbrammer/miniconda3/envs/grizli37/lib/python3.7/site-packages/ipykernel_launcher.py:47: UserWarning: linestyle is redundantly defined by the 'linestyle' keyword argument and the fmt string \"s-\" (-> linestyle='-'). The keyword argument will take precedence.\n",
      "/Users/gbrammer/miniconda3/envs/grizli37/lib/python3.7/site-packages/ipykernel_launcher.py:47: UserWarning: linestyle is redundantly defined by the 'linestyle' keyword argument and the fmt string \"s-\" (-> linestyle='-'). The keyword argument will take precedence.\n",
      "/Users/gbrammer/miniconda3/envs/grizli37/lib/python3.7/site-packages/ipykernel_launcher.py:47: UserWarning: linestyle is redundantly defined by the 'linestyle' keyword argument and the fmt string \"s-\" (-> linestyle='-'). The keyword argument will take precedence.\n"
     ]
    },
    {
     "name": "stdout",
     "output_type": "stream",
     "text": [
      "127 1266\n"
     ]
    },
    {
     "name": "stderr",
     "output_type": "stream",
     "text": [
      "/Users/gbrammer/miniconda3/envs/grizli37/lib/python3.7/site-packages/ipykernel_launcher.py:47: UserWarning: linestyle is redundantly defined by the 'linestyle' keyword argument and the fmt string \"s-\" (-> linestyle='-'). The keyword argument will take precedence.\n",
      "/Users/gbrammer/miniconda3/envs/grizli37/lib/python3.7/site-packages/ipykernel_launcher.py:47: UserWarning: linestyle is redundantly defined by the 'linestyle' keyword argument and the fmt string \"s-\" (-> linestyle='-'). The keyword argument will take precedence.\n",
      "/Users/gbrammer/miniconda3/envs/grizli37/lib/python3.7/site-packages/ipykernel_launcher.py:47: UserWarning: linestyle is redundantly defined by the 'linestyle' keyword argument and the fmt string \"s-\" (-> linestyle='-'). The keyword argument will take precedence.\n",
      "/Users/gbrammer/miniconda3/envs/grizli37/lib/python3.7/site-packages/ipykernel_launcher.py:47: UserWarning: linestyle is redundantly defined by the 'linestyle' keyword argument and the fmt string \"s-\" (-> linestyle='-'). The keyword argument will take precedence.\n"
     ]
    },
    {
     "name": "stdout",
     "output_type": "stream",
     "text": [
      "128 1267\n"
     ]
    },
    {
     "name": "stderr",
     "output_type": "stream",
     "text": [
      "/Users/gbrammer/miniconda3/envs/grizli37/lib/python3.7/site-packages/ipykernel_launcher.py:47: UserWarning: linestyle is redundantly defined by the 'linestyle' keyword argument and the fmt string \"s-\" (-> linestyle='-'). The keyword argument will take precedence.\n",
      "/Users/gbrammer/miniconda3/envs/grizli37/lib/python3.7/site-packages/ipykernel_launcher.py:47: UserWarning: linestyle is redundantly defined by the 'linestyle' keyword argument and the fmt string \"s-\" (-> linestyle='-'). The keyword argument will take precedence.\n",
      "/Users/gbrammer/miniconda3/envs/grizli37/lib/python3.7/site-packages/ipykernel_launcher.py:47: UserWarning: linestyle is redundantly defined by the 'linestyle' keyword argument and the fmt string \"s-\" (-> linestyle='-'). The keyword argument will take precedence.\n",
      "/Users/gbrammer/miniconda3/envs/grizli37/lib/python3.7/site-packages/ipykernel_launcher.py:47: UserWarning: linestyle is redundantly defined by the 'linestyle' keyword argument and the fmt string \"s-\" (-> linestyle='-'). The keyword argument will take precedence.\n"
     ]
    },
    {
     "name": "stdout",
     "output_type": "stream",
     "text": [
      "129 1268\n"
     ]
    },
    {
     "name": "stderr",
     "output_type": "stream",
     "text": [
      "/Users/gbrammer/miniconda3/envs/grizli37/lib/python3.7/site-packages/ipykernel_launcher.py:47: UserWarning: linestyle is redundantly defined by the 'linestyle' keyword argument and the fmt string \"s-\" (-> linestyle='-'). The keyword argument will take precedence.\n",
      "/Users/gbrammer/miniconda3/envs/grizli37/lib/python3.7/site-packages/ipykernel_launcher.py:47: UserWarning: linestyle is redundantly defined by the 'linestyle' keyword argument and the fmt string \"s-\" (-> linestyle='-'). The keyword argument will take precedence.\n",
      "/Users/gbrammer/miniconda3/envs/grizli37/lib/python3.7/site-packages/ipykernel_launcher.py:47: UserWarning: linestyle is redundantly defined by the 'linestyle' keyword argument and the fmt string \"s-\" (-> linestyle='-'). The keyword argument will take precedence.\n",
      "/Users/gbrammer/miniconda3/envs/grizli37/lib/python3.7/site-packages/ipykernel_launcher.py:47: UserWarning: linestyle is redundantly defined by the 'linestyle' keyword argument and the fmt string \"s-\" (-> linestyle='-'). The keyword argument will take precedence.\n"
     ]
    },
    {
     "name": "stdout",
     "output_type": "stream",
     "text": [
      "130 1269\n"
     ]
    },
    {
     "name": "stderr",
     "output_type": "stream",
     "text": [
      "/Users/gbrammer/miniconda3/envs/grizli37/lib/python3.7/site-packages/ipykernel_launcher.py:47: UserWarning: linestyle is redundantly defined by the 'linestyle' keyword argument and the fmt string \"s-\" (-> linestyle='-'). The keyword argument will take precedence.\n",
      "/Users/gbrammer/miniconda3/envs/grizli37/lib/python3.7/site-packages/ipykernel_launcher.py:47: UserWarning: linestyle is redundantly defined by the 'linestyle' keyword argument and the fmt string \"s-\" (-> linestyle='-'). The keyword argument will take precedence.\n",
      "/Users/gbrammer/miniconda3/envs/grizli37/lib/python3.7/site-packages/ipykernel_launcher.py:47: UserWarning: linestyle is redundantly defined by the 'linestyle' keyword argument and the fmt string \"s-\" (-> linestyle='-'). The keyword argument will take precedence.\n"
     ]
    },
    {
     "name": "stdout",
     "output_type": "stream",
     "text": [
      "131 1304\n"
     ]
    },
    {
     "name": "stderr",
     "output_type": "stream",
     "text": [
      "/Users/gbrammer/miniconda3/envs/grizli37/lib/python3.7/site-packages/ipykernel_launcher.py:47: UserWarning: linestyle is redundantly defined by the 'linestyle' keyword argument and the fmt string \"s-\" (-> linestyle='-'). The keyword argument will take precedence.\n",
      "/Users/gbrammer/miniconda3/envs/grizli37/lib/python3.7/site-packages/ipykernel_launcher.py:47: UserWarning: linestyle is redundantly defined by the 'linestyle' keyword argument and the fmt string \"s-\" (-> linestyle='-'). The keyword argument will take precedence.\n",
      "/Users/gbrammer/miniconda3/envs/grizli37/lib/python3.7/site-packages/ipykernel_launcher.py:47: UserWarning: linestyle is redundantly defined by the 'linestyle' keyword argument and the fmt string \"s-\" (-> linestyle='-'). The keyword argument will take precedence.\n",
      "/Users/gbrammer/miniconda3/envs/grizli37/lib/python3.7/site-packages/ipykernel_launcher.py:47: UserWarning: linestyle is redundantly defined by the 'linestyle' keyword argument and the fmt string \"s-\" (-> linestyle='-'). The keyword argument will take precedence.\n",
      "/Users/gbrammer/miniconda3/envs/grizli37/lib/python3.7/site-packages/ipykernel_launcher.py:47: UserWarning: linestyle is redundantly defined by the 'linestyle' keyword argument and the fmt string \"s-\" (-> linestyle='-'). The keyword argument will take precedence.\n"
     ]
    },
    {
     "name": "stdout",
     "output_type": "stream",
     "text": [
      "132 1305\n"
     ]
    },
    {
     "name": "stderr",
     "output_type": "stream",
     "text": [
      "/Users/gbrammer/miniconda3/envs/grizli37/lib/python3.7/site-packages/ipykernel_launcher.py:47: UserWarning: linestyle is redundantly defined by the 'linestyle' keyword argument and the fmt string \"s-\" (-> linestyle='-'). The keyword argument will take precedence.\n",
      "/Users/gbrammer/miniconda3/envs/grizli37/lib/python3.7/site-packages/ipykernel_launcher.py:47: UserWarning: linestyle is redundantly defined by the 'linestyle' keyword argument and the fmt string \"s-\" (-> linestyle='-'). The keyword argument will take precedence.\n",
      "/Users/gbrammer/miniconda3/envs/grizli37/lib/python3.7/site-packages/ipykernel_launcher.py:47: UserWarning: linestyle is redundantly defined by the 'linestyle' keyword argument and the fmt string \"s-\" (-> linestyle='-'). The keyword argument will take precedence.\n",
      "/Users/gbrammer/miniconda3/envs/grizli37/lib/python3.7/site-packages/ipykernel_launcher.py:47: UserWarning: linestyle is redundantly defined by the 'linestyle' keyword argument and the fmt string \"s-\" (-> linestyle='-'). The keyword argument will take precedence.\n"
     ]
    },
    {
     "name": "stdout",
     "output_type": "stream",
     "text": [
      "133 1549\n",
      "134 1556\n",
      "135 1563\n"
     ]
    },
    {
     "name": "stderr",
     "output_type": "stream",
     "text": [
      "/Users/gbrammer/miniconda3/envs/grizli37/lib/python3.7/site-packages/ipykernel_launcher.py:47: UserWarning: linestyle is redundantly defined by the 'linestyle' keyword argument and the fmt string \"s-\" (-> linestyle='-'). The keyword argument will take precedence.\n",
      "/Users/gbrammer/miniconda3/envs/grizli37/lib/python3.7/site-packages/ipykernel_launcher.py:47: UserWarning: linestyle is redundantly defined by the 'linestyle' keyword argument and the fmt string \"s-\" (-> linestyle='-'). The keyword argument will take precedence.\n",
      "/Users/gbrammer/miniconda3/envs/grizli37/lib/python3.7/site-packages/ipykernel_launcher.py:47: UserWarning: linestyle is redundantly defined by the 'linestyle' keyword argument and the fmt string \"s-\" (-> linestyle='-'). The keyword argument will take precedence.\n",
      "/Users/gbrammer/miniconda3/envs/grizli37/lib/python3.7/site-packages/ipykernel_launcher.py:47: UserWarning: linestyle is redundantly defined by the 'linestyle' keyword argument and the fmt string \"s-\" (-> linestyle='-'). The keyword argument will take precedence.\n",
      "/Users/gbrammer/miniconda3/envs/grizli37/lib/python3.7/site-packages/ipykernel_launcher.py:47: UserWarning: linestyle is redundantly defined by the 'linestyle' keyword argument and the fmt string \"s-\" (-> linestyle='-'). The keyword argument will take precedence.\n",
      "/Users/gbrammer/miniconda3/envs/grizli37/lib/python3.7/site-packages/ipykernel_launcher.py:47: UserWarning: linestyle is redundantly defined by the 'linestyle' keyword argument and the fmt string \"s-\" (-> linestyle='-'). The keyword argument will take precedence.\n",
      "/Users/gbrammer/miniconda3/envs/grizli37/lib/python3.7/site-packages/ipykernel_launcher.py:47: UserWarning: linestyle is redundantly defined by the 'linestyle' keyword argument and the fmt string \"s-\" (-> linestyle='-'). The keyword argument will take precedence.\n",
      "/Users/gbrammer/miniconda3/envs/grizli37/lib/python3.7/site-packages/ipykernel_launcher.py:47: UserWarning: linestyle is redundantly defined by the 'linestyle' keyword argument and the fmt string \"s-\" (-> linestyle='-'). The keyword argument will take precedence.\n"
     ]
    },
    {
     "name": "stdout",
     "output_type": "stream",
     "text": [
      "136 1584\n",
      "137 1618\n"
     ]
    },
    {
     "name": "stderr",
     "output_type": "stream",
     "text": [
      "/Users/gbrammer/miniconda3/envs/grizli37/lib/python3.7/site-packages/ipykernel_launcher.py:47: UserWarning: linestyle is redundantly defined by the 'linestyle' keyword argument and the fmt string \"s-\" (-> linestyle='-'). The keyword argument will take precedence.\n",
      "/Users/gbrammer/miniconda3/envs/grizli37/lib/python3.7/site-packages/ipykernel_launcher.py:47: UserWarning: linestyle is redundantly defined by the 'linestyle' keyword argument and the fmt string \"s-\" (-> linestyle='-'). The keyword argument will take precedence.\n",
      "/Users/gbrammer/miniconda3/envs/grizli37/lib/python3.7/site-packages/ipykernel_launcher.py:47: UserWarning: linestyle is redundantly defined by the 'linestyle' keyword argument and the fmt string \"s-\" (-> linestyle='-'). The keyword argument will take precedence.\n",
      "/Users/gbrammer/miniconda3/envs/grizli37/lib/python3.7/site-packages/ipykernel_launcher.py:47: UserWarning: linestyle is redundantly defined by the 'linestyle' keyword argument and the fmt string \"s-\" (-> linestyle='-'). The keyword argument will take precedence.\n",
      "/Users/gbrammer/miniconda3/envs/grizli37/lib/python3.7/site-packages/ipykernel_launcher.py:47: UserWarning: linestyle is redundantly defined by the 'linestyle' keyword argument and the fmt string \"s-\" (-> linestyle='-'). The keyword argument will take precedence.\n",
      "/Users/gbrammer/miniconda3/envs/grizli37/lib/python3.7/site-packages/ipykernel_launcher.py:47: UserWarning: linestyle is redundantly defined by the 'linestyle' keyword argument and the fmt string \"s-\" (-> linestyle='-'). The keyword argument will take precedence.\n"
     ]
    },
    {
     "name": "stdout",
     "output_type": "stream",
     "text": [
      "138 1633\n"
     ]
    },
    {
     "name": "stderr",
     "output_type": "stream",
     "text": [
      "/Users/gbrammer/miniconda3/envs/grizli37/lib/python3.7/site-packages/ipykernel_launcher.py:47: UserWarning: linestyle is redundantly defined by the 'linestyle' keyword argument and the fmt string \"s-\" (-> linestyle='-'). The keyword argument will take precedence.\n",
      "/Users/gbrammer/miniconda3/envs/grizli37/lib/python3.7/site-packages/ipykernel_launcher.py:47: UserWarning: linestyle is redundantly defined by the 'linestyle' keyword argument and the fmt string \"s-\" (-> linestyle='-'). The keyword argument will take precedence.\n",
      "/Users/gbrammer/miniconda3/envs/grizli37/lib/python3.7/site-packages/ipykernel_launcher.py:47: UserWarning: linestyle is redundantly defined by the 'linestyle' keyword argument and the fmt string \"s-\" (-> linestyle='-'). The keyword argument will take precedence.\n",
      "/Users/gbrammer/miniconda3/envs/grizli37/lib/python3.7/site-packages/ipykernel_launcher.py:47: UserWarning: linestyle is redundantly defined by the 'linestyle' keyword argument and the fmt string \"s-\" (-> linestyle='-'). The keyword argument will take precedence.\n",
      "/Users/gbrammer/miniconda3/envs/grizli37/lib/python3.7/site-packages/ipykernel_launcher.py:47: UserWarning: linestyle is redundantly defined by the 'linestyle' keyword argument and the fmt string \"s-\" (-> linestyle='-'). The keyword argument will take precedence.\n"
     ]
    },
    {
     "name": "stdout",
     "output_type": "stream",
     "text": [
      "139 1640\n",
      "140 1647\n"
     ]
    },
    {
     "name": "stderr",
     "output_type": "stream",
     "text": [
      "/Users/gbrammer/miniconda3/envs/grizli37/lib/python3.7/site-packages/ipykernel_launcher.py:47: UserWarning: linestyle is redundantly defined by the 'linestyle' keyword argument and the fmt string \"s-\" (-> linestyle='-'). The keyword argument will take precedence.\n",
      "/Users/gbrammer/miniconda3/envs/grizli37/lib/python3.7/site-packages/ipykernel_launcher.py:47: UserWarning: linestyle is redundantly defined by the 'linestyle' keyword argument and the fmt string \"s-\" (-> linestyle='-'). The keyword argument will take precedence.\n",
      "/Users/gbrammer/miniconda3/envs/grizli37/lib/python3.7/site-packages/ipykernel_launcher.py:47: UserWarning: linestyle is redundantly defined by the 'linestyle' keyword argument and the fmt string \"s-\" (-> linestyle='-'). The keyword argument will take precedence.\n",
      "/Users/gbrammer/miniconda3/envs/grizli37/lib/python3.7/site-packages/ipykernel_launcher.py:47: UserWarning: linestyle is redundantly defined by the 'linestyle' keyword argument and the fmt string \"s-\" (-> linestyle='-'). The keyword argument will take precedence.\n",
      "/Users/gbrammer/miniconda3/envs/grizli37/lib/python3.7/site-packages/ipykernel_launcher.py:47: UserWarning: linestyle is redundantly defined by the 'linestyle' keyword argument and the fmt string \"s-\" (-> linestyle='-'). The keyword argument will take precedence.\n",
      "/Users/gbrammer/miniconda3/envs/grizli37/lib/python3.7/site-packages/ipykernel_launcher.py:47: UserWarning: linestyle is redundantly defined by the 'linestyle' keyword argument and the fmt string \"s-\" (-> linestyle='-'). The keyword argument will take precedence.\n",
      "/Users/gbrammer/miniconda3/envs/grizli37/lib/python3.7/site-packages/ipykernel_launcher.py:47: UserWarning: linestyle is redundantly defined by the 'linestyle' keyword argument and the fmt string \"s-\" (-> linestyle='-'). The keyword argument will take precedence.\n",
      "/Users/gbrammer/miniconda3/envs/grizli37/lib/python3.7/site-packages/ipykernel_launcher.py:47: UserWarning: linestyle is redundantly defined by the 'linestyle' keyword argument and the fmt string \"s-\" (-> linestyle='-'). The keyword argument will take precedence.\n"
     ]
    },
    {
     "name": "stdout",
     "output_type": "stream",
     "text": [
      "141 1668\n"
     ]
    },
    {
     "name": "stderr",
     "output_type": "stream",
     "text": [
      "/Users/gbrammer/miniconda3/envs/grizli37/lib/python3.7/site-packages/ipykernel_launcher.py:47: UserWarning: linestyle is redundantly defined by the 'linestyle' keyword argument and the fmt string \"s-\" (-> linestyle='-'). The keyword argument will take precedence.\n",
      "/Users/gbrammer/miniconda3/envs/grizli37/lib/python3.7/site-packages/ipykernel_launcher.py:47: UserWarning: linestyle is redundantly defined by the 'linestyle' keyword argument and the fmt string \"s-\" (-> linestyle='-'). The keyword argument will take precedence.\n",
      "/Users/gbrammer/miniconda3/envs/grizli37/lib/python3.7/site-packages/ipykernel_launcher.py:47: UserWarning: linestyle is redundantly defined by the 'linestyle' keyword argument and the fmt string \"s-\" (-> linestyle='-'). The keyword argument will take precedence.\n",
      "/Users/gbrammer/miniconda3/envs/grizli37/lib/python3.7/site-packages/ipykernel_launcher.py:47: UserWarning: linestyle is redundantly defined by the 'linestyle' keyword argument and the fmt string \"s-\" (-> linestyle='-'). The keyword argument will take precedence.\n",
      "/Users/gbrammer/miniconda3/envs/grizli37/lib/python3.7/site-packages/ipykernel_launcher.py:47: UserWarning: linestyle is redundantly defined by the 'linestyle' keyword argument and the fmt string \"s-\" (-> linestyle='-'). The keyword argument will take precedence.\n",
      "/Users/gbrammer/miniconda3/envs/grizli37/lib/python3.7/site-packages/ipykernel_launcher.py:47: UserWarning: linestyle is redundantly defined by the 'linestyle' keyword argument and the fmt string \"s-\" (-> linestyle='-'). The keyword argument will take precedence.\n",
      "/Users/gbrammer/miniconda3/envs/grizli37/lib/python3.7/site-packages/ipykernel_launcher.py:47: UserWarning: linestyle is redundantly defined by the 'linestyle' keyword argument and the fmt string \"s-\" (-> linestyle='-'). The keyword argument will take precedence.\n",
      "/Users/gbrammer/miniconda3/envs/grizli37/lib/python3.7/site-packages/ipykernel_launcher.py:47: UserWarning: linestyle is redundantly defined by the 'linestyle' keyword argument and the fmt string \"s-\" (-> linestyle='-'). The keyword argument will take precedence.\n",
      "/Users/gbrammer/miniconda3/envs/grizli37/lib/python3.7/site-packages/ipykernel_launcher.py:47: UserWarning: linestyle is redundantly defined by the 'linestyle' keyword argument and the fmt string \"s-\" (-> linestyle='-'). The keyword argument will take precedence.\n"
     ]
    },
    {
     "name": "stdout",
     "output_type": "stream",
     "text": [
      "142 1676\n"
     ]
    },
    {
     "name": "stderr",
     "output_type": "stream",
     "text": [
      "/Users/gbrammer/miniconda3/envs/grizli37/lib/python3.7/site-packages/ipykernel_launcher.py:47: UserWarning: linestyle is redundantly defined by the 'linestyle' keyword argument and the fmt string \"s-\" (-> linestyle='-'). The keyword argument will take precedence.\n",
      "/Users/gbrammer/miniconda3/envs/grizli37/lib/python3.7/site-packages/ipykernel_launcher.py:47: UserWarning: linestyle is redundantly defined by the 'linestyle' keyword argument and the fmt string \"s-\" (-> linestyle='-'). The keyword argument will take precedence.\n",
      "/Users/gbrammer/miniconda3/envs/grizli37/lib/python3.7/site-packages/ipykernel_launcher.py:47: UserWarning: linestyle is redundantly defined by the 'linestyle' keyword argument and the fmt string \"s-\" (-> linestyle='-'). The keyword argument will take precedence.\n",
      "/Users/gbrammer/miniconda3/envs/grizli37/lib/python3.7/site-packages/ipykernel_launcher.py:47: UserWarning: linestyle is redundantly defined by the 'linestyle' keyword argument and the fmt string \"s-\" (-> linestyle='-'). The keyword argument will take precedence.\n",
      "/Users/gbrammer/miniconda3/envs/grizli37/lib/python3.7/site-packages/ipykernel_launcher.py:47: UserWarning: linestyle is redundantly defined by the 'linestyle' keyword argument and the fmt string \"s-\" (-> linestyle='-'). The keyword argument will take precedence.\n",
      "/Users/gbrammer/miniconda3/envs/grizli37/lib/python3.7/site-packages/ipykernel_launcher.py:47: UserWarning: linestyle is redundantly defined by the 'linestyle' keyword argument and the fmt string \"s-\" (-> linestyle='-'). The keyword argument will take precedence.\n",
      "/Users/gbrammer/miniconda3/envs/grizli37/lib/python3.7/site-packages/ipykernel_launcher.py:47: UserWarning: linestyle is redundantly defined by the 'linestyle' keyword argument and the fmt string \"s-\" (-> linestyle='-'). The keyword argument will take precedence.\n",
      "/Users/gbrammer/miniconda3/envs/grizli37/lib/python3.7/site-packages/ipykernel_launcher.py:47: UserWarning: linestyle is redundantly defined by the 'linestyle' keyword argument and the fmt string \"s-\" (-> linestyle='-'). The keyword argument will take precedence.\n"
     ]
    },
    {
     "name": "stdout",
     "output_type": "stream",
     "text": [
      "143 1729\n"
     ]
    },
    {
     "name": "stderr",
     "output_type": "stream",
     "text": [
      "/Users/gbrammer/miniconda3/envs/grizli37/lib/python3.7/site-packages/ipykernel_launcher.py:47: UserWarning: linestyle is redundantly defined by the 'linestyle' keyword argument and the fmt string \"s-\" (-> linestyle='-'). The keyword argument will take precedence.\n"
     ]
    },
    {
     "name": "stdout",
     "output_type": "stream",
     "text": [
      "144 1743\n"
     ]
    },
    {
     "name": "stderr",
     "output_type": "stream",
     "text": [
      "/Users/gbrammer/miniconda3/envs/grizli37/lib/python3.7/site-packages/ipykernel_launcher.py:47: UserWarning: linestyle is redundantly defined by the 'linestyle' keyword argument and the fmt string \"s-\" (-> linestyle='-'). The keyword argument will take precedence.\n",
      "/Users/gbrammer/miniconda3/envs/grizli37/lib/python3.7/site-packages/ipykernel_launcher.py:47: UserWarning: linestyle is redundantly defined by the 'linestyle' keyword argument and the fmt string \"s-\" (-> linestyle='-'). The keyword argument will take precedence.\n"
     ]
    },
    {
     "name": "stdout",
     "output_type": "stream",
     "text": [
      "145 1751\n"
     ]
    },
    {
     "name": "stderr",
     "output_type": "stream",
     "text": [
      "/Users/gbrammer/miniconda3/envs/grizli37/lib/python3.7/site-packages/ipykernel_launcher.py:47: UserWarning: linestyle is redundantly defined by the 'linestyle' keyword argument and the fmt string \"s-\" (-> linestyle='-'). The keyword argument will take precedence.\n",
      "/Users/gbrammer/miniconda3/envs/grizli37/lib/python3.7/site-packages/ipykernel_launcher.py:47: UserWarning: linestyle is redundantly defined by the 'linestyle' keyword argument and the fmt string \"s-\" (-> linestyle='-'). The keyword argument will take precedence.\n",
      "/Users/gbrammer/miniconda3/envs/grizli37/lib/python3.7/site-packages/ipykernel_launcher.py:47: UserWarning: linestyle is redundantly defined by the 'linestyle' keyword argument and the fmt string \"s-\" (-> linestyle='-'). The keyword argument will take precedence.\n",
      "/Users/gbrammer/miniconda3/envs/grizli37/lib/python3.7/site-packages/ipykernel_launcher.py:47: UserWarning: linestyle is redundantly defined by the 'linestyle' keyword argument and the fmt string \"s-\" (-> linestyle='-'). The keyword argument will take precedence.\n",
      "/Users/gbrammer/miniconda3/envs/grizli37/lib/python3.7/site-packages/ipykernel_launcher.py:47: UserWarning: linestyle is redundantly defined by the 'linestyle' keyword argument and the fmt string \"s-\" (-> linestyle='-'). The keyword argument will take precedence.\n"
     ]
    },
    {
     "name": "stdout",
     "output_type": "stream",
     "text": [
      "146 1759\n"
     ]
    },
    {
     "name": "stderr",
     "output_type": "stream",
     "text": [
      "/Users/gbrammer/miniconda3/envs/grizli37/lib/python3.7/site-packages/ipykernel_launcher.py:47: UserWarning: linestyle is redundantly defined by the 'linestyle' keyword argument and the fmt string \"s-\" (-> linestyle='-'). The keyword argument will take precedence.\n",
      "/Users/gbrammer/miniconda3/envs/grizli37/lib/python3.7/site-packages/ipykernel_launcher.py:47: UserWarning: linestyle is redundantly defined by the 'linestyle' keyword argument and the fmt string \"s-\" (-> linestyle='-'). The keyword argument will take precedence.\n",
      "/Users/gbrammer/miniconda3/envs/grizli37/lib/python3.7/site-packages/ipykernel_launcher.py:47: UserWarning: linestyle is redundantly defined by the 'linestyle' keyword argument and the fmt string \"s-\" (-> linestyle='-'). The keyword argument will take precedence.\n",
      "/Users/gbrammer/miniconda3/envs/grizli37/lib/python3.7/site-packages/ipykernel_launcher.py:47: UserWarning: linestyle is redundantly defined by the 'linestyle' keyword argument and the fmt string \"s-\" (-> linestyle='-'). The keyword argument will take precedence.\n",
      "/Users/gbrammer/miniconda3/envs/grizli37/lib/python3.7/site-packages/ipykernel_launcher.py:47: UserWarning: linestyle is redundantly defined by the 'linestyle' keyword argument and the fmt string \"s-\" (-> linestyle='-'). The keyword argument will take precedence.\n",
      "/Users/gbrammer/miniconda3/envs/grizli37/lib/python3.7/site-packages/ipykernel_launcher.py:47: UserWarning: linestyle is redundantly defined by the 'linestyle' keyword argument and the fmt string \"s-\" (-> linestyle='-'). The keyword argument will take precedence.\n",
      "/Users/gbrammer/miniconda3/envs/grizli37/lib/python3.7/site-packages/ipykernel_launcher.py:47: UserWarning: linestyle is redundantly defined by the 'linestyle' keyword argument and the fmt string \"s-\" (-> linestyle='-'). The keyword argument will take precedence.\n",
      "/Users/gbrammer/miniconda3/envs/grizli37/lib/python3.7/site-packages/ipykernel_launcher.py:47: UserWarning: linestyle is redundantly defined by the 'linestyle' keyword argument and the fmt string \"s-\" (-> linestyle='-'). The keyword argument will take precedence.\n",
      "/Users/gbrammer/miniconda3/envs/grizli37/lib/python3.7/site-packages/ipykernel_launcher.py:47: UserWarning: linestyle is redundantly defined by the 'linestyle' keyword argument and the fmt string \"s-\" (-> linestyle='-'). The keyword argument will take precedence.\n",
      "/Users/gbrammer/miniconda3/envs/grizli37/lib/python3.7/site-packages/ipykernel_launcher.py:47: UserWarning: linestyle is redundantly defined by the 'linestyle' keyword argument and the fmt string \"s-\" (-> linestyle='-'). The keyword argument will take precedence.\n",
      "/Users/gbrammer/miniconda3/envs/grizli37/lib/python3.7/site-packages/ipykernel_launcher.py:47: UserWarning: linestyle is redundantly defined by the 'linestyle' keyword argument and the fmt string \"s-\" (-> linestyle='-'). The keyword argument will take precedence.\n",
      "/Users/gbrammer/miniconda3/envs/grizli37/lib/python3.7/site-packages/ipykernel_launcher.py:47: UserWarning: linestyle is redundantly defined by the 'linestyle' keyword argument and the fmt string \"s-\" (-> linestyle='-'). The keyword argument will take precedence.\n",
      "/Users/gbrammer/miniconda3/envs/grizli37/lib/python3.7/site-packages/ipykernel_launcher.py:47: UserWarning: linestyle is redundantly defined by the 'linestyle' keyword argument and the fmt string \"s-\" (-> linestyle='-'). The keyword argument will take precedence.\n",
      "/Users/gbrammer/miniconda3/envs/grizli37/lib/python3.7/site-packages/ipykernel_launcher.py:47: UserWarning: linestyle is redundantly defined by the 'linestyle' keyword argument and the fmt string \"s-\" (-> linestyle='-'). The keyword argument will take precedence.\n",
      "/Users/gbrammer/miniconda3/envs/grizli37/lib/python3.7/site-packages/ipykernel_launcher.py:47: UserWarning: linestyle is redundantly defined by the 'linestyle' keyword argument and the fmt string \"s-\" (-> linestyle='-'). The keyword argument will take precedence.\n"
     ]
    },
    {
     "name": "stdout",
     "output_type": "stream",
     "text": [
      "147 1803\n"
     ]
    },
    {
     "name": "stderr",
     "output_type": "stream",
     "text": [
      "/Users/gbrammer/miniconda3/envs/grizli37/lib/python3.7/site-packages/ipykernel_launcher.py:47: UserWarning: linestyle is redundantly defined by the 'linestyle' keyword argument and the fmt string \"s-\" (-> linestyle='-'). The keyword argument will take precedence.\n"
     ]
    },
    {
     "name": "stdout",
     "output_type": "stream",
     "text": [
      "148 1843\n"
     ]
    },
    {
     "name": "stderr",
     "output_type": "stream",
     "text": [
      "/Users/gbrammer/miniconda3/envs/grizli37/lib/python3.7/site-packages/ipykernel_launcher.py:47: UserWarning: linestyle is redundantly defined by the 'linestyle' keyword argument and the fmt string \"s-\" (-> linestyle='-'). The keyword argument will take precedence.\n",
      "/Users/gbrammer/miniconda3/envs/grizli37/lib/python3.7/site-packages/ipykernel_launcher.py:47: UserWarning: linestyle is redundantly defined by the 'linestyle' keyword argument and the fmt string \"s-\" (-> linestyle='-'). The keyword argument will take precedence.\n"
     ]
    },
    {
     "name": "stdout",
     "output_type": "stream",
     "text": [
      "149 1846\n"
     ]
    },
    {
     "name": "stderr",
     "output_type": "stream",
     "text": [
      "/Users/gbrammer/miniconda3/envs/grizli37/lib/python3.7/site-packages/ipykernel_launcher.py:47: UserWarning: linestyle is redundantly defined by the 'linestyle' keyword argument and the fmt string \"s-\" (-> linestyle='-'). The keyword argument will take precedence.\n",
      "/Users/gbrammer/miniconda3/envs/grizli37/lib/python3.7/site-packages/ipykernel_launcher.py:47: UserWarning: linestyle is redundantly defined by the 'linestyle' keyword argument and the fmt string \"s-\" (-> linestyle='-'). The keyword argument will take precedence.\n",
      "/Users/gbrammer/miniconda3/envs/grizli37/lib/python3.7/site-packages/ipykernel_launcher.py:47: UserWarning: linestyle is redundantly defined by the 'linestyle' keyword argument and the fmt string \"s-\" (-> linestyle='-'). The keyword argument will take precedence.\n"
     ]
    },
    {
     "name": "stdout",
     "output_type": "stream",
     "text": [
      "150 1902\n",
      "151 1911\n"
     ]
    },
    {
     "name": "stderr",
     "output_type": "stream",
     "text": [
      "/Users/gbrammer/miniconda3/envs/grizli37/lib/python3.7/site-packages/ipykernel_launcher.py:47: UserWarning: linestyle is redundantly defined by the 'linestyle' keyword argument and the fmt string \"s-\" (-> linestyle='-'). The keyword argument will take precedence.\n",
      "/Users/gbrammer/miniconda3/envs/grizli37/lib/python3.7/site-packages/ipykernel_launcher.py:47: UserWarning: linestyle is redundantly defined by the 'linestyle' keyword argument and the fmt string \"s-\" (-> linestyle='-'). The keyword argument will take precedence.\n",
      "/Users/gbrammer/miniconda3/envs/grizli37/lib/python3.7/site-packages/ipykernel_launcher.py:47: UserWarning: linestyle is redundantly defined by the 'linestyle' keyword argument and the fmt string \"s-\" (-> linestyle='-'). The keyword argument will take precedence.\n",
      "/Users/gbrammer/miniconda3/envs/grizli37/lib/python3.7/site-packages/ipykernel_launcher.py:47: UserWarning: linestyle is redundantly defined by the 'linestyle' keyword argument and the fmt string \"s-\" (-> linestyle='-'). The keyword argument will take precedence.\n"
     ]
    },
    {
     "name": "stdout",
     "output_type": "stream",
     "text": [
      "152 1935\n"
     ]
    },
    {
     "name": "stderr",
     "output_type": "stream",
     "text": [
      "/Users/gbrammer/miniconda3/envs/grizli37/lib/python3.7/site-packages/ipykernel_launcher.py:47: UserWarning: linestyle is redundantly defined by the 'linestyle' keyword argument and the fmt string \"s-\" (-> linestyle='-'). The keyword argument will take precedence.\n",
      "/Users/gbrammer/miniconda3/envs/grizli37/lib/python3.7/site-packages/ipykernel_launcher.py:47: UserWarning: linestyle is redundantly defined by the 'linestyle' keyword argument and the fmt string \"s-\" (-> linestyle='-'). The keyword argument will take precedence.\n"
     ]
    },
    {
     "name": "stdout",
     "output_type": "stream",
     "text": [
      "153 1952\n"
     ]
    },
    {
     "name": "stderr",
     "output_type": "stream",
     "text": [
      "/Users/gbrammer/miniconda3/envs/grizli37/lib/python3.7/site-packages/ipykernel_launcher.py:47: UserWarning: linestyle is redundantly defined by the 'linestyle' keyword argument and the fmt string \"s-\" (-> linestyle='-'). The keyword argument will take precedence.\n",
      "/Users/gbrammer/miniconda3/envs/grizli37/lib/python3.7/site-packages/ipykernel_launcher.py:47: UserWarning: linestyle is redundantly defined by the 'linestyle' keyword argument and the fmt string \"s-\" (-> linestyle='-'). The keyword argument will take precedence.\n"
     ]
    },
    {
     "name": "stdout",
     "output_type": "stream",
     "text": [
      "154 1958\n"
     ]
    },
    {
     "name": "stderr",
     "output_type": "stream",
     "text": [
      "/Users/gbrammer/miniconda3/envs/grizli37/lib/python3.7/site-packages/ipykernel_launcher.py:47: UserWarning: linestyle is redundantly defined by the 'linestyle' keyword argument and the fmt string \"s-\" (-> linestyle='-'). The keyword argument will take precedence.\n"
     ]
    },
    {
     "name": "stdout",
     "output_type": "stream",
     "text": [
      "155 1977\n",
      "Fail\n",
      "156 1981\n",
      "157 2001\n"
     ]
    },
    {
     "name": "stderr",
     "output_type": "stream",
     "text": [
      "/Users/gbrammer/miniconda3/envs/grizli37/lib/python3.7/site-packages/ipykernel_launcher.py:47: UserWarning: linestyle is redundantly defined by the 'linestyle' keyword argument and the fmt string \"s-\" (-> linestyle='-'). The keyword argument will take precedence.\n"
     ]
    },
    {
     "name": "stdout",
     "output_type": "stream",
     "text": [
      "158 2008\n",
      "159 2021\n"
     ]
    },
    {
     "name": "stderr",
     "output_type": "stream",
     "text": [
      "/Users/gbrammer/miniconda3/envs/grizli37/lib/python3.7/site-packages/ipykernel_launcher.py:47: UserWarning: linestyle is redundantly defined by the 'linestyle' keyword argument and the fmt string \"s-\" (-> linestyle='-'). The keyword argument will take precedence.\n",
      "/Users/gbrammer/miniconda3/envs/grizli37/lib/python3.7/site-packages/ipykernel_launcher.py:47: UserWarning: linestyle is redundantly defined by the 'linestyle' keyword argument and the fmt string \"s-\" (-> linestyle='-'). The keyword argument will take precedence.\n"
     ]
    },
    {
     "name": "stdout",
     "output_type": "stream",
     "text": [
      "160 2025\n"
     ]
    },
    {
     "name": "stderr",
     "output_type": "stream",
     "text": [
      "/Users/gbrammer/miniconda3/envs/grizli37/lib/python3.7/site-packages/ipykernel_launcher.py:47: UserWarning: linestyle is redundantly defined by the 'linestyle' keyword argument and the fmt string \"s-\" (-> linestyle='-'). The keyword argument will take precedence.\n",
      "/Users/gbrammer/miniconda3/envs/grizli37/lib/python3.7/site-packages/ipykernel_launcher.py:47: UserWarning: linestyle is redundantly defined by the 'linestyle' keyword argument and the fmt string \"s-\" (-> linestyle='-'). The keyword argument will take precedence.\n",
      "/Users/gbrammer/miniconda3/envs/grizli37/lib/python3.7/site-packages/ipykernel_launcher.py:47: UserWarning: linestyle is redundantly defined by the 'linestyle' keyword argument and the fmt string \"s-\" (-> linestyle='-'). The keyword argument will take precedence.\n",
      "/Users/gbrammer/miniconda3/envs/grizli37/lib/python3.7/site-packages/ipykernel_launcher.py:47: UserWarning: linestyle is redundantly defined by the 'linestyle' keyword argument and the fmt string \"s-\" (-> linestyle='-'). The keyword argument will take precedence.\n"
     ]
    },
    {
     "name": "stdout",
     "output_type": "stream",
     "text": [
      "161 2044\n"
     ]
    },
    {
     "name": "stderr",
     "output_type": "stream",
     "text": [
      "/Users/gbrammer/miniconda3/envs/grizli37/lib/python3.7/site-packages/ipykernel_launcher.py:47: UserWarning: linestyle is redundantly defined by the 'linestyle' keyword argument and the fmt string \"s-\" (-> linestyle='-'). The keyword argument will take precedence.\n",
      "/Users/gbrammer/miniconda3/envs/grizli37/lib/python3.7/site-packages/ipykernel_launcher.py:47: UserWarning: linestyle is redundantly defined by the 'linestyle' keyword argument and the fmt string \"s-\" (-> linestyle='-'). The keyword argument will take precedence.\n",
      "/Users/gbrammer/miniconda3/envs/grizli37/lib/python3.7/site-packages/ipykernel_launcher.py:47: UserWarning: linestyle is redundantly defined by the 'linestyle' keyword argument and the fmt string \"s-\" (-> linestyle='-'). The keyword argument will take precedence.\n"
     ]
    },
    {
     "name": "stdout",
     "output_type": "stream",
     "text": [
      "162 2053\n"
     ]
    },
    {
     "name": "stderr",
     "output_type": "stream",
     "text": [
      "/Users/gbrammer/miniconda3/envs/grizli37/lib/python3.7/site-packages/ipykernel_launcher.py:47: UserWarning: linestyle is redundantly defined by the 'linestyle' keyword argument and the fmt string \"s-\" (-> linestyle='-'). The keyword argument will take precedence.\n",
      "/Users/gbrammer/miniconda3/envs/grizli37/lib/python3.7/site-packages/ipykernel_launcher.py:47: UserWarning: linestyle is redundantly defined by the 'linestyle' keyword argument and the fmt string \"s-\" (-> linestyle='-'). The keyword argument will take precedence.\n",
      "/Users/gbrammer/miniconda3/envs/grizli37/lib/python3.7/site-packages/ipykernel_launcher.py:47: UserWarning: linestyle is redundantly defined by the 'linestyle' keyword argument and the fmt string \"s-\" (-> linestyle='-'). The keyword argument will take precedence.\n"
     ]
    },
    {
     "name": "stdout",
     "output_type": "stream",
     "text": [
      "163 2055\n"
     ]
    },
    {
     "name": "stderr",
     "output_type": "stream",
     "text": [
      "/Users/gbrammer/miniconda3/envs/grizli37/lib/python3.7/site-packages/ipykernel_launcher.py:47: UserWarning: linestyle is redundantly defined by the 'linestyle' keyword argument and the fmt string \"s-\" (-> linestyle='-'). The keyword argument will take precedence.\n"
     ]
    },
    {
     "name": "stdout",
     "output_type": "stream",
     "text": [
      "164 2062\n"
     ]
    },
    {
     "name": "stderr",
     "output_type": "stream",
     "text": [
      "/Users/gbrammer/miniconda3/envs/grizli37/lib/python3.7/site-packages/ipykernel_launcher.py:47: UserWarning: linestyle is redundantly defined by the 'linestyle' keyword argument and the fmt string \"s-\" (-> linestyle='-'). The keyword argument will take precedence.\n",
      "/Users/gbrammer/miniconda3/envs/grizli37/lib/python3.7/site-packages/ipykernel_launcher.py:47: UserWarning: linestyle is redundantly defined by the 'linestyle' keyword argument and the fmt string \"s-\" (-> linestyle='-'). The keyword argument will take precedence.\n"
     ]
    },
    {
     "name": "stdout",
     "output_type": "stream",
     "text": [
      "165 2084\n"
     ]
    },
    {
     "name": "stderr",
     "output_type": "stream",
     "text": [
      "/Users/gbrammer/miniconda3/envs/grizli37/lib/python3.7/site-packages/ipykernel_launcher.py:47: UserWarning: linestyle is redundantly defined by the 'linestyle' keyword argument and the fmt string \"s-\" (-> linestyle='-'). The keyword argument will take precedence.\n",
      "/Users/gbrammer/miniconda3/envs/grizli37/lib/python3.7/site-packages/ipykernel_launcher.py:47: UserWarning: linestyle is redundantly defined by the 'linestyle' keyword argument and the fmt string \"s-\" (-> linestyle='-'). The keyword argument will take precedence.\n",
      "/Users/gbrammer/miniconda3/envs/grizli37/lib/python3.7/site-packages/ipykernel_launcher.py:47: UserWarning: linestyle is redundantly defined by the 'linestyle' keyword argument and the fmt string \"s-\" (-> linestyle='-'). The keyword argument will take precedence.\n",
      "/Users/gbrammer/miniconda3/envs/grizli37/lib/python3.7/site-packages/ipykernel_launcher.py:47: UserWarning: linestyle is redundantly defined by the 'linestyle' keyword argument and the fmt string \"s-\" (-> linestyle='-'). The keyword argument will take precedence.\n"
     ]
    },
    {
     "name": "stdout",
     "output_type": "stream",
     "text": [
      "166 2113\n"
     ]
    },
    {
     "name": "stderr",
     "output_type": "stream",
     "text": [
      "/Users/gbrammer/miniconda3/envs/grizli37/lib/python3.7/site-packages/ipykernel_launcher.py:47: UserWarning: linestyle is redundantly defined by the 'linestyle' keyword argument and the fmt string \"s-\" (-> linestyle='-'). The keyword argument will take precedence.\n"
     ]
    },
    {
     "name": "stdout",
     "output_type": "stream",
     "text": [
      "167 2149\n"
     ]
    },
    {
     "name": "stderr",
     "output_type": "stream",
     "text": [
      "/Users/gbrammer/miniconda3/envs/grizli37/lib/python3.7/site-packages/ipykernel_launcher.py:47: UserWarning: linestyle is redundantly defined by the 'linestyle' keyword argument and the fmt string \"s-\" (-> linestyle='-'). The keyword argument will take precedence.\n",
      "/Users/gbrammer/miniconda3/envs/grizli37/lib/python3.7/site-packages/ipykernel_launcher.py:47: UserWarning: linestyle is redundantly defined by the 'linestyle' keyword argument and the fmt string \"s-\" (-> linestyle='-'). The keyword argument will take precedence.\n"
     ]
    },
    {
     "name": "stdout",
     "output_type": "stream",
     "text": [
      "168 2153\n"
     ]
    },
    {
     "name": "stderr",
     "output_type": "stream",
     "text": [
      "/Users/gbrammer/miniconda3/envs/grizli37/lib/python3.7/site-packages/ipykernel_launcher.py:47: UserWarning: linestyle is redundantly defined by the 'linestyle' keyword argument and the fmt string \"s-\" (-> linestyle='-'). The keyword argument will take precedence.\n",
      "/Users/gbrammer/miniconda3/envs/grizli37/lib/python3.7/site-packages/ipykernel_launcher.py:47: UserWarning: linestyle is redundantly defined by the 'linestyle' keyword argument and the fmt string \"s-\" (-> linestyle='-'). The keyword argument will take precedence.\n",
      "/Users/gbrammer/miniconda3/envs/grizli37/lib/python3.7/site-packages/ipykernel_launcher.py:47: UserWarning: linestyle is redundantly defined by the 'linestyle' keyword argument and the fmt string \"s-\" (-> linestyle='-'). The keyword argument will take precedence.\n"
     ]
    },
    {
     "name": "stdout",
     "output_type": "stream",
     "text": [
      "169 2158\n"
     ]
    },
    {
     "name": "stderr",
     "output_type": "stream",
     "text": [
      "/Users/gbrammer/miniconda3/envs/grizli37/lib/python3.7/site-packages/ipykernel_launcher.py:47: UserWarning: linestyle is redundantly defined by the 'linestyle' keyword argument and the fmt string \"s-\" (-> linestyle='-'). The keyword argument will take precedence.\n"
     ]
    },
    {
     "name": "stdout",
     "output_type": "stream",
     "text": [
      "170 2159\n"
     ]
    },
    {
     "name": "stderr",
     "output_type": "stream",
     "text": [
      "/Users/gbrammer/miniconda3/envs/grizli37/lib/python3.7/site-packages/ipykernel_launcher.py:47: UserWarning: linestyle is redundantly defined by the 'linestyle' keyword argument and the fmt string \"s-\" (-> linestyle='-'). The keyword argument will take precedence.\n"
     ]
    },
    {
     "name": "stdout",
     "output_type": "stream",
     "text": [
      "171 2232\n",
      "Fail\n",
      "172 2243\n"
     ]
    },
    {
     "name": "stderr",
     "output_type": "stream",
     "text": [
      "/Users/gbrammer/miniconda3/envs/grizli37/lib/python3.7/site-packages/ipykernel_launcher.py:47: UserWarning: linestyle is redundantly defined by the 'linestyle' keyword argument and the fmt string \"s-\" (-> linestyle='-'). The keyword argument will take precedence.\n",
      "/Users/gbrammer/miniconda3/envs/grizli37/lib/python3.7/site-packages/ipykernel_launcher.py:47: UserWarning: linestyle is redundantly defined by the 'linestyle' keyword argument and the fmt string \"s-\" (-> linestyle='-'). The keyword argument will take precedence.\n",
      "/Users/gbrammer/miniconda3/envs/grizli37/lib/python3.7/site-packages/ipykernel_launcher.py:47: UserWarning: linestyle is redundantly defined by the 'linestyle' keyword argument and the fmt string \"s-\" (-> linestyle='-'). The keyword argument will take precedence.\n",
      "/Users/gbrammer/miniconda3/envs/grizli37/lib/python3.7/site-packages/ipykernel_launcher.py:47: UserWarning: linestyle is redundantly defined by the 'linestyle' keyword argument and the fmt string \"s-\" (-> linestyle='-'). The keyword argument will take precedence.\n"
     ]
    },
    {
     "name": "stdout",
     "output_type": "stream",
     "text": [
      "173 2260\n"
     ]
    },
    {
     "name": "stderr",
     "output_type": "stream",
     "text": [
      "/Users/gbrammer/miniconda3/envs/grizli37/lib/python3.7/site-packages/ipykernel_launcher.py:47: UserWarning: linestyle is redundantly defined by the 'linestyle' keyword argument and the fmt string \"s-\" (-> linestyle='-'). The keyword argument will take precedence.\n",
      "/Users/gbrammer/miniconda3/envs/grizli37/lib/python3.7/site-packages/ipykernel_launcher.py:47: UserWarning: linestyle is redundantly defined by the 'linestyle' keyword argument and the fmt string \"s-\" (-> linestyle='-'). The keyword argument will take precedence.\n",
      "/Users/gbrammer/miniconda3/envs/grizli37/lib/python3.7/site-packages/ipykernel_launcher.py:47: UserWarning: linestyle is redundantly defined by the 'linestyle' keyword argument and the fmt string \"s-\" (-> linestyle='-'). The keyword argument will take precedence.\n",
      "/Users/gbrammer/miniconda3/envs/grizli37/lib/python3.7/site-packages/ipykernel_launcher.py:47: UserWarning: linestyle is redundantly defined by the 'linestyle' keyword argument and the fmt string \"s-\" (-> linestyle='-'). The keyword argument will take precedence.\n"
     ]
    },
    {
     "name": "stdout",
     "output_type": "stream",
     "text": [
      "174 2278\n"
     ]
    },
    {
     "name": "stderr",
     "output_type": "stream",
     "text": [
      "/Users/gbrammer/miniconda3/envs/grizli37/lib/python3.7/site-packages/ipykernel_launcher.py:47: UserWarning: linestyle is redundantly defined by the 'linestyle' keyword argument and the fmt string \"s-\" (-> linestyle='-'). The keyword argument will take precedence.\n",
      "/Users/gbrammer/miniconda3/envs/grizli37/lib/python3.7/site-packages/ipykernel_launcher.py:47: UserWarning: linestyle is redundantly defined by the 'linestyle' keyword argument and the fmt string \"s-\" (-> linestyle='-'). The keyword argument will take precedence.\n",
      "/Users/gbrammer/miniconda3/envs/grizli37/lib/python3.7/site-packages/ipykernel_launcher.py:47: UserWarning: linestyle is redundantly defined by the 'linestyle' keyword argument and the fmt string \"s-\" (-> linestyle='-'). The keyword argument will take precedence.\n",
      "/Users/gbrammer/miniconda3/envs/grizli37/lib/python3.7/site-packages/ipykernel_launcher.py:47: UserWarning: linestyle is redundantly defined by the 'linestyle' keyword argument and the fmt string \"s-\" (-> linestyle='-'). The keyword argument will take precedence.\n",
      "/Users/gbrammer/miniconda3/envs/grizli37/lib/python3.7/site-packages/ipykernel_launcher.py:47: UserWarning: linestyle is redundantly defined by the 'linestyle' keyword argument and the fmt string \"s-\" (-> linestyle='-'). The keyword argument will take precedence.\n"
     ]
    },
    {
     "name": "stdout",
     "output_type": "stream",
     "text": [
      "175 2297\n"
     ]
    },
    {
     "name": "stderr",
     "output_type": "stream",
     "text": [
      "/Users/gbrammer/miniconda3/envs/grizli37/lib/python3.7/site-packages/ipykernel_launcher.py:47: UserWarning: linestyle is redundantly defined by the 'linestyle' keyword argument and the fmt string \"s-\" (-> linestyle='-'). The keyword argument will take precedence.\n",
      "/Users/gbrammer/miniconda3/envs/grizli37/lib/python3.7/site-packages/ipykernel_launcher.py:47: UserWarning: linestyle is redundantly defined by the 'linestyle' keyword argument and the fmt string \"s-\" (-> linestyle='-'). The keyword argument will take precedence.\n"
     ]
    },
    {
     "name": "stdout",
     "output_type": "stream",
     "text": [
      "176 2304\n"
     ]
    },
    {
     "name": "stderr",
     "output_type": "stream",
     "text": [
      "/Users/gbrammer/miniconda3/envs/grizli37/lib/python3.7/site-packages/ipykernel_launcher.py:47: UserWarning: linestyle is redundantly defined by the 'linestyle' keyword argument and the fmt string \"s-\" (-> linestyle='-'). The keyword argument will take precedence.\n",
      "/Users/gbrammer/miniconda3/envs/grizli37/lib/python3.7/site-packages/ipykernel_launcher.py:47: UserWarning: linestyle is redundantly defined by the 'linestyle' keyword argument and the fmt string \"s-\" (-> linestyle='-'). The keyword argument will take precedence.\n",
      "/Users/gbrammer/miniconda3/envs/grizli37/lib/python3.7/site-packages/ipykernel_launcher.py:47: UserWarning: linestyle is redundantly defined by the 'linestyle' keyword argument and the fmt string \"s-\" (-> linestyle='-'). The keyword argument will take precedence.\n",
      "/Users/gbrammer/miniconda3/envs/grizli37/lib/python3.7/site-packages/ipykernel_launcher.py:47: UserWarning: linestyle is redundantly defined by the 'linestyle' keyword argument and the fmt string \"s-\" (-> linestyle='-'). The keyword argument will take precedence.\n"
     ]
    },
    {
     "name": "stdout",
     "output_type": "stream",
     "text": [
      "177 2311\n"
     ]
    },
    {
     "name": "stderr",
     "output_type": "stream",
     "text": [
      "/Users/gbrammer/miniconda3/envs/grizli37/lib/python3.7/site-packages/ipykernel_launcher.py:47: UserWarning: linestyle is redundantly defined by the 'linestyle' keyword argument and the fmt string \"s-\" (-> linestyle='-'). The keyword argument will take precedence.\n",
      "/Users/gbrammer/miniconda3/envs/grizli37/lib/python3.7/site-packages/ipykernel_launcher.py:47: UserWarning: linestyle is redundantly defined by the 'linestyle' keyword argument and the fmt string \"s-\" (-> linestyle='-'). The keyword argument will take precedence.\n",
      "/Users/gbrammer/miniconda3/envs/grizli37/lib/python3.7/site-packages/ipykernel_launcher.py:47: UserWarning: linestyle is redundantly defined by the 'linestyle' keyword argument and the fmt string \"s-\" (-> linestyle='-'). The keyword argument will take precedence.\n",
      "/Users/gbrammer/miniconda3/envs/grizli37/lib/python3.7/site-packages/ipykernel_launcher.py:47: UserWarning: linestyle is redundantly defined by the 'linestyle' keyword argument and the fmt string \"s-\" (-> linestyle='-'). The keyword argument will take precedence.\n",
      "/Users/gbrammer/miniconda3/envs/grizli37/lib/python3.7/site-packages/ipykernel_launcher.py:47: UserWarning: linestyle is redundantly defined by the 'linestyle' keyword argument and the fmt string \"s-\" (-> linestyle='-'). The keyword argument will take precedence.\n",
      "/Users/gbrammer/miniconda3/envs/grizli37/lib/python3.7/site-packages/ipykernel_launcher.py:47: UserWarning: linestyle is redundantly defined by the 'linestyle' keyword argument and the fmt string \"s-\" (-> linestyle='-'). The keyword argument will take precedence.\n"
     ]
    },
    {
     "name": "stdout",
     "output_type": "stream",
     "text": [
      "178 2319\n"
     ]
    },
    {
     "name": "stderr",
     "output_type": "stream",
     "text": [
      "/Users/gbrammer/miniconda3/envs/grizli37/lib/python3.7/site-packages/ipykernel_launcher.py:47: UserWarning: linestyle is redundantly defined by the 'linestyle' keyword argument and the fmt string \"s-\" (-> linestyle='-'). The keyword argument will take precedence.\n",
      "/Users/gbrammer/miniconda3/envs/grizli37/lib/python3.7/site-packages/ipykernel_launcher.py:47: UserWarning: linestyle is redundantly defined by the 'linestyle' keyword argument and the fmt string \"s-\" (-> linestyle='-'). The keyword argument will take precedence.\n",
      "/Users/gbrammer/miniconda3/envs/grizli37/lib/python3.7/site-packages/ipykernel_launcher.py:47: UserWarning: linestyle is redundantly defined by the 'linestyle' keyword argument and the fmt string \"s-\" (-> linestyle='-'). The keyword argument will take precedence.\n"
     ]
    },
    {
     "name": "stdout",
     "output_type": "stream",
     "text": [
      "179 2334\n"
     ]
    },
    {
     "name": "stderr",
     "output_type": "stream",
     "text": [
      "/Users/gbrammer/miniconda3/envs/grizli37/lib/python3.7/site-packages/ipykernel_launcher.py:47: UserWarning: linestyle is redundantly defined by the 'linestyle' keyword argument and the fmt string \"s-\" (-> linestyle='-'). The keyword argument will take precedence.\n",
      "/Users/gbrammer/miniconda3/envs/grizli37/lib/python3.7/site-packages/ipykernel_launcher.py:47: UserWarning: linestyle is redundantly defined by the 'linestyle' keyword argument and the fmt string \"s-\" (-> linestyle='-'). The keyword argument will take precedence.\n"
     ]
    },
    {
     "name": "stdout",
     "output_type": "stream",
     "text": [
      "180 2347\n"
     ]
    },
    {
     "name": "stderr",
     "output_type": "stream",
     "text": [
      "/Users/gbrammer/miniconda3/envs/grizli37/lib/python3.7/site-packages/ipykernel_launcher.py:47: UserWarning: linestyle is redundantly defined by the 'linestyle' keyword argument and the fmt string \"s-\" (-> linestyle='-'). The keyword argument will take precedence.\n"
     ]
    },
    {
     "name": "stdout",
     "output_type": "stream",
     "text": [
      "181 2358\n"
     ]
    },
    {
     "name": "stderr",
     "output_type": "stream",
     "text": [
      "/Users/gbrammer/miniconda3/envs/grizli37/lib/python3.7/site-packages/ipykernel_launcher.py:47: UserWarning: linestyle is redundantly defined by the 'linestyle' keyword argument and the fmt string \"s-\" (-> linestyle='-'). The keyword argument will take precedence.\n",
      "/Users/gbrammer/miniconda3/envs/grizli37/lib/python3.7/site-packages/ipykernel_launcher.py:47: UserWarning: linestyle is redundantly defined by the 'linestyle' keyword argument and the fmt string \"s-\" (-> linestyle='-'). The keyword argument will take precedence.\n",
      "/Users/gbrammer/miniconda3/envs/grizli37/lib/python3.7/site-packages/ipykernel_launcher.py:47: UserWarning: linestyle is redundantly defined by the 'linestyle' keyword argument and the fmt string \"s-\" (-> linestyle='-'). The keyword argument will take precedence.\n",
      "/Users/gbrammer/miniconda3/envs/grizli37/lib/python3.7/site-packages/ipykernel_launcher.py:47: UserWarning: linestyle is redundantly defined by the 'linestyle' keyword argument and the fmt string \"s-\" (-> linestyle='-'). The keyword argument will take precedence.\n"
     ]
    },
    {
     "name": "stdout",
     "output_type": "stream",
     "text": [
      "182 2372\n"
     ]
    },
    {
     "name": "stderr",
     "output_type": "stream",
     "text": [
      "/Users/gbrammer/miniconda3/envs/grizli37/lib/python3.7/site-packages/ipykernel_launcher.py:47: UserWarning: linestyle is redundantly defined by the 'linestyle' keyword argument and the fmt string \"s-\" (-> linestyle='-'). The keyword argument will take precedence.\n",
      "/Users/gbrammer/miniconda3/envs/grizli37/lib/python3.7/site-packages/ipykernel_launcher.py:47: UserWarning: linestyle is redundantly defined by the 'linestyle' keyword argument and the fmt string \"s-\" (-> linestyle='-'). The keyword argument will take precedence.\n",
      "/Users/gbrammer/miniconda3/envs/grizli37/lib/python3.7/site-packages/ipykernel_launcher.py:47: UserWarning: linestyle is redundantly defined by the 'linestyle' keyword argument and the fmt string \"s-\" (-> linestyle='-'). The keyword argument will take precedence.\n",
      "/Users/gbrammer/miniconda3/envs/grizli37/lib/python3.7/site-packages/ipykernel_launcher.py:47: UserWarning: linestyle is redundantly defined by the 'linestyle' keyword argument and the fmt string \"s-\" (-> linestyle='-'). The keyword argument will take precedence.\n",
      "/Users/gbrammer/miniconda3/envs/grizli37/lib/python3.7/site-packages/ipykernel_launcher.py:47: UserWarning: linestyle is redundantly defined by the 'linestyle' keyword argument and the fmt string \"s-\" (-> linestyle='-'). The keyword argument will take precedence.\n",
      "/Users/gbrammer/miniconda3/envs/grizli37/lib/python3.7/site-packages/ipykernel_launcher.py:47: UserWarning: linestyle is redundantly defined by the 'linestyle' keyword argument and the fmt string \"s-\" (-> linestyle='-'). The keyword argument will take precedence.\n"
     ]
    },
    {
     "name": "stdout",
     "output_type": "stream",
     "text": [
      "183 2420\n",
      "184 2437\n"
     ]
    },
    {
     "name": "stderr",
     "output_type": "stream",
     "text": [
      "/Users/gbrammer/miniconda3/envs/grizli37/lib/python3.7/site-packages/ipykernel_launcher.py:47: UserWarning: linestyle is redundantly defined by the 'linestyle' keyword argument and the fmt string \"s-\" (-> linestyle='-'). The keyword argument will take precedence.\n"
     ]
    },
    {
     "name": "stdout",
     "output_type": "stream",
     "text": [
      "185 2454\n"
     ]
    },
    {
     "name": "stderr",
     "output_type": "stream",
     "text": [
      "/Users/gbrammer/miniconda3/envs/grizli37/lib/python3.7/site-packages/ipykernel_launcher.py:47: UserWarning: linestyle is redundantly defined by the 'linestyle' keyword argument and the fmt string \"s-\" (-> linestyle='-'). The keyword argument will take precedence.\n"
     ]
    },
    {
     "name": "stdout",
     "output_type": "stream",
     "text": [
      "186 2487\n"
     ]
    },
    {
     "name": "stderr",
     "output_type": "stream",
     "text": [
      "/Users/gbrammer/miniconda3/envs/grizli37/lib/python3.7/site-packages/ipykernel_launcher.py:47: UserWarning: linestyle is redundantly defined by the 'linestyle' keyword argument and the fmt string \"s-\" (-> linestyle='-'). The keyword argument will take precedence.\n",
      "/Users/gbrammer/miniconda3/envs/grizli37/lib/python3.7/site-packages/ipykernel_launcher.py:47: UserWarning: linestyle is redundantly defined by the 'linestyle' keyword argument and the fmt string \"s-\" (-> linestyle='-'). The keyword argument will take precedence.\n"
     ]
    },
    {
     "name": "stdout",
     "output_type": "stream",
     "text": [
      "187 2488\n"
     ]
    },
    {
     "name": "stderr",
     "output_type": "stream",
     "text": [
      "/Users/gbrammer/miniconda3/envs/grizli37/lib/python3.7/site-packages/ipykernel_launcher.py:47: UserWarning: linestyle is redundantly defined by the 'linestyle' keyword argument and the fmt string \"s-\" (-> linestyle='-'). The keyword argument will take precedence.\n"
     ]
    },
    {
     "name": "stdout",
     "output_type": "stream",
     "text": [
      "188 2498\n"
     ]
    },
    {
     "name": "stderr",
     "output_type": "stream",
     "text": [
      "/Users/gbrammer/miniconda3/envs/grizli37/lib/python3.7/site-packages/ipykernel_launcher.py:47: UserWarning: linestyle is redundantly defined by the 'linestyle' keyword argument and the fmt string \"s-\" (-> linestyle='-'). The keyword argument will take precedence.\n"
     ]
    },
    {
     "name": "stdout",
     "output_type": "stream",
     "text": [
      "189 2507\n"
     ]
    },
    {
     "name": "stderr",
     "output_type": "stream",
     "text": [
      "/Users/gbrammer/miniconda3/envs/grizli37/lib/python3.7/site-packages/ipykernel_launcher.py:47: UserWarning: linestyle is redundantly defined by the 'linestyle' keyword argument and the fmt string \"s-\" (-> linestyle='-'). The keyword argument will take precedence.\n"
     ]
    },
    {
     "name": "stdout",
     "output_type": "stream",
     "text": [
      "190 2508\n",
      "191 2509\n",
      "Fail\n",
      "192 2512\n",
      "193 2538\n"
     ]
    },
    {
     "name": "stderr",
     "output_type": "stream",
     "text": [
      "/Users/gbrammer/miniconda3/envs/grizli37/lib/python3.7/site-packages/ipykernel_launcher.py:47: UserWarning: linestyle is redundantly defined by the 'linestyle' keyword argument and the fmt string \"s-\" (-> linestyle='-'). The keyword argument will take precedence.\n",
      "/Users/gbrammer/miniconda3/envs/grizli37/lib/python3.7/site-packages/ipykernel_launcher.py:47: UserWarning: linestyle is redundantly defined by the 'linestyle' keyword argument and the fmt string \"s-\" (-> linestyle='-'). The keyword argument will take precedence.\n",
      "/Users/gbrammer/miniconda3/envs/grizli37/lib/python3.7/site-packages/ipykernel_launcher.py:47: UserWarning: linestyle is redundantly defined by the 'linestyle' keyword argument and the fmt string \"s-\" (-> linestyle='-'). The keyword argument will take precedence.\n",
      "/Users/gbrammer/miniconda3/envs/grizli37/lib/python3.7/site-packages/ipykernel_launcher.py:47: UserWarning: linestyle is redundantly defined by the 'linestyle' keyword argument and the fmt string \"s-\" (-> linestyle='-'). The keyword argument will take precedence.\n",
      "/Users/gbrammer/miniconda3/envs/grizli37/lib/python3.7/site-packages/ipykernel_launcher.py:47: UserWarning: linestyle is redundantly defined by the 'linestyle' keyword argument and the fmt string \"s-\" (-> linestyle='-'). The keyword argument will take precedence.\n",
      "/Users/gbrammer/miniconda3/envs/grizli37/lib/python3.7/site-packages/ipykernel_launcher.py:47: UserWarning: linestyle is redundantly defined by the 'linestyle' keyword argument and the fmt string \"s-\" (-> linestyle='-'). The keyword argument will take precedence.\n",
      "/Users/gbrammer/miniconda3/envs/grizli37/lib/python3.7/site-packages/ipykernel_launcher.py:47: UserWarning: linestyle is redundantly defined by the 'linestyle' keyword argument and the fmt string \"s-\" (-> linestyle='-'). The keyword argument will take precedence.\n",
      "/Users/gbrammer/miniconda3/envs/grizli37/lib/python3.7/site-packages/ipykernel_launcher.py:47: UserWarning: linestyle is redundantly defined by the 'linestyle' keyword argument and the fmt string \"s-\" (-> linestyle='-'). The keyword argument will take precedence.\n"
     ]
    },
    {
     "name": "stdout",
     "output_type": "stream",
     "text": [
      "194 2540\n",
      "195 2562\n"
     ]
    },
    {
     "name": "stderr",
     "output_type": "stream",
     "text": [
      "/Users/gbrammer/miniconda3/envs/grizli37/lib/python3.7/site-packages/ipykernel_launcher.py:47: UserWarning: linestyle is redundantly defined by the 'linestyle' keyword argument and the fmt string \"s-\" (-> linestyle='-'). The keyword argument will take precedence.\n",
      "/Users/gbrammer/miniconda3/envs/grizli37/lib/python3.7/site-packages/ipykernel_launcher.py:47: UserWarning: linestyle is redundantly defined by the 'linestyle' keyword argument and the fmt string \"s-\" (-> linestyle='-'). The keyword argument will take precedence.\n",
      "/Users/gbrammer/miniconda3/envs/grizli37/lib/python3.7/site-packages/ipykernel_launcher.py:47: UserWarning: linestyle is redundantly defined by the 'linestyle' keyword argument and the fmt string \"s-\" (-> linestyle='-'). The keyword argument will take precedence.\n",
      "/Users/gbrammer/miniconda3/envs/grizli37/lib/python3.7/site-packages/ipykernel_launcher.py:47: UserWarning: linestyle is redundantly defined by the 'linestyle' keyword argument and the fmt string \"s-\" (-> linestyle='-'). The keyword argument will take precedence.\n",
      "/Users/gbrammer/miniconda3/envs/grizli37/lib/python3.7/site-packages/ipykernel_launcher.py:47: UserWarning: linestyle is redundantly defined by the 'linestyle' keyword argument and the fmt string \"s-\" (-> linestyle='-'). The keyword argument will take precedence.\n",
      "/Users/gbrammer/miniconda3/envs/grizli37/lib/python3.7/site-packages/ipykernel_launcher.py:47: UserWarning: linestyle is redundantly defined by the 'linestyle' keyword argument and the fmt string \"s-\" (-> linestyle='-'). The keyword argument will take precedence.\n",
      "/Users/gbrammer/miniconda3/envs/grizli37/lib/python3.7/site-packages/ipykernel_launcher.py:47: UserWarning: linestyle is redundantly defined by the 'linestyle' keyword argument and the fmt string \"s-\" (-> linestyle='-'). The keyword argument will take precedence.\n",
      "/Users/gbrammer/miniconda3/envs/grizli37/lib/python3.7/site-packages/ipykernel_launcher.py:47: UserWarning: linestyle is redundantly defined by the 'linestyle' keyword argument and the fmt string \"s-\" (-> linestyle='-'). The keyword argument will take precedence.\n"
     ]
    },
    {
     "name": "stdout",
     "output_type": "stream",
     "text": [
      "196 2571\n"
     ]
    },
    {
     "name": "stderr",
     "output_type": "stream",
     "text": [
      "/Users/gbrammer/miniconda3/envs/grizli37/lib/python3.7/site-packages/ipykernel_launcher.py:47: UserWarning: linestyle is redundantly defined by the 'linestyle' keyword argument and the fmt string \"s-\" (-> linestyle='-'). The keyword argument will take precedence.\n"
     ]
    },
    {
     "name": "stdout",
     "output_type": "stream",
     "text": [
      "197 2589\n",
      "198 2594\n"
     ]
    },
    {
     "name": "stderr",
     "output_type": "stream",
     "text": [
      "/Users/gbrammer/miniconda3/envs/grizli37/lib/python3.7/site-packages/ipykernel_launcher.py:47: UserWarning: linestyle is redundantly defined by the 'linestyle' keyword argument and the fmt string \"s-\" (-> linestyle='-'). The keyword argument will take precedence.\n",
      "/Users/gbrammer/miniconda3/envs/grizli37/lib/python3.7/site-packages/ipykernel_launcher.py:47: UserWarning: linestyle is redundantly defined by the 'linestyle' keyword argument and the fmt string \"s-\" (-> linestyle='-'). The keyword argument will take precedence.\n"
     ]
    },
    {
     "name": "stdout",
     "output_type": "stream",
     "text": [
      "199 2627\n",
      "200 2667\n"
     ]
    },
    {
     "name": "stderr",
     "output_type": "stream",
     "text": [
      "/Users/gbrammer/miniconda3/envs/grizli37/lib/python3.7/site-packages/ipykernel_launcher.py:47: UserWarning: linestyle is redundantly defined by the 'linestyle' keyword argument and the fmt string \"s-\" (-> linestyle='-'). The keyword argument will take precedence.\n"
     ]
    },
    {
     "name": "stdout",
     "output_type": "stream",
     "text": [
      "201 2708\n"
     ]
    },
    {
     "name": "stderr",
     "output_type": "stream",
     "text": [
      "/Users/gbrammer/miniconda3/envs/grizli37/lib/python3.7/site-packages/ipykernel_launcher.py:47: UserWarning: linestyle is redundantly defined by the 'linestyle' keyword argument and the fmt string \"s-\" (-> linestyle='-'). The keyword argument will take precedence.\n",
      "/Users/gbrammer/miniconda3/envs/grizli37/lib/python3.7/site-packages/ipykernel_launcher.py:47: UserWarning: linestyle is redundantly defined by the 'linestyle' keyword argument and the fmt string \"s-\" (-> linestyle='-'). The keyword argument will take precedence.\n",
      "/Users/gbrammer/miniconda3/envs/grizli37/lib/python3.7/site-packages/ipykernel_launcher.py:47: UserWarning: linestyle is redundantly defined by the 'linestyle' keyword argument and the fmt string \"s-\" (-> linestyle='-'). The keyword argument will take precedence.\n"
     ]
    },
    {
     "name": "stdout",
     "output_type": "stream",
     "text": [
      "202 2722\n"
     ]
    },
    {
     "name": "stderr",
     "output_type": "stream",
     "text": [
      "/Users/gbrammer/miniconda3/envs/grizli37/lib/python3.7/site-packages/ipykernel_launcher.py:47: UserWarning: linestyle is redundantly defined by the 'linestyle' keyword argument and the fmt string \"s-\" (-> linestyle='-'). The keyword argument will take precedence.\n",
      "/Users/gbrammer/miniconda3/envs/grizli37/lib/python3.7/site-packages/ipykernel_launcher.py:47: UserWarning: linestyle is redundantly defined by the 'linestyle' keyword argument and the fmt string \"s-\" (-> linestyle='-'). The keyword argument will take precedence.\n",
      "/Users/gbrammer/miniconda3/envs/grizli37/lib/python3.7/site-packages/ipykernel_launcher.py:47: UserWarning: linestyle is redundantly defined by the 'linestyle' keyword argument and the fmt string \"s-\" (-> linestyle='-'). The keyword argument will take precedence.\n"
     ]
    },
    {
     "name": "stdout",
     "output_type": "stream",
     "text": [
      "203 1433\n",
      "204 1567\n"
     ]
    },
    {
     "name": "stderr",
     "output_type": "stream",
     "text": [
      "/Users/gbrammer/miniconda3/envs/grizli37/lib/python3.7/site-packages/ipykernel_launcher.py:47: UserWarning: linestyle is redundantly defined by the 'linestyle' keyword argument and the fmt string \"s-\" (-> linestyle='-'). The keyword argument will take precedence.\n",
      "/Users/gbrammer/miniconda3/envs/grizli37/lib/python3.7/site-packages/ipykernel_launcher.py:47: UserWarning: linestyle is redundantly defined by the 'linestyle' keyword argument and the fmt string \"s-\" (-> linestyle='-'). The keyword argument will take precedence.\n",
      "/Users/gbrammer/miniconda3/envs/grizli37/lib/python3.7/site-packages/ipykernel_launcher.py:47: UserWarning: linestyle is redundantly defined by the 'linestyle' keyword argument and the fmt string \"s-\" (-> linestyle='-'). The keyword argument will take precedence.\n"
     ]
    },
    {
     "name": "stdout",
     "output_type": "stream",
     "text": [
      "205 1571\n",
      "206 1572\n"
     ]
    },
    {
     "name": "stderr",
     "output_type": "stream",
     "text": [
      "/Users/gbrammer/miniconda3/envs/grizli37/lib/python3.7/site-packages/ipykernel_launcher.py:47: UserWarning: linestyle is redundantly defined by the 'linestyle' keyword argument and the fmt string \"s-\" (-> linestyle='-'). The keyword argument will take precedence.\n",
      "/Users/gbrammer/miniconda3/envs/grizli37/lib/python3.7/site-packages/ipykernel_launcher.py:47: UserWarning: linestyle is redundantly defined by the 'linestyle' keyword argument and the fmt string \"s-\" (-> linestyle='-'). The keyword argument will take precedence.\n"
     ]
    },
    {
     "name": "stdout",
     "output_type": "stream",
     "text": [
      "207 1626\n"
     ]
    },
    {
     "name": "stderr",
     "output_type": "stream",
     "text": [
      "/Users/gbrammer/miniconda3/envs/grizli37/lib/python3.7/site-packages/ipykernel_launcher.py:47: UserWarning: linestyle is redundantly defined by the 'linestyle' keyword argument and the fmt string \"s-\" (-> linestyle='-'). The keyword argument will take precedence.\n",
      "/Users/gbrammer/miniconda3/envs/grizli37/lib/python3.7/site-packages/ipykernel_launcher.py:47: UserWarning: linestyle is redundantly defined by the 'linestyle' keyword argument and the fmt string \"s-\" (-> linestyle='-'). The keyword argument will take precedence.\n",
      "/Users/gbrammer/miniconda3/envs/grizli37/lib/python3.7/site-packages/ipykernel_launcher.py:47: UserWarning: linestyle is redundantly defined by the 'linestyle' keyword argument and the fmt string \"s-\" (-> linestyle='-'). The keyword argument will take precedence.\n",
      "/Users/gbrammer/miniconda3/envs/grizli37/lib/python3.7/site-packages/ipykernel_launcher.py:47: UserWarning: linestyle is redundantly defined by the 'linestyle' keyword argument and the fmt string \"s-\" (-> linestyle='-'). The keyword argument will take precedence.\n",
      "/Users/gbrammer/miniconda3/envs/grizli37/lib/python3.7/site-packages/ipykernel_launcher.py:47: UserWarning: linestyle is redundantly defined by the 'linestyle' keyword argument and the fmt string \"s-\" (-> linestyle='-'). The keyword argument will take precedence.\n",
      "/Users/gbrammer/miniconda3/envs/grizli37/lib/python3.7/site-packages/ipykernel_launcher.py:47: UserWarning: linestyle is redundantly defined by the 'linestyle' keyword argument and the fmt string \"s-\" (-> linestyle='-'). The keyword argument will take precedence.\n",
      "/Users/gbrammer/miniconda3/envs/grizli37/lib/python3.7/site-packages/ipykernel_launcher.py:47: UserWarning: linestyle is redundantly defined by the 'linestyle' keyword argument and the fmt string \"s-\" (-> linestyle='-'). The keyword argument will take precedence.\n",
      "/Users/gbrammer/miniconda3/envs/grizli37/lib/python3.7/site-packages/ipykernel_launcher.py:47: UserWarning: linestyle is redundantly defined by the 'linestyle' keyword argument and the fmt string \"s-\" (-> linestyle='-'). The keyword argument will take precedence.\n",
      "/Users/gbrammer/miniconda3/envs/grizli37/lib/python3.7/site-packages/ipykernel_launcher.py:47: UserWarning: linestyle is redundantly defined by the 'linestyle' keyword argument and the fmt string \"s-\" (-> linestyle='-'). The keyword argument will take precedence.\n",
      "/Users/gbrammer/miniconda3/envs/grizli37/lib/python3.7/site-packages/ipykernel_launcher.py:47: UserWarning: linestyle is redundantly defined by the 'linestyle' keyword argument and the fmt string \"s-\" (-> linestyle='-'). The keyword argument will take precedence.\n",
      "/Users/gbrammer/miniconda3/envs/grizli37/lib/python3.7/site-packages/ipykernel_launcher.py:47: UserWarning: linestyle is redundantly defined by the 'linestyle' keyword argument and the fmt string \"s-\" (-> linestyle='-'). The keyword argument will take precedence.\n"
     ]
    },
    {
     "name": "stdout",
     "output_type": "stream",
     "text": [
      "208 1635\n"
     ]
    },
    {
     "name": "stderr",
     "output_type": "stream",
     "text": [
      "/Users/gbrammer/miniconda3/envs/grizli37/lib/python3.7/site-packages/ipykernel_launcher.py:47: UserWarning: linestyle is redundantly defined by the 'linestyle' keyword argument and the fmt string \"s-\" (-> linestyle='-'). The keyword argument will take precedence.\n",
      "/Users/gbrammer/miniconda3/envs/grizli37/lib/python3.7/site-packages/ipykernel_launcher.py:47: UserWarning: linestyle is redundantly defined by the 'linestyle' keyword argument and the fmt string \"s-\" (-> linestyle='-'). The keyword argument will take precedence.\n",
      "/Users/gbrammer/miniconda3/envs/grizli37/lib/python3.7/site-packages/ipykernel_launcher.py:47: UserWarning: linestyle is redundantly defined by the 'linestyle' keyword argument and the fmt string \"s-\" (-> linestyle='-'). The keyword argument will take precedence.\n",
      "/Users/gbrammer/miniconda3/envs/grizli37/lib/python3.7/site-packages/ipykernel_launcher.py:47: UserWarning: linestyle is redundantly defined by the 'linestyle' keyword argument and the fmt string \"s-\" (-> linestyle='-'). The keyword argument will take precedence.\n",
      "/Users/gbrammer/miniconda3/envs/grizli37/lib/python3.7/site-packages/ipykernel_launcher.py:47: UserWarning: linestyle is redundantly defined by the 'linestyle' keyword argument and the fmt string \"s-\" (-> linestyle='-'). The keyword argument will take precedence.\n",
      "/Users/gbrammer/miniconda3/envs/grizli37/lib/python3.7/site-packages/ipykernel_launcher.py:47: UserWarning: linestyle is redundantly defined by the 'linestyle' keyword argument and the fmt string \"s-\" (-> linestyle='-'). The keyword argument will take precedence.\n",
      "/Users/gbrammer/miniconda3/envs/grizli37/lib/python3.7/site-packages/ipykernel_launcher.py:47: UserWarning: linestyle is redundantly defined by the 'linestyle' keyword argument and the fmt string \"s-\" (-> linestyle='-'). The keyword argument will take precedence.\n",
      "/Users/gbrammer/miniconda3/envs/grizli37/lib/python3.7/site-packages/ipykernel_launcher.py:47: UserWarning: linestyle is redundantly defined by the 'linestyle' keyword argument and the fmt string \"s-\" (-> linestyle='-'). The keyword argument will take precedence.\n",
      "/Users/gbrammer/miniconda3/envs/grizli37/lib/python3.7/site-packages/ipykernel_launcher.py:47: UserWarning: linestyle is redundantly defined by the 'linestyle' keyword argument and the fmt string \"s-\" (-> linestyle='-'). The keyword argument will take precedence.\n",
      "/Users/gbrammer/miniconda3/envs/grizli37/lib/python3.7/site-packages/ipykernel_launcher.py:47: UserWarning: linestyle is redundantly defined by the 'linestyle' keyword argument and the fmt string \"s-\" (-> linestyle='-'). The keyword argument will take precedence.\n",
      "/Users/gbrammer/miniconda3/envs/grizli37/lib/python3.7/site-packages/ipykernel_launcher.py:47: UserWarning: linestyle is redundantly defined by the 'linestyle' keyword argument and the fmt string \"s-\" (-> linestyle='-'). The keyword argument will take precedence.\n"
     ]
    },
    {
     "name": "stdout",
     "output_type": "stream",
     "text": [
      "209 1657\n"
     ]
    },
    {
     "name": "stderr",
     "output_type": "stream",
     "text": [
      "/Users/gbrammer/miniconda3/envs/grizli37/lib/python3.7/site-packages/ipykernel_launcher.py:47: UserWarning: linestyle is redundantly defined by the 'linestyle' keyword argument and the fmt string \"s-\" (-> linestyle='-'). The keyword argument will take precedence.\n",
      "/Users/gbrammer/miniconda3/envs/grizli37/lib/python3.7/site-packages/ipykernel_launcher.py:47: UserWarning: linestyle is redundantly defined by the 'linestyle' keyword argument and the fmt string \"s-\" (-> linestyle='-'). The keyword argument will take precedence.\n",
      "/Users/gbrammer/miniconda3/envs/grizli37/lib/python3.7/site-packages/ipykernel_launcher.py:47: UserWarning: linestyle is redundantly defined by the 'linestyle' keyword argument and the fmt string \"s-\" (-> linestyle='-'). The keyword argument will take precedence.\n",
      "/Users/gbrammer/miniconda3/envs/grizli37/lib/python3.7/site-packages/ipykernel_launcher.py:47: UserWarning: linestyle is redundantly defined by the 'linestyle' keyword argument and the fmt string \"s-\" (-> linestyle='-'). The keyword argument will take precedence.\n",
      "/Users/gbrammer/miniconda3/envs/grizli37/lib/python3.7/site-packages/ipykernel_launcher.py:47: UserWarning: linestyle is redundantly defined by the 'linestyle' keyword argument and the fmt string \"s-\" (-> linestyle='-'). The keyword argument will take precedence.\n",
      "/Users/gbrammer/miniconda3/envs/grizli37/lib/python3.7/site-packages/ipykernel_launcher.py:47: UserWarning: linestyle is redundantly defined by the 'linestyle' keyword argument and the fmt string \"s-\" (-> linestyle='-'). The keyword argument will take precedence.\n",
      "/Users/gbrammer/miniconda3/envs/grizli37/lib/python3.7/site-packages/ipykernel_launcher.py:47: UserWarning: linestyle is redundantly defined by the 'linestyle' keyword argument and the fmt string \"s-\" (-> linestyle='-'). The keyword argument will take precedence.\n"
     ]
    },
    {
     "name": "stdout",
     "output_type": "stream",
     "text": [
      "210 1671\n"
     ]
    },
    {
     "name": "stderr",
     "output_type": "stream",
     "text": [
      "/Users/gbrammer/miniconda3/envs/grizli37/lib/python3.7/site-packages/ipykernel_launcher.py:47: UserWarning: linestyle is redundantly defined by the 'linestyle' keyword argument and the fmt string \"s-\" (-> linestyle='-'). The keyword argument will take precedence.\n"
     ]
    },
    {
     "name": "stdout",
     "output_type": "stream",
     "text": [
      "211 1701\n"
     ]
    },
    {
     "name": "stderr",
     "output_type": "stream",
     "text": [
      "/Users/gbrammer/miniconda3/envs/grizli37/lib/python3.7/site-packages/ipykernel_launcher.py:47: UserWarning: linestyle is redundantly defined by the 'linestyle' keyword argument and the fmt string \"s-\" (-> linestyle='-'). The keyword argument will take precedence.\n",
      "/Users/gbrammer/miniconda3/envs/grizli37/lib/python3.7/site-packages/ipykernel_launcher.py:47: UserWarning: linestyle is redundantly defined by the 'linestyle' keyword argument and the fmt string \"s-\" (-> linestyle='-'). The keyword argument will take precedence.\n",
      "/Users/gbrammer/miniconda3/envs/grizli37/lib/python3.7/site-packages/ipykernel_launcher.py:47: UserWarning: linestyle is redundantly defined by the 'linestyle' keyword argument and the fmt string \"s-\" (-> linestyle='-'). The keyword argument will take precedence.\n",
      "/Users/gbrammer/miniconda3/envs/grizli37/lib/python3.7/site-packages/ipykernel_launcher.py:47: UserWarning: linestyle is redundantly defined by the 'linestyle' keyword argument and the fmt string \"s-\" (-> linestyle='-'). The keyword argument will take precedence.\n",
      "/Users/gbrammer/miniconda3/envs/grizli37/lib/python3.7/site-packages/ipykernel_launcher.py:47: UserWarning: linestyle is redundantly defined by the 'linestyle' keyword argument and the fmt string \"s-\" (-> linestyle='-'). The keyword argument will take precedence.\n",
      "/Users/gbrammer/miniconda3/envs/grizli37/lib/python3.7/site-packages/ipykernel_launcher.py:47: UserWarning: linestyle is redundantly defined by the 'linestyle' keyword argument and the fmt string \"s-\" (-> linestyle='-'). The keyword argument will take precedence.\n",
      "/Users/gbrammer/miniconda3/envs/grizli37/lib/python3.7/site-packages/ipykernel_launcher.py:47: UserWarning: linestyle is redundantly defined by the 'linestyle' keyword argument and the fmt string \"s-\" (-> linestyle='-'). The keyword argument will take precedence.\n",
      "/Users/gbrammer/miniconda3/envs/grizli37/lib/python3.7/site-packages/ipykernel_launcher.py:47: UserWarning: linestyle is redundantly defined by the 'linestyle' keyword argument and the fmt string \"s-\" (-> linestyle='-'). The keyword argument will take precedence.\n",
      "/Users/gbrammer/miniconda3/envs/grizli37/lib/python3.7/site-packages/ipykernel_launcher.py:47: UserWarning: linestyle is redundantly defined by the 'linestyle' keyword argument and the fmt string \"s-\" (-> linestyle='-'). The keyword argument will take precedence.\n",
      "/Users/gbrammer/miniconda3/envs/grizli37/lib/python3.7/site-packages/ipykernel_launcher.py:47: UserWarning: linestyle is redundantly defined by the 'linestyle' keyword argument and the fmt string \"s-\" (-> linestyle='-'). The keyword argument will take precedence.\n",
      "/Users/gbrammer/miniconda3/envs/grizli37/lib/python3.7/site-packages/ipykernel_launcher.py:47: UserWarning: linestyle is redundantly defined by the 'linestyle' keyword argument and the fmt string \"s-\" (-> linestyle='-'). The keyword argument will take precedence.\n",
      "/Users/gbrammer/miniconda3/envs/grizli37/lib/python3.7/site-packages/ipykernel_launcher.py:47: UserWarning: linestyle is redundantly defined by the 'linestyle' keyword argument and the fmt string \"s-\" (-> linestyle='-'). The keyword argument will take precedence.\n",
      "/Users/gbrammer/miniconda3/envs/grizli37/lib/python3.7/site-packages/ipykernel_launcher.py:47: UserWarning: linestyle is redundantly defined by the 'linestyle' keyword argument and the fmt string \"s-\" (-> linestyle='-'). The keyword argument will take precedence.\n",
      "/Users/gbrammer/miniconda3/envs/grizli37/lib/python3.7/site-packages/ipykernel_launcher.py:47: UserWarning: linestyle is redundantly defined by the 'linestyle' keyword argument and the fmt string \"s-\" (-> linestyle='-'). The keyword argument will take precedence.\n",
      "/Users/gbrammer/miniconda3/envs/grizli37/lib/python3.7/site-packages/ipykernel_launcher.py:47: UserWarning: linestyle is redundantly defined by the 'linestyle' keyword argument and the fmt string \"s-\" (-> linestyle='-'). The keyword argument will take precedence.\n",
      "/Users/gbrammer/miniconda3/envs/grizli37/lib/python3.7/site-packages/ipykernel_launcher.py:47: UserWarning: linestyle is redundantly defined by the 'linestyle' keyword argument and the fmt string \"s-\" (-> linestyle='-'). The keyword argument will take precedence.\n",
      "/Users/gbrammer/miniconda3/envs/grizli37/lib/python3.7/site-packages/ipykernel_launcher.py:47: UserWarning: linestyle is redundantly defined by the 'linestyle' keyword argument and the fmt string \"s-\" (-> linestyle='-'). The keyword argument will take precedence.\n",
      "/Users/gbrammer/miniconda3/envs/grizli37/lib/python3.7/site-packages/ipykernel_launcher.py:47: UserWarning: linestyle is redundantly defined by the 'linestyle' keyword argument and the fmt string \"s-\" (-> linestyle='-'). The keyword argument will take precedence.\n",
      "/Users/gbrammer/miniconda3/envs/grizli37/lib/python3.7/site-packages/ipykernel_launcher.py:47: UserWarning: linestyle is redundantly defined by the 'linestyle' keyword argument and the fmt string \"s-\" (-> linestyle='-'). The keyword argument will take precedence.\n",
      "/Users/gbrammer/miniconda3/envs/grizli37/lib/python3.7/site-packages/ipykernel_launcher.py:47: UserWarning: linestyle is redundantly defined by the 'linestyle' keyword argument and the fmt string \"s-\" (-> linestyle='-'). The keyword argument will take precedence.\n",
      "/Users/gbrammer/miniconda3/envs/grizli37/lib/python3.7/site-packages/ipykernel_launcher.py:47: UserWarning: linestyle is redundantly defined by the 'linestyle' keyword argument and the fmt string \"s-\" (-> linestyle='-'). The keyword argument will take precedence.\n",
      "/Users/gbrammer/miniconda3/envs/grizli37/lib/python3.7/site-packages/ipykernel_launcher.py:47: UserWarning: linestyle is redundantly defined by the 'linestyle' keyword argument and the fmt string \"s-\" (-> linestyle='-'). The keyword argument will take precedence.\n",
      "/Users/gbrammer/miniconda3/envs/grizli37/lib/python3.7/site-packages/ipykernel_launcher.py:47: UserWarning: linestyle is redundantly defined by the 'linestyle' keyword argument and the fmt string \"s-\" (-> linestyle='-'). The keyword argument will take precedence.\n",
      "/Users/gbrammer/miniconda3/envs/grizli37/lib/python3.7/site-packages/ipykernel_launcher.py:47: UserWarning: linestyle is redundantly defined by the 'linestyle' keyword argument and the fmt string \"s-\" (-> linestyle='-'). The keyword argument will take precedence.\n",
      "/Users/gbrammer/miniconda3/envs/grizli37/lib/python3.7/site-packages/ipykernel_launcher.py:47: UserWarning: linestyle is redundantly defined by the 'linestyle' keyword argument and the fmt string \"s-\" (-> linestyle='-'). The keyword argument will take precedence.\n",
      "/Users/gbrammer/miniconda3/envs/grizli37/lib/python3.7/site-packages/ipykernel_launcher.py:47: UserWarning: linestyle is redundantly defined by the 'linestyle' keyword argument and the fmt string \"s-\" (-> linestyle='-'). The keyword argument will take precedence.\n",
      "/Users/gbrammer/miniconda3/envs/grizli37/lib/python3.7/site-packages/ipykernel_launcher.py:47: UserWarning: linestyle is redundantly defined by the 'linestyle' keyword argument and the fmt string \"s-\" (-> linestyle='-'). The keyword argument will take precedence.\n",
      "/Users/gbrammer/miniconda3/envs/grizli37/lib/python3.7/site-packages/ipykernel_launcher.py:47: UserWarning: linestyle is redundantly defined by the 'linestyle' keyword argument and the fmt string \"s-\" (-> linestyle='-'). The keyword argument will take precedence.\n",
      "/Users/gbrammer/miniconda3/envs/grizli37/lib/python3.7/site-packages/ipykernel_launcher.py:47: UserWarning: linestyle is redundantly defined by the 'linestyle' keyword argument and the fmt string \"s-\" (-> linestyle='-'). The keyword argument will take precedence.\n",
      "/Users/gbrammer/miniconda3/envs/grizli37/lib/python3.7/site-packages/ipykernel_launcher.py:47: UserWarning: linestyle is redundantly defined by the 'linestyle' keyword argument and the fmt string \"s-\" (-> linestyle='-'). The keyword argument will take precedence.\n",
      "/Users/gbrammer/miniconda3/envs/grizli37/lib/python3.7/site-packages/ipykernel_launcher.py:47: UserWarning: linestyle is redundantly defined by the 'linestyle' keyword argument and the fmt string \"s-\" (-> linestyle='-'). The keyword argument will take precedence.\n",
      "/Users/gbrammer/miniconda3/envs/grizli37/lib/python3.7/site-packages/ipykernel_launcher.py:47: UserWarning: linestyle is redundantly defined by the 'linestyle' keyword argument and the fmt string \"s-\" (-> linestyle='-'). The keyword argument will take precedence.\n",
      "/Users/gbrammer/miniconda3/envs/grizli37/lib/python3.7/site-packages/ipykernel_launcher.py:47: UserWarning: linestyle is redundantly defined by the 'linestyle' keyword argument and the fmt string \"s-\" (-> linestyle='-'). The keyword argument will take precedence.\n",
      "/Users/gbrammer/miniconda3/envs/grizli37/lib/python3.7/site-packages/ipykernel_launcher.py:47: UserWarning: linestyle is redundantly defined by the 'linestyle' keyword argument and the fmt string \"s-\" (-> linestyle='-'). The keyword argument will take precedence.\n"
     ]
    },
    {
     "name": "stderr",
     "output_type": "stream",
     "text": [
      "/Users/gbrammer/miniconda3/envs/grizli37/lib/python3.7/site-packages/ipykernel_launcher.py:47: UserWarning: linestyle is redundantly defined by the 'linestyle' keyword argument and the fmt string \"s-\" (-> linestyle='-'). The keyword argument will take precedence.\n",
      "/Users/gbrammer/miniconda3/envs/grizli37/lib/python3.7/site-packages/ipykernel_launcher.py:47: UserWarning: linestyle is redundantly defined by the 'linestyle' keyword argument and the fmt string \"s-\" (-> linestyle='-'). The keyword argument will take precedence.\n",
      "/Users/gbrammer/miniconda3/envs/grizli37/lib/python3.7/site-packages/ipykernel_launcher.py:47: UserWarning: linestyle is redundantly defined by the 'linestyle' keyword argument and the fmt string \"s-\" (-> linestyle='-'). The keyword argument will take precedence.\n"
     ]
    },
    {
     "name": "stdout",
     "output_type": "stream",
     "text": [
      "212 1712\n"
     ]
    },
    {
     "name": "stderr",
     "output_type": "stream",
     "text": [
      "/Users/gbrammer/miniconda3/envs/grizli37/lib/python3.7/site-packages/ipykernel_launcher.py:47: UserWarning: linestyle is redundantly defined by the 'linestyle' keyword argument and the fmt string \"s-\" (-> linestyle='-'). The keyword argument will take precedence.\n",
      "/Users/gbrammer/miniconda3/envs/grizli37/lib/python3.7/site-packages/ipykernel_launcher.py:47: UserWarning: linestyle is redundantly defined by the 'linestyle' keyword argument and the fmt string \"s-\" (-> linestyle='-'). The keyword argument will take precedence.\n",
      "/Users/gbrammer/miniconda3/envs/grizli37/lib/python3.7/site-packages/ipykernel_launcher.py:47: UserWarning: linestyle is redundantly defined by the 'linestyle' keyword argument and the fmt string \"s-\" (-> linestyle='-'). The keyword argument will take precedence.\n"
     ]
    },
    {
     "name": "stdout",
     "output_type": "stream",
     "text": [
      "213 1721\n",
      "Fail\n",
      "214 1740\n"
     ]
    },
    {
     "name": "stderr",
     "output_type": "stream",
     "text": [
      "/Users/gbrammer/miniconda3/envs/grizli37/lib/python3.7/site-packages/ipykernel_launcher.py:47: UserWarning: linestyle is redundantly defined by the 'linestyle' keyword argument and the fmt string \"s-\" (-> linestyle='-'). The keyword argument will take precedence.\n",
      "/Users/gbrammer/miniconda3/envs/grizli37/lib/python3.7/site-packages/ipykernel_launcher.py:47: UserWarning: linestyle is redundantly defined by the 'linestyle' keyword argument and the fmt string \"s-\" (-> linestyle='-'). The keyword argument will take precedence.\n",
      "/Users/gbrammer/miniconda3/envs/grizli37/lib/python3.7/site-packages/ipykernel_launcher.py:47: UserWarning: linestyle is redundantly defined by the 'linestyle' keyword argument and the fmt string \"s-\" (-> linestyle='-'). The keyword argument will take precedence.\n"
     ]
    },
    {
     "name": "stdout",
     "output_type": "stream",
     "text": [
      "215 1747\n"
     ]
    },
    {
     "name": "stderr",
     "output_type": "stream",
     "text": [
      "/Users/gbrammer/miniconda3/envs/grizli37/lib/python3.7/site-packages/ipykernel_launcher.py:47: UserWarning: linestyle is redundantly defined by the 'linestyle' keyword argument and the fmt string \"s-\" (-> linestyle='-'). The keyword argument will take precedence.\n",
      "/Users/gbrammer/miniconda3/envs/grizli37/lib/python3.7/site-packages/ipykernel_launcher.py:47: UserWarning: linestyle is redundantly defined by the 'linestyle' keyword argument and the fmt string \"s-\" (-> linestyle='-'). The keyword argument will take precedence.\n",
      "/Users/gbrammer/miniconda3/envs/grizli37/lib/python3.7/site-packages/ipykernel_launcher.py:47: UserWarning: linestyle is redundantly defined by the 'linestyle' keyword argument and the fmt string \"s-\" (-> linestyle='-'). The keyword argument will take precedence.\n",
      "/Users/gbrammer/miniconda3/envs/grizli37/lib/python3.7/site-packages/ipykernel_launcher.py:47: UserWarning: linestyle is redundantly defined by the 'linestyle' keyword argument and the fmt string \"s-\" (-> linestyle='-'). The keyword argument will take precedence.\n",
      "/Users/gbrammer/miniconda3/envs/grizli37/lib/python3.7/site-packages/ipykernel_launcher.py:47: UserWarning: linestyle is redundantly defined by the 'linestyle' keyword argument and the fmt string \"s-\" (-> linestyle='-'). The keyword argument will take precedence.\n",
      "/Users/gbrammer/miniconda3/envs/grizli37/lib/python3.7/site-packages/ipykernel_launcher.py:47: UserWarning: linestyle is redundantly defined by the 'linestyle' keyword argument and the fmt string \"s-\" (-> linestyle='-'). The keyword argument will take precedence.\n",
      "/Users/gbrammer/miniconda3/envs/grizli37/lib/python3.7/site-packages/ipykernel_launcher.py:47: UserWarning: linestyle is redundantly defined by the 'linestyle' keyword argument and the fmt string \"s-\" (-> linestyle='-'). The keyword argument will take precedence.\n",
      "/Users/gbrammer/miniconda3/envs/grizli37/lib/python3.7/site-packages/ipykernel_launcher.py:47: UserWarning: linestyle is redundantly defined by the 'linestyle' keyword argument and the fmt string \"s-\" (-> linestyle='-'). The keyword argument will take precedence.\n",
      "/Users/gbrammer/miniconda3/envs/grizli37/lib/python3.7/site-packages/ipykernel_launcher.py:47: UserWarning: linestyle is redundantly defined by the 'linestyle' keyword argument and the fmt string \"s-\" (-> linestyle='-'). The keyword argument will take precedence.\n",
      "/Users/gbrammer/miniconda3/envs/grizli37/lib/python3.7/site-packages/ipykernel_launcher.py:47: UserWarning: linestyle is redundantly defined by the 'linestyle' keyword argument and the fmt string \"s-\" (-> linestyle='-'). The keyword argument will take precedence.\n"
     ]
    },
    {
     "name": "stdout",
     "output_type": "stream",
     "text": [
      "216 1758\n"
     ]
    },
    {
     "name": "stderr",
     "output_type": "stream",
     "text": [
      "/Users/gbrammer/miniconda3/envs/grizli37/lib/python3.7/site-packages/ipykernel_launcher.py:47: UserWarning: linestyle is redundantly defined by the 'linestyle' keyword argument and the fmt string \"s-\" (-> linestyle='-'). The keyword argument will take precedence.\n"
     ]
    },
    {
     "name": "stdout",
     "output_type": "stream",
     "text": [
      "217 1762\n"
     ]
    },
    {
     "name": "stderr",
     "output_type": "stream",
     "text": [
      "/Users/gbrammer/miniconda3/envs/grizli37/lib/python3.7/site-packages/ipykernel_launcher.py:47: UserWarning: linestyle is redundantly defined by the 'linestyle' keyword argument and the fmt string \"s-\" (-> linestyle='-'). The keyword argument will take precedence.\n",
      "/Users/gbrammer/miniconda3/envs/grizli37/lib/python3.7/site-packages/ipykernel_launcher.py:47: UserWarning: linestyle is redundantly defined by the 'linestyle' keyword argument and the fmt string \"s-\" (-> linestyle='-'). The keyword argument will take precedence.\n",
      "/Users/gbrammer/miniconda3/envs/grizli37/lib/python3.7/site-packages/ipykernel_launcher.py:47: UserWarning: linestyle is redundantly defined by the 'linestyle' keyword argument and the fmt string \"s-\" (-> linestyle='-'). The keyword argument will take precedence.\n",
      "/Users/gbrammer/miniconda3/envs/grizli37/lib/python3.7/site-packages/ipykernel_launcher.py:47: UserWarning: linestyle is redundantly defined by the 'linestyle' keyword argument and the fmt string \"s-\" (-> linestyle='-'). The keyword argument will take precedence.\n",
      "/Users/gbrammer/miniconda3/envs/grizli37/lib/python3.7/site-packages/ipykernel_launcher.py:47: UserWarning: linestyle is redundantly defined by the 'linestyle' keyword argument and the fmt string \"s-\" (-> linestyle='-'). The keyword argument will take precedence.\n",
      "/Users/gbrammer/miniconda3/envs/grizli37/lib/python3.7/site-packages/ipykernel_launcher.py:47: UserWarning: linestyle is redundantly defined by the 'linestyle' keyword argument and the fmt string \"s-\" (-> linestyle='-'). The keyword argument will take precedence.\n",
      "/Users/gbrammer/miniconda3/envs/grizli37/lib/python3.7/site-packages/ipykernel_launcher.py:47: UserWarning: linestyle is redundantly defined by the 'linestyle' keyword argument and the fmt string \"s-\" (-> linestyle='-'). The keyword argument will take precedence.\n",
      "/Users/gbrammer/miniconda3/envs/grizli37/lib/python3.7/site-packages/ipykernel_launcher.py:47: UserWarning: linestyle is redundantly defined by the 'linestyle' keyword argument and the fmt string \"s-\" (-> linestyle='-'). The keyword argument will take precedence.\n"
     ]
    },
    {
     "name": "stdout",
     "output_type": "stream",
     "text": [
      "218 1783\n"
     ]
    },
    {
     "name": "stderr",
     "output_type": "stream",
     "text": [
      "/Users/gbrammer/miniconda3/envs/grizli37/lib/python3.7/site-packages/ipykernel_launcher.py:47: UserWarning: linestyle is redundantly defined by the 'linestyle' keyword argument and the fmt string \"s-\" (-> linestyle='-'). The keyword argument will take precedence.\n",
      "/Users/gbrammer/miniconda3/envs/grizli37/lib/python3.7/site-packages/ipykernel_launcher.py:47: UserWarning: linestyle is redundantly defined by the 'linestyle' keyword argument and the fmt string \"s-\" (-> linestyle='-'). The keyword argument will take precedence.\n",
      "/Users/gbrammer/miniconda3/envs/grizli37/lib/python3.7/site-packages/ipykernel_launcher.py:47: UserWarning: linestyle is redundantly defined by the 'linestyle' keyword argument and the fmt string \"s-\" (-> linestyle='-'). The keyword argument will take precedence.\n",
      "/Users/gbrammer/miniconda3/envs/grizli37/lib/python3.7/site-packages/ipykernel_launcher.py:47: UserWarning: linestyle is redundantly defined by the 'linestyle' keyword argument and the fmt string \"s-\" (-> linestyle='-'). The keyword argument will take precedence.\n",
      "/Users/gbrammer/miniconda3/envs/grizli37/lib/python3.7/site-packages/ipykernel_launcher.py:47: UserWarning: linestyle is redundantly defined by the 'linestyle' keyword argument and the fmt string \"s-\" (-> linestyle='-'). The keyword argument will take precedence.\n",
      "/Users/gbrammer/miniconda3/envs/grizli37/lib/python3.7/site-packages/ipykernel_launcher.py:47: UserWarning: linestyle is redundantly defined by the 'linestyle' keyword argument and the fmt string \"s-\" (-> linestyle='-'). The keyword argument will take precedence.\n",
      "/Users/gbrammer/miniconda3/envs/grizli37/lib/python3.7/site-packages/ipykernel_launcher.py:47: UserWarning: linestyle is redundantly defined by the 'linestyle' keyword argument and the fmt string \"s-\" (-> linestyle='-'). The keyword argument will take precedence.\n",
      "/Users/gbrammer/miniconda3/envs/grizli37/lib/python3.7/site-packages/ipykernel_launcher.py:47: UserWarning: linestyle is redundantly defined by the 'linestyle' keyword argument and the fmt string \"s-\" (-> linestyle='-'). The keyword argument will take precedence.\n",
      "/Users/gbrammer/miniconda3/envs/grizli37/lib/python3.7/site-packages/ipykernel_launcher.py:47: UserWarning: linestyle is redundantly defined by the 'linestyle' keyword argument and the fmt string \"s-\" (-> linestyle='-'). The keyword argument will take precedence.\n",
      "/Users/gbrammer/miniconda3/envs/grizli37/lib/python3.7/site-packages/ipykernel_launcher.py:47: UserWarning: linestyle is redundantly defined by the 'linestyle' keyword argument and the fmt string \"s-\" (-> linestyle='-'). The keyword argument will take precedence.\n",
      "/Users/gbrammer/miniconda3/envs/grizli37/lib/python3.7/site-packages/ipykernel_launcher.py:47: UserWarning: linestyle is redundantly defined by the 'linestyle' keyword argument and the fmt string \"s-\" (-> linestyle='-'). The keyword argument will take precedence.\n",
      "/Users/gbrammer/miniconda3/envs/grizli37/lib/python3.7/site-packages/ipykernel_launcher.py:47: UserWarning: linestyle is redundantly defined by the 'linestyle' keyword argument and the fmt string \"s-\" (-> linestyle='-'). The keyword argument will take precedence.\n",
      "/Users/gbrammer/miniconda3/envs/grizli37/lib/python3.7/site-packages/ipykernel_launcher.py:47: UserWarning: linestyle is redundantly defined by the 'linestyle' keyword argument and the fmt string \"s-\" (-> linestyle='-'). The keyword argument will take precedence.\n",
      "/Users/gbrammer/miniconda3/envs/grizli37/lib/python3.7/site-packages/ipykernel_launcher.py:47: UserWarning: linestyle is redundantly defined by the 'linestyle' keyword argument and the fmt string \"s-\" (-> linestyle='-'). The keyword argument will take precedence.\n",
      "/Users/gbrammer/miniconda3/envs/grizli37/lib/python3.7/site-packages/ipykernel_launcher.py:47: UserWarning: linestyle is redundantly defined by the 'linestyle' keyword argument and the fmt string \"s-\" (-> linestyle='-'). The keyword argument will take precedence.\n",
      "/Users/gbrammer/miniconda3/envs/grizli37/lib/python3.7/site-packages/ipykernel_launcher.py:47: UserWarning: linestyle is redundantly defined by the 'linestyle' keyword argument and the fmt string \"s-\" (-> linestyle='-'). The keyword argument will take precedence.\n",
      "/Users/gbrammer/miniconda3/envs/grizli37/lib/python3.7/site-packages/ipykernel_launcher.py:47: UserWarning: linestyle is redundantly defined by the 'linestyle' keyword argument and the fmt string \"s-\" (-> linestyle='-'). The keyword argument will take precedence.\n",
      "/Users/gbrammer/miniconda3/envs/grizli37/lib/python3.7/site-packages/ipykernel_launcher.py:47: UserWarning: linestyle is redundantly defined by the 'linestyle' keyword argument and the fmt string \"s-\" (-> linestyle='-'). The keyword argument will take precedence.\n",
      "/Users/gbrammer/miniconda3/envs/grizli37/lib/python3.7/site-packages/ipykernel_launcher.py:47: UserWarning: linestyle is redundantly defined by the 'linestyle' keyword argument and the fmt string \"s-\" (-> linestyle='-'). The keyword argument will take precedence.\n",
      "/Users/gbrammer/miniconda3/envs/grizli37/lib/python3.7/site-packages/ipykernel_launcher.py:47: UserWarning: linestyle is redundantly defined by the 'linestyle' keyword argument and the fmt string \"s-\" (-> linestyle='-'). The keyword argument will take precedence.\n",
      "/Users/gbrammer/miniconda3/envs/grizli37/lib/python3.7/site-packages/ipykernel_launcher.py:47: UserWarning: linestyle is redundantly defined by the 'linestyle' keyword argument and the fmt string \"s-\" (-> linestyle='-'). The keyword argument will take precedence.\n",
      "/Users/gbrammer/miniconda3/envs/grizli37/lib/python3.7/site-packages/ipykernel_launcher.py:47: UserWarning: linestyle is redundantly defined by the 'linestyle' keyword argument and the fmt string \"s-\" (-> linestyle='-'). The keyword argument will take precedence.\n",
      "/Users/gbrammer/miniconda3/envs/grizli37/lib/python3.7/site-packages/ipykernel_launcher.py:47: UserWarning: linestyle is redundantly defined by the 'linestyle' keyword argument and the fmt string \"s-\" (-> linestyle='-'). The keyword argument will take precedence.\n",
      "/Users/gbrammer/miniconda3/envs/grizli37/lib/python3.7/site-packages/ipykernel_launcher.py:47: UserWarning: linestyle is redundantly defined by the 'linestyle' keyword argument and the fmt string \"s-\" (-> linestyle='-'). The keyword argument will take precedence.\n",
      "/Users/gbrammer/miniconda3/envs/grizli37/lib/python3.7/site-packages/ipykernel_launcher.py:47: UserWarning: linestyle is redundantly defined by the 'linestyle' keyword argument and the fmt string \"s-\" (-> linestyle='-'). The keyword argument will take precedence.\n",
      "/Users/gbrammer/miniconda3/envs/grizli37/lib/python3.7/site-packages/ipykernel_launcher.py:47: UserWarning: linestyle is redundantly defined by the 'linestyle' keyword argument and the fmt string \"s-\" (-> linestyle='-'). The keyword argument will take precedence.\n",
      "/Users/gbrammer/miniconda3/envs/grizli37/lib/python3.7/site-packages/ipykernel_launcher.py:47: UserWarning: linestyle is redundantly defined by the 'linestyle' keyword argument and the fmt string \"s-\" (-> linestyle='-'). The keyword argument will take precedence.\n",
      "/Users/gbrammer/miniconda3/envs/grizli37/lib/python3.7/site-packages/ipykernel_launcher.py:47: UserWarning: linestyle is redundantly defined by the 'linestyle' keyword argument and the fmt string \"s-\" (-> linestyle='-'). The keyword argument will take precedence.\n",
      "/Users/gbrammer/miniconda3/envs/grizli37/lib/python3.7/site-packages/ipykernel_launcher.py:47: UserWarning: linestyle is redundantly defined by the 'linestyle' keyword argument and the fmt string \"s-\" (-> linestyle='-'). The keyword argument will take precedence.\n",
      "/Users/gbrammer/miniconda3/envs/grizli37/lib/python3.7/site-packages/ipykernel_launcher.py:47: UserWarning: linestyle is redundantly defined by the 'linestyle' keyword argument and the fmt string \"s-\" (-> linestyle='-'). The keyword argument will take precedence.\n",
      "/Users/gbrammer/miniconda3/envs/grizli37/lib/python3.7/site-packages/ipykernel_launcher.py:47: UserWarning: linestyle is redundantly defined by the 'linestyle' keyword argument and the fmt string \"s-\" (-> linestyle='-'). The keyword argument will take precedence.\n",
      "/Users/gbrammer/miniconda3/envs/grizli37/lib/python3.7/site-packages/ipykernel_launcher.py:47: UserWarning: linestyle is redundantly defined by the 'linestyle' keyword argument and the fmt string \"s-\" (-> linestyle='-'). The keyword argument will take precedence.\n",
      "/Users/gbrammer/miniconda3/envs/grizli37/lib/python3.7/site-packages/ipykernel_launcher.py:47: UserWarning: linestyle is redundantly defined by the 'linestyle' keyword argument and the fmt string \"s-\" (-> linestyle='-'). The keyword argument will take precedence.\n",
      "/Users/gbrammer/miniconda3/envs/grizli37/lib/python3.7/site-packages/ipykernel_launcher.py:47: UserWarning: linestyle is redundantly defined by the 'linestyle' keyword argument and the fmt string \"s-\" (-> linestyle='-'). The keyword argument will take precedence.\n",
      "/Users/gbrammer/miniconda3/envs/grizli37/lib/python3.7/site-packages/ipykernel_launcher.py:47: UserWarning: linestyle is redundantly defined by the 'linestyle' keyword argument and the fmt string \"s-\" (-> linestyle='-'). The keyword argument will take precedence.\n"
     ]
    },
    {
     "name": "stderr",
     "output_type": "stream",
     "text": [
      "/Users/gbrammer/miniconda3/envs/grizli37/lib/python3.7/site-packages/ipykernel_launcher.py:47: UserWarning: linestyle is redundantly defined by the 'linestyle' keyword argument and the fmt string \"s-\" (-> linestyle='-'). The keyword argument will take precedence.\n",
      "/Users/gbrammer/miniconda3/envs/grizli37/lib/python3.7/site-packages/ipykernel_launcher.py:47: UserWarning: linestyle is redundantly defined by the 'linestyle' keyword argument and the fmt string \"s-\" (-> linestyle='-'). The keyword argument will take precedence.\n",
      "/Users/gbrammer/miniconda3/envs/grizli37/lib/python3.7/site-packages/ipykernel_launcher.py:47: UserWarning: linestyle is redundantly defined by the 'linestyle' keyword argument and the fmt string \"s-\" (-> linestyle='-'). The keyword argument will take precedence.\n",
      "/Users/gbrammer/miniconda3/envs/grizli37/lib/python3.7/site-packages/ipykernel_launcher.py:47: UserWarning: linestyle is redundantly defined by the 'linestyle' keyword argument and the fmt string \"s-\" (-> linestyle='-'). The keyword argument will take precedence.\n",
      "/Users/gbrammer/miniconda3/envs/grizli37/lib/python3.7/site-packages/ipykernel_launcher.py:47: UserWarning: linestyle is redundantly defined by the 'linestyle' keyword argument and the fmt string \"s-\" (-> linestyle='-'). The keyword argument will take precedence.\n",
      "/Users/gbrammer/miniconda3/envs/grizli37/lib/python3.7/site-packages/ipykernel_launcher.py:47: UserWarning: linestyle is redundantly defined by the 'linestyle' keyword argument and the fmt string \"s-\" (-> linestyle='-'). The keyword argument will take precedence.\n",
      "/Users/gbrammer/miniconda3/envs/grizli37/lib/python3.7/site-packages/ipykernel_launcher.py:47: UserWarning: linestyle is redundantly defined by the 'linestyle' keyword argument and the fmt string \"s-\" (-> linestyle='-'). The keyword argument will take precedence.\n",
      "/Users/gbrammer/miniconda3/envs/grizli37/lib/python3.7/site-packages/ipykernel_launcher.py:47: UserWarning: linestyle is redundantly defined by the 'linestyle' keyword argument and the fmt string \"s-\" (-> linestyle='-'). The keyword argument will take precedence.\n",
      "/Users/gbrammer/miniconda3/envs/grizli37/lib/python3.7/site-packages/ipykernel_launcher.py:47: UserWarning: linestyle is redundantly defined by the 'linestyle' keyword argument and the fmt string \"s-\" (-> linestyle='-'). The keyword argument will take precedence.\n",
      "/Users/gbrammer/miniconda3/envs/grizli37/lib/python3.7/site-packages/ipykernel_launcher.py:47: UserWarning: linestyle is redundantly defined by the 'linestyle' keyword argument and the fmt string \"s-\" (-> linestyle='-'). The keyword argument will take precedence.\n",
      "/Users/gbrammer/miniconda3/envs/grizli37/lib/python3.7/site-packages/ipykernel_launcher.py:47: UserWarning: linestyle is redundantly defined by the 'linestyle' keyword argument and the fmt string \"s-\" (-> linestyle='-'). The keyword argument will take precedence.\n",
      "/Users/gbrammer/miniconda3/envs/grizli37/lib/python3.7/site-packages/ipykernel_launcher.py:47: UserWarning: linestyle is redundantly defined by the 'linestyle' keyword argument and the fmt string \"s-\" (-> linestyle='-'). The keyword argument will take precedence.\n",
      "/Users/gbrammer/miniconda3/envs/grizli37/lib/python3.7/site-packages/ipykernel_launcher.py:47: UserWarning: linestyle is redundantly defined by the 'linestyle' keyword argument and the fmt string \"s-\" (-> linestyle='-'). The keyword argument will take precedence.\n",
      "/Users/gbrammer/miniconda3/envs/grizli37/lib/python3.7/site-packages/ipykernel_launcher.py:47: UserWarning: linestyle is redundantly defined by the 'linestyle' keyword argument and the fmt string \"s-\" (-> linestyle='-'). The keyword argument will take precedence.\n",
      "/Users/gbrammer/miniconda3/envs/grizli37/lib/python3.7/site-packages/ipykernel_launcher.py:47: UserWarning: linestyle is redundantly defined by the 'linestyle' keyword argument and the fmt string \"s-\" (-> linestyle='-'). The keyword argument will take precedence.\n",
      "/Users/gbrammer/miniconda3/envs/grizli37/lib/python3.7/site-packages/ipykernel_launcher.py:47: UserWarning: linestyle is redundantly defined by the 'linestyle' keyword argument and the fmt string \"s-\" (-> linestyle='-'). The keyword argument will take precedence.\n",
      "/Users/gbrammer/miniconda3/envs/grizli37/lib/python3.7/site-packages/ipykernel_launcher.py:47: UserWarning: linestyle is redundantly defined by the 'linestyle' keyword argument and the fmt string \"s-\" (-> linestyle='-'). The keyword argument will take precedence.\n",
      "/Users/gbrammer/miniconda3/envs/grizli37/lib/python3.7/site-packages/ipykernel_launcher.py:47: UserWarning: linestyle is redundantly defined by the 'linestyle' keyword argument and the fmt string \"s-\" (-> linestyle='-'). The keyword argument will take precedence.\n",
      "/Users/gbrammer/miniconda3/envs/grizli37/lib/python3.7/site-packages/ipykernel_launcher.py:47: UserWarning: linestyle is redundantly defined by the 'linestyle' keyword argument and the fmt string \"s-\" (-> linestyle='-'). The keyword argument will take precedence.\n",
      "/Users/gbrammer/miniconda3/envs/grizli37/lib/python3.7/site-packages/ipykernel_launcher.py:47: UserWarning: linestyle is redundantly defined by the 'linestyle' keyword argument and the fmt string \"s-\" (-> linestyle='-'). The keyword argument will take precedence.\n",
      "/Users/gbrammer/miniconda3/envs/grizli37/lib/python3.7/site-packages/ipykernel_launcher.py:47: UserWarning: linestyle is redundantly defined by the 'linestyle' keyword argument and the fmt string \"s-\" (-> linestyle='-'). The keyword argument will take precedence.\n",
      "/Users/gbrammer/miniconda3/envs/grizli37/lib/python3.7/site-packages/ipykernel_launcher.py:47: UserWarning: linestyle is redundantly defined by the 'linestyle' keyword argument and the fmt string \"s-\" (-> linestyle='-'). The keyword argument will take precedence.\n",
      "/Users/gbrammer/miniconda3/envs/grizli37/lib/python3.7/site-packages/ipykernel_launcher.py:47: UserWarning: linestyle is redundantly defined by the 'linestyle' keyword argument and the fmt string \"s-\" (-> linestyle='-'). The keyword argument will take precedence.\n",
      "/Users/gbrammer/miniconda3/envs/grizli37/lib/python3.7/site-packages/ipykernel_launcher.py:47: UserWarning: linestyle is redundantly defined by the 'linestyle' keyword argument and the fmt string \"s-\" (-> linestyle='-'). The keyword argument will take precedence.\n",
      "/Users/gbrammer/miniconda3/envs/grizli37/lib/python3.7/site-packages/ipykernel_launcher.py:47: UserWarning: linestyle is redundantly defined by the 'linestyle' keyword argument and the fmt string \"s-\" (-> linestyle='-'). The keyword argument will take precedence.\n",
      "/Users/gbrammer/miniconda3/envs/grizli37/lib/python3.7/site-packages/ipykernel_launcher.py:47: UserWarning: linestyle is redundantly defined by the 'linestyle' keyword argument and the fmt string \"s-\" (-> linestyle='-'). The keyword argument will take precedence.\n"
     ]
    },
    {
     "name": "stdout",
     "output_type": "stream",
     "text": [
      "219 1791\n"
     ]
    },
    {
     "name": "stderr",
     "output_type": "stream",
     "text": [
      "/Users/gbrammer/miniconda3/envs/grizli37/lib/python3.7/site-packages/ipykernel_launcher.py:47: UserWarning: linestyle is redundantly defined by the 'linestyle' keyword argument and the fmt string \"s-\" (-> linestyle='-'). The keyword argument will take precedence.\n"
     ]
    },
    {
     "name": "stdout",
     "output_type": "stream",
     "text": [
      "220 1810\n"
     ]
    },
    {
     "name": "stderr",
     "output_type": "stream",
     "text": [
      "/Users/gbrammer/miniconda3/envs/grizli37/lib/python3.7/site-packages/ipykernel_launcher.py:47: UserWarning: linestyle is redundantly defined by the 'linestyle' keyword argument and the fmt string \"s-\" (-> linestyle='-'). The keyword argument will take precedence.\n",
      "/Users/gbrammer/miniconda3/envs/grizli37/lib/python3.7/site-packages/ipykernel_launcher.py:47: UserWarning: linestyle is redundantly defined by the 'linestyle' keyword argument and the fmt string \"s-\" (-> linestyle='-'). The keyword argument will take precedence.\n"
     ]
    },
    {
     "name": "stdout",
     "output_type": "stream",
     "text": [
      "221 1827\n"
     ]
    },
    {
     "name": "stderr",
     "output_type": "stream",
     "text": [
      "/Users/gbrammer/miniconda3/envs/grizli37/lib/python3.7/site-packages/ipykernel_launcher.py:47: UserWarning: linestyle is redundantly defined by the 'linestyle' keyword argument and the fmt string \"s-\" (-> linestyle='-'). The keyword argument will take precedence.\n",
      "/Users/gbrammer/miniconda3/envs/grizli37/lib/python3.7/site-packages/ipykernel_launcher.py:47: UserWarning: linestyle is redundantly defined by the 'linestyle' keyword argument and the fmt string \"s-\" (-> linestyle='-'). The keyword argument will take precedence.\n",
      "/Users/gbrammer/miniconda3/envs/grizli37/lib/python3.7/site-packages/ipykernel_launcher.py:47: UserWarning: linestyle is redundantly defined by the 'linestyle' keyword argument and the fmt string \"s-\" (-> linestyle='-'). The keyword argument will take precedence.\n"
     ]
    },
    {
     "name": "stdout",
     "output_type": "stream",
     "text": [
      "222 1837\n",
      "223 1840\n"
     ]
    },
    {
     "name": "stderr",
     "output_type": "stream",
     "text": [
      "/Users/gbrammer/miniconda3/envs/grizli37/lib/python3.7/site-packages/ipykernel_launcher.py:47: UserWarning: linestyle is redundantly defined by the 'linestyle' keyword argument and the fmt string \"s-\" (-> linestyle='-'). The keyword argument will take precedence.\n",
      "/Users/gbrammer/miniconda3/envs/grizli37/lib/python3.7/site-packages/ipykernel_launcher.py:47: UserWarning: linestyle is redundantly defined by the 'linestyle' keyword argument and the fmt string \"s-\" (-> linestyle='-'). The keyword argument will take precedence.\n",
      "/Users/gbrammer/miniconda3/envs/grizli37/lib/python3.7/site-packages/ipykernel_launcher.py:47: UserWarning: linestyle is redundantly defined by the 'linestyle' keyword argument and the fmt string \"s-\" (-> linestyle='-'). The keyword argument will take precedence.\n",
      "/Users/gbrammer/miniconda3/envs/grizli37/lib/python3.7/site-packages/ipykernel_launcher.py:47: UserWarning: linestyle is redundantly defined by the 'linestyle' keyword argument and the fmt string \"s-\" (-> linestyle='-'). The keyword argument will take precedence.\n",
      "/Users/gbrammer/miniconda3/envs/grizli37/lib/python3.7/site-packages/ipykernel_launcher.py:47: UserWarning: linestyle is redundantly defined by the 'linestyle' keyword argument and the fmt string \"s-\" (-> linestyle='-'). The keyword argument will take precedence.\n",
      "/Users/gbrammer/miniconda3/envs/grizli37/lib/python3.7/site-packages/ipykernel_launcher.py:47: UserWarning: linestyle is redundantly defined by the 'linestyle' keyword argument and the fmt string \"s-\" (-> linestyle='-'). The keyword argument will take precedence.\n",
      "/Users/gbrammer/miniconda3/envs/grizli37/lib/python3.7/site-packages/ipykernel_launcher.py:47: UserWarning: linestyle is redundantly defined by the 'linestyle' keyword argument and the fmt string \"s-\" (-> linestyle='-'). The keyword argument will take precedence.\n",
      "/Users/gbrammer/miniconda3/envs/grizli37/lib/python3.7/site-packages/ipykernel_launcher.py:47: UserWarning: linestyle is redundantly defined by the 'linestyle' keyword argument and the fmt string \"s-\" (-> linestyle='-'). The keyword argument will take precedence.\n",
      "/Users/gbrammer/miniconda3/envs/grizli37/lib/python3.7/site-packages/ipykernel_launcher.py:47: UserWarning: linestyle is redundantly defined by the 'linestyle' keyword argument and the fmt string \"s-\" (-> linestyle='-'). The keyword argument will take precedence.\n",
      "/Users/gbrammer/miniconda3/envs/grizli37/lib/python3.7/site-packages/ipykernel_launcher.py:47: UserWarning: linestyle is redundantly defined by the 'linestyle' keyword argument and the fmt string \"s-\" (-> linestyle='-'). The keyword argument will take precedence.\n",
      "/Users/gbrammer/miniconda3/envs/grizli37/lib/python3.7/site-packages/ipykernel_launcher.py:47: UserWarning: linestyle is redundantly defined by the 'linestyle' keyword argument and the fmt string \"s-\" (-> linestyle='-'). The keyword argument will take precedence.\n",
      "/Users/gbrammer/miniconda3/envs/grizli37/lib/python3.7/site-packages/ipykernel_launcher.py:47: UserWarning: linestyle is redundantly defined by the 'linestyle' keyword argument and the fmt string \"s-\" (-> linestyle='-'). The keyword argument will take precedence.\n",
      "/Users/gbrammer/miniconda3/envs/grizli37/lib/python3.7/site-packages/ipykernel_launcher.py:47: UserWarning: linestyle is redundantly defined by the 'linestyle' keyword argument and the fmt string \"s-\" (-> linestyle='-'). The keyword argument will take precedence.\n",
      "/Users/gbrammer/miniconda3/envs/grizli37/lib/python3.7/site-packages/ipykernel_launcher.py:47: UserWarning: linestyle is redundantly defined by the 'linestyle' keyword argument and the fmt string \"s-\" (-> linestyle='-'). The keyword argument will take precedence.\n",
      "/Users/gbrammer/miniconda3/envs/grizli37/lib/python3.7/site-packages/ipykernel_launcher.py:47: UserWarning: linestyle is redundantly defined by the 'linestyle' keyword argument and the fmt string \"s-\" (-> linestyle='-'). The keyword argument will take precedence.\n",
      "/Users/gbrammer/miniconda3/envs/grizli37/lib/python3.7/site-packages/ipykernel_launcher.py:47: UserWarning: linestyle is redundantly defined by the 'linestyle' keyword argument and the fmt string \"s-\" (-> linestyle='-'). The keyword argument will take precedence.\n",
      "/Users/gbrammer/miniconda3/envs/grizli37/lib/python3.7/site-packages/ipykernel_launcher.py:47: UserWarning: linestyle is redundantly defined by the 'linestyle' keyword argument and the fmt string \"s-\" (-> linestyle='-'). The keyword argument will take precedence.\n",
      "/Users/gbrammer/miniconda3/envs/grizli37/lib/python3.7/site-packages/ipykernel_launcher.py:47: UserWarning: linestyle is redundantly defined by the 'linestyle' keyword argument and the fmt string \"s-\" (-> linestyle='-'). The keyword argument will take precedence.\n",
      "/Users/gbrammer/miniconda3/envs/grizli37/lib/python3.7/site-packages/ipykernel_launcher.py:47: UserWarning: linestyle is redundantly defined by the 'linestyle' keyword argument and the fmt string \"s-\" (-> linestyle='-'). The keyword argument will take precedence.\n",
      "/Users/gbrammer/miniconda3/envs/grizli37/lib/python3.7/site-packages/ipykernel_launcher.py:47: UserWarning: linestyle is redundantly defined by the 'linestyle' keyword argument and the fmt string \"s-\" (-> linestyle='-'). The keyword argument will take precedence.\n"
     ]
    },
    {
     "name": "stdout",
     "output_type": "stream",
     "text": [
      "224 1864\n"
     ]
    },
    {
     "name": "stderr",
     "output_type": "stream",
     "text": [
      "/Users/gbrammer/miniconda3/envs/grizli37/lib/python3.7/site-packages/ipykernel_launcher.py:47: UserWarning: linestyle is redundantly defined by the 'linestyle' keyword argument and the fmt string \"s-\" (-> linestyle='-'). The keyword argument will take precedence.\n",
      "/Users/gbrammer/miniconda3/envs/grizli37/lib/python3.7/site-packages/ipykernel_launcher.py:47: UserWarning: linestyle is redundantly defined by the 'linestyle' keyword argument and the fmt string \"s-\" (-> linestyle='-'). The keyword argument will take precedence.\n",
      "/Users/gbrammer/miniconda3/envs/grizli37/lib/python3.7/site-packages/ipykernel_launcher.py:47: UserWarning: linestyle is redundantly defined by the 'linestyle' keyword argument and the fmt string \"s-\" (-> linestyle='-'). The keyword argument will take precedence.\n",
      "/Users/gbrammer/miniconda3/envs/grizli37/lib/python3.7/site-packages/ipykernel_launcher.py:47: UserWarning: linestyle is redundantly defined by the 'linestyle' keyword argument and the fmt string \"s-\" (-> linestyle='-'). The keyword argument will take precedence.\n",
      "/Users/gbrammer/miniconda3/envs/grizli37/lib/python3.7/site-packages/ipykernel_launcher.py:47: UserWarning: linestyle is redundantly defined by the 'linestyle' keyword argument and the fmt string \"s-\" (-> linestyle='-'). The keyword argument will take precedence.\n",
      "/Users/gbrammer/miniconda3/envs/grizli37/lib/python3.7/site-packages/ipykernel_launcher.py:47: UserWarning: linestyle is redundantly defined by the 'linestyle' keyword argument and the fmt string \"s-\" (-> linestyle='-'). The keyword argument will take precedence.\n",
      "/Users/gbrammer/miniconda3/envs/grizli37/lib/python3.7/site-packages/ipykernel_launcher.py:47: UserWarning: linestyle is redundantly defined by the 'linestyle' keyword argument and the fmt string \"s-\" (-> linestyle='-'). The keyword argument will take precedence.\n",
      "/Users/gbrammer/miniconda3/envs/grizli37/lib/python3.7/site-packages/ipykernel_launcher.py:47: UserWarning: linestyle is redundantly defined by the 'linestyle' keyword argument and the fmt string \"s-\" (-> linestyle='-'). The keyword argument will take precedence.\n"
     ]
    },
    {
     "name": "stdout",
     "output_type": "stream",
     "text": [
      "225 1865\n"
     ]
    },
    {
     "name": "stderr",
     "output_type": "stream",
     "text": [
      "/Users/gbrammer/miniconda3/envs/grizli37/lib/python3.7/site-packages/ipykernel_launcher.py:47: UserWarning: linestyle is redundantly defined by the 'linestyle' keyword argument and the fmt string \"s-\" (-> linestyle='-'). The keyword argument will take precedence.\n",
      "/Users/gbrammer/miniconda3/envs/grizli37/lib/python3.7/site-packages/ipykernel_launcher.py:47: UserWarning: linestyle is redundantly defined by the 'linestyle' keyword argument and the fmt string \"s-\" (-> linestyle='-'). The keyword argument will take precedence.\n"
     ]
    },
    {
     "name": "stdout",
     "output_type": "stream",
     "text": [
      "226 1869\n"
     ]
    },
    {
     "name": "stderr",
     "output_type": "stream",
     "text": [
      "/Users/gbrammer/miniconda3/envs/grizli37/lib/python3.7/site-packages/ipykernel_launcher.py:47: UserWarning: linestyle is redundantly defined by the 'linestyle' keyword argument and the fmt string \"s-\" (-> linestyle='-'). The keyword argument will take precedence.\n",
      "/Users/gbrammer/miniconda3/envs/grizli37/lib/python3.7/site-packages/ipykernel_launcher.py:47: UserWarning: linestyle is redundantly defined by the 'linestyle' keyword argument and the fmt string \"s-\" (-> linestyle='-'). The keyword argument will take precedence.\n",
      "/Users/gbrammer/miniconda3/envs/grizli37/lib/python3.7/site-packages/ipykernel_launcher.py:47: UserWarning: linestyle is redundantly defined by the 'linestyle' keyword argument and the fmt string \"s-\" (-> linestyle='-'). The keyword argument will take precedence.\n",
      "/Users/gbrammer/miniconda3/envs/grizli37/lib/python3.7/site-packages/ipykernel_launcher.py:47: UserWarning: linestyle is redundantly defined by the 'linestyle' keyword argument and the fmt string \"s-\" (-> linestyle='-'). The keyword argument will take precedence.\n",
      "/Users/gbrammer/miniconda3/envs/grizli37/lib/python3.7/site-packages/ipykernel_launcher.py:47: UserWarning: linestyle is redundantly defined by the 'linestyle' keyword argument and the fmt string \"s-\" (-> linestyle='-'). The keyword argument will take precedence.\n",
      "/Users/gbrammer/miniconda3/envs/grizli37/lib/python3.7/site-packages/ipykernel_launcher.py:47: UserWarning: linestyle is redundantly defined by the 'linestyle' keyword argument and the fmt string \"s-\" (-> linestyle='-'). The keyword argument will take precedence.\n",
      "/Users/gbrammer/miniconda3/envs/grizli37/lib/python3.7/site-packages/ipykernel_launcher.py:47: UserWarning: linestyle is redundantly defined by the 'linestyle' keyword argument and the fmt string \"s-\" (-> linestyle='-'). The keyword argument will take precedence.\n",
      "/Users/gbrammer/miniconda3/envs/grizli37/lib/python3.7/site-packages/ipykernel_launcher.py:47: UserWarning: linestyle is redundantly defined by the 'linestyle' keyword argument and the fmt string \"s-\" (-> linestyle='-'). The keyword argument will take precedence.\n",
      "/Users/gbrammer/miniconda3/envs/grizli37/lib/python3.7/site-packages/ipykernel_launcher.py:47: UserWarning: linestyle is redundantly defined by the 'linestyle' keyword argument and the fmt string \"s-\" (-> linestyle='-'). The keyword argument will take precedence.\n",
      "/Users/gbrammer/miniconda3/envs/grizli37/lib/python3.7/site-packages/ipykernel_launcher.py:47: UserWarning: linestyle is redundantly defined by the 'linestyle' keyword argument and the fmt string \"s-\" (-> linestyle='-'). The keyword argument will take precedence.\n",
      "/Users/gbrammer/miniconda3/envs/grizli37/lib/python3.7/site-packages/ipykernel_launcher.py:47: UserWarning: linestyle is redundantly defined by the 'linestyle' keyword argument and the fmt string \"s-\" (-> linestyle='-'). The keyword argument will take precedence.\n",
      "/Users/gbrammer/miniconda3/envs/grizli37/lib/python3.7/site-packages/ipykernel_launcher.py:47: UserWarning: linestyle is redundantly defined by the 'linestyle' keyword argument and the fmt string \"s-\" (-> linestyle='-'). The keyword argument will take precedence.\n",
      "/Users/gbrammer/miniconda3/envs/grizli37/lib/python3.7/site-packages/ipykernel_launcher.py:47: UserWarning: linestyle is redundantly defined by the 'linestyle' keyword argument and the fmt string \"s-\" (-> linestyle='-'). The keyword argument will take precedence.\n",
      "/Users/gbrammer/miniconda3/envs/grizli37/lib/python3.7/site-packages/ipykernel_launcher.py:47: UserWarning: linestyle is redundantly defined by the 'linestyle' keyword argument and the fmt string \"s-\" (-> linestyle='-'). The keyword argument will take precedence.\n",
      "/Users/gbrammer/miniconda3/envs/grizli37/lib/python3.7/site-packages/ipykernel_launcher.py:47: UserWarning: linestyle is redundantly defined by the 'linestyle' keyword argument and the fmt string \"s-\" (-> linestyle='-'). The keyword argument will take precedence.\n"
     ]
    },
    {
     "name": "stdout",
     "output_type": "stream",
     "text": [
      "227 1879\n"
     ]
    },
    {
     "name": "stderr",
     "output_type": "stream",
     "text": [
      "/Users/gbrammer/miniconda3/envs/grizli37/lib/python3.7/site-packages/ipykernel_launcher.py:47: UserWarning: linestyle is redundantly defined by the 'linestyle' keyword argument and the fmt string \"s-\" (-> linestyle='-'). The keyword argument will take precedence.\n",
      "/Users/gbrammer/miniconda3/envs/grizli37/lib/python3.7/site-packages/ipykernel_launcher.py:47: UserWarning: linestyle is redundantly defined by the 'linestyle' keyword argument and the fmt string \"s-\" (-> linestyle='-'). The keyword argument will take precedence.\n"
     ]
    },
    {
     "name": "stdout",
     "output_type": "stream",
     "text": [
      "228 1883\n",
      "Fail\n",
      "229 1893\n"
     ]
    },
    {
     "name": "stderr",
     "output_type": "stream",
     "text": [
      "/Users/gbrammer/miniconda3/envs/grizli37/lib/python3.7/site-packages/ipykernel_launcher.py:47: UserWarning: linestyle is redundantly defined by the 'linestyle' keyword argument and the fmt string \"s-\" (-> linestyle='-'). The keyword argument will take precedence.\n",
      "/Users/gbrammer/miniconda3/envs/grizli37/lib/python3.7/site-packages/ipykernel_launcher.py:47: UserWarning: linestyle is redundantly defined by the 'linestyle' keyword argument and the fmt string \"s-\" (-> linestyle='-'). The keyword argument will take precedence.\n",
      "/Users/gbrammer/miniconda3/envs/grizli37/lib/python3.7/site-packages/ipykernel_launcher.py:47: UserWarning: linestyle is redundantly defined by the 'linestyle' keyword argument and the fmt string \"s-\" (-> linestyle='-'). The keyword argument will take precedence.\n",
      "/Users/gbrammer/miniconda3/envs/grizli37/lib/python3.7/site-packages/ipykernel_launcher.py:47: UserWarning: linestyle is redundantly defined by the 'linestyle' keyword argument and the fmt string \"s-\" (-> linestyle='-'). The keyword argument will take precedence.\n",
      "/Users/gbrammer/miniconda3/envs/grizli37/lib/python3.7/site-packages/ipykernel_launcher.py:47: UserWarning: linestyle is redundantly defined by the 'linestyle' keyword argument and the fmt string \"s-\" (-> linestyle='-'). The keyword argument will take precedence.\n",
      "/Users/gbrammer/miniconda3/envs/grizli37/lib/python3.7/site-packages/ipykernel_launcher.py:47: UserWarning: linestyle is redundantly defined by the 'linestyle' keyword argument and the fmt string \"s-\" (-> linestyle='-'). The keyword argument will take precedence.\n"
     ]
    },
    {
     "name": "stdout",
     "output_type": "stream",
     "text": [
      "230 1895\n",
      "231 1914\n"
     ]
    },
    {
     "name": "stderr",
     "output_type": "stream",
     "text": [
      "/Users/gbrammer/miniconda3/envs/grizli37/lib/python3.7/site-packages/ipykernel_launcher.py:47: UserWarning: linestyle is redundantly defined by the 'linestyle' keyword argument and the fmt string \"s-\" (-> linestyle='-'). The keyword argument will take precedence.\n",
      "/Users/gbrammer/miniconda3/envs/grizli37/lib/python3.7/site-packages/ipykernel_launcher.py:47: UserWarning: linestyle is redundantly defined by the 'linestyle' keyword argument and the fmt string \"s-\" (-> linestyle='-'). The keyword argument will take precedence.\n",
      "/Users/gbrammer/miniconda3/envs/grizli37/lib/python3.7/site-packages/ipykernel_launcher.py:47: UserWarning: linestyle is redundantly defined by the 'linestyle' keyword argument and the fmt string \"s-\" (-> linestyle='-'). The keyword argument will take precedence.\n",
      "/Users/gbrammer/miniconda3/envs/grizli37/lib/python3.7/site-packages/ipykernel_launcher.py:47: UserWarning: linestyle is redundantly defined by the 'linestyle' keyword argument and the fmt string \"s-\" (-> linestyle='-'). The keyword argument will take precedence.\n"
     ]
    },
    {
     "name": "stdout",
     "output_type": "stream",
     "text": [
      "232 1933\n"
     ]
    },
    {
     "name": "stderr",
     "output_type": "stream",
     "text": [
      "/Users/gbrammer/miniconda3/envs/grizli37/lib/python3.7/site-packages/ipykernel_launcher.py:47: UserWarning: linestyle is redundantly defined by the 'linestyle' keyword argument and the fmt string \"s-\" (-> linestyle='-'). The keyword argument will take precedence.\n",
      "/Users/gbrammer/miniconda3/envs/grizli37/lib/python3.7/site-packages/ipykernel_launcher.py:47: UserWarning: linestyle is redundantly defined by the 'linestyle' keyword argument and the fmt string \"s-\" (-> linestyle='-'). The keyword argument will take precedence.\n",
      "/Users/gbrammer/miniconda3/envs/grizli37/lib/python3.7/site-packages/ipykernel_launcher.py:47: UserWarning: linestyle is redundantly defined by the 'linestyle' keyword argument and the fmt string \"s-\" (-> linestyle='-'). The keyword argument will take precedence.\n",
      "/Users/gbrammer/miniconda3/envs/grizli37/lib/python3.7/site-packages/ipykernel_launcher.py:47: UserWarning: linestyle is redundantly defined by the 'linestyle' keyword argument and the fmt string \"s-\" (-> linestyle='-'). The keyword argument will take precedence.\n"
     ]
    },
    {
     "name": "stdout",
     "output_type": "stream",
     "text": [
      "233 1963\n",
      "234 1991\n"
     ]
    },
    {
     "name": "stderr",
     "output_type": "stream",
     "text": [
      "/Users/gbrammer/miniconda3/envs/grizli37/lib/python3.7/site-packages/ipykernel_launcher.py:47: UserWarning: linestyle is redundantly defined by the 'linestyle' keyword argument and the fmt string \"s-\" (-> linestyle='-'). The keyword argument will take precedence.\n",
      "/Users/gbrammer/miniconda3/envs/grizli37/lib/python3.7/site-packages/ipykernel_launcher.py:47: UserWarning: linestyle is redundantly defined by the 'linestyle' keyword argument and the fmt string \"s-\" (-> linestyle='-'). The keyword argument will take precedence.\n",
      "/Users/gbrammer/miniconda3/envs/grizli37/lib/python3.7/site-packages/ipykernel_launcher.py:47: UserWarning: linestyle is redundantly defined by the 'linestyle' keyword argument and the fmt string \"s-\" (-> linestyle='-'). The keyword argument will take precedence.\n",
      "/Users/gbrammer/miniconda3/envs/grizli37/lib/python3.7/site-packages/ipykernel_launcher.py:47: UserWarning: linestyle is redundantly defined by the 'linestyle' keyword argument and the fmt string \"s-\" (-> linestyle='-'). The keyword argument will take precedence.\n",
      "/Users/gbrammer/miniconda3/envs/grizli37/lib/python3.7/site-packages/ipykernel_launcher.py:47: UserWarning: linestyle is redundantly defined by the 'linestyle' keyword argument and the fmt string \"s-\" (-> linestyle='-'). The keyword argument will take precedence.\n",
      "/Users/gbrammer/miniconda3/envs/grizli37/lib/python3.7/site-packages/ipykernel_launcher.py:47: UserWarning: linestyle is redundantly defined by the 'linestyle' keyword argument and the fmt string \"s-\" (-> linestyle='-'). The keyword argument will take precedence.\n"
     ]
    },
    {
     "name": "stdout",
     "output_type": "stream",
     "text": [
      "235 2079\n",
      "236 2110\n",
      "237 2123\n",
      "238 2130\n",
      "239 2136\n",
      "240 2162\n"
     ]
    },
    {
     "name": "stderr",
     "output_type": "stream",
     "text": [
      "/Users/gbrammer/miniconda3/envs/grizli37/lib/python3.7/site-packages/ipykernel_launcher.py:47: UserWarning: linestyle is redundantly defined by the 'linestyle' keyword argument and the fmt string \"s-\" (-> linestyle='-'). The keyword argument will take precedence.\n",
      "/Users/gbrammer/miniconda3/envs/grizli37/lib/python3.7/site-packages/ipykernel_launcher.py:47: UserWarning: linestyle is redundantly defined by the 'linestyle' keyword argument and the fmt string \"s-\" (-> linestyle='-'). The keyword argument will take precedence.\n",
      "/Users/gbrammer/miniconda3/envs/grizli37/lib/python3.7/site-packages/ipykernel_launcher.py:47: UserWarning: linestyle is redundantly defined by the 'linestyle' keyword argument and the fmt string \"s-\" (-> linestyle='-'). The keyword argument will take precedence.\n"
     ]
    },
    {
     "name": "stdout",
     "output_type": "stream",
     "text": [
      "241 2186\n"
     ]
    },
    {
     "name": "stderr",
     "output_type": "stream",
     "text": [
      "/Users/gbrammer/miniconda3/envs/grizli37/lib/python3.7/site-packages/ipykernel_launcher.py:47: UserWarning: linestyle is redundantly defined by the 'linestyle' keyword argument and the fmt string \"s-\" (-> linestyle='-'). The keyword argument will take precedence.\n",
      "/Users/gbrammer/miniconda3/envs/grizli37/lib/python3.7/site-packages/ipykernel_launcher.py:47: UserWarning: linestyle is redundantly defined by the 'linestyle' keyword argument and the fmt string \"s-\" (-> linestyle='-'). The keyword argument will take precedence.\n",
      "/Users/gbrammer/miniconda3/envs/grizli37/lib/python3.7/site-packages/ipykernel_launcher.py:47: UserWarning: linestyle is redundantly defined by the 'linestyle' keyword argument and the fmt string \"s-\" (-> linestyle='-'). The keyword argument will take precedence.\n",
      "/Users/gbrammer/miniconda3/envs/grizli37/lib/python3.7/site-packages/ipykernel_launcher.py:47: UserWarning: linestyle is redundantly defined by the 'linestyle' keyword argument and the fmt string \"s-\" (-> linestyle='-'). The keyword argument will take precedence.\n",
      "/Users/gbrammer/miniconda3/envs/grizli37/lib/python3.7/site-packages/ipykernel_launcher.py:47: UserWarning: linestyle is redundantly defined by the 'linestyle' keyword argument and the fmt string \"s-\" (-> linestyle='-'). The keyword argument will take precedence.\n"
     ]
    },
    {
     "name": "stdout",
     "output_type": "stream",
     "text": [
      "242 2198\n"
     ]
    },
    {
     "name": "stderr",
     "output_type": "stream",
     "text": [
      "/Users/gbrammer/miniconda3/envs/grizli37/lib/python3.7/site-packages/ipykernel_launcher.py:47: UserWarning: linestyle is redundantly defined by the 'linestyle' keyword argument and the fmt string \"s-\" (-> linestyle='-'). The keyword argument will take precedence.\n",
      "/Users/gbrammer/miniconda3/envs/grizli37/lib/python3.7/site-packages/ipykernel_launcher.py:47: UserWarning: linestyle is redundantly defined by the 'linestyle' keyword argument and the fmt string \"s-\" (-> linestyle='-'). The keyword argument will take precedence.\n",
      "/Users/gbrammer/miniconda3/envs/grizli37/lib/python3.7/site-packages/ipykernel_launcher.py:47: UserWarning: linestyle is redundantly defined by the 'linestyle' keyword argument and the fmt string \"s-\" (-> linestyle='-'). The keyword argument will take precedence.\n",
      "/Users/gbrammer/miniconda3/envs/grizli37/lib/python3.7/site-packages/ipykernel_launcher.py:47: UserWarning: linestyle is redundantly defined by the 'linestyle' keyword argument and the fmt string \"s-\" (-> linestyle='-'). The keyword argument will take precedence.\n",
      "/Users/gbrammer/miniconda3/envs/grizli37/lib/python3.7/site-packages/ipykernel_launcher.py:47: UserWarning: linestyle is redundantly defined by the 'linestyle' keyword argument and the fmt string \"s-\" (-> linestyle='-'). The keyword argument will take precedence.\n",
      "/Users/gbrammer/miniconda3/envs/grizli37/lib/python3.7/site-packages/ipykernel_launcher.py:47: UserWarning: linestyle is redundantly defined by the 'linestyle' keyword argument and the fmt string \"s-\" (-> linestyle='-'). The keyword argument will take precedence.\n",
      "/Users/gbrammer/miniconda3/envs/grizli37/lib/python3.7/site-packages/ipykernel_launcher.py:47: UserWarning: linestyle is redundantly defined by the 'linestyle' keyword argument and the fmt string \"s-\" (-> linestyle='-'). The keyword argument will take precedence.\n",
      "/Users/gbrammer/miniconda3/envs/grizli37/lib/python3.7/site-packages/ipykernel_launcher.py:47: UserWarning: linestyle is redundantly defined by the 'linestyle' keyword argument and the fmt string \"s-\" (-> linestyle='-'). The keyword argument will take precedence.\n",
      "/Users/gbrammer/miniconda3/envs/grizli37/lib/python3.7/site-packages/ipykernel_launcher.py:47: UserWarning: linestyle is redundantly defined by the 'linestyle' keyword argument and the fmt string \"s-\" (-> linestyle='-'). The keyword argument will take precedence.\n",
      "/Users/gbrammer/miniconda3/envs/grizli37/lib/python3.7/site-packages/ipykernel_launcher.py:47: UserWarning: linestyle is redundantly defined by the 'linestyle' keyword argument and the fmt string \"s-\" (-> linestyle='-'). The keyword argument will take precedence.\n"
     ]
    },
    {
     "name": "stdout",
     "output_type": "stream",
     "text": [
      "243 2219\n"
     ]
    },
    {
     "name": "stderr",
     "output_type": "stream",
     "text": [
      "/Users/gbrammer/miniconda3/envs/grizli37/lib/python3.7/site-packages/ipykernel_launcher.py:47: UserWarning: linestyle is redundantly defined by the 'linestyle' keyword argument and the fmt string \"s-\" (-> linestyle='-'). The keyword argument will take precedence.\n",
      "/Users/gbrammer/miniconda3/envs/grizli37/lib/python3.7/site-packages/ipykernel_launcher.py:47: UserWarning: linestyle is redundantly defined by the 'linestyle' keyword argument and the fmt string \"s-\" (-> linestyle='-'). The keyword argument will take precedence.\n",
      "/Users/gbrammer/miniconda3/envs/grizli37/lib/python3.7/site-packages/ipykernel_launcher.py:47: UserWarning: linestyle is redundantly defined by the 'linestyle' keyword argument and the fmt string \"s-\" (-> linestyle='-'). The keyword argument will take precedence.\n",
      "/Users/gbrammer/miniconda3/envs/grizli37/lib/python3.7/site-packages/ipykernel_launcher.py:47: UserWarning: linestyle is redundantly defined by the 'linestyle' keyword argument and the fmt string \"s-\" (-> linestyle='-'). The keyword argument will take precedence.\n",
      "/Users/gbrammer/miniconda3/envs/grizli37/lib/python3.7/site-packages/ipykernel_launcher.py:47: UserWarning: linestyle is redundantly defined by the 'linestyle' keyword argument and the fmt string \"s-\" (-> linestyle='-'). The keyword argument will take precedence.\n",
      "/Users/gbrammer/miniconda3/envs/grizli37/lib/python3.7/site-packages/ipykernel_launcher.py:47: UserWarning: linestyle is redundantly defined by the 'linestyle' keyword argument and the fmt string \"s-\" (-> linestyle='-'). The keyword argument will take precedence.\n"
     ]
    },
    {
     "name": "stdout",
     "output_type": "stream",
     "text": [
      "244 2234\n"
     ]
    },
    {
     "name": "stderr",
     "output_type": "stream",
     "text": [
      "/Users/gbrammer/miniconda3/envs/grizli37/lib/python3.7/site-packages/ipykernel_launcher.py:47: UserWarning: linestyle is redundantly defined by the 'linestyle' keyword argument and the fmt string \"s-\" (-> linestyle='-'). The keyword argument will take precedence.\n",
      "/Users/gbrammer/miniconda3/envs/grizli37/lib/python3.7/site-packages/ipykernel_launcher.py:47: UserWarning: linestyle is redundantly defined by the 'linestyle' keyword argument and the fmt string \"s-\" (-> linestyle='-'). The keyword argument will take precedence.\n",
      "/Users/gbrammer/miniconda3/envs/grizli37/lib/python3.7/site-packages/ipykernel_launcher.py:47: UserWarning: linestyle is redundantly defined by the 'linestyle' keyword argument and the fmt string \"s-\" (-> linestyle='-'). The keyword argument will take precedence.\n",
      "/Users/gbrammer/miniconda3/envs/grizli37/lib/python3.7/site-packages/ipykernel_launcher.py:47: UserWarning: linestyle is redundantly defined by the 'linestyle' keyword argument and the fmt string \"s-\" (-> linestyle='-'). The keyword argument will take precedence.\n",
      "/Users/gbrammer/miniconda3/envs/grizli37/lib/python3.7/site-packages/ipykernel_launcher.py:47: UserWarning: linestyle is redundantly defined by the 'linestyle' keyword argument and the fmt string \"s-\" (-> linestyle='-'). The keyword argument will take precedence.\n",
      "/Users/gbrammer/miniconda3/envs/grizli37/lib/python3.7/site-packages/ipykernel_launcher.py:47: UserWarning: linestyle is redundantly defined by the 'linestyle' keyword argument and the fmt string \"s-\" (-> linestyle='-'). The keyword argument will take precedence.\n",
      "/Users/gbrammer/miniconda3/envs/grizli37/lib/python3.7/site-packages/ipykernel_launcher.py:47: UserWarning: linestyle is redundantly defined by the 'linestyle' keyword argument and the fmt string \"s-\" (-> linestyle='-'). The keyword argument will take precedence.\n",
      "/Users/gbrammer/miniconda3/envs/grizli37/lib/python3.7/site-packages/ipykernel_launcher.py:47: UserWarning: linestyle is redundantly defined by the 'linestyle' keyword argument and the fmt string \"s-\" (-> linestyle='-'). The keyword argument will take precedence.\n",
      "/Users/gbrammer/miniconda3/envs/grizli37/lib/python3.7/site-packages/ipykernel_launcher.py:47: UserWarning: linestyle is redundantly defined by the 'linestyle' keyword argument and the fmt string \"s-\" (-> linestyle='-'). The keyword argument will take precedence.\n",
      "/Users/gbrammer/miniconda3/envs/grizli37/lib/python3.7/site-packages/ipykernel_launcher.py:47: UserWarning: linestyle is redundantly defined by the 'linestyle' keyword argument and the fmt string \"s-\" (-> linestyle='-'). The keyword argument will take precedence.\n"
     ]
    },
    {
     "name": "stdout",
     "output_type": "stream",
     "text": [
      "245 2279\n"
     ]
    },
    {
     "name": "stderr",
     "output_type": "stream",
     "text": [
      "/Users/gbrammer/miniconda3/envs/grizli37/lib/python3.7/site-packages/ipykernel_launcher.py:47: UserWarning: linestyle is redundantly defined by the 'linestyle' keyword argument and the fmt string \"s-\" (-> linestyle='-'). The keyword argument will take precedence.\n",
      "/Users/gbrammer/miniconda3/envs/grizli37/lib/python3.7/site-packages/ipykernel_launcher.py:47: UserWarning: linestyle is redundantly defined by the 'linestyle' keyword argument and the fmt string \"s-\" (-> linestyle='-'). The keyword argument will take precedence.\n"
     ]
    },
    {
     "name": "stdout",
     "output_type": "stream",
     "text": [
      "246 2282\n",
      "247 2285\n"
     ]
    },
    {
     "name": "stderr",
     "output_type": "stream",
     "text": [
      "/Users/gbrammer/miniconda3/envs/grizli37/lib/python3.7/site-packages/ipykernel_launcher.py:47: UserWarning: linestyle is redundantly defined by the 'linestyle' keyword argument and the fmt string \"s-\" (-> linestyle='-'). The keyword argument will take precedence.\n"
     ]
    },
    {
     "name": "stdout",
     "output_type": "stream",
     "text": [
      "248 2301\n"
     ]
    },
    {
     "name": "stderr",
     "output_type": "stream",
     "text": [
      "/Users/gbrammer/miniconda3/envs/grizli37/lib/python3.7/site-packages/ipykernel_launcher.py:47: UserWarning: linestyle is redundantly defined by the 'linestyle' keyword argument and the fmt string \"s-\" (-> linestyle='-'). The keyword argument will take precedence.\n",
      "/Users/gbrammer/miniconda3/envs/grizli37/lib/python3.7/site-packages/ipykernel_launcher.py:47: UserWarning: linestyle is redundantly defined by the 'linestyle' keyword argument and the fmt string \"s-\" (-> linestyle='-'). The keyword argument will take precedence.\n",
      "/Users/gbrammer/miniconda3/envs/grizli37/lib/python3.7/site-packages/ipykernel_launcher.py:47: UserWarning: linestyle is redundantly defined by the 'linestyle' keyword argument and the fmt string \"s-\" (-> linestyle='-'). The keyword argument will take precedence.\n"
     ]
    },
    {
     "name": "stdout",
     "output_type": "stream",
     "text": [
      "249 2321\n"
     ]
    },
    {
     "name": "stderr",
     "output_type": "stream",
     "text": [
      "/Users/gbrammer/miniconda3/envs/grizli37/lib/python3.7/site-packages/ipykernel_launcher.py:47: UserWarning: linestyle is redundantly defined by the 'linestyle' keyword argument and the fmt string \"s-\" (-> linestyle='-'). The keyword argument will take precedence.\n",
      "/Users/gbrammer/miniconda3/envs/grizli37/lib/python3.7/site-packages/ipykernel_launcher.py:47: UserWarning: linestyle is redundantly defined by the 'linestyle' keyword argument and the fmt string \"s-\" (-> linestyle='-'). The keyword argument will take precedence.\n",
      "/Users/gbrammer/miniconda3/envs/grizli37/lib/python3.7/site-packages/ipykernel_launcher.py:47: UserWarning: linestyle is redundantly defined by the 'linestyle' keyword argument and the fmt string \"s-\" (-> linestyle='-'). The keyword argument will take precedence.\n",
      "/Users/gbrammer/miniconda3/envs/grizli37/lib/python3.7/site-packages/ipykernel_launcher.py:47: UserWarning: linestyle is redundantly defined by the 'linestyle' keyword argument and the fmt string \"s-\" (-> linestyle='-'). The keyword argument will take precedence.\n",
      "/Users/gbrammer/miniconda3/envs/grizli37/lib/python3.7/site-packages/ipykernel_launcher.py:47: UserWarning: linestyle is redundantly defined by the 'linestyle' keyword argument and the fmt string \"s-\" (-> linestyle='-'). The keyword argument will take precedence.\n",
      "/Users/gbrammer/miniconda3/envs/grizli37/lib/python3.7/site-packages/ipykernel_launcher.py:47: UserWarning: linestyle is redundantly defined by the 'linestyle' keyword argument and the fmt string \"s-\" (-> linestyle='-'). The keyword argument will take precedence.\n",
      "/Users/gbrammer/miniconda3/envs/grizli37/lib/python3.7/site-packages/ipykernel_launcher.py:47: UserWarning: linestyle is redundantly defined by the 'linestyle' keyword argument and the fmt string \"s-\" (-> linestyle='-'). The keyword argument will take precedence.\n",
      "/Users/gbrammer/miniconda3/envs/grizli37/lib/python3.7/site-packages/ipykernel_launcher.py:47: UserWarning: linestyle is redundantly defined by the 'linestyle' keyword argument and the fmt string \"s-\" (-> linestyle='-'). The keyword argument will take precedence.\n",
      "/Users/gbrammer/miniconda3/envs/grizli37/lib/python3.7/site-packages/ipykernel_launcher.py:47: UserWarning: linestyle is redundantly defined by the 'linestyle' keyword argument and the fmt string \"s-\" (-> linestyle='-'). The keyword argument will take precedence.\n",
      "/Users/gbrammer/miniconda3/envs/grizli37/lib/python3.7/site-packages/ipykernel_launcher.py:47: UserWarning: linestyle is redundantly defined by the 'linestyle' keyword argument and the fmt string \"s-\" (-> linestyle='-'). The keyword argument will take precedence.\n",
      "/Users/gbrammer/miniconda3/envs/grizli37/lib/python3.7/site-packages/ipykernel_launcher.py:47: UserWarning: linestyle is redundantly defined by the 'linestyle' keyword argument and the fmt string \"s-\" (-> linestyle='-'). The keyword argument will take precedence.\n",
      "/Users/gbrammer/miniconda3/envs/grizli37/lib/python3.7/site-packages/ipykernel_launcher.py:47: UserWarning: linestyle is redundantly defined by the 'linestyle' keyword argument and the fmt string \"s-\" (-> linestyle='-'). The keyword argument will take precedence.\n",
      "/Users/gbrammer/miniconda3/envs/grizli37/lib/python3.7/site-packages/ipykernel_launcher.py:47: UserWarning: linestyle is redundantly defined by the 'linestyle' keyword argument and the fmt string \"s-\" (-> linestyle='-'). The keyword argument will take precedence.\n",
      "/Users/gbrammer/miniconda3/envs/grizli37/lib/python3.7/site-packages/ipykernel_launcher.py:47: UserWarning: linestyle is redundantly defined by the 'linestyle' keyword argument and the fmt string \"s-\" (-> linestyle='-'). The keyword argument will take precedence.\n",
      "/Users/gbrammer/miniconda3/envs/grizli37/lib/python3.7/site-packages/ipykernel_launcher.py:47: UserWarning: linestyle is redundantly defined by the 'linestyle' keyword argument and the fmt string \"s-\" (-> linestyle='-'). The keyword argument will take precedence.\n",
      "/Users/gbrammer/miniconda3/envs/grizli37/lib/python3.7/site-packages/ipykernel_launcher.py:47: UserWarning: linestyle is redundantly defined by the 'linestyle' keyword argument and the fmt string \"s-\" (-> linestyle='-'). The keyword argument will take precedence.\n",
      "/Users/gbrammer/miniconda3/envs/grizli37/lib/python3.7/site-packages/ipykernel_launcher.py:47: UserWarning: linestyle is redundantly defined by the 'linestyle' keyword argument and the fmt string \"s-\" (-> linestyle='-'). The keyword argument will take precedence.\n",
      "/Users/gbrammer/miniconda3/envs/grizli37/lib/python3.7/site-packages/ipykernel_launcher.py:47: UserWarning: linestyle is redundantly defined by the 'linestyle' keyword argument and the fmt string \"s-\" (-> linestyle='-'). The keyword argument will take precedence.\n"
     ]
    },
    {
     "name": "stdout",
     "output_type": "stream",
     "text": [
      "250 2344\n"
     ]
    },
    {
     "name": "stderr",
     "output_type": "stream",
     "text": [
      "/Users/gbrammer/miniconda3/envs/grizli37/lib/python3.7/site-packages/ipykernel_launcher.py:47: UserWarning: linestyle is redundantly defined by the 'linestyle' keyword argument and the fmt string \"s-\" (-> linestyle='-'). The keyword argument will take precedence.\n",
      "/Users/gbrammer/miniconda3/envs/grizli37/lib/python3.7/site-packages/ipykernel_launcher.py:47: UserWarning: linestyle is redundantly defined by the 'linestyle' keyword argument and the fmt string \"s-\" (-> linestyle='-'). The keyword argument will take precedence.\n",
      "/Users/gbrammer/miniconda3/envs/grizli37/lib/python3.7/site-packages/ipykernel_launcher.py:47: UserWarning: linestyle is redundantly defined by the 'linestyle' keyword argument and the fmt string \"s-\" (-> linestyle='-'). The keyword argument will take precedence.\n",
      "/Users/gbrammer/miniconda3/envs/grizli37/lib/python3.7/site-packages/ipykernel_launcher.py:47: UserWarning: linestyle is redundantly defined by the 'linestyle' keyword argument and the fmt string \"s-\" (-> linestyle='-'). The keyword argument will take precedence.\n",
      "/Users/gbrammer/miniconda3/envs/grizli37/lib/python3.7/site-packages/ipykernel_launcher.py:47: UserWarning: linestyle is redundantly defined by the 'linestyle' keyword argument and the fmt string \"s-\" (-> linestyle='-'). The keyword argument will take precedence.\n",
      "/Users/gbrammer/miniconda3/envs/grizli37/lib/python3.7/site-packages/ipykernel_launcher.py:47: UserWarning: linestyle is redundantly defined by the 'linestyle' keyword argument and the fmt string \"s-\" (-> linestyle='-'). The keyword argument will take precedence.\n",
      "/Users/gbrammer/miniconda3/envs/grizli37/lib/python3.7/site-packages/ipykernel_launcher.py:47: UserWarning: linestyle is redundantly defined by the 'linestyle' keyword argument and the fmt string \"s-\" (-> linestyle='-'). The keyword argument will take precedence.\n",
      "/Users/gbrammer/miniconda3/envs/grizli37/lib/python3.7/site-packages/ipykernel_launcher.py:47: UserWarning: linestyle is redundantly defined by the 'linestyle' keyword argument and the fmt string \"s-\" (-> linestyle='-'). The keyword argument will take precedence.\n",
      "/Users/gbrammer/miniconda3/envs/grizli37/lib/python3.7/site-packages/ipykernel_launcher.py:47: UserWarning: linestyle is redundantly defined by the 'linestyle' keyword argument and the fmt string \"s-\" (-> linestyle='-'). The keyword argument will take precedence.\n",
      "/Users/gbrammer/miniconda3/envs/grizli37/lib/python3.7/site-packages/ipykernel_launcher.py:47: UserWarning: linestyle is redundantly defined by the 'linestyle' keyword argument and the fmt string \"s-\" (-> linestyle='-'). The keyword argument will take precedence.\n"
     ]
    },
    {
     "name": "stdout",
     "output_type": "stream",
     "text": [
      "251 2345\n"
     ]
    },
    {
     "name": "stderr",
     "output_type": "stream",
     "text": [
      "/Users/gbrammer/miniconda3/envs/grizli37/lib/python3.7/site-packages/ipykernel_launcher.py:47: UserWarning: linestyle is redundantly defined by the 'linestyle' keyword argument and the fmt string \"s-\" (-> linestyle='-'). The keyword argument will take precedence.\n",
      "/Users/gbrammer/miniconda3/envs/grizli37/lib/python3.7/site-packages/ipykernel_launcher.py:47: UserWarning: linestyle is redundantly defined by the 'linestyle' keyword argument and the fmt string \"s-\" (-> linestyle='-'). The keyword argument will take precedence.\n",
      "/Users/gbrammer/miniconda3/envs/grizli37/lib/python3.7/site-packages/ipykernel_launcher.py:47: UserWarning: linestyle is redundantly defined by the 'linestyle' keyword argument and the fmt string \"s-\" (-> linestyle='-'). The keyword argument will take precedence.\n",
      "/Users/gbrammer/miniconda3/envs/grizli37/lib/python3.7/site-packages/ipykernel_launcher.py:47: UserWarning: linestyle is redundantly defined by the 'linestyle' keyword argument and the fmt string \"s-\" (-> linestyle='-'). The keyword argument will take precedence.\n",
      "/Users/gbrammer/miniconda3/envs/grizli37/lib/python3.7/site-packages/ipykernel_launcher.py:47: UserWarning: linestyle is redundantly defined by the 'linestyle' keyword argument and the fmt string \"s-\" (-> linestyle='-'). The keyword argument will take precedence.\n"
     ]
    },
    {
     "name": "stdout",
     "output_type": "stream",
     "text": [
      "252 2354\n",
      "Fail\n",
      "253 2362\n"
     ]
    },
    {
     "name": "stderr",
     "output_type": "stream",
     "text": [
      "/Users/gbrammer/miniconda3/envs/grizli37/lib/python3.7/site-packages/ipykernel_launcher.py:47: UserWarning: linestyle is redundantly defined by the 'linestyle' keyword argument and the fmt string \"s-\" (-> linestyle='-'). The keyword argument will take precedence.\n",
      "/Users/gbrammer/miniconda3/envs/grizli37/lib/python3.7/site-packages/ipykernel_launcher.py:47: UserWarning: linestyle is redundantly defined by the 'linestyle' keyword argument and the fmt string \"s-\" (-> linestyle='-'). The keyword argument will take precedence.\n",
      "/Users/gbrammer/miniconda3/envs/grizli37/lib/python3.7/site-packages/ipykernel_launcher.py:47: UserWarning: linestyle is redundantly defined by the 'linestyle' keyword argument and the fmt string \"s-\" (-> linestyle='-'). The keyword argument will take precedence.\n",
      "/Users/gbrammer/miniconda3/envs/grizli37/lib/python3.7/site-packages/ipykernel_launcher.py:47: UserWarning: linestyle is redundantly defined by the 'linestyle' keyword argument and the fmt string \"s-\" (-> linestyle='-'). The keyword argument will take precedence.\n",
      "/Users/gbrammer/miniconda3/envs/grizli37/lib/python3.7/site-packages/ipykernel_launcher.py:47: UserWarning: linestyle is redundantly defined by the 'linestyle' keyword argument and the fmt string \"s-\" (-> linestyle='-'). The keyword argument will take precedence.\n",
      "/Users/gbrammer/miniconda3/envs/grizli37/lib/python3.7/site-packages/ipykernel_launcher.py:47: UserWarning: linestyle is redundantly defined by the 'linestyle' keyword argument and the fmt string \"s-\" (-> linestyle='-'). The keyword argument will take precedence.\n"
     ]
    },
    {
     "name": "stdout",
     "output_type": "stream",
     "text": [
      "254 2368\n"
     ]
    },
    {
     "name": "stderr",
     "output_type": "stream",
     "text": [
      "/Users/gbrammer/miniconda3/envs/grizli37/lib/python3.7/site-packages/ipykernel_launcher.py:47: UserWarning: linestyle is redundantly defined by the 'linestyle' keyword argument and the fmt string \"s-\" (-> linestyle='-'). The keyword argument will take precedence.\n",
      "/Users/gbrammer/miniconda3/envs/grizli37/lib/python3.7/site-packages/ipykernel_launcher.py:47: UserWarning: linestyle is redundantly defined by the 'linestyle' keyword argument and the fmt string \"s-\" (-> linestyle='-'). The keyword argument will take precedence.\n",
      "/Users/gbrammer/miniconda3/envs/grizli37/lib/python3.7/site-packages/ipykernel_launcher.py:47: UserWarning: linestyle is redundantly defined by the 'linestyle' keyword argument and the fmt string \"s-\" (-> linestyle='-'). The keyword argument will take precedence.\n",
      "/Users/gbrammer/miniconda3/envs/grizli37/lib/python3.7/site-packages/ipykernel_launcher.py:47: UserWarning: linestyle is redundantly defined by the 'linestyle' keyword argument and the fmt string \"s-\" (-> linestyle='-'). The keyword argument will take precedence.\n",
      "/Users/gbrammer/miniconda3/envs/grizli37/lib/python3.7/site-packages/ipykernel_launcher.py:47: UserWarning: linestyle is redundantly defined by the 'linestyle' keyword argument and the fmt string \"s-\" (-> linestyle='-'). The keyword argument will take precedence.\n",
      "/Users/gbrammer/miniconda3/envs/grizli37/lib/python3.7/site-packages/ipykernel_launcher.py:47: UserWarning: linestyle is redundantly defined by the 'linestyle' keyword argument and the fmt string \"s-\" (-> linestyle='-'). The keyword argument will take precedence.\n",
      "/Users/gbrammer/miniconda3/envs/grizli37/lib/python3.7/site-packages/ipykernel_launcher.py:47: UserWarning: linestyle is redundantly defined by the 'linestyle' keyword argument and the fmt string \"s-\" (-> linestyle='-'). The keyword argument will take precedence.\n",
      "/Users/gbrammer/miniconda3/envs/grizli37/lib/python3.7/site-packages/ipykernel_launcher.py:47: UserWarning: linestyle is redundantly defined by the 'linestyle' keyword argument and the fmt string \"s-\" (-> linestyle='-'). The keyword argument will take precedence.\n"
     ]
    },
    {
     "name": "stdout",
     "output_type": "stream",
     "text": [
      "255 2391\n"
     ]
    },
    {
     "name": "stderr",
     "output_type": "stream",
     "text": [
      "/Users/gbrammer/miniconda3/envs/grizli37/lib/python3.7/site-packages/ipykernel_launcher.py:47: UserWarning: linestyle is redundantly defined by the 'linestyle' keyword argument and the fmt string \"s-\" (-> linestyle='-'). The keyword argument will take precedence.\n",
      "/Users/gbrammer/miniconda3/envs/grizli37/lib/python3.7/site-packages/ipykernel_launcher.py:47: UserWarning: linestyle is redundantly defined by the 'linestyle' keyword argument and the fmt string \"s-\" (-> linestyle='-'). The keyword argument will take precedence.\n",
      "/Users/gbrammer/miniconda3/envs/grizli37/lib/python3.7/site-packages/ipykernel_launcher.py:47: UserWarning: linestyle is redundantly defined by the 'linestyle' keyword argument and the fmt string \"s-\" (-> linestyle='-'). The keyword argument will take precedence.\n",
      "/Users/gbrammer/miniconda3/envs/grizli37/lib/python3.7/site-packages/ipykernel_launcher.py:47: UserWarning: linestyle is redundantly defined by the 'linestyle' keyword argument and the fmt string \"s-\" (-> linestyle='-'). The keyword argument will take precedence.\n",
      "/Users/gbrammer/miniconda3/envs/grizli37/lib/python3.7/site-packages/ipykernel_launcher.py:47: UserWarning: linestyle is redundantly defined by the 'linestyle' keyword argument and the fmt string \"s-\" (-> linestyle='-'). The keyword argument will take precedence.\n",
      "/Users/gbrammer/miniconda3/envs/grizli37/lib/python3.7/site-packages/ipykernel_launcher.py:47: UserWarning: linestyle is redundantly defined by the 'linestyle' keyword argument and the fmt string \"s-\" (-> linestyle='-'). The keyword argument will take precedence.\n"
     ]
    },
    {
     "name": "stdout",
     "output_type": "stream",
     "text": [
      "256 2410\n",
      "Fail\n",
      "257 2417\n"
     ]
    },
    {
     "name": "stderr",
     "output_type": "stream",
     "text": [
      "/Users/gbrammer/miniconda3/envs/grizli37/lib/python3.7/site-packages/ipykernel_launcher.py:47: UserWarning: linestyle is redundantly defined by the 'linestyle' keyword argument and the fmt string \"s-\" (-> linestyle='-'). The keyword argument will take precedence.\n",
      "/Users/gbrammer/miniconda3/envs/grizli37/lib/python3.7/site-packages/ipykernel_launcher.py:47: UserWarning: linestyle is redundantly defined by the 'linestyle' keyword argument and the fmt string \"s-\" (-> linestyle='-'). The keyword argument will take precedence.\n",
      "/Users/gbrammer/miniconda3/envs/grizli37/lib/python3.7/site-packages/ipykernel_launcher.py:47: UserWarning: linestyle is redundantly defined by the 'linestyle' keyword argument and the fmt string \"s-\" (-> linestyle='-'). The keyword argument will take precedence.\n",
      "/Users/gbrammer/miniconda3/envs/grizli37/lib/python3.7/site-packages/ipykernel_launcher.py:47: UserWarning: linestyle is redundantly defined by the 'linestyle' keyword argument and the fmt string \"s-\" (-> linestyle='-'). The keyword argument will take precedence.\n",
      "/Users/gbrammer/miniconda3/envs/grizli37/lib/python3.7/site-packages/ipykernel_launcher.py:47: UserWarning: linestyle is redundantly defined by the 'linestyle' keyword argument and the fmt string \"s-\" (-> linestyle='-'). The keyword argument will take precedence.\n"
     ]
    },
    {
     "name": "stdout",
     "output_type": "stream",
     "text": [
      "258 2424\n"
     ]
    },
    {
     "name": "stderr",
     "output_type": "stream",
     "text": [
      "/Users/gbrammer/miniconda3/envs/grizli37/lib/python3.7/site-packages/ipykernel_launcher.py:47: UserWarning: linestyle is redundantly defined by the 'linestyle' keyword argument and the fmt string \"s-\" (-> linestyle='-'). The keyword argument will take precedence.\n",
      "/Users/gbrammer/miniconda3/envs/grizli37/lib/python3.7/site-packages/ipykernel_launcher.py:47: UserWarning: linestyle is redundantly defined by the 'linestyle' keyword argument and the fmt string \"s-\" (-> linestyle='-'). The keyword argument will take precedence.\n",
      "/Users/gbrammer/miniconda3/envs/grizli37/lib/python3.7/site-packages/ipykernel_launcher.py:47: UserWarning: linestyle is redundantly defined by the 'linestyle' keyword argument and the fmt string \"s-\" (-> linestyle='-'). The keyword argument will take precedence.\n",
      "/Users/gbrammer/miniconda3/envs/grizli37/lib/python3.7/site-packages/ipykernel_launcher.py:47: UserWarning: linestyle is redundantly defined by the 'linestyle' keyword argument and the fmt string \"s-\" (-> linestyle='-'). The keyword argument will take precedence.\n",
      "/Users/gbrammer/miniconda3/envs/grizli37/lib/python3.7/site-packages/ipykernel_launcher.py:47: UserWarning: linestyle is redundantly defined by the 'linestyle' keyword argument and the fmt string \"s-\" (-> linestyle='-'). The keyword argument will take precedence.\n",
      "/Users/gbrammer/miniconda3/envs/grizli37/lib/python3.7/site-packages/ipykernel_launcher.py:47: UserWarning: linestyle is redundantly defined by the 'linestyle' keyword argument and the fmt string \"s-\" (-> linestyle='-'). The keyword argument will take precedence.\n",
      "/Users/gbrammer/miniconda3/envs/grizli37/lib/python3.7/site-packages/ipykernel_launcher.py:47: UserWarning: linestyle is redundantly defined by the 'linestyle' keyword argument and the fmt string \"s-\" (-> linestyle='-'). The keyword argument will take precedence.\n",
      "/Users/gbrammer/miniconda3/envs/grizli37/lib/python3.7/site-packages/ipykernel_launcher.py:47: UserWarning: linestyle is redundantly defined by the 'linestyle' keyword argument and the fmt string \"s-\" (-> linestyle='-'). The keyword argument will take precedence.\n",
      "/Users/gbrammer/miniconda3/envs/grizli37/lib/python3.7/site-packages/ipykernel_launcher.py:47: UserWarning: linestyle is redundantly defined by the 'linestyle' keyword argument and the fmt string \"s-\" (-> linestyle='-'). The keyword argument will take precedence.\n",
      "/Users/gbrammer/miniconda3/envs/grizli37/lib/python3.7/site-packages/ipykernel_launcher.py:47: UserWarning: linestyle is redundantly defined by the 'linestyle' keyword argument and the fmt string \"s-\" (-> linestyle='-'). The keyword argument will take precedence.\n",
      "/Users/gbrammer/miniconda3/envs/grizli37/lib/python3.7/site-packages/ipykernel_launcher.py:47: UserWarning: linestyle is redundantly defined by the 'linestyle' keyword argument and the fmt string \"s-\" (-> linestyle='-'). The keyword argument will take precedence.\n",
      "/Users/gbrammer/miniconda3/envs/grizli37/lib/python3.7/site-packages/ipykernel_launcher.py:47: UserWarning: linestyle is redundantly defined by the 'linestyle' keyword argument and the fmt string \"s-\" (-> linestyle='-'). The keyword argument will take precedence.\n"
     ]
    },
    {
     "name": "stdout",
     "output_type": "stream",
     "text": [
      "259 2426\n"
     ]
    },
    {
     "name": "stderr",
     "output_type": "stream",
     "text": [
      "/Users/gbrammer/miniconda3/envs/grizli37/lib/python3.7/site-packages/ipykernel_launcher.py:47: UserWarning: linestyle is redundantly defined by the 'linestyle' keyword argument and the fmt string \"s-\" (-> linestyle='-'). The keyword argument will take precedence.\n",
      "/Users/gbrammer/miniconda3/envs/grizli37/lib/python3.7/site-packages/ipykernel_launcher.py:47: UserWarning: linestyle is redundantly defined by the 'linestyle' keyword argument and the fmt string \"s-\" (-> linestyle='-'). The keyword argument will take precedence.\n",
      "/Users/gbrammer/miniconda3/envs/grizli37/lib/python3.7/site-packages/ipykernel_launcher.py:47: UserWarning: linestyle is redundantly defined by the 'linestyle' keyword argument and the fmt string \"s-\" (-> linestyle='-'). The keyword argument will take precedence.\n",
      "/Users/gbrammer/miniconda3/envs/grizli37/lib/python3.7/site-packages/ipykernel_launcher.py:47: UserWarning: linestyle is redundantly defined by the 'linestyle' keyword argument and the fmt string \"s-\" (-> linestyle='-'). The keyword argument will take precedence.\n",
      "/Users/gbrammer/miniconda3/envs/grizli37/lib/python3.7/site-packages/ipykernel_launcher.py:47: UserWarning: linestyle is redundantly defined by the 'linestyle' keyword argument and the fmt string \"s-\" (-> linestyle='-'). The keyword argument will take precedence.\n",
      "/Users/gbrammer/miniconda3/envs/grizli37/lib/python3.7/site-packages/ipykernel_launcher.py:47: UserWarning: linestyle is redundantly defined by the 'linestyle' keyword argument and the fmt string \"s-\" (-> linestyle='-'). The keyword argument will take precedence.\n",
      "/Users/gbrammer/miniconda3/envs/grizli37/lib/python3.7/site-packages/ipykernel_launcher.py:47: UserWarning: linestyle is redundantly defined by the 'linestyle' keyword argument and the fmt string \"s-\" (-> linestyle='-'). The keyword argument will take precedence.\n",
      "/Users/gbrammer/miniconda3/envs/grizli37/lib/python3.7/site-packages/ipykernel_launcher.py:47: UserWarning: linestyle is redundantly defined by the 'linestyle' keyword argument and the fmt string \"s-\" (-> linestyle='-'). The keyword argument will take precedence.\n",
      "/Users/gbrammer/miniconda3/envs/grizli37/lib/python3.7/site-packages/ipykernel_launcher.py:47: UserWarning: linestyle is redundantly defined by the 'linestyle' keyword argument and the fmt string \"s-\" (-> linestyle='-'). The keyword argument will take precedence.\n",
      "/Users/gbrammer/miniconda3/envs/grizli37/lib/python3.7/site-packages/ipykernel_launcher.py:47: UserWarning: linestyle is redundantly defined by the 'linestyle' keyword argument and the fmt string \"s-\" (-> linestyle='-'). The keyword argument will take precedence.\n",
      "/Users/gbrammer/miniconda3/envs/grizli37/lib/python3.7/site-packages/ipykernel_launcher.py:47: UserWarning: linestyle is redundantly defined by the 'linestyle' keyword argument and the fmt string \"s-\" (-> linestyle='-'). The keyword argument will take precedence.\n"
     ]
    },
    {
     "name": "stdout",
     "output_type": "stream",
     "text": [
      "260 2439\n"
     ]
    },
    {
     "name": "stderr",
     "output_type": "stream",
     "text": [
      "/Users/gbrammer/miniconda3/envs/grizli37/lib/python3.7/site-packages/ipykernel_launcher.py:47: UserWarning: linestyle is redundantly defined by the 'linestyle' keyword argument and the fmt string \"s-\" (-> linestyle='-'). The keyword argument will take precedence.\n",
      "/Users/gbrammer/miniconda3/envs/grizli37/lib/python3.7/site-packages/ipykernel_launcher.py:47: UserWarning: linestyle is redundantly defined by the 'linestyle' keyword argument and the fmt string \"s-\" (-> linestyle='-'). The keyword argument will take precedence.\n"
     ]
    },
    {
     "name": "stdout",
     "output_type": "stream",
     "text": [
      "261 2452\n"
     ]
    },
    {
     "name": "stderr",
     "output_type": "stream",
     "text": [
      "/Users/gbrammer/miniconda3/envs/grizli37/lib/python3.7/site-packages/ipykernel_launcher.py:47: UserWarning: linestyle is redundantly defined by the 'linestyle' keyword argument and the fmt string \"s-\" (-> linestyle='-'). The keyword argument will take precedence.\n",
      "/Users/gbrammer/miniconda3/envs/grizli37/lib/python3.7/site-packages/ipykernel_launcher.py:47: UserWarning: linestyle is redundantly defined by the 'linestyle' keyword argument and the fmt string \"s-\" (-> linestyle='-'). The keyword argument will take precedence.\n",
      "/Users/gbrammer/miniconda3/envs/grizli37/lib/python3.7/site-packages/ipykernel_launcher.py:47: UserWarning: linestyle is redundantly defined by the 'linestyle' keyword argument and the fmt string \"s-\" (-> linestyle='-'). The keyword argument will take precedence.\n",
      "/Users/gbrammer/miniconda3/envs/grizli37/lib/python3.7/site-packages/ipykernel_launcher.py:47: UserWarning: linestyle is redundantly defined by the 'linestyle' keyword argument and the fmt string \"s-\" (-> linestyle='-'). The keyword argument will take precedence.\n",
      "/Users/gbrammer/miniconda3/envs/grizli37/lib/python3.7/site-packages/ipykernel_launcher.py:47: UserWarning: linestyle is redundantly defined by the 'linestyle' keyword argument and the fmt string \"s-\" (-> linestyle='-'). The keyword argument will take precedence.\n",
      "/Users/gbrammer/miniconda3/envs/grizli37/lib/python3.7/site-packages/ipykernel_launcher.py:47: UserWarning: linestyle is redundantly defined by the 'linestyle' keyword argument and the fmt string \"s-\" (-> linestyle='-'). The keyword argument will take precedence.\n",
      "/Users/gbrammer/miniconda3/envs/grizli37/lib/python3.7/site-packages/ipykernel_launcher.py:47: UserWarning: linestyle is redundantly defined by the 'linestyle' keyword argument and the fmt string \"s-\" (-> linestyle='-'). The keyword argument will take precedence.\n",
      "/Users/gbrammer/miniconda3/envs/grizli37/lib/python3.7/site-packages/ipykernel_launcher.py:47: UserWarning: linestyle is redundantly defined by the 'linestyle' keyword argument and the fmt string \"s-\" (-> linestyle='-'). The keyword argument will take precedence.\n",
      "/Users/gbrammer/miniconda3/envs/grizli37/lib/python3.7/site-packages/ipykernel_launcher.py:47: UserWarning: linestyle is redundantly defined by the 'linestyle' keyword argument and the fmt string \"s-\" (-> linestyle='-'). The keyword argument will take precedence.\n",
      "/Users/gbrammer/miniconda3/envs/grizli37/lib/python3.7/site-packages/ipykernel_launcher.py:47: UserWarning: linestyle is redundantly defined by the 'linestyle' keyword argument and the fmt string \"s-\" (-> linestyle='-'). The keyword argument will take precedence.\n",
      "/Users/gbrammer/miniconda3/envs/grizli37/lib/python3.7/site-packages/ipykernel_launcher.py:47: UserWarning: linestyle is redundantly defined by the 'linestyle' keyword argument and the fmt string \"s-\" (-> linestyle='-'). The keyword argument will take precedence.\n",
      "/Users/gbrammer/miniconda3/envs/grizli37/lib/python3.7/site-packages/ipykernel_launcher.py:47: UserWarning: linestyle is redundantly defined by the 'linestyle' keyword argument and the fmt string \"s-\" (-> linestyle='-'). The keyword argument will take precedence.\n",
      "/Users/gbrammer/miniconda3/envs/grizli37/lib/python3.7/site-packages/ipykernel_launcher.py:47: UserWarning: linestyle is redundantly defined by the 'linestyle' keyword argument and the fmt string \"s-\" (-> linestyle='-'). The keyword argument will take precedence.\n",
      "/Users/gbrammer/miniconda3/envs/grizli37/lib/python3.7/site-packages/ipykernel_launcher.py:47: UserWarning: linestyle is redundantly defined by the 'linestyle' keyword argument and the fmt string \"s-\" (-> linestyle='-'). The keyword argument will take precedence.\n",
      "/Users/gbrammer/miniconda3/envs/grizli37/lib/python3.7/site-packages/ipykernel_launcher.py:47: UserWarning: linestyle is redundantly defined by the 'linestyle' keyword argument and the fmt string \"s-\" (-> linestyle='-'). The keyword argument will take precedence.\n",
      "/Users/gbrammer/miniconda3/envs/grizli37/lib/python3.7/site-packages/ipykernel_launcher.py:47: UserWarning: linestyle is redundantly defined by the 'linestyle' keyword argument and the fmt string \"s-\" (-> linestyle='-'). The keyword argument will take precedence.\n",
      "/Users/gbrammer/miniconda3/envs/grizli37/lib/python3.7/site-packages/ipykernel_launcher.py:47: UserWarning: linestyle is redundantly defined by the 'linestyle' keyword argument and the fmt string \"s-\" (-> linestyle='-'). The keyword argument will take precedence.\n",
      "/Users/gbrammer/miniconda3/envs/grizli37/lib/python3.7/site-packages/ipykernel_launcher.py:47: UserWarning: linestyle is redundantly defined by the 'linestyle' keyword argument and the fmt string \"s-\" (-> linestyle='-'). The keyword argument will take precedence.\n"
     ]
    },
    {
     "name": "stdout",
     "output_type": "stream",
     "text": [
      "262 2457\n"
     ]
    },
    {
     "name": "stderr",
     "output_type": "stream",
     "text": [
      "/Users/gbrammer/miniconda3/envs/grizli37/lib/python3.7/site-packages/ipykernel_launcher.py:47: UserWarning: linestyle is redundantly defined by the 'linestyle' keyword argument and the fmt string \"s-\" (-> linestyle='-'). The keyword argument will take precedence.\n",
      "/Users/gbrammer/miniconda3/envs/grizli37/lib/python3.7/site-packages/ipykernel_launcher.py:47: UserWarning: linestyle is redundantly defined by the 'linestyle' keyword argument and the fmt string \"s-\" (-> linestyle='-'). The keyword argument will take precedence.\n",
      "/Users/gbrammer/miniconda3/envs/grizli37/lib/python3.7/site-packages/ipykernel_launcher.py:47: UserWarning: linestyle is redundantly defined by the 'linestyle' keyword argument and the fmt string \"s-\" (-> linestyle='-'). The keyword argument will take precedence.\n",
      "/Users/gbrammer/miniconda3/envs/grizli37/lib/python3.7/site-packages/ipykernel_launcher.py:47: UserWarning: linestyle is redundantly defined by the 'linestyle' keyword argument and the fmt string \"s-\" (-> linestyle='-'). The keyword argument will take precedence.\n",
      "/Users/gbrammer/miniconda3/envs/grizli37/lib/python3.7/site-packages/ipykernel_launcher.py:47: UserWarning: linestyle is redundantly defined by the 'linestyle' keyword argument and the fmt string \"s-\" (-> linestyle='-'). The keyword argument will take precedence.\n"
     ]
    },
    {
     "name": "stdout",
     "output_type": "stream",
     "text": [
      "263 2478\n"
     ]
    },
    {
     "name": "stderr",
     "output_type": "stream",
     "text": [
      "/Users/gbrammer/miniconda3/envs/grizli37/lib/python3.7/site-packages/ipykernel_launcher.py:47: UserWarning: linestyle is redundantly defined by the 'linestyle' keyword argument and the fmt string \"s-\" (-> linestyle='-'). The keyword argument will take precedence.\n",
      "/Users/gbrammer/miniconda3/envs/grizli37/lib/python3.7/site-packages/ipykernel_launcher.py:47: UserWarning: linestyle is redundantly defined by the 'linestyle' keyword argument and the fmt string \"s-\" (-> linestyle='-'). The keyword argument will take precedence.\n"
     ]
    },
    {
     "name": "stdout",
     "output_type": "stream",
     "text": [
      "264 2484\n"
     ]
    },
    {
     "name": "stderr",
     "output_type": "stream",
     "text": [
      "/Users/gbrammer/miniconda3/envs/grizli37/lib/python3.7/site-packages/ipykernel_launcher.py:47: UserWarning: linestyle is redundantly defined by the 'linestyle' keyword argument and the fmt string \"s-\" (-> linestyle='-'). The keyword argument will take precedence.\n"
     ]
    },
    {
     "name": "stdout",
     "output_type": "stream",
     "text": [
      "265 2511\n"
     ]
    },
    {
     "name": "stderr",
     "output_type": "stream",
     "text": [
      "/Users/gbrammer/miniconda3/envs/grizli37/lib/python3.7/site-packages/ipykernel_launcher.py:47: UserWarning: linestyle is redundantly defined by the 'linestyle' keyword argument and the fmt string \"s-\" (-> linestyle='-'). The keyword argument will take precedence.\n",
      "/Users/gbrammer/miniconda3/envs/grizli37/lib/python3.7/site-packages/ipykernel_launcher.py:47: UserWarning: linestyle is redundantly defined by the 'linestyle' keyword argument and the fmt string \"s-\" (-> linestyle='-'). The keyword argument will take precedence.\n",
      "/Users/gbrammer/miniconda3/envs/grizli37/lib/python3.7/site-packages/ipykernel_launcher.py:47: UserWarning: linestyle is redundantly defined by the 'linestyle' keyword argument and the fmt string \"s-\" (-> linestyle='-'). The keyword argument will take precedence.\n"
     ]
    },
    {
     "name": "stdout",
     "output_type": "stream",
     "text": [
      "266 2514\n",
      "267 2516\n"
     ]
    },
    {
     "name": "stderr",
     "output_type": "stream",
     "text": [
      "/Users/gbrammer/miniconda3/envs/grizli37/lib/python3.7/site-packages/ipykernel_launcher.py:47: UserWarning: linestyle is redundantly defined by the 'linestyle' keyword argument and the fmt string \"s-\" (-> linestyle='-'). The keyword argument will take precedence.\n",
      "/Users/gbrammer/miniconda3/envs/grizli37/lib/python3.7/site-packages/ipykernel_launcher.py:47: UserWarning: linestyle is redundantly defined by the 'linestyle' keyword argument and the fmt string \"s-\" (-> linestyle='-'). The keyword argument will take precedence.\n",
      "/Users/gbrammer/miniconda3/envs/grizli37/lib/python3.7/site-packages/ipykernel_launcher.py:47: UserWarning: linestyle is redundantly defined by the 'linestyle' keyword argument and the fmt string \"s-\" (-> linestyle='-'). The keyword argument will take precedence.\n"
     ]
    },
    {
     "name": "stdout",
     "output_type": "stream",
     "text": [
      "268 2555\n"
     ]
    },
    {
     "name": "stderr",
     "output_type": "stream",
     "text": [
      "/Users/gbrammer/miniconda3/envs/grizli37/lib/python3.7/site-packages/ipykernel_launcher.py:47: UserWarning: linestyle is redundantly defined by the 'linestyle' keyword argument and the fmt string \"s-\" (-> linestyle='-'). The keyword argument will take precedence.\n",
      "/Users/gbrammer/miniconda3/envs/grizli37/lib/python3.7/site-packages/ipykernel_launcher.py:47: UserWarning: linestyle is redundantly defined by the 'linestyle' keyword argument and the fmt string \"s-\" (-> linestyle='-'). The keyword argument will take precedence.\n"
     ]
    },
    {
     "name": "stdout",
     "output_type": "stream",
     "text": [
      "269 2561\n",
      "270 2565\n"
     ]
    },
    {
     "name": "stderr",
     "output_type": "stream",
     "text": [
      "/Users/gbrammer/miniconda3/envs/grizli37/lib/python3.7/site-packages/ipykernel_launcher.py:47: UserWarning: linestyle is redundantly defined by the 'linestyle' keyword argument and the fmt string \"s-\" (-> linestyle='-'). The keyword argument will take precedence.\n",
      "/Users/gbrammer/miniconda3/envs/grizli37/lib/python3.7/site-packages/ipykernel_launcher.py:47: UserWarning: linestyle is redundantly defined by the 'linestyle' keyword argument and the fmt string \"s-\" (-> linestyle='-'). The keyword argument will take precedence.\n",
      "/Users/gbrammer/miniconda3/envs/grizli37/lib/python3.7/site-packages/ipykernel_launcher.py:47: UserWarning: linestyle is redundantly defined by the 'linestyle' keyword argument and the fmt string \"s-\" (-> linestyle='-'). The keyword argument will take precedence.\n",
      "/Users/gbrammer/miniconda3/envs/grizli37/lib/python3.7/site-packages/ipykernel_launcher.py:47: UserWarning: linestyle is redundantly defined by the 'linestyle' keyword argument and the fmt string \"s-\" (-> linestyle='-'). The keyword argument will take precedence.\n",
      "/Users/gbrammer/miniconda3/envs/grizli37/lib/python3.7/site-packages/ipykernel_launcher.py:47: UserWarning: linestyle is redundantly defined by the 'linestyle' keyword argument and the fmt string \"s-\" (-> linestyle='-'). The keyword argument will take precedence.\n",
      "/Users/gbrammer/miniconda3/envs/grizli37/lib/python3.7/site-packages/ipykernel_launcher.py:47: UserWarning: linestyle is redundantly defined by the 'linestyle' keyword argument and the fmt string \"s-\" (-> linestyle='-'). The keyword argument will take precedence.\n",
      "/Users/gbrammer/miniconda3/envs/grizli37/lib/python3.7/site-packages/ipykernel_launcher.py:47: UserWarning: linestyle is redundantly defined by the 'linestyle' keyword argument and the fmt string \"s-\" (-> linestyle='-'). The keyword argument will take precedence.\n"
     ]
    },
    {
     "name": "stdout",
     "output_type": "stream",
     "text": [
      "271 2566\n"
     ]
    },
    {
     "name": "stderr",
     "output_type": "stream",
     "text": [
      "/Users/gbrammer/miniconda3/envs/grizli37/lib/python3.7/site-packages/ipykernel_launcher.py:47: UserWarning: linestyle is redundantly defined by the 'linestyle' keyword argument and the fmt string \"s-\" (-> linestyle='-'). The keyword argument will take precedence.\n",
      "/Users/gbrammer/miniconda3/envs/grizli37/lib/python3.7/site-packages/ipykernel_launcher.py:47: UserWarning: linestyle is redundantly defined by the 'linestyle' keyword argument and the fmt string \"s-\" (-> linestyle='-'). The keyword argument will take precedence.\n"
     ]
    },
    {
     "name": "stdout",
     "output_type": "stream",
     "text": [
      "272 2567\n"
     ]
    },
    {
     "name": "stderr",
     "output_type": "stream",
     "text": [
      "/Users/gbrammer/miniconda3/envs/grizli37/lib/python3.7/site-packages/ipykernel_launcher.py:47: UserWarning: linestyle is redundantly defined by the 'linestyle' keyword argument and the fmt string \"s-\" (-> linestyle='-'). The keyword argument will take precedence.\n",
      "/Users/gbrammer/miniconda3/envs/grizli37/lib/python3.7/site-packages/ipykernel_launcher.py:47: UserWarning: linestyle is redundantly defined by the 'linestyle' keyword argument and the fmt string \"s-\" (-> linestyle='-'). The keyword argument will take precedence.\n",
      "/Users/gbrammer/miniconda3/envs/grizli37/lib/python3.7/site-packages/ipykernel_launcher.py:47: UserWarning: linestyle is redundantly defined by the 'linestyle' keyword argument and the fmt string \"s-\" (-> linestyle='-'). The keyword argument will take precedence.\n",
      "/Users/gbrammer/miniconda3/envs/grizli37/lib/python3.7/site-packages/ipykernel_launcher.py:47: UserWarning: linestyle is redundantly defined by the 'linestyle' keyword argument and the fmt string \"s-\" (-> linestyle='-'). The keyword argument will take precedence.\n",
      "/Users/gbrammer/miniconda3/envs/grizli37/lib/python3.7/site-packages/ipykernel_launcher.py:47: UserWarning: linestyle is redundantly defined by the 'linestyle' keyword argument and the fmt string \"s-\" (-> linestyle='-'). The keyword argument will take precedence.\n",
      "/Users/gbrammer/miniconda3/envs/grizli37/lib/python3.7/site-packages/ipykernel_launcher.py:47: UserWarning: linestyle is redundantly defined by the 'linestyle' keyword argument and the fmt string \"s-\" (-> linestyle='-'). The keyword argument will take precedence.\n",
      "/Users/gbrammer/miniconda3/envs/grizli37/lib/python3.7/site-packages/ipykernel_launcher.py:47: UserWarning: linestyle is redundantly defined by the 'linestyle' keyword argument and the fmt string \"s-\" (-> linestyle='-'). The keyword argument will take precedence.\n",
      "/Users/gbrammer/miniconda3/envs/grizli37/lib/python3.7/site-packages/ipykernel_launcher.py:47: UserWarning: linestyle is redundantly defined by the 'linestyle' keyword argument and the fmt string \"s-\" (-> linestyle='-'). The keyword argument will take precedence.\n",
      "/Users/gbrammer/miniconda3/envs/grizli37/lib/python3.7/site-packages/ipykernel_launcher.py:47: UserWarning: linestyle is redundantly defined by the 'linestyle' keyword argument and the fmt string \"s-\" (-> linestyle='-'). The keyword argument will take precedence.\n",
      "/Users/gbrammer/miniconda3/envs/grizli37/lib/python3.7/site-packages/ipykernel_launcher.py:47: UserWarning: linestyle is redundantly defined by the 'linestyle' keyword argument and the fmt string \"s-\" (-> linestyle='-'). The keyword argument will take precedence.\n",
      "/Users/gbrammer/miniconda3/envs/grizli37/lib/python3.7/site-packages/ipykernel_launcher.py:47: UserWarning: linestyle is redundantly defined by the 'linestyle' keyword argument and the fmt string \"s-\" (-> linestyle='-'). The keyword argument will take precedence.\n",
      "/Users/gbrammer/miniconda3/envs/grizli37/lib/python3.7/site-packages/ipykernel_launcher.py:47: UserWarning: linestyle is redundantly defined by the 'linestyle' keyword argument and the fmt string \"s-\" (-> linestyle='-'). The keyword argument will take precedence.\n",
      "/Users/gbrammer/miniconda3/envs/grizli37/lib/python3.7/site-packages/ipykernel_launcher.py:47: UserWarning: linestyle is redundantly defined by the 'linestyle' keyword argument and the fmt string \"s-\" (-> linestyle='-'). The keyword argument will take precedence.\n",
      "/Users/gbrammer/miniconda3/envs/grizli37/lib/python3.7/site-packages/ipykernel_launcher.py:47: UserWarning: linestyle is redundantly defined by the 'linestyle' keyword argument and the fmt string \"s-\" (-> linestyle='-'). The keyword argument will take precedence.\n",
      "/Users/gbrammer/miniconda3/envs/grizli37/lib/python3.7/site-packages/ipykernel_launcher.py:47: UserWarning: linestyle is redundantly defined by the 'linestyle' keyword argument and the fmt string \"s-\" (-> linestyle='-'). The keyword argument will take precedence.\n",
      "/Users/gbrammer/miniconda3/envs/grizli37/lib/python3.7/site-packages/ipykernel_launcher.py:47: UserWarning: linestyle is redundantly defined by the 'linestyle' keyword argument and the fmt string \"s-\" (-> linestyle='-'). The keyword argument will take precedence.\n",
      "/Users/gbrammer/miniconda3/envs/grizli37/lib/python3.7/site-packages/ipykernel_launcher.py:47: UserWarning: linestyle is redundantly defined by the 'linestyle' keyword argument and the fmt string \"s-\" (-> linestyle='-'). The keyword argument will take precedence.\n",
      "/Users/gbrammer/miniconda3/envs/grizli37/lib/python3.7/site-packages/ipykernel_launcher.py:47: UserWarning: linestyle is redundantly defined by the 'linestyle' keyword argument and the fmt string \"s-\" (-> linestyle='-'). The keyword argument will take precedence.\n",
      "/Users/gbrammer/miniconda3/envs/grizli37/lib/python3.7/site-packages/ipykernel_launcher.py:47: UserWarning: linestyle is redundantly defined by the 'linestyle' keyword argument and the fmt string \"s-\" (-> linestyle='-'). The keyword argument will take precedence.\n",
      "/Users/gbrammer/miniconda3/envs/grizli37/lib/python3.7/site-packages/ipykernel_launcher.py:47: UserWarning: linestyle is redundantly defined by the 'linestyle' keyword argument and the fmt string \"s-\" (-> linestyle='-'). The keyword argument will take precedence.\n"
     ]
    },
    {
     "name": "stdout",
     "output_type": "stream",
     "text": [
      "273 2581\n"
     ]
    },
    {
     "name": "stderr",
     "output_type": "stream",
     "text": [
      "/Users/gbrammer/miniconda3/envs/grizli37/lib/python3.7/site-packages/ipykernel_launcher.py:47: UserWarning: linestyle is redundantly defined by the 'linestyle' keyword argument and the fmt string \"s-\" (-> linestyle='-'). The keyword argument will take precedence.\n",
      "/Users/gbrammer/miniconda3/envs/grizli37/lib/python3.7/site-packages/ipykernel_launcher.py:47: UserWarning: linestyle is redundantly defined by the 'linestyle' keyword argument and the fmt string \"s-\" (-> linestyle='-'). The keyword argument will take precedence.\n",
      "/Users/gbrammer/miniconda3/envs/grizli37/lib/python3.7/site-packages/ipykernel_launcher.py:47: UserWarning: linestyle is redundantly defined by the 'linestyle' keyword argument and the fmt string \"s-\" (-> linestyle='-'). The keyword argument will take precedence.\n"
     ]
    },
    {
     "name": "stdout",
     "output_type": "stream",
     "text": [
      "274 2593\n"
     ]
    },
    {
     "name": "stderr",
     "output_type": "stream",
     "text": [
      "/Users/gbrammer/miniconda3/envs/grizli37/lib/python3.7/site-packages/ipykernel_launcher.py:47: UserWarning: linestyle is redundantly defined by the 'linestyle' keyword argument and the fmt string \"s-\" (-> linestyle='-'). The keyword argument will take precedence.\n",
      "/Users/gbrammer/miniconda3/envs/grizli37/lib/python3.7/site-packages/ipykernel_launcher.py:47: UserWarning: linestyle is redundantly defined by the 'linestyle' keyword argument and the fmt string \"s-\" (-> linestyle='-'). The keyword argument will take precedence.\n"
     ]
    },
    {
     "name": "stdout",
     "output_type": "stream",
     "text": [
      "275 2659\n"
     ]
    },
    {
     "name": "stderr",
     "output_type": "stream",
     "text": [
      "/Users/gbrammer/miniconda3/envs/grizli37/lib/python3.7/site-packages/ipykernel_launcher.py:47: UserWarning: linestyle is redundantly defined by the 'linestyle' keyword argument and the fmt string \"s-\" (-> linestyle='-'). The keyword argument will take precedence.\n",
      "/Users/gbrammer/miniconda3/envs/grizli37/lib/python3.7/site-packages/ipykernel_launcher.py:47: UserWarning: linestyle is redundantly defined by the 'linestyle' keyword argument and the fmt string \"s-\" (-> linestyle='-'). The keyword argument will take precedence.\n",
      "/Users/gbrammer/miniconda3/envs/grizli37/lib/python3.7/site-packages/ipykernel_launcher.py:47: UserWarning: linestyle is redundantly defined by the 'linestyle' keyword argument and the fmt string \"s-\" (-> linestyle='-'). The keyword argument will take precedence.\n",
      "/Users/gbrammer/miniconda3/envs/grizli37/lib/python3.7/site-packages/ipykernel_launcher.py:47: UserWarning: linestyle is redundantly defined by the 'linestyle' keyword argument and the fmt string \"s-\" (-> linestyle='-'). The keyword argument will take precedence.\n",
      "/Users/gbrammer/miniconda3/envs/grizli37/lib/python3.7/site-packages/ipykernel_launcher.py:47: UserWarning: linestyle is redundantly defined by the 'linestyle' keyword argument and the fmt string \"s-\" (-> linestyle='-'). The keyword argument will take precedence.\n"
     ]
    },
    {
     "name": "stdout",
     "output_type": "stream",
     "text": [
      "276 2674\n"
     ]
    },
    {
     "name": "stderr",
     "output_type": "stream",
     "text": [
      "/Users/gbrammer/miniconda3/envs/grizli37/lib/python3.7/site-packages/ipykernel_launcher.py:47: UserWarning: linestyle is redundantly defined by the 'linestyle' keyword argument and the fmt string \"s-\" (-> linestyle='-'). The keyword argument will take precedence.\n",
      "/Users/gbrammer/miniconda3/envs/grizli37/lib/python3.7/site-packages/ipykernel_launcher.py:47: UserWarning: linestyle is redundantly defined by the 'linestyle' keyword argument and the fmt string \"s-\" (-> linestyle='-'). The keyword argument will take precedence.\n",
      "/Users/gbrammer/miniconda3/envs/grizli37/lib/python3.7/site-packages/ipykernel_launcher.py:47: UserWarning: linestyle is redundantly defined by the 'linestyle' keyword argument and the fmt string \"s-\" (-> linestyle='-'). The keyword argument will take precedence.\n",
      "/Users/gbrammer/miniconda3/envs/grizli37/lib/python3.7/site-packages/ipykernel_launcher.py:47: UserWarning: linestyle is redundantly defined by the 'linestyle' keyword argument and the fmt string \"s-\" (-> linestyle='-'). The keyword argument will take precedence.\n"
     ]
    },
    {
     "name": "stdout",
     "output_type": "stream",
     "text": [
      "277 2687\n",
      "Fail\n",
      "278 1835\n"
     ]
    },
    {
     "name": "stderr",
     "output_type": "stream",
     "text": [
      "/Users/gbrammer/miniconda3/envs/grizli37/lib/python3.7/site-packages/ipykernel_launcher.py:47: UserWarning: linestyle is redundantly defined by the 'linestyle' keyword argument and the fmt string \"s-\" (-> linestyle='-'). The keyword argument will take precedence.\n",
      "/Users/gbrammer/miniconda3/envs/grizli37/lib/python3.7/site-packages/ipykernel_launcher.py:47: UserWarning: linestyle is redundantly defined by the 'linestyle' keyword argument and the fmt string \"s-\" (-> linestyle='-'). The keyword argument will take precedence.\n"
     ]
    },
    {
     "name": "stdout",
     "output_type": "stream",
     "text": [
      "279 2073\n"
     ]
    },
    {
     "name": "stderr",
     "output_type": "stream",
     "text": [
      "/Users/gbrammer/miniconda3/envs/grizli37/lib/python3.7/site-packages/ipykernel_launcher.py:47: UserWarning: linestyle is redundantly defined by the 'linestyle' keyword argument and the fmt string \"s-\" (-> linestyle='-'). The keyword argument will take precedence.\n",
      "/Users/gbrammer/miniconda3/envs/grizli37/lib/python3.7/site-packages/ipykernel_launcher.py:47: UserWarning: linestyle is redundantly defined by the 'linestyle' keyword argument and the fmt string \"s-\" (-> linestyle='-'). The keyword argument will take precedence.\n",
      "/Users/gbrammer/miniconda3/envs/grizli37/lib/python3.7/site-packages/ipykernel_launcher.py:47: UserWarning: linestyle is redundantly defined by the 'linestyle' keyword argument and the fmt string \"s-\" (-> linestyle='-'). The keyword argument will take precedence.\n",
      "/Users/gbrammer/miniconda3/envs/grizli37/lib/python3.7/site-packages/ipykernel_launcher.py:47: UserWarning: linestyle is redundantly defined by the 'linestyle' keyword argument and the fmt string \"s-\" (-> linestyle='-'). The keyword argument will take precedence.\n",
      "/Users/gbrammer/miniconda3/envs/grizli37/lib/python3.7/site-packages/ipykernel_launcher.py:47: UserWarning: linestyle is redundantly defined by the 'linestyle' keyword argument and the fmt string \"s-\" (-> linestyle='-'). The keyword argument will take precedence.\n",
      "/Users/gbrammer/miniconda3/envs/grizli37/lib/python3.7/site-packages/ipykernel_launcher.py:47: UserWarning: linestyle is redundantly defined by the 'linestyle' keyword argument and the fmt string \"s-\" (-> linestyle='-'). The keyword argument will take precedence.\n",
      "/Users/gbrammer/miniconda3/envs/grizli37/lib/python3.7/site-packages/ipykernel_launcher.py:47: UserWarning: linestyle is redundantly defined by the 'linestyle' keyword argument and the fmt string \"s-\" (-> linestyle='-'). The keyword argument will take precedence.\n",
      "/Users/gbrammer/miniconda3/envs/grizli37/lib/python3.7/site-packages/ipykernel_launcher.py:47: UserWarning: linestyle is redundantly defined by the 'linestyle' keyword argument and the fmt string \"s-\" (-> linestyle='-'). The keyword argument will take precedence.\n",
      "/Users/gbrammer/miniconda3/envs/grizli37/lib/python3.7/site-packages/ipykernel_launcher.py:47: UserWarning: linestyle is redundantly defined by the 'linestyle' keyword argument and the fmt string \"s-\" (-> linestyle='-'). The keyword argument will take precedence.\n",
      "/Users/gbrammer/miniconda3/envs/grizli37/lib/python3.7/site-packages/ipykernel_launcher.py:47: UserWarning: linestyle is redundantly defined by the 'linestyle' keyword argument and the fmt string \"s-\" (-> linestyle='-'). The keyword argument will take precedence.\n",
      "/Users/gbrammer/miniconda3/envs/grizli37/lib/python3.7/site-packages/ipykernel_launcher.py:47: UserWarning: linestyle is redundantly defined by the 'linestyle' keyword argument and the fmt string \"s-\" (-> linestyle='-'). The keyword argument will take precedence.\n",
      "/Users/gbrammer/miniconda3/envs/grizli37/lib/python3.7/site-packages/ipykernel_launcher.py:47: UserWarning: linestyle is redundantly defined by the 'linestyle' keyword argument and the fmt string \"s-\" (-> linestyle='-'). The keyword argument will take precedence.\n",
      "/Users/gbrammer/miniconda3/envs/grizli37/lib/python3.7/site-packages/ipykernel_launcher.py:47: UserWarning: linestyle is redundantly defined by the 'linestyle' keyword argument and the fmt string \"s-\" (-> linestyle='-'). The keyword argument will take precedence.\n",
      "/Users/gbrammer/miniconda3/envs/grizli37/lib/python3.7/site-packages/ipykernel_launcher.py:47: UserWarning: linestyle is redundantly defined by the 'linestyle' keyword argument and the fmt string \"s-\" (-> linestyle='-'). The keyword argument will take precedence.\n",
      "/Users/gbrammer/miniconda3/envs/grizli37/lib/python3.7/site-packages/ipykernel_launcher.py:47: UserWarning: linestyle is redundantly defined by the 'linestyle' keyword argument and the fmt string \"s-\" (-> linestyle='-'). The keyword argument will take precedence.\n",
      "/Users/gbrammer/miniconda3/envs/grizli37/lib/python3.7/site-packages/ipykernel_launcher.py:47: UserWarning: linestyle is redundantly defined by the 'linestyle' keyword argument and the fmt string \"s-\" (-> linestyle='-'). The keyword argument will take precedence.\n",
      "/Users/gbrammer/miniconda3/envs/grizli37/lib/python3.7/site-packages/ipykernel_launcher.py:47: UserWarning: linestyle is redundantly defined by the 'linestyle' keyword argument and the fmt string \"s-\" (-> linestyle='-'). The keyword argument will take precedence.\n",
      "/Users/gbrammer/miniconda3/envs/grizli37/lib/python3.7/site-packages/ipykernel_launcher.py:47: UserWarning: linestyle is redundantly defined by the 'linestyle' keyword argument and the fmt string \"s-\" (-> linestyle='-'). The keyword argument will take precedence.\n"
     ]
    },
    {
     "name": "stdout",
     "output_type": "stream",
     "text": [
      "280 2180\n",
      "281 1638\n"
     ]
    },
    {
     "name": "stderr",
     "output_type": "stream",
     "text": [
      "/Users/gbrammer/miniconda3/envs/grizli37/lib/python3.7/site-packages/ipykernel_launcher.py:47: UserWarning: linestyle is redundantly defined by the 'linestyle' keyword argument and the fmt string \"s-\" (-> linestyle='-'). The keyword argument will take precedence.\n",
      "/Users/gbrammer/miniconda3/envs/grizli37/lib/python3.7/site-packages/ipykernel_launcher.py:47: UserWarning: linestyle is redundantly defined by the 'linestyle' keyword argument and the fmt string \"s-\" (-> linestyle='-'). The keyword argument will take precedence.\n",
      "/Users/gbrammer/miniconda3/envs/grizli37/lib/python3.7/site-packages/ipykernel_launcher.py:47: UserWarning: linestyle is redundantly defined by the 'linestyle' keyword argument and the fmt string \"s-\" (-> linestyle='-'). The keyword argument will take precedence.\n",
      "/Users/gbrammer/miniconda3/envs/grizli37/lib/python3.7/site-packages/ipykernel_launcher.py:47: UserWarning: linestyle is redundantly defined by the 'linestyle' keyword argument and the fmt string \"s-\" (-> linestyle='-'). The keyword argument will take precedence.\n"
     ]
    },
    {
     "name": "stdout",
     "output_type": "stream",
     "text": [
      "282 1727\n",
      "283 1794\n"
     ]
    },
    {
     "name": "stderr",
     "output_type": "stream",
     "text": [
      "/Users/gbrammer/miniconda3/envs/grizli37/lib/python3.7/site-packages/ipykernel_launcher.py:47: UserWarning: linestyle is redundantly defined by the 'linestyle' keyword argument and the fmt string \"s-\" (-> linestyle='-'). The keyword argument will take precedence.\n",
      "/Users/gbrammer/miniconda3/envs/grizli37/lib/python3.7/site-packages/ipykernel_launcher.py:47: UserWarning: linestyle is redundantly defined by the 'linestyle' keyword argument and the fmt string \"s-\" (-> linestyle='-'). The keyword argument will take precedence.\n"
     ]
    },
    {
     "name": "stdout",
     "output_type": "stream",
     "text": [
      "284 1871\n"
     ]
    },
    {
     "name": "stderr",
     "output_type": "stream",
     "text": [
      "/Users/gbrammer/miniconda3/envs/grizli37/lib/python3.7/site-packages/ipykernel_launcher.py:47: UserWarning: linestyle is redundantly defined by the 'linestyle' keyword argument and the fmt string \"s-\" (-> linestyle='-'). The keyword argument will take precedence.\n"
     ]
    },
    {
     "name": "stdout",
     "output_type": "stream",
     "text": [
      "285 1995\n"
     ]
    },
    {
     "name": "stderr",
     "output_type": "stream",
     "text": [
      "/Users/gbrammer/miniconda3/envs/grizli37/lib/python3.7/site-packages/ipykernel_launcher.py:47: UserWarning: linestyle is redundantly defined by the 'linestyle' keyword argument and the fmt string \"s-\" (-> linestyle='-'). The keyword argument will take precedence.\n",
      "/Users/gbrammer/miniconda3/envs/grizli37/lib/python3.7/site-packages/ipykernel_launcher.py:47: UserWarning: linestyle is redundantly defined by the 'linestyle' keyword argument and the fmt string \"s-\" (-> linestyle='-'). The keyword argument will take precedence.\n",
      "/Users/gbrammer/miniconda3/envs/grizli37/lib/python3.7/site-packages/ipykernel_launcher.py:47: UserWarning: linestyle is redundantly defined by the 'linestyle' keyword argument and the fmt string \"s-\" (-> linestyle='-'). The keyword argument will take precedence.\n",
      "/Users/gbrammer/miniconda3/envs/grizli37/lib/python3.7/site-packages/ipykernel_launcher.py:47: UserWarning: linestyle is redundantly defined by the 'linestyle' keyword argument and the fmt string \"s-\" (-> linestyle='-'). The keyword argument will take precedence.\n",
      "/Users/gbrammer/miniconda3/envs/grizli37/lib/python3.7/site-packages/ipykernel_launcher.py:47: UserWarning: linestyle is redundantly defined by the 'linestyle' keyword argument and the fmt string \"s-\" (-> linestyle='-'). The keyword argument will take precedence.\n",
      "/Users/gbrammer/miniconda3/envs/grizli37/lib/python3.7/site-packages/ipykernel_launcher.py:47: UserWarning: linestyle is redundantly defined by the 'linestyle' keyword argument and the fmt string \"s-\" (-> linestyle='-'). The keyword argument will take precedence.\n",
      "/Users/gbrammer/miniconda3/envs/grizli37/lib/python3.7/site-packages/ipykernel_launcher.py:47: UserWarning: linestyle is redundantly defined by the 'linestyle' keyword argument and the fmt string \"s-\" (-> linestyle='-'). The keyword argument will take precedence.\n",
      "/Users/gbrammer/miniconda3/envs/grizli37/lib/python3.7/site-packages/ipykernel_launcher.py:47: UserWarning: linestyle is redundantly defined by the 'linestyle' keyword argument and the fmt string \"s-\" (-> linestyle='-'). The keyword argument will take precedence.\n",
      "/Users/gbrammer/miniconda3/envs/grizli37/lib/python3.7/site-packages/ipykernel_launcher.py:47: UserWarning: linestyle is redundantly defined by the 'linestyle' keyword argument and the fmt string \"s-\" (-> linestyle='-'). The keyword argument will take precedence.\n",
      "/Users/gbrammer/miniconda3/envs/grizli37/lib/python3.7/site-packages/ipykernel_launcher.py:47: UserWarning: linestyle is redundantly defined by the 'linestyle' keyword argument and the fmt string \"s-\" (-> linestyle='-'). The keyword argument will take precedence.\n",
      "/Users/gbrammer/miniconda3/envs/grizli37/lib/python3.7/site-packages/ipykernel_launcher.py:47: UserWarning: linestyle is redundantly defined by the 'linestyle' keyword argument and the fmt string \"s-\" (-> linestyle='-'). The keyword argument will take precedence.\n",
      "/Users/gbrammer/miniconda3/envs/grizli37/lib/python3.7/site-packages/ipykernel_launcher.py:47: UserWarning: linestyle is redundantly defined by the 'linestyle' keyword argument and the fmt string \"s-\" (-> linestyle='-'). The keyword argument will take precedence.\n",
      "/Users/gbrammer/miniconda3/envs/grizli37/lib/python3.7/site-packages/ipykernel_launcher.py:47: UserWarning: linestyle is redundantly defined by the 'linestyle' keyword argument and the fmt string \"s-\" (-> linestyle='-'). The keyword argument will take precedence.\n",
      "/Users/gbrammer/miniconda3/envs/grizli37/lib/python3.7/site-packages/ipykernel_launcher.py:47: UserWarning: linestyle is redundantly defined by the 'linestyle' keyword argument and the fmt string \"s-\" (-> linestyle='-'). The keyword argument will take precedence.\n",
      "/Users/gbrammer/miniconda3/envs/grizli37/lib/python3.7/site-packages/ipykernel_launcher.py:47: UserWarning: linestyle is redundantly defined by the 'linestyle' keyword argument and the fmt string \"s-\" (-> linestyle='-'). The keyword argument will take precedence.\n"
     ]
    },
    {
     "name": "stdout",
     "output_type": "stream",
     "text": [
      "286 2046\n"
     ]
    },
    {
     "name": "stderr",
     "output_type": "stream",
     "text": [
      "/Users/gbrammer/miniconda3/envs/grizli37/lib/python3.7/site-packages/ipykernel_launcher.py:47: UserWarning: linestyle is redundantly defined by the 'linestyle' keyword argument and the fmt string \"s-\" (-> linestyle='-'). The keyword argument will take precedence.\n",
      "/Users/gbrammer/miniconda3/envs/grizli37/lib/python3.7/site-packages/ipykernel_launcher.py:47: UserWarning: linestyle is redundantly defined by the 'linestyle' keyword argument and the fmt string \"s-\" (-> linestyle='-'). The keyword argument will take precedence.\n",
      "/Users/gbrammer/miniconda3/envs/grizli37/lib/python3.7/site-packages/ipykernel_launcher.py:47: UserWarning: linestyle is redundantly defined by the 'linestyle' keyword argument and the fmt string \"s-\" (-> linestyle='-'). The keyword argument will take precedence.\n",
      "/Users/gbrammer/miniconda3/envs/grizli37/lib/python3.7/site-packages/ipykernel_launcher.py:47: UserWarning: linestyle is redundantly defined by the 'linestyle' keyword argument and the fmt string \"s-\" (-> linestyle='-'). The keyword argument will take precedence.\n",
      "/Users/gbrammer/miniconda3/envs/grizli37/lib/python3.7/site-packages/ipykernel_launcher.py:47: UserWarning: linestyle is redundantly defined by the 'linestyle' keyword argument and the fmt string \"s-\" (-> linestyle='-'). The keyword argument will take precedence.\n",
      "/Users/gbrammer/miniconda3/envs/grizli37/lib/python3.7/site-packages/ipykernel_launcher.py:47: UserWarning: linestyle is redundantly defined by the 'linestyle' keyword argument and the fmt string \"s-\" (-> linestyle='-'). The keyword argument will take precedence.\n",
      "/Users/gbrammer/miniconda3/envs/grizli37/lib/python3.7/site-packages/ipykernel_launcher.py:47: UserWarning: linestyle is redundantly defined by the 'linestyle' keyword argument and the fmt string \"s-\" (-> linestyle='-'). The keyword argument will take precedence.\n",
      "/Users/gbrammer/miniconda3/envs/grizli37/lib/python3.7/site-packages/ipykernel_launcher.py:47: UserWarning: linestyle is redundantly defined by the 'linestyle' keyword argument and the fmt string \"s-\" (-> linestyle='-'). The keyword argument will take precedence.\n",
      "/Users/gbrammer/miniconda3/envs/grizli37/lib/python3.7/site-packages/ipykernel_launcher.py:47: UserWarning: linestyle is redundantly defined by the 'linestyle' keyword argument and the fmt string \"s-\" (-> linestyle='-'). The keyword argument will take precedence.\n",
      "/Users/gbrammer/miniconda3/envs/grizli37/lib/python3.7/site-packages/ipykernel_launcher.py:47: UserWarning: linestyle is redundantly defined by the 'linestyle' keyword argument and the fmt string \"s-\" (-> linestyle='-'). The keyword argument will take precedence.\n",
      "/Users/gbrammer/miniconda3/envs/grizli37/lib/python3.7/site-packages/ipykernel_launcher.py:47: UserWarning: linestyle is redundantly defined by the 'linestyle' keyword argument and the fmt string \"s-\" (-> linestyle='-'). The keyword argument will take precedence.\n",
      "/Users/gbrammer/miniconda3/envs/grizli37/lib/python3.7/site-packages/ipykernel_launcher.py:47: UserWarning: linestyle is redundantly defined by the 'linestyle' keyword argument and the fmt string \"s-\" (-> linestyle='-'). The keyword argument will take precedence.\n",
      "/Users/gbrammer/miniconda3/envs/grizli37/lib/python3.7/site-packages/ipykernel_launcher.py:47: UserWarning: linestyle is redundantly defined by the 'linestyle' keyword argument and the fmt string \"s-\" (-> linestyle='-'). The keyword argument will take precedence.\n",
      "/Users/gbrammer/miniconda3/envs/grizli37/lib/python3.7/site-packages/ipykernel_launcher.py:47: UserWarning: linestyle is redundantly defined by the 'linestyle' keyword argument and the fmt string \"s-\" (-> linestyle='-'). The keyword argument will take precedence.\n",
      "/Users/gbrammer/miniconda3/envs/grizli37/lib/python3.7/site-packages/ipykernel_launcher.py:47: UserWarning: linestyle is redundantly defined by the 'linestyle' keyword argument and the fmt string \"s-\" (-> linestyle='-'). The keyword argument will take precedence.\n",
      "/Users/gbrammer/miniconda3/envs/grizli37/lib/python3.7/site-packages/ipykernel_launcher.py:47: UserWarning: linestyle is redundantly defined by the 'linestyle' keyword argument and the fmt string \"s-\" (-> linestyle='-'). The keyword argument will take precedence.\n",
      "/Users/gbrammer/miniconda3/envs/grizli37/lib/python3.7/site-packages/ipykernel_launcher.py:47: UserWarning: linestyle is redundantly defined by the 'linestyle' keyword argument and the fmt string \"s-\" (-> linestyle='-'). The keyword argument will take precedence.\n",
      "/Users/gbrammer/miniconda3/envs/grizli37/lib/python3.7/site-packages/ipykernel_launcher.py:47: UserWarning: linestyle is redundantly defined by the 'linestyle' keyword argument and the fmt string \"s-\" (-> linestyle='-'). The keyword argument will take precedence.\n",
      "/Users/gbrammer/miniconda3/envs/grizli37/lib/python3.7/site-packages/ipykernel_launcher.py:47: UserWarning: linestyle is redundantly defined by the 'linestyle' keyword argument and the fmt string \"s-\" (-> linestyle='-'). The keyword argument will take precedence.\n",
      "/Users/gbrammer/miniconda3/envs/grizli37/lib/python3.7/site-packages/ipykernel_launcher.py:47: UserWarning: linestyle is redundantly defined by the 'linestyle' keyword argument and the fmt string \"s-\" (-> linestyle='-'). The keyword argument will take precedence.\n",
      "/Users/gbrammer/miniconda3/envs/grizli37/lib/python3.7/site-packages/ipykernel_launcher.py:47: UserWarning: linestyle is redundantly defined by the 'linestyle' keyword argument and the fmt string \"s-\" (-> linestyle='-'). The keyword argument will take precedence.\n",
      "/Users/gbrammer/miniconda3/envs/grizli37/lib/python3.7/site-packages/ipykernel_launcher.py:47: UserWarning: linestyle is redundantly defined by the 'linestyle' keyword argument and the fmt string \"s-\" (-> linestyle='-'). The keyword argument will take precedence.\n",
      "/Users/gbrammer/miniconda3/envs/grizli37/lib/python3.7/site-packages/ipykernel_launcher.py:47: UserWarning: linestyle is redundantly defined by the 'linestyle' keyword argument and the fmt string \"s-\" (-> linestyle='-'). The keyword argument will take precedence.\n",
      "/Users/gbrammer/miniconda3/envs/grizli37/lib/python3.7/site-packages/ipykernel_launcher.py:47: UserWarning: linestyle is redundantly defined by the 'linestyle' keyword argument and the fmt string \"s-\" (-> linestyle='-'). The keyword argument will take precedence.\n",
      "/Users/gbrammer/miniconda3/envs/grizli37/lib/python3.7/site-packages/ipykernel_launcher.py:47: UserWarning: linestyle is redundantly defined by the 'linestyle' keyword argument and the fmt string \"s-\" (-> linestyle='-'). The keyword argument will take precedence.\n",
      "/Users/gbrammer/miniconda3/envs/grizli37/lib/python3.7/site-packages/ipykernel_launcher.py:47: UserWarning: linestyle is redundantly defined by the 'linestyle' keyword argument and the fmt string \"s-\" (-> linestyle='-'). The keyword argument will take precedence.\n",
      "/Users/gbrammer/miniconda3/envs/grizli37/lib/python3.7/site-packages/ipykernel_launcher.py:47: UserWarning: linestyle is redundantly defined by the 'linestyle' keyword argument and the fmt string \"s-\" (-> linestyle='-'). The keyword argument will take precedence.\n"
     ]
    },
    {
     "name": "stdout",
     "output_type": "stream",
     "text": [
      "287 2078\n"
     ]
    },
    {
     "name": "stderr",
     "output_type": "stream",
     "text": [
      "/Users/gbrammer/miniconda3/envs/grizli37/lib/python3.7/site-packages/ipykernel_launcher.py:47: UserWarning: linestyle is redundantly defined by the 'linestyle' keyword argument and the fmt string \"s-\" (-> linestyle='-'). The keyword argument will take precedence.\n",
      "/Users/gbrammer/miniconda3/envs/grizli37/lib/python3.7/site-packages/ipykernel_launcher.py:47: UserWarning: linestyle is redundantly defined by the 'linestyle' keyword argument and the fmt string \"s-\" (-> linestyle='-'). The keyword argument will take precedence.\n",
      "/Users/gbrammer/miniconda3/envs/grizli37/lib/python3.7/site-packages/ipykernel_launcher.py:47: UserWarning: linestyle is redundantly defined by the 'linestyle' keyword argument and the fmt string \"s-\" (-> linestyle='-'). The keyword argument will take precedence.\n",
      "/Users/gbrammer/miniconda3/envs/grizli37/lib/python3.7/site-packages/ipykernel_launcher.py:47: UserWarning: linestyle is redundantly defined by the 'linestyle' keyword argument and the fmt string \"s-\" (-> linestyle='-'). The keyword argument will take precedence.\n",
      "/Users/gbrammer/miniconda3/envs/grizli37/lib/python3.7/site-packages/ipykernel_launcher.py:47: UserWarning: linestyle is redundantly defined by the 'linestyle' keyword argument and the fmt string \"s-\" (-> linestyle='-'). The keyword argument will take precedence.\n",
      "/Users/gbrammer/miniconda3/envs/grizli37/lib/python3.7/site-packages/ipykernel_launcher.py:47: UserWarning: linestyle is redundantly defined by the 'linestyle' keyword argument and the fmt string \"s-\" (-> linestyle='-'). The keyword argument will take precedence.\n",
      "/Users/gbrammer/miniconda3/envs/grizli37/lib/python3.7/site-packages/ipykernel_launcher.py:47: UserWarning: linestyle is redundantly defined by the 'linestyle' keyword argument and the fmt string \"s-\" (-> linestyle='-'). The keyword argument will take precedence.\n",
      "/Users/gbrammer/miniconda3/envs/grizli37/lib/python3.7/site-packages/ipykernel_launcher.py:47: UserWarning: linestyle is redundantly defined by the 'linestyle' keyword argument and the fmt string \"s-\" (-> linestyle='-'). The keyword argument will take precedence.\n",
      "/Users/gbrammer/miniconda3/envs/grizli37/lib/python3.7/site-packages/ipykernel_launcher.py:47: UserWarning: linestyle is redundantly defined by the 'linestyle' keyword argument and the fmt string \"s-\" (-> linestyle='-'). The keyword argument will take precedence.\n",
      "/Users/gbrammer/miniconda3/envs/grizli37/lib/python3.7/site-packages/ipykernel_launcher.py:47: UserWarning: linestyle is redundantly defined by the 'linestyle' keyword argument and the fmt string \"s-\" (-> linestyle='-'). The keyword argument will take precedence.\n",
      "/Users/gbrammer/miniconda3/envs/grizli37/lib/python3.7/site-packages/ipykernel_launcher.py:47: UserWarning: linestyle is redundantly defined by the 'linestyle' keyword argument and the fmt string \"s-\" (-> linestyle='-'). The keyword argument will take precedence.\n",
      "/Users/gbrammer/miniconda3/envs/grizli37/lib/python3.7/site-packages/ipykernel_launcher.py:47: UserWarning: linestyle is redundantly defined by the 'linestyle' keyword argument and the fmt string \"s-\" (-> linestyle='-'). The keyword argument will take precedence.\n",
      "/Users/gbrammer/miniconda3/envs/grizli37/lib/python3.7/site-packages/ipykernel_launcher.py:47: UserWarning: linestyle is redundantly defined by the 'linestyle' keyword argument and the fmt string \"s-\" (-> linestyle='-'). The keyword argument will take precedence.\n",
      "/Users/gbrammer/miniconda3/envs/grizli37/lib/python3.7/site-packages/ipykernel_launcher.py:47: UserWarning: linestyle is redundantly defined by the 'linestyle' keyword argument and the fmt string \"s-\" (-> linestyle='-'). The keyword argument will take precedence.\n",
      "/Users/gbrammer/miniconda3/envs/grizli37/lib/python3.7/site-packages/ipykernel_launcher.py:47: UserWarning: linestyle is redundantly defined by the 'linestyle' keyword argument and the fmt string \"s-\" (-> linestyle='-'). The keyword argument will take precedence.\n",
      "/Users/gbrammer/miniconda3/envs/grizli37/lib/python3.7/site-packages/ipykernel_launcher.py:47: UserWarning: linestyle is redundantly defined by the 'linestyle' keyword argument and the fmt string \"s-\" (-> linestyle='-'). The keyword argument will take precedence.\n",
      "/Users/gbrammer/miniconda3/envs/grizli37/lib/python3.7/site-packages/ipykernel_launcher.py:47: UserWarning: linestyle is redundantly defined by the 'linestyle' keyword argument and the fmt string \"s-\" (-> linestyle='-'). The keyword argument will take precedence.\n",
      "/Users/gbrammer/miniconda3/envs/grizli37/lib/python3.7/site-packages/ipykernel_launcher.py:47: UserWarning: linestyle is redundantly defined by the 'linestyle' keyword argument and the fmt string \"s-\" (-> linestyle='-'). The keyword argument will take precedence.\n",
      "/Users/gbrammer/miniconda3/envs/grizli37/lib/python3.7/site-packages/ipykernel_launcher.py:47: UserWarning: linestyle is redundantly defined by the 'linestyle' keyword argument and the fmt string \"s-\" (-> linestyle='-'). The keyword argument will take precedence.\n",
      "/Users/gbrammer/miniconda3/envs/grizli37/lib/python3.7/site-packages/ipykernel_launcher.py:47: UserWarning: linestyle is redundantly defined by the 'linestyle' keyword argument and the fmt string \"s-\" (-> linestyle='-'). The keyword argument will take precedence.\n",
      "/Users/gbrammer/miniconda3/envs/grizli37/lib/python3.7/site-packages/ipykernel_launcher.py:47: UserWarning: linestyle is redundantly defined by the 'linestyle' keyword argument and the fmt string \"s-\" (-> linestyle='-'). The keyword argument will take precedence.\n",
      "/Users/gbrammer/miniconda3/envs/grizli37/lib/python3.7/site-packages/ipykernel_launcher.py:47: UserWarning: linestyle is redundantly defined by the 'linestyle' keyword argument and the fmt string \"s-\" (-> linestyle='-'). The keyword argument will take precedence.\n",
      "/Users/gbrammer/miniconda3/envs/grizli37/lib/python3.7/site-packages/ipykernel_launcher.py:47: UserWarning: linestyle is redundantly defined by the 'linestyle' keyword argument and the fmt string \"s-\" (-> linestyle='-'). The keyword argument will take precedence.\n"
     ]
    },
    {
     "name": "stdout",
     "output_type": "stream",
     "text": [
      "288 2134\n"
     ]
    },
    {
     "name": "stderr",
     "output_type": "stream",
     "text": [
      "/Users/gbrammer/miniconda3/envs/grizli37/lib/python3.7/site-packages/ipykernel_launcher.py:47: UserWarning: linestyle is redundantly defined by the 'linestyle' keyword argument and the fmt string \"s-\" (-> linestyle='-'). The keyword argument will take precedence.\n",
      "/Users/gbrammer/miniconda3/envs/grizli37/lib/python3.7/site-packages/ipykernel_launcher.py:47: UserWarning: linestyle is redundantly defined by the 'linestyle' keyword argument and the fmt string \"s-\" (-> linestyle='-'). The keyword argument will take precedence.\n",
      "/Users/gbrammer/miniconda3/envs/grizli37/lib/python3.7/site-packages/ipykernel_launcher.py:47: UserWarning: linestyle is redundantly defined by the 'linestyle' keyword argument and the fmt string \"s-\" (-> linestyle='-'). The keyword argument will take precedence.\n",
      "/Users/gbrammer/miniconda3/envs/grizli37/lib/python3.7/site-packages/ipykernel_launcher.py:47: UserWarning: linestyle is redundantly defined by the 'linestyle' keyword argument and the fmt string \"s-\" (-> linestyle='-'). The keyword argument will take precedence.\n"
     ]
    },
    {
     "name": "stdout",
     "output_type": "stream",
     "text": [
      "289 2608\n",
      "Fail\n",
      "290 1424\n",
      "291 1566\n",
      "292 1568\n"
     ]
    },
    {
     "name": "stderr",
     "output_type": "stream",
     "text": [
      "/Users/gbrammer/miniconda3/envs/grizli37/lib/python3.7/site-packages/ipykernel_launcher.py:47: UserWarning: linestyle is redundantly defined by the 'linestyle' keyword argument and the fmt string \"s-\" (-> linestyle='-'). The keyword argument will take precedence.\n",
      "/Users/gbrammer/miniconda3/envs/grizli37/lib/python3.7/site-packages/ipykernel_launcher.py:47: UserWarning: linestyle is redundantly defined by the 'linestyle' keyword argument and the fmt string \"s-\" (-> linestyle='-'). The keyword argument will take precedence.\n",
      "/Users/gbrammer/miniconda3/envs/grizli37/lib/python3.7/site-packages/ipykernel_launcher.py:47: UserWarning: linestyle is redundantly defined by the 'linestyle' keyword argument and the fmt string \"s-\" (-> linestyle='-'). The keyword argument will take precedence.\n",
      "/Users/gbrammer/miniconda3/envs/grizli37/lib/python3.7/site-packages/ipykernel_launcher.py:47: UserWarning: linestyle is redundantly defined by the 'linestyle' keyword argument and the fmt string \"s-\" (-> linestyle='-'). The keyword argument will take precedence.\n",
      "/Users/gbrammer/miniconda3/envs/grizli37/lib/python3.7/site-packages/ipykernel_launcher.py:47: UserWarning: linestyle is redundantly defined by the 'linestyle' keyword argument and the fmt string \"s-\" (-> linestyle='-'). The keyword argument will take precedence.\n",
      "/Users/gbrammer/miniconda3/envs/grizli37/lib/python3.7/site-packages/ipykernel_launcher.py:47: UserWarning: linestyle is redundantly defined by the 'linestyle' keyword argument and the fmt string \"s-\" (-> linestyle='-'). The keyword argument will take precedence.\n",
      "/Users/gbrammer/miniconda3/envs/grizli37/lib/python3.7/site-packages/ipykernel_launcher.py:47: UserWarning: linestyle is redundantly defined by the 'linestyle' keyword argument and the fmt string \"s-\" (-> linestyle='-'). The keyword argument will take precedence.\n",
      "/Users/gbrammer/miniconda3/envs/grizli37/lib/python3.7/site-packages/ipykernel_launcher.py:47: UserWarning: linestyle is redundantly defined by the 'linestyle' keyword argument and the fmt string \"s-\" (-> linestyle='-'). The keyword argument will take precedence.\n",
      "/Users/gbrammer/miniconda3/envs/grizli37/lib/python3.7/site-packages/ipykernel_launcher.py:47: UserWarning: linestyle is redundantly defined by the 'linestyle' keyword argument and the fmt string \"s-\" (-> linestyle='-'). The keyword argument will take precedence.\n",
      "/Users/gbrammer/miniconda3/envs/grizli37/lib/python3.7/site-packages/ipykernel_launcher.py:47: UserWarning: linestyle is redundantly defined by the 'linestyle' keyword argument and the fmt string \"s-\" (-> linestyle='-'). The keyword argument will take precedence.\n",
      "/Users/gbrammer/miniconda3/envs/grizli37/lib/python3.7/site-packages/ipykernel_launcher.py:47: UserWarning: linestyle is redundantly defined by the 'linestyle' keyword argument and the fmt string \"s-\" (-> linestyle='-'). The keyword argument will take precedence.\n",
      "/Users/gbrammer/miniconda3/envs/grizli37/lib/python3.7/site-packages/ipykernel_launcher.py:47: UserWarning: linestyle is redundantly defined by the 'linestyle' keyword argument and the fmt string \"s-\" (-> linestyle='-'). The keyword argument will take precedence.\n",
      "/Users/gbrammer/miniconda3/envs/grizli37/lib/python3.7/site-packages/ipykernel_launcher.py:47: UserWarning: linestyle is redundantly defined by the 'linestyle' keyword argument and the fmt string \"s-\" (-> linestyle='-'). The keyword argument will take precedence.\n",
      "/Users/gbrammer/miniconda3/envs/grizli37/lib/python3.7/site-packages/ipykernel_launcher.py:47: UserWarning: linestyle is redundantly defined by the 'linestyle' keyword argument and the fmt string \"s-\" (-> linestyle='-'). The keyword argument will take precedence.\n",
      "/Users/gbrammer/miniconda3/envs/grizli37/lib/python3.7/site-packages/ipykernel_launcher.py:47: UserWarning: linestyle is redundantly defined by the 'linestyle' keyword argument and the fmt string \"s-\" (-> linestyle='-'). The keyword argument will take precedence.\n",
      "/Users/gbrammer/miniconda3/envs/grizli37/lib/python3.7/site-packages/ipykernel_launcher.py:47: UserWarning: linestyle is redundantly defined by the 'linestyle' keyword argument and the fmt string \"s-\" (-> linestyle='-'). The keyword argument will take precedence.\n",
      "/Users/gbrammer/miniconda3/envs/grizli37/lib/python3.7/site-packages/ipykernel_launcher.py:47: UserWarning: linestyle is redundantly defined by the 'linestyle' keyword argument and the fmt string \"s-\" (-> linestyle='-'). The keyword argument will take precedence.\n",
      "/Users/gbrammer/miniconda3/envs/grizli37/lib/python3.7/site-packages/ipykernel_launcher.py:47: UserWarning: linestyle is redundantly defined by the 'linestyle' keyword argument and the fmt string \"s-\" (-> linestyle='-'). The keyword argument will take precedence.\n",
      "/Users/gbrammer/miniconda3/envs/grizli37/lib/python3.7/site-packages/ipykernel_launcher.py:47: UserWarning: linestyle is redundantly defined by the 'linestyle' keyword argument and the fmt string \"s-\" (-> linestyle='-'). The keyword argument will take precedence.\n",
      "/Users/gbrammer/miniconda3/envs/grizli37/lib/python3.7/site-packages/ipykernel_launcher.py:47: UserWarning: linestyle is redundantly defined by the 'linestyle' keyword argument and the fmt string \"s-\" (-> linestyle='-'). The keyword argument will take precedence.\n",
      "/Users/gbrammer/miniconda3/envs/grizli37/lib/python3.7/site-packages/ipykernel_launcher.py:47: UserWarning: linestyle is redundantly defined by the 'linestyle' keyword argument and the fmt string \"s-\" (-> linestyle='-'). The keyword argument will take precedence.\n",
      "/Users/gbrammer/miniconda3/envs/grizli37/lib/python3.7/site-packages/ipykernel_launcher.py:47: UserWarning: linestyle is redundantly defined by the 'linestyle' keyword argument and the fmt string \"s-\" (-> linestyle='-'). The keyword argument will take precedence.\n",
      "/Users/gbrammer/miniconda3/envs/grizli37/lib/python3.7/site-packages/ipykernel_launcher.py:47: UserWarning: linestyle is redundantly defined by the 'linestyle' keyword argument and the fmt string \"s-\" (-> linestyle='-'). The keyword argument will take precedence.\n",
      "/Users/gbrammer/miniconda3/envs/grizli37/lib/python3.7/site-packages/ipykernel_launcher.py:47: UserWarning: linestyle is redundantly defined by the 'linestyle' keyword argument and the fmt string \"s-\" (-> linestyle='-'). The keyword argument will take precedence.\n",
      "/Users/gbrammer/miniconda3/envs/grizli37/lib/python3.7/site-packages/ipykernel_launcher.py:47: UserWarning: linestyle is redundantly defined by the 'linestyle' keyword argument and the fmt string \"s-\" (-> linestyle='-'). The keyword argument will take precedence.\n",
      "/Users/gbrammer/miniconda3/envs/grizli37/lib/python3.7/site-packages/ipykernel_launcher.py:47: UserWarning: linestyle is redundantly defined by the 'linestyle' keyword argument and the fmt string \"s-\" (-> linestyle='-'). The keyword argument will take precedence.\n",
      "/Users/gbrammer/miniconda3/envs/grizli37/lib/python3.7/site-packages/ipykernel_launcher.py:47: UserWarning: linestyle is redundantly defined by the 'linestyle' keyword argument and the fmt string \"s-\" (-> linestyle='-'). The keyword argument will take precedence.\n",
      "/Users/gbrammer/miniconda3/envs/grizli37/lib/python3.7/site-packages/ipykernel_launcher.py:47: UserWarning: linestyle is redundantly defined by the 'linestyle' keyword argument and the fmt string \"s-\" (-> linestyle='-'). The keyword argument will take precedence.\n",
      "/Users/gbrammer/miniconda3/envs/grizli37/lib/python3.7/site-packages/ipykernel_launcher.py:47: UserWarning: linestyle is redundantly defined by the 'linestyle' keyword argument and the fmt string \"s-\" (-> linestyle='-'). The keyword argument will take precedence.\n",
      "/Users/gbrammer/miniconda3/envs/grizli37/lib/python3.7/site-packages/ipykernel_launcher.py:47: UserWarning: linestyle is redundantly defined by the 'linestyle' keyword argument and the fmt string \"s-\" (-> linestyle='-'). The keyword argument will take precedence.\n",
      "/Users/gbrammer/miniconda3/envs/grizli37/lib/python3.7/site-packages/ipykernel_launcher.py:47: UserWarning: linestyle is redundantly defined by the 'linestyle' keyword argument and the fmt string \"s-\" (-> linestyle='-'). The keyword argument will take precedence.\n",
      "/Users/gbrammer/miniconda3/envs/grizli37/lib/python3.7/site-packages/ipykernel_launcher.py:47: UserWarning: linestyle is redundantly defined by the 'linestyle' keyword argument and the fmt string \"s-\" (-> linestyle='-'). The keyword argument will take precedence.\n",
      "/Users/gbrammer/miniconda3/envs/grizli37/lib/python3.7/site-packages/ipykernel_launcher.py:47: UserWarning: linestyle is redundantly defined by the 'linestyle' keyword argument and the fmt string \"s-\" (-> linestyle='-'). The keyword argument will take precedence.\n",
      "/Users/gbrammer/miniconda3/envs/grizli37/lib/python3.7/site-packages/ipykernel_launcher.py:47: UserWarning: linestyle is redundantly defined by the 'linestyle' keyword argument and the fmt string \"s-\" (-> linestyle='-'). The keyword argument will take precedence.\n",
      "/Users/gbrammer/miniconda3/envs/grizli37/lib/python3.7/site-packages/ipykernel_launcher.py:47: UserWarning: linestyle is redundantly defined by the 'linestyle' keyword argument and the fmt string \"s-\" (-> linestyle='-'). The keyword argument will take precedence.\n"
     ]
    },
    {
     "name": "stderr",
     "output_type": "stream",
     "text": [
      "/Users/gbrammer/miniconda3/envs/grizli37/lib/python3.7/site-packages/ipykernel_launcher.py:47: UserWarning: linestyle is redundantly defined by the 'linestyle' keyword argument and the fmt string \"s-\" (-> linestyle='-'). The keyword argument will take precedence.\n",
      "/Users/gbrammer/miniconda3/envs/grizli37/lib/python3.7/site-packages/ipykernel_launcher.py:47: UserWarning: linestyle is redundantly defined by the 'linestyle' keyword argument and the fmt string \"s-\" (-> linestyle='-'). The keyword argument will take precedence.\n",
      "/Users/gbrammer/miniconda3/envs/grizli37/lib/python3.7/site-packages/ipykernel_launcher.py:47: UserWarning: linestyle is redundantly defined by the 'linestyle' keyword argument and the fmt string \"s-\" (-> linestyle='-'). The keyword argument will take precedence.\n",
      "/Users/gbrammer/miniconda3/envs/grizli37/lib/python3.7/site-packages/ipykernel_launcher.py:47: UserWarning: linestyle is redundantly defined by the 'linestyle' keyword argument and the fmt string \"s-\" (-> linestyle='-'). The keyword argument will take precedence.\n",
      "/Users/gbrammer/miniconda3/envs/grizli37/lib/python3.7/site-packages/ipykernel_launcher.py:47: UserWarning: linestyle is redundantly defined by the 'linestyle' keyword argument and the fmt string \"s-\" (-> linestyle='-'). The keyword argument will take precedence.\n",
      "/Users/gbrammer/miniconda3/envs/grizli37/lib/python3.7/site-packages/ipykernel_launcher.py:47: UserWarning: linestyle is redundantly defined by the 'linestyle' keyword argument and the fmt string \"s-\" (-> linestyle='-'). The keyword argument will take precedence.\n",
      "/Users/gbrammer/miniconda3/envs/grizli37/lib/python3.7/site-packages/ipykernel_launcher.py:47: UserWarning: linestyle is redundantly defined by the 'linestyle' keyword argument and the fmt string \"s-\" (-> linestyle='-'). The keyword argument will take precedence.\n",
      "/Users/gbrammer/miniconda3/envs/grizli37/lib/python3.7/site-packages/ipykernel_launcher.py:47: UserWarning: linestyle is redundantly defined by the 'linestyle' keyword argument and the fmt string \"s-\" (-> linestyle='-'). The keyword argument will take precedence.\n",
      "/Users/gbrammer/miniconda3/envs/grizli37/lib/python3.7/site-packages/ipykernel_launcher.py:47: UserWarning: linestyle is redundantly defined by the 'linestyle' keyword argument and the fmt string \"s-\" (-> linestyle='-'). The keyword argument will take precedence.\n",
      "/Users/gbrammer/miniconda3/envs/grizli37/lib/python3.7/site-packages/ipykernel_launcher.py:47: UserWarning: linestyle is redundantly defined by the 'linestyle' keyword argument and the fmt string \"s-\" (-> linestyle='-'). The keyword argument will take precedence.\n",
      "/Users/gbrammer/miniconda3/envs/grizli37/lib/python3.7/site-packages/ipykernel_launcher.py:47: UserWarning: linestyle is redundantly defined by the 'linestyle' keyword argument and the fmt string \"s-\" (-> linestyle='-'). The keyword argument will take precedence.\n",
      "/Users/gbrammer/miniconda3/envs/grizli37/lib/python3.7/site-packages/ipykernel_launcher.py:47: UserWarning: linestyle is redundantly defined by the 'linestyle' keyword argument and the fmt string \"s-\" (-> linestyle='-'). The keyword argument will take precedence.\n",
      "/Users/gbrammer/miniconda3/envs/grizli37/lib/python3.7/site-packages/ipykernel_launcher.py:47: UserWarning: linestyle is redundantly defined by the 'linestyle' keyword argument and the fmt string \"s-\" (-> linestyle='-'). The keyword argument will take precedence.\n",
      "/Users/gbrammer/miniconda3/envs/grizli37/lib/python3.7/site-packages/ipykernel_launcher.py:47: UserWarning: linestyle is redundantly defined by the 'linestyle' keyword argument and the fmt string \"s-\" (-> linestyle='-'). The keyword argument will take precedence.\n",
      "/Users/gbrammer/miniconda3/envs/grizli37/lib/python3.7/site-packages/ipykernel_launcher.py:47: UserWarning: linestyle is redundantly defined by the 'linestyle' keyword argument and the fmt string \"s-\" (-> linestyle='-'). The keyword argument will take precedence.\n",
      "/Users/gbrammer/miniconda3/envs/grizli37/lib/python3.7/site-packages/ipykernel_launcher.py:47: UserWarning: linestyle is redundantly defined by the 'linestyle' keyword argument and the fmt string \"s-\" (-> linestyle='-'). The keyword argument will take precedence.\n",
      "/Users/gbrammer/miniconda3/envs/grizli37/lib/python3.7/site-packages/ipykernel_launcher.py:47: UserWarning: linestyle is redundantly defined by the 'linestyle' keyword argument and the fmt string \"s-\" (-> linestyle='-'). The keyword argument will take precedence.\n",
      "/Users/gbrammer/miniconda3/envs/grizli37/lib/python3.7/site-packages/ipykernel_launcher.py:47: UserWarning: linestyle is redundantly defined by the 'linestyle' keyword argument and the fmt string \"s-\" (-> linestyle='-'). The keyword argument will take precedence.\n",
      "/Users/gbrammer/miniconda3/envs/grizli37/lib/python3.7/site-packages/ipykernel_launcher.py:47: UserWarning: linestyle is redundantly defined by the 'linestyle' keyword argument and the fmt string \"s-\" (-> linestyle='-'). The keyword argument will take precedence.\n",
      "/Users/gbrammer/miniconda3/envs/grizli37/lib/python3.7/site-packages/ipykernel_launcher.py:47: UserWarning: linestyle is redundantly defined by the 'linestyle' keyword argument and the fmt string \"s-\" (-> linestyle='-'). The keyword argument will take precedence.\n",
      "/Users/gbrammer/miniconda3/envs/grizli37/lib/python3.7/site-packages/ipykernel_launcher.py:47: UserWarning: linestyle is redundantly defined by the 'linestyle' keyword argument and the fmt string \"s-\" (-> linestyle='-'). The keyword argument will take precedence.\n",
      "/Users/gbrammer/miniconda3/envs/grizli37/lib/python3.7/site-packages/ipykernel_launcher.py:47: UserWarning: linestyle is redundantly defined by the 'linestyle' keyword argument and the fmt string \"s-\" (-> linestyle='-'). The keyword argument will take precedence.\n",
      "/Users/gbrammer/miniconda3/envs/grizli37/lib/python3.7/site-packages/ipykernel_launcher.py:47: UserWarning: linestyle is redundantly defined by the 'linestyle' keyword argument and the fmt string \"s-\" (-> linestyle='-'). The keyword argument will take precedence.\n",
      "/Users/gbrammer/miniconda3/envs/grizli37/lib/python3.7/site-packages/ipykernel_launcher.py:47: UserWarning: linestyle is redundantly defined by the 'linestyle' keyword argument and the fmt string \"s-\" (-> linestyle='-'). The keyword argument will take precedence.\n",
      "/Users/gbrammer/miniconda3/envs/grizli37/lib/python3.7/site-packages/ipykernel_launcher.py:47: UserWarning: linestyle is redundantly defined by the 'linestyle' keyword argument and the fmt string \"s-\" (-> linestyle='-'). The keyword argument will take precedence.\n"
     ]
    },
    {
     "name": "stdout",
     "output_type": "stream",
     "text": [
      "293 1585\n",
      "Fail\n",
      "294 1598\n",
      "Fail\n",
      "295 1604\n"
     ]
    },
    {
     "name": "stderr",
     "output_type": "stream",
     "text": [
      "/Users/gbrammer/miniconda3/envs/grizli37/lib/python3.7/site-packages/ipykernel_launcher.py:47: UserWarning: linestyle is redundantly defined by the 'linestyle' keyword argument and the fmt string \"s-\" (-> linestyle='-'). The keyword argument will take precedence.\n",
      "/Users/gbrammer/miniconda3/envs/grizli37/lib/python3.7/site-packages/ipykernel_launcher.py:47: UserWarning: linestyle is redundantly defined by the 'linestyle' keyword argument and the fmt string \"s-\" (-> linestyle='-'). The keyword argument will take precedence.\n",
      "/Users/gbrammer/miniconda3/envs/grizli37/lib/python3.7/site-packages/ipykernel_launcher.py:47: UserWarning: linestyle is redundantly defined by the 'linestyle' keyword argument and the fmt string \"s-\" (-> linestyle='-'). The keyword argument will take precedence.\n",
      "/Users/gbrammer/miniconda3/envs/grizli37/lib/python3.7/site-packages/ipykernel_launcher.py:47: UserWarning: linestyle is redundantly defined by the 'linestyle' keyword argument and the fmt string \"s-\" (-> linestyle='-'). The keyword argument will take precedence.\n",
      "/Users/gbrammer/miniconda3/envs/grizli37/lib/python3.7/site-packages/ipykernel_launcher.py:47: UserWarning: linestyle is redundantly defined by the 'linestyle' keyword argument and the fmt string \"s-\" (-> linestyle='-'). The keyword argument will take precedence.\n",
      "/Users/gbrammer/miniconda3/envs/grizli37/lib/python3.7/site-packages/ipykernel_launcher.py:47: UserWarning: linestyle is redundantly defined by the 'linestyle' keyword argument and the fmt string \"s-\" (-> linestyle='-'). The keyword argument will take precedence.\n",
      "/Users/gbrammer/miniconda3/envs/grizli37/lib/python3.7/site-packages/ipykernel_launcher.py:47: UserWarning: linestyle is redundantly defined by the 'linestyle' keyword argument and the fmt string \"s-\" (-> linestyle='-'). The keyword argument will take precedence.\n"
     ]
    },
    {
     "name": "stdout",
     "output_type": "stream",
     "text": [
      "296 1658\n"
     ]
    },
    {
     "name": "stderr",
     "output_type": "stream",
     "text": [
      "/Users/gbrammer/miniconda3/envs/grizli37/lib/python3.7/site-packages/ipykernel_launcher.py:47: UserWarning: linestyle is redundantly defined by the 'linestyle' keyword argument and the fmt string \"s-\" (-> linestyle='-'). The keyword argument will take precedence.\n",
      "/Users/gbrammer/miniconda3/envs/grizli37/lib/python3.7/site-packages/ipykernel_launcher.py:47: UserWarning: linestyle is redundantly defined by the 'linestyle' keyword argument and the fmt string \"s-\" (-> linestyle='-'). The keyword argument will take precedence.\n",
      "/Users/gbrammer/miniconda3/envs/grizli37/lib/python3.7/site-packages/ipykernel_launcher.py:47: UserWarning: linestyle is redundantly defined by the 'linestyle' keyword argument and the fmt string \"s-\" (-> linestyle='-'). The keyword argument will take precedence.\n",
      "/Users/gbrammer/miniconda3/envs/grizli37/lib/python3.7/site-packages/ipykernel_launcher.py:47: UserWarning: linestyle is redundantly defined by the 'linestyle' keyword argument and the fmt string \"s-\" (-> linestyle='-'). The keyword argument will take precedence.\n",
      "/Users/gbrammer/miniconda3/envs/grizli37/lib/python3.7/site-packages/ipykernel_launcher.py:47: UserWarning: linestyle is redundantly defined by the 'linestyle' keyword argument and the fmt string \"s-\" (-> linestyle='-'). The keyword argument will take precedence.\n",
      "/Users/gbrammer/miniconda3/envs/grizli37/lib/python3.7/site-packages/ipykernel_launcher.py:47: UserWarning: linestyle is redundantly defined by the 'linestyle' keyword argument and the fmt string \"s-\" (-> linestyle='-'). The keyword argument will take precedence.\n",
      "/Users/gbrammer/miniconda3/envs/grizli37/lib/python3.7/site-packages/ipykernel_launcher.py:47: UserWarning: linestyle is redundantly defined by the 'linestyle' keyword argument and the fmt string \"s-\" (-> linestyle='-'). The keyword argument will take precedence.\n",
      "/Users/gbrammer/miniconda3/envs/grizli37/lib/python3.7/site-packages/ipykernel_launcher.py:47: UserWarning: linestyle is redundantly defined by the 'linestyle' keyword argument and the fmt string \"s-\" (-> linestyle='-'). The keyword argument will take precedence.\n",
      "/Users/gbrammer/miniconda3/envs/grizli37/lib/python3.7/site-packages/ipykernel_launcher.py:47: UserWarning: linestyle is redundantly defined by the 'linestyle' keyword argument and the fmt string \"s-\" (-> linestyle='-'). The keyword argument will take precedence.\n",
      "/Users/gbrammer/miniconda3/envs/grizli37/lib/python3.7/site-packages/ipykernel_launcher.py:47: UserWarning: linestyle is redundantly defined by the 'linestyle' keyword argument and the fmt string \"s-\" (-> linestyle='-'). The keyword argument will take precedence.\n",
      "/Users/gbrammer/miniconda3/envs/grizli37/lib/python3.7/site-packages/ipykernel_launcher.py:47: UserWarning: linestyle is redundantly defined by the 'linestyle' keyword argument and the fmt string \"s-\" (-> linestyle='-'). The keyword argument will take precedence.\n"
     ]
    },
    {
     "name": "stdout",
     "output_type": "stream",
     "text": [
      "297 1731\n"
     ]
    },
    {
     "name": "stderr",
     "output_type": "stream",
     "text": [
      "/Users/gbrammer/miniconda3/envs/grizli37/lib/python3.7/site-packages/ipykernel_launcher.py:47: UserWarning: linestyle is redundantly defined by the 'linestyle' keyword argument and the fmt string \"s-\" (-> linestyle='-'). The keyword argument will take precedence.\n",
      "/Users/gbrammer/miniconda3/envs/grizli37/lib/python3.7/site-packages/ipykernel_launcher.py:47: UserWarning: linestyle is redundantly defined by the 'linestyle' keyword argument and the fmt string \"s-\" (-> linestyle='-'). The keyword argument will take precedence.\n"
     ]
    },
    {
     "name": "stdout",
     "output_type": "stream",
     "text": [
      "298 1786\n",
      "299 1897\n",
      "300 2037\n",
      "Fail\n",
      "301 2060\n",
      "302 2127\n",
      "303 2211\n",
      "304 2337\n",
      "305 2361\n",
      "306 2416\n"
     ]
    },
    {
     "name": "stderr",
     "output_type": "stream",
     "text": [
      "/Users/gbrammer/miniconda3/envs/grizli37/lib/python3.7/site-packages/ipykernel_launcher.py:47: UserWarning: linestyle is redundantly defined by the 'linestyle' keyword argument and the fmt string \"s-\" (-> linestyle='-'). The keyword argument will take precedence.\n",
      "/Users/gbrammer/miniconda3/envs/grizli37/lib/python3.7/site-packages/ipykernel_launcher.py:47: UserWarning: linestyle is redundantly defined by the 'linestyle' keyword argument and the fmt string \"s-\" (-> linestyle='-'). The keyword argument will take precedence.\n",
      "/Users/gbrammer/miniconda3/envs/grizli37/lib/python3.7/site-packages/ipykernel_launcher.py:47: UserWarning: linestyle is redundantly defined by the 'linestyle' keyword argument and the fmt string \"s-\" (-> linestyle='-'). The keyword argument will take precedence.\n",
      "/Users/gbrammer/miniconda3/envs/grizli37/lib/python3.7/site-packages/ipykernel_launcher.py:47: UserWarning: linestyle is redundantly defined by the 'linestyle' keyword argument and the fmt string \"s-\" (-> linestyle='-'). The keyword argument will take precedence.\n",
      "/Users/gbrammer/miniconda3/envs/grizli37/lib/python3.7/site-packages/ipykernel_launcher.py:47: UserWarning: linestyle is redundantly defined by the 'linestyle' keyword argument and the fmt string \"s-\" (-> linestyle='-'). The keyword argument will take precedence.\n",
      "/Users/gbrammer/miniconda3/envs/grizli37/lib/python3.7/site-packages/ipykernel_launcher.py:47: UserWarning: linestyle is redundantly defined by the 'linestyle' keyword argument and the fmt string \"s-\" (-> linestyle='-'). The keyword argument will take precedence.\n",
      "/Users/gbrammer/miniconda3/envs/grizli37/lib/python3.7/site-packages/ipykernel_launcher.py:47: UserWarning: linestyle is redundantly defined by the 'linestyle' keyword argument and the fmt string \"s-\" (-> linestyle='-'). The keyword argument will take precedence.\n",
      "/Users/gbrammer/miniconda3/envs/grizli37/lib/python3.7/site-packages/ipykernel_launcher.py:47: UserWarning: linestyle is redundantly defined by the 'linestyle' keyword argument and the fmt string \"s-\" (-> linestyle='-'). The keyword argument will take precedence.\n",
      "/Users/gbrammer/miniconda3/envs/grizli37/lib/python3.7/site-packages/ipykernel_launcher.py:47: UserWarning: linestyle is redundantly defined by the 'linestyle' keyword argument and the fmt string \"s-\" (-> linestyle='-'). The keyword argument will take precedence.\n",
      "/Users/gbrammer/miniconda3/envs/grizli37/lib/python3.7/site-packages/ipykernel_launcher.py:47: UserWarning: linestyle is redundantly defined by the 'linestyle' keyword argument and the fmt string \"s-\" (-> linestyle='-'). The keyword argument will take precedence.\n"
     ]
    },
    {
     "name": "stdout",
     "output_type": "stream",
     "text": [
      "307 2418\n",
      "308 2524\n",
      "Fail\n",
      "309 2537\n",
      "Fail\n",
      "310 2550\n"
     ]
    },
    {
     "name": "stderr",
     "output_type": "stream",
     "text": [
      "/Users/gbrammer/miniconda3/envs/grizli37/lib/python3.7/site-packages/ipykernel_launcher.py:47: UserWarning: linestyle is redundantly defined by the 'linestyle' keyword argument and the fmt string \"s-\" (-> linestyle='-'). The keyword argument will take precedence.\n",
      "/Users/gbrammer/miniconda3/envs/grizli37/lib/python3.7/site-packages/ipykernel_launcher.py:47: UserWarning: linestyle is redundantly defined by the 'linestyle' keyword argument and the fmt string \"s-\" (-> linestyle='-'). The keyword argument will take precedence.\n",
      "/Users/gbrammer/miniconda3/envs/grizli37/lib/python3.7/site-packages/ipykernel_launcher.py:47: UserWarning: linestyle is redundantly defined by the 'linestyle' keyword argument and the fmt string \"s-\" (-> linestyle='-'). The keyword argument will take precedence.\n",
      "/Users/gbrammer/miniconda3/envs/grizli37/lib/python3.7/site-packages/ipykernel_launcher.py:47: UserWarning: linestyle is redundantly defined by the 'linestyle' keyword argument and the fmt string \"s-\" (-> linestyle='-'). The keyword argument will take precedence.\n",
      "/Users/gbrammer/miniconda3/envs/grizli37/lib/python3.7/site-packages/ipykernel_launcher.py:47: UserWarning: linestyle is redundantly defined by the 'linestyle' keyword argument and the fmt string \"s-\" (-> linestyle='-'). The keyword argument will take precedence.\n",
      "/Users/gbrammer/miniconda3/envs/grizli37/lib/python3.7/site-packages/ipykernel_launcher.py:47: UserWarning: linestyle is redundantly defined by the 'linestyle' keyword argument and the fmt string \"s-\" (-> linestyle='-'). The keyword argument will take precedence.\n",
      "/Users/gbrammer/miniconda3/envs/grizli37/lib/python3.7/site-packages/ipykernel_launcher.py:47: UserWarning: linestyle is redundantly defined by the 'linestyle' keyword argument and the fmt string \"s-\" (-> linestyle='-'). The keyword argument will take precedence.\n",
      "/Users/gbrammer/miniconda3/envs/grizli37/lib/python3.7/site-packages/ipykernel_launcher.py:47: UserWarning: linestyle is redundantly defined by the 'linestyle' keyword argument and the fmt string \"s-\" (-> linestyle='-'). The keyword argument will take precedence.\n",
      "/Users/gbrammer/miniconda3/envs/grizli37/lib/python3.7/site-packages/ipykernel_launcher.py:47: UserWarning: linestyle is redundantly defined by the 'linestyle' keyword argument and the fmt string \"s-\" (-> linestyle='-'). The keyword argument will take precedence.\n"
     ]
    },
    {
     "name": "stdout",
     "output_type": "stream",
     "text": [
      "311 2574\n"
     ]
    },
    {
     "name": "stderr",
     "output_type": "stream",
     "text": [
      "/Users/gbrammer/miniconda3/envs/grizli37/lib/python3.7/site-packages/ipykernel_launcher.py:47: UserWarning: linestyle is redundantly defined by the 'linestyle' keyword argument and the fmt string \"s-\" (-> linestyle='-'). The keyword argument will take precedence.\n",
      "/Users/gbrammer/miniconda3/envs/grizli37/lib/python3.7/site-packages/ipykernel_launcher.py:47: UserWarning: linestyle is redundantly defined by the 'linestyle' keyword argument and the fmt string \"s-\" (-> linestyle='-'). The keyword argument will take precedence.\n",
      "/Users/gbrammer/miniconda3/envs/grizli37/lib/python3.7/site-packages/ipykernel_launcher.py:47: UserWarning: linestyle is redundantly defined by the 'linestyle' keyword argument and the fmt string \"s-\" (-> linestyle='-'). The keyword argument will take precedence.\n"
     ]
    },
    {
     "name": "stdout",
     "output_type": "stream",
     "text": [
      "312 1586\n",
      "313 1621\n"
     ]
    },
    {
     "name": "stderr",
     "output_type": "stream",
     "text": [
      "/Users/gbrammer/miniconda3/envs/grizli37/lib/python3.7/site-packages/ipykernel_launcher.py:47: UserWarning: linestyle is redundantly defined by the 'linestyle' keyword argument and the fmt string \"s-\" (-> linestyle='-'). The keyword argument will take precedence.\n",
      "/Users/gbrammer/miniconda3/envs/grizli37/lib/python3.7/site-packages/ipykernel_launcher.py:47: UserWarning: linestyle is redundantly defined by the 'linestyle' keyword argument and the fmt string \"s-\" (-> linestyle='-'). The keyword argument will take precedence.\n",
      "/Users/gbrammer/miniconda3/envs/grizli37/lib/python3.7/site-packages/ipykernel_launcher.py:47: UserWarning: linestyle is redundantly defined by the 'linestyle' keyword argument and the fmt string \"s-\" (-> linestyle='-'). The keyword argument will take precedence.\n",
      "/Users/gbrammer/miniconda3/envs/grizli37/lib/python3.7/site-packages/ipykernel_launcher.py:47: UserWarning: linestyle is redundantly defined by the 'linestyle' keyword argument and the fmt string \"s-\" (-> linestyle='-'). The keyword argument will take precedence.\n",
      "/Users/gbrammer/miniconda3/envs/grizli37/lib/python3.7/site-packages/ipykernel_launcher.py:47: UserWarning: linestyle is redundantly defined by the 'linestyle' keyword argument and the fmt string \"s-\" (-> linestyle='-'). The keyword argument will take precedence.\n"
     ]
    },
    {
     "name": "stdout",
     "output_type": "stream",
     "text": [
      "314 1644\n"
     ]
    },
    {
     "name": "stderr",
     "output_type": "stream",
     "text": [
      "/Users/gbrammer/miniconda3/envs/grizli37/lib/python3.7/site-packages/ipykernel_launcher.py:47: UserWarning: linestyle is redundantly defined by the 'linestyle' keyword argument and the fmt string \"s-\" (-> linestyle='-'). The keyword argument will take precedence.\n",
      "/Users/gbrammer/miniconda3/envs/grizli37/lib/python3.7/site-packages/ipykernel_launcher.py:47: UserWarning: linestyle is redundantly defined by the 'linestyle' keyword argument and the fmt string \"s-\" (-> linestyle='-'). The keyword argument will take precedence.\n",
      "/Users/gbrammer/miniconda3/envs/grizli37/lib/python3.7/site-packages/ipykernel_launcher.py:47: UserWarning: linestyle is redundantly defined by the 'linestyle' keyword argument and the fmt string \"s-\" (-> linestyle='-'). The keyword argument will take precedence.\n",
      "/Users/gbrammer/miniconda3/envs/grizli37/lib/python3.7/site-packages/ipykernel_launcher.py:47: UserWarning: linestyle is redundantly defined by the 'linestyle' keyword argument and the fmt string \"s-\" (-> linestyle='-'). The keyword argument will take precedence.\n",
      "/Users/gbrammer/miniconda3/envs/grizli37/lib/python3.7/site-packages/ipykernel_launcher.py:47: UserWarning: linestyle is redundantly defined by the 'linestyle' keyword argument and the fmt string \"s-\" (-> linestyle='-'). The keyword argument will take precedence.\n"
     ]
    },
    {
     "name": "stdout",
     "output_type": "stream",
     "text": [
      "315 1666\n",
      "316 1706\n"
     ]
    },
    {
     "name": "stderr",
     "output_type": "stream",
     "text": [
      "/Users/gbrammer/miniconda3/envs/grizli37/lib/python3.7/site-packages/ipykernel_launcher.py:47: UserWarning: linestyle is redundantly defined by the 'linestyle' keyword argument and the fmt string \"s-\" (-> linestyle='-'). The keyword argument will take precedence.\n",
      "/Users/gbrammer/miniconda3/envs/grizli37/lib/python3.7/site-packages/ipykernel_launcher.py:47: UserWarning: linestyle is redundantly defined by the 'linestyle' keyword argument and the fmt string \"s-\" (-> linestyle='-'). The keyword argument will take precedence.\n",
      "/Users/gbrammer/miniconda3/envs/grizli37/lib/python3.7/site-packages/ipykernel_launcher.py:47: UserWarning: linestyle is redundantly defined by the 'linestyle' keyword argument and the fmt string \"s-\" (-> linestyle='-'). The keyword argument will take precedence.\n",
      "/Users/gbrammer/miniconda3/envs/grizli37/lib/python3.7/site-packages/ipykernel_launcher.py:47: UserWarning: linestyle is redundantly defined by the 'linestyle' keyword argument and the fmt string \"s-\" (-> linestyle='-'). The keyword argument will take precedence.\n"
     ]
    },
    {
     "name": "stdout",
     "output_type": "stream",
     "text": [
      "317 1714\n"
     ]
    },
    {
     "name": "stderr",
     "output_type": "stream",
     "text": [
      "/Users/gbrammer/miniconda3/envs/grizli37/lib/python3.7/site-packages/ipykernel_launcher.py:47: UserWarning: linestyle is redundantly defined by the 'linestyle' keyword argument and the fmt string \"s-\" (-> linestyle='-'). The keyword argument will take precedence.\n",
      "/Users/gbrammer/miniconda3/envs/grizli37/lib/python3.7/site-packages/ipykernel_launcher.py:47: UserWarning: linestyle is redundantly defined by the 'linestyle' keyword argument and the fmt string \"s-\" (-> linestyle='-'). The keyword argument will take precedence.\n",
      "/Users/gbrammer/miniconda3/envs/grizli37/lib/python3.7/site-packages/ipykernel_launcher.py:47: UserWarning: linestyle is redundantly defined by the 'linestyle' keyword argument and the fmt string \"s-\" (-> linestyle='-'). The keyword argument will take precedence.\n",
      "/Users/gbrammer/miniconda3/envs/grizli37/lib/python3.7/site-packages/ipykernel_launcher.py:47: UserWarning: linestyle is redundantly defined by the 'linestyle' keyword argument and the fmt string \"s-\" (-> linestyle='-'). The keyword argument will take precedence.\n",
      "/Users/gbrammer/miniconda3/envs/grizli37/lib/python3.7/site-packages/ipykernel_launcher.py:47: UserWarning: linestyle is redundantly defined by the 'linestyle' keyword argument and the fmt string \"s-\" (-> linestyle='-'). The keyword argument will take precedence.\n",
      "/Users/gbrammer/miniconda3/envs/grizli37/lib/python3.7/site-packages/ipykernel_launcher.py:47: UserWarning: linestyle is redundantly defined by the 'linestyle' keyword argument and the fmt string \"s-\" (-> linestyle='-'). The keyword argument will take precedence.\n",
      "/Users/gbrammer/miniconda3/envs/grizli37/lib/python3.7/site-packages/ipykernel_launcher.py:47: UserWarning: linestyle is redundantly defined by the 'linestyle' keyword argument and the fmt string \"s-\" (-> linestyle='-'). The keyword argument will take precedence.\n",
      "/Users/gbrammer/miniconda3/envs/grizli37/lib/python3.7/site-packages/ipykernel_launcher.py:47: UserWarning: linestyle is redundantly defined by the 'linestyle' keyword argument and the fmt string \"s-\" (-> linestyle='-'). The keyword argument will take precedence.\n",
      "/Users/gbrammer/miniconda3/envs/grizli37/lib/python3.7/site-packages/ipykernel_launcher.py:47: UserWarning: linestyle is redundantly defined by the 'linestyle' keyword argument and the fmt string \"s-\" (-> linestyle='-'). The keyword argument will take precedence.\n",
      "/Users/gbrammer/miniconda3/envs/grizli37/lib/python3.7/site-packages/ipykernel_launcher.py:47: UserWarning: linestyle is redundantly defined by the 'linestyle' keyword argument and the fmt string \"s-\" (-> linestyle='-'). The keyword argument will take precedence.\n",
      "/Users/gbrammer/miniconda3/envs/grizli37/lib/python3.7/site-packages/ipykernel_launcher.py:47: UserWarning: linestyle is redundantly defined by the 'linestyle' keyword argument and the fmt string \"s-\" (-> linestyle='-'). The keyword argument will take precedence.\n",
      "/Users/gbrammer/miniconda3/envs/grizli37/lib/python3.7/site-packages/ipykernel_launcher.py:47: UserWarning: linestyle is redundantly defined by the 'linestyle' keyword argument and the fmt string \"s-\" (-> linestyle='-'). The keyword argument will take precedence.\n",
      "/Users/gbrammer/miniconda3/envs/grizli37/lib/python3.7/site-packages/ipykernel_launcher.py:47: UserWarning: linestyle is redundantly defined by the 'linestyle' keyword argument and the fmt string \"s-\" (-> linestyle='-'). The keyword argument will take precedence.\n",
      "/Users/gbrammer/miniconda3/envs/grizli37/lib/python3.7/site-packages/ipykernel_launcher.py:47: UserWarning: linestyle is redundantly defined by the 'linestyle' keyword argument and the fmt string \"s-\" (-> linestyle='-'). The keyword argument will take precedence.\n",
      "/Users/gbrammer/miniconda3/envs/grizli37/lib/python3.7/site-packages/ipykernel_launcher.py:47: UserWarning: linestyle is redundantly defined by the 'linestyle' keyword argument and the fmt string \"s-\" (-> linestyle='-'). The keyword argument will take precedence.\n"
     ]
    },
    {
     "name": "stdout",
     "output_type": "stream",
     "text": [
      "318 1726\n"
     ]
    },
    {
     "name": "stderr",
     "output_type": "stream",
     "text": [
      "/Users/gbrammer/miniconda3/envs/grizli37/lib/python3.7/site-packages/ipykernel_launcher.py:47: UserWarning: linestyle is redundantly defined by the 'linestyle' keyword argument and the fmt string \"s-\" (-> linestyle='-'). The keyword argument will take precedence.\n"
     ]
    },
    {
     "name": "stdout",
     "output_type": "stream",
     "text": [
      "319 1741\n"
     ]
    },
    {
     "name": "stderr",
     "output_type": "stream",
     "text": [
      "/Users/gbrammer/miniconda3/envs/grizli37/lib/python3.7/site-packages/ipykernel_launcher.py:47: UserWarning: linestyle is redundantly defined by the 'linestyle' keyword argument and the fmt string \"s-\" (-> linestyle='-'). The keyword argument will take precedence.\n",
      "/Users/gbrammer/miniconda3/envs/grizli37/lib/python3.7/site-packages/ipykernel_launcher.py:47: UserWarning: linestyle is redundantly defined by the 'linestyle' keyword argument and the fmt string \"s-\" (-> linestyle='-'). The keyword argument will take precedence.\n",
      "/Users/gbrammer/miniconda3/envs/grizli37/lib/python3.7/site-packages/ipykernel_launcher.py:47: UserWarning: linestyle is redundantly defined by the 'linestyle' keyword argument and the fmt string \"s-\" (-> linestyle='-'). The keyword argument will take precedence.\n",
      "/Users/gbrammer/miniconda3/envs/grizli37/lib/python3.7/site-packages/ipykernel_launcher.py:47: UserWarning: linestyle is redundantly defined by the 'linestyle' keyword argument and the fmt string \"s-\" (-> linestyle='-'). The keyword argument will take precedence.\n"
     ]
    },
    {
     "name": "stdout",
     "output_type": "stream",
     "text": [
      "320 1742\n"
     ]
    },
    {
     "name": "stderr",
     "output_type": "stream",
     "text": [
      "/Users/gbrammer/miniconda3/envs/grizli37/lib/python3.7/site-packages/ipykernel_launcher.py:47: UserWarning: linestyle is redundantly defined by the 'linestyle' keyword argument and the fmt string \"s-\" (-> linestyle='-'). The keyword argument will take precedence.\n",
      "/Users/gbrammer/miniconda3/envs/grizli37/lib/python3.7/site-packages/ipykernel_launcher.py:47: UserWarning: linestyle is redundantly defined by the 'linestyle' keyword argument and the fmt string \"s-\" (-> linestyle='-'). The keyword argument will take precedence.\n"
     ]
    },
    {
     "name": "stdout",
     "output_type": "stream",
     "text": [
      "321 1798\n",
      "322 1802\n"
     ]
    },
    {
     "name": "stderr",
     "output_type": "stream",
     "text": [
      "/Users/gbrammer/miniconda3/envs/grizli37/lib/python3.7/site-packages/ipykernel_launcher.py:47: UserWarning: linestyle is redundantly defined by the 'linestyle' keyword argument and the fmt string \"s-\" (-> linestyle='-'). The keyword argument will take precedence.\n",
      "/Users/gbrammer/miniconda3/envs/grizli37/lib/python3.7/site-packages/ipykernel_launcher.py:47: UserWarning: linestyle is redundantly defined by the 'linestyle' keyword argument and the fmt string \"s-\" (-> linestyle='-'). The keyword argument will take precedence.\n",
      "/Users/gbrammer/miniconda3/envs/grizli37/lib/python3.7/site-packages/ipykernel_launcher.py:47: UserWarning: linestyle is redundantly defined by the 'linestyle' keyword argument and the fmt string \"s-\" (-> linestyle='-'). The keyword argument will take precedence.\n",
      "/Users/gbrammer/miniconda3/envs/grizli37/lib/python3.7/site-packages/ipykernel_launcher.py:47: UserWarning: linestyle is redundantly defined by the 'linestyle' keyword argument and the fmt string \"s-\" (-> linestyle='-'). The keyword argument will take precedence.\n",
      "/Users/gbrammer/miniconda3/envs/grizli37/lib/python3.7/site-packages/ipykernel_launcher.py:47: UserWarning: linestyle is redundantly defined by the 'linestyle' keyword argument and the fmt string \"s-\" (-> linestyle='-'). The keyword argument will take precedence.\n",
      "/Users/gbrammer/miniconda3/envs/grizli37/lib/python3.7/site-packages/ipykernel_launcher.py:47: UserWarning: linestyle is redundantly defined by the 'linestyle' keyword argument and the fmt string \"s-\" (-> linestyle='-'). The keyword argument will take precedence.\n",
      "/Users/gbrammer/miniconda3/envs/grizli37/lib/python3.7/site-packages/ipykernel_launcher.py:47: UserWarning: linestyle is redundantly defined by the 'linestyle' keyword argument and the fmt string \"s-\" (-> linestyle='-'). The keyword argument will take precedence.\n",
      "/Users/gbrammer/miniconda3/envs/grizli37/lib/python3.7/site-packages/ipykernel_launcher.py:47: UserWarning: linestyle is redundantly defined by the 'linestyle' keyword argument and the fmt string \"s-\" (-> linestyle='-'). The keyword argument will take precedence.\n",
      "/Users/gbrammer/miniconda3/envs/grizli37/lib/python3.7/site-packages/ipykernel_launcher.py:47: UserWarning: linestyle is redundantly defined by the 'linestyle' keyword argument and the fmt string \"s-\" (-> linestyle='-'). The keyword argument will take precedence.\n",
      "/Users/gbrammer/miniconda3/envs/grizli37/lib/python3.7/site-packages/ipykernel_launcher.py:47: UserWarning: linestyle is redundantly defined by the 'linestyle' keyword argument and the fmt string \"s-\" (-> linestyle='-'). The keyword argument will take precedence.\n",
      "/Users/gbrammer/miniconda3/envs/grizli37/lib/python3.7/site-packages/ipykernel_launcher.py:47: UserWarning: linestyle is redundantly defined by the 'linestyle' keyword argument and the fmt string \"s-\" (-> linestyle='-'). The keyword argument will take precedence.\n",
      "/Users/gbrammer/miniconda3/envs/grizli37/lib/python3.7/site-packages/ipykernel_launcher.py:47: UserWarning: linestyle is redundantly defined by the 'linestyle' keyword argument and the fmt string \"s-\" (-> linestyle='-'). The keyword argument will take precedence.\n",
      "/Users/gbrammer/miniconda3/envs/grizli37/lib/python3.7/site-packages/ipykernel_launcher.py:47: UserWarning: linestyle is redundantly defined by the 'linestyle' keyword argument and the fmt string \"s-\" (-> linestyle='-'). The keyword argument will take precedence.\n",
      "/Users/gbrammer/miniconda3/envs/grizli37/lib/python3.7/site-packages/ipykernel_launcher.py:47: UserWarning: linestyle is redundantly defined by the 'linestyle' keyword argument and the fmt string \"s-\" (-> linestyle='-'). The keyword argument will take precedence.\n",
      "/Users/gbrammer/miniconda3/envs/grizli37/lib/python3.7/site-packages/ipykernel_launcher.py:47: UserWarning: linestyle is redundantly defined by the 'linestyle' keyword argument and the fmt string \"s-\" (-> linestyle='-'). The keyword argument will take precedence.\n"
     ]
    },
    {
     "name": "stdout",
     "output_type": "stream",
     "text": [
      "323 1860\n"
     ]
    },
    {
     "name": "stderr",
     "output_type": "stream",
     "text": [
      "/Users/gbrammer/miniconda3/envs/grizli37/lib/python3.7/site-packages/ipykernel_launcher.py:47: UserWarning: linestyle is redundantly defined by the 'linestyle' keyword argument and the fmt string \"s-\" (-> linestyle='-'). The keyword argument will take precedence.\n",
      "/Users/gbrammer/miniconda3/envs/grizli37/lib/python3.7/site-packages/ipykernel_launcher.py:47: UserWarning: linestyle is redundantly defined by the 'linestyle' keyword argument and the fmt string \"s-\" (-> linestyle='-'). The keyword argument will take precedence.\n",
      "/Users/gbrammer/miniconda3/envs/grizli37/lib/python3.7/site-packages/ipykernel_launcher.py:47: UserWarning: linestyle is redundantly defined by the 'linestyle' keyword argument and the fmt string \"s-\" (-> linestyle='-'). The keyword argument will take precedence.\n",
      "/Users/gbrammer/miniconda3/envs/grizli37/lib/python3.7/site-packages/ipykernel_launcher.py:47: UserWarning: linestyle is redundantly defined by the 'linestyle' keyword argument and the fmt string \"s-\" (-> linestyle='-'). The keyword argument will take precedence.\n",
      "/Users/gbrammer/miniconda3/envs/grizli37/lib/python3.7/site-packages/ipykernel_launcher.py:47: UserWarning: linestyle is redundantly defined by the 'linestyle' keyword argument and the fmt string \"s-\" (-> linestyle='-'). The keyword argument will take precedence.\n"
     ]
    },
    {
     "name": "stdout",
     "output_type": "stream",
     "text": [
      "324 1863\n"
     ]
    },
    {
     "name": "stderr",
     "output_type": "stream",
     "text": [
      "/Users/gbrammer/miniconda3/envs/grizli37/lib/python3.7/site-packages/ipykernel_launcher.py:47: UserWarning: linestyle is redundantly defined by the 'linestyle' keyword argument and the fmt string \"s-\" (-> linestyle='-'). The keyword argument will take precedence.\n",
      "/Users/gbrammer/miniconda3/envs/grizli37/lib/python3.7/site-packages/ipykernel_launcher.py:47: UserWarning: linestyle is redundantly defined by the 'linestyle' keyword argument and the fmt string \"s-\" (-> linestyle='-'). The keyword argument will take precedence.\n"
     ]
    },
    {
     "name": "stdout",
     "output_type": "stream",
     "text": [
      "325 1874\n"
     ]
    },
    {
     "name": "stderr",
     "output_type": "stream",
     "text": [
      "/Users/gbrammer/miniconda3/envs/grizli37/lib/python3.7/site-packages/ipykernel_launcher.py:47: UserWarning: linestyle is redundantly defined by the 'linestyle' keyword argument and the fmt string \"s-\" (-> linestyle='-'). The keyword argument will take precedence.\n"
     ]
    },
    {
     "name": "stdout",
     "output_type": "stream",
     "text": [
      "326 1905\n"
     ]
    },
    {
     "name": "stderr",
     "output_type": "stream",
     "text": [
      "/Users/gbrammer/miniconda3/envs/grizli37/lib/python3.7/site-packages/ipykernel_launcher.py:47: UserWarning: linestyle is redundantly defined by the 'linestyle' keyword argument and the fmt string \"s-\" (-> linestyle='-'). The keyword argument will take precedence.\n",
      "/Users/gbrammer/miniconda3/envs/grizli37/lib/python3.7/site-packages/ipykernel_launcher.py:47: UserWarning: linestyle is redundantly defined by the 'linestyle' keyword argument and the fmt string \"s-\" (-> linestyle='-'). The keyword argument will take precedence.\n",
      "/Users/gbrammer/miniconda3/envs/grizli37/lib/python3.7/site-packages/ipykernel_launcher.py:47: UserWarning: linestyle is redundantly defined by the 'linestyle' keyword argument and the fmt string \"s-\" (-> linestyle='-'). The keyword argument will take precedence.\n",
      "/Users/gbrammer/miniconda3/envs/grizli37/lib/python3.7/site-packages/ipykernel_launcher.py:47: UserWarning: linestyle is redundantly defined by the 'linestyle' keyword argument and the fmt string \"s-\" (-> linestyle='-'). The keyword argument will take precedence.\n",
      "/Users/gbrammer/miniconda3/envs/grizli37/lib/python3.7/site-packages/ipykernel_launcher.py:47: UserWarning: linestyle is redundantly defined by the 'linestyle' keyword argument and the fmt string \"s-\" (-> linestyle='-'). The keyword argument will take precedence.\n",
      "/Users/gbrammer/miniconda3/envs/grizli37/lib/python3.7/site-packages/ipykernel_launcher.py:47: UserWarning: linestyle is redundantly defined by the 'linestyle' keyword argument and the fmt string \"s-\" (-> linestyle='-'). The keyword argument will take precedence.\n",
      "/Users/gbrammer/miniconda3/envs/grizli37/lib/python3.7/site-packages/ipykernel_launcher.py:47: UserWarning: linestyle is redundantly defined by the 'linestyle' keyword argument and the fmt string \"s-\" (-> linestyle='-'). The keyword argument will take precedence.\n",
      "/Users/gbrammer/miniconda3/envs/grizli37/lib/python3.7/site-packages/ipykernel_launcher.py:47: UserWarning: linestyle is redundantly defined by the 'linestyle' keyword argument and the fmt string \"s-\" (-> linestyle='-'). The keyword argument will take precedence.\n",
      "/Users/gbrammer/miniconda3/envs/grizli37/lib/python3.7/site-packages/ipykernel_launcher.py:47: UserWarning: linestyle is redundantly defined by the 'linestyle' keyword argument and the fmt string \"s-\" (-> linestyle='-'). The keyword argument will take precedence.\n",
      "/Users/gbrammer/miniconda3/envs/grizli37/lib/python3.7/site-packages/ipykernel_launcher.py:47: UserWarning: linestyle is redundantly defined by the 'linestyle' keyword argument and the fmt string \"s-\" (-> linestyle='-'). The keyword argument will take precedence.\n",
      "/Users/gbrammer/miniconda3/envs/grizli37/lib/python3.7/site-packages/ipykernel_launcher.py:47: UserWarning: linestyle is redundantly defined by the 'linestyle' keyword argument and the fmt string \"s-\" (-> linestyle='-'). The keyword argument will take precedence.\n"
     ]
    },
    {
     "name": "stdout",
     "output_type": "stream",
     "text": [
      "327 1906\n",
      "328 1936\n",
      "329 1947\n"
     ]
    },
    {
     "name": "stderr",
     "output_type": "stream",
     "text": [
      "/Users/gbrammer/miniconda3/envs/grizli37/lib/python3.7/site-packages/ipykernel_launcher.py:47: UserWarning: linestyle is redundantly defined by the 'linestyle' keyword argument and the fmt string \"s-\" (-> linestyle='-'). The keyword argument will take precedence.\n",
      "/Users/gbrammer/miniconda3/envs/grizli37/lib/python3.7/site-packages/ipykernel_launcher.py:47: UserWarning: linestyle is redundantly defined by the 'linestyle' keyword argument and the fmt string \"s-\" (-> linestyle='-'). The keyword argument will take precedence.\n",
      "/Users/gbrammer/miniconda3/envs/grizli37/lib/python3.7/site-packages/ipykernel_launcher.py:47: UserWarning: linestyle is redundantly defined by the 'linestyle' keyword argument and the fmt string \"s-\" (-> linestyle='-'). The keyword argument will take precedence.\n",
      "/Users/gbrammer/miniconda3/envs/grizli37/lib/python3.7/site-packages/ipykernel_launcher.py:47: UserWarning: linestyle is redundantly defined by the 'linestyle' keyword argument and the fmt string \"s-\" (-> linestyle='-'). The keyword argument will take precedence.\n",
      "/Users/gbrammer/miniconda3/envs/grizli37/lib/python3.7/site-packages/ipykernel_launcher.py:47: UserWarning: linestyle is redundantly defined by the 'linestyle' keyword argument and the fmt string \"s-\" (-> linestyle='-'). The keyword argument will take precedence.\n",
      "/Users/gbrammer/miniconda3/envs/grizli37/lib/python3.7/site-packages/ipykernel_launcher.py:47: UserWarning: linestyle is redundantly defined by the 'linestyle' keyword argument and the fmt string \"s-\" (-> linestyle='-'). The keyword argument will take precedence.\n",
      "/Users/gbrammer/miniconda3/envs/grizli37/lib/python3.7/site-packages/ipykernel_launcher.py:47: UserWarning: linestyle is redundantly defined by the 'linestyle' keyword argument and the fmt string \"s-\" (-> linestyle='-'). The keyword argument will take precedence.\n",
      "/Users/gbrammer/miniconda3/envs/grizli37/lib/python3.7/site-packages/ipykernel_launcher.py:47: UserWarning: linestyle is redundantly defined by the 'linestyle' keyword argument and the fmt string \"s-\" (-> linestyle='-'). The keyword argument will take precedence.\n",
      "/Users/gbrammer/miniconda3/envs/grizli37/lib/python3.7/site-packages/ipykernel_launcher.py:47: UserWarning: linestyle is redundantly defined by the 'linestyle' keyword argument and the fmt string \"s-\" (-> linestyle='-'). The keyword argument will take precedence.\n",
      "/Users/gbrammer/miniconda3/envs/grizli37/lib/python3.7/site-packages/ipykernel_launcher.py:47: UserWarning: linestyle is redundantly defined by the 'linestyle' keyword argument and the fmt string \"s-\" (-> linestyle='-'). The keyword argument will take precedence.\n",
      "/Users/gbrammer/miniconda3/envs/grizli37/lib/python3.7/site-packages/ipykernel_launcher.py:47: UserWarning: linestyle is redundantly defined by the 'linestyle' keyword argument and the fmt string \"s-\" (-> linestyle='-'). The keyword argument will take precedence.\n",
      "/Users/gbrammer/miniconda3/envs/grizli37/lib/python3.7/site-packages/ipykernel_launcher.py:47: UserWarning: linestyle is redundantly defined by the 'linestyle' keyword argument and the fmt string \"s-\" (-> linestyle='-'). The keyword argument will take precedence.\n",
      "/Users/gbrammer/miniconda3/envs/grizli37/lib/python3.7/site-packages/ipykernel_launcher.py:47: UserWarning: linestyle is redundantly defined by the 'linestyle' keyword argument and the fmt string \"s-\" (-> linestyle='-'). The keyword argument will take precedence.\n",
      "/Users/gbrammer/miniconda3/envs/grizli37/lib/python3.7/site-packages/ipykernel_launcher.py:47: UserWarning: linestyle is redundantly defined by the 'linestyle' keyword argument and the fmt string \"s-\" (-> linestyle='-'). The keyword argument will take precedence.\n",
      "/Users/gbrammer/miniconda3/envs/grizli37/lib/python3.7/site-packages/ipykernel_launcher.py:47: UserWarning: linestyle is redundantly defined by the 'linestyle' keyword argument and the fmt string \"s-\" (-> linestyle='-'). The keyword argument will take precedence.\n",
      "/Users/gbrammer/miniconda3/envs/grizli37/lib/python3.7/site-packages/ipykernel_launcher.py:47: UserWarning: linestyle is redundantly defined by the 'linestyle' keyword argument and the fmt string \"s-\" (-> linestyle='-'). The keyword argument will take precedence.\n",
      "/Users/gbrammer/miniconda3/envs/grizli37/lib/python3.7/site-packages/ipykernel_launcher.py:47: UserWarning: linestyle is redundantly defined by the 'linestyle' keyword argument and the fmt string \"s-\" (-> linestyle='-'). The keyword argument will take precedence.\n",
      "/Users/gbrammer/miniconda3/envs/grizli37/lib/python3.7/site-packages/ipykernel_launcher.py:47: UserWarning: linestyle is redundantly defined by the 'linestyle' keyword argument and the fmt string \"s-\" (-> linestyle='-'). The keyword argument will take precedence.\n",
      "/Users/gbrammer/miniconda3/envs/grizli37/lib/python3.7/site-packages/ipykernel_launcher.py:47: UserWarning: linestyle is redundantly defined by the 'linestyle' keyword argument and the fmt string \"s-\" (-> linestyle='-'). The keyword argument will take precedence.\n",
      "/Users/gbrammer/miniconda3/envs/grizli37/lib/python3.7/site-packages/ipykernel_launcher.py:47: UserWarning: linestyle is redundantly defined by the 'linestyle' keyword argument and the fmt string \"s-\" (-> linestyle='-'). The keyword argument will take precedence.\n",
      "/Users/gbrammer/miniconda3/envs/grizli37/lib/python3.7/site-packages/ipykernel_launcher.py:47: UserWarning: linestyle is redundantly defined by the 'linestyle' keyword argument and the fmt string \"s-\" (-> linestyle='-'). The keyword argument will take precedence.\n",
      "/Users/gbrammer/miniconda3/envs/grizli37/lib/python3.7/site-packages/ipykernel_launcher.py:47: UserWarning: linestyle is redundantly defined by the 'linestyle' keyword argument and the fmt string \"s-\" (-> linestyle='-'). The keyword argument will take precedence.\n",
      "/Users/gbrammer/miniconda3/envs/grizli37/lib/python3.7/site-packages/ipykernel_launcher.py:47: UserWarning: linestyle is redundantly defined by the 'linestyle' keyword argument and the fmt string \"s-\" (-> linestyle='-'). The keyword argument will take precedence.\n",
      "/Users/gbrammer/miniconda3/envs/grizli37/lib/python3.7/site-packages/ipykernel_launcher.py:47: UserWarning: linestyle is redundantly defined by the 'linestyle' keyword argument and the fmt string \"s-\" (-> linestyle='-'). The keyword argument will take precedence.\n",
      "/Users/gbrammer/miniconda3/envs/grizli37/lib/python3.7/site-packages/ipykernel_launcher.py:47: UserWarning: linestyle is redundantly defined by the 'linestyle' keyword argument and the fmt string \"s-\" (-> linestyle='-'). The keyword argument will take precedence.\n",
      "/Users/gbrammer/miniconda3/envs/grizli37/lib/python3.7/site-packages/ipykernel_launcher.py:47: UserWarning: linestyle is redundantly defined by the 'linestyle' keyword argument and the fmt string \"s-\" (-> linestyle='-'). The keyword argument will take precedence.\n",
      "/Users/gbrammer/miniconda3/envs/grizli37/lib/python3.7/site-packages/ipykernel_launcher.py:47: UserWarning: linestyle is redundantly defined by the 'linestyle' keyword argument and the fmt string \"s-\" (-> linestyle='-'). The keyword argument will take precedence.\n",
      "/Users/gbrammer/miniconda3/envs/grizli37/lib/python3.7/site-packages/ipykernel_launcher.py:47: UserWarning: linestyle is redundantly defined by the 'linestyle' keyword argument and the fmt string \"s-\" (-> linestyle='-'). The keyword argument will take precedence.\n",
      "/Users/gbrammer/miniconda3/envs/grizli37/lib/python3.7/site-packages/ipykernel_launcher.py:47: UserWarning: linestyle is redundantly defined by the 'linestyle' keyword argument and the fmt string \"s-\" (-> linestyle='-'). The keyword argument will take precedence.\n",
      "/Users/gbrammer/miniconda3/envs/grizli37/lib/python3.7/site-packages/ipykernel_launcher.py:47: UserWarning: linestyle is redundantly defined by the 'linestyle' keyword argument and the fmt string \"s-\" (-> linestyle='-'). The keyword argument will take precedence.\n",
      "/Users/gbrammer/miniconda3/envs/grizli37/lib/python3.7/site-packages/ipykernel_launcher.py:47: UserWarning: linestyle is redundantly defined by the 'linestyle' keyword argument and the fmt string \"s-\" (-> linestyle='-'). The keyword argument will take precedence.\n",
      "/Users/gbrammer/miniconda3/envs/grizli37/lib/python3.7/site-packages/ipykernel_launcher.py:47: UserWarning: linestyle is redundantly defined by the 'linestyle' keyword argument and the fmt string \"s-\" (-> linestyle='-'). The keyword argument will take precedence.\n"
     ]
    },
    {
     "name": "stdout",
     "output_type": "stream",
     "text": [
      "330 1959\n"
     ]
    },
    {
     "name": "stderr",
     "output_type": "stream",
     "text": [
      "/Users/gbrammer/miniconda3/envs/grizli37/lib/python3.7/site-packages/ipykernel_launcher.py:47: UserWarning: linestyle is redundantly defined by the 'linestyle' keyword argument and the fmt string \"s-\" (-> linestyle='-'). The keyword argument will take precedence.\n",
      "/Users/gbrammer/miniconda3/envs/grizli37/lib/python3.7/site-packages/ipykernel_launcher.py:47: UserWarning: linestyle is redundantly defined by the 'linestyle' keyword argument and the fmt string \"s-\" (-> linestyle='-'). The keyword argument will take precedence.\n",
      "/Users/gbrammer/miniconda3/envs/grizli37/lib/python3.7/site-packages/ipykernel_launcher.py:47: UserWarning: linestyle is redundantly defined by the 'linestyle' keyword argument and the fmt string \"s-\" (-> linestyle='-'). The keyword argument will take precedence.\n",
      "/Users/gbrammer/miniconda3/envs/grizli37/lib/python3.7/site-packages/ipykernel_launcher.py:47: UserWarning: linestyle is redundantly defined by the 'linestyle' keyword argument and the fmt string \"s-\" (-> linestyle='-'). The keyword argument will take precedence.\n",
      "/Users/gbrammer/miniconda3/envs/grizli37/lib/python3.7/site-packages/ipykernel_launcher.py:47: UserWarning: linestyle is redundantly defined by the 'linestyle' keyword argument and the fmt string \"s-\" (-> linestyle='-'). The keyword argument will take precedence.\n",
      "/Users/gbrammer/miniconda3/envs/grizli37/lib/python3.7/site-packages/ipykernel_launcher.py:47: UserWarning: linestyle is redundantly defined by the 'linestyle' keyword argument and the fmt string \"s-\" (-> linestyle='-'). The keyword argument will take precedence.\n",
      "/Users/gbrammer/miniconda3/envs/grizli37/lib/python3.7/site-packages/ipykernel_launcher.py:47: UserWarning: linestyle is redundantly defined by the 'linestyle' keyword argument and the fmt string \"s-\" (-> linestyle='-'). The keyword argument will take precedence.\n",
      "/Users/gbrammer/miniconda3/envs/grizli37/lib/python3.7/site-packages/ipykernel_launcher.py:47: UserWarning: linestyle is redundantly defined by the 'linestyle' keyword argument and the fmt string \"s-\" (-> linestyle='-'). The keyword argument will take precedence.\n"
     ]
    },
    {
     "name": "stdout",
     "output_type": "stream",
     "text": [
      "331 1960\n"
     ]
    },
    {
     "name": "stderr",
     "output_type": "stream",
     "text": [
      "/Users/gbrammer/miniconda3/envs/grizli37/lib/python3.7/site-packages/ipykernel_launcher.py:47: UserWarning: linestyle is redundantly defined by the 'linestyle' keyword argument and the fmt string \"s-\" (-> linestyle='-'). The keyword argument will take precedence.\n",
      "/Users/gbrammer/miniconda3/envs/grizli37/lib/python3.7/site-packages/ipykernel_launcher.py:47: UserWarning: linestyle is redundantly defined by the 'linestyle' keyword argument and the fmt string \"s-\" (-> linestyle='-'). The keyword argument will take precedence.\n",
      "/Users/gbrammer/miniconda3/envs/grizli37/lib/python3.7/site-packages/ipykernel_launcher.py:47: UserWarning: linestyle is redundantly defined by the 'linestyle' keyword argument and the fmt string \"s-\" (-> linestyle='-'). The keyword argument will take precedence.\n",
      "/Users/gbrammer/miniconda3/envs/grizli37/lib/python3.7/site-packages/ipykernel_launcher.py:47: UserWarning: linestyle is redundantly defined by the 'linestyle' keyword argument and the fmt string \"s-\" (-> linestyle='-'). The keyword argument will take precedence.\n",
      "/Users/gbrammer/miniconda3/envs/grizli37/lib/python3.7/site-packages/ipykernel_launcher.py:47: UserWarning: linestyle is redundantly defined by the 'linestyle' keyword argument and the fmt string \"s-\" (-> linestyle='-'). The keyword argument will take precedence.\n",
      "/Users/gbrammer/miniconda3/envs/grizli37/lib/python3.7/site-packages/ipykernel_launcher.py:47: UserWarning: linestyle is redundantly defined by the 'linestyle' keyword argument and the fmt string \"s-\" (-> linestyle='-'). The keyword argument will take precedence.\n",
      "/Users/gbrammer/miniconda3/envs/grizli37/lib/python3.7/site-packages/ipykernel_launcher.py:47: UserWarning: linestyle is redundantly defined by the 'linestyle' keyword argument and the fmt string \"s-\" (-> linestyle='-'). The keyword argument will take precedence.\n",
      "/Users/gbrammer/miniconda3/envs/grizli37/lib/python3.7/site-packages/ipykernel_launcher.py:47: UserWarning: linestyle is redundantly defined by the 'linestyle' keyword argument and the fmt string \"s-\" (-> linestyle='-'). The keyword argument will take precedence.\n",
      "/Users/gbrammer/miniconda3/envs/grizli37/lib/python3.7/site-packages/ipykernel_launcher.py:47: UserWarning: linestyle is redundantly defined by the 'linestyle' keyword argument and the fmt string \"s-\" (-> linestyle='-'). The keyword argument will take precedence.\n",
      "/Users/gbrammer/miniconda3/envs/grizli37/lib/python3.7/site-packages/ipykernel_launcher.py:47: UserWarning: linestyle is redundantly defined by the 'linestyle' keyword argument and the fmt string \"s-\" (-> linestyle='-'). The keyword argument will take precedence.\n",
      "/Users/gbrammer/miniconda3/envs/grizli37/lib/python3.7/site-packages/ipykernel_launcher.py:47: UserWarning: linestyle is redundantly defined by the 'linestyle' keyword argument and the fmt string \"s-\" (-> linestyle='-'). The keyword argument will take precedence.\n",
      "/Users/gbrammer/miniconda3/envs/grizli37/lib/python3.7/site-packages/ipykernel_launcher.py:47: UserWarning: linestyle is redundantly defined by the 'linestyle' keyword argument and the fmt string \"s-\" (-> linestyle='-'). The keyword argument will take precedence.\n",
      "/Users/gbrammer/miniconda3/envs/grizli37/lib/python3.7/site-packages/ipykernel_launcher.py:47: UserWarning: linestyle is redundantly defined by the 'linestyle' keyword argument and the fmt string \"s-\" (-> linestyle='-'). The keyword argument will take precedence.\n",
      "/Users/gbrammer/miniconda3/envs/grizli37/lib/python3.7/site-packages/ipykernel_launcher.py:47: UserWarning: linestyle is redundantly defined by the 'linestyle' keyword argument and the fmt string \"s-\" (-> linestyle='-'). The keyword argument will take precedence.\n"
     ]
    },
    {
     "name": "stdout",
     "output_type": "stream",
     "text": [
      "332 1979\n"
     ]
    },
    {
     "name": "stderr",
     "output_type": "stream",
     "text": [
      "/Users/gbrammer/miniconda3/envs/grizli37/lib/python3.7/site-packages/ipykernel_launcher.py:47: UserWarning: linestyle is redundantly defined by the 'linestyle' keyword argument and the fmt string \"s-\" (-> linestyle='-'). The keyword argument will take precedence.\n",
      "/Users/gbrammer/miniconda3/envs/grizli37/lib/python3.7/site-packages/ipykernel_launcher.py:47: UserWarning: linestyle is redundantly defined by the 'linestyle' keyword argument and the fmt string \"s-\" (-> linestyle='-'). The keyword argument will take precedence.\n"
     ]
    },
    {
     "name": "stdout",
     "output_type": "stream",
     "text": [
      "333 1984\n",
      "334 2050\n"
     ]
    },
    {
     "name": "stderr",
     "output_type": "stream",
     "text": [
      "/Users/gbrammer/miniconda3/envs/grizli37/lib/python3.7/site-packages/ipykernel_launcher.py:47: UserWarning: linestyle is redundantly defined by the 'linestyle' keyword argument and the fmt string \"s-\" (-> linestyle='-'). The keyword argument will take precedence.\n",
      "/Users/gbrammer/miniconda3/envs/grizli37/lib/python3.7/site-packages/ipykernel_launcher.py:47: UserWarning: linestyle is redundantly defined by the 'linestyle' keyword argument and the fmt string \"s-\" (-> linestyle='-'). The keyword argument will take precedence.\n",
      "/Users/gbrammer/miniconda3/envs/grizli37/lib/python3.7/site-packages/ipykernel_launcher.py:47: UserWarning: linestyle is redundantly defined by the 'linestyle' keyword argument and the fmt string \"s-\" (-> linestyle='-'). The keyword argument will take precedence.\n",
      "/Users/gbrammer/miniconda3/envs/grizli37/lib/python3.7/site-packages/ipykernel_launcher.py:47: UserWarning: linestyle is redundantly defined by the 'linestyle' keyword argument and the fmt string \"s-\" (-> linestyle='-'). The keyword argument will take precedence.\n"
     ]
    },
    {
     "name": "stdout",
     "output_type": "stream",
     "text": [
      "335 2061\n",
      "336 2072\n",
      "337 2091\n",
      "338 2114\n",
      "339 2122\n",
      "340 2124\n"
     ]
    },
    {
     "name": "stderr",
     "output_type": "stream",
     "text": [
      "/Users/gbrammer/miniconda3/envs/grizli37/lib/python3.7/site-packages/ipykernel_launcher.py:47: UserWarning: linestyle is redundantly defined by the 'linestyle' keyword argument and the fmt string \"s-\" (-> linestyle='-'). The keyword argument will take precedence.\n",
      "/Users/gbrammer/miniconda3/envs/grizli37/lib/python3.7/site-packages/ipykernel_launcher.py:47: UserWarning: linestyle is redundantly defined by the 'linestyle' keyword argument and the fmt string \"s-\" (-> linestyle='-'). The keyword argument will take precedence.\n",
      "/Users/gbrammer/miniconda3/envs/grizli37/lib/python3.7/site-packages/ipykernel_launcher.py:47: UserWarning: linestyle is redundantly defined by the 'linestyle' keyword argument and the fmt string \"s-\" (-> linestyle='-'). The keyword argument will take precedence.\n",
      "/Users/gbrammer/miniconda3/envs/grizli37/lib/python3.7/site-packages/ipykernel_launcher.py:47: UserWarning: linestyle is redundantly defined by the 'linestyle' keyword argument and the fmt string \"s-\" (-> linestyle='-'). The keyword argument will take precedence.\n",
      "/Users/gbrammer/miniconda3/envs/grizli37/lib/python3.7/site-packages/ipykernel_launcher.py:47: UserWarning: linestyle is redundantly defined by the 'linestyle' keyword argument and the fmt string \"s-\" (-> linestyle='-'). The keyword argument will take precedence.\n",
      "/Users/gbrammer/miniconda3/envs/grizli37/lib/python3.7/site-packages/ipykernel_launcher.py:47: UserWarning: linestyle is redundantly defined by the 'linestyle' keyword argument and the fmt string \"s-\" (-> linestyle='-'). The keyword argument will take precedence.\n",
      "/Users/gbrammer/miniconda3/envs/grizli37/lib/python3.7/site-packages/ipykernel_launcher.py:47: UserWarning: linestyle is redundantly defined by the 'linestyle' keyword argument and the fmt string \"s-\" (-> linestyle='-'). The keyword argument will take precedence.\n",
      "/Users/gbrammer/miniconda3/envs/grizli37/lib/python3.7/site-packages/ipykernel_launcher.py:47: UserWarning: linestyle is redundantly defined by the 'linestyle' keyword argument and the fmt string \"s-\" (-> linestyle='-'). The keyword argument will take precedence.\n",
      "/Users/gbrammer/miniconda3/envs/grizli37/lib/python3.7/site-packages/ipykernel_launcher.py:47: UserWarning: linestyle is redundantly defined by the 'linestyle' keyword argument and the fmt string \"s-\" (-> linestyle='-'). The keyword argument will take precedence.\n",
      "/Users/gbrammer/miniconda3/envs/grizli37/lib/python3.7/site-packages/ipykernel_launcher.py:47: UserWarning: linestyle is redundantly defined by the 'linestyle' keyword argument and the fmt string \"s-\" (-> linestyle='-'). The keyword argument will take precedence.\n",
      "/Users/gbrammer/miniconda3/envs/grizli37/lib/python3.7/site-packages/ipykernel_launcher.py:47: UserWarning: linestyle is redundantly defined by the 'linestyle' keyword argument and the fmt string \"s-\" (-> linestyle='-'). The keyword argument will take precedence.\n",
      "/Users/gbrammer/miniconda3/envs/grizli37/lib/python3.7/site-packages/ipykernel_launcher.py:47: UserWarning: linestyle is redundantly defined by the 'linestyle' keyword argument and the fmt string \"s-\" (-> linestyle='-'). The keyword argument will take precedence.\n",
      "/Users/gbrammer/miniconda3/envs/grizli37/lib/python3.7/site-packages/ipykernel_launcher.py:47: UserWarning: linestyle is redundantly defined by the 'linestyle' keyword argument and the fmt string \"s-\" (-> linestyle='-'). The keyword argument will take precedence.\n",
      "/Users/gbrammer/miniconda3/envs/grizli37/lib/python3.7/site-packages/ipykernel_launcher.py:47: UserWarning: linestyle is redundantly defined by the 'linestyle' keyword argument and the fmt string \"s-\" (-> linestyle='-'). The keyword argument will take precedence.\n",
      "/Users/gbrammer/miniconda3/envs/grizli37/lib/python3.7/site-packages/ipykernel_launcher.py:47: UserWarning: linestyle is redundantly defined by the 'linestyle' keyword argument and the fmt string \"s-\" (-> linestyle='-'). The keyword argument will take precedence.\n",
      "/Users/gbrammer/miniconda3/envs/grizli37/lib/python3.7/site-packages/ipykernel_launcher.py:47: UserWarning: linestyle is redundantly defined by the 'linestyle' keyword argument and the fmt string \"s-\" (-> linestyle='-'). The keyword argument will take precedence.\n",
      "/Users/gbrammer/miniconda3/envs/grizli37/lib/python3.7/site-packages/ipykernel_launcher.py:47: UserWarning: linestyle is redundantly defined by the 'linestyle' keyword argument and the fmt string \"s-\" (-> linestyle='-'). The keyword argument will take precedence.\n",
      "/Users/gbrammer/miniconda3/envs/grizli37/lib/python3.7/site-packages/ipykernel_launcher.py:47: UserWarning: linestyle is redundantly defined by the 'linestyle' keyword argument and the fmt string \"s-\" (-> linestyle='-'). The keyword argument will take precedence.\n",
      "/Users/gbrammer/miniconda3/envs/grizli37/lib/python3.7/site-packages/ipykernel_launcher.py:47: UserWarning: linestyle is redundantly defined by the 'linestyle' keyword argument and the fmt string \"s-\" (-> linestyle='-'). The keyword argument will take precedence.\n",
      "/Users/gbrammer/miniconda3/envs/grizli37/lib/python3.7/site-packages/ipykernel_launcher.py:47: UserWarning: linestyle is redundantly defined by the 'linestyle' keyword argument and the fmt string \"s-\" (-> linestyle='-'). The keyword argument will take precedence.\n",
      "/Users/gbrammer/miniconda3/envs/grizli37/lib/python3.7/site-packages/ipykernel_launcher.py:47: UserWarning: linestyle is redundantly defined by the 'linestyle' keyword argument and the fmt string \"s-\" (-> linestyle='-'). The keyword argument will take precedence.\n",
      "/Users/gbrammer/miniconda3/envs/grizli37/lib/python3.7/site-packages/ipykernel_launcher.py:47: UserWarning: linestyle is redundantly defined by the 'linestyle' keyword argument and the fmt string \"s-\" (-> linestyle='-'). The keyword argument will take precedence.\n",
      "/Users/gbrammer/miniconda3/envs/grizli37/lib/python3.7/site-packages/ipykernel_launcher.py:47: UserWarning: linestyle is redundantly defined by the 'linestyle' keyword argument and the fmt string \"s-\" (-> linestyle='-'). The keyword argument will take precedence.\n"
     ]
    },
    {
     "name": "stdout",
     "output_type": "stream",
     "text": [
      "341 2204\n"
     ]
    },
    {
     "name": "stderr",
     "output_type": "stream",
     "text": [
      "/Users/gbrammer/miniconda3/envs/grizli37/lib/python3.7/site-packages/ipykernel_launcher.py:47: UserWarning: linestyle is redundantly defined by the 'linestyle' keyword argument and the fmt string \"s-\" (-> linestyle='-'). The keyword argument will take precedence.\n"
     ]
    },
    {
     "name": "stdout",
     "output_type": "stream",
     "text": [
      "342 2209\n"
     ]
    },
    {
     "name": "stderr",
     "output_type": "stream",
     "text": [
      "/Users/gbrammer/miniconda3/envs/grizli37/lib/python3.7/site-packages/ipykernel_launcher.py:47: UserWarning: linestyle is redundantly defined by the 'linestyle' keyword argument and the fmt string \"s-\" (-> linestyle='-'). The keyword argument will take precedence.\n"
     ]
    },
    {
     "name": "stdout",
     "output_type": "stream",
     "text": [
      "343 2288\n",
      "344 2302\n"
     ]
    },
    {
     "name": "stderr",
     "output_type": "stream",
     "text": [
      "/Users/gbrammer/miniconda3/envs/grizli37/lib/python3.7/site-packages/ipykernel_launcher.py:47: UserWarning: linestyle is redundantly defined by the 'linestyle' keyword argument and the fmt string \"s-\" (-> linestyle='-'). The keyword argument will take precedence.\n",
      "/Users/gbrammer/miniconda3/envs/grizli37/lib/python3.7/site-packages/ipykernel_launcher.py:47: UserWarning: linestyle is redundantly defined by the 'linestyle' keyword argument and the fmt string \"s-\" (-> linestyle='-'). The keyword argument will take precedence.\n",
      "/Users/gbrammer/miniconda3/envs/grizli37/lib/python3.7/site-packages/ipykernel_launcher.py:47: UserWarning: linestyle is redundantly defined by the 'linestyle' keyword argument and the fmt string \"s-\" (-> linestyle='-'). The keyword argument will take precedence.\n",
      "/Users/gbrammer/miniconda3/envs/grizli37/lib/python3.7/site-packages/ipykernel_launcher.py:47: UserWarning: linestyle is redundantly defined by the 'linestyle' keyword argument and the fmt string \"s-\" (-> linestyle='-'). The keyword argument will take precedence.\n",
      "/Users/gbrammer/miniconda3/envs/grizli37/lib/python3.7/site-packages/ipykernel_launcher.py:47: UserWarning: linestyle is redundantly defined by the 'linestyle' keyword argument and the fmt string \"s-\" (-> linestyle='-'). The keyword argument will take precedence.\n",
      "/Users/gbrammer/miniconda3/envs/grizli37/lib/python3.7/site-packages/ipykernel_launcher.py:47: UserWarning: linestyle is redundantly defined by the 'linestyle' keyword argument and the fmt string \"s-\" (-> linestyle='-'). The keyword argument will take precedence.\n",
      "/Users/gbrammer/miniconda3/envs/grizli37/lib/python3.7/site-packages/ipykernel_launcher.py:47: UserWarning: linestyle is redundantly defined by the 'linestyle' keyword argument and the fmt string \"s-\" (-> linestyle='-'). The keyword argument will take precedence.\n",
      "/Users/gbrammer/miniconda3/envs/grizli37/lib/python3.7/site-packages/ipykernel_launcher.py:47: UserWarning: linestyle is redundantly defined by the 'linestyle' keyword argument and the fmt string \"s-\" (-> linestyle='-'). The keyword argument will take precedence.\n",
      "/Users/gbrammer/miniconda3/envs/grizli37/lib/python3.7/site-packages/ipykernel_launcher.py:47: UserWarning: linestyle is redundantly defined by the 'linestyle' keyword argument and the fmt string \"s-\" (-> linestyle='-'). The keyword argument will take precedence.\n",
      "/Users/gbrammer/miniconda3/envs/grizli37/lib/python3.7/site-packages/ipykernel_launcher.py:47: UserWarning: linestyle is redundantly defined by the 'linestyle' keyword argument and the fmt string \"s-\" (-> linestyle='-'). The keyword argument will take precedence.\n",
      "/Users/gbrammer/miniconda3/envs/grizli37/lib/python3.7/site-packages/ipykernel_launcher.py:47: UserWarning: linestyle is redundantly defined by the 'linestyle' keyword argument and the fmt string \"s-\" (-> linestyle='-'). The keyword argument will take precedence.\n",
      "/Users/gbrammer/miniconda3/envs/grizli37/lib/python3.7/site-packages/ipykernel_launcher.py:47: UserWarning: linestyle is redundantly defined by the 'linestyle' keyword argument and the fmt string \"s-\" (-> linestyle='-'). The keyword argument will take precedence.\n",
      "/Users/gbrammer/miniconda3/envs/grizli37/lib/python3.7/site-packages/ipykernel_launcher.py:47: UserWarning: linestyle is redundantly defined by the 'linestyle' keyword argument and the fmt string \"s-\" (-> linestyle='-'). The keyword argument will take precedence.\n",
      "/Users/gbrammer/miniconda3/envs/grizli37/lib/python3.7/site-packages/ipykernel_launcher.py:47: UserWarning: linestyle is redundantly defined by the 'linestyle' keyword argument and the fmt string \"s-\" (-> linestyle='-'). The keyword argument will take precedence.\n",
      "/Users/gbrammer/miniconda3/envs/grizli37/lib/python3.7/site-packages/ipykernel_launcher.py:47: UserWarning: linestyle is redundantly defined by the 'linestyle' keyword argument and the fmt string \"s-\" (-> linestyle='-'). The keyword argument will take precedence.\n",
      "/Users/gbrammer/miniconda3/envs/grizli37/lib/python3.7/site-packages/ipykernel_launcher.py:47: UserWarning: linestyle is redundantly defined by the 'linestyle' keyword argument and the fmt string \"s-\" (-> linestyle='-'). The keyword argument will take precedence.\n",
      "/Users/gbrammer/miniconda3/envs/grizli37/lib/python3.7/site-packages/ipykernel_launcher.py:47: UserWarning: linestyle is redundantly defined by the 'linestyle' keyword argument and the fmt string \"s-\" (-> linestyle='-'). The keyword argument will take precedence.\n",
      "/Users/gbrammer/miniconda3/envs/grizli37/lib/python3.7/site-packages/ipykernel_launcher.py:47: UserWarning: linestyle is redundantly defined by the 'linestyle' keyword argument and the fmt string \"s-\" (-> linestyle='-'). The keyword argument will take precedence.\n",
      "/Users/gbrammer/miniconda3/envs/grizli37/lib/python3.7/site-packages/ipykernel_launcher.py:47: UserWarning: linestyle is redundantly defined by the 'linestyle' keyword argument and the fmt string \"s-\" (-> linestyle='-'). The keyword argument will take precedence.\n",
      "/Users/gbrammer/miniconda3/envs/grizli37/lib/python3.7/site-packages/ipykernel_launcher.py:47: UserWarning: linestyle is redundantly defined by the 'linestyle' keyword argument and the fmt string \"s-\" (-> linestyle='-'). The keyword argument will take precedence.\n",
      "/Users/gbrammer/miniconda3/envs/grizli37/lib/python3.7/site-packages/ipykernel_launcher.py:47: UserWarning: linestyle is redundantly defined by the 'linestyle' keyword argument and the fmt string \"s-\" (-> linestyle='-'). The keyword argument will take precedence.\n",
      "/Users/gbrammer/miniconda3/envs/grizli37/lib/python3.7/site-packages/ipykernel_launcher.py:47: UserWarning: linestyle is redundantly defined by the 'linestyle' keyword argument and the fmt string \"s-\" (-> linestyle='-'). The keyword argument will take precedence.\n",
      "/Users/gbrammer/miniconda3/envs/grizli37/lib/python3.7/site-packages/ipykernel_launcher.py:47: UserWarning: linestyle is redundantly defined by the 'linestyle' keyword argument and the fmt string \"s-\" (-> linestyle='-'). The keyword argument will take precedence.\n",
      "/Users/gbrammer/miniconda3/envs/grizli37/lib/python3.7/site-packages/ipykernel_launcher.py:47: UserWarning: linestyle is redundantly defined by the 'linestyle' keyword argument and the fmt string \"s-\" (-> linestyle='-'). The keyword argument will take precedence.\n",
      "/Users/gbrammer/miniconda3/envs/grizli37/lib/python3.7/site-packages/ipykernel_launcher.py:47: UserWarning: linestyle is redundantly defined by the 'linestyle' keyword argument and the fmt string \"s-\" (-> linestyle='-'). The keyword argument will take precedence.\n",
      "/Users/gbrammer/miniconda3/envs/grizli37/lib/python3.7/site-packages/ipykernel_launcher.py:47: UserWarning: linestyle is redundantly defined by the 'linestyle' keyword argument and the fmt string \"s-\" (-> linestyle='-'). The keyword argument will take precedence.\n",
      "/Users/gbrammer/miniconda3/envs/grizli37/lib/python3.7/site-packages/ipykernel_launcher.py:47: UserWarning: linestyle is redundantly defined by the 'linestyle' keyword argument and the fmt string \"s-\" (-> linestyle='-'). The keyword argument will take precedence.\n",
      "/Users/gbrammer/miniconda3/envs/grizli37/lib/python3.7/site-packages/ipykernel_launcher.py:47: UserWarning: linestyle is redundantly defined by the 'linestyle' keyword argument and the fmt string \"s-\" (-> linestyle='-'). The keyword argument will take precedence.\n",
      "/Users/gbrammer/miniconda3/envs/grizli37/lib/python3.7/site-packages/ipykernel_launcher.py:47: UserWarning: linestyle is redundantly defined by the 'linestyle' keyword argument and the fmt string \"s-\" (-> linestyle='-'). The keyword argument will take precedence.\n",
      "/Users/gbrammer/miniconda3/envs/grizli37/lib/python3.7/site-packages/ipykernel_launcher.py:47: UserWarning: linestyle is redundantly defined by the 'linestyle' keyword argument and the fmt string \"s-\" (-> linestyle='-'). The keyword argument will take precedence.\n",
      "/Users/gbrammer/miniconda3/envs/grizli37/lib/python3.7/site-packages/ipykernel_launcher.py:47: UserWarning: linestyle is redundantly defined by the 'linestyle' keyword argument and the fmt string \"s-\" (-> linestyle='-'). The keyword argument will take precedence.\n",
      "/Users/gbrammer/miniconda3/envs/grizli37/lib/python3.7/site-packages/ipykernel_launcher.py:47: UserWarning: linestyle is redundantly defined by the 'linestyle' keyword argument and the fmt string \"s-\" (-> linestyle='-'). The keyword argument will take precedence.\n",
      "/Users/gbrammer/miniconda3/envs/grizli37/lib/python3.7/site-packages/ipykernel_launcher.py:47: UserWarning: linestyle is redundantly defined by the 'linestyle' keyword argument and the fmt string \"s-\" (-> linestyle='-'). The keyword argument will take precedence.\n",
      "/Users/gbrammer/miniconda3/envs/grizli37/lib/python3.7/site-packages/ipykernel_launcher.py:47: UserWarning: linestyle is redundantly defined by the 'linestyle' keyword argument and the fmt string \"s-\" (-> linestyle='-'). The keyword argument will take precedence.\n",
      "/Users/gbrammer/miniconda3/envs/grizli37/lib/python3.7/site-packages/ipykernel_launcher.py:47: UserWarning: linestyle is redundantly defined by the 'linestyle' keyword argument and the fmt string \"s-\" (-> linestyle='-'). The keyword argument will take precedence.\n"
     ]
    },
    {
     "name": "stderr",
     "output_type": "stream",
     "text": [
      "/Users/gbrammer/miniconda3/envs/grizli37/lib/python3.7/site-packages/ipykernel_launcher.py:47: UserWarning: linestyle is redundantly defined by the 'linestyle' keyword argument and the fmt string \"s-\" (-> linestyle='-'). The keyword argument will take precedence.\n",
      "/Users/gbrammer/miniconda3/envs/grizli37/lib/python3.7/site-packages/ipykernel_launcher.py:47: UserWarning: linestyle is redundantly defined by the 'linestyle' keyword argument and the fmt string \"s-\" (-> linestyle='-'). The keyword argument will take precedence.\n",
      "/Users/gbrammer/miniconda3/envs/grizli37/lib/python3.7/site-packages/ipykernel_launcher.py:47: UserWarning: linestyle is redundantly defined by the 'linestyle' keyword argument and the fmt string \"s-\" (-> linestyle='-'). The keyword argument will take precedence.\n",
      "/Users/gbrammer/miniconda3/envs/grizli37/lib/python3.7/site-packages/ipykernel_launcher.py:47: UserWarning: linestyle is redundantly defined by the 'linestyle' keyword argument and the fmt string \"s-\" (-> linestyle='-'). The keyword argument will take precedence.\n",
      "/Users/gbrammer/miniconda3/envs/grizli37/lib/python3.7/site-packages/ipykernel_launcher.py:47: UserWarning: linestyle is redundantly defined by the 'linestyle' keyword argument and the fmt string \"s-\" (-> linestyle='-'). The keyword argument will take precedence.\n",
      "/Users/gbrammer/miniconda3/envs/grizli37/lib/python3.7/site-packages/ipykernel_launcher.py:47: UserWarning: linestyle is redundantly defined by the 'linestyle' keyword argument and the fmt string \"s-\" (-> linestyle='-'). The keyword argument will take precedence.\n",
      "/Users/gbrammer/miniconda3/envs/grizli37/lib/python3.7/site-packages/ipykernel_launcher.py:47: UserWarning: linestyle is redundantly defined by the 'linestyle' keyword argument and the fmt string \"s-\" (-> linestyle='-'). The keyword argument will take precedence.\n",
      "/Users/gbrammer/miniconda3/envs/grizli37/lib/python3.7/site-packages/ipykernel_launcher.py:47: UserWarning: linestyle is redundantly defined by the 'linestyle' keyword argument and the fmt string \"s-\" (-> linestyle='-'). The keyword argument will take precedence.\n",
      "/Users/gbrammer/miniconda3/envs/grizli37/lib/python3.7/site-packages/ipykernel_launcher.py:47: UserWarning: linestyle is redundantly defined by the 'linestyle' keyword argument and the fmt string \"s-\" (-> linestyle='-'). The keyword argument will take precedence.\n",
      "/Users/gbrammer/miniconda3/envs/grizli37/lib/python3.7/site-packages/ipykernel_launcher.py:47: UserWarning: linestyle is redundantly defined by the 'linestyle' keyword argument and the fmt string \"s-\" (-> linestyle='-'). The keyword argument will take precedence.\n",
      "/Users/gbrammer/miniconda3/envs/grizli37/lib/python3.7/site-packages/ipykernel_launcher.py:47: UserWarning: linestyle is redundantly defined by the 'linestyle' keyword argument and the fmt string \"s-\" (-> linestyle='-'). The keyword argument will take precedence.\n",
      "/Users/gbrammer/miniconda3/envs/grizli37/lib/python3.7/site-packages/ipykernel_launcher.py:47: UserWarning: linestyle is redundantly defined by the 'linestyle' keyword argument and the fmt string \"s-\" (-> linestyle='-'). The keyword argument will take precedence.\n",
      "/Users/gbrammer/miniconda3/envs/grizli37/lib/python3.7/site-packages/ipykernel_launcher.py:47: UserWarning: linestyle is redundantly defined by the 'linestyle' keyword argument and the fmt string \"s-\" (-> linestyle='-'). The keyword argument will take precedence.\n",
      "/Users/gbrammer/miniconda3/envs/grizli37/lib/python3.7/site-packages/ipykernel_launcher.py:47: UserWarning: linestyle is redundantly defined by the 'linestyle' keyword argument and the fmt string \"s-\" (-> linestyle='-'). The keyword argument will take precedence.\n",
      "/Users/gbrammer/miniconda3/envs/grizli37/lib/python3.7/site-packages/ipykernel_launcher.py:47: UserWarning: linestyle is redundantly defined by the 'linestyle' keyword argument and the fmt string \"s-\" (-> linestyle='-'). The keyword argument will take precedence.\n",
      "/Users/gbrammer/miniconda3/envs/grizli37/lib/python3.7/site-packages/ipykernel_launcher.py:47: UserWarning: linestyle is redundantly defined by the 'linestyle' keyword argument and the fmt string \"s-\" (-> linestyle='-'). The keyword argument will take precedence.\n",
      "/Users/gbrammer/miniconda3/envs/grizli37/lib/python3.7/site-packages/ipykernel_launcher.py:47: UserWarning: linestyle is redundantly defined by the 'linestyle' keyword argument and the fmt string \"s-\" (-> linestyle='-'). The keyword argument will take precedence.\n",
      "/Users/gbrammer/miniconda3/envs/grizli37/lib/python3.7/site-packages/ipykernel_launcher.py:47: UserWarning: linestyle is redundantly defined by the 'linestyle' keyword argument and the fmt string \"s-\" (-> linestyle='-'). The keyword argument will take precedence.\n",
      "/Users/gbrammer/miniconda3/envs/grizli37/lib/python3.7/site-packages/ipykernel_launcher.py:47: UserWarning: linestyle is redundantly defined by the 'linestyle' keyword argument and the fmt string \"s-\" (-> linestyle='-'). The keyword argument will take precedence.\n",
      "/Users/gbrammer/miniconda3/envs/grizli37/lib/python3.7/site-packages/ipykernel_launcher.py:47: UserWarning: linestyle is redundantly defined by the 'linestyle' keyword argument and the fmt string \"s-\" (-> linestyle='-'). The keyword argument will take precedence.\n",
      "/Users/gbrammer/miniconda3/envs/grizli37/lib/python3.7/site-packages/ipykernel_launcher.py:47: UserWarning: linestyle is redundantly defined by the 'linestyle' keyword argument and the fmt string \"s-\" (-> linestyle='-'). The keyword argument will take precedence.\n",
      "/Users/gbrammer/miniconda3/envs/grizli37/lib/python3.7/site-packages/ipykernel_launcher.py:47: UserWarning: linestyle is redundantly defined by the 'linestyle' keyword argument and the fmt string \"s-\" (-> linestyle='-'). The keyword argument will take precedence.\n",
      "/Users/gbrammer/miniconda3/envs/grizli37/lib/python3.7/site-packages/ipykernel_launcher.py:47: UserWarning: linestyle is redundantly defined by the 'linestyle' keyword argument and the fmt string \"s-\" (-> linestyle='-'). The keyword argument will take precedence.\n",
      "/Users/gbrammer/miniconda3/envs/grizli37/lib/python3.7/site-packages/ipykernel_launcher.py:47: UserWarning: linestyle is redundantly defined by the 'linestyle' keyword argument and the fmt string \"s-\" (-> linestyle='-'). The keyword argument will take precedence.\n",
      "/Users/gbrammer/miniconda3/envs/grizli37/lib/python3.7/site-packages/ipykernel_launcher.py:47: UserWarning: linestyle is redundantly defined by the 'linestyle' keyword argument and the fmt string \"s-\" (-> linestyle='-'). The keyword argument will take precedence.\n",
      "/Users/gbrammer/miniconda3/envs/grizli37/lib/python3.7/site-packages/ipykernel_launcher.py:47: UserWarning: linestyle is redundantly defined by the 'linestyle' keyword argument and the fmt string \"s-\" (-> linestyle='-'). The keyword argument will take precedence.\n",
      "/Users/gbrammer/miniconda3/envs/grizli37/lib/python3.7/site-packages/ipykernel_launcher.py:47: UserWarning: linestyle is redundantly defined by the 'linestyle' keyword argument and the fmt string \"s-\" (-> linestyle='-'). The keyword argument will take precedence.\n",
      "/Users/gbrammer/miniconda3/envs/grizli37/lib/python3.7/site-packages/ipykernel_launcher.py:47: UserWarning: linestyle is redundantly defined by the 'linestyle' keyword argument and the fmt string \"s-\" (-> linestyle='-'). The keyword argument will take precedence.\n",
      "/Users/gbrammer/miniconda3/envs/grizli37/lib/python3.7/site-packages/ipykernel_launcher.py:47: UserWarning: linestyle is redundantly defined by the 'linestyle' keyword argument and the fmt string \"s-\" (-> linestyle='-'). The keyword argument will take precedence.\n",
      "/Users/gbrammer/miniconda3/envs/grizli37/lib/python3.7/site-packages/ipykernel_launcher.py:47: UserWarning: linestyle is redundantly defined by the 'linestyle' keyword argument and the fmt string \"s-\" (-> linestyle='-'). The keyword argument will take precedence.\n",
      "/Users/gbrammer/miniconda3/envs/grizli37/lib/python3.7/site-packages/ipykernel_launcher.py:47: UserWarning: linestyle is redundantly defined by the 'linestyle' keyword argument and the fmt string \"s-\" (-> linestyle='-'). The keyword argument will take precedence.\n",
      "/Users/gbrammer/miniconda3/envs/grizli37/lib/python3.7/site-packages/ipykernel_launcher.py:47: UserWarning: linestyle is redundantly defined by the 'linestyle' keyword argument and the fmt string \"s-\" (-> linestyle='-'). The keyword argument will take precedence.\n",
      "/Users/gbrammer/miniconda3/envs/grizli37/lib/python3.7/site-packages/ipykernel_launcher.py:47: UserWarning: linestyle is redundantly defined by the 'linestyle' keyword argument and the fmt string \"s-\" (-> linestyle='-'). The keyword argument will take precedence.\n",
      "/Users/gbrammer/miniconda3/envs/grizli37/lib/python3.7/site-packages/ipykernel_launcher.py:47: UserWarning: linestyle is redundantly defined by the 'linestyle' keyword argument and the fmt string \"s-\" (-> linestyle='-'). The keyword argument will take precedence.\n"
     ]
    },
    {
     "name": "stderr",
     "output_type": "stream",
     "text": [
      "/Users/gbrammer/miniconda3/envs/grizli37/lib/python3.7/site-packages/ipykernel_launcher.py:47: UserWarning: linestyle is redundantly defined by the 'linestyle' keyword argument and the fmt string \"s-\" (-> linestyle='-'). The keyword argument will take precedence.\n"
     ]
    },
    {
     "name": "stdout",
     "output_type": "stream",
     "text": [
      "345 2327\n"
     ]
    },
    {
     "name": "stderr",
     "output_type": "stream",
     "text": [
      "/Users/gbrammer/miniconda3/envs/grizli37/lib/python3.7/site-packages/ipykernel_launcher.py:47: UserWarning: linestyle is redundantly defined by the 'linestyle' keyword argument and the fmt string \"s-\" (-> linestyle='-'). The keyword argument will take precedence.\n"
     ]
    },
    {
     "name": "stdout",
     "output_type": "stream",
     "text": [
      "346 2348\n"
     ]
    },
    {
     "name": "stderr",
     "output_type": "stream",
     "text": [
      "/Users/gbrammer/miniconda3/envs/grizli37/lib/python3.7/site-packages/ipykernel_launcher.py:47: UserWarning: linestyle is redundantly defined by the 'linestyle' keyword argument and the fmt string \"s-\" (-> linestyle='-'). The keyword argument will take precedence.\n",
      "/Users/gbrammer/miniconda3/envs/grizli37/lib/python3.7/site-packages/ipykernel_launcher.py:47: UserWarning: linestyle is redundantly defined by the 'linestyle' keyword argument and the fmt string \"s-\" (-> linestyle='-'). The keyword argument will take precedence.\n",
      "/Users/gbrammer/miniconda3/envs/grizli37/lib/python3.7/site-packages/ipykernel_launcher.py:47: UserWarning: linestyle is redundantly defined by the 'linestyle' keyword argument and the fmt string \"s-\" (-> linestyle='-'). The keyword argument will take precedence.\n"
     ]
    },
    {
     "name": "stdout",
     "output_type": "stream",
     "text": [
      "347 2395\n",
      "348 2473\n"
     ]
    },
    {
     "name": "stderr",
     "output_type": "stream",
     "text": [
      "/Users/gbrammer/miniconda3/envs/grizli37/lib/python3.7/site-packages/ipykernel_launcher.py:47: UserWarning: linestyle is redundantly defined by the 'linestyle' keyword argument and the fmt string \"s-\" (-> linestyle='-'). The keyword argument will take precedence.\n",
      "/Users/gbrammer/miniconda3/envs/grizli37/lib/python3.7/site-packages/ipykernel_launcher.py:47: UserWarning: linestyle is redundantly defined by the 'linestyle' keyword argument and the fmt string \"s-\" (-> linestyle='-'). The keyword argument will take precedence.\n",
      "/Users/gbrammer/miniconda3/envs/grizli37/lib/python3.7/site-packages/ipykernel_launcher.py:47: UserWarning: linestyle is redundantly defined by the 'linestyle' keyword argument and the fmt string \"s-\" (-> linestyle='-'). The keyword argument will take precedence.\n",
      "/Users/gbrammer/miniconda3/envs/grizli37/lib/python3.7/site-packages/ipykernel_launcher.py:47: UserWarning: linestyle is redundantly defined by the 'linestyle' keyword argument and the fmt string \"s-\" (-> linestyle='-'). The keyword argument will take precedence.\n",
      "/Users/gbrammer/miniconda3/envs/grizli37/lib/python3.7/site-packages/ipykernel_launcher.py:47: UserWarning: linestyle is redundantly defined by the 'linestyle' keyword argument and the fmt string \"s-\" (-> linestyle='-'). The keyword argument will take precedence.\n",
      "/Users/gbrammer/miniconda3/envs/grizli37/lib/python3.7/site-packages/ipykernel_launcher.py:47: UserWarning: linestyle is redundantly defined by the 'linestyle' keyword argument and the fmt string \"s-\" (-> linestyle='-'). The keyword argument will take precedence.\n",
      "/Users/gbrammer/miniconda3/envs/grizli37/lib/python3.7/site-packages/ipykernel_launcher.py:47: UserWarning: linestyle is redundantly defined by the 'linestyle' keyword argument and the fmt string \"s-\" (-> linestyle='-'). The keyword argument will take precedence.\n",
      "/Users/gbrammer/miniconda3/envs/grizli37/lib/python3.7/site-packages/ipykernel_launcher.py:47: UserWarning: linestyle is redundantly defined by the 'linestyle' keyword argument and the fmt string \"s-\" (-> linestyle='-'). The keyword argument will take precedence.\n",
      "/Users/gbrammer/miniconda3/envs/grizli37/lib/python3.7/site-packages/ipykernel_launcher.py:47: UserWarning: linestyle is redundantly defined by the 'linestyle' keyword argument and the fmt string \"s-\" (-> linestyle='-'). The keyword argument will take precedence.\n",
      "/Users/gbrammer/miniconda3/envs/grizli37/lib/python3.7/site-packages/ipykernel_launcher.py:47: UserWarning: linestyle is redundantly defined by the 'linestyle' keyword argument and the fmt string \"s-\" (-> linestyle='-'). The keyword argument will take precedence.\n",
      "/Users/gbrammer/miniconda3/envs/grizli37/lib/python3.7/site-packages/ipykernel_launcher.py:47: UserWarning: linestyle is redundantly defined by the 'linestyle' keyword argument and the fmt string \"s-\" (-> linestyle='-'). The keyword argument will take precedence.\n",
      "/Users/gbrammer/miniconda3/envs/grizli37/lib/python3.7/site-packages/ipykernel_launcher.py:47: UserWarning: linestyle is redundantly defined by the 'linestyle' keyword argument and the fmt string \"s-\" (-> linestyle='-'). The keyword argument will take precedence.\n",
      "/Users/gbrammer/miniconda3/envs/grizli37/lib/python3.7/site-packages/ipykernel_launcher.py:47: UserWarning: linestyle is redundantly defined by the 'linestyle' keyword argument and the fmt string \"s-\" (-> linestyle='-'). The keyword argument will take precedence.\n",
      "/Users/gbrammer/miniconda3/envs/grizli37/lib/python3.7/site-packages/ipykernel_launcher.py:47: UserWarning: linestyle is redundantly defined by the 'linestyle' keyword argument and the fmt string \"s-\" (-> linestyle='-'). The keyword argument will take precedence.\n",
      "/Users/gbrammer/miniconda3/envs/grizli37/lib/python3.7/site-packages/ipykernel_launcher.py:47: UserWarning: linestyle is redundantly defined by the 'linestyle' keyword argument and the fmt string \"s-\" (-> linestyle='-'). The keyword argument will take precedence.\n",
      "/Users/gbrammer/miniconda3/envs/grizli37/lib/python3.7/site-packages/ipykernel_launcher.py:47: UserWarning: linestyle is redundantly defined by the 'linestyle' keyword argument and the fmt string \"s-\" (-> linestyle='-'). The keyword argument will take precedence.\n",
      "/Users/gbrammer/miniconda3/envs/grizli37/lib/python3.7/site-packages/ipykernel_launcher.py:47: UserWarning: linestyle is redundantly defined by the 'linestyle' keyword argument and the fmt string \"s-\" (-> linestyle='-'). The keyword argument will take precedence.\n",
      "/Users/gbrammer/miniconda3/envs/grizli37/lib/python3.7/site-packages/ipykernel_launcher.py:47: UserWarning: linestyle is redundantly defined by the 'linestyle' keyword argument and the fmt string \"s-\" (-> linestyle='-'). The keyword argument will take precedence.\n",
      "/Users/gbrammer/miniconda3/envs/grizli37/lib/python3.7/site-packages/ipykernel_launcher.py:47: UserWarning: linestyle is redundantly defined by the 'linestyle' keyword argument and the fmt string \"s-\" (-> linestyle='-'). The keyword argument will take precedence.\n",
      "/Users/gbrammer/miniconda3/envs/grizli37/lib/python3.7/site-packages/ipykernel_launcher.py:47: UserWarning: linestyle is redundantly defined by the 'linestyle' keyword argument and the fmt string \"s-\" (-> linestyle='-'). The keyword argument will take precedence.\n"
     ]
    },
    {
     "name": "stdout",
     "output_type": "stream",
     "text": [
      "349 2559\n"
     ]
    },
    {
     "name": "stderr",
     "output_type": "stream",
     "text": [
      "/Users/gbrammer/miniconda3/envs/grizli37/lib/python3.7/site-packages/ipykernel_launcher.py:47: UserWarning: linestyle is redundantly defined by the 'linestyle' keyword argument and the fmt string \"s-\" (-> linestyle='-'). The keyword argument will take precedence.\n",
      "/Users/gbrammer/miniconda3/envs/grizli37/lib/python3.7/site-packages/ipykernel_launcher.py:47: UserWarning: linestyle is redundantly defined by the 'linestyle' keyword argument and the fmt string \"s-\" (-> linestyle='-'). The keyword argument will take precedence.\n",
      "/Users/gbrammer/miniconda3/envs/grizli37/lib/python3.7/site-packages/ipykernel_launcher.py:47: UserWarning: linestyle is redundantly defined by the 'linestyle' keyword argument and the fmt string \"s-\" (-> linestyle='-'). The keyword argument will take precedence.\n",
      "/Users/gbrammer/miniconda3/envs/grizli37/lib/python3.7/site-packages/ipykernel_launcher.py:47: UserWarning: linestyle is redundantly defined by the 'linestyle' keyword argument and the fmt string \"s-\" (-> linestyle='-'). The keyword argument will take precedence.\n"
     ]
    },
    {
     "name": "stdout",
     "output_type": "stream",
     "text": [
      "350 2635\n"
     ]
    },
    {
     "name": "stderr",
     "output_type": "stream",
     "text": [
      "/Users/gbrammer/miniconda3/envs/grizli37/lib/python3.7/site-packages/ipykernel_launcher.py:47: UserWarning: linestyle is redundantly defined by the 'linestyle' keyword argument and the fmt string \"s-\" (-> linestyle='-'). The keyword argument will take precedence.\n",
      "/Users/gbrammer/miniconda3/envs/grizli37/lib/python3.7/site-packages/ipykernel_launcher.py:47: UserWarning: linestyle is redundantly defined by the 'linestyle' keyword argument and the fmt string \"s-\" (-> linestyle='-'). The keyword argument will take precedence.\n",
      "/Users/gbrammer/miniconda3/envs/grizli37/lib/python3.7/site-packages/ipykernel_launcher.py:47: UserWarning: linestyle is redundantly defined by the 'linestyle' keyword argument and the fmt string \"s-\" (-> linestyle='-'). The keyword argument will take precedence.\n"
     ]
    },
    {
     "name": "stdout",
     "output_type": "stream",
     "text": [
      "351 2640\n"
     ]
    },
    {
     "name": "stderr",
     "output_type": "stream",
     "text": [
      "/Users/gbrammer/miniconda3/envs/grizli37/lib/python3.7/site-packages/ipykernel_launcher.py:47: UserWarning: linestyle is redundantly defined by the 'linestyle' keyword argument and the fmt string \"s-\" (-> linestyle='-'). The keyword argument will take precedence.\n",
      "/Users/gbrammer/miniconda3/envs/grizli37/lib/python3.7/site-packages/ipykernel_launcher.py:47: UserWarning: linestyle is redundantly defined by the 'linestyle' keyword argument and the fmt string \"s-\" (-> linestyle='-'). The keyword argument will take precedence.\n"
     ]
    },
    {
     "name": "stdout",
     "output_type": "stream",
     "text": [
      "352 2666\n"
     ]
    },
    {
     "name": "stderr",
     "output_type": "stream",
     "text": [
      "/Users/gbrammer/miniconda3/envs/grizli37/lib/python3.7/site-packages/ipykernel_launcher.py:47: UserWarning: linestyle is redundantly defined by the 'linestyle' keyword argument and the fmt string \"s-\" (-> linestyle='-'). The keyword argument will take precedence.\n",
      "/Users/gbrammer/miniconda3/envs/grizli37/lib/python3.7/site-packages/ipykernel_launcher.py:47: UserWarning: linestyle is redundantly defined by the 'linestyle' keyword argument and the fmt string \"s-\" (-> linestyle='-'). The keyword argument will take precedence.\n",
      "/Users/gbrammer/miniconda3/envs/grizli37/lib/python3.7/site-packages/ipykernel_launcher.py:47: UserWarning: linestyle is redundantly defined by the 'linestyle' keyword argument and the fmt string \"s-\" (-> linestyle='-'). The keyword argument will take precedence.\n",
      "/Users/gbrammer/miniconda3/envs/grizli37/lib/python3.7/site-packages/ipykernel_launcher.py:47: UserWarning: linestyle is redundantly defined by the 'linestyle' keyword argument and the fmt string \"s-\" (-> linestyle='-'). The keyword argument will take precedence.\n",
      "/Users/gbrammer/miniconda3/envs/grizli37/lib/python3.7/site-packages/ipykernel_launcher.py:47: UserWarning: linestyle is redundantly defined by the 'linestyle' keyword argument and the fmt string \"s-\" (-> linestyle='-'). The keyword argument will take precedence.\n"
     ]
    },
    {
     "name": "stdout",
     "output_type": "stream",
     "text": [
      "353 2692\n"
     ]
    },
    {
     "name": "stderr",
     "output_type": "stream",
     "text": [
      "/Users/gbrammer/miniconda3/envs/grizli37/lib/python3.7/site-packages/ipykernel_launcher.py:47: UserWarning: linestyle is redundantly defined by the 'linestyle' keyword argument and the fmt string \"s-\" (-> linestyle='-'). The keyword argument will take precedence.\n",
      "/Users/gbrammer/miniconda3/envs/grizli37/lib/python3.7/site-packages/ipykernel_launcher.py:47: UserWarning: linestyle is redundantly defined by the 'linestyle' keyword argument and the fmt string \"s-\" (-> linestyle='-'). The keyword argument will take precedence.\n"
     ]
    },
    {
     "name": "stdout",
     "output_type": "stream",
     "text": [
      "354 1557\n",
      "Fail\n",
      "355 1558\n"
     ]
    },
    {
     "name": "stderr",
     "output_type": "stream",
     "text": [
      "/Users/gbrammer/miniconda3/envs/grizli37/lib/python3.7/site-packages/ipykernel_launcher.py:47: UserWarning: linestyle is redundantly defined by the 'linestyle' keyword argument and the fmt string \"s-\" (-> linestyle='-'). The keyword argument will take precedence.\n",
      "/Users/gbrammer/miniconda3/envs/grizli37/lib/python3.7/site-packages/ipykernel_launcher.py:47: UserWarning: linestyle is redundantly defined by the 'linestyle' keyword argument and the fmt string \"s-\" (-> linestyle='-'). The keyword argument will take precedence.\n",
      "/Users/gbrammer/miniconda3/envs/grizli37/lib/python3.7/site-packages/ipykernel_launcher.py:47: UserWarning: linestyle is redundantly defined by the 'linestyle' keyword argument and the fmt string \"s-\" (-> linestyle='-'). The keyword argument will take precedence.\n",
      "/Users/gbrammer/miniconda3/envs/grizli37/lib/python3.7/site-packages/ipykernel_launcher.py:47: UserWarning: linestyle is redundantly defined by the 'linestyle' keyword argument and the fmt string \"s-\" (-> linestyle='-'). The keyword argument will take precedence.\n",
      "/Users/gbrammer/miniconda3/envs/grizli37/lib/python3.7/site-packages/ipykernel_launcher.py:47: UserWarning: linestyle is redundantly defined by the 'linestyle' keyword argument and the fmt string \"s-\" (-> linestyle='-'). The keyword argument will take precedence.\n",
      "/Users/gbrammer/miniconda3/envs/grizli37/lib/python3.7/site-packages/ipykernel_launcher.py:47: UserWarning: linestyle is redundantly defined by the 'linestyle' keyword argument and the fmt string \"s-\" (-> linestyle='-'). The keyword argument will take precedence.\n",
      "/Users/gbrammer/miniconda3/envs/grizli37/lib/python3.7/site-packages/ipykernel_launcher.py:47: UserWarning: linestyle is redundantly defined by the 'linestyle' keyword argument and the fmt string \"s-\" (-> linestyle='-'). The keyword argument will take precedence.\n",
      "/Users/gbrammer/miniconda3/envs/grizli37/lib/python3.7/site-packages/ipykernel_launcher.py:47: UserWarning: linestyle is redundantly defined by the 'linestyle' keyword argument and the fmt string \"s-\" (-> linestyle='-'). The keyword argument will take precedence.\n",
      "/Users/gbrammer/miniconda3/envs/grizli37/lib/python3.7/site-packages/ipykernel_launcher.py:47: UserWarning: linestyle is redundantly defined by the 'linestyle' keyword argument and the fmt string \"s-\" (-> linestyle='-'). The keyword argument will take precedence.\n"
     ]
    },
    {
     "name": "stdout",
     "output_type": "stream",
     "text": [
      "356 1591\n"
     ]
    },
    {
     "name": "stderr",
     "output_type": "stream",
     "text": [
      "/Users/gbrammer/miniconda3/envs/grizli37/lib/python3.7/site-packages/ipykernel_launcher.py:47: UserWarning: linestyle is redundantly defined by the 'linestyle' keyword argument and the fmt string \"s-\" (-> linestyle='-'). The keyword argument will take precedence.\n",
      "/Users/gbrammer/miniconda3/envs/grizli37/lib/python3.7/site-packages/ipykernel_launcher.py:47: UserWarning: linestyle is redundantly defined by the 'linestyle' keyword argument and the fmt string \"s-\" (-> linestyle='-'). The keyword argument will take precedence.\n",
      "/Users/gbrammer/miniconda3/envs/grizli37/lib/python3.7/site-packages/ipykernel_launcher.py:47: UserWarning: linestyle is redundantly defined by the 'linestyle' keyword argument and the fmt string \"s-\" (-> linestyle='-'). The keyword argument will take precedence.\n",
      "/Users/gbrammer/miniconda3/envs/grizli37/lib/python3.7/site-packages/ipykernel_launcher.py:47: UserWarning: linestyle is redundantly defined by the 'linestyle' keyword argument and the fmt string \"s-\" (-> linestyle='-'). The keyword argument will take precedence.\n",
      "/Users/gbrammer/miniconda3/envs/grizli37/lib/python3.7/site-packages/ipykernel_launcher.py:47: UserWarning: linestyle is redundantly defined by the 'linestyle' keyword argument and the fmt string \"s-\" (-> linestyle='-'). The keyword argument will take precedence.\n",
      "/Users/gbrammer/miniconda3/envs/grizli37/lib/python3.7/site-packages/ipykernel_launcher.py:47: UserWarning: linestyle is redundantly defined by the 'linestyle' keyword argument and the fmt string \"s-\" (-> linestyle='-'). The keyword argument will take precedence.\n",
      "/Users/gbrammer/miniconda3/envs/grizli37/lib/python3.7/site-packages/ipykernel_launcher.py:47: UserWarning: linestyle is redundantly defined by the 'linestyle' keyword argument and the fmt string \"s-\" (-> linestyle='-'). The keyword argument will take precedence.\n"
     ]
    },
    {
     "name": "stdout",
     "output_type": "stream",
     "text": [
      "357 1611\n"
     ]
    },
    {
     "name": "stderr",
     "output_type": "stream",
     "text": [
      "/Users/gbrammer/miniconda3/envs/grizli37/lib/python3.7/site-packages/ipykernel_launcher.py:47: UserWarning: linestyle is redundantly defined by the 'linestyle' keyword argument and the fmt string \"s-\" (-> linestyle='-'). The keyword argument will take precedence.\n",
      "/Users/gbrammer/miniconda3/envs/grizli37/lib/python3.7/site-packages/ipykernel_launcher.py:47: UserWarning: linestyle is redundantly defined by the 'linestyle' keyword argument and the fmt string \"s-\" (-> linestyle='-'). The keyword argument will take precedence.\n",
      "/Users/gbrammer/miniconda3/envs/grizli37/lib/python3.7/site-packages/ipykernel_launcher.py:47: UserWarning: linestyle is redundantly defined by the 'linestyle' keyword argument and the fmt string \"s-\" (-> linestyle='-'). The keyword argument will take precedence.\n",
      "/Users/gbrammer/miniconda3/envs/grizli37/lib/python3.7/site-packages/ipykernel_launcher.py:47: UserWarning: linestyle is redundantly defined by the 'linestyle' keyword argument and the fmt string \"s-\" (-> linestyle='-'). The keyword argument will take precedence.\n"
     ]
    },
    {
     "name": "stdout",
     "output_type": "stream",
     "text": [
      "358 1617\n"
     ]
    },
    {
     "name": "stderr",
     "output_type": "stream",
     "text": [
      "/Users/gbrammer/miniconda3/envs/grizli37/lib/python3.7/site-packages/ipykernel_launcher.py:47: UserWarning: linestyle is redundantly defined by the 'linestyle' keyword argument and the fmt string \"s-\" (-> linestyle='-'). The keyword argument will take precedence.\n",
      "/Users/gbrammer/miniconda3/envs/grizli37/lib/python3.7/site-packages/ipykernel_launcher.py:47: UserWarning: linestyle is redundantly defined by the 'linestyle' keyword argument and the fmt string \"s-\" (-> linestyle='-'). The keyword argument will take precedence.\n"
     ]
    },
    {
     "name": "stdout",
     "output_type": "stream",
     "text": [
      "359 1619\n"
     ]
    },
    {
     "name": "stderr",
     "output_type": "stream",
     "text": [
      "/Users/gbrammer/miniconda3/envs/grizli37/lib/python3.7/site-packages/ipykernel_launcher.py:47: UserWarning: linestyle is redundantly defined by the 'linestyle' keyword argument and the fmt string \"s-\" (-> linestyle='-'). The keyword argument will take precedence.\n",
      "/Users/gbrammer/miniconda3/envs/grizli37/lib/python3.7/site-packages/ipykernel_launcher.py:47: UserWarning: linestyle is redundantly defined by the 'linestyle' keyword argument and the fmt string \"s-\" (-> linestyle='-'). The keyword argument will take precedence.\n",
      "/Users/gbrammer/miniconda3/envs/grizli37/lib/python3.7/site-packages/ipykernel_launcher.py:47: UserWarning: linestyle is redundantly defined by the 'linestyle' keyword argument and the fmt string \"s-\" (-> linestyle='-'). The keyword argument will take precedence.\n",
      "/Users/gbrammer/miniconda3/envs/grizli37/lib/python3.7/site-packages/ipykernel_launcher.py:47: UserWarning: linestyle is redundantly defined by the 'linestyle' keyword argument and the fmt string \"s-\" (-> linestyle='-'). The keyword argument will take precedence.\n",
      "/Users/gbrammer/miniconda3/envs/grizli37/lib/python3.7/site-packages/ipykernel_launcher.py:47: UserWarning: linestyle is redundantly defined by the 'linestyle' keyword argument and the fmt string \"s-\" (-> linestyle='-'). The keyword argument will take precedence.\n",
      "/Users/gbrammer/miniconda3/envs/grizli37/lib/python3.7/site-packages/ipykernel_launcher.py:47: UserWarning: linestyle is redundantly defined by the 'linestyle' keyword argument and the fmt string \"s-\" (-> linestyle='-'). The keyword argument will take precedence.\n",
      "/Users/gbrammer/miniconda3/envs/grizli37/lib/python3.7/site-packages/ipykernel_launcher.py:47: UserWarning: linestyle is redundantly defined by the 'linestyle' keyword argument and the fmt string \"s-\" (-> linestyle='-'). The keyword argument will take precedence.\n",
      "/Users/gbrammer/miniconda3/envs/grizli37/lib/python3.7/site-packages/ipykernel_launcher.py:47: UserWarning: linestyle is redundantly defined by the 'linestyle' keyword argument and the fmt string \"s-\" (-> linestyle='-'). The keyword argument will take precedence.\n",
      "/Users/gbrammer/miniconda3/envs/grizli37/lib/python3.7/site-packages/ipykernel_launcher.py:47: UserWarning: linestyle is redundantly defined by the 'linestyle' keyword argument and the fmt string \"s-\" (-> linestyle='-'). The keyword argument will take precedence.\n",
      "/Users/gbrammer/miniconda3/envs/grizli37/lib/python3.7/site-packages/ipykernel_launcher.py:47: UserWarning: linestyle is redundantly defined by the 'linestyle' keyword argument and the fmt string \"s-\" (-> linestyle='-'). The keyword argument will take precedence.\n",
      "/Users/gbrammer/miniconda3/envs/grizli37/lib/python3.7/site-packages/ipykernel_launcher.py:47: UserWarning: linestyle is redundantly defined by the 'linestyle' keyword argument and the fmt string \"s-\" (-> linestyle='-'). The keyword argument will take precedence.\n",
      "/Users/gbrammer/miniconda3/envs/grizli37/lib/python3.7/site-packages/ipykernel_launcher.py:47: UserWarning: linestyle is redundantly defined by the 'linestyle' keyword argument and the fmt string \"s-\" (-> linestyle='-'). The keyword argument will take precedence.\n"
     ]
    },
    {
     "name": "stdout",
     "output_type": "stream",
     "text": [
      "360 1678\n",
      "361 1685\n"
     ]
    },
    {
     "name": "stderr",
     "output_type": "stream",
     "text": [
      "/Users/gbrammer/miniconda3/envs/grizli37/lib/python3.7/site-packages/ipykernel_launcher.py:47: UserWarning: linestyle is redundantly defined by the 'linestyle' keyword argument and the fmt string \"s-\" (-> linestyle='-'). The keyword argument will take precedence.\n",
      "/Users/gbrammer/miniconda3/envs/grizli37/lib/python3.7/site-packages/ipykernel_launcher.py:47: UserWarning: linestyle is redundantly defined by the 'linestyle' keyword argument and the fmt string \"s-\" (-> linestyle='-'). The keyword argument will take precedence.\n",
      "/Users/gbrammer/miniconda3/envs/grizli37/lib/python3.7/site-packages/ipykernel_launcher.py:47: UserWarning: linestyle is redundantly defined by the 'linestyle' keyword argument and the fmt string \"s-\" (-> linestyle='-'). The keyword argument will take precedence.\n",
      "/Users/gbrammer/miniconda3/envs/grizli37/lib/python3.7/site-packages/ipykernel_launcher.py:47: UserWarning: linestyle is redundantly defined by the 'linestyle' keyword argument and the fmt string \"s-\" (-> linestyle='-'). The keyword argument will take precedence.\n",
      "/Users/gbrammer/miniconda3/envs/grizli37/lib/python3.7/site-packages/ipykernel_launcher.py:47: UserWarning: linestyle is redundantly defined by the 'linestyle' keyword argument and the fmt string \"s-\" (-> linestyle='-'). The keyword argument will take precedence.\n",
      "/Users/gbrammer/miniconda3/envs/grizli37/lib/python3.7/site-packages/ipykernel_launcher.py:47: UserWarning: linestyle is redundantly defined by the 'linestyle' keyword argument and the fmt string \"s-\" (-> linestyle='-'). The keyword argument will take precedence.\n",
      "/Users/gbrammer/miniconda3/envs/grizli37/lib/python3.7/site-packages/ipykernel_launcher.py:47: UserWarning: linestyle is redundantly defined by the 'linestyle' keyword argument and the fmt string \"s-\" (-> linestyle='-'). The keyword argument will take precedence.\n",
      "/Users/gbrammer/miniconda3/envs/grizli37/lib/python3.7/site-packages/ipykernel_launcher.py:47: UserWarning: linestyle is redundantly defined by the 'linestyle' keyword argument and the fmt string \"s-\" (-> linestyle='-'). The keyword argument will take precedence.\n",
      "/Users/gbrammer/miniconda3/envs/grizli37/lib/python3.7/site-packages/ipykernel_launcher.py:47: UserWarning: linestyle is redundantly defined by the 'linestyle' keyword argument and the fmt string \"s-\" (-> linestyle='-'). The keyword argument will take precedence.\n",
      "/Users/gbrammer/miniconda3/envs/grizli37/lib/python3.7/site-packages/ipykernel_launcher.py:47: UserWarning: linestyle is redundantly defined by the 'linestyle' keyword argument and the fmt string \"s-\" (-> linestyle='-'). The keyword argument will take precedence.\n",
      "/Users/gbrammer/miniconda3/envs/grizli37/lib/python3.7/site-packages/ipykernel_launcher.py:47: UserWarning: linestyle is redundantly defined by the 'linestyle' keyword argument and the fmt string \"s-\" (-> linestyle='-'). The keyword argument will take precedence.\n",
      "/Users/gbrammer/miniconda3/envs/grizli37/lib/python3.7/site-packages/ipykernel_launcher.py:47: UserWarning: linestyle is redundantly defined by the 'linestyle' keyword argument and the fmt string \"s-\" (-> linestyle='-'). The keyword argument will take precedence.\n"
     ]
    },
    {
     "name": "stdout",
     "output_type": "stream",
     "text": [
      "362 1854\n"
     ]
    },
    {
     "name": "stderr",
     "output_type": "stream",
     "text": [
      "/Users/gbrammer/miniconda3/envs/grizli37/lib/python3.7/site-packages/ipykernel_launcher.py:47: UserWarning: linestyle is redundantly defined by the 'linestyle' keyword argument and the fmt string \"s-\" (-> linestyle='-'). The keyword argument will take precedence.\n",
      "/Users/gbrammer/miniconda3/envs/grizli37/lib/python3.7/site-packages/ipykernel_launcher.py:47: UserWarning: linestyle is redundantly defined by the 'linestyle' keyword argument and the fmt string \"s-\" (-> linestyle='-'). The keyword argument will take precedence.\n",
      "/Users/gbrammer/miniconda3/envs/grizli37/lib/python3.7/site-packages/ipykernel_launcher.py:47: UserWarning: linestyle is redundantly defined by the 'linestyle' keyword argument and the fmt string \"s-\" (-> linestyle='-'). The keyword argument will take precedence.\n",
      "/Users/gbrammer/miniconda3/envs/grizli37/lib/python3.7/site-packages/ipykernel_launcher.py:47: UserWarning: linestyle is redundantly defined by the 'linestyle' keyword argument and the fmt string \"s-\" (-> linestyle='-'). The keyword argument will take precedence.\n",
      "/Users/gbrammer/miniconda3/envs/grizli37/lib/python3.7/site-packages/ipykernel_launcher.py:47: UserWarning: linestyle is redundantly defined by the 'linestyle' keyword argument and the fmt string \"s-\" (-> linestyle='-'). The keyword argument will take precedence.\n",
      "/Users/gbrammer/miniconda3/envs/grizli37/lib/python3.7/site-packages/ipykernel_launcher.py:47: UserWarning: linestyle is redundantly defined by the 'linestyle' keyword argument and the fmt string \"s-\" (-> linestyle='-'). The keyword argument will take precedence.\n",
      "/Users/gbrammer/miniconda3/envs/grizli37/lib/python3.7/site-packages/ipykernel_launcher.py:47: UserWarning: linestyle is redundantly defined by the 'linestyle' keyword argument and the fmt string \"s-\" (-> linestyle='-'). The keyword argument will take precedence.\n",
      "/Users/gbrammer/miniconda3/envs/grizli37/lib/python3.7/site-packages/ipykernel_launcher.py:47: UserWarning: linestyle is redundantly defined by the 'linestyle' keyword argument and the fmt string \"s-\" (-> linestyle='-'). The keyword argument will take precedence.\n",
      "/Users/gbrammer/miniconda3/envs/grizli37/lib/python3.7/site-packages/ipykernel_launcher.py:47: UserWarning: linestyle is redundantly defined by the 'linestyle' keyword argument and the fmt string \"s-\" (-> linestyle='-'). The keyword argument will take precedence.\n",
      "/Users/gbrammer/miniconda3/envs/grizli37/lib/python3.7/site-packages/ipykernel_launcher.py:47: UserWarning: linestyle is redundantly defined by the 'linestyle' keyword argument and the fmt string \"s-\" (-> linestyle='-'). The keyword argument will take precedence.\n",
      "/Users/gbrammer/miniconda3/envs/grizli37/lib/python3.7/site-packages/ipykernel_launcher.py:47: UserWarning: linestyle is redundantly defined by the 'linestyle' keyword argument and the fmt string \"s-\" (-> linestyle='-'). The keyword argument will take precedence.\n",
      "/Users/gbrammer/miniconda3/envs/grizli37/lib/python3.7/site-packages/ipykernel_launcher.py:47: UserWarning: linestyle is redundantly defined by the 'linestyle' keyword argument and the fmt string \"s-\" (-> linestyle='-'). The keyword argument will take precedence.\n",
      "/Users/gbrammer/miniconda3/envs/grizli37/lib/python3.7/site-packages/ipykernel_launcher.py:47: UserWarning: linestyle is redundantly defined by the 'linestyle' keyword argument and the fmt string \"s-\" (-> linestyle='-'). The keyword argument will take precedence.\n",
      "/Users/gbrammer/miniconda3/envs/grizli37/lib/python3.7/site-packages/ipykernel_launcher.py:47: UserWarning: linestyle is redundantly defined by the 'linestyle' keyword argument and the fmt string \"s-\" (-> linestyle='-'). The keyword argument will take precedence.\n",
      "/Users/gbrammer/miniconda3/envs/grizli37/lib/python3.7/site-packages/ipykernel_launcher.py:47: UserWarning: linestyle is redundantly defined by the 'linestyle' keyword argument and the fmt string \"s-\" (-> linestyle='-'). The keyword argument will take precedence.\n",
      "/Users/gbrammer/miniconda3/envs/grizli37/lib/python3.7/site-packages/ipykernel_launcher.py:47: UserWarning: linestyle is redundantly defined by the 'linestyle' keyword argument and the fmt string \"s-\" (-> linestyle='-'). The keyword argument will take precedence.\n",
      "/Users/gbrammer/miniconda3/envs/grizli37/lib/python3.7/site-packages/ipykernel_launcher.py:47: UserWarning: linestyle is redundantly defined by the 'linestyle' keyword argument and the fmt string \"s-\" (-> linestyle='-'). The keyword argument will take precedence.\n"
     ]
    },
    {
     "name": "stdout",
     "output_type": "stream",
     "text": [
      "363 1908\n"
     ]
    },
    {
     "name": "stderr",
     "output_type": "stream",
     "text": [
      "/Users/gbrammer/miniconda3/envs/grizli37/lib/python3.7/site-packages/ipykernel_launcher.py:47: UserWarning: linestyle is redundantly defined by the 'linestyle' keyword argument and the fmt string \"s-\" (-> linestyle='-'). The keyword argument will take precedence.\n",
      "/Users/gbrammer/miniconda3/envs/grizli37/lib/python3.7/site-packages/ipykernel_launcher.py:47: UserWarning: linestyle is redundantly defined by the 'linestyle' keyword argument and the fmt string \"s-\" (-> linestyle='-'). The keyword argument will take precedence.\n",
      "/Users/gbrammer/miniconda3/envs/grizli37/lib/python3.7/site-packages/ipykernel_launcher.py:47: UserWarning: linestyle is redundantly defined by the 'linestyle' keyword argument and the fmt string \"s-\" (-> linestyle='-'). The keyword argument will take precedence.\n",
      "/Users/gbrammer/miniconda3/envs/grizli37/lib/python3.7/site-packages/ipykernel_launcher.py:47: UserWarning: linestyle is redundantly defined by the 'linestyle' keyword argument and the fmt string \"s-\" (-> linestyle='-'). The keyword argument will take precedence.\n",
      "/Users/gbrammer/miniconda3/envs/grizli37/lib/python3.7/site-packages/ipykernel_launcher.py:47: UserWarning: linestyle is redundantly defined by the 'linestyle' keyword argument and the fmt string \"s-\" (-> linestyle='-'). The keyword argument will take precedence.\n"
     ]
    },
    {
     "name": "stdout",
     "output_type": "stream",
     "text": [
      "364 1939\n"
     ]
    },
    {
     "name": "stderr",
     "output_type": "stream",
     "text": [
      "/Users/gbrammer/miniconda3/envs/grizli37/lib/python3.7/site-packages/ipykernel_launcher.py:47: UserWarning: linestyle is redundantly defined by the 'linestyle' keyword argument and the fmt string \"s-\" (-> linestyle='-'). The keyword argument will take precedence.\n",
      "/Users/gbrammer/miniconda3/envs/grizli37/lib/python3.7/site-packages/ipykernel_launcher.py:47: UserWarning: linestyle is redundantly defined by the 'linestyle' keyword argument and the fmt string \"s-\" (-> linestyle='-'). The keyword argument will take precedence.\n",
      "/Users/gbrammer/miniconda3/envs/grizli37/lib/python3.7/site-packages/ipykernel_launcher.py:47: UserWarning: linestyle is redundantly defined by the 'linestyle' keyword argument and the fmt string \"s-\" (-> linestyle='-'). The keyword argument will take precedence.\n",
      "/Users/gbrammer/miniconda3/envs/grizli37/lib/python3.7/site-packages/ipykernel_launcher.py:47: UserWarning: linestyle is redundantly defined by the 'linestyle' keyword argument and the fmt string \"s-\" (-> linestyle='-'). The keyword argument will take precedence.\n"
     ]
    },
    {
     "name": "stdout",
     "output_type": "stream",
     "text": [
      "365 2045\n"
     ]
    },
    {
     "name": "stderr",
     "output_type": "stream",
     "text": [
      "/Users/gbrammer/miniconda3/envs/grizli37/lib/python3.7/site-packages/ipykernel_launcher.py:47: UserWarning: linestyle is redundantly defined by the 'linestyle' keyword argument and the fmt string \"s-\" (-> linestyle='-'). The keyword argument will take precedence.\n",
      "/Users/gbrammer/miniconda3/envs/grizli37/lib/python3.7/site-packages/ipykernel_launcher.py:47: UserWarning: linestyle is redundantly defined by the 'linestyle' keyword argument and the fmt string \"s-\" (-> linestyle='-'). The keyword argument will take precedence.\n"
     ]
    },
    {
     "name": "stdout",
     "output_type": "stream",
     "text": [
      "366 2074\n",
      "Fail\n",
      "367 2092\n"
     ]
    },
    {
     "name": "stderr",
     "output_type": "stream",
     "text": [
      "/Users/gbrammer/miniconda3/envs/grizli37/lib/python3.7/site-packages/ipykernel_launcher.py:47: UserWarning: linestyle is redundantly defined by the 'linestyle' keyword argument and the fmt string \"s-\" (-> linestyle='-'). The keyword argument will take precedence.\n",
      "/Users/gbrammer/miniconda3/envs/grizli37/lib/python3.7/site-packages/ipykernel_launcher.py:47: UserWarning: linestyle is redundantly defined by the 'linestyle' keyword argument and the fmt string \"s-\" (-> linestyle='-'). The keyword argument will take precedence.\n",
      "/Users/gbrammer/miniconda3/envs/grizli37/lib/python3.7/site-packages/ipykernel_launcher.py:47: UserWarning: linestyle is redundantly defined by the 'linestyle' keyword argument and the fmt string \"s-\" (-> linestyle='-'). The keyword argument will take precedence.\n",
      "/Users/gbrammer/miniconda3/envs/grizli37/lib/python3.7/site-packages/ipykernel_launcher.py:47: UserWarning: linestyle is redundantly defined by the 'linestyle' keyword argument and the fmt string \"s-\" (-> linestyle='-'). The keyword argument will take precedence.\n",
      "/Users/gbrammer/miniconda3/envs/grizli37/lib/python3.7/site-packages/ipykernel_launcher.py:47: UserWarning: linestyle is redundantly defined by the 'linestyle' keyword argument and the fmt string \"s-\" (-> linestyle='-'). The keyword argument will take precedence.\n",
      "/Users/gbrammer/miniconda3/envs/grizli37/lib/python3.7/site-packages/ipykernel_launcher.py:47: UserWarning: linestyle is redundantly defined by the 'linestyle' keyword argument and the fmt string \"s-\" (-> linestyle='-'). The keyword argument will take precedence.\n",
      "/Users/gbrammer/miniconda3/envs/grizli37/lib/python3.7/site-packages/ipykernel_launcher.py:47: UserWarning: linestyle is redundantly defined by the 'linestyle' keyword argument and the fmt string \"s-\" (-> linestyle='-'). The keyword argument will take precedence.\n",
      "/Users/gbrammer/miniconda3/envs/grizli37/lib/python3.7/site-packages/ipykernel_launcher.py:47: UserWarning: linestyle is redundantly defined by the 'linestyle' keyword argument and the fmt string \"s-\" (-> linestyle='-'). The keyword argument will take precedence.\n",
      "/Users/gbrammer/miniconda3/envs/grizli37/lib/python3.7/site-packages/ipykernel_launcher.py:47: UserWarning: linestyle is redundantly defined by the 'linestyle' keyword argument and the fmt string \"s-\" (-> linestyle='-'). The keyword argument will take precedence.\n",
      "/Users/gbrammer/miniconda3/envs/grizli37/lib/python3.7/site-packages/ipykernel_launcher.py:47: UserWarning: linestyle is redundantly defined by the 'linestyle' keyword argument and the fmt string \"s-\" (-> linestyle='-'). The keyword argument will take precedence.\n",
      "/Users/gbrammer/miniconda3/envs/grizli37/lib/python3.7/site-packages/ipykernel_launcher.py:47: UserWarning: linestyle is redundantly defined by the 'linestyle' keyword argument and the fmt string \"s-\" (-> linestyle='-'). The keyword argument will take precedence.\n",
      "/Users/gbrammer/miniconda3/envs/grizli37/lib/python3.7/site-packages/ipykernel_launcher.py:47: UserWarning: linestyle is redundantly defined by the 'linestyle' keyword argument and the fmt string \"s-\" (-> linestyle='-'). The keyword argument will take precedence.\n",
      "/Users/gbrammer/miniconda3/envs/grizli37/lib/python3.7/site-packages/ipykernel_launcher.py:47: UserWarning: linestyle is redundantly defined by the 'linestyle' keyword argument and the fmt string \"s-\" (-> linestyle='-'). The keyword argument will take precedence.\n",
      "/Users/gbrammer/miniconda3/envs/grizli37/lib/python3.7/site-packages/ipykernel_launcher.py:47: UserWarning: linestyle is redundantly defined by the 'linestyle' keyword argument and the fmt string \"s-\" (-> linestyle='-'). The keyword argument will take precedence.\n",
      "/Users/gbrammer/miniconda3/envs/grizli37/lib/python3.7/site-packages/ipykernel_launcher.py:47: UserWarning: linestyle is redundantly defined by the 'linestyle' keyword argument and the fmt string \"s-\" (-> linestyle='-'). The keyword argument will take precedence.\n",
      "/Users/gbrammer/miniconda3/envs/grizli37/lib/python3.7/site-packages/ipykernel_launcher.py:47: UserWarning: linestyle is redundantly defined by the 'linestyle' keyword argument and the fmt string \"s-\" (-> linestyle='-'). The keyword argument will take precedence.\n",
      "/Users/gbrammer/miniconda3/envs/grizli37/lib/python3.7/site-packages/ipykernel_launcher.py:47: UserWarning: linestyle is redundantly defined by the 'linestyle' keyword argument and the fmt string \"s-\" (-> linestyle='-'). The keyword argument will take precedence.\n",
      "/Users/gbrammer/miniconda3/envs/grizli37/lib/python3.7/site-packages/ipykernel_launcher.py:47: UserWarning: linestyle is redundantly defined by the 'linestyle' keyword argument and the fmt string \"s-\" (-> linestyle='-'). The keyword argument will take precedence.\n",
      "/Users/gbrammer/miniconda3/envs/grizli37/lib/python3.7/site-packages/ipykernel_launcher.py:47: UserWarning: linestyle is redundantly defined by the 'linestyle' keyword argument and the fmt string \"s-\" (-> linestyle='-'). The keyword argument will take precedence.\n",
      "/Users/gbrammer/miniconda3/envs/grizli37/lib/python3.7/site-packages/ipykernel_launcher.py:47: UserWarning: linestyle is redundantly defined by the 'linestyle' keyword argument and the fmt string \"s-\" (-> linestyle='-'). The keyword argument will take precedence.\n"
     ]
    },
    {
     "name": "stdout",
     "output_type": "stream",
     "text": [
      "368 2104\n"
     ]
    },
    {
     "name": "stderr",
     "output_type": "stream",
     "text": [
      "/Users/gbrammer/miniconda3/envs/grizli37/lib/python3.7/site-packages/ipykernel_launcher.py:47: UserWarning: linestyle is redundantly defined by the 'linestyle' keyword argument and the fmt string \"s-\" (-> linestyle='-'). The keyword argument will take precedence.\n"
     ]
    },
    {
     "name": "stdout",
     "output_type": "stream",
     "text": [
      "369 2107\n",
      "370 2128\n"
     ]
    },
    {
     "name": "stderr",
     "output_type": "stream",
     "text": [
      "/Users/gbrammer/miniconda3/envs/grizli37/lib/python3.7/site-packages/ipykernel_launcher.py:47: UserWarning: linestyle is redundantly defined by the 'linestyle' keyword argument and the fmt string \"s-\" (-> linestyle='-'). The keyword argument will take precedence.\n",
      "/Users/gbrammer/miniconda3/envs/grizli37/lib/python3.7/site-packages/ipykernel_launcher.py:47: UserWarning: linestyle is redundantly defined by the 'linestyle' keyword argument and the fmt string \"s-\" (-> linestyle='-'). The keyword argument will take precedence.\n",
      "/Users/gbrammer/miniconda3/envs/grizli37/lib/python3.7/site-packages/ipykernel_launcher.py:47: UserWarning: linestyle is redundantly defined by the 'linestyle' keyword argument and the fmt string \"s-\" (-> linestyle='-'). The keyword argument will take precedence.\n",
      "/Users/gbrammer/miniconda3/envs/grizli37/lib/python3.7/site-packages/ipykernel_launcher.py:47: UserWarning: linestyle is redundantly defined by the 'linestyle' keyword argument and the fmt string \"s-\" (-> linestyle='-'). The keyword argument will take precedence.\n",
      "/Users/gbrammer/miniconda3/envs/grizli37/lib/python3.7/site-packages/ipykernel_launcher.py:47: UserWarning: linestyle is redundantly defined by the 'linestyle' keyword argument and the fmt string \"s-\" (-> linestyle='-'). The keyword argument will take precedence.\n",
      "/Users/gbrammer/miniconda3/envs/grizli37/lib/python3.7/site-packages/ipykernel_launcher.py:47: UserWarning: linestyle is redundantly defined by the 'linestyle' keyword argument and the fmt string \"s-\" (-> linestyle='-'). The keyword argument will take precedence.\n",
      "/Users/gbrammer/miniconda3/envs/grizli37/lib/python3.7/site-packages/ipykernel_launcher.py:47: UserWarning: linestyle is redundantly defined by the 'linestyle' keyword argument and the fmt string \"s-\" (-> linestyle='-'). The keyword argument will take precedence.\n",
      "/Users/gbrammer/miniconda3/envs/grizli37/lib/python3.7/site-packages/ipykernel_launcher.py:47: UserWarning: linestyle is redundantly defined by the 'linestyle' keyword argument and the fmt string \"s-\" (-> linestyle='-'). The keyword argument will take precedence.\n",
      "/Users/gbrammer/miniconda3/envs/grizli37/lib/python3.7/site-packages/ipykernel_launcher.py:47: UserWarning: linestyle is redundantly defined by the 'linestyle' keyword argument and the fmt string \"s-\" (-> linestyle='-'). The keyword argument will take precedence.\n",
      "/Users/gbrammer/miniconda3/envs/grizli37/lib/python3.7/site-packages/ipykernel_launcher.py:47: UserWarning: linestyle is redundantly defined by the 'linestyle' keyword argument and the fmt string \"s-\" (-> linestyle='-'). The keyword argument will take precedence.\n",
      "/Users/gbrammer/miniconda3/envs/grizli37/lib/python3.7/site-packages/ipykernel_launcher.py:47: UserWarning: linestyle is redundantly defined by the 'linestyle' keyword argument and the fmt string \"s-\" (-> linestyle='-'). The keyword argument will take precedence.\n",
      "/Users/gbrammer/miniconda3/envs/grizli37/lib/python3.7/site-packages/ipykernel_launcher.py:47: UserWarning: linestyle is redundantly defined by the 'linestyle' keyword argument and the fmt string \"s-\" (-> linestyle='-'). The keyword argument will take precedence.\n",
      "/Users/gbrammer/miniconda3/envs/grizli37/lib/python3.7/site-packages/ipykernel_launcher.py:47: UserWarning: linestyle is redundantly defined by the 'linestyle' keyword argument and the fmt string \"s-\" (-> linestyle='-'). The keyword argument will take precedence.\n",
      "/Users/gbrammer/miniconda3/envs/grizli37/lib/python3.7/site-packages/ipykernel_launcher.py:47: UserWarning: linestyle is redundantly defined by the 'linestyle' keyword argument and the fmt string \"s-\" (-> linestyle='-'). The keyword argument will take precedence.\n",
      "/Users/gbrammer/miniconda3/envs/grizli37/lib/python3.7/site-packages/ipykernel_launcher.py:47: UserWarning: linestyle is redundantly defined by the 'linestyle' keyword argument and the fmt string \"s-\" (-> linestyle='-'). The keyword argument will take precedence.\n",
      "/Users/gbrammer/miniconda3/envs/grizli37/lib/python3.7/site-packages/ipykernel_launcher.py:47: UserWarning: linestyle is redundantly defined by the 'linestyle' keyword argument and the fmt string \"s-\" (-> linestyle='-'). The keyword argument will take precedence.\n",
      "/Users/gbrammer/miniconda3/envs/grizli37/lib/python3.7/site-packages/ipykernel_launcher.py:47: UserWarning: linestyle is redundantly defined by the 'linestyle' keyword argument and the fmt string \"s-\" (-> linestyle='-'). The keyword argument will take precedence.\n",
      "/Users/gbrammer/miniconda3/envs/grizli37/lib/python3.7/site-packages/ipykernel_launcher.py:47: UserWarning: linestyle is redundantly defined by the 'linestyle' keyword argument and the fmt string \"s-\" (-> linestyle='-'). The keyword argument will take precedence.\n",
      "/Users/gbrammer/miniconda3/envs/grizli37/lib/python3.7/site-packages/ipykernel_launcher.py:47: UserWarning: linestyle is redundantly defined by the 'linestyle' keyword argument and the fmt string \"s-\" (-> linestyle='-'). The keyword argument will take precedence.\n",
      "/Users/gbrammer/miniconda3/envs/grizli37/lib/python3.7/site-packages/ipykernel_launcher.py:47: UserWarning: linestyle is redundantly defined by the 'linestyle' keyword argument and the fmt string \"s-\" (-> linestyle='-'). The keyword argument will take precedence.\n",
      "/Users/gbrammer/miniconda3/envs/grizli37/lib/python3.7/site-packages/ipykernel_launcher.py:47: UserWarning: linestyle is redundantly defined by the 'linestyle' keyword argument and the fmt string \"s-\" (-> linestyle='-'). The keyword argument will take precedence.\n",
      "/Users/gbrammer/miniconda3/envs/grizli37/lib/python3.7/site-packages/ipykernel_launcher.py:47: UserWarning: linestyle is redundantly defined by the 'linestyle' keyword argument and the fmt string \"s-\" (-> linestyle='-'). The keyword argument will take precedence.\n",
      "/Users/gbrammer/miniconda3/envs/grizli37/lib/python3.7/site-packages/ipykernel_launcher.py:47: UserWarning: linestyle is redundantly defined by the 'linestyle' keyword argument and the fmt string \"s-\" (-> linestyle='-'). The keyword argument will take precedence.\n",
      "/Users/gbrammer/miniconda3/envs/grizli37/lib/python3.7/site-packages/ipykernel_launcher.py:47: UserWarning: linestyle is redundantly defined by the 'linestyle' keyword argument and the fmt string \"s-\" (-> linestyle='-'). The keyword argument will take precedence.\n",
      "/Users/gbrammer/miniconda3/envs/grizli37/lib/python3.7/site-packages/ipykernel_launcher.py:47: UserWarning: linestyle is redundantly defined by the 'linestyle' keyword argument and the fmt string \"s-\" (-> linestyle='-'). The keyword argument will take precedence.\n",
      "/Users/gbrammer/miniconda3/envs/grizli37/lib/python3.7/site-packages/ipykernel_launcher.py:47: UserWarning: linestyle is redundantly defined by the 'linestyle' keyword argument and the fmt string \"s-\" (-> linestyle='-'). The keyword argument will take precedence.\n"
     ]
    },
    {
     "name": "stdout",
     "output_type": "stream",
     "text": [
      "371 2143\n"
     ]
    },
    {
     "name": "stderr",
     "output_type": "stream",
     "text": [
      "/Users/gbrammer/miniconda3/envs/grizli37/lib/python3.7/site-packages/ipykernel_launcher.py:47: UserWarning: linestyle is redundantly defined by the 'linestyle' keyword argument and the fmt string \"s-\" (-> linestyle='-'). The keyword argument will take precedence.\n",
      "/Users/gbrammer/miniconda3/envs/grizli37/lib/python3.7/site-packages/ipykernel_launcher.py:47: UserWarning: linestyle is redundantly defined by the 'linestyle' keyword argument and the fmt string \"s-\" (-> linestyle='-'). The keyword argument will take precedence.\n"
     ]
    },
    {
     "name": "stdout",
     "output_type": "stream",
     "text": [
      "372 2151\n"
     ]
    },
    {
     "name": "stderr",
     "output_type": "stream",
     "text": [
      "/Users/gbrammer/miniconda3/envs/grizli37/lib/python3.7/site-packages/ipykernel_launcher.py:47: UserWarning: linestyle is redundantly defined by the 'linestyle' keyword argument and the fmt string \"s-\" (-> linestyle='-'). The keyword argument will take precedence.\n",
      "/Users/gbrammer/miniconda3/envs/grizli37/lib/python3.7/site-packages/ipykernel_launcher.py:47: UserWarning: linestyle is redundantly defined by the 'linestyle' keyword argument and the fmt string \"s-\" (-> linestyle='-'). The keyword argument will take precedence.\n",
      "/Users/gbrammer/miniconda3/envs/grizli37/lib/python3.7/site-packages/ipykernel_launcher.py:47: UserWarning: linestyle is redundantly defined by the 'linestyle' keyword argument and the fmt string \"s-\" (-> linestyle='-'). The keyword argument will take precedence.\n",
      "/Users/gbrammer/miniconda3/envs/grizli37/lib/python3.7/site-packages/ipykernel_launcher.py:47: UserWarning: linestyle is redundantly defined by the 'linestyle' keyword argument and the fmt string \"s-\" (-> linestyle='-'). The keyword argument will take precedence.\n",
      "/Users/gbrammer/miniconda3/envs/grizli37/lib/python3.7/site-packages/ipykernel_launcher.py:47: UserWarning: linestyle is redundantly defined by the 'linestyle' keyword argument and the fmt string \"s-\" (-> linestyle='-'). The keyword argument will take precedence.\n",
      "/Users/gbrammer/miniconda3/envs/grizli37/lib/python3.7/site-packages/ipykernel_launcher.py:47: UserWarning: linestyle is redundantly defined by the 'linestyle' keyword argument and the fmt string \"s-\" (-> linestyle='-'). The keyword argument will take precedence.\n"
     ]
    },
    {
     "name": "stdout",
     "output_type": "stream",
     "text": [
      "373 2155\n"
     ]
    },
    {
     "name": "stderr",
     "output_type": "stream",
     "text": [
      "/Users/gbrammer/miniconda3/envs/grizli37/lib/python3.7/site-packages/ipykernel_launcher.py:47: UserWarning: linestyle is redundantly defined by the 'linestyle' keyword argument and the fmt string \"s-\" (-> linestyle='-'). The keyword argument will take precedence.\n",
      "/Users/gbrammer/miniconda3/envs/grizli37/lib/python3.7/site-packages/ipykernel_launcher.py:47: UserWarning: linestyle is redundantly defined by the 'linestyle' keyword argument and the fmt string \"s-\" (-> linestyle='-'). The keyword argument will take precedence.\n",
      "/Users/gbrammer/miniconda3/envs/grizli37/lib/python3.7/site-packages/ipykernel_launcher.py:47: UserWarning: linestyle is redundantly defined by the 'linestyle' keyword argument and the fmt string \"s-\" (-> linestyle='-'). The keyword argument will take precedence.\n",
      "/Users/gbrammer/miniconda3/envs/grizli37/lib/python3.7/site-packages/ipykernel_launcher.py:47: UserWarning: linestyle is redundantly defined by the 'linestyle' keyword argument and the fmt string \"s-\" (-> linestyle='-'). The keyword argument will take precedence.\n",
      "/Users/gbrammer/miniconda3/envs/grizli37/lib/python3.7/site-packages/ipykernel_launcher.py:47: UserWarning: linestyle is redundantly defined by the 'linestyle' keyword argument and the fmt string \"s-\" (-> linestyle='-'). The keyword argument will take precedence.\n",
      "/Users/gbrammer/miniconda3/envs/grizli37/lib/python3.7/site-packages/ipykernel_launcher.py:47: UserWarning: linestyle is redundantly defined by the 'linestyle' keyword argument and the fmt string \"s-\" (-> linestyle='-'). The keyword argument will take precedence.\n",
      "/Users/gbrammer/miniconda3/envs/grizli37/lib/python3.7/site-packages/ipykernel_launcher.py:47: UserWarning: linestyle is redundantly defined by the 'linestyle' keyword argument and the fmt string \"s-\" (-> linestyle='-'). The keyword argument will take precedence.\n",
      "/Users/gbrammer/miniconda3/envs/grizli37/lib/python3.7/site-packages/ipykernel_launcher.py:47: UserWarning: linestyle is redundantly defined by the 'linestyle' keyword argument and the fmt string \"s-\" (-> linestyle='-'). The keyword argument will take precedence.\n",
      "/Users/gbrammer/miniconda3/envs/grizli37/lib/python3.7/site-packages/ipykernel_launcher.py:47: UserWarning: linestyle is redundantly defined by the 'linestyle' keyword argument and the fmt string \"s-\" (-> linestyle='-'). The keyword argument will take precedence.\n"
     ]
    },
    {
     "name": "stdout",
     "output_type": "stream",
     "text": [
      "374 2183\n"
     ]
    },
    {
     "name": "stderr",
     "output_type": "stream",
     "text": [
      "/Users/gbrammer/miniconda3/envs/grizli37/lib/python3.7/site-packages/ipykernel_launcher.py:47: UserWarning: linestyle is redundantly defined by the 'linestyle' keyword argument and the fmt string \"s-\" (-> linestyle='-'). The keyword argument will take precedence.\n",
      "/Users/gbrammer/miniconda3/envs/grizli37/lib/python3.7/site-packages/ipykernel_launcher.py:47: UserWarning: linestyle is redundantly defined by the 'linestyle' keyword argument and the fmt string \"s-\" (-> linestyle='-'). The keyword argument will take precedence.\n",
      "/Users/gbrammer/miniconda3/envs/grizli37/lib/python3.7/site-packages/ipykernel_launcher.py:47: UserWarning: linestyle is redundantly defined by the 'linestyle' keyword argument and the fmt string \"s-\" (-> linestyle='-'). The keyword argument will take precedence.\n",
      "/Users/gbrammer/miniconda3/envs/grizli37/lib/python3.7/site-packages/ipykernel_launcher.py:47: UserWarning: linestyle is redundantly defined by the 'linestyle' keyword argument and the fmt string \"s-\" (-> linestyle='-'). The keyword argument will take precedence.\n",
      "/Users/gbrammer/miniconda3/envs/grizli37/lib/python3.7/site-packages/ipykernel_launcher.py:47: UserWarning: linestyle is redundantly defined by the 'linestyle' keyword argument and the fmt string \"s-\" (-> linestyle='-'). The keyword argument will take precedence.\n",
      "/Users/gbrammer/miniconda3/envs/grizli37/lib/python3.7/site-packages/ipykernel_launcher.py:47: UserWarning: linestyle is redundantly defined by the 'linestyle' keyword argument and the fmt string \"s-\" (-> linestyle='-'). The keyword argument will take precedence.\n",
      "/Users/gbrammer/miniconda3/envs/grizli37/lib/python3.7/site-packages/ipykernel_launcher.py:47: UserWarning: linestyle is redundantly defined by the 'linestyle' keyword argument and the fmt string \"s-\" (-> linestyle='-'). The keyword argument will take precedence.\n",
      "/Users/gbrammer/miniconda3/envs/grizli37/lib/python3.7/site-packages/ipykernel_launcher.py:47: UserWarning: linestyle is redundantly defined by the 'linestyle' keyword argument and the fmt string \"s-\" (-> linestyle='-'). The keyword argument will take precedence.\n",
      "/Users/gbrammer/miniconda3/envs/grizli37/lib/python3.7/site-packages/ipykernel_launcher.py:47: UserWarning: linestyle is redundantly defined by the 'linestyle' keyword argument and the fmt string \"s-\" (-> linestyle='-'). The keyword argument will take precedence.\n",
      "/Users/gbrammer/miniconda3/envs/grizli37/lib/python3.7/site-packages/ipykernel_launcher.py:47: UserWarning: linestyle is redundantly defined by the 'linestyle' keyword argument and the fmt string \"s-\" (-> linestyle='-'). The keyword argument will take precedence.\n",
      "/Users/gbrammer/miniconda3/envs/grizli37/lib/python3.7/site-packages/ipykernel_launcher.py:47: UserWarning: linestyle is redundantly defined by the 'linestyle' keyword argument and the fmt string \"s-\" (-> linestyle='-'). The keyword argument will take precedence.\n",
      "/Users/gbrammer/miniconda3/envs/grizli37/lib/python3.7/site-packages/ipykernel_launcher.py:47: UserWarning: linestyle is redundantly defined by the 'linestyle' keyword argument and the fmt string \"s-\" (-> linestyle='-'). The keyword argument will take precedence.\n",
      "/Users/gbrammer/miniconda3/envs/grizli37/lib/python3.7/site-packages/ipykernel_launcher.py:47: UserWarning: linestyle is redundantly defined by the 'linestyle' keyword argument and the fmt string \"s-\" (-> linestyle='-'). The keyword argument will take precedence.\n",
      "/Users/gbrammer/miniconda3/envs/grizli37/lib/python3.7/site-packages/ipykernel_launcher.py:47: UserWarning: linestyle is redundantly defined by the 'linestyle' keyword argument and the fmt string \"s-\" (-> linestyle='-'). The keyword argument will take precedence.\n",
      "/Users/gbrammer/miniconda3/envs/grizli37/lib/python3.7/site-packages/ipykernel_launcher.py:47: UserWarning: linestyle is redundantly defined by the 'linestyle' keyword argument and the fmt string \"s-\" (-> linestyle='-'). The keyword argument will take precedence.\n",
      "/Users/gbrammer/miniconda3/envs/grizli37/lib/python3.7/site-packages/ipykernel_launcher.py:47: UserWarning: linestyle is redundantly defined by the 'linestyle' keyword argument and the fmt string \"s-\" (-> linestyle='-'). The keyword argument will take precedence.\n",
      "/Users/gbrammer/miniconda3/envs/grizli37/lib/python3.7/site-packages/ipykernel_launcher.py:47: UserWarning: linestyle is redundantly defined by the 'linestyle' keyword argument and the fmt string \"s-\" (-> linestyle='-'). The keyword argument will take precedence.\n",
      "/Users/gbrammer/miniconda3/envs/grizli37/lib/python3.7/site-packages/ipykernel_launcher.py:47: UserWarning: linestyle is redundantly defined by the 'linestyle' keyword argument and the fmt string \"s-\" (-> linestyle='-'). The keyword argument will take precedence.\n",
      "/Users/gbrammer/miniconda3/envs/grizli37/lib/python3.7/site-packages/ipykernel_launcher.py:47: UserWarning: linestyle is redundantly defined by the 'linestyle' keyword argument and the fmt string \"s-\" (-> linestyle='-'). The keyword argument will take precedence.\n",
      "/Users/gbrammer/miniconda3/envs/grizli37/lib/python3.7/site-packages/ipykernel_launcher.py:47: UserWarning: linestyle is redundantly defined by the 'linestyle' keyword argument and the fmt string \"s-\" (-> linestyle='-'). The keyword argument will take precedence.\n",
      "/Users/gbrammer/miniconda3/envs/grizli37/lib/python3.7/site-packages/ipykernel_launcher.py:47: UserWarning: linestyle is redundantly defined by the 'linestyle' keyword argument and the fmt string \"s-\" (-> linestyle='-'). The keyword argument will take precedence.\n",
      "/Users/gbrammer/miniconda3/envs/grizli37/lib/python3.7/site-packages/ipykernel_launcher.py:47: UserWarning: linestyle is redundantly defined by the 'linestyle' keyword argument and the fmt string \"s-\" (-> linestyle='-'). The keyword argument will take precedence.\n",
      "/Users/gbrammer/miniconda3/envs/grizli37/lib/python3.7/site-packages/ipykernel_launcher.py:47: UserWarning: linestyle is redundantly defined by the 'linestyle' keyword argument and the fmt string \"s-\" (-> linestyle='-'). The keyword argument will take precedence.\n",
      "/Users/gbrammer/miniconda3/envs/grizli37/lib/python3.7/site-packages/ipykernel_launcher.py:47: UserWarning: linestyle is redundantly defined by the 'linestyle' keyword argument and the fmt string \"s-\" (-> linestyle='-'). The keyword argument will take precedence.\n",
      "/Users/gbrammer/miniconda3/envs/grizli37/lib/python3.7/site-packages/ipykernel_launcher.py:47: UserWarning: linestyle is redundantly defined by the 'linestyle' keyword argument and the fmt string \"s-\" (-> linestyle='-'). The keyword argument will take precedence.\n",
      "/Users/gbrammer/miniconda3/envs/grizli37/lib/python3.7/site-packages/ipykernel_launcher.py:47: UserWarning: linestyle is redundantly defined by the 'linestyle' keyword argument and the fmt string \"s-\" (-> linestyle='-'). The keyword argument will take precedence.\n",
      "/Users/gbrammer/miniconda3/envs/grizli37/lib/python3.7/site-packages/ipykernel_launcher.py:47: UserWarning: linestyle is redundantly defined by the 'linestyle' keyword argument and the fmt string \"s-\" (-> linestyle='-'). The keyword argument will take precedence.\n",
      "/Users/gbrammer/miniconda3/envs/grizli37/lib/python3.7/site-packages/ipykernel_launcher.py:47: UserWarning: linestyle is redundantly defined by the 'linestyle' keyword argument and the fmt string \"s-\" (-> linestyle='-'). The keyword argument will take precedence.\n",
      "/Users/gbrammer/miniconda3/envs/grizli37/lib/python3.7/site-packages/ipykernel_launcher.py:47: UserWarning: linestyle is redundantly defined by the 'linestyle' keyword argument and the fmt string \"s-\" (-> linestyle='-'). The keyword argument will take precedence.\n",
      "/Users/gbrammer/miniconda3/envs/grizli37/lib/python3.7/site-packages/ipykernel_launcher.py:47: UserWarning: linestyle is redundantly defined by the 'linestyle' keyword argument and the fmt string \"s-\" (-> linestyle='-'). The keyword argument will take precedence.\n",
      "/Users/gbrammer/miniconda3/envs/grizli37/lib/python3.7/site-packages/ipykernel_launcher.py:47: UserWarning: linestyle is redundantly defined by the 'linestyle' keyword argument and the fmt string \"s-\" (-> linestyle='-'). The keyword argument will take precedence.\n",
      "/Users/gbrammer/miniconda3/envs/grizli37/lib/python3.7/site-packages/ipykernel_launcher.py:47: UserWarning: linestyle is redundantly defined by the 'linestyle' keyword argument and the fmt string \"s-\" (-> linestyle='-'). The keyword argument will take precedence.\n",
      "/Users/gbrammer/miniconda3/envs/grizli37/lib/python3.7/site-packages/ipykernel_launcher.py:47: UserWarning: linestyle is redundantly defined by the 'linestyle' keyword argument and the fmt string \"s-\" (-> linestyle='-'). The keyword argument will take precedence.\n"
     ]
    },
    {
     "name": "stderr",
     "output_type": "stream",
     "text": [
      "/Users/gbrammer/miniconda3/envs/grizli37/lib/python3.7/site-packages/ipykernel_launcher.py:47: UserWarning: linestyle is redundantly defined by the 'linestyle' keyword argument and the fmt string \"s-\" (-> linestyle='-'). The keyword argument will take precedence.\n",
      "/Users/gbrammer/miniconda3/envs/grizli37/lib/python3.7/site-packages/ipykernel_launcher.py:47: UserWarning: linestyle is redundantly defined by the 'linestyle' keyword argument and the fmt string \"s-\" (-> linestyle='-'). The keyword argument will take precedence.\n",
      "/Users/gbrammer/miniconda3/envs/grizli37/lib/python3.7/site-packages/ipykernel_launcher.py:47: UserWarning: linestyle is redundantly defined by the 'linestyle' keyword argument and the fmt string \"s-\" (-> linestyle='-'). The keyword argument will take precedence.\n"
     ]
    },
    {
     "name": "stdout",
     "output_type": "stream",
     "text": [
      "375 2221\n"
     ]
    },
    {
     "name": "stderr",
     "output_type": "stream",
     "text": [
      "/Users/gbrammer/miniconda3/envs/grizli37/lib/python3.7/site-packages/ipykernel_launcher.py:47: UserWarning: linestyle is redundantly defined by the 'linestyle' keyword argument and the fmt string \"s-\" (-> linestyle='-'). The keyword argument will take precedence.\n",
      "/Users/gbrammer/miniconda3/envs/grizli37/lib/python3.7/site-packages/ipykernel_launcher.py:47: UserWarning: linestyle is redundantly defined by the 'linestyle' keyword argument and the fmt string \"s-\" (-> linestyle='-'). The keyword argument will take precedence.\n",
      "/Users/gbrammer/miniconda3/envs/grizli37/lib/python3.7/site-packages/ipykernel_launcher.py:47: UserWarning: linestyle is redundantly defined by the 'linestyle' keyword argument and the fmt string \"s-\" (-> linestyle='-'). The keyword argument will take precedence.\n"
     ]
    },
    {
     "name": "stdout",
     "output_type": "stream",
     "text": [
      "376 2317\n"
     ]
    },
    {
     "name": "stderr",
     "output_type": "stream",
     "text": [
      "/Users/gbrammer/miniconda3/envs/grizli37/lib/python3.7/site-packages/ipykernel_launcher.py:47: UserWarning: linestyle is redundantly defined by the 'linestyle' keyword argument and the fmt string \"s-\" (-> linestyle='-'). The keyword argument will take precedence.\n"
     ]
    },
    {
     "name": "stdout",
     "output_type": "stream",
     "text": [
      "377 2331\n"
     ]
    },
    {
     "name": "stderr",
     "output_type": "stream",
     "text": [
      "/Users/gbrammer/miniconda3/envs/grizli37/lib/python3.7/site-packages/ipykernel_launcher.py:47: UserWarning: linestyle is redundantly defined by the 'linestyle' keyword argument and the fmt string \"s-\" (-> linestyle='-'). The keyword argument will take precedence.\n",
      "/Users/gbrammer/miniconda3/envs/grizli37/lib/python3.7/site-packages/ipykernel_launcher.py:47: UserWarning: linestyle is redundantly defined by the 'linestyle' keyword argument and the fmt string \"s-\" (-> linestyle='-'). The keyword argument will take precedence.\n",
      "/Users/gbrammer/miniconda3/envs/grizli37/lib/python3.7/site-packages/ipykernel_launcher.py:47: UserWarning: linestyle is redundantly defined by the 'linestyle' keyword argument and the fmt string \"s-\" (-> linestyle='-'). The keyword argument will take precedence.\n",
      "/Users/gbrammer/miniconda3/envs/grizli37/lib/python3.7/site-packages/ipykernel_launcher.py:47: UserWarning: linestyle is redundantly defined by the 'linestyle' keyword argument and the fmt string \"s-\" (-> linestyle='-'). The keyword argument will take precedence.\n",
      "/Users/gbrammer/miniconda3/envs/grizli37/lib/python3.7/site-packages/ipykernel_launcher.py:47: UserWarning: linestyle is redundantly defined by the 'linestyle' keyword argument and the fmt string \"s-\" (-> linestyle='-'). The keyword argument will take precedence.\n",
      "/Users/gbrammer/miniconda3/envs/grizli37/lib/python3.7/site-packages/ipykernel_launcher.py:47: UserWarning: linestyle is redundantly defined by the 'linestyle' keyword argument and the fmt string \"s-\" (-> linestyle='-'). The keyword argument will take precedence.\n",
      "/Users/gbrammer/miniconda3/envs/grizli37/lib/python3.7/site-packages/ipykernel_launcher.py:47: UserWarning: linestyle is redundantly defined by the 'linestyle' keyword argument and the fmt string \"s-\" (-> linestyle='-'). The keyword argument will take precedence.\n",
      "/Users/gbrammer/miniconda3/envs/grizli37/lib/python3.7/site-packages/ipykernel_launcher.py:47: UserWarning: linestyle is redundantly defined by the 'linestyle' keyword argument and the fmt string \"s-\" (-> linestyle='-'). The keyword argument will take precedence.\n",
      "/Users/gbrammer/miniconda3/envs/grizli37/lib/python3.7/site-packages/ipykernel_launcher.py:47: UserWarning: linestyle is redundantly defined by the 'linestyle' keyword argument and the fmt string \"s-\" (-> linestyle='-'). The keyword argument will take precedence.\n",
      "/Users/gbrammer/miniconda3/envs/grizli37/lib/python3.7/site-packages/ipykernel_launcher.py:47: UserWarning: linestyle is redundantly defined by the 'linestyle' keyword argument and the fmt string \"s-\" (-> linestyle='-'). The keyword argument will take precedence.\n",
      "/Users/gbrammer/miniconda3/envs/grizli37/lib/python3.7/site-packages/ipykernel_launcher.py:47: UserWarning: linestyle is redundantly defined by the 'linestyle' keyword argument and the fmt string \"s-\" (-> linestyle='-'). The keyword argument will take precedence.\n",
      "/Users/gbrammer/miniconda3/envs/grizli37/lib/python3.7/site-packages/ipykernel_launcher.py:47: UserWarning: linestyle is redundantly defined by the 'linestyle' keyword argument and the fmt string \"s-\" (-> linestyle='-'). The keyword argument will take precedence.\n",
      "/Users/gbrammer/miniconda3/envs/grizli37/lib/python3.7/site-packages/ipykernel_launcher.py:47: UserWarning: linestyle is redundantly defined by the 'linestyle' keyword argument and the fmt string \"s-\" (-> linestyle='-'). The keyword argument will take precedence.\n",
      "/Users/gbrammer/miniconda3/envs/grizli37/lib/python3.7/site-packages/ipykernel_launcher.py:47: UserWarning: linestyle is redundantly defined by the 'linestyle' keyword argument and the fmt string \"s-\" (-> linestyle='-'). The keyword argument will take precedence.\n",
      "/Users/gbrammer/miniconda3/envs/grizli37/lib/python3.7/site-packages/ipykernel_launcher.py:47: UserWarning: linestyle is redundantly defined by the 'linestyle' keyword argument and the fmt string \"s-\" (-> linestyle='-'). The keyword argument will take precedence.\n",
      "/Users/gbrammer/miniconda3/envs/grizli37/lib/python3.7/site-packages/ipykernel_launcher.py:47: UserWarning: linestyle is redundantly defined by the 'linestyle' keyword argument and the fmt string \"s-\" (-> linestyle='-'). The keyword argument will take precedence.\n",
      "/Users/gbrammer/miniconda3/envs/grizli37/lib/python3.7/site-packages/ipykernel_launcher.py:47: UserWarning: linestyle is redundantly defined by the 'linestyle' keyword argument and the fmt string \"s-\" (-> linestyle='-'). The keyword argument will take precedence.\n",
      "/Users/gbrammer/miniconda3/envs/grizli37/lib/python3.7/site-packages/ipykernel_launcher.py:47: UserWarning: linestyle is redundantly defined by the 'linestyle' keyword argument and the fmt string \"s-\" (-> linestyle='-'). The keyword argument will take precedence.\n",
      "/Users/gbrammer/miniconda3/envs/grizli37/lib/python3.7/site-packages/ipykernel_launcher.py:47: UserWarning: linestyle is redundantly defined by the 'linestyle' keyword argument and the fmt string \"s-\" (-> linestyle='-'). The keyword argument will take precedence.\n",
      "/Users/gbrammer/miniconda3/envs/grizli37/lib/python3.7/site-packages/ipykernel_launcher.py:47: UserWarning: linestyle is redundantly defined by the 'linestyle' keyword argument and the fmt string \"s-\" (-> linestyle='-'). The keyword argument will take precedence.\n",
      "/Users/gbrammer/miniconda3/envs/grizli37/lib/python3.7/site-packages/ipykernel_launcher.py:47: UserWarning: linestyle is redundantly defined by the 'linestyle' keyword argument and the fmt string \"s-\" (-> linestyle='-'). The keyword argument will take precedence.\n"
     ]
    },
    {
     "name": "stdout",
     "output_type": "stream",
     "text": [
      "378 2352\n",
      "Fail\n",
      "379 2402\n"
     ]
    },
    {
     "name": "stderr",
     "output_type": "stream",
     "text": [
      "/Users/gbrammer/miniconda3/envs/grizli37/lib/python3.7/site-packages/ipykernel_launcher.py:47: UserWarning: linestyle is redundantly defined by the 'linestyle' keyword argument and the fmt string \"s-\" (-> linestyle='-'). The keyword argument will take precedence.\n",
      "/Users/gbrammer/miniconda3/envs/grizli37/lib/python3.7/site-packages/ipykernel_launcher.py:47: UserWarning: linestyle is redundantly defined by the 'linestyle' keyword argument and the fmt string \"s-\" (-> linestyle='-'). The keyword argument will take precedence.\n"
     ]
    },
    {
     "name": "stdout",
     "output_type": "stream",
     "text": [
      "380 2433\n"
     ]
    },
    {
     "name": "stderr",
     "output_type": "stream",
     "text": [
      "/Users/gbrammer/miniconda3/envs/grizli37/lib/python3.7/site-packages/ipykernel_launcher.py:47: UserWarning: linestyle is redundantly defined by the 'linestyle' keyword argument and the fmt string \"s-\" (-> linestyle='-'). The keyword argument will take precedence.\n",
      "/Users/gbrammer/miniconda3/envs/grizli37/lib/python3.7/site-packages/ipykernel_launcher.py:47: UserWarning: linestyle is redundantly defined by the 'linestyle' keyword argument and the fmt string \"s-\" (-> linestyle='-'). The keyword argument will take precedence.\n",
      "/Users/gbrammer/miniconda3/envs/grizli37/lib/python3.7/site-packages/ipykernel_launcher.py:47: UserWarning: linestyle is redundantly defined by the 'linestyle' keyword argument and the fmt string \"s-\" (-> linestyle='-'). The keyword argument will take precedence.\n",
      "/Users/gbrammer/miniconda3/envs/grizli37/lib/python3.7/site-packages/ipykernel_launcher.py:47: UserWarning: linestyle is redundantly defined by the 'linestyle' keyword argument and the fmt string \"s-\" (-> linestyle='-'). The keyword argument will take precedence.\n",
      "/Users/gbrammer/miniconda3/envs/grizli37/lib/python3.7/site-packages/ipykernel_launcher.py:47: UserWarning: linestyle is redundantly defined by the 'linestyle' keyword argument and the fmt string \"s-\" (-> linestyle='-'). The keyword argument will take precedence.\n",
      "/Users/gbrammer/miniconda3/envs/grizli37/lib/python3.7/site-packages/ipykernel_launcher.py:47: UserWarning: linestyle is redundantly defined by the 'linestyle' keyword argument and the fmt string \"s-\" (-> linestyle='-'). The keyword argument will take precedence.\n",
      "/Users/gbrammer/miniconda3/envs/grizli37/lib/python3.7/site-packages/ipykernel_launcher.py:47: UserWarning: linestyle is redundantly defined by the 'linestyle' keyword argument and the fmt string \"s-\" (-> linestyle='-'). The keyword argument will take precedence.\n",
      "/Users/gbrammer/miniconda3/envs/grizli37/lib/python3.7/site-packages/ipykernel_launcher.py:47: UserWarning: linestyle is redundantly defined by the 'linestyle' keyword argument and the fmt string \"s-\" (-> linestyle='-'). The keyword argument will take precedence.\n",
      "/Users/gbrammer/miniconda3/envs/grizli37/lib/python3.7/site-packages/ipykernel_launcher.py:47: UserWarning: linestyle is redundantly defined by the 'linestyle' keyword argument and the fmt string \"s-\" (-> linestyle='-'). The keyword argument will take precedence.\n",
      "/Users/gbrammer/miniconda3/envs/grizli37/lib/python3.7/site-packages/ipykernel_launcher.py:47: UserWarning: linestyle is redundantly defined by the 'linestyle' keyword argument and the fmt string \"s-\" (-> linestyle='-'). The keyword argument will take precedence.\n",
      "/Users/gbrammer/miniconda3/envs/grizli37/lib/python3.7/site-packages/ipykernel_launcher.py:47: UserWarning: linestyle is redundantly defined by the 'linestyle' keyword argument and the fmt string \"s-\" (-> linestyle='-'). The keyword argument will take precedence.\n",
      "/Users/gbrammer/miniconda3/envs/grizli37/lib/python3.7/site-packages/ipykernel_launcher.py:47: UserWarning: linestyle is redundantly defined by the 'linestyle' keyword argument and the fmt string \"s-\" (-> linestyle='-'). The keyword argument will take precedence.\n",
      "/Users/gbrammer/miniconda3/envs/grizli37/lib/python3.7/site-packages/ipykernel_launcher.py:47: UserWarning: linestyle is redundantly defined by the 'linestyle' keyword argument and the fmt string \"s-\" (-> linestyle='-'). The keyword argument will take precedence.\n",
      "/Users/gbrammer/miniconda3/envs/grizli37/lib/python3.7/site-packages/ipykernel_launcher.py:47: UserWarning: linestyle is redundantly defined by the 'linestyle' keyword argument and the fmt string \"s-\" (-> linestyle='-'). The keyword argument will take precedence.\n",
      "/Users/gbrammer/miniconda3/envs/grizli37/lib/python3.7/site-packages/ipykernel_launcher.py:47: UserWarning: linestyle is redundantly defined by the 'linestyle' keyword argument and the fmt string \"s-\" (-> linestyle='-'). The keyword argument will take precedence.\n",
      "/Users/gbrammer/miniconda3/envs/grizli37/lib/python3.7/site-packages/ipykernel_launcher.py:47: UserWarning: linestyle is redundantly defined by the 'linestyle' keyword argument and the fmt string \"s-\" (-> linestyle='-'). The keyword argument will take precedence.\n"
     ]
    },
    {
     "name": "stdout",
     "output_type": "stream",
     "text": [
      "381 2441\n"
     ]
    },
    {
     "name": "stderr",
     "output_type": "stream",
     "text": [
      "/Users/gbrammer/miniconda3/envs/grizli37/lib/python3.7/site-packages/ipykernel_launcher.py:47: UserWarning: linestyle is redundantly defined by the 'linestyle' keyword argument and the fmt string \"s-\" (-> linestyle='-'). The keyword argument will take precedence.\n",
      "/Users/gbrammer/miniconda3/envs/grizli37/lib/python3.7/site-packages/ipykernel_launcher.py:47: UserWarning: linestyle is redundantly defined by the 'linestyle' keyword argument and the fmt string \"s-\" (-> linestyle='-'). The keyword argument will take precedence.\n"
     ]
    },
    {
     "name": "stdout",
     "output_type": "stream",
     "text": [
      "382 2459\n"
     ]
    },
    {
     "name": "stderr",
     "output_type": "stream",
     "text": [
      "/Users/gbrammer/miniconda3/envs/grizli37/lib/python3.7/site-packages/ipykernel_launcher.py:47: UserWarning: linestyle is redundantly defined by the 'linestyle' keyword argument and the fmt string \"s-\" (-> linestyle='-'). The keyword argument will take precedence.\n",
      "/Users/gbrammer/miniconda3/envs/grizli37/lib/python3.7/site-packages/ipykernel_launcher.py:47: UserWarning: linestyle is redundantly defined by the 'linestyle' keyword argument and the fmt string \"s-\" (-> linestyle='-'). The keyword argument will take precedence.\n",
      "/Users/gbrammer/miniconda3/envs/grizli37/lib/python3.7/site-packages/ipykernel_launcher.py:47: UserWarning: linestyle is redundantly defined by the 'linestyle' keyword argument and the fmt string \"s-\" (-> linestyle='-'). The keyword argument will take precedence.\n",
      "/Users/gbrammer/miniconda3/envs/grizli37/lib/python3.7/site-packages/ipykernel_launcher.py:47: UserWarning: linestyle is redundantly defined by the 'linestyle' keyword argument and the fmt string \"s-\" (-> linestyle='-'). The keyword argument will take precedence.\n",
      "/Users/gbrammer/miniconda3/envs/grizli37/lib/python3.7/site-packages/ipykernel_launcher.py:47: UserWarning: linestyle is redundantly defined by the 'linestyle' keyword argument and the fmt string \"s-\" (-> linestyle='-'). The keyword argument will take precedence.\n",
      "/Users/gbrammer/miniconda3/envs/grizli37/lib/python3.7/site-packages/ipykernel_launcher.py:47: UserWarning: linestyle is redundantly defined by the 'linestyle' keyword argument and the fmt string \"s-\" (-> linestyle='-'). The keyword argument will take precedence.\n",
      "/Users/gbrammer/miniconda3/envs/grizli37/lib/python3.7/site-packages/ipykernel_launcher.py:47: UserWarning: linestyle is redundantly defined by the 'linestyle' keyword argument and the fmt string \"s-\" (-> linestyle='-'). The keyword argument will take precedence.\n",
      "/Users/gbrammer/miniconda3/envs/grizli37/lib/python3.7/site-packages/ipykernel_launcher.py:47: UserWarning: linestyle is redundantly defined by the 'linestyle' keyword argument and the fmt string \"s-\" (-> linestyle='-'). The keyword argument will take precedence.\n",
      "/Users/gbrammer/miniconda3/envs/grizli37/lib/python3.7/site-packages/ipykernel_launcher.py:47: UserWarning: linestyle is redundantly defined by the 'linestyle' keyword argument and the fmt string \"s-\" (-> linestyle='-'). The keyword argument will take precedence.\n",
      "/Users/gbrammer/miniconda3/envs/grizli37/lib/python3.7/site-packages/ipykernel_launcher.py:47: UserWarning: linestyle is redundantly defined by the 'linestyle' keyword argument and the fmt string \"s-\" (-> linestyle='-'). The keyword argument will take precedence.\n",
      "/Users/gbrammer/miniconda3/envs/grizli37/lib/python3.7/site-packages/ipykernel_launcher.py:47: UserWarning: linestyle is redundantly defined by the 'linestyle' keyword argument and the fmt string \"s-\" (-> linestyle='-'). The keyword argument will take precedence.\n",
      "/Users/gbrammer/miniconda3/envs/grizli37/lib/python3.7/site-packages/ipykernel_launcher.py:47: UserWarning: linestyle is redundantly defined by the 'linestyle' keyword argument and the fmt string \"s-\" (-> linestyle='-'). The keyword argument will take precedence.\n",
      "/Users/gbrammer/miniconda3/envs/grizli37/lib/python3.7/site-packages/ipykernel_launcher.py:47: UserWarning: linestyle is redundantly defined by the 'linestyle' keyword argument and the fmt string \"s-\" (-> linestyle='-'). The keyword argument will take precedence.\n",
      "/Users/gbrammer/miniconda3/envs/grizli37/lib/python3.7/site-packages/ipykernel_launcher.py:47: UserWarning: linestyle is redundantly defined by the 'linestyle' keyword argument and the fmt string \"s-\" (-> linestyle='-'). The keyword argument will take precedence.\n",
      "/Users/gbrammer/miniconda3/envs/grizli37/lib/python3.7/site-packages/ipykernel_launcher.py:47: UserWarning: linestyle is redundantly defined by the 'linestyle' keyword argument and the fmt string \"s-\" (-> linestyle='-'). The keyword argument will take precedence.\n",
      "/Users/gbrammer/miniconda3/envs/grizli37/lib/python3.7/site-packages/ipykernel_launcher.py:47: UserWarning: linestyle is redundantly defined by the 'linestyle' keyword argument and the fmt string \"s-\" (-> linestyle='-'). The keyword argument will take precedence.\n",
      "/Users/gbrammer/miniconda3/envs/grizli37/lib/python3.7/site-packages/ipykernel_launcher.py:47: UserWarning: linestyle is redundantly defined by the 'linestyle' keyword argument and the fmt string \"s-\" (-> linestyle='-'). The keyword argument will take precedence.\n",
      "/Users/gbrammer/miniconda3/envs/grizli37/lib/python3.7/site-packages/ipykernel_launcher.py:47: UserWarning: linestyle is redundantly defined by the 'linestyle' keyword argument and the fmt string \"s-\" (-> linestyle='-'). The keyword argument will take precedence.\n"
     ]
    },
    {
     "name": "stdout",
     "output_type": "stream",
     "text": [
      "383 2491\n"
     ]
    },
    {
     "name": "stderr",
     "output_type": "stream",
     "text": [
      "/Users/gbrammer/miniconda3/envs/grizli37/lib/python3.7/site-packages/ipykernel_launcher.py:47: UserWarning: linestyle is redundantly defined by the 'linestyle' keyword argument and the fmt string \"s-\" (-> linestyle='-'). The keyword argument will take precedence.\n",
      "/Users/gbrammer/miniconda3/envs/grizli37/lib/python3.7/site-packages/ipykernel_launcher.py:47: UserWarning: linestyle is redundantly defined by the 'linestyle' keyword argument and the fmt string \"s-\" (-> linestyle='-'). The keyword argument will take precedence.\n",
      "/Users/gbrammer/miniconda3/envs/grizli37/lib/python3.7/site-packages/ipykernel_launcher.py:47: UserWarning: linestyle is redundantly defined by the 'linestyle' keyword argument and the fmt string \"s-\" (-> linestyle='-'). The keyword argument will take precedence.\n",
      "/Users/gbrammer/miniconda3/envs/grizli37/lib/python3.7/site-packages/ipykernel_launcher.py:47: UserWarning: linestyle is redundantly defined by the 'linestyle' keyword argument and the fmt string \"s-\" (-> linestyle='-'). The keyword argument will take precedence.\n",
      "/Users/gbrammer/miniconda3/envs/grizli37/lib/python3.7/site-packages/ipykernel_launcher.py:47: UserWarning: linestyle is redundantly defined by the 'linestyle' keyword argument and the fmt string \"s-\" (-> linestyle='-'). The keyword argument will take precedence.\n",
      "/Users/gbrammer/miniconda3/envs/grizli37/lib/python3.7/site-packages/ipykernel_launcher.py:47: UserWarning: linestyle is redundantly defined by the 'linestyle' keyword argument and the fmt string \"s-\" (-> linestyle='-'). The keyword argument will take precedence.\n"
     ]
    },
    {
     "name": "stdout",
     "output_type": "stream",
     "text": [
      "384 2521\n"
     ]
    },
    {
     "name": "stderr",
     "output_type": "stream",
     "text": [
      "/Users/gbrammer/miniconda3/envs/grizli37/lib/python3.7/site-packages/ipykernel_launcher.py:47: UserWarning: linestyle is redundantly defined by the 'linestyle' keyword argument and the fmt string \"s-\" (-> linestyle='-'). The keyword argument will take precedence.\n",
      "/Users/gbrammer/miniconda3/envs/grizli37/lib/python3.7/site-packages/ipykernel_launcher.py:47: UserWarning: linestyle is redundantly defined by the 'linestyle' keyword argument and the fmt string \"s-\" (-> linestyle='-'). The keyword argument will take precedence.\n",
      "/Users/gbrammer/miniconda3/envs/grizli37/lib/python3.7/site-packages/ipykernel_launcher.py:47: UserWarning: linestyle is redundantly defined by the 'linestyle' keyword argument and the fmt string \"s-\" (-> linestyle='-'). The keyword argument will take precedence.\n"
     ]
    },
    {
     "name": "stdout",
     "output_type": "stream",
     "text": [
      "385 2526\n"
     ]
    },
    {
     "name": "stderr",
     "output_type": "stream",
     "text": [
      "/Users/gbrammer/miniconda3/envs/grizli37/lib/python3.7/site-packages/ipykernel_launcher.py:47: UserWarning: linestyle is redundantly defined by the 'linestyle' keyword argument and the fmt string \"s-\" (-> linestyle='-'). The keyword argument will take precedence.\n",
      "/Users/gbrammer/miniconda3/envs/grizli37/lib/python3.7/site-packages/ipykernel_launcher.py:47: UserWarning: linestyle is redundantly defined by the 'linestyle' keyword argument and the fmt string \"s-\" (-> linestyle='-'). The keyword argument will take precedence.\n",
      "/Users/gbrammer/miniconda3/envs/grizli37/lib/python3.7/site-packages/ipykernel_launcher.py:47: UserWarning: linestyle is redundantly defined by the 'linestyle' keyword argument and the fmt string \"s-\" (-> linestyle='-'). The keyword argument will take precedence.\n",
      "/Users/gbrammer/miniconda3/envs/grizli37/lib/python3.7/site-packages/ipykernel_launcher.py:47: UserWarning: linestyle is redundantly defined by the 'linestyle' keyword argument and the fmt string \"s-\" (-> linestyle='-'). The keyword argument will take precedence.\n",
      "/Users/gbrammer/miniconda3/envs/grizli37/lib/python3.7/site-packages/ipykernel_launcher.py:47: UserWarning: linestyle is redundantly defined by the 'linestyle' keyword argument and the fmt string \"s-\" (-> linestyle='-'). The keyword argument will take precedence.\n",
      "/Users/gbrammer/miniconda3/envs/grizli37/lib/python3.7/site-packages/ipykernel_launcher.py:47: UserWarning: linestyle is redundantly defined by the 'linestyle' keyword argument and the fmt string \"s-\" (-> linestyle='-'). The keyword argument will take precedence.\n",
      "/Users/gbrammer/miniconda3/envs/grizli37/lib/python3.7/site-packages/ipykernel_launcher.py:47: UserWarning: linestyle is redundantly defined by the 'linestyle' keyword argument and the fmt string \"s-\" (-> linestyle='-'). The keyword argument will take precedence.\n",
      "/Users/gbrammer/miniconda3/envs/grizli37/lib/python3.7/site-packages/ipykernel_launcher.py:47: UserWarning: linestyle is redundantly defined by the 'linestyle' keyword argument and the fmt string \"s-\" (-> linestyle='-'). The keyword argument will take precedence.\n",
      "/Users/gbrammer/miniconda3/envs/grizli37/lib/python3.7/site-packages/ipykernel_launcher.py:47: UserWarning: linestyle is redundantly defined by the 'linestyle' keyword argument and the fmt string \"s-\" (-> linestyle='-'). The keyword argument will take precedence.\n",
      "/Users/gbrammer/miniconda3/envs/grizli37/lib/python3.7/site-packages/ipykernel_launcher.py:47: UserWarning: linestyle is redundantly defined by the 'linestyle' keyword argument and the fmt string \"s-\" (-> linestyle='-'). The keyword argument will take precedence.\n",
      "/Users/gbrammer/miniconda3/envs/grizli37/lib/python3.7/site-packages/ipykernel_launcher.py:47: UserWarning: linestyle is redundantly defined by the 'linestyle' keyword argument and the fmt string \"s-\" (-> linestyle='-'). The keyword argument will take precedence.\n",
      "/Users/gbrammer/miniconda3/envs/grizli37/lib/python3.7/site-packages/ipykernel_launcher.py:47: UserWarning: linestyle is redundantly defined by the 'linestyle' keyword argument and the fmt string \"s-\" (-> linestyle='-'). The keyword argument will take precedence.\n",
      "/Users/gbrammer/miniconda3/envs/grizli37/lib/python3.7/site-packages/ipykernel_launcher.py:47: UserWarning: linestyle is redundantly defined by the 'linestyle' keyword argument and the fmt string \"s-\" (-> linestyle='-'). The keyword argument will take precedence.\n",
      "/Users/gbrammer/miniconda3/envs/grizli37/lib/python3.7/site-packages/ipykernel_launcher.py:47: UserWarning: linestyle is redundantly defined by the 'linestyle' keyword argument and the fmt string \"s-\" (-> linestyle='-'). The keyword argument will take precedence.\n",
      "/Users/gbrammer/miniconda3/envs/grizli37/lib/python3.7/site-packages/ipykernel_launcher.py:47: UserWarning: linestyle is redundantly defined by the 'linestyle' keyword argument and the fmt string \"s-\" (-> linestyle='-'). The keyword argument will take precedence.\n",
      "/Users/gbrammer/miniconda3/envs/grizli37/lib/python3.7/site-packages/ipykernel_launcher.py:47: UserWarning: linestyle is redundantly defined by the 'linestyle' keyword argument and the fmt string \"s-\" (-> linestyle='-'). The keyword argument will take precedence.\n",
      "/Users/gbrammer/miniconda3/envs/grizli37/lib/python3.7/site-packages/ipykernel_launcher.py:47: UserWarning: linestyle is redundantly defined by the 'linestyle' keyword argument and the fmt string \"s-\" (-> linestyle='-'). The keyword argument will take precedence.\n"
     ]
    },
    {
     "name": "stdout",
     "output_type": "stream",
     "text": [
      "386 2560\n"
     ]
    },
    {
     "name": "stderr",
     "output_type": "stream",
     "text": [
      "/Users/gbrammer/miniconda3/envs/grizli37/lib/python3.7/site-packages/ipykernel_launcher.py:47: UserWarning: linestyle is redundantly defined by the 'linestyle' keyword argument and the fmt string \"s-\" (-> linestyle='-'). The keyword argument will take precedence.\n"
     ]
    },
    {
     "name": "stdout",
     "output_type": "stream",
     "text": [
      "387 2609\n"
     ]
    },
    {
     "name": "stderr",
     "output_type": "stream",
     "text": [
      "/Users/gbrammer/miniconda3/envs/grizli37/lib/python3.7/site-packages/ipykernel_launcher.py:47: UserWarning: linestyle is redundantly defined by the 'linestyle' keyword argument and the fmt string \"s-\" (-> linestyle='-'). The keyword argument will take precedence.\n",
      "/Users/gbrammer/miniconda3/envs/grizli37/lib/python3.7/site-packages/ipykernel_launcher.py:47: UserWarning: linestyle is redundantly defined by the 'linestyle' keyword argument and the fmt string \"s-\" (-> linestyle='-'). The keyword argument will take precedence.\n",
      "/Users/gbrammer/miniconda3/envs/grizli37/lib/python3.7/site-packages/ipykernel_launcher.py:47: UserWarning: linestyle is redundantly defined by the 'linestyle' keyword argument and the fmt string \"s-\" (-> linestyle='-'). The keyword argument will take precedence.\n",
      "/Users/gbrammer/miniconda3/envs/grizli37/lib/python3.7/site-packages/ipykernel_launcher.py:47: UserWarning: linestyle is redundantly defined by the 'linestyle' keyword argument and the fmt string \"s-\" (-> linestyle='-'). The keyword argument will take precedence.\n",
      "/Users/gbrammer/miniconda3/envs/grizli37/lib/python3.7/site-packages/ipykernel_launcher.py:47: UserWarning: linestyle is redundantly defined by the 'linestyle' keyword argument and the fmt string \"s-\" (-> linestyle='-'). The keyword argument will take precedence.\n",
      "/Users/gbrammer/miniconda3/envs/grizli37/lib/python3.7/site-packages/ipykernel_launcher.py:47: UserWarning: linestyle is redundantly defined by the 'linestyle' keyword argument and the fmt string \"s-\" (-> linestyle='-'). The keyword argument will take precedence.\n"
     ]
    },
    {
     "name": "stdout",
     "output_type": "stream",
     "text": [
      "388 2662\n"
     ]
    },
    {
     "name": "stderr",
     "output_type": "stream",
     "text": [
      "/Users/gbrammer/miniconda3/envs/grizli37/lib/python3.7/site-packages/ipykernel_launcher.py:47: UserWarning: linestyle is redundantly defined by the 'linestyle' keyword argument and the fmt string \"s-\" (-> linestyle='-'). The keyword argument will take precedence.\n",
      "/Users/gbrammer/miniconda3/envs/grizli37/lib/python3.7/site-packages/ipykernel_launcher.py:47: UserWarning: linestyle is redundantly defined by the 'linestyle' keyword argument and the fmt string \"s-\" (-> linestyle='-'). The keyword argument will take precedence.\n",
      "/Users/gbrammer/miniconda3/envs/grizli37/lib/python3.7/site-packages/ipykernel_launcher.py:47: UserWarning: linestyle is redundantly defined by the 'linestyle' keyword argument and the fmt string \"s-\" (-> linestyle='-'). The keyword argument will take precedence.\n",
      "/Users/gbrammer/miniconda3/envs/grizli37/lib/python3.7/site-packages/ipykernel_launcher.py:47: UserWarning: linestyle is redundantly defined by the 'linestyle' keyword argument and the fmt string \"s-\" (-> linestyle='-'). The keyword argument will take precedence.\n",
      "/Users/gbrammer/miniconda3/envs/grizli37/lib/python3.7/site-packages/ipykernel_launcher.py:47: UserWarning: linestyle is redundantly defined by the 'linestyle' keyword argument and the fmt string \"s-\" (-> linestyle='-'). The keyword argument will take precedence.\n",
      "/Users/gbrammer/miniconda3/envs/grizli37/lib/python3.7/site-packages/ipykernel_launcher.py:47: UserWarning: linestyle is redundantly defined by the 'linestyle' keyword argument and the fmt string \"s-\" (-> linestyle='-'). The keyword argument will take precedence.\n"
     ]
    },
    {
     "name": "stdout",
     "output_type": "stream",
     "text": [
      "389 2677\n"
     ]
    },
    {
     "name": "stderr",
     "output_type": "stream",
     "text": [
      "/Users/gbrammer/miniconda3/envs/grizli37/lib/python3.7/site-packages/ipykernel_launcher.py:47: UserWarning: linestyle is redundantly defined by the 'linestyle' keyword argument and the fmt string \"s-\" (-> linestyle='-'). The keyword argument will take precedence.\n",
      "/Users/gbrammer/miniconda3/envs/grizli37/lib/python3.7/site-packages/ipykernel_launcher.py:47: UserWarning: linestyle is redundantly defined by the 'linestyle' keyword argument and the fmt string \"s-\" (-> linestyle='-'). The keyword argument will take precedence.\n",
      "/Users/gbrammer/miniconda3/envs/grizli37/lib/python3.7/site-packages/ipykernel_launcher.py:47: UserWarning: linestyle is redundantly defined by the 'linestyle' keyword argument and the fmt string \"s-\" (-> linestyle='-'). The keyword argument will take precedence.\n",
      "/Users/gbrammer/miniconda3/envs/grizli37/lib/python3.7/site-packages/ipykernel_launcher.py:47: UserWarning: linestyle is redundantly defined by the 'linestyle' keyword argument and the fmt string \"s-\" (-> linestyle='-'). The keyword argument will take precedence.\n",
      "/Users/gbrammer/miniconda3/envs/grizli37/lib/python3.7/site-packages/ipykernel_launcher.py:47: UserWarning: linestyle is redundantly defined by the 'linestyle' keyword argument and the fmt string \"s-\" (-> linestyle='-'). The keyword argument will take precedence.\n",
      "/Users/gbrammer/miniconda3/envs/grizli37/lib/python3.7/site-packages/ipykernel_launcher.py:47: UserWarning: linestyle is redundantly defined by the 'linestyle' keyword argument and the fmt string \"s-\" (-> linestyle='-'). The keyword argument will take precedence.\n",
      "/Users/gbrammer/miniconda3/envs/grizli37/lib/python3.7/site-packages/ipykernel_launcher.py:47: UserWarning: linestyle is redundantly defined by the 'linestyle' keyword argument and the fmt string \"s-\" (-> linestyle='-'). The keyword argument will take precedence.\n",
      "/Users/gbrammer/miniconda3/envs/grizli37/lib/python3.7/site-packages/ipykernel_launcher.py:47: UserWarning: linestyle is redundantly defined by the 'linestyle' keyword argument and the fmt string \"s-\" (-> linestyle='-'). The keyword argument will take precedence.\n",
      "/Users/gbrammer/miniconda3/envs/grizli37/lib/python3.7/site-packages/ipykernel_launcher.py:47: UserWarning: linestyle is redundantly defined by the 'linestyle' keyword argument and the fmt string \"s-\" (-> linestyle='-'). The keyword argument will take precedence.\n",
      "/Users/gbrammer/miniconda3/envs/grizli37/lib/python3.7/site-packages/ipykernel_launcher.py:47: UserWarning: linestyle is redundantly defined by the 'linestyle' keyword argument and the fmt string \"s-\" (-> linestyle='-'). The keyword argument will take precedence.\n"
     ]
    },
    {
     "name": "stdout",
     "output_type": "stream",
     "text": [
      "390 1554\n"
     ]
    },
    {
     "name": "stderr",
     "output_type": "stream",
     "text": [
      "/Users/gbrammer/miniconda3/envs/grizli37/lib/python3.7/site-packages/ipykernel_launcher.py:47: UserWarning: linestyle is redundantly defined by the 'linestyle' keyword argument and the fmt string \"s-\" (-> linestyle='-'). The keyword argument will take precedence.\n"
     ]
    },
    {
     "name": "stdout",
     "output_type": "stream",
     "text": [
      "391 1670\n"
     ]
    },
    {
     "name": "stderr",
     "output_type": "stream",
     "text": [
      "/Users/gbrammer/miniconda3/envs/grizli37/lib/python3.7/site-packages/ipykernel_launcher.py:47: UserWarning: linestyle is redundantly defined by the 'linestyle' keyword argument and the fmt string \"s-\" (-> linestyle='-'). The keyword argument will take precedence.\n",
      "/Users/gbrammer/miniconda3/envs/grizli37/lib/python3.7/site-packages/ipykernel_launcher.py:47: UserWarning: linestyle is redundantly defined by the 'linestyle' keyword argument and the fmt string \"s-\" (-> linestyle='-'). The keyword argument will take precedence.\n",
      "/Users/gbrammer/miniconda3/envs/grizli37/lib/python3.7/site-packages/ipykernel_launcher.py:47: UserWarning: linestyle is redundantly defined by the 'linestyle' keyword argument and the fmt string \"s-\" (-> linestyle='-'). The keyword argument will take precedence.\n",
      "/Users/gbrammer/miniconda3/envs/grizli37/lib/python3.7/site-packages/ipykernel_launcher.py:47: UserWarning: linestyle is redundantly defined by the 'linestyle' keyword argument and the fmt string \"s-\" (-> linestyle='-'). The keyword argument will take precedence.\n",
      "/Users/gbrammer/miniconda3/envs/grizli37/lib/python3.7/site-packages/ipykernel_launcher.py:47: UserWarning: linestyle is redundantly defined by the 'linestyle' keyword argument and the fmt string \"s-\" (-> linestyle='-'). The keyword argument will take precedence.\n",
      "/Users/gbrammer/miniconda3/envs/grizli37/lib/python3.7/site-packages/ipykernel_launcher.py:47: UserWarning: linestyle is redundantly defined by the 'linestyle' keyword argument and the fmt string \"s-\" (-> linestyle='-'). The keyword argument will take precedence.\n",
      "/Users/gbrammer/miniconda3/envs/grizli37/lib/python3.7/site-packages/ipykernel_launcher.py:47: UserWarning: linestyle is redundantly defined by the 'linestyle' keyword argument and the fmt string \"s-\" (-> linestyle='-'). The keyword argument will take precedence.\n",
      "/Users/gbrammer/miniconda3/envs/grizli37/lib/python3.7/site-packages/ipykernel_launcher.py:47: UserWarning: linestyle is redundantly defined by the 'linestyle' keyword argument and the fmt string \"s-\" (-> linestyle='-'). The keyword argument will take precedence.\n",
      "/Users/gbrammer/miniconda3/envs/grizli37/lib/python3.7/site-packages/ipykernel_launcher.py:47: UserWarning: linestyle is redundantly defined by the 'linestyle' keyword argument and the fmt string \"s-\" (-> linestyle='-'). The keyword argument will take precedence.\n",
      "/Users/gbrammer/miniconda3/envs/grizli37/lib/python3.7/site-packages/ipykernel_launcher.py:47: UserWarning: linestyle is redundantly defined by the 'linestyle' keyword argument and the fmt string \"s-\" (-> linestyle='-'). The keyword argument will take precedence.\n",
      "/Users/gbrammer/miniconda3/envs/grizli37/lib/python3.7/site-packages/ipykernel_launcher.py:47: UserWarning: linestyle is redundantly defined by the 'linestyle' keyword argument and the fmt string \"s-\" (-> linestyle='-'). The keyword argument will take precedence.\n",
      "/Users/gbrammer/miniconda3/envs/grizli37/lib/python3.7/site-packages/ipykernel_launcher.py:47: UserWarning: linestyle is redundantly defined by the 'linestyle' keyword argument and the fmt string \"s-\" (-> linestyle='-'). The keyword argument will take precedence.\n"
     ]
    },
    {
     "name": "stdout",
     "output_type": "stream",
     "text": [
      "392 1717\n",
      "393 1760\n"
     ]
    },
    {
     "name": "stderr",
     "output_type": "stream",
     "text": [
      "/Users/gbrammer/miniconda3/envs/grizli37/lib/python3.7/site-packages/ipykernel_launcher.py:47: UserWarning: linestyle is redundantly defined by the 'linestyle' keyword argument and the fmt string \"s-\" (-> linestyle='-'). The keyword argument will take precedence.\n",
      "/Users/gbrammer/miniconda3/envs/grizli37/lib/python3.7/site-packages/ipykernel_launcher.py:47: UserWarning: linestyle is redundantly defined by the 'linestyle' keyword argument and the fmt string \"s-\" (-> linestyle='-'). The keyword argument will take precedence.\n",
      "/Users/gbrammer/miniconda3/envs/grizli37/lib/python3.7/site-packages/ipykernel_launcher.py:47: UserWarning: linestyle is redundantly defined by the 'linestyle' keyword argument and the fmt string \"s-\" (-> linestyle='-'). The keyword argument will take precedence.\n",
      "/Users/gbrammer/miniconda3/envs/grizli37/lib/python3.7/site-packages/ipykernel_launcher.py:47: UserWarning: linestyle is redundantly defined by the 'linestyle' keyword argument and the fmt string \"s-\" (-> linestyle='-'). The keyword argument will take precedence.\n",
      "/Users/gbrammer/miniconda3/envs/grizli37/lib/python3.7/site-packages/ipykernel_launcher.py:47: UserWarning: linestyle is redundantly defined by the 'linestyle' keyword argument and the fmt string \"s-\" (-> linestyle='-'). The keyword argument will take precedence.\n",
      "/Users/gbrammer/miniconda3/envs/grizli37/lib/python3.7/site-packages/ipykernel_launcher.py:47: UserWarning: linestyle is redundantly defined by the 'linestyle' keyword argument and the fmt string \"s-\" (-> linestyle='-'). The keyword argument will take precedence.\n",
      "/Users/gbrammer/miniconda3/envs/grizli37/lib/python3.7/site-packages/ipykernel_launcher.py:47: UserWarning: linestyle is redundantly defined by the 'linestyle' keyword argument and the fmt string \"s-\" (-> linestyle='-'). The keyword argument will take precedence.\n",
      "/Users/gbrammer/miniconda3/envs/grizli37/lib/python3.7/site-packages/ipykernel_launcher.py:47: UserWarning: linestyle is redundantly defined by the 'linestyle' keyword argument and the fmt string \"s-\" (-> linestyle='-'). The keyword argument will take precedence.\n",
      "/Users/gbrammer/miniconda3/envs/grizli37/lib/python3.7/site-packages/ipykernel_launcher.py:47: UserWarning: linestyle is redundantly defined by the 'linestyle' keyword argument and the fmt string \"s-\" (-> linestyle='-'). The keyword argument will take precedence.\n",
      "/Users/gbrammer/miniconda3/envs/grizli37/lib/python3.7/site-packages/ipykernel_launcher.py:47: UserWarning: linestyle is redundantly defined by the 'linestyle' keyword argument and the fmt string \"s-\" (-> linestyle='-'). The keyword argument will take precedence.\n"
     ]
    },
    {
     "name": "stdout",
     "output_type": "stream",
     "text": [
      "394 1764\n"
     ]
    },
    {
     "name": "stderr",
     "output_type": "stream",
     "text": [
      "/Users/gbrammer/miniconda3/envs/grizli37/lib/python3.7/site-packages/ipykernel_launcher.py:47: UserWarning: linestyle is redundantly defined by the 'linestyle' keyword argument and the fmt string \"s-\" (-> linestyle='-'). The keyword argument will take precedence.\n",
      "/Users/gbrammer/miniconda3/envs/grizli37/lib/python3.7/site-packages/ipykernel_launcher.py:47: UserWarning: linestyle is redundantly defined by the 'linestyle' keyword argument and the fmt string \"s-\" (-> linestyle='-'). The keyword argument will take precedence.\n",
      "/Users/gbrammer/miniconda3/envs/grizli37/lib/python3.7/site-packages/ipykernel_launcher.py:47: UserWarning: linestyle is redundantly defined by the 'linestyle' keyword argument and the fmt string \"s-\" (-> linestyle='-'). The keyword argument will take precedence.\n",
      "/Users/gbrammer/miniconda3/envs/grizli37/lib/python3.7/site-packages/ipykernel_launcher.py:47: UserWarning: linestyle is redundantly defined by the 'linestyle' keyword argument and the fmt string \"s-\" (-> linestyle='-'). The keyword argument will take precedence.\n",
      "/Users/gbrammer/miniconda3/envs/grizli37/lib/python3.7/site-packages/ipykernel_launcher.py:47: UserWarning: linestyle is redundantly defined by the 'linestyle' keyword argument and the fmt string \"s-\" (-> linestyle='-'). The keyword argument will take precedence.\n",
      "/Users/gbrammer/miniconda3/envs/grizli37/lib/python3.7/site-packages/ipykernel_launcher.py:47: UserWarning: linestyle is redundantly defined by the 'linestyle' keyword argument and the fmt string \"s-\" (-> linestyle='-'). The keyword argument will take precedence.\n",
      "/Users/gbrammer/miniconda3/envs/grizli37/lib/python3.7/site-packages/ipykernel_launcher.py:47: UserWarning: linestyle is redundantly defined by the 'linestyle' keyword argument and the fmt string \"s-\" (-> linestyle='-'). The keyword argument will take precedence.\n",
      "/Users/gbrammer/miniconda3/envs/grizli37/lib/python3.7/site-packages/ipykernel_launcher.py:47: UserWarning: linestyle is redundantly defined by the 'linestyle' keyword argument and the fmt string \"s-\" (-> linestyle='-'). The keyword argument will take precedence.\n",
      "/Users/gbrammer/miniconda3/envs/grizli37/lib/python3.7/site-packages/ipykernel_launcher.py:47: UserWarning: linestyle is redundantly defined by the 'linestyle' keyword argument and the fmt string \"s-\" (-> linestyle='-'). The keyword argument will take precedence.\n",
      "/Users/gbrammer/miniconda3/envs/grizli37/lib/python3.7/site-packages/ipykernel_launcher.py:47: UserWarning: linestyle is redundantly defined by the 'linestyle' keyword argument and the fmt string \"s-\" (-> linestyle='-'). The keyword argument will take precedence.\n",
      "/Users/gbrammer/miniconda3/envs/grizli37/lib/python3.7/site-packages/ipykernel_launcher.py:47: UserWarning: linestyle is redundantly defined by the 'linestyle' keyword argument and the fmt string \"s-\" (-> linestyle='-'). The keyword argument will take precedence.\n",
      "/Users/gbrammer/miniconda3/envs/grizli37/lib/python3.7/site-packages/ipykernel_launcher.py:47: UserWarning: linestyle is redundantly defined by the 'linestyle' keyword argument and the fmt string \"s-\" (-> linestyle='-'). The keyword argument will take precedence.\n",
      "/Users/gbrammer/miniconda3/envs/grizli37/lib/python3.7/site-packages/ipykernel_launcher.py:47: UserWarning: linestyle is redundantly defined by the 'linestyle' keyword argument and the fmt string \"s-\" (-> linestyle='-'). The keyword argument will take precedence.\n",
      "/Users/gbrammer/miniconda3/envs/grizli37/lib/python3.7/site-packages/ipykernel_launcher.py:47: UserWarning: linestyle is redundantly defined by the 'linestyle' keyword argument and the fmt string \"s-\" (-> linestyle='-'). The keyword argument will take precedence.\n",
      "/Users/gbrammer/miniconda3/envs/grizli37/lib/python3.7/site-packages/ipykernel_launcher.py:47: UserWarning: linestyle is redundantly defined by the 'linestyle' keyword argument and the fmt string \"s-\" (-> linestyle='-'). The keyword argument will take precedence.\n",
      "/Users/gbrammer/miniconda3/envs/grizli37/lib/python3.7/site-packages/ipykernel_launcher.py:47: UserWarning: linestyle is redundantly defined by the 'linestyle' keyword argument and the fmt string \"s-\" (-> linestyle='-'). The keyword argument will take precedence.\n",
      "/Users/gbrammer/miniconda3/envs/grizli37/lib/python3.7/site-packages/ipykernel_launcher.py:47: UserWarning: linestyle is redundantly defined by the 'linestyle' keyword argument and the fmt string \"s-\" (-> linestyle='-'). The keyword argument will take precedence.\n",
      "/Users/gbrammer/miniconda3/envs/grizli37/lib/python3.7/site-packages/ipykernel_launcher.py:47: UserWarning: linestyle is redundantly defined by the 'linestyle' keyword argument and the fmt string \"s-\" (-> linestyle='-'). The keyword argument will take precedence.\n",
      "/Users/gbrammer/miniconda3/envs/grizli37/lib/python3.7/site-packages/ipykernel_launcher.py:47: UserWarning: linestyle is redundantly defined by the 'linestyle' keyword argument and the fmt string \"s-\" (-> linestyle='-'). The keyword argument will take precedence.\n",
      "/Users/gbrammer/miniconda3/envs/grizli37/lib/python3.7/site-packages/ipykernel_launcher.py:47: UserWarning: linestyle is redundantly defined by the 'linestyle' keyword argument and the fmt string \"s-\" (-> linestyle='-'). The keyword argument will take precedence.\n"
     ]
    },
    {
     "name": "stdout",
     "output_type": "stream",
     "text": [
      "395 1813\n"
     ]
    },
    {
     "name": "stderr",
     "output_type": "stream",
     "text": [
      "/Users/gbrammer/miniconda3/envs/grizli37/lib/python3.7/site-packages/ipykernel_launcher.py:47: UserWarning: linestyle is redundantly defined by the 'linestyle' keyword argument and the fmt string \"s-\" (-> linestyle='-'). The keyword argument will take precedence.\n",
      "/Users/gbrammer/miniconda3/envs/grizli37/lib/python3.7/site-packages/ipykernel_launcher.py:47: UserWarning: linestyle is redundantly defined by the 'linestyle' keyword argument and the fmt string \"s-\" (-> linestyle='-'). The keyword argument will take precedence.\n",
      "/Users/gbrammer/miniconda3/envs/grizli37/lib/python3.7/site-packages/ipykernel_launcher.py:47: UserWarning: linestyle is redundantly defined by the 'linestyle' keyword argument and the fmt string \"s-\" (-> linestyle='-'). The keyword argument will take precedence.\n",
      "/Users/gbrammer/miniconda3/envs/grizli37/lib/python3.7/site-packages/ipykernel_launcher.py:47: UserWarning: linestyle is redundantly defined by the 'linestyle' keyword argument and the fmt string \"s-\" (-> linestyle='-'). The keyword argument will take precedence.\n"
     ]
    },
    {
     "name": "stdout",
     "output_type": "stream",
     "text": [
      "396 1875\n"
     ]
    },
    {
     "name": "stderr",
     "output_type": "stream",
     "text": [
      "/Users/gbrammer/miniconda3/envs/grizli37/lib/python3.7/site-packages/ipykernel_launcher.py:47: UserWarning: linestyle is redundantly defined by the 'linestyle' keyword argument and the fmt string \"s-\" (-> linestyle='-'). The keyword argument will take precedence.\n",
      "/Users/gbrammer/miniconda3/envs/grizli37/lib/python3.7/site-packages/ipykernel_launcher.py:47: UserWarning: linestyle is redundantly defined by the 'linestyle' keyword argument and the fmt string \"s-\" (-> linestyle='-'). The keyword argument will take precedence.\n"
     ]
    },
    {
     "name": "stdout",
     "output_type": "stream",
     "text": [
      "397 1928\n"
     ]
    },
    {
     "name": "stderr",
     "output_type": "stream",
     "text": [
      "/Users/gbrammer/miniconda3/envs/grizli37/lib/python3.7/site-packages/ipykernel_launcher.py:47: UserWarning: linestyle is redundantly defined by the 'linestyle' keyword argument and the fmt string \"s-\" (-> linestyle='-'). The keyword argument will take precedence.\n",
      "/Users/gbrammer/miniconda3/envs/grizli37/lib/python3.7/site-packages/ipykernel_launcher.py:47: UserWarning: linestyle is redundantly defined by the 'linestyle' keyword argument and the fmt string \"s-\" (-> linestyle='-'). The keyword argument will take precedence.\n",
      "/Users/gbrammer/miniconda3/envs/grizli37/lib/python3.7/site-packages/ipykernel_launcher.py:47: UserWarning: linestyle is redundantly defined by the 'linestyle' keyword argument and the fmt string \"s-\" (-> linestyle='-'). The keyword argument will take precedence.\n",
      "/Users/gbrammer/miniconda3/envs/grizli37/lib/python3.7/site-packages/ipykernel_launcher.py:47: UserWarning: linestyle is redundantly defined by the 'linestyle' keyword argument and the fmt string \"s-\" (-> linestyle='-'). The keyword argument will take precedence.\n",
      "/Users/gbrammer/miniconda3/envs/grizli37/lib/python3.7/site-packages/ipykernel_launcher.py:47: UserWarning: linestyle is redundantly defined by the 'linestyle' keyword argument and the fmt string \"s-\" (-> linestyle='-'). The keyword argument will take precedence.\n",
      "/Users/gbrammer/miniconda3/envs/grizli37/lib/python3.7/site-packages/ipykernel_launcher.py:47: UserWarning: linestyle is redundantly defined by the 'linestyle' keyword argument and the fmt string \"s-\" (-> linestyle='-'). The keyword argument will take precedence.\n",
      "/Users/gbrammer/miniconda3/envs/grizli37/lib/python3.7/site-packages/ipykernel_launcher.py:47: UserWarning: linestyle is redundantly defined by the 'linestyle' keyword argument and the fmt string \"s-\" (-> linestyle='-'). The keyword argument will take precedence.\n",
      "/Users/gbrammer/miniconda3/envs/grizli37/lib/python3.7/site-packages/ipykernel_launcher.py:47: UserWarning: linestyle is redundantly defined by the 'linestyle' keyword argument and the fmt string \"s-\" (-> linestyle='-'). The keyword argument will take precedence.\n",
      "/Users/gbrammer/miniconda3/envs/grizli37/lib/python3.7/site-packages/ipykernel_launcher.py:47: UserWarning: linestyle is redundantly defined by the 'linestyle' keyword argument and the fmt string \"s-\" (-> linestyle='-'). The keyword argument will take precedence.\n"
     ]
    },
    {
     "name": "stdout",
     "output_type": "stream",
     "text": [
      "398 1964\n"
     ]
    },
    {
     "name": "stderr",
     "output_type": "stream",
     "text": [
      "/Users/gbrammer/miniconda3/envs/grizli37/lib/python3.7/site-packages/ipykernel_launcher.py:47: UserWarning: linestyle is redundantly defined by the 'linestyle' keyword argument and the fmt string \"s-\" (-> linestyle='-'). The keyword argument will take precedence.\n",
      "/Users/gbrammer/miniconda3/envs/grizli37/lib/python3.7/site-packages/ipykernel_launcher.py:47: UserWarning: linestyle is redundantly defined by the 'linestyle' keyword argument and the fmt string \"s-\" (-> linestyle='-'). The keyword argument will take precedence.\n"
     ]
    },
    {
     "name": "stdout",
     "output_type": "stream",
     "text": [
      "399 1967\n"
     ]
    },
    {
     "name": "stderr",
     "output_type": "stream",
     "text": [
      "/Users/gbrammer/miniconda3/envs/grizli37/lib/python3.7/site-packages/ipykernel_launcher.py:47: UserWarning: linestyle is redundantly defined by the 'linestyle' keyword argument and the fmt string \"s-\" (-> linestyle='-'). The keyword argument will take precedence.\n",
      "/Users/gbrammer/miniconda3/envs/grizli37/lib/python3.7/site-packages/ipykernel_launcher.py:47: UserWarning: linestyle is redundantly defined by the 'linestyle' keyword argument and the fmt string \"s-\" (-> linestyle='-'). The keyword argument will take precedence.\n",
      "/Users/gbrammer/miniconda3/envs/grizli37/lib/python3.7/site-packages/ipykernel_launcher.py:47: UserWarning: linestyle is redundantly defined by the 'linestyle' keyword argument and the fmt string \"s-\" (-> linestyle='-'). The keyword argument will take precedence.\n",
      "/Users/gbrammer/miniconda3/envs/grizli37/lib/python3.7/site-packages/ipykernel_launcher.py:47: UserWarning: linestyle is redundantly defined by the 'linestyle' keyword argument and the fmt string \"s-\" (-> linestyle='-'). The keyword argument will take precedence.\n",
      "/Users/gbrammer/miniconda3/envs/grizli37/lib/python3.7/site-packages/ipykernel_launcher.py:47: UserWarning: linestyle is redundantly defined by the 'linestyle' keyword argument and the fmt string \"s-\" (-> linestyle='-'). The keyword argument will take precedence.\n",
      "/Users/gbrammer/miniconda3/envs/grizli37/lib/python3.7/site-packages/ipykernel_launcher.py:47: UserWarning: linestyle is redundantly defined by the 'linestyle' keyword argument and the fmt string \"s-\" (-> linestyle='-'). The keyword argument will take precedence.\n",
      "/Users/gbrammer/miniconda3/envs/grizli37/lib/python3.7/site-packages/ipykernel_launcher.py:47: UserWarning: linestyle is redundantly defined by the 'linestyle' keyword argument and the fmt string \"s-\" (-> linestyle='-'). The keyword argument will take precedence.\n",
      "/Users/gbrammer/miniconda3/envs/grizli37/lib/python3.7/site-packages/ipykernel_launcher.py:47: UserWarning: linestyle is redundantly defined by the 'linestyle' keyword argument and the fmt string \"s-\" (-> linestyle='-'). The keyword argument will take precedence.\n",
      "/Users/gbrammer/miniconda3/envs/grizli37/lib/python3.7/site-packages/ipykernel_launcher.py:47: UserWarning: linestyle is redundantly defined by the 'linestyle' keyword argument and the fmt string \"s-\" (-> linestyle='-'). The keyword argument will take precedence.\n",
      "/Users/gbrammer/miniconda3/envs/grizli37/lib/python3.7/site-packages/ipykernel_launcher.py:47: UserWarning: linestyle is redundantly defined by the 'linestyle' keyword argument and the fmt string \"s-\" (-> linestyle='-'). The keyword argument will take precedence.\n",
      "/Users/gbrammer/miniconda3/envs/grizli37/lib/python3.7/site-packages/ipykernel_launcher.py:47: UserWarning: linestyle is redundantly defined by the 'linestyle' keyword argument and the fmt string \"s-\" (-> linestyle='-'). The keyword argument will take precedence.\n",
      "/Users/gbrammer/miniconda3/envs/grizli37/lib/python3.7/site-packages/ipykernel_launcher.py:47: UserWarning: linestyle is redundantly defined by the 'linestyle' keyword argument and the fmt string \"s-\" (-> linestyle='-'). The keyword argument will take precedence.\n",
      "/Users/gbrammer/miniconda3/envs/grizli37/lib/python3.7/site-packages/ipykernel_launcher.py:47: UserWarning: linestyle is redundantly defined by the 'linestyle' keyword argument and the fmt string \"s-\" (-> linestyle='-'). The keyword argument will take precedence.\n",
      "/Users/gbrammer/miniconda3/envs/grizli37/lib/python3.7/site-packages/ipykernel_launcher.py:47: UserWarning: linestyle is redundantly defined by the 'linestyle' keyword argument and the fmt string \"s-\" (-> linestyle='-'). The keyword argument will take precedence.\n",
      "/Users/gbrammer/miniconda3/envs/grizli37/lib/python3.7/site-packages/ipykernel_launcher.py:47: UserWarning: linestyle is redundantly defined by the 'linestyle' keyword argument and the fmt string \"s-\" (-> linestyle='-'). The keyword argument will take precedence.\n",
      "/Users/gbrammer/miniconda3/envs/grizli37/lib/python3.7/site-packages/ipykernel_launcher.py:47: UserWarning: linestyle is redundantly defined by the 'linestyle' keyword argument and the fmt string \"s-\" (-> linestyle='-'). The keyword argument will take precedence.\n",
      "/Users/gbrammer/miniconda3/envs/grizli37/lib/python3.7/site-packages/ipykernel_launcher.py:47: UserWarning: linestyle is redundantly defined by the 'linestyle' keyword argument and the fmt string \"s-\" (-> linestyle='-'). The keyword argument will take precedence.\n",
      "/Users/gbrammer/miniconda3/envs/grizli37/lib/python3.7/site-packages/ipykernel_launcher.py:47: UserWarning: linestyle is redundantly defined by the 'linestyle' keyword argument and the fmt string \"s-\" (-> linestyle='-'). The keyword argument will take precedence.\n",
      "/Users/gbrammer/miniconda3/envs/grizli37/lib/python3.7/site-packages/ipykernel_launcher.py:47: UserWarning: linestyle is redundantly defined by the 'linestyle' keyword argument and the fmt string \"s-\" (-> linestyle='-'). The keyword argument will take precedence.\n",
      "/Users/gbrammer/miniconda3/envs/grizli37/lib/python3.7/site-packages/ipykernel_launcher.py:47: UserWarning: linestyle is redundantly defined by the 'linestyle' keyword argument and the fmt string \"s-\" (-> linestyle='-'). The keyword argument will take precedence.\n",
      "/Users/gbrammer/miniconda3/envs/grizli37/lib/python3.7/site-packages/ipykernel_launcher.py:47: UserWarning: linestyle is redundantly defined by the 'linestyle' keyword argument and the fmt string \"s-\" (-> linestyle='-'). The keyword argument will take precedence.\n"
     ]
    },
    {
     "name": "stdout",
     "output_type": "stream",
     "text": [
      "400 1970\n"
     ]
    },
    {
     "name": "stderr",
     "output_type": "stream",
     "text": [
      "/Users/gbrammer/miniconda3/envs/grizli37/lib/python3.7/site-packages/ipykernel_launcher.py:47: UserWarning: linestyle is redundantly defined by the 'linestyle' keyword argument and the fmt string \"s-\" (-> linestyle='-'). The keyword argument will take precedence.\n",
      "/Users/gbrammer/miniconda3/envs/grizli37/lib/python3.7/site-packages/ipykernel_launcher.py:47: UserWarning: linestyle is redundantly defined by the 'linestyle' keyword argument and the fmt string \"s-\" (-> linestyle='-'). The keyword argument will take precedence.\n",
      "/Users/gbrammer/miniconda3/envs/grizli37/lib/python3.7/site-packages/ipykernel_launcher.py:47: UserWarning: linestyle is redundantly defined by the 'linestyle' keyword argument and the fmt string \"s-\" (-> linestyle='-'). The keyword argument will take precedence.\n",
      "/Users/gbrammer/miniconda3/envs/grizli37/lib/python3.7/site-packages/ipykernel_launcher.py:47: UserWarning: linestyle is redundantly defined by the 'linestyle' keyword argument and the fmt string \"s-\" (-> linestyle='-'). The keyword argument will take precedence.\n"
     ]
    },
    {
     "name": "stdout",
     "output_type": "stream",
     "text": [
      "401 1983\n"
     ]
    },
    {
     "name": "stderr",
     "output_type": "stream",
     "text": [
      "/Users/gbrammer/miniconda3/envs/grizli37/lib/python3.7/site-packages/ipykernel_launcher.py:47: UserWarning: linestyle is redundantly defined by the 'linestyle' keyword argument and the fmt string \"s-\" (-> linestyle='-'). The keyword argument will take precedence.\n",
      "/Users/gbrammer/miniconda3/envs/grizli37/lib/python3.7/site-packages/ipykernel_launcher.py:47: UserWarning: linestyle is redundantly defined by the 'linestyle' keyword argument and the fmt string \"s-\" (-> linestyle='-'). The keyword argument will take precedence.\n"
     ]
    },
    {
     "name": "stdout",
     "output_type": "stream",
     "text": [
      "402 2004\n"
     ]
    },
    {
     "name": "stderr",
     "output_type": "stream",
     "text": [
      "/Users/gbrammer/miniconda3/envs/grizli37/lib/python3.7/site-packages/ipykernel_launcher.py:47: UserWarning: linestyle is redundantly defined by the 'linestyle' keyword argument and the fmt string \"s-\" (-> linestyle='-'). The keyword argument will take precedence.\n",
      "/Users/gbrammer/miniconda3/envs/grizli37/lib/python3.7/site-packages/ipykernel_launcher.py:47: UserWarning: linestyle is redundantly defined by the 'linestyle' keyword argument and the fmt string \"s-\" (-> linestyle='-'). The keyword argument will take precedence.\n"
     ]
    },
    {
     "name": "stdout",
     "output_type": "stream",
     "text": [
      "403 2016\n"
     ]
    },
    {
     "name": "stderr",
     "output_type": "stream",
     "text": [
      "/Users/gbrammer/miniconda3/envs/grizli37/lib/python3.7/site-packages/ipykernel_launcher.py:47: UserWarning: linestyle is redundantly defined by the 'linestyle' keyword argument and the fmt string \"s-\" (-> linestyle='-'). The keyword argument will take precedence.\n",
      "/Users/gbrammer/miniconda3/envs/grizli37/lib/python3.7/site-packages/ipykernel_launcher.py:47: UserWarning: linestyle is redundantly defined by the 'linestyle' keyword argument and the fmt string \"s-\" (-> linestyle='-'). The keyword argument will take precedence.\n",
      "/Users/gbrammer/miniconda3/envs/grizli37/lib/python3.7/site-packages/ipykernel_launcher.py:47: UserWarning: linestyle is redundantly defined by the 'linestyle' keyword argument and the fmt string \"s-\" (-> linestyle='-'). The keyword argument will take precedence.\n",
      "/Users/gbrammer/miniconda3/envs/grizli37/lib/python3.7/site-packages/ipykernel_launcher.py:47: UserWarning: linestyle is redundantly defined by the 'linestyle' keyword argument and the fmt string \"s-\" (-> linestyle='-'). The keyword argument will take precedence.\n",
      "/Users/gbrammer/miniconda3/envs/grizli37/lib/python3.7/site-packages/ipykernel_launcher.py:47: UserWarning: linestyle is redundantly defined by the 'linestyle' keyword argument and the fmt string \"s-\" (-> linestyle='-'). The keyword argument will take precedence.\n",
      "/Users/gbrammer/miniconda3/envs/grizli37/lib/python3.7/site-packages/ipykernel_launcher.py:47: UserWarning: linestyle is redundantly defined by the 'linestyle' keyword argument and the fmt string \"s-\" (-> linestyle='-'). The keyword argument will take precedence.\n",
      "/Users/gbrammer/miniconda3/envs/grizli37/lib/python3.7/site-packages/ipykernel_launcher.py:47: UserWarning: linestyle is redundantly defined by the 'linestyle' keyword argument and the fmt string \"s-\" (-> linestyle='-'). The keyword argument will take precedence.\n",
      "/Users/gbrammer/miniconda3/envs/grizli37/lib/python3.7/site-packages/ipykernel_launcher.py:47: UserWarning: linestyle is redundantly defined by the 'linestyle' keyword argument and the fmt string \"s-\" (-> linestyle='-'). The keyword argument will take precedence.\n",
      "/Users/gbrammer/miniconda3/envs/grizli37/lib/python3.7/site-packages/ipykernel_launcher.py:47: UserWarning: linestyle is redundantly defined by the 'linestyle' keyword argument and the fmt string \"s-\" (-> linestyle='-'). The keyword argument will take precedence.\n",
      "/Users/gbrammer/miniconda3/envs/grizli37/lib/python3.7/site-packages/ipykernel_launcher.py:47: UserWarning: linestyle is redundantly defined by the 'linestyle' keyword argument and the fmt string \"s-\" (-> linestyle='-'). The keyword argument will take precedence.\n",
      "/Users/gbrammer/miniconda3/envs/grizli37/lib/python3.7/site-packages/ipykernel_launcher.py:47: UserWarning: linestyle is redundantly defined by the 'linestyle' keyword argument and the fmt string \"s-\" (-> linestyle='-'). The keyword argument will take precedence.\n",
      "/Users/gbrammer/miniconda3/envs/grizli37/lib/python3.7/site-packages/ipykernel_launcher.py:47: UserWarning: linestyle is redundantly defined by the 'linestyle' keyword argument and the fmt string \"s-\" (-> linestyle='-'). The keyword argument will take precedence.\n",
      "/Users/gbrammer/miniconda3/envs/grizli37/lib/python3.7/site-packages/ipykernel_launcher.py:47: UserWarning: linestyle is redundantly defined by the 'linestyle' keyword argument and the fmt string \"s-\" (-> linestyle='-'). The keyword argument will take precedence.\n",
      "/Users/gbrammer/miniconda3/envs/grizli37/lib/python3.7/site-packages/ipykernel_launcher.py:47: UserWarning: linestyle is redundantly defined by the 'linestyle' keyword argument and the fmt string \"s-\" (-> linestyle='-'). The keyword argument will take precedence.\n",
      "/Users/gbrammer/miniconda3/envs/grizli37/lib/python3.7/site-packages/ipykernel_launcher.py:47: UserWarning: linestyle is redundantly defined by the 'linestyle' keyword argument and the fmt string \"s-\" (-> linestyle='-'). The keyword argument will take precedence.\n",
      "/Users/gbrammer/miniconda3/envs/grizli37/lib/python3.7/site-packages/ipykernel_launcher.py:47: UserWarning: linestyle is redundantly defined by the 'linestyle' keyword argument and the fmt string \"s-\" (-> linestyle='-'). The keyword argument will take precedence.\n",
      "/Users/gbrammer/miniconda3/envs/grizli37/lib/python3.7/site-packages/ipykernel_launcher.py:47: UserWarning: linestyle is redundantly defined by the 'linestyle' keyword argument and the fmt string \"s-\" (-> linestyle='-'). The keyword argument will take precedence.\n",
      "/Users/gbrammer/miniconda3/envs/grizli37/lib/python3.7/site-packages/ipykernel_launcher.py:47: UserWarning: linestyle is redundantly defined by the 'linestyle' keyword argument and the fmt string \"s-\" (-> linestyle='-'). The keyword argument will take precedence.\n",
      "/Users/gbrammer/miniconda3/envs/grizli37/lib/python3.7/site-packages/ipykernel_launcher.py:47: UserWarning: linestyle is redundantly defined by the 'linestyle' keyword argument and the fmt string \"s-\" (-> linestyle='-'). The keyword argument will take precedence.\n"
     ]
    },
    {
     "name": "stdout",
     "output_type": "stream",
     "text": [
      "404 2028\n"
     ]
    },
    {
     "name": "stderr",
     "output_type": "stream",
     "text": [
      "/Users/gbrammer/miniconda3/envs/grizli37/lib/python3.7/site-packages/ipykernel_launcher.py:47: UserWarning: linestyle is redundantly defined by the 'linestyle' keyword argument and the fmt string \"s-\" (-> linestyle='-'). The keyword argument will take precedence.\n",
      "/Users/gbrammer/miniconda3/envs/grizli37/lib/python3.7/site-packages/ipykernel_launcher.py:47: UserWarning: linestyle is redundantly defined by the 'linestyle' keyword argument and the fmt string \"s-\" (-> linestyle='-'). The keyword argument will take precedence.\n",
      "/Users/gbrammer/miniconda3/envs/grizli37/lib/python3.7/site-packages/ipykernel_launcher.py:47: UserWarning: linestyle is redundantly defined by the 'linestyle' keyword argument and the fmt string \"s-\" (-> linestyle='-'). The keyword argument will take precedence.\n"
     ]
    },
    {
     "name": "stdout",
     "output_type": "stream",
     "text": [
      "405 2057\n"
     ]
    },
    {
     "name": "stderr",
     "output_type": "stream",
     "text": [
      "/Users/gbrammer/miniconda3/envs/grizli37/lib/python3.7/site-packages/ipykernel_launcher.py:47: UserWarning: linestyle is redundantly defined by the 'linestyle' keyword argument and the fmt string \"s-\" (-> linestyle='-'). The keyword argument will take precedence.\n",
      "/Users/gbrammer/miniconda3/envs/grizli37/lib/python3.7/site-packages/ipykernel_launcher.py:47: UserWarning: linestyle is redundantly defined by the 'linestyle' keyword argument and the fmt string \"s-\" (-> linestyle='-'). The keyword argument will take precedence.\n",
      "/Users/gbrammer/miniconda3/envs/grizli37/lib/python3.7/site-packages/ipykernel_launcher.py:47: UserWarning: linestyle is redundantly defined by the 'linestyle' keyword argument and the fmt string \"s-\" (-> linestyle='-'). The keyword argument will take precedence.\n",
      "/Users/gbrammer/miniconda3/envs/grizli37/lib/python3.7/site-packages/ipykernel_launcher.py:47: UserWarning: linestyle is redundantly defined by the 'linestyle' keyword argument and the fmt string \"s-\" (-> linestyle='-'). The keyword argument will take precedence.\n",
      "/Users/gbrammer/miniconda3/envs/grizli37/lib/python3.7/site-packages/ipykernel_launcher.py:47: UserWarning: linestyle is redundantly defined by the 'linestyle' keyword argument and the fmt string \"s-\" (-> linestyle='-'). The keyword argument will take precedence.\n",
      "/Users/gbrammer/miniconda3/envs/grizli37/lib/python3.7/site-packages/ipykernel_launcher.py:47: UserWarning: linestyle is redundantly defined by the 'linestyle' keyword argument and the fmt string \"s-\" (-> linestyle='-'). The keyword argument will take precedence.\n",
      "/Users/gbrammer/miniconda3/envs/grizli37/lib/python3.7/site-packages/ipykernel_launcher.py:47: UserWarning: linestyle is redundantly defined by the 'linestyle' keyword argument and the fmt string \"s-\" (-> linestyle='-'). The keyword argument will take precedence.\n",
      "/Users/gbrammer/miniconda3/envs/grizli37/lib/python3.7/site-packages/ipykernel_launcher.py:47: UserWarning: linestyle is redundantly defined by the 'linestyle' keyword argument and the fmt string \"s-\" (-> linestyle='-'). The keyword argument will take precedence.\n",
      "/Users/gbrammer/miniconda3/envs/grizli37/lib/python3.7/site-packages/ipykernel_launcher.py:47: UserWarning: linestyle is redundantly defined by the 'linestyle' keyword argument and the fmt string \"s-\" (-> linestyle='-'). The keyword argument will take precedence.\n",
      "/Users/gbrammer/miniconda3/envs/grizli37/lib/python3.7/site-packages/ipykernel_launcher.py:47: UserWarning: linestyle is redundantly defined by the 'linestyle' keyword argument and the fmt string \"s-\" (-> linestyle='-'). The keyword argument will take precedence.\n",
      "/Users/gbrammer/miniconda3/envs/grizli37/lib/python3.7/site-packages/ipykernel_launcher.py:47: UserWarning: linestyle is redundantly defined by the 'linestyle' keyword argument and the fmt string \"s-\" (-> linestyle='-'). The keyword argument will take precedence.\n",
      "/Users/gbrammer/miniconda3/envs/grizli37/lib/python3.7/site-packages/ipykernel_launcher.py:47: UserWarning: linestyle is redundantly defined by the 'linestyle' keyword argument and the fmt string \"s-\" (-> linestyle='-'). The keyword argument will take precedence.\n",
      "/Users/gbrammer/miniconda3/envs/grizli37/lib/python3.7/site-packages/ipykernel_launcher.py:47: UserWarning: linestyle is redundantly defined by the 'linestyle' keyword argument and the fmt string \"s-\" (-> linestyle='-'). The keyword argument will take precedence.\n",
      "/Users/gbrammer/miniconda3/envs/grizli37/lib/python3.7/site-packages/ipykernel_launcher.py:47: UserWarning: linestyle is redundantly defined by the 'linestyle' keyword argument and the fmt string \"s-\" (-> linestyle='-'). The keyword argument will take precedence.\n",
      "/Users/gbrammer/miniconda3/envs/grizli37/lib/python3.7/site-packages/ipykernel_launcher.py:47: UserWarning: linestyle is redundantly defined by the 'linestyle' keyword argument and the fmt string \"s-\" (-> linestyle='-'). The keyword argument will take precedence.\n",
      "/Users/gbrammer/miniconda3/envs/grizli37/lib/python3.7/site-packages/ipykernel_launcher.py:47: UserWarning: linestyle is redundantly defined by the 'linestyle' keyword argument and the fmt string \"s-\" (-> linestyle='-'). The keyword argument will take precedence.\n",
      "/Users/gbrammer/miniconda3/envs/grizli37/lib/python3.7/site-packages/ipykernel_launcher.py:47: UserWarning: linestyle is redundantly defined by the 'linestyle' keyword argument and the fmt string \"s-\" (-> linestyle='-'). The keyword argument will take precedence.\n",
      "/Users/gbrammer/miniconda3/envs/grizli37/lib/python3.7/site-packages/ipykernel_launcher.py:47: UserWarning: linestyle is redundantly defined by the 'linestyle' keyword argument and the fmt string \"s-\" (-> linestyle='-'). The keyword argument will take precedence.\n",
      "/Users/gbrammer/miniconda3/envs/grizli37/lib/python3.7/site-packages/ipykernel_launcher.py:47: UserWarning: linestyle is redundantly defined by the 'linestyle' keyword argument and the fmt string \"s-\" (-> linestyle='-'). The keyword argument will take precedence.\n",
      "/Users/gbrammer/miniconda3/envs/grizli37/lib/python3.7/site-packages/ipykernel_launcher.py:47: UserWarning: linestyle is redundantly defined by the 'linestyle' keyword argument and the fmt string \"s-\" (-> linestyle='-'). The keyword argument will take precedence.\n"
     ]
    },
    {
     "name": "stdout",
     "output_type": "stream",
     "text": [
      "406 2064\n"
     ]
    },
    {
     "name": "stderr",
     "output_type": "stream",
     "text": [
      "/Users/gbrammer/miniconda3/envs/grizli37/lib/python3.7/site-packages/ipykernel_launcher.py:47: UserWarning: linestyle is redundantly defined by the 'linestyle' keyword argument and the fmt string \"s-\" (-> linestyle='-'). The keyword argument will take precedence.\n",
      "/Users/gbrammer/miniconda3/envs/grizli37/lib/python3.7/site-packages/ipykernel_launcher.py:47: UserWarning: linestyle is redundantly defined by the 'linestyle' keyword argument and the fmt string \"s-\" (-> linestyle='-'). The keyword argument will take precedence.\n",
      "/Users/gbrammer/miniconda3/envs/grizli37/lib/python3.7/site-packages/ipykernel_launcher.py:47: UserWarning: linestyle is redundantly defined by the 'linestyle' keyword argument and the fmt string \"s-\" (-> linestyle='-'). The keyword argument will take precedence.\n",
      "/Users/gbrammer/miniconda3/envs/grizli37/lib/python3.7/site-packages/ipykernel_launcher.py:47: UserWarning: linestyle is redundantly defined by the 'linestyle' keyword argument and the fmt string \"s-\" (-> linestyle='-'). The keyword argument will take precedence.\n",
      "/Users/gbrammer/miniconda3/envs/grizli37/lib/python3.7/site-packages/ipykernel_launcher.py:47: UserWarning: linestyle is redundantly defined by the 'linestyle' keyword argument and the fmt string \"s-\" (-> linestyle='-'). The keyword argument will take precedence.\n",
      "/Users/gbrammer/miniconda3/envs/grizli37/lib/python3.7/site-packages/ipykernel_launcher.py:47: UserWarning: linestyle is redundantly defined by the 'linestyle' keyword argument and the fmt string \"s-\" (-> linestyle='-'). The keyword argument will take precedence.\n",
      "/Users/gbrammer/miniconda3/envs/grizli37/lib/python3.7/site-packages/ipykernel_launcher.py:47: UserWarning: linestyle is redundantly defined by the 'linestyle' keyword argument and the fmt string \"s-\" (-> linestyle='-'). The keyword argument will take precedence.\n",
      "/Users/gbrammer/miniconda3/envs/grizli37/lib/python3.7/site-packages/ipykernel_launcher.py:47: UserWarning: linestyle is redundantly defined by the 'linestyle' keyword argument and the fmt string \"s-\" (-> linestyle='-'). The keyword argument will take precedence.\n",
      "/Users/gbrammer/miniconda3/envs/grizli37/lib/python3.7/site-packages/ipykernel_launcher.py:47: UserWarning: linestyle is redundantly defined by the 'linestyle' keyword argument and the fmt string \"s-\" (-> linestyle='-'). The keyword argument will take precedence.\n",
      "/Users/gbrammer/miniconda3/envs/grizli37/lib/python3.7/site-packages/ipykernel_launcher.py:47: UserWarning: linestyle is redundantly defined by the 'linestyle' keyword argument and the fmt string \"s-\" (-> linestyle='-'). The keyword argument will take precedence.\n",
      "/Users/gbrammer/miniconda3/envs/grizli37/lib/python3.7/site-packages/ipykernel_launcher.py:47: UserWarning: linestyle is redundantly defined by the 'linestyle' keyword argument and the fmt string \"s-\" (-> linestyle='-'). The keyword argument will take precedence.\n",
      "/Users/gbrammer/miniconda3/envs/grizli37/lib/python3.7/site-packages/ipykernel_launcher.py:47: UserWarning: linestyle is redundantly defined by the 'linestyle' keyword argument and the fmt string \"s-\" (-> linestyle='-'). The keyword argument will take precedence.\n",
      "/Users/gbrammer/miniconda3/envs/grizli37/lib/python3.7/site-packages/ipykernel_launcher.py:47: UserWarning: linestyle is redundantly defined by the 'linestyle' keyword argument and the fmt string \"s-\" (-> linestyle='-'). The keyword argument will take precedence.\n",
      "/Users/gbrammer/miniconda3/envs/grizli37/lib/python3.7/site-packages/ipykernel_launcher.py:47: UserWarning: linestyle is redundantly defined by the 'linestyle' keyword argument and the fmt string \"s-\" (-> linestyle='-'). The keyword argument will take precedence.\n",
      "/Users/gbrammer/miniconda3/envs/grizli37/lib/python3.7/site-packages/ipykernel_launcher.py:47: UserWarning: linestyle is redundantly defined by the 'linestyle' keyword argument and the fmt string \"s-\" (-> linestyle='-'). The keyword argument will take precedence.\n",
      "/Users/gbrammer/miniconda3/envs/grizli37/lib/python3.7/site-packages/ipykernel_launcher.py:47: UserWarning: linestyle is redundantly defined by the 'linestyle' keyword argument and the fmt string \"s-\" (-> linestyle='-'). The keyword argument will take precedence.\n"
     ]
    },
    {
     "name": "stdout",
     "output_type": "stream",
     "text": [
      "407 2075\n"
     ]
    },
    {
     "name": "stderr",
     "output_type": "stream",
     "text": [
      "/Users/gbrammer/miniconda3/envs/grizli37/lib/python3.7/site-packages/ipykernel_launcher.py:47: UserWarning: linestyle is redundantly defined by the 'linestyle' keyword argument and the fmt string \"s-\" (-> linestyle='-'). The keyword argument will take precedence.\n",
      "/Users/gbrammer/miniconda3/envs/grizli37/lib/python3.7/site-packages/ipykernel_launcher.py:47: UserWarning: linestyle is redundantly defined by the 'linestyle' keyword argument and the fmt string \"s-\" (-> linestyle='-'). The keyword argument will take precedence.\n",
      "/Users/gbrammer/miniconda3/envs/grizli37/lib/python3.7/site-packages/ipykernel_launcher.py:47: UserWarning: linestyle is redundantly defined by the 'linestyle' keyword argument and the fmt string \"s-\" (-> linestyle='-'). The keyword argument will take precedence.\n",
      "/Users/gbrammer/miniconda3/envs/grizli37/lib/python3.7/site-packages/ipykernel_launcher.py:47: UserWarning: linestyle is redundantly defined by the 'linestyle' keyword argument and the fmt string \"s-\" (-> linestyle='-'). The keyword argument will take precedence.\n",
      "/Users/gbrammer/miniconda3/envs/grizli37/lib/python3.7/site-packages/ipykernel_launcher.py:47: UserWarning: linestyle is redundantly defined by the 'linestyle' keyword argument and the fmt string \"s-\" (-> linestyle='-'). The keyword argument will take precedence.\n",
      "/Users/gbrammer/miniconda3/envs/grizli37/lib/python3.7/site-packages/ipykernel_launcher.py:47: UserWarning: linestyle is redundantly defined by the 'linestyle' keyword argument and the fmt string \"s-\" (-> linestyle='-'). The keyword argument will take precedence.\n",
      "/Users/gbrammer/miniconda3/envs/grizli37/lib/python3.7/site-packages/ipykernel_launcher.py:47: UserWarning: linestyle is redundantly defined by the 'linestyle' keyword argument and the fmt string \"s-\" (-> linestyle='-'). The keyword argument will take precedence.\n",
      "/Users/gbrammer/miniconda3/envs/grizli37/lib/python3.7/site-packages/ipykernel_launcher.py:47: UserWarning: linestyle is redundantly defined by the 'linestyle' keyword argument and the fmt string \"s-\" (-> linestyle='-'). The keyword argument will take precedence.\n",
      "/Users/gbrammer/miniconda3/envs/grizli37/lib/python3.7/site-packages/ipykernel_launcher.py:47: UserWarning: linestyle is redundantly defined by the 'linestyle' keyword argument and the fmt string \"s-\" (-> linestyle='-'). The keyword argument will take precedence.\n",
      "/Users/gbrammer/miniconda3/envs/grizli37/lib/python3.7/site-packages/ipykernel_launcher.py:47: UserWarning: linestyle is redundantly defined by the 'linestyle' keyword argument and the fmt string \"s-\" (-> linestyle='-'). The keyword argument will take precedence.\n",
      "/Users/gbrammer/miniconda3/envs/grizli37/lib/python3.7/site-packages/ipykernel_launcher.py:47: UserWarning: linestyle is redundantly defined by the 'linestyle' keyword argument and the fmt string \"s-\" (-> linestyle='-'). The keyword argument will take precedence.\n",
      "/Users/gbrammer/miniconda3/envs/grizli37/lib/python3.7/site-packages/ipykernel_launcher.py:47: UserWarning: linestyle is redundantly defined by the 'linestyle' keyword argument and the fmt string \"s-\" (-> linestyle='-'). The keyword argument will take precedence.\n"
     ]
    },
    {
     "name": "stdout",
     "output_type": "stream",
     "text": [
      "408 2080\n"
     ]
    },
    {
     "name": "stderr",
     "output_type": "stream",
     "text": [
      "/Users/gbrammer/miniconda3/envs/grizli37/lib/python3.7/site-packages/ipykernel_launcher.py:47: UserWarning: linestyle is redundantly defined by the 'linestyle' keyword argument and the fmt string \"s-\" (-> linestyle='-'). The keyword argument will take precedence.\n",
      "/Users/gbrammer/miniconda3/envs/grizli37/lib/python3.7/site-packages/ipykernel_launcher.py:47: UserWarning: linestyle is redundantly defined by the 'linestyle' keyword argument and the fmt string \"s-\" (-> linestyle='-'). The keyword argument will take precedence.\n",
      "/Users/gbrammer/miniconda3/envs/grizli37/lib/python3.7/site-packages/ipykernel_launcher.py:47: UserWarning: linestyle is redundantly defined by the 'linestyle' keyword argument and the fmt string \"s-\" (-> linestyle='-'). The keyword argument will take precedence.\n",
      "/Users/gbrammer/miniconda3/envs/grizli37/lib/python3.7/site-packages/ipykernel_launcher.py:47: UserWarning: linestyle is redundantly defined by the 'linestyle' keyword argument and the fmt string \"s-\" (-> linestyle='-'). The keyword argument will take precedence.\n",
      "/Users/gbrammer/miniconda3/envs/grizli37/lib/python3.7/site-packages/ipykernel_launcher.py:47: UserWarning: linestyle is redundantly defined by the 'linestyle' keyword argument and the fmt string \"s-\" (-> linestyle='-'). The keyword argument will take precedence.\n",
      "/Users/gbrammer/miniconda3/envs/grizli37/lib/python3.7/site-packages/ipykernel_launcher.py:47: UserWarning: linestyle is redundantly defined by the 'linestyle' keyword argument and the fmt string \"s-\" (-> linestyle='-'). The keyword argument will take precedence.\n",
      "/Users/gbrammer/miniconda3/envs/grizli37/lib/python3.7/site-packages/ipykernel_launcher.py:47: UserWarning: linestyle is redundantly defined by the 'linestyle' keyword argument and the fmt string \"s-\" (-> linestyle='-'). The keyword argument will take precedence.\n",
      "/Users/gbrammer/miniconda3/envs/grizli37/lib/python3.7/site-packages/ipykernel_launcher.py:47: UserWarning: linestyle is redundantly defined by the 'linestyle' keyword argument and the fmt string \"s-\" (-> linestyle='-'). The keyword argument will take precedence.\n",
      "/Users/gbrammer/miniconda3/envs/grizli37/lib/python3.7/site-packages/ipykernel_launcher.py:47: UserWarning: linestyle is redundantly defined by the 'linestyle' keyword argument and the fmt string \"s-\" (-> linestyle='-'). The keyword argument will take precedence.\n",
      "/Users/gbrammer/miniconda3/envs/grizli37/lib/python3.7/site-packages/ipykernel_launcher.py:47: UserWarning: linestyle is redundantly defined by the 'linestyle' keyword argument and the fmt string \"s-\" (-> linestyle='-'). The keyword argument will take precedence.\n",
      "/Users/gbrammer/miniconda3/envs/grizli37/lib/python3.7/site-packages/ipykernel_launcher.py:47: UserWarning: linestyle is redundantly defined by the 'linestyle' keyword argument and the fmt string \"s-\" (-> linestyle='-'). The keyword argument will take precedence.\n",
      "/Users/gbrammer/miniconda3/envs/grizli37/lib/python3.7/site-packages/ipykernel_launcher.py:47: UserWarning: linestyle is redundantly defined by the 'linestyle' keyword argument and the fmt string \"s-\" (-> linestyle='-'). The keyword argument will take precedence.\n",
      "/Users/gbrammer/miniconda3/envs/grizli37/lib/python3.7/site-packages/ipykernel_launcher.py:47: UserWarning: linestyle is redundantly defined by the 'linestyle' keyword argument and the fmt string \"s-\" (-> linestyle='-'). The keyword argument will take precedence.\n",
      "/Users/gbrammer/miniconda3/envs/grizli37/lib/python3.7/site-packages/ipykernel_launcher.py:47: UserWarning: linestyle is redundantly defined by the 'linestyle' keyword argument and the fmt string \"s-\" (-> linestyle='-'). The keyword argument will take precedence.\n",
      "/Users/gbrammer/miniconda3/envs/grizli37/lib/python3.7/site-packages/ipykernel_launcher.py:47: UserWarning: linestyle is redundantly defined by the 'linestyle' keyword argument and the fmt string \"s-\" (-> linestyle='-'). The keyword argument will take precedence.\n",
      "/Users/gbrammer/miniconda3/envs/grizli37/lib/python3.7/site-packages/ipykernel_launcher.py:47: UserWarning: linestyle is redundantly defined by the 'linestyle' keyword argument and the fmt string \"s-\" (-> linestyle='-'). The keyword argument will take precedence.\n",
      "/Users/gbrammer/miniconda3/envs/grizli37/lib/python3.7/site-packages/ipykernel_launcher.py:47: UserWarning: linestyle is redundantly defined by the 'linestyle' keyword argument and the fmt string \"s-\" (-> linestyle='-'). The keyword argument will take precedence.\n",
      "/Users/gbrammer/miniconda3/envs/grizli37/lib/python3.7/site-packages/ipykernel_launcher.py:47: UserWarning: linestyle is redundantly defined by the 'linestyle' keyword argument and the fmt string \"s-\" (-> linestyle='-'). The keyword argument will take precedence.\n",
      "/Users/gbrammer/miniconda3/envs/grizli37/lib/python3.7/site-packages/ipykernel_launcher.py:47: UserWarning: linestyle is redundantly defined by the 'linestyle' keyword argument and the fmt string \"s-\" (-> linestyle='-'). The keyword argument will take precedence.\n",
      "/Users/gbrammer/miniconda3/envs/grizli37/lib/python3.7/site-packages/ipykernel_launcher.py:47: UserWarning: linestyle is redundantly defined by the 'linestyle' keyword argument and the fmt string \"s-\" (-> linestyle='-'). The keyword argument will take precedence.\n",
      "/Users/gbrammer/miniconda3/envs/grizli37/lib/python3.7/site-packages/ipykernel_launcher.py:47: UserWarning: linestyle is redundantly defined by the 'linestyle' keyword argument and the fmt string \"s-\" (-> linestyle='-'). The keyword argument will take precedence.\n",
      "/Users/gbrammer/miniconda3/envs/grizli37/lib/python3.7/site-packages/ipykernel_launcher.py:47: UserWarning: linestyle is redundantly defined by the 'linestyle' keyword argument and the fmt string \"s-\" (-> linestyle='-'). The keyword argument will take precedence.\n",
      "/Users/gbrammer/miniconda3/envs/grizli37/lib/python3.7/site-packages/ipykernel_launcher.py:47: UserWarning: linestyle is redundantly defined by the 'linestyle' keyword argument and the fmt string \"s-\" (-> linestyle='-'). The keyword argument will take precedence.\n",
      "/Users/gbrammer/miniconda3/envs/grizli37/lib/python3.7/site-packages/ipykernel_launcher.py:47: UserWarning: linestyle is redundantly defined by the 'linestyle' keyword argument and the fmt string \"s-\" (-> linestyle='-'). The keyword argument will take precedence.\n",
      "/Users/gbrammer/miniconda3/envs/grizli37/lib/python3.7/site-packages/ipykernel_launcher.py:47: UserWarning: linestyle is redundantly defined by the 'linestyle' keyword argument and the fmt string \"s-\" (-> linestyle='-'). The keyword argument will take precedence.\n",
      "/Users/gbrammer/miniconda3/envs/grizli37/lib/python3.7/site-packages/ipykernel_launcher.py:47: UserWarning: linestyle is redundantly defined by the 'linestyle' keyword argument and the fmt string \"s-\" (-> linestyle='-'). The keyword argument will take precedence.\n",
      "/Users/gbrammer/miniconda3/envs/grizli37/lib/python3.7/site-packages/ipykernel_launcher.py:47: UserWarning: linestyle is redundantly defined by the 'linestyle' keyword argument and the fmt string \"s-\" (-> linestyle='-'). The keyword argument will take precedence.\n",
      "/Users/gbrammer/miniconda3/envs/grizli37/lib/python3.7/site-packages/ipykernel_launcher.py:47: UserWarning: linestyle is redundantly defined by the 'linestyle' keyword argument and the fmt string \"s-\" (-> linestyle='-'). The keyword argument will take precedence.\n",
      "/Users/gbrammer/miniconda3/envs/grizli37/lib/python3.7/site-packages/ipykernel_launcher.py:47: UserWarning: linestyle is redundantly defined by the 'linestyle' keyword argument and the fmt string \"s-\" (-> linestyle='-'). The keyword argument will take precedence.\n",
      "/Users/gbrammer/miniconda3/envs/grizli37/lib/python3.7/site-packages/ipykernel_launcher.py:47: UserWarning: linestyle is redundantly defined by the 'linestyle' keyword argument and the fmt string \"s-\" (-> linestyle='-'). The keyword argument will take precedence.\n",
      "/Users/gbrammer/miniconda3/envs/grizli37/lib/python3.7/site-packages/ipykernel_launcher.py:47: UserWarning: linestyle is redundantly defined by the 'linestyle' keyword argument and the fmt string \"s-\" (-> linestyle='-'). The keyword argument will take precedence.\n",
      "/Users/gbrammer/miniconda3/envs/grizli37/lib/python3.7/site-packages/ipykernel_launcher.py:47: UserWarning: linestyle is redundantly defined by the 'linestyle' keyword argument and the fmt string \"s-\" (-> linestyle='-'). The keyword argument will take precedence.\n",
      "/Users/gbrammer/miniconda3/envs/grizli37/lib/python3.7/site-packages/ipykernel_launcher.py:47: UserWarning: linestyle is redundantly defined by the 'linestyle' keyword argument and the fmt string \"s-\" (-> linestyle='-'). The keyword argument will take precedence.\n",
      "/Users/gbrammer/miniconda3/envs/grizli37/lib/python3.7/site-packages/ipykernel_launcher.py:47: UserWarning: linestyle is redundantly defined by the 'linestyle' keyword argument and the fmt string \"s-\" (-> linestyle='-'). The keyword argument will take precedence.\n"
     ]
    },
    {
     "name": "stderr",
     "output_type": "stream",
     "text": [
      "/Users/gbrammer/miniconda3/envs/grizli37/lib/python3.7/site-packages/ipykernel_launcher.py:47: UserWarning: linestyle is redundantly defined by the 'linestyle' keyword argument and the fmt string \"s-\" (-> linestyle='-'). The keyword argument will take precedence.\n",
      "/Users/gbrammer/miniconda3/envs/grizli37/lib/python3.7/site-packages/ipykernel_launcher.py:47: UserWarning: linestyle is redundantly defined by the 'linestyle' keyword argument and the fmt string \"s-\" (-> linestyle='-'). The keyword argument will take precedence.\n"
     ]
    },
    {
     "name": "stdout",
     "output_type": "stream",
     "text": [
      "409 2108\n",
      "Fail\n",
      "410 2177\n"
     ]
    },
    {
     "name": "stderr",
     "output_type": "stream",
     "text": [
      "/Users/gbrammer/miniconda3/envs/grizli37/lib/python3.7/site-packages/ipykernel_launcher.py:47: UserWarning: linestyle is redundantly defined by the 'linestyle' keyword argument and the fmt string \"s-\" (-> linestyle='-'). The keyword argument will take precedence.\n",
      "/Users/gbrammer/miniconda3/envs/grizli37/lib/python3.7/site-packages/ipykernel_launcher.py:47: UserWarning: linestyle is redundantly defined by the 'linestyle' keyword argument and the fmt string \"s-\" (-> linestyle='-'). The keyword argument will take precedence.\n",
      "/Users/gbrammer/miniconda3/envs/grizli37/lib/python3.7/site-packages/ipykernel_launcher.py:47: UserWarning: linestyle is redundantly defined by the 'linestyle' keyword argument and the fmt string \"s-\" (-> linestyle='-'). The keyword argument will take precedence.\n"
     ]
    },
    {
     "name": "stdout",
     "output_type": "stream",
     "text": [
      "411 2228\n"
     ]
    },
    {
     "name": "stderr",
     "output_type": "stream",
     "text": [
      "/Users/gbrammer/miniconda3/envs/grizli37/lib/python3.7/site-packages/ipykernel_launcher.py:47: UserWarning: linestyle is redundantly defined by the 'linestyle' keyword argument and the fmt string \"s-\" (-> linestyle='-'). The keyword argument will take precedence.\n"
     ]
    },
    {
     "name": "stdout",
     "output_type": "stream",
     "text": [
      "412 2235\n"
     ]
    },
    {
     "name": "stderr",
     "output_type": "stream",
     "text": [
      "/Users/gbrammer/miniconda3/envs/grizli37/lib/python3.7/site-packages/ipykernel_launcher.py:47: UserWarning: linestyle is redundantly defined by the 'linestyle' keyword argument and the fmt string \"s-\" (-> linestyle='-'). The keyword argument will take precedence.\n",
      "/Users/gbrammer/miniconda3/envs/grizli37/lib/python3.7/site-packages/ipykernel_launcher.py:47: UserWarning: linestyle is redundantly defined by the 'linestyle' keyword argument and the fmt string \"s-\" (-> linestyle='-'). The keyword argument will take precedence.\n"
     ]
    },
    {
     "name": "stdout",
     "output_type": "stream",
     "text": [
      "413 2249\n"
     ]
    },
    {
     "name": "stderr",
     "output_type": "stream",
     "text": [
      "/Users/gbrammer/miniconda3/envs/grizli37/lib/python3.7/site-packages/ipykernel_launcher.py:47: UserWarning: linestyle is redundantly defined by the 'linestyle' keyword argument and the fmt string \"s-\" (-> linestyle='-'). The keyword argument will take precedence.\n",
      "/Users/gbrammer/miniconda3/envs/grizli37/lib/python3.7/site-packages/ipykernel_launcher.py:47: UserWarning: linestyle is redundantly defined by the 'linestyle' keyword argument and the fmt string \"s-\" (-> linestyle='-'). The keyword argument will take precedence.\n"
     ]
    },
    {
     "name": "stdout",
     "output_type": "stream",
     "text": [
      "414 2446\n",
      "Fail\n",
      "415 2547\n"
     ]
    },
    {
     "name": "stderr",
     "output_type": "stream",
     "text": [
      "/Users/gbrammer/miniconda3/envs/grizli37/lib/python3.7/site-packages/ipykernel_launcher.py:47: UserWarning: linestyle is redundantly defined by the 'linestyle' keyword argument and the fmt string \"s-\" (-> linestyle='-'). The keyword argument will take precedence.\n",
      "/Users/gbrammer/miniconda3/envs/grizli37/lib/python3.7/site-packages/ipykernel_launcher.py:47: UserWarning: linestyle is redundantly defined by the 'linestyle' keyword argument and the fmt string \"s-\" (-> linestyle='-'). The keyword argument will take precedence.\n",
      "/Users/gbrammer/miniconda3/envs/grizli37/lib/python3.7/site-packages/ipykernel_launcher.py:47: UserWarning: linestyle is redundantly defined by the 'linestyle' keyword argument and the fmt string \"s-\" (-> linestyle='-'). The keyword argument will take precedence.\n"
     ]
    },
    {
     "name": "stdout",
     "output_type": "stream",
     "text": [
      "416 2554\n",
      "Fail\n",
      "417 2654\n"
     ]
    },
    {
     "name": "stderr",
     "output_type": "stream",
     "text": [
      "/Users/gbrammer/miniconda3/envs/grizli37/lib/python3.7/site-packages/ipykernel_launcher.py:47: UserWarning: linestyle is redundantly defined by the 'linestyle' keyword argument and the fmt string \"s-\" (-> linestyle='-'). The keyword argument will take precedence.\n",
      "/Users/gbrammer/miniconda3/envs/grizli37/lib/python3.7/site-packages/ipykernel_launcher.py:47: UserWarning: linestyle is redundantly defined by the 'linestyle' keyword argument and the fmt string \"s-\" (-> linestyle='-'). The keyword argument will take precedence.\n",
      "/Users/gbrammer/miniconda3/envs/grizli37/lib/python3.7/site-packages/ipykernel_launcher.py:47: UserWarning: linestyle is redundantly defined by the 'linestyle' keyword argument and the fmt string \"s-\" (-> linestyle='-'). The keyword argument will take precedence.\n",
      "/Users/gbrammer/miniconda3/envs/grizli37/lib/python3.7/site-packages/ipykernel_launcher.py:47: UserWarning: linestyle is redundantly defined by the 'linestyle' keyword argument and the fmt string \"s-\" (-> linestyle='-'). The keyword argument will take precedence.\n",
      "/Users/gbrammer/miniconda3/envs/grizli37/lib/python3.7/site-packages/ipykernel_launcher.py:47: UserWarning: linestyle is redundantly defined by the 'linestyle' keyword argument and the fmt string \"s-\" (-> linestyle='-'). The keyword argument will take precedence.\n",
      "/Users/gbrammer/miniconda3/envs/grizli37/lib/python3.7/site-packages/ipykernel_launcher.py:47: UserWarning: linestyle is redundantly defined by the 'linestyle' keyword argument and the fmt string \"s-\" (-> linestyle='-'). The keyword argument will take precedence.\n"
     ]
    },
    {
     "name": "stdout",
     "output_type": "stream",
     "text": [
      "418 2701\n"
     ]
    },
    {
     "name": "stderr",
     "output_type": "stream",
     "text": [
      "/Users/gbrammer/miniconda3/envs/grizli37/lib/python3.7/site-packages/ipykernel_launcher.py:47: UserWarning: linestyle is redundantly defined by the 'linestyle' keyword argument and the fmt string \"s-\" (-> linestyle='-'). The keyword argument will take precedence.\n"
     ]
    }
   ],
   "source": [
    "os.chdir('/Users/gbrammer/Research/JWST/LRP')\n",
    "names = ['type','proposal_id','title', 'pi', 'cycle', 'allocation', 'proptime',\n",
    "         'observation', 'visit', 'target', 'configuration', 'hours', \n",
    "         'win_start', 'win_end', 'timeline']\n",
    "\n",
    "# progs = [1963]\n",
    "\n",
    "for i, prog in enumerate(progs):\n",
    "    print(i, prog)\n",
    "    if prog in done:\n",
    "        continue\n",
    "    \n",
    "    try:\n",
    "        m = program_info(proposal_id=prog)\n",
    "    except IndexError:\n",
    "        failed.append(prog)\n",
    "        print('Fail')\n",
    "        continue\n",
    "    except TypeError:\n",
    "        failed.append(prog)\n",
    "        continue\n",
    "        \n",
    "    done.append(prog)\n",
    "    res[prog] = m\n",
    "    \n",
    "    for v in m['visit']:\n",
    "        try:\n",
    "            row, fig = show_window(v, m)  \n",
    "        except KeyError:\n",
    "            continue\n",
    "            \n",
    "        rows.append(row)\n",
    "    \n",
    "        plt.close('all')\n",
    "    "
   ]
  },
  {
   "cell_type": "code",
   "execution_count": 13,
   "id": "9a1b7402",
   "metadata": {},
   "outputs": [
    {
     "data": {
      "text/plain": [
       "[1195,\n",
       " 1255,\n",
       " 1977,\n",
       " 2232,\n",
       " 2509,\n",
       " 1721,\n",
       " 1883,\n",
       " 2354,\n",
       " 2410,\n",
       " 2687,\n",
       " 2608,\n",
       " 1585,\n",
       " 1598,\n",
       " 2037,\n",
       " 2524,\n",
       " 2537,\n",
       " 1557,\n",
       " 2074,\n",
       " 2352,\n",
       " 2108,\n",
       " 2446,\n",
       " 2554]"
      ]
     },
     "execution_count": 13,
     "metadata": {},
     "output_type": "execute_result"
    }
   ],
   "source": [
    "failed"
   ]
  },
  {
   "cell_type": "code",
   "execution_count": 35,
   "id": "dbf1c751",
   "metadata": {},
   "outputs": [],
   "source": [
    "tab = utils.GTable(rows=rows, names=names)\n",
    "# tab['timeline'] = [f'<img src=\"{t}.png\" />' for t in tab['timeline']]\n",
    "tab['proposal_id'] = [f'<a href=\"https://www.stsci.edu/cgi-bin/get-proposal-info?id={p}&observatory=JWST\">{p}</a>'\n",
    "                      for p, t in zip(tab['proposal_id'], tab['type'])]\n",
    "\n",
    "# tab['pi'] = [p.strip().split()[-1] for p in tab['pi']]\n",
    "\n",
    "prop = []\n",
    "for p in tab['proptime']:\n",
    "    if p > 0:\n",
    "        prop.append(f'<p style=\"color:red;\"> {p:.0f} </p>')\n",
    "    else:\n",
    "        prop.append(f'<p style=\"color:green;\"> {p:.0f} </p>')\n",
    "\n",
    "tab['proptime'] = prop\n",
    "\n",
    "targ = []\n",
    "for t in tab['target']:\n",
    "    if isinstance(t, list):\n",
    "        targ.append('; '.join(t))\n",
    "    else:\n",
    "        targ.append(t)\n",
    "        \n",
    "tab['target'] = targ\n",
    "\n",
    "tab.rename_column('proposal_id','ProgID')\n",
    "tab.rename_column('proptime','Prop')\n",
    "tab.rename_column('pi','PI')\n",
    "tab.rename_column('title','Full_Proposal_Title')\n",
    "tab.rename_column('allocation', 'Total')\n",
    "tab.rename_column('hours', 'Hours')\n",
    "\n",
    "tab['Prop'].description = 'Proprietary time, months'\n",
    "tab['Hours'].description = 'Visit duration'\n",
    "tab['Total'].description = 'Total program allocation, hours'\n",
    "tab['win_start'].description = 'Beginning of LRP scheduling window'\n",
    "tab['win_end'].description = 'End of LRP scheduling window'\n",
    "\n",
    "tab.rename_column('observation','Obs')\n",
    "                  \n",
    "tab.write_sortable_html('full_timeline.html', use_json=True, \n",
    "                        localhost=False, max_lines=10000, filter_columns=['Total', 'Prop','Hours','win_start','win_end'])\n",
    "\n",
    "with open('full_timeline.html') as fp:\n",
    "    lines = fp.readlines()\n",
    "#\n",
    "lines.insert(-3, f'<p style=\"font-size:x-small;\"> Generated {astropy.time.Time.now().iso} by {os.getlogin()} with <a href=\"./lrp-calendar.ipynb\">lrp-calendar.ipynb</a> </p>\\n')\n",
    "with open('full_timeline.html','w') as fp:\n",
    "    fp.writelines(lines)"
   ]
  },
  {
   "cell_type": "code",
   "execution_count": 26,
   "id": "908e2cc5",
   "metadata": {},
   "outputs": [
    {
     "data": {
      "text/plain": [
       "3720"
      ]
     },
     "execution_count": 26,
     "metadata": {},
     "output_type": "execute_result"
    }
   ],
   "source": [
    "len(tab)"
   ]
  },
  {
   "cell_type": "code",
   "execution_count": 23,
   "id": "9d1da9f0",
   "metadata": {},
   "outputs": [
    {
     "data": {
      "text/html": [
       "&lt;Column name=&apos;target&apos; dtype=&apos;object&apos; length=3720&gt;\n",
       "<table>\n",
       "<tr><td>ABELL2744</td></tr>\n",
       "<tr><td>ABEL2744CLS-V12</td></tr>\n",
       "<tr><td>NGC3256-NUC1-MRS</td></tr>\n",
       "<tr><td>NGC3256-NUC2-MRS</td></tr>\n",
       "<tr><td>NGC3256-BK</td></tr>\n",
       "<tr><td>NGC3256-CENTERED</td></tr>\n",
       "<tr><td>NGC3256-CENTERED</td></tr>\n",
       "<tr><td>NGC3256-NUC1</td></tr>\n",
       "<tr><td>NGC3256-NUC2</td></tr>\n",
       "<tr><td>NGC-7469-MRS</td></tr>\n",
       "<tr><td>NGC-7469-BK</td></tr>\n",
       "<tr><td>NGC-7469</td></tr>\n",
       "<tr><td>...</td></tr>\n",
       "<tr><td>J0038-0653</td></tr>\n",
       "<tr><td>J0038-0653</td></tr>\n",
       "<tr><td>[&apos;PDS456-MIRI&apos;, &apos;PDS456-TARGET-ACQUISITION&apos;]</td></tr>\n",
       "<tr><td>PDS456-MIRI-BACKGROUND</td></tr>\n",
       "<tr><td>[&apos;PDS456-NIRSPEC&apos;, &apos;PDS456-TARGET-ACQUISITION&apos;]</td></tr>\n",
       "<tr><td>SDSSJ0841-NIRSPEC</td></tr>\n",
       "<tr><td>SDSSJ0841-MIRI</td></tr>\n",
       "<tr><td>SDSSJ0841-BG</td></tr>\n",
       "<tr><td>SDSSJ0749-NIRSPEC</td></tr>\n",
       "<tr><td>SDSSJ0749-MIRI</td></tr>\n",
       "<tr><td>SDSSJ0749-BG</td></tr>\n",
       "<tr><td>2XMM-J100043.1+020637</td></tr>\n",
       "</table>"
      ],
      "text/plain": [
       "<Column name='target' dtype='object' length=3720>\n",
       "                                      ABELL2744\n",
       "                                ABEL2744CLS-V12\n",
       "                               NGC3256-NUC1-MRS\n",
       "                               NGC3256-NUC2-MRS\n",
       "                                     NGC3256-BK\n",
       "                               NGC3256-CENTERED\n",
       "                               NGC3256-CENTERED\n",
       "                                   NGC3256-NUC1\n",
       "                                   NGC3256-NUC2\n",
       "                                   NGC-7469-MRS\n",
       "                                    NGC-7469-BK\n",
       "                                       NGC-7469\n",
       "                                            ...\n",
       "                                     J0038-0653\n",
       "                                     J0038-0653\n",
       "   ['PDS456-MIRI', 'PDS456-TARGET-ACQUISITION']\n",
       "                         PDS456-MIRI-BACKGROUND\n",
       "['PDS456-NIRSPEC', 'PDS456-TARGET-ACQUISITION']\n",
       "                              SDSSJ0841-NIRSPEC\n",
       "                                 SDSSJ0841-MIRI\n",
       "                                   SDSSJ0841-BG\n",
       "                              SDSSJ0749-NIRSPEC\n",
       "                                 SDSSJ0749-MIRI\n",
       "                                   SDSSJ0749-BG\n",
       "                          2XMM-J100043.1+020637"
      ]
     },
     "execution_count": 23,
     "metadata": {},
     "output_type": "execute_result"
    }
   ],
   "source": [
    "tab['target']"
   ]
  },
  {
   "cell_type": "code",
   "execution_count": 25,
   "id": "c574ba9a",
   "metadata": {},
   "outputs": [
    {
     "data": {
      "text/plain": [
       "418"
      ]
     },
     "execution_count": 25,
     "metadata": {},
     "output_type": "execute_result"
    }
   ],
   "source": []
  },
  {
   "cell_type": "code",
   "execution_count": null,
   "id": "48651c13",
   "metadata": {},
   "outputs": [],
   "source": []
  }
 ],
 "metadata": {
  "kernelspec": {
   "display_name": "Python 3",
   "language": "python",
   "name": "python3"
  },
  "language_info": {
   "codemirror_mode": {
    "name": "ipython",
    "version": 3
   },
   "file_extension": ".py",
   "mimetype": "text/x-python",
   "name": "python",
   "nbconvert_exporter": "python",
   "pygments_lexer": "ipython3",
   "version": "3.7.10"
  },
  "toc": {
   "base_numbering": 1,
   "nav_menu": {},
   "number_sections": true,
   "sideBar": true,
   "skip_h1_title": false,
   "title_cell": "Table of Contents",
   "title_sidebar": "Contents",
   "toc_cell": true,
   "toc_position": {},
   "toc_section_display": true,
   "toc_window_display": true
  }
 },
 "nbformat": 4,
 "nbformat_minor": 5
}
